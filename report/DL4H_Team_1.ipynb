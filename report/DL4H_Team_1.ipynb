{
  "cells": [
    {
      "cell_type": "markdown",
      "metadata": {
        "id": "ypFTXiFx6OIM"
      },
      "source": [
        "# Basic Info\n",
        "\n",
        "## Team 1\n",
        "\n",
        "- Ted Hsu ([thhsu4@illinois.edu](mailto:thhsu4@illinois.edu))\n",
        "- Myles Iribarne ([mylesai2@illinois.edu](mailto:mylesai2@illinois.edu))\n",
        "- Daniel Xu ([dhxu2@illinois.edu](mailto:dhxu2@illinois.edu))\n",
        "\n",
        "## Paper\n",
        "\n",
        "Our paper is _Transfer learning for ECG classification_ by Weimann and Conrad <cite data-cite=\"Weimann:2021wz\">[1]</cite>. The project code is available on [Github](https://github.com/kweimann/ecg-transfer-learning/tree/master).\n",
        "\n",
        "## TODO Video\n",
        "\n",
        "Include a public link to your project video (Youtube/OneDrive/GDrive etc) at the top of the notebook.\n"
      ]
    },
    {
      "cell_type": "markdown",
      "metadata": {
        "id": "nJuXcjPJenPN"
      },
      "source": [
        "# Abstract\n",
        "\n",
        "This project replicates and extends a study on Atrial Fibrillation (AF) classification using ECG recordings <cite data-cite=\"Weimann:2021wz\">[1]</cite>. The original study transferred pre-training learnings from distinct tasks in the _Icentia11k_ dataset to enhance performance of the fine-tuned model trained on the _PhysioNet/CinC Challenge 2017_ dataset to detect AF. Our results successfully replicated the original study's findings using beat classification for the pre-training step, notably demonstrating tha effects that the quantity of pre-training data has on final model performance. Pre-training on just 1% of the icentia11k dataset increased the F1 score of the fine-tuned model by 0.063. The remaining 99% of data increased the F1 score by a further 0.008.\n",
        "\n",
        "We also explored an extension to the original method by integrating spectrogram feature preprocessing and a 2-D ResNet architecture, a shift from the original's 1-D convolutional approach. Our findings revealed that the 1-D model's pre-training advantages did extend to the 2-D model. The performance of the spectrogram-based models was equivalent to the 1-D model, and showed similar increase in performance when pre-training was applied."
      ]
    },
    {
      "cell_type": "markdown",
      "metadata": {
        "id": "MQ0sNuMePBXx"
      },
      "source": [
        "# Introduction\n",
        "## Background of the problem\n",
        "\n",
        "- **What type of problem**:\n",
        "\n",
        "  The problem is to classify Atrial Fibrillation (AF) on electrocardiogram (ECG) recordings.\n",
        "- **What is the importance/meaning of solving the problem**:\n",
        "\n",
        "  - A solution to the problem is a tool that will assist physicians in analyzing large amounts of patient ECG data in an automated and time efficient manner.\n",
        "  - Early detection of AF events may lead to better patient outcomes.\n",
        "  \n",
        "- **What is the difficulty of the problem**:\n",
        "\n",
        "  - Devices for recording patient ECG data are able to output a _huge_ amount of raw data. This is challenging and expensive to annotate for effective Deep Learning training.\n",
        "  - Large class imbalance due to cardiovascular events of interests being rare.\n",
        "  - Low ECG signal quality due to sampling frequency, single ECG lead probe.\n",
        "\n",
        "- **The state of the art methods**:\n",
        "\n",
        "  - Transfer learning using 1-D residual networks <cite data-cite=\"Kachuee:2018\">[2]</cite>\n",
        "  - Representation learning using encoder-decoder architectures\n",
        "    - Stacked Denoising AEs <cite data-cite=\"Rahhal:2016\">[3]</cite>\n",
        "    - Seq2Seq model <cite data-cite=\"Rajan:2019\">[4]</cite>\n",
        "\n",
        "## Paper Explanation\n",
        "- **What did the paper propose**:\n",
        "\n",
        "  - Use Transfer learning to build better ECG classifiers.\n",
        "  - Pre-train 1-D CNNs on the largest publicly available ECG dataset (_Icentia11k_) on several pre-training tasks:\n",
        "    - Beat Classification\n",
        "    - Rhythm Classification\n",
        "    - Heart Rate Classification\n",
        "    - Future Prediction\n",
        "  - Fine-tune the pre-trained 1-D CNNs on a _different_ task and a _different_ dataset (_PhysioNet/CinC Challenge 2017_): classify AF events.\n",
        "\n",
        "- **What is/are the innovations of the method**:\n",
        "\n",
        "  - Demonstration of successful large-scale pre-training of 1-D CNNs on the largest publicly available ECG dataset to date.\n",
        "  - Demonstration of contrastive pre-training (unsupervised representation learning) improving 1-D CNN performance on target task.\n",
        "  - Novel usage of heart rate classification task for pre-training. Note that in this task, the labels can be automatically generated without manual intervention.\n",
        "\n",
        "- **How well the proposed method work (in its own metrics)**:\n",
        "\n",
        "  - The paper provides AF classifier performance comparison among five different pre-training tasks configurations (Random initialization, Beat classification, Rhythm classification, Heart Rate classification, and Future Prediction).\n",
        "  \n",
        "    **Macro F1 score of the AF classifier on the PhysioNet 2017 test set is the performance metric.**\n",
        "  - The average macro F1 score of random initialization pre-training task is 0.731 over 10 trials. Average macro F1 scores reported by all proposed four pre-training tasks configurations range from 0.758 to 0.779 over 10 trials.\n",
        "\n",
        "- **What is the contribution to the research regime (referring the Background above, how important the paper is to the problem)**:\n",
        "\n",
        "  - Pre-training the 1-D CNN model improves the performance on the target task (i.e. AF classification), effectively reducing the number of labeled data required to achieve the same performance as 1-D CNNs that are not pre-trained.\n",
        "  - Unsupervised pre-training (i.e. future prediction) on ECG data is a viable method for improving the performance on the target task and will become more relevant, since labeling ECG data is expensive."
      ]
    },
    {
      "cell_type": "markdown",
      "metadata": {
        "id": "uygL9tTPSVHB"
      },
      "source": [
        "# Scope of Reproducibility\n",
        "\n",
        "## Hypothesis 1\n",
        "Pre-training 1-D CNN models with an extremely large dataset of relatively inexpensively labeled data can improve performance of classification based on a smaller set of labeled data with a different classification objective (i.e. AF).\n",
        "\n",
        "## Hypothesis 2\n",
        "The paper does not explore how significant the effects of the pre-training data size are on the final results. We expect the size of the pre-training dataset affects the performance of the target task (i.e. AF classification).\n",
        "\n",
        "\n",
        "## Verification\n",
        "We will verify the hypotheses by attempting to reproduce results for a specific model and the following hyperparameter combination with 1%, 10%, 20%, and 100% of the pre-training data used in the paper:\n",
        "\n",
        "- Model: 1-D ResNet-18v2\n",
        "- Pre-training Objective: Beat Classification\n",
        "- Frame Size: 4096 samples\n",
        "- Sample Rate: 250 Hz\n",
        "- Fine-tuning objective: Atrial Fibrillation\n",
        "\n",
        "Note that the data is at patient level, so the percentages will be applied to the total number of patients.\n",
        "\n",
        "The results will be compared with the performance of a randomly initialized ResNet-18v2.\n",
        "\n",
        "## Implementation\n",
        "\n",
        "The paper authors have provided their code online on Github. In our repo, we have forked their code and made small adjustments for convenience in our reproduction work. The code cells below will import modules from the paper authors' code. In this way, we are able to focus primarily on executing the experiments and analyzing the outcomes.\n"
      ]
    },
    {
      "cell_type": "markdown",
      "metadata": {
        "id": "Kp9UI34KwoXF"
      },
      "source": [
        "# Methodology"
      ]
    },
    {
      "cell_type": "markdown",
      "metadata": {
        "id": "xWAHJ_1CdtaA"
      },
      "source": [
        "## Environment\n",
        "\n",
        "First, we assume that this notebook is run in **Google Colab** with **Python 3.10**. It is highly recommended to have Colab Pro and select **V100** GPU or better. All results were generated using a V100 GPU with 16GB RAM, except for the ablation results. The ablation results were generated using L4 GPU with 22.5GB RAM.\n",
        "\n",
        "Below we prepare the environment with which the code in this notebook can run.\n",
        "\n",
        "First, we clone our project repo which is a fork of the original repo. Our repo also contains our modifications and our own original code."
      ]
    },
    {
      "cell_type": "code",
      "execution_count": 88,
      "metadata": {
        "id": "A8NXW2DxIsg5"
      },
      "outputs": [],
      "source": [
        "REPO = \"/tmp/repo\""
      ]
    },
    {
      "cell_type": "code",
      "execution_count": 89,
      "metadata": {
        "id": "Dy4eNoPBq4bB"
      },
      "outputs": [],
      "source": [
        "%%capture\n",
        "!git clone https://github.com/myles-i/DLH_TransferLearning.git {REPO}\n",
        "%cd {REPO}"
      ]
    },
    {
      "cell_type": "markdown",
      "metadata": {
        "id": "s_aEIGI34Kq6"
      },
      "source": [
        "Second, we install all of the dependencies specified in `requirements.txt`. This [link](https://github.com/myles-i/DLH_TransferLearning/blob/master/requirements.txt) lists the dependencies used."
      ]
    },
    {
      "cell_type": "code",
      "execution_count": 90,
      "metadata": {
        "colab": {
          "base_uri": "https://localhost:8080/"
        },
        "id": "GSHj-DAhsFKX",
        "outputId": "2a92b233-50b5-45dc-8202-8ad575119d98"
      },
      "outputs": [
        {
          "name": "stdout",
          "output_type": "stream",
          "text": [
            "CPU times: user 54.3 ms, sys: 22.6 ms, total: 76.9 ms\n",
            "Wall time: 6.06 s\n"
          ]
        }
      ],
      "source": [
        "%%time\n",
        "%%capture\n",
        "!pip install -r requirements.txt"
      ]
    },
    {
      "cell_type": "markdown",
      "metadata": {
        "id": "HK-bSyNxIsg8"
      },
      "source": [
        "Next, we prepare the directories for holding the data files we will use in later code cells of this notebook."
      ]
    },
    {
      "cell_type": "code",
      "execution_count": 91,
      "metadata": {
        "id": "75vXN5TtIsg8"
      },
      "outputs": [],
      "source": [
        "JOB_DIR = \"/tmp/jobs\"\n",
        "DATA_DIR = \"/tmp/data\"\n",
        "DEMO_DATA_DIR = DATA_DIR + \"/final_demo\""
      ]
    },
    {
      "cell_type": "code",
      "execution_count": 92,
      "metadata": {
        "id": "44V3e9TZ8QLw"
      },
      "outputs": [],
      "source": [
        "%%capture\n",
        "# Prepare local directories\n",
        "!mdkir -p {JOB_DIR}\n",
        "!mkdir -p {DATA_DIR}\n",
        "!mkdir -p {DEMO_DATA_DIR}"
      ]
    },
    {
      "cell_type": "markdown",
      "metadata": {
        "id": "EPpw2FDwCcJq"
      },
      "source": [
        "##  Data"
      ]
    },
    {
      "cell_type": "markdown",
      "metadata": {
        "id": "2NbPHUTMbkD3"
      },
      "source": [
        "### Pre-training Dataset\n",
        "The training data is the \"Icentia11k Single Lead Continuous Raw Electrocardiogram Dataset,\" which is freely available online <cite data-cite=\"Icentiadata\">[6]</cite><cite data-cite=\"Tan:2019icentia11k\">[7]</cite><cite data-cite=\"PhysioNet:2000\">[8]</cite>.\n",
        "\n"
      ]
    },
    {
      "cell_type": "markdown",
      "metadata": {
        "id": "OHMH-J8BPsud"
      },
      "source": [
        "#### Data Download Instructions\n",
        "\n",
        "Source of the data:\n",
        "\n",
        "- The data comes in two formats, and links to each format are provided below:\n",
        "  - [Raw](https://physionet.org/content/icentia11k-continuous-ecg/1.0/)\n",
        "  - [Compressed](https://academictorrents.com/details/af04abfe9a3c96b30e5dd029eb185e19a7055272)\n",
        "\n",
        "Download steps:\n",
        "\n",
        "- We utilize the _compressed_ data files rather than the raw files.\n",
        "- The process is demonstrated in this [notebook](https://github.com/myles-i/DLH_TransferLearning/blob/master/jupyter_notebooks/Download_Icentia11k_Data.ipynb) which we wrote and used to download the data. It uses the `libtorrent` library to download the compressed data.\n",
        "- The compressed data files are saved to an appropriately named sub-directory within the shared Google Drive directory stored in the `DATA_DIR` variable.\n"
      ]
    },
    {
      "cell_type": "markdown",
      "metadata": {
        "id": "EpbsRg5FPsud"
      },
      "source": [
        "#### Description\n",
        "\n",
        "Statistics:\n",
        "\n",
        "- 11,000 patients.\n",
        "- Using 4096 samples per patient, this is 4.5 million samples\n",
        "- Each patient has up to two weeks of ECG recordings with 250 Hz sampling rate.\n",
        "- Each ECG recording is accompanied with beat and rhythm labels marked by the ECG signal collection device and specialists, respectively.\n",
        "- Both beat and rhythm labels are assigned to positions in the signal at irregular intervals.\n",
        "- The original paper uses 95% of the patients for pre-training and the remaining 5% for validation."
      ]
    },
    {
      "cell_type": "markdown",
      "metadata": {
        "id": "NpokhyCvIsg9"
      },
      "source": [
        "#### Pre-processing Code and Command\n",
        "\n",
        "First we look at patient#0's data as an example. The data processing code is from the paper authors' [original code](https://github.com/kweimann/ecg-transfer-learning/blob/master/transplant/datasets/icentia11k.py).\n"
      ]
    },
    {
      "cell_type": "code",
      "execution_count": 93,
      "metadata": {
        "colab": {
          "base_uri": "https://localhost:8080/"
        },
        "id": "bx8Rw4kvh3_q",
        "outputId": "055e368a-96b0-4b62-8f46-1ed93d5427c5"
      },
      "outputs": [
        {
          "name": "stdout",
          "output_type": "stream",
          "text": [
            "CPU times: user 117 ms, sys: 39.9 ms, total: 157 ms\n",
            "Wall time: 15.6 s\n"
          ]
        }
      ],
      "source": [
        "# First download Patient#0 ECG signal and labels\n",
        "%%time\n",
        "%%capture\n",
        "# Patient#0 ECG signal\n",
        "!gdown 1hzq0iSICypZTIrJcyPfAR5mPrKS1Vev_ \\\n",
        "  -O {DEMO_DATA_DIR + '/00000_batched.npy'}\n",
        "# Patient#0 label\n",
        "!gdown 1vjBhJ_0w-bTn7jhnRPS3Bf3CsLpi7RuN \\\n",
        "  -O {DEMO_DATA_DIR + '/00000_batched_lbls.npz'}"
      ]
    },
    {
      "cell_type": "code",
      "execution_count": 94,
      "metadata": {
        "id": "cxRFlAV7vMvz"
      },
      "outputs": [],
      "source": [
        "from transplant.datasets import icentia11k\n",
        "\n",
        "(signal, labels) = icentia11k.load_patient_data(\n",
        "    DEMO_DATA_DIR, 0, include_labels=True, unzipped=True\n",
        ")"
      ]
    },
    {
      "cell_type": "markdown",
      "metadata": {
        "id": "c7Eep3g7vQPo"
      },
      "source": [
        "Each patient's data is loaded as a tuple of ECG signal and labels."
      ]
    },
    {
      "cell_type": "code",
      "execution_count": 95,
      "metadata": {
        "colab": {
          "base_uri": "https://localhost:8080/"
        },
        "id": "fBy61X1NvQ7h",
        "outputId": "3de968d3-7979-4c10-84a4-c70a37595b76"
      },
      "outputs": [
        {
          "name": "stdout",
          "output_type": "stream",
          "text": [
            "ECG signal is 2D numpy array with shape (50, 1048577).\n",
            "With 250 Hz sampling rate, the length of ECG signal is: 3495.26 minutes.\n"
          ]
        }
      ],
      "source": [
        "print(f\"ECG signal is 2D numpy array with shape {signal.shape}.\")\n",
        "print(\n",
        "    f\"With 250 Hz sampling rate, the length of ECG signal is:\"\n",
        "    f\" {signal.shape[0]*signal.shape[1]/250/60:.2f} minutes.\"\n",
        ")"
      ]
    },
    {
      "cell_type": "markdown",
      "metadata": {
        "id": "A1TeW-cOvYWF"
      },
      "source": [
        "Each patient is labeled with beat type and rythm type:"
      ]
    },
    {
      "cell_type": "code",
      "execution_count": 96,
      "metadata": {
        "colab": {
          "base_uri": "https://localhost:8080/"
        },
        "id": "w2NCKeKwvY17",
        "outputId": "74cd39c7-5adc-4a72-e81e-776114faa2df"
      },
      "outputs": [
        {
          "name": "stdout",
          "output_type": "stream",
          "text": [
            "dict_keys(['btype', 'rtype'])\n"
          ]
        }
      ],
      "source": [
        "print(f\"{labels.keys()}\")"
      ]
    },
    {
      "cell_type": "markdown",
      "metadata": {
        "id": "5HAqHDLavavk"
      },
      "source": [
        "The beat label in the Icentia11k dataset has 5 different values, as shown in the below code cell. The beat classification task is to classify beat type given a segment or a frame of an ECG signal. The paper experimented with frame sizes ranging from 2 to 60 seconds."
      ]
    },
    {
      "cell_type": "code",
      "execution_count": 97,
      "metadata": {
        "colab": {
          "base_uri": "https://localhost:8080/"
        },
        "id": "NTlXJqcPATdM",
        "outputId": "8bb9d76b-e16f-4963-9d64-f2dbba0df660"
      },
      "outputs": [
        {
          "name": "stdout",
          "output_type": "stream",
          "text": [
            "Beat labels: {0: 'undefined', 1: 'normal', 2: 'pac', 3: 'aberrated', 4: 'pvc'}\n"
          ]
        }
      ],
      "source": [
        "from pretraining import datasets\n",
        "\n",
        "print(f\"Beat labels: {datasets.icentia11k.ds_beat_names}\")"
      ]
    },
    {
      "cell_type": "markdown",
      "metadata": {
        "id": "ezLJXfpSvmDF"
      },
      "source": [
        "The dict key `btype`'s value is a list of 50 elements, each element is a lst and corresponds to a row of ECG signal array mentioned above. The list's first element is the column number of the ECG signal array, and the second element is the associated label at the ECG signal."
      ]
    },
    {
      "cell_type": "code",
      "execution_count": 98,
      "metadata": {
        "colab": {
          "base_uri": "https://localhost:8080/"
        },
        "id": "59DWqliyvqbc",
        "outputId": "26b8ff1f-493d-4d67-8c6e-11415f7cb4ec"
      },
      "outputs": [
        {
          "name": "stdout",
          "output_type": "stream",
          "text": [
            "patient #0's first beat label is: normal,\n",
            " at the first row and 28th column of the ECG signal array\n"
          ]
        }
      ],
      "source": [
        "print(\n",
        "    f\"patient #0's first beat label is:\"\n",
        "    f\" {icentia11k.ds_beat_names[labels['btype'][0][1][0]]},\"\n",
        ")\n",
        "print(\n",
        "    f\" at the first row and {labels['btype'][0][0][0]}th column\"\n",
        "    f\" of the ECG signal array\"\n",
        ")"
      ]
    },
    {
      "cell_type": "markdown",
      "metadata": {
        "id": "iCmYyjqAv3B1"
      },
      "source": [
        "For beat classification pre-training, a frame of continuous ECG signal is extracted from a patient. The beat type associated with the frame is determined by the most occurrence of pac/aberrated/pvc. If none of the three types occur in the frame, the beat type is the most common between normal/undefined. The following is a snippet of the original code to extract an ECG signal frame and an associated label from a patient's data."
      ]
    },
    {
      "cell_type": "code",
      "execution_count": 99,
      "metadata": {
        "colab": {
          "base_uri": "https://localhost:8080/"
        },
        "id": "3Z83YVyZv34b",
        "outputId": "6e37ddae-e275-4378-b2f9-504cd9a224e7"
      },
      "outputs": [
        {
          "name": "stdout",
          "output_type": "stream",
          "text": [
            "Data sample from patient #0:\n",
            "ECG signal segment=17, frame_start=45678, frame_end=49774\n",
            "Number of beat labels in the frame: 26\n",
            "- Undefined: 6\n",
            "- Normal: 20\n",
            "Final beat label of the data sample: normal\n"
          ]
        }
      ],
      "source": [
        "import numpy as np\n",
        "\n",
        "\n",
        "frame_size = 4096\n",
        "num_segments, segment_size = signal.shape\n",
        "patient_beat_labels = labels[\"btype\"]\n",
        "\n",
        "# original code: np.random.randint(num_segments)\n",
        "segment_index = 17\n",
        "# original code: np.random.randint(segment_size - frame_size)\n",
        "frame_start = 45678\n",
        "frame_end = frame_start + frame_size\n",
        "\n",
        "x = signal[segment_index, frame_start:frame_end]\n",
        "x = np.expand_dims(x, axis=1)  # add channel dimension\n",
        "\n",
        "# calculate the count of each beat type in the frame and determine the final\n",
        "# label\n",
        "beat_ends, beat_labels = patient_beat_labels[segment_index]\n",
        "_, frame_beat_labels = icentia11k.get_complete_beats(\n",
        "    beat_ends, beat_labels, frame_start, frame_end\n",
        ")\n",
        "y = icentia11k.get_beat_label(frame_beat_labels)\n",
        "\n",
        "print(\"Data sample from patient #0:\")\n",
        "print(\n",
        "    f\"ECG signal segment={segment_index}, frame_start={frame_start},\"\n",
        "    f\" frame_end={frame_end}\"\n",
        ")\n",
        "print(f\"Number of beat labels in the frame: {len(frame_beat_labels)}\")\n",
        "print(f\"- Undefined: {np.sum(frame_beat_labels == 0)}\")\n",
        "print(f\"- Normal: {np.sum(frame_beat_labels == 1)}\")\n",
        "print(\n",
        "    f\"Final beat label of the data sample: {icentia11k.ds_beat_names[y]}\"\n",
        ")"
      ]
    },
    {
      "cell_type": "markdown",
      "metadata": {
        "id": "04TPeBpfnKM5"
      },
      "source": [
        "#### Exploration and visualizations\n"
      ]
    },
    {
      "cell_type": "markdown",
      "metadata": {
        "id": "p77xKHR2D5RH"
      },
      "source": [
        "The original code includes a `beat_generator` as data generator for beat classification task. Below is example code to generate a training data sample from Patient#0 with an ECG signal frame size of 4096:"
      ]
    },
    {
      "cell_type": "code",
      "execution_count": 100,
      "metadata": {
        "id": "m_EiXVabnEHX"
      },
      "outputs": [],
      "source": [
        "from pretraining import datasets\n",
        "\n",
        "gen = datasets.beat_generator(\n",
        "    DEMO_DATA_DIR,\n",
        "    patient_ids=[0],  # Patient#0\n",
        "    frame_size=4096,  # a frame with 4096 continuous ECG signal\n",
        "    normalize=True,\n",
        "    unzipped=True,\n",
        "    samples_per_patient=1,\n",
        ")\n",
        "data = next(gen)"
      ]
    },
    {
      "cell_type": "markdown",
      "metadata": {
        "id": "juLweXRyBrc8"
      },
      "source": [
        "Each data sample is a tuple of ECG signal and beat label. With a frame size of 4096 and 250 Hz sampling rate, the length of this sample is around 16 seconds."
      ]
    },
    {
      "cell_type": "code",
      "execution_count": 101,
      "metadata": {
        "colab": {
          "base_uri": "https://localhost:8080/",
          "height": 466
        },
        "id": "lSiwFSY3BiyP",
        "outputId": "8a1b824e-a5f5-4029-e640-1a9a50a6237b"
      },
      "outputs": [
        {
          "name": "stdout",
          "output_type": "stream",
          "text": [
            "Beat label of the data sample: normal\n"
          ]
        },
        {
          "data": {
            "image/png": "[encoded data removed]",
            "text/plain": [
              "<Figure size 640x480 with 1 Axes>"
            ]
          },
          "metadata": {},
          "output_type": "display_data"
        }
      ],
      "source": [
        "from matplotlib import pyplot as plt\n",
        "import numpy as np\n",
        "\n",
        "print(\n",
        "    f\"Beat label of the data sample:\"\n",
        "    f\" {datasets.icentia11k.ds_beat_names[data[1]]}\"\n",
        ")\n",
        "_ = plt.plot(np.arange(len(data[0])) / 250, data[0])\n",
        "_ = plt.xlabel(\"second\")\n",
        "_ = plt.ylabel(\"ECG signal\")"
      ]
    },
    {
      "cell_type": "markdown",
      "metadata": {
        "id": "UPN95z3AFROy"
      },
      "source": [
        "The `beat_generator` is used to create a `tensorflow` `Dataset` object. The following code creates a `Dataset` that contains 2048 training data samples from Patient#0, each training data sample with frame size 2048.\n",
        "\n",
        "**Dataset generator code:**"
      ]
    },
    {
      "cell_type": "code",
      "execution_count": 102,
      "metadata": {
        "colab": {
          "base_uri": "https://localhost:8080/"
        },
        "id": "Wu-L3Kk07k3K",
        "outputId": "08e9746e-343e-44e5-b844-e891181d628a"
      },
      "outputs": [
        {
          "data": {
            "text/plain": [
              "(TensorSpec(shape=(2048, 1), dtype=tf.float32, name=None),\n",
              " TensorSpec(shape=(), dtype=tf.int32, name=None))"
            ]
          },
          "execution_count": 102,
          "metadata": {},
          "output_type": "execute_result"
        }
      ],
      "source": [
        "dataset = datasets.beat_dataset(\n",
        "    db_dir=DEMO_DATA_DIR,\n",
        "    patient_ids=[0],\n",
        "    frame_size=2048,\n",
        "    unzipped=True,\n",
        "    samples_per_patient=2048,\n",
        ")\n",
        "dataset.element_spec"
      ]
    },
    {
      "cell_type": "markdown",
      "metadata": {
        "id": "el2LBwvc-QDF"
      },
      "source": [
        "### Fine-tuning Dataset\n",
        "The fine-tuning dataset is the \"AF Classification from a Short Single Lead ECG Recording: The PhysioNet/Computing in Cardiology Challenge 2017\" and freely available online for download <cite data-cite=\"PhysioNet:2000\">[8]</cite><cite data-cite=\"Clifford:2017we\">[9]</cite>.\n",
        "\n"
      ]
    },
    {
      "cell_type": "markdown",
      "metadata": {
        "id": "oBlIZGXePsuh"
      },
      "source": [
        "#### Data Download Instructions\n",
        "\n",
        "Source of the data\n",
        "\n",
        "  - [Raw](https://physionet.org/content/challenge-2017/1.0.0/).\n",
        "\n",
        "Download instructions:\n",
        "\n",
        "- Simply do a direct download of the data from the PhysioNet website.\n",
        "- The `train2017.zip` file needs to be saved somewhere for subsequent pre-processing."
      ]
    },
    {
      "cell_type": "markdown",
      "metadata": {
        "id": "zXkaKL14Psui"
      },
      "source": [
        "#### Description\n",
        "\n",
        "Statistics\n",
        "\n",
        "- 8528 short ECG recordings.\n",
        "- Each ECG recording duration is 9 to 60 seconds with 300 Hz sampling rate.\n",
        "- Each ECG recording is labeled with one of the following classes: AF, Normal, Other or Noise (too noisy to classify)."
      ]
    },
    {
      "cell_type": "markdown",
      "metadata": {
        "id": "iUtibbUU8rW6"
      },
      "source": [
        "#### Pre-processing Code and Command\n",
        "\n",
        "A brief summary of the steps in pre-processing of the fine-tuning dataset:\n",
        "\n",
        "- Resampling to 250 Hz to match the sample rate of the pre-training dataset.\n",
        "- Padding records to 65 seconds.\n",
        "- Standardizing the data using mean and standard deviation computed on the entire dataset.\n",
        "\n",
        "The `get_challenge17_data` function ([source](https://github.com/myles-i/DLH_TransferLearning/blob/master/finetuning/datasets.py#L9)) in the authors' code both extracts and pre-processes the _PhysioNet 2017_ dataset. We split the data extraction and pre-processing steps and saved the extracted data. This lets us have the flexibility of pre-processing without data extraction in every run. The below cell demonstrates an example of data pre-processing."
      ]
    },
    {
      "cell_type": "code",
      "execution_count": 103,
      "metadata": {
        "colab": {
          "base_uri": "https://localhost:8080/"
        },
        "id": "3qoHsGKer-QD",
        "outputId": "e23a4d50-6dba-45d0-f31f-373410c2f5c2"
      },
      "outputs": [
        {
          "name": "stdout",
          "output_type": "stream",
          "text": [
            "CPU times: user 81 ms, sys: 37 ms, total: 118 ms\n",
            "Wall time: 8.69 s\n"
          ]
        }
      ],
      "source": [
        "%%time\n",
        "%%capture\n",
        "# Downloads the raw PhysioNet record and label pickles, the output of\n",
        "# extraction.\n",
        "!gdown 1lI7lTZltRj_zQtYM1UcidZnSAQilPJSg -O {DEMO_DATA_DIR} --folder"
      ]
    },
    {
      "cell_type": "markdown",
      "metadata": {
        "id": "WTJIyl-vncVH"
      },
      "source": [
        "Note that downloading the extracted data took less than 10 seconds. We experienced 45 minutes for the data extraction, thus splitting the original `get_challenge17_data` function made our fine-tuning data preparation much more efficient."
      ]
    },
    {
      "cell_type": "code",
      "execution_count": 104,
      "metadata": {
        "id": "iJAsRdJYvKkb"
      },
      "outputs": [],
      "source": [
        "import functools\n",
        "\n",
        "import numpy as np\n",
        "\n",
        "from finetuning import datasets\n",
        "from transplant.datasets import physionet\n",
        "\n",
        "\n",
        "def extract_challenge17_data(db_dir, verbose=False):\n",
        "    # This is the author's extraction code\n",
        "    records, labels = physionet.read_challenge17_data(db_dir, verbose=verbose)\n",
        "    return records, labels\n",
        "\n",
        "\n",
        "def process_extracted_challenge17_data(\n",
        "    records, labels, fs=None, pad=None, normalize=False, verbose=False\n",
        "):\n",
        "    \"\"\"\n",
        "    This is our code that performs pre-processing only.\n",
        "\n",
        "    Args:\n",
        "        records: See extract_challenge17_data.\n",
        "        labels: See extract_challenge17_data.\n",
        "        fs (int): Sampling rate.\n",
        "        pad (int): Length that each record should be padded to (or truncated)\n",
        "            pad / fs will give the approximate length in seconds.\n",
        "        normalize (bool): Whether to standardize the records using mean and s.d.\n",
        "            computed over the entire dataset. Note that the mean and s.d. have\n",
        "            already been provided by the authors.\n",
        "    \"\"\"\n",
        "    if normalize:\n",
        "        normalize = functools.partial(\n",
        "            physionet.normalize_challenge17, inplace=True\n",
        "        )\n",
        "    # This is the author's preprocessing code\n",
        "    data_set = datasets._prepare_data(\n",
        "        records,\n",
        "        labels,\n",
        "        normalize_fn=normalize,\n",
        "        fs=fs,\n",
        "        pad=pad,\n",
        "        verbose=verbose,\n",
        "    )\n",
        "    return data_set"
      ]
    },
    {
      "cell_type": "code",
      "execution_count": 105,
      "metadata": {
        "colab": {
          "base_uri": "https://localhost:8080/"
        },
        "id": "2gYQVm6et4IO",
        "outputId": "9566e60b-0d80-4f42-fa3b-93e9eb5662db"
      },
      "outputs": [
        {
          "name": "stderr",
          "output_type": "stream",
          "text": [
            "Resampling records: 100%|██████████| 8528/8528 [00:04<00:00, 2076.37it/s]\n"
          ]
        },
        {
          "name": "stdout",
          "output_type": "stream",
          "text": [
            "CPU times: user 7.34 s, sys: 1.1 s, total: 8.44 s\n",
            "Wall time: 8.39 s\n"
          ]
        }
      ],
      "source": [
        "%%time\n",
        "from transplant.utils import load_pkl\n",
        "\n",
        "records = load_pkl(f\"{DEMO_DATA_DIR}/records.pkl\")[\"data\"]\n",
        "labels = load_pkl(f\"{DEMO_DATA_DIR}/labels.pkl\")[\"data\"]\n",
        "physionet_data = process_extracted_challenge17_data(\n",
        "    records,\n",
        "    labels,\n",
        "    fs=250,\n",
        "    pad=16384,\n",
        "    normalize=True,\n",
        "    verbose=True,\n",
        ")"
      ]
    },
    {
      "cell_type": "markdown",
      "metadata": {
        "id": "GYtqI3SFytFQ"
      },
      "source": [
        "#### Exploration and Visualization\n",
        "\n",
        "Please note that the exploration is done on the data after pre-processing.\n",
        "\n",
        "Labels are in the form one-hot encoded arrays. The labels `A`, `N`, `O` and `~` represent AF, Normal, Other and Noise, respectively.\n",
        "\n",
        "The distribution of label values is shown below. Note that less than 10% of the data is labeled AF."
      ]
    },
    {
      "cell_type": "code",
      "execution_count": 106,
      "metadata": {
        "colab": {
          "base_uri": "https://localhost:8080/"
        },
        "id": "lOy9HElTwuuB",
        "outputId": "dd64bcfc-9480-4aae-f4b5-03b4a1adcfd8"
      },
      "outputs": [
        {
          "name": "stdout",
          "output_type": "stream",
          "text": [
            "Shape of the fine-tuning data labels: (8528, 4)\n"
          ]
        },
        {
          "data": {
            "text/plain": [
              "A  N  O  ~\n",
              "0  1  0  0    5050\n",
              "   0  1  0    2456\n",
              "1  0  0  0     738\n",
              "0  0  0  1     284\n",
              "Name: count, dtype: int64"
            ]
          },
          "execution_count": 106,
          "metadata": {},
          "output_type": "execute_result"
        }
      ],
      "source": [
        "print(f\"Shape of the fine-tuning data labels: {labels.shape}\")\n",
        "labels.value_counts()"
      ]
    },
    {
      "cell_type": "markdown",
      "metadata": {
        "id": "i32g3k71343l"
      },
      "source": [
        "The `_prepare_data()` function packs ECG signals (resampled and padded) and labels into a dictionary ready to be consumed by `train_test_split` in `sklearn`. To save data pre-processing time in the fine-tuning procedure, we split the pre-processed data (i.e. the `physionet_data` variable) into train and test sets and saved them in pickle form."
      ]
    },
    {
      "cell_type": "code",
      "execution_count": 107,
      "metadata": {
        "colab": {
          "base_uri": "https://localhost:8080/"
        },
        "id": "I9txJh5qvXwI",
        "outputId": "82f37882-eaf1-4380-e4f1-e26d150efbfe"
      },
      "outputs": [
        {
          "name": "stdout",
          "output_type": "stream",
          "text": [
            "PhysioNet data summary:\n",
            "Number of samples: 8528\n",
            "labels: ['A' 'N' 'O' '~']\n",
            "Dimensions of a sample: (16384, 1)\n"
          ]
        }
      ],
      "source": [
        "print(\"PhysioNet data summary:\")\n",
        "print(f'Number of samples: {len(physionet_data[\"x\"])}')\n",
        "print(f\"labels: {physionet_data['classes']}\")\n",
        "print(f'Dimensions of a sample: {physionet_data[\"x\"][0].shape}')"
      ]
    },
    {
      "cell_type": "code",
      "execution_count": 108,
      "metadata": {
        "colab": {
          "base_uri": "https://localhost:8080/",
          "height": 484
        },
        "id": "dkG_Bhzr2diK",
        "outputId": "68bf4b56-25e4-4ffa-e004-d4287205adb9"
      },
      "outputs": [
        {
          "name": "stdout",
          "output_type": "stream",
          "text": [
            "Record id: A00004\n",
            "One-hot encoded label: [1 0 0 0]\n"
          ]
        },
        {
          "data": {
            "image/png": "[encoded data removed]",
            "text/plain": [
              "<Figure size 640x480 with 1 Axes>"
            ]
          },
          "metadata": {},
          "output_type": "display_data"
        }
      ],
      "source": [
        "print(f'Record id: {physionet_data[\"record_ids\"][3]}')\n",
        "print(f'One-hot encoded label: {physionet_data[\"y\"][3]}')\n",
        "_ = plt.plot(\n",
        "    np.arange(physionet_data[\"x\"][3].shape[0]) / 250, physionet_data[\"x\"][3]\n",
        ")\n",
        "_ = plt.xlabel(\"Second\")\n",
        "_ = plt.ylabel(\"ECG Signal\")"
      ]
    },
    {
      "cell_type": "markdown",
      "metadata": {
        "id": "3muyDPFPbozY"
      },
      "source": [
        "## Model\n",
        "In this project, the CNN model of choice is ResNet-18v2. This was used in the original paper <cite data-cite=\"Weimann:2021wz\">[1]</cite>.\n",
        "\n",
        "[Link](https://github.com/kweimann/ecg-transfer-learning/blob/master/transplant/modules/resnet1d.py) to the original paper's model definition. This implementation code is also in our repo [here](https://github.com/myles-i/DLH_TransferLearning/blob/master/transplant/modules/resnet1d.py).\n",
        "\n",
        "The ResNet architecture is based on the original design by He et al <cite data-cite=\"he2016identity\">[10]</cite>.\n",
        "\n",
        "We show how to use the paper authors' code to create a 1-D ResNet-18v2 for beat classification in pre-training and AF classification in fine-tuning.\n",
        "\n",
        "* Model architecture\n",
        "  * 18 layers\n",
        "  * Input layer consists of convolution layer with 64 filters, kernel size=3 and stride=2. The output of the convolution layer passes through batch norm, ReLu and max-pooling layers sequentially.\n",
        "  * Output layer is a classifier consisting of a densely-connected layer followed by softmax function.\n",
        "  * The middle 16 layers consist of 8 residual blocks. A residual block consists of the following two components and outputs the sum of the two components' outputs.\n",
        "    1. Two convolution layers, each followed by batch norm and ReLu.\n",
        "    2. A shortcut that passes the input through a convolution layer followed by batch norm.\n",
        "  * Configurations of the residual blocks\n",
        "    * 1st and 2nd: 64 filters, kernel size=7, strides=2 and 1, respectively\n",
        "    * 3rd and 4th: 128 filters, kernel size=5, strides=2 and 1, respectively\n",
        "    * 5th and 6th: 256 filters, kernel size=5, strides=2 and 1, respectively\n",
        "    * 7th and 8th: 512 filters, kernel size=3, strides=2 and 1, respectively\n",
        "  * Detail of [implementation code here](https://github.com/myles-i/DLH_TransferLearning/blob/master/transplant/modules/resnet1d.py).\n",
        "* Pre-training objectives\n",
        "  * Loss function: [Sparse Categorical Cross Entropy](https://www.tensorflow.org/api_docs/python/tf/keras/losses/SparseCategoricalCrossentropy)\n",
        "    * `from_logits=True`\n",
        "    * All other parameters are set to their default values.\n",
        "  * Optimizer: [Adam](https://www.tensorflow.org/api_docs/python/tf/keras/optimizers/Adam)\n",
        "    * `learning_rate`: 0.001 (default)\n",
        "    * `beta_1`: 0.9\n",
        "    * `beta_2`: 0.98\n",
        "    * All other parameters are set to their default values.\n",
        "  * Metric: [Sparse Categorical Accuracy](https://www.tensorflow.org/api_docs/python/tf/keras/metrics/SparseCategoricalAccuracy)\n",
        "* Fine-tuning objectives\n",
        "  * Loss function: [Categorical Cross Entropy](https://www.tensorflow.org/api_docs/python/tf/keras/losses/CategoricalCrossentropy)\n",
        "    * All parameters are set to their default values.\n",
        "  * Optimizer: [Adam](https://www.tensorflow.org/api_docs/python/tf/keras/optimizers/Adam)\n",
        "    * `learning_rate`: 0.001 (default)\n",
        "    * All other parameters are set to their default values.\n",
        "  * Metrics:\n",
        "    * [Accuracy](https://www.tensorflow.org/api_docs/python/tf/keras/metrics/CategoricalAccuracy)\n",
        "    * Macro F1. See our `my_f1()` function below.\n",
        "\n",
        "\n",
        "Pre-trained model weights with patients 0-2047 of the _Icentia11k_ dataset (~20%) can be downloaded from Google Drive [here](https://drive.google.com/file/d/1-9hQzriOv6y6DUu_ND23lwqGo6zv78yv/view?usp=sharing).\n",
        "\n",
        "Pre-trained model weights we trained with all patients of the _Icentia11k_ dataset (100%) can be downloaded from Google Drive [here](https://drive.google.com/file/d/1-I6J8AEJaWiNI88LGQ5tjLOVMd-qbxdu/view?usp=sharing).\n"
      ]
    },
    {
      "cell_type": "markdown",
      "metadata": {
        "id": "4ifheiBfDhpu"
      },
      "source": [
        "### Pre-training Model Initialization and Summary\n",
        "Below we construct the pre-training ResNet-18v2 and show its structure.\n"
      ]
    },
    {
      "cell_type": "code",
      "execution_count": 109,
      "metadata": {
        "colab": {
          "base_uri": "https://localhost:8080/"
        },
        "id": "7_6BokS53jGA",
        "outputId": "041a1905-cbcc-4ed9-d5f0-adf3b9d33026"
      },
      "outputs": [
        {
          "name": "stdout",
          "output_type": "stream",
          "text": [
            "Model: \"sequential_4\"\n",
            "_________________________________________________________________\n",
            " Layer (type)                Output Shape              Param #   \n",
            "=================================================================\n",
            " sequential_3 (Sequential)   (None, 512)               4492480   \n",
            "|¯¯¯¯¯¯¯¯¯¯¯¯¯¯¯¯¯¯¯¯¯¯¯¯¯¯¯¯¯¯¯¯¯¯¯¯¯¯¯¯¯¯¯¯¯¯¯¯¯¯¯¯¯¯¯¯¯¯¯¯¯¯¯|\n",
            "| res_net_2 (ResNet)         (None, 64, 512)           4492480  |\n",
            "||¯¯¯¯¯¯¯¯¯¯¯¯¯¯¯¯¯¯¯¯¯¯¯¯¯¯¯¯¯¯¯¯¯¯¯¯¯¯¯¯¯¯¯¯¯¯¯¯¯¯¯¯¯¯¯¯¯¯¯¯¯||\n",
            "|| conv1d_2 (Conv1D)         multiple                  448     ||\n",
            "||                                                             ||\n",
            "|| batch_normalization_22 (  multiple                  256     ||\n",
            "|| BatchNormalization)                                         ||\n",
            "||                                                             ||\n",
            "|| re_lu_2 (ReLU)            multiple                  0       ||\n",
            "||                                                             ||\n",
            "|| max_pooling1d_2 (MaxPool  multiple                  0       ||\n",
            "|| ing1D)                                                      ||\n",
            "||                                                             ||\n",
            "|| residual_block_16 (Resid  multiple                  57856   ||\n",
            "|| ualBlock)                                                   ||\n",
            "||                                                             ||\n",
            "|| residual_block_17 (Resid  multiple                  57856   ||\n",
            "|| ualBlock)                                                   ||\n",
            "||                                                             ||\n",
            "|| residual_block_18 (Resid  multiple                  132608  ||\n",
            "|| ualBlock)                                                   ||\n",
            "||                                                             ||\n",
            "|| residual_block_19 (Resid  multiple                  164864  ||\n",
            "|| ualBlock)                                                   ||\n",
            "||                                                             ||\n",
            "|| residual_block_20 (Resid  multiple                  527360  ||\n",
            "|| ualBlock)                                                   ||\n",
            "||                                                             ||\n",
            "|| residual_block_21 (Resid  multiple                  657408  ||\n",
            "|| ualBlock)                                                   ||\n",
            "||                                                             ||\n",
            "|| residual_block_22 (Resid  multiple                  1316864 ||\n",
            "|| ualBlock)                                                   ||\n",
            "||                                                             ||\n",
            "|| residual_block_23 (Resid  multiple                  1576960 ||\n",
            "|| ualBlock)                                                   ||\n",
            "|¯¯¯¯¯¯¯¯¯¯¯¯¯¯¯¯¯¯¯¯¯¯¯¯¯¯¯¯¯¯¯¯¯¯¯¯¯¯¯¯¯¯¯¯¯¯¯¯¯¯¯¯¯¯¯¯¯¯¯¯¯¯¯|\n",
            "| global_average_pooling1d_  (None, 512)               0        |\n",
            "| 2 (GlobalAveragePooling1D                                     |\n",
            "| )                                                             |\n",
            "¯¯¯¯¯¯¯¯¯¯¯¯¯¯¯¯¯¯¯¯¯¯¯¯¯¯¯¯¯¯¯¯¯¯¯¯¯¯¯¯¯¯¯¯¯¯¯¯¯¯¯¯¯¯¯¯¯¯¯¯¯¯¯¯¯\n",
            " dense_2 (Dense)             (None, 5)                 2565      \n",
            "                                                                 \n",
            "=================================================================\n",
            "Total params: 4495045 (17.15 MB)\n",
            "Trainable params: 4485445 (17.11 MB)\n",
            "Non-trainable params: 9600 (37.50 KB)\n",
            "_________________________________________________________________\n"
          ]
        }
      ],
      "source": [
        "import tensorflow as tf\n",
        "\n",
        "from transplant.modules.resnet1d import ResNet\n",
        "from transplant.datasets import icentia11k\n",
        "from transplant.modules.utils import build_input_tensor_from_shape\n",
        "\n",
        "\n",
        "resnet = ResNet(\n",
        "    num_outputs=None,\n",
        "    blocks=(2, 2, 2, 2),\n",
        "    kernel_size=(7, 5, 5, 3),\n",
        "    include_top=False,\n",
        ")\n",
        "\n",
        "feature_extractor = tf.keras.Sequential(\n",
        "    [resnet, tf.keras.layers.GlobalAveragePooling1D()]\n",
        ")\n",
        "\n",
        "num_classes = len(icentia11k.ds_beat_names)  # 5\n",
        "\n",
        "model = tf.keras.Sequential(\n",
        "    [feature_extractor, tf.keras.layers.Dense(num_classes)]\n",
        ")\n",
        "\n",
        "model.compile(\n",
        "    optimizer=tf.keras.optimizers.Adam(beta_1=0.9, beta_2=0.98, epsilon=1e-9),\n",
        "    loss=tf.keras.losses.SparseCategoricalCrossentropy(from_logits=True),\n",
        "    metrics=[tf.keras.metrics.SparseCategoricalAccuracy(name=\"acc\")],\n",
        ")\n",
        "\n",
        "# Initialize the weights of the model\n",
        "train_data = dataset.batch(32)\n",
        "input_shape, _ = tf.compat.v1.data.get_output_shapes(train_data)\n",
        "input_dtype, _ = tf.compat.v1.data.get_output_types(train_data)\n",
        "inputs = build_input_tensor_from_shape(\n",
        "    input_shape, dtype=input_dtype, ignore_batch_dim=True\n",
        ")\n",
        "model(inputs)\n",
        "model.summary(expand_nested=True)"
      ]
    },
    {
      "cell_type": "markdown",
      "metadata": {
        "id": "HL9H4FYP4Kq-"
      },
      "source": [
        "### Fine-tuning Model Initialization and Summary\n",
        "\n",
        "The fine-tuning model in the paper is the pre-training model with its output layer replaced with a fully connected layer that matches the classes of the _PhysioNet 2017_ dataset and has randomly initialized weights. Below is a demonstration to construct fine-tuning CNN model. Note the model's number of parameters is identical to that of the pre-training CNN, and the output layer has four outputs, instead of five."
      ]
    },
    {
      "cell_type": "code",
      "execution_count": 110,
      "metadata": {
        "colab": {
          "base_uri": "https://localhost:8080/"
        },
        "id": "NrD53OcmHZ-H",
        "outputId": "c2b7165b-3712-4dd0-8f60-962386b85266"
      },
      "outputs": [
        {
          "name": "stdout",
          "output_type": "stream",
          "text": [
            "Model: \"sequential_5\"\n",
            "_________________________________________________________________\n",
            " Layer (type)                Output Shape              Param #   \n",
            "=================================================================\n",
            " res_net_3 (ResNet)          (None, 512, 512)          4492480   \n",
            "|¯¯¯¯¯¯¯¯¯¯¯¯¯¯¯¯¯¯¯¯¯¯¯¯¯¯¯¯¯¯¯¯¯¯¯¯¯¯¯¯¯¯¯¯¯¯¯¯¯¯¯¯¯¯¯¯¯¯¯¯¯¯¯|\n",
            "| conv1d_3 (Conv1D)          multiple                  448      |\n",
            "|                                                               |\n",
            "| batch_normalization_23 (B  multiple                  256      |\n",
            "| atchNormalization)                                            |\n",
            "|                                                               |\n",
            "| re_lu_3 (ReLU)             multiple                  0        |\n",
            "|                                                               |\n",
            "| max_pooling1d_3 (MaxPooli  multiple                  0        |\n",
            "| ng1D)                                                         |\n",
            "|                                                               |\n",
            "| residual_block_24 (Residu  multiple                  57856    |\n",
            "| alBlock)                                                      |\n",
            "|                                                               |\n",
            "| residual_block_25 (Residu  multiple                  57856    |\n",
            "| alBlock)                                                      |\n",
            "|                                                               |\n",
            "| residual_block_26 (Residu  multiple                  132608   |\n",
            "| alBlock)                                                      |\n",
            "|                                                               |\n",
            "| residual_block_27 (Residu  multiple                  164864   |\n",
            "| alBlock)                                                      |\n",
            "|                                                               |\n",
            "| residual_block_28 (Residu  multiple                  527360   |\n",
            "| alBlock)                                                      |\n",
            "|                                                               |\n",
            "| residual_block_29 (Residu  multiple                  657408   |\n",
            "| alBlock)                                                      |\n",
            "|                                                               |\n",
            "| residual_block_30 (Residu  multiple                  1316864  |\n",
            "| alBlock)                                                      |\n",
            "|                                                               |\n",
            "| residual_block_31 (Residu  multiple                  1576960  |\n",
            "| alBlock)                                                      |\n",
            "¯¯¯¯¯¯¯¯¯¯¯¯¯¯¯¯¯¯¯¯¯¯¯¯¯¯¯¯¯¯¯¯¯¯¯¯¯¯¯¯¯¯¯¯¯¯¯¯¯¯¯¯¯¯¯¯¯¯¯¯¯¯¯¯¯\n",
            " global_average_pooling1d_3  (None, 512)               0         \n",
            "  (GlobalAveragePooling1D)                                       \n",
            "                                                                 \n",
            " new_dense (Dense)           (None, 4)                 2052      \n",
            "                                                                 \n",
            "=================================================================\n",
            "Total params: 4494532 (17.15 MB)\n",
            "Trainable params: 4484932 (17.11 MB)\n",
            "Non-trainable params: 9600 (37.50 KB)\n",
            "_________________________________________________________________\n"
          ]
        }
      ],
      "source": [
        "resnet2 = ResNet(\n",
        "    num_outputs=None,\n",
        "    blocks=(2, 2, 2, 2),\n",
        "    kernel_size=(7, 5, 5, 3),\n",
        "    include_top=False,\n",
        ")\n",
        "\n",
        "ft_model = tf.keras.Sequential(\n",
        "    [resnet2, tf.keras.layers.GlobalAveragePooling1D()]\n",
        ")\n",
        "\n",
        "# Initialize the weights of the model\n",
        "inputs = tf.keras.layers.Input(\n",
        "    physionet_data[\"x\"].shape[1:], dtype=physionet_data[\"x\"].dtype\n",
        ")\n",
        "ft_model(inputs)\n",
        "\n",
        "# Load pre-training weights, if any\n",
        "pre_trained_weights = None\n",
        "if pre_trained_weights:\n",
        "    ft_model.load_weights(pre_trained_weights)\n",
        "\n",
        "# Replace output layer\n",
        "num_classes = len(physionet_data[\"classes\"])  # 4\n",
        "ft_model.add(\n",
        "    tf.keras.layers.Dense(num_classes, activation=\"softmax\", name=\"new_dense\")\n",
        ")\n",
        "\n",
        "ft_model.compile(\n",
        "    optimizer=tf.keras.optimizers.Adam(),\n",
        "    loss=tf.keras.losses.CategoricalCrossentropy(),\n",
        "    metrics=[tf.keras.metrics.CategoricalAccuracy(name=\"acc\")],\n",
        ")\n",
        "ft_model.summary(expand_nested=True)"
      ]
    },
    {
      "cell_type": "markdown",
      "metadata": {
        "id": "BjSHJ3uxvGv4"
      },
      "source": [
        "## Training"
      ]
    },
    {
      "cell_type": "markdown",
      "metadata": {
        "id": "uFdjDQwKzl7W"
      },
      "source": [
        "### Hyperparameters"
      ]
    },
    {
      "cell_type": "markdown",
      "metadata": {
        "id": "1-4YJcZzzqFz"
      },
      "source": [
        "#### Pre-training\n",
        "\n",
        "* Optimizer: [Adam](https://www.tensorflow.org/api_docs/python/tf/keras/optimizers/Adam)\n",
        "    * `learning_rate`: 0.001 (default)\n",
        "    * `beta_1`: 0.9\n",
        "    * `beta_2`: 0.98\n",
        "    * All other parameters are set to their default values.\n",
        "* Sample frequency: 250 Hz\n",
        "* Frame Size: 4096 (about 16 seconds at 250 Hz)\n",
        "* Batch Size: 512\n",
        "* `samples_per_patient`: 4096\n",
        "* Hidden size: Please refer to the \"Models\" section for details."
      ]
    },
    {
      "cell_type": "markdown",
      "metadata": {
        "id": "CrzYKyrUzt4Q"
      },
      "source": [
        "#### Fine-tuning\n",
        "\n",
        "* Optimizer: [Adam](https://www.tensorflow.org/api_docs/python/tf/keras/optimizers/Adam)\n",
        "    * `learning_rate`: 0.001 (default)\n",
        "    * All other parameters are set to their default values.\n",
        "* Batch size: 128\n",
        "    * This size was chosen to maximize the GPU RAM usage of the V100 GPU on Google Colab.\n",
        "* Sample rate: 250 Hz (resampled from 300 Hz)\n",
        "* Frame size: 16384\n",
        "    * Approximately 65 seconds\n",
        "    * Shorter samples are left-padded with zeroes\n",
        "* Hidden size: Please refer to the \"Models\" section for details."
      ]
    },
    {
      "cell_type": "markdown",
      "metadata": {
        "id": "xE3GC0EJz_n7"
      },
      "source": [
        "### Computational Requirements\n"
      ]
    },
    {
      "cell_type": "markdown",
      "metadata": {
        "id": "ubGljHxc0MwP"
      },
      "source": [
        "#### Pre-training\n",
        "\n",
        "* Type of Hardware: V100 GPU\n",
        "    - Batch size of 512 used to fully utilize the 16 GB of RAM on the V100 GPU.\n",
        "    - However, our training rate has been limited by not by the GPU speed, but the I/O time required to transfer, load, and unzip the data files from google drive distributed file system. For example, training on 32x more data per patient only increased runtime by 2.2x, since most of the time was spent loading the same amount of patient data files.\n",
        "    - We experimented with using A100 GPUs which has more RAM (i.e. larger batch size) and is generally faster. But we were unable to get significant speed improvements to justify the extra hourly cost of the A100 GPU due to distributed I/O latency associated with Google Drive.\n",
        "* Average runtime per 1,000 patients: 1 hours, 16 minutes\n",
        "* Total number of trials: 1\n",
        "* GPU hours used: 14 hours\n",
        "    - Frame size 4096\n",
        "    - 11000 patients x 4096 samples per data = **45 million samples**\n",
        "\n",
        "**Note on epochs**: Both the author and our analysis only ever uses a patient's data once during pre-training, thus the 1 epoch. However, the code's definition of an \"epoch\" during pre-training has a different meaning and refers to the processing one set of data equal to `batch_size x steps_per_epoch`. This can have variable amounts of data or patients.\n",
        "\n",
        "Also note that during pre-training, we saved 100 checkpoints to be able to study how fine-tuning on different amounts of pre-training affects the final model's performance after fine-tuning."
      ]
    },
    {
      "cell_type": "markdown",
      "metadata": {
        "id": "tizjzeOoHRJE"
      },
      "source": [
        "#### Fine-tuning\n",
        "\n",
        "* Type of Hardware: V100 GPU\n",
        "    - Batch size of 128 used to fully utilize the 16 GB of RAM on the V100 GPU.\n",
        "    - Unlike in pre-training, we did not experience I/O overhead during training as the processed _PhysioNet 2017_ train and test data (pickles) were able to fit into RAM.\n",
        "* Average runtime for each epoch: Between 21 to 22 seconds.\n",
        "* Total number of trials: 50\n",
        "    - 10 trials for each of the five scenarios: Random, 1%, 10%, 20%, and 100%.\n",
        "* GPU hours used: About 21.2 hours total.\n",
        "    - Random: 5.3 hours\n",
        "    - 1%: 3.9 hours\n",
        "    - 10%: 4.1 hours\n",
        "    - 20%: 4.3 hours\n",
        "    - 100%: 3.6 hours\n",
        "* Number of training epochs: Maximum 200 per trial, but in practice, saw early stopping by 80 epochs.\n",
        "    - Training for a single trial would typically complete within 30 minutes."
      ]
    },
    {
      "cell_type": "markdown",
      "metadata": {
        "id": "7HnrvmtLvCLU"
      },
      "source": [
        "### Training Code Snippet Sample\n"
      ]
    },
    {
      "cell_type": "markdown",
      "metadata": {
        "id": "v4GE3mPJOQCU"
      },
      "source": [
        "#### Pre-training\n",
        "For beat classification pre-training, a checkpoint function is created to monitor training loss and save model weights of each epoch. The below cell demonstrates pre-training with a small dataset.\n",
        "\n",
        "* Note that the model weights of each epoch are saved for fine-tuning model initialization.\n",
        "* Also note that in `keras` and the way the authors implemented the pre-training step, 1 epoch is defined by batch size and steps-per-epoch (it does not imply training on the entire dataset once)."
      ]
    },
    {
      "cell_type": "code",
      "execution_count": 111,
      "metadata": {
        "colab": {
          "base_uri": "https://localhost:8080/"
        },
        "id": "RG7-Rb4aHVfp",
        "outputId": "a95ccce7-3379-4e4e-a750-8b46da3582cc"
      },
      "outputs": [
        {
          "name": "stdout",
          "output_type": "stream",
          "text": [
            "Epoch 1/2\n",
            "\n",
            "Epoch 1: saving model to /tmp/jobs/final_demo/epoch_01/model.weights\n",
            "64/64 - 14s - loss: 0.1802 - acc: 0.9517 - 14s/epoch - 223ms/step\n",
            "Epoch 2/2\n",
            "\n",
            "Epoch 2: saving model to /tmp/jobs/final_demo/epoch_02/model.weights\n",
            "64/64 - 4s - loss: 0.1013 - acc: 0.9712 - 4s/epoch - 57ms/step\n"
          ]
        }
      ],
      "source": [
        "FINAL_DEMO_JOB = JOB_DIR + \"/final_demo\"\n",
        "\n",
        "checkpoint = tf.keras.callbacks.ModelCheckpoint(\n",
        "    filepath=str(FINAL_DEMO_JOB + \"/epoch_{epoch:02d}\" + \"/model.weights\"),\n",
        "    monitor=\"loss\",\n",
        "    save_best_only=False,\n",
        "    save_weights_only=True,\n",
        "    mode=\"auto\",\n",
        "    verbose=1,\n",
        ")\n",
        "\n",
        "_ = model.fit(\n",
        "    train_data,\n",
        "    steps_per_epoch=64,\n",
        "    verbose=2,\n",
        "    epochs=2,\n",
        "    validation_data=None,\n",
        "    callbacks=[checkpoint],\n",
        ")"
      ]
    },
    {
      "cell_type": "markdown",
      "metadata": {
        "id": "v8mZXHEiPsvC"
      },
      "source": [
        "#### Fine-tuning\n",
        "\n",
        "The procedure to fine-tune the 1-D ResNet-18v2 model is identical to the pre-training procedure, except that a custom checkpoint function is used to calculate macro F1 score on the validation dataset at the end of a training epoch and save the model weights if a better macro F1 score is reported. The following is an example of the `CustomCheckpoint` from the original code."
      ]
    },
    {
      "cell_type": "code",
      "execution_count": 112,
      "metadata": {
        "id": "-gOvsheO4D4y"
      },
      "outputs": [],
      "source": [
        "from transplant.evaluation import f1, CustomCheckpoint\n",
        "\n",
        "val_data = physionet_data[\"x\"][3]\n",
        "val_y = physionet_data[\"y\"][3]\n",
        "\n",
        "checkpoint = CustomCheckpoint(\n",
        "    filepath=str(FINAL_DEMO_JOB + \"/fine-tuning/best_model.weights\"),\n",
        "    data=(val_data, val_y),\n",
        "    score_fn=f1,\n",
        "    save_best_only=True,\n",
        "    verbose=1,\n",
        ")"
      ]
    },
    {
      "cell_type": "markdown",
      "metadata": {
        "id": "_tGIIcCavUUB"
      },
      "source": [
        "### Training Code - Command Line API\n",
        "\n",
        "The paper authors provide entrypoint scripts to run the entire pre-training and fine-tuning process with parameters of choice. The following is the high level description of how the scripts work."
      ]
    },
    {
      "cell_type": "markdown",
      "metadata": {
        "id": "PjhVgufs6OIR"
      },
      "source": [
        "#### Pre-training\n",
        "\n",
        "The source code from the paper authors can be found [here](https://github.com/myles-i/DLH_TransferLearning/tree/master/pretraining).\n",
        "\n",
        "1. Create train/validate data generator based on patient ID and the number of samples per patient, both specified when calling the entrypoint.\n",
        "2. A model is generated based on the model architecture and pre-training task specified by the user.\n",
        "3. Weights of the model are initialized. They can also be loaded from a weights file. For all pre-training in the project, we don't load weights.\n",
        "4. Checkpoint function is created based on training metric. For pre-training, we use `loss` as training metric.\n",
        "5. The model fits the train data. At the end of each training epoch, the checkpoint function is called for evaluation and save the model weights.\n",
        "\n",
        "The paper uses 95% of the patient's ECG data. On average, the paper sampled 4096 ECG frames per patient, which amounts to 42.8 million (11000x0.95x4096) training samples over the course of pre-training. For pre-training with 20% of the data used in paper, we use ECG data from 2048 patients and sample 4096 ECG frames per patient, resulting to roughly 8.4 million (2048x4096) training samples."
      ]
    },
    {
      "cell_type": "markdown",
      "metadata": {
        "id": "wnsQfTsc26yA"
      },
      "source": [
        "The following sample command calls the pre-training entrypoint to run pre-training with 20% of the data used in the paper (Patients 0 through 2047).\n",
        "\n",
        "* The command is easily adapted to run pre-training with 10% of the data in the paper.\n",
        "\n",
        "```bash\n",
        "!time python -m pretraining.trainer \\\n",
        "--job-dir \"jobs/beat_classification_16epochs_to_20percent\" \\\n",
        "--task \"beat\" \\\n",
        "--train {TRAIN_DATASET} \\\n",
        "--arch \"resnet18\" \\\n",
        "--epochs 16 \\\n",
        "--patient-ids `seq 0 2047 | paste -sd, -` \\\n",
        "--steps-per-epoch 1024 \\\n",
        "--samples-per-patient 4096 \\\n",
        "--batch-size 512 \\\n",
        "--frame-size 4096\n",
        "```\n",
        "\n",
        "Explanation of the less obvious parameters:\n",
        "\n",
        "* `--job-dir`: Output directory, where check points and weights are saved.\n",
        "\n",
        "* `--task`: Pre-training task, `beat` for Beat classification.\n",
        "\n",
        "* `--patient-ids`: Patient id(s) whose ECG data to be used in pre-training.\n",
        "\n",
        "  * Multiple patients can be specified by passing a space separated sequence of ids.\n",
        "\n",
        "* `--frame-size`: Number of ECG samples, with 250 Hz sampling rate, in a ECG frame.\n",
        "\n",
        "To use all data: number of patients x samples_per_patient = epochs x batch_size x steps-per-epoch.\n",
        "\n",
        "For demonstration, we run the script in a much smaller scale below:"
      ]
    },
    {
      "cell_type": "code",
      "execution_count": 113,
      "metadata": {
        "id": "aZVzl7k1vdAO"
      },
      "outputs": [],
      "source": [
        "PRETRAIN_JOB_DIR = FINAL_DEMO_JOB + \"/pretraining\""
      ]
    },
    {
      "cell_type": "code",
      "execution_count": 114,
      "metadata": {
        "colab": {
          "base_uri": "https://localhost:8080/"
        },
        "id": "YBVu9Fas18M4",
        "outputId": "41dd6231-ec4a-4331-8674-816780706edb"
      },
      "outputs": [
        {
          "name": "stdout",
          "output_type": "stream",
          "text": [
            "2024-05-06 15:26:06.304834: E external/local_xla/xla/stream_executor/cuda/cuda_dnn.cc:9261] Unable to register cuDNN factory: Attempting to register factory for plugin cuDNN when one has already been registered\n",
            "2024-05-06 15:26:06.304900: E external/local_xla/xla/stream_executor/cuda/cuda_fft.cc:607] Unable to register cuFFT factory: Attempting to register factory for plugin cuFFT when one has already been registered\n",
            "2024-05-06 15:26:06.306216: E external/local_xla/xla/stream_executor/cuda/cuda_blas.cc:1515] Unable to register cuBLAS factory: Attempting to register factory for plugin cuBLAS when one has already been registered\n",
            "2024-05-06 15:26:07.344647: W tensorflow/compiler/tf2tensorrt/utils/py_utils.cc:38] TF-TRT Warning: Could not find TensorRT\n",
            "Creating working directory in /tmp/jobs/final_demo/pretraining\n",
            "Setting random state 2024\n",
            "Building train data generators\n",
            "# Patient IDs:  1\n",
            "WARNING:tensorflow:From /tmp/repo/pretraining/datasets.py:33: calling DatasetV2.from_generator (from tensorflow.python.data.ops.dataset_ops) with output_types is deprecated and will be removed in a future version.\n",
            "Instructions for updating:\n",
            "Use output_signature instead\n",
            "WARNING:tensorflow:From /tmp/repo/pretraining/datasets.py:33: calling DatasetV2.from_generator (from tensorflow.python.data.ops.dataset_ops) with output_shapes is deprecated and will be removed in a future version.\n",
            "Instructions for updating:\n",
            "Use output_signature instead\n",
            "2024-05-06 15:26:08.885544: W tensorflow/core/common_runtime/gpu/gpu_bfc_allocator.cc:47] Overriding orig_value setting because the TF_FORCE_GPU_ALLOW_GROWTH environment variable is set. Original config value was 0.\n",
            "Building model ...\n",
            "# model parameters: 4,495,045\n",
            "Epoch 1/2\n",
            "WARNING: All log messages before absl::InitializeLog() is called are written to STDERR\n",
            "I0000 00:00:1715009182.906698   56418 device_compiler.h:186] Compiled cluster using XLA!  This line is logged at most once for the lifetime of the process.\n",
            "\n",
            "Epoch 1: saving model to /tmp/jobs/final_demo/pretraining/epoch_01/model.weights\n",
            "8/8 - 20s - loss: 0.7374 - acc: 0.8330 - 20s/epoch - 2s/step\n",
            "Epoch 2/2\n",
            "\n",
            "Epoch 2: saving model to /tmp/jobs/final_demo/pretraining/epoch_02/model.weights\n",
            "8/8 - 2s - loss: 0.1264 - acc: 0.9663 - 2s/epoch - 246ms/step\n",
            "Exception ignored in: <function AtomicFunction.__del__ at 0x7d04e1bdf880>\n",
            "Traceback (most recent call last):\n",
            "  File \"/usr/local/lib/python3.10/dist-packages/tensorflow/python/eager/polymorphic_function/atomic_function.py\", line 291, in __del__\n",
            "TypeError: 'NoneType' object is not subscriptable\n",
            "CPU times: user 197 ms, sys: 27.7 ms, total: 224 ms\n",
            "Wall time: 28.9 s\n"
          ]
        }
      ],
      "source": [
        "%%time\n",
        "!python -m pretraining.trainer \\\n",
        "--job-dir {PRETRAIN_JOB_DIR} \\\n",
        "--task \"beat\" \\\n",
        "--train {DEMO_DATA_DIR} \\\n",
        "--arch \"resnet18\" \\\n",
        "--epochs 2 \\\n",
        "--patient-ids 0 \\\n",
        "--steps-per-epoch 8 \\\n",
        "--samples-per-patient 4096 \\\n",
        "--batch-size 256 \\\n",
        "--frame-size 1024 \\\n",
        "--unzipped True \\\n",
        "--seed 2024"
      ]
    },
    {
      "cell_type": "markdown",
      "metadata": {
        "id": "pX7Rvzla4KrA"
      },
      "source": [
        "#### Fine-tuning\n",
        "\n",
        "The source code from the paper authors can be found [here](https://github.com/myles-i/DLH_TransferLearning/tree/master/finetuning).\n",
        "\n",
        "1. Train and test data set are already separated from the _PhysioNet 2017_ dataset, with a 80%-20% split, and are passed to the entrypoint. The validation dataset will be further separated from the train dataset based on user input.\n",
        "2. A CNN model is generated based on the model architecture specified by the user. Its output layer is fully connected with softmax activation.\n",
        "3. The weights of the model are initialized. They can also be loaded from a weights file. If using a weights model from pre-training, this first has to be pre-processed using the \"pretraining.utils.get_pretrained_weights\" function to remove the classification layer, which is replaced during finetuning. An example of this process can be see [here](https://github.com/myles-i/DLH_TransferLearning/tree/master/jupyter_notebooks/finetune_pretrain_20_weights_65sec.ipynb)\n",
        "4. Checkpoint function is created based on validation metric. For fine-tuning, we use `f1` (macro F1) as the metric.\n",
        "5. The model fits the train data. At the end of each training epoch, the checkpoint function is called for evaluation and saves the model weights with best macro F1 score on the validation set. Note that the model also is setup to end training early if the validation loss does not decrease after 50 epochs.\n",
        "6. The model is evaluated on the test set and the predicted probabilities are saved to a csv file.\n",
        "\n",
        "Ultimately, the two most important outputs of a fine-tuning execution are:\n",
        "\n",
        "- History file containing validation macro F1 score at the end of each epoch.\n",
        "- Model predictions on the test set."
      ]
    },
    {
      "cell_type": "markdown",
      "metadata": {
        "id": "Yd-4RslV7b0o"
      },
      "source": [
        "The following sample command calls the fine-tuning entrypoint to run fine-tuning with _random initialization_.\n",
        "\n",
        "```bash\n",
        "python -m finetuning.trainer \\\n",
        "--job-dir {JOB_DIR} \\\n",
        "--train {FINETUNE_TRAIN} \\\n",
        "--test {FINETUNE_TEST} \\\n",
        "--val-size 0.0625 \\\n",
        "--val-metric \"f1\" \\\n",
        "--arch \"resnet18\" \\\n",
        "--batch-size 128 \\\n",
        "--epochs 200 \\\n",
        "--seed 2024 \\\n",
        "--verbose\n",
        "```\n",
        "\n",
        "Explanation of the less obvious parameters:\n",
        "\n",
        "* `--job-dir`: Output directory, where checkpoints and weights are saved.\n",
        "* `--val-size`: This is the percentage of the train set size to set aside for the validation set.\n",
        "  * Note that the _PhysioNet 2017_ data was already split into 80% train, 20% test. The paper uses 5% of the full dataset for validation.\n",
        "  * Math: $6.25\\% * 80\\% = 5\\%$.\n",
        "* `--val-metric`: Metric to evaluate the model at the end of each epoch on the validation dataset.\n",
        "* `--seed`: Random state used to split the train into smaller train and validation."
      ]
    },
    {
      "cell_type": "markdown",
      "metadata": {
        "id": "rjzCCmb0IshJ"
      },
      "source": [
        "Below is a small scale demonstration of fine-tuning with random weight initialization. We first download the fine-tuning train and test datasets."
      ]
    },
    {
      "cell_type": "code",
      "execution_count": 115,
      "metadata": {
        "id": "aGcyVrP3IshK"
      },
      "outputs": [],
      "source": [
        "FINETUNE_TRAIN = DEMO_DATA_DIR + \"/physionet_train.pkl\"\n",
        "FINETUNE_TEST = DEMO_DATA_DIR + \"/physionet_test.pkl\""
      ]
    },
    {
      "cell_type": "code",
      "execution_count": 116,
      "metadata": {
        "id": "aQwScfMgrTFm"
      },
      "outputs": [],
      "source": [
        "%%capture\n",
        "!gdown 10PVz1nmMaeIgxQ4sqDUeZlzhFVHOth5I -O {FINETUNE_TRAIN}\n",
        "!gdown 10FKjncGOZD6_BBCBbvpBQbWvfCLj88MC -O {FINETUNE_TEST}"
      ]
    },
    {
      "cell_type": "code",
      "execution_count": 117,
      "metadata": {
        "id": "d2TJ3mzh6wUB"
      },
      "outputs": [],
      "source": [
        "FINETUNE_JOB_DIR = FINAL_DEMO_JOB + \"/finetuning_random\""
      ]
    },
    {
      "cell_type": "markdown",
      "metadata": {
        "id": "eCjC24kCIshK"
      },
      "source": [
        "Then, we run the fine-tuning entrypoint and run fine-tuning for two epochs."
      ]
    },
    {
      "cell_type": "code",
      "execution_count": 118,
      "metadata": {
        "colab": {
          "base_uri": "https://localhost:8080/"
        },
        "id": "sV1EBd7Z6nr_",
        "outputId": "6236376f-7578-4631-d491-91fb1ea2b304"
      },
      "outputs": [
        {
          "name": "stdout",
          "output_type": "stream",
          "text": [
            "2024-05-06 15:26:43.573061: E external/local_xla/xla/stream_executor/cuda/cuda_dnn.cc:9261] Unable to register cuDNN factory: Attempting to register factory for plugin cuDNN when one has already been registered\n",
            "2024-05-06 15:26:43.573113: E external/local_xla/xla/stream_executor/cuda/cuda_fft.cc:607] Unable to register cuFFT factory: Attempting to register factory for plugin cuFFT when one has already been registered\n",
            "2024-05-06 15:26:43.574359: E external/local_xla/xla/stream_executor/cuda/cuda_blas.cc:1515] Unable to register cuBLAS factory: Attempting to register factory for plugin cuBLAS when one has already been registered\n",
            "2024-05-06 15:26:44.629321: W tensorflow/compiler/tf2tensorrt/utils/py_utils.cc:38] TF-TRT Warning: Could not find TensorRT\n",
            "Creating working directory in /tmp/jobs/final_demo/finetuning_random\n",
            "Setting random state 2024\n",
            "Loading train data from /tmp/data/final_demo/physionet_train.pkl ...\n",
            "Split data into train 93.73% and validation 6.27%\n",
            "Loading test data from /tmp/data/final_demo/physionet_test.pkl ...\n",
            "Train data shape: (1599, 16384, 1)\n",
            "2024-05-06 15:26:53.222420: W tensorflow/core/common_runtime/gpu/gpu_bfc_allocator.cc:47] Overriding orig_value setting because the TF_FORCE_GPU_ALLOW_GROWTH environment variable is set. Original config value was 0.\n",
            "Building model ...\n",
            "# model parameters: 4,494,532\n",
            "Epoch 1/2\n",
            "WARNING: All log messages before absl::InitializeLog() is called are written to STDERR\n",
            "I0000 00:00:1715009232.088909   57313 device_compiler.h:186] Compiled cluster using XLA!  This line is logged at most once for the lifetime of the process.\n",
            "1/1 [==============================] - 1s 948ms/step\n",
            "\n",
            "Epoch 00001: f1 improved from -inf to 0.21145, saving model to /tmp/jobs/final_demo/finetuning_random/best_model.weights\n",
            "13/13 - 52s - loss: 1.1863 - acc: 0.5722 - val_loss: 3.5242 - val_acc: 0.4393 - f1: 0.2114 - 52s/epoch - 4s/step\n",
            "Epoch 2/2\n",
            "1/1 [==============================] - 0s 122ms/step\n",
            "\n",
            "Epoch 00002: f1 improved from 0.21145 to 0.26115, saving model to /tmp/jobs/final_demo/finetuning_random/best_model.weights\n",
            "13/13 - 18s - loss: 0.9614 - acc: 0.5985 - val_loss: 1.8634 - val_acc: 0.5514 - f1: 0.2611 - 18s/epoch - 1s/step\n",
            "Loading the best weights from file /tmp/jobs/final_demo/finetuning_random/best_model.weights ...\n",
            "Predicting training data ...\n",
            "13/13 [==============================] - 5s 342ms/step\n",
            "Predicting validation data ...\n",
            "1/1 [==============================] - 0s 70ms/step\n",
            "Predicting test data ...\n",
            "54/54 [==============================] - 20s 373ms/step\n",
            "CPU times: user 704 ms, sys: 131 ms, total: 835 ms\n",
            "Wall time: 1min 54s\n"
          ]
        }
      ],
      "source": [
        "%%time\n",
        "!python -m finetuning.trainer \\\n",
        "--job-dir {FINETUNE_JOB_DIR} \\\n",
        "--train {FINETUNE_TRAIN} \\\n",
        "--test {FINETUNE_TEST} \\\n",
        "--val-size 0.0625 \\\n",
        "--val-metric \"f1\" \\\n",
        "--arch \"resnet18\" \\\n",
        "--batch-size 128 \\\n",
        "--epochs 2 \\\n",
        "--seed 2024 \\\n",
        "--verbose"
      ]
    },
    {
      "cell_type": "markdown",
      "metadata": {
        "id": "yNnSDq6w7mDX"
      },
      "source": [
        "The following sample command uses the fine-tuning entrypoint to run fine-tuning with pre-trained weights.\n",
        "\n",
        "```bash\n",
        "python -m finetuning.trainer \\\n",
        "--job-dir {JOB_DIR} \\\n",
        "--train {FINETUNE_TRAIN} \\\n",
        "--test {FINETUNE_TEST} \\\n",
        "--weights-file {WEIGHTS_FILE} \\\n",
        "--val-size 0.0625 \\\n",
        "--val-metric \"f1\" \\\n",
        "--arch \"resnet18\" \\\n",
        "--batch-size 128 \\\n",
        "--epochs 200 \\\n",
        "--seed 2024 \\\n",
        "--verbose\n",
        "```\n",
        "\n",
        "This is largely the same command as the previous example for fine-tuning a randomly initialized network. But with this addition:\n",
        "\n",
        "* `--weights-file {WEIGHTS_FILE}`: Path to pre-trained weights or a checkpoint of the model to be used for model initialization."
      ]
    },
    {
      "cell_type": "markdown",
      "metadata": {
        "id": "ueBiFbvjTdIR"
      },
      "source": [
        "Below is a small demonstration using weights obtained from pre-training using 20% of the _Icentia11k_ dataset. We first download model weights from our experiments."
      ]
    },
    {
      "cell_type": "code",
      "execution_count": 119,
      "metadata": {
        "colab": {
          "base_uri": "https://localhost:8080/"
        },
        "id": "AZqK1Ixi81f9",
        "outputId": "2576994e-004f-4cbb-ce9f-d5fd00a082e4"
      },
      "outputs": [
        {
          "name": "stdout",
          "output_type": "stream",
          "text": [
            "CPU times: user 127 ms, sys: 42.2 ms, total: 170 ms\n",
            "Wall time: 20.3 s\n"
          ]
        }
      ],
      "source": [
        "%%time\n",
        "%%capture\n",
        "!mkdir -p {JOB_DIR + '/finetune_pretrain_20_weights_65sec'}\n",
        "!gdown 1-A0AqZe9sanj-8MZnoX4TUAYWrgcUTlg \\\n",
        "    -O {JOB_DIR + '/finetune_pretrain_20_weights_65sec'} --folder"
      ]
    },
    {
      "cell_type": "code",
      "execution_count": 120,
      "metadata": {
        "id": "vb51wGvO8Cac"
      },
      "outputs": [],
      "source": [
        "WEIGHTS_FILE = (\n",
        "    JOB_DIR + \"/finetune_pretrain_20_weights_65sec/best_model.weights\"\n",
        ")\n",
        "FINETUNE_JOB_DIR = FINAL_DEMO_JOB + \"/finetuning_pretrained\""
      ]
    },
    {
      "cell_type": "code",
      "execution_count": 121,
      "metadata": {
        "colab": {
          "base_uri": "https://localhost:8080/"
        },
        "id": "wVpmhIw_7tpO",
        "outputId": "e2906266-7bc1-4428-905f-a0547dccbb2b"
      },
      "outputs": [
        {
          "name": "stdout",
          "output_type": "stream",
          "text": [
            "2024-05-06 15:28:58.276124: E external/local_xla/xla/stream_executor/cuda/cuda_dnn.cc:9261] Unable to register cuDNN factory: Attempting to register factory for plugin cuDNN when one has already been registered\n",
            "2024-05-06 15:28:58.276173: E external/local_xla/xla/stream_executor/cuda/cuda_fft.cc:607] Unable to register cuFFT factory: Attempting to register factory for plugin cuFFT when one has already been registered\n",
            "2024-05-06 15:28:58.277414: E external/local_xla/xla/stream_executor/cuda/cuda_blas.cc:1515] Unable to register cuBLAS factory: Attempting to register factory for plugin cuBLAS when one has already been registered\n",
            "2024-05-06 15:28:59.295234: W tensorflow/compiler/tf2tensorrt/utils/py_utils.cc:38] TF-TRT Warning: Could not find TensorRT\n",
            "Creating working directory in /tmp/jobs/final_demo/finetuning_pretrained\n",
            "Setting random state 2024\n",
            "Loading train data from /tmp/data/final_demo/physionet_train.pkl ...\n",
            "Split data into train 93.73% and validation 6.27%\n",
            "Loading test data from /tmp/data/final_demo/physionet_test.pkl ...\n",
            "Train data shape: (1599, 16384, 1)\n",
            "2024-05-06 15:29:07.860277: W tensorflow/core/common_runtime/gpu/gpu_bfc_allocator.cc:47] Overriding orig_value setting because the TF_FORCE_GPU_ALLOW_GROWTH environment variable is set. Original config value was 0.\n",
            "Building model ...\n",
            "# model parameters: 4,494,532\n",
            "Loading weights from file /tmp/jobs/finetune_pretrain_20_weights_65sec/best_model.weights ...\n",
            "Epoch 1/2\n",
            "WARNING: All log messages before absl::InitializeLog() is called are written to STDERR\n",
            "I0000 00:00:1715009366.786384   58758 device_compiler.h:186] Compiled cluster using XLA!  This line is logged at most once for the lifetime of the process.\n",
            "1/1 [==============================] - 1s 932ms/step\n",
            "\n",
            "Epoch 00001: f1 improved from -inf to 0.78222, saving model to /tmp/jobs/final_demo/finetuning_pretrained/best_model.weights\n",
            "13/13 - 52s - loss: 0.4586 - acc: 0.8393 - val_loss: 0.4059 - val_acc: 0.8692 - f1: 0.7822 - 52s/epoch - 4s/step\n",
            "Epoch 2/2\n",
            "1/1 [==============================] - 0s 120ms/step\n",
            "\n",
            "Epoch 00002: f1 (0.74547) did not improve from 0.78222\n",
            "13/13 - 17s - loss: 0.3821 - acc: 0.8574 - val_loss: 0.4259 - val_acc: 0.8505 - f1: 0.7455 - 17s/epoch - 1s/step\n",
            "Loading the best weights from file /tmp/jobs/final_demo/finetuning_pretrained/best_model.weights ...\n",
            "Predicting training data ...\n",
            "13/13 [==============================] - 5s 342ms/step\n",
            "Predicting validation data ...\n",
            "1/1 [==============================] - 0s 71ms/step\n",
            "Predicting test data ...\n",
            "54/54 [==============================] - 20s 372ms/step\n",
            "CPU times: user 711 ms, sys: 128 ms, total: 839 ms\n",
            "Wall time: 1min 53s\n"
          ]
        }
      ],
      "source": [
        "%%time\n",
        "!python -m finetuning.trainer \\\n",
        "--job-dir {FINETUNE_JOB_DIR} \\\n",
        "--train {FINETUNE_TRAIN} \\\n",
        "--test {FINETUNE_TEST} \\\n",
        "--weights-file {WEIGHTS_FILE} \\\n",
        "--val-size 0.0625 \\\n",
        "--val-metric \"f1\" \\\n",
        "--arch \"resnet18\" \\\n",
        "--batch-size 128 \\\n",
        "--epochs 2 \\\n",
        "--seed 2024 \\\n",
        "--verbose"
      ]
    },
    {
      "cell_type": "markdown",
      "metadata": {
        "id": "K_62G-BkncVU"
      },
      "source": [
        "## Evaluation"
      ]
    },
    {
      "cell_type": "markdown",
      "metadata": {
        "id": "vo94sGYuncVU"
      },
      "source": [
        "### Pre-training\n",
        "\n",
        "The original paper doesn't discuss the performance of the 1-D ResNet-18v2 on pre-training task and focuses the analysis on the comparison between the fine-tuned model with random initialized weights and fine-tuned models with pre-trained weights. In addition, our Hypotheses 1 and 2 are about the impact on the fine-tuning task performance. Therefore, we don't evaluate pre-training task performance in this report."
      ]
    },
    {
      "cell_type": "markdown",
      "metadata": {
        "id": "S-JgPKYuncVU"
      },
      "source": [
        "### Fine-tuning\n",
        "\n",
        "#### Metrics Descriptions\n",
        "\n",
        "In fine-tuning, the paper uses macro F1 score for evaluating the model on the _PhysioNet 2017_ validation and test sets.\n",
        "\n",
        "\n",
        "#### Evaluation Code\n",
        "\n",
        "We define our macro F1 function `my_f1`, shown below and is also on Github [here](https://github.com/myles-i/DLH_TransferLearning/blob/master/report/common.py#L6-L9). It is named like that because the paper authors define their F1 function named `f1` and we wish to avoid namespace collision. Additionally, our macro F1 function supports providing per-class F1 scores, which the _original_ `f1` function does not support.\n",
        "\n",
        "See also the Analysis section for how we are using this metric in our results."
      ]
    },
    {
      "cell_type": "code",
      "execution_count": 122,
      "metadata": {
        "id": "2y6VjfJzncVU"
      },
      "outputs": [],
      "source": [
        "from sklearn.metrics import f1_score\n",
        "import numpy as np\n",
        "\n",
        "\n",
        "def my_f1(y_true, y_prob, average=\"macro\"):\n",
        "    # set average=None to get per-class F1 scores.\n",
        "    y_pred = y_prob >= np.max(y_prob, axis=1)[:, None]\n",
        "    return f1_score(y_true, y_pred, average=average)"
      ]
    },
    {
      "cell_type": "markdown",
      "metadata": {
        "id": "t0OApbK6yd5Q"
      },
      "source": [
        "# Results\n",
        "\n",
        "As specified, we used the fine-tuning entrypoint script to fine-tune a 1-D ResNet-18v2 model with the following five scenarios relating to the weights used to initialize the model before commencing fine-tuning:\n",
        "\n",
        "* Random initialization.\n",
        "* Pre-training weights from training with 1% of the data.\n",
        "* Pre-training weights from training with 10% of the data.\n",
        "* Pre-training weights from training with 20% of the data.\n",
        "* Pre-training weights from training with 100% of the data.\n",
        "\n",
        "Then we evaluate each model using macro F1 score on the following two datasets:\n",
        "\n",
        "* Validation set during fine-tuning training.\n",
        "* Test set.\n",
        "\n",
        "Finally, we compare the results of all five models.\n",
        "\n",
        "For each scenario, we ran fine-tuning 10 times with 10 different seeds. We did this in order to obtain average macro F1 scores, just as was done by the paper authors. Recall that the seed controls the split of the input data into a train set and validation set.\n",
        "\n",
        "The same 10 seeds are used to fine-tune all five scenarios to enable apples-to-apples comparison of the macro F1 scores among the three models. Specifically, we used seeds 10, 20, ..., 100.\n",
        "\n",
        "To facilitate analysis of the results, we have separately collated the output files from each trial (scenario and seed combination) into two files:\n",
        "\n",
        "- All history csv file\n",
        "- All test predictions pickle\n",
        "\n",
        "More details may be found in this [notebook](https://github.com/myles-i/DLH_TransferLearning/blob/master/jupyter_notebooks/collate_1d_finetune_results.ipynb)."
      ]
    },
    {
      "cell_type": "markdown",
      "metadata": {
        "id": "zTHxdQkJIshM"
      },
      "source": [
        "In the below cell, we download the collated fine-tuning result files."
      ]
    },
    {
      "cell_type": "code",
      "execution_count": 123,
      "metadata": {
        "id": "UWwUZbUSIshM"
      },
      "outputs": [],
      "source": [
        "RESULT1D_DIR = \"/tmp/results1d\""
      ]
    },
    {
      "cell_type": "code",
      "execution_count": 124,
      "metadata": {
        "colab": {
          "base_uri": "https://localhost:8080/"
        },
        "id": "sOHdE78Ovl6n",
        "outputId": "0313e973-31d5-4789-c7d1-2fa0a0269402"
      },
      "outputs": [
        {
          "name": "stdout",
          "output_type": "stream",
          "text": [
            "CPU times: user 149 ms, sys: 26.4 ms, total: 176 ms\n",
            "Wall time: 21.8 s\n"
          ]
        }
      ],
      "source": [
        "%%time\n",
        "%%capture\n",
        "!mkdir -p {RESULT1D_DIR}\n",
        "!gdown 1emWqhhDG4fp-Io8dPPa6CiKGS0EgQUVJ -O {RESULT1D_DIR} --folder"
      ]
    },
    {
      "cell_type": "markdown",
      "metadata": {
        "id": "9H8RxXNI3-W_"
      },
      "source": [
        "## Figures and Tables\n",
        "\n",
        "In this section, we generate the tables and figures to then be referenced in the Analysis section below, as well as in the Discussion. To keep this report short, the analysis code is located in a separate file and imported into this notebook. The code may be inspected on Github [here](https://github.com/myles-i/DLH_TransferLearning/blob/master/report/analysis1d.py).\n",
        "\n",
        "Below we import the code as the `analysis1d` module."
      ]
    },
    {
      "cell_type": "code",
      "execution_count": 125,
      "metadata": {
        "id": "CC_Xl-7pu2VN"
      },
      "outputs": [],
      "source": [
        "from report import analysis1d"
      ]
    },
    {
      "cell_type": "markdown",
      "metadata": {
        "id": "FCwBWC3Q3-XA"
      },
      "source": [
        "### Table 1: Epoch Comparison\n",
        "\n",
        "We create a table of the average and standard deviation of the number of epochs before training is stopped early due to validation loss not decreasing for 50 epochs for each scenario. The `make_epoch_table` code can be found on Github [here](https://github.com/myles-i/DLH_TransferLearning/blob/master/report/analysis1d.py#L7)."
      ]
    },
    {
      "cell_type": "code",
      "execution_count": 126,
      "metadata": {
        "colab": {
          "base_uri": "https://localhost:8080/",
          "height": 206
        },
        "id": "yVva2mKa3-XA",
        "outputId": "5ffcc63e-a664-4a2e-8892-0536cb8194ec"
      },
      "outputs": [
        {
          "data": {
            "application/vnd.google.colaboratory.intrinsic+json": {
              "summary": "{\n  \"name\": \"analysis1d\",\n  \"rows\": 5,\n  \"fields\": [\n    {\n      \"column\": \"Scenario\",\n      \"properties\": {\n        \"dtype\": \"string\",\n        \"num_unique_values\": 5,\n        \"samples\": [\n          \"Pre-train 1\",\n          \"Pre-train 100\",\n          \"Pre-train 10\"\n        ],\n        \"semantic_type\": \"\",\n        \"description\": \"\"\n      }\n    },\n    {\n      \"column\": \"Mean\",\n      \"properties\": {\n        \"dtype\": \"number\",\n        \"std\": 6.2944419927424855,\n        \"min\": 56.2,\n        \"max\": 71.0,\n        \"num_unique_values\": 5,\n        \"samples\": [\n          62.5,\n          57.0,\n          56.2\n        ],\n        \"semantic_type\": \"\",\n        \"description\": \"\"\n      }\n    },\n    {\n      \"column\": \"Std\",\n      \"properties\": {\n        \"dtype\": \"number\",\n        \"std\": 1.7340703561274553,\n        \"min\": 2.1,\n        \"max\": 5.6,\n        \"num_unique_values\": 4,\n        \"samples\": [\n          5.2,\n          2.6,\n          5.6\n        ],\n        \"semantic_type\": \"\",\n        \"description\": \"\"\n      }\n    }\n  ]\n}",
              "type": "dataframe"
            },
            "text/html": [
              "\n",
              "  <div id=\"df-27940655-098d-4ea5-a6c7-635ee362b34c\" class=\"colab-df-container\">\n",
              "    <div>\n",
              "<style scoped>\n",
              "    .dataframe tbody tr th:only-of-type {\n",
              "        vertical-align: middle;\n",
              "    }\n",
              "\n",
              "    .dataframe tbody tr th {\n",
              "        vertical-align: top;\n",
              "    }\n",
              "\n",
              "    .dataframe thead th {\n",
              "        text-align: right;\n",
              "    }\n",
              "</style>\n",
              "<table border=\"1\" class=\"dataframe\">\n",
              "  <thead>\n",
              "    <tr style=\"text-align: right;\">\n",
              "      <th></th>\n",
              "      <th>Scenario</th>\n",
              "      <th>Mean</th>\n",
              "      <th>Std</th>\n",
              "    </tr>\n",
              "  </thead>\n",
              "  <tbody>\n",
              "    <tr>\n",
              "      <th>0</th>\n",
              "      <td>Random</td>\n",
              "      <td>71.0</td>\n",
              "      <td>5.6</td>\n",
              "    </tr>\n",
              "    <tr>\n",
              "      <th>1</th>\n",
              "      <td>Pre-train 1</td>\n",
              "      <td>62.5</td>\n",
              "      <td>5.2</td>\n",
              "    </tr>\n",
              "    <tr>\n",
              "      <th>2</th>\n",
              "      <td>Pre-train 10</td>\n",
              "      <td>56.2</td>\n",
              "      <td>2.1</td>\n",
              "    </tr>\n",
              "    <tr>\n",
              "      <th>3</th>\n",
              "      <td>Pre-train 20</td>\n",
              "      <td>56.8</td>\n",
              "      <td>2.6</td>\n",
              "    </tr>\n",
              "    <tr>\n",
              "      <th>4</th>\n",
              "      <td>Pre-train 100</td>\n",
              "      <td>57.0</td>\n",
              "      <td>2.1</td>\n",
              "    </tr>\n",
              "  </tbody>\n",
              "</table>\n",
              "</div>\n",
              "    <div class=\"colab-df-buttons\">\n",
              "\n",
              "  <div class=\"colab-df-container\">\n",
              "    <button class=\"colab-df-convert\" onclick=\"convertToInteractive('df-27940655-098d-4ea5-a6c7-635ee362b34c')\"\n",
              "            title=\"Convert this dataframe to an interactive table.\"\n",
              "            style=\"display:none;\">\n",
              "\n",
              "  <svg xmlns=\"http://www.w3.org/2000/svg\" height=\"24px\" viewBox=\"0 -960 960 960\">\n",
              "    <path d=\"M120-120v-720h720v720H120Zm60-500h600v-160H180v160Zm220 220h160v-160H400v160Zm0 220h160v-160H400v160ZM180-400h160v-160H180v160Zm440 0h160v-160H620v160ZM180-180h160v-160H180v160Zm440 0h160v-160H620v160Z\"/>\n",
              "  </svg>\n",
              "    </button>\n",
              "\n",
              "  <style>\n",
              "    .colab-df-container {\n",
              "      display:flex;\n",
              "      gap: 12px;\n",
              "    }\n",
              "\n",
              "    .colab-df-convert {\n",
              "      background-color: #E8F0FE;\n",
              "      border: none;\n",
              "      border-radius: 50%;\n",
              "      cursor: pointer;\n",
              "      display: none;\n",
              "      fill: #1967D2;\n",
              "      height: 32px;\n",
              "      padding: 0 0 0 0;\n",
              "      width: 32px;\n",
              "    }\n",
              "\n",
              "    .colab-df-convert:hover {\n",
              "      background-color: #E2EBFA;\n",
              "      box-shadow: 0px 1px 2px rgba(60, 64, 67, 0.3), 0px 1px 3px 1px rgba(60, 64, 67, 0.15);\n",
              "      fill: #174EA6;\n",
              "    }\n",
              "\n",
              "    .colab-df-buttons div {\n",
              "      margin-bottom: 4px;\n",
              "    }\n",
              "\n",
              "    [theme=dark] .colab-df-convert {\n",
              "      background-color: #3B4455;\n",
              "      fill: #D2E3FC;\n",
              "    }\n",
              "\n",
              "    [theme=dark] .colab-df-convert:hover {\n",
              "      background-color: #434B5C;\n",
              "      box-shadow: 0px 1px 3px 1px rgba(0, 0, 0, 0.15);\n",
              "      filter: drop-shadow(0px 1px 2px rgba(0, 0, 0, 0.3));\n",
              "      fill: #FFFFFF;\n",
              "    }\n",
              "  </style>\n",
              "\n",
              "    <script>\n",
              "      const buttonEl =\n",
              "        document.querySelector('#df-27940655-098d-4ea5-a6c7-635ee362b34c button.colab-df-convert');\n",
              "      buttonEl.style.display =\n",
              "        google.colab.kernel.accessAllowed ? 'block' : 'none';\n",
              "\n",
              "      async function convertToInteractive(key) {\n",
              "        const element = document.querySelector('#df-27940655-098d-4ea5-a6c7-635ee362b34c');\n",
              "        const dataTable =\n",
              "          await google.colab.kernel.invokeFunction('convertToInteractive',\n",
              "                                                    [key], {});\n",
              "        if (!dataTable) return;\n",
              "\n",
              "        const docLinkHtml = 'Like what you see? Visit the ' +\n",
              "          '<a target=\"_blank\" href=https://colab.research.google.com/notebooks/data_table.ipynb>data table notebook</a>'\n",
              "          + ' to learn more about interactive tables.';\n",
              "        element.innerHTML = '';\n",
              "        dataTable['output_type'] = 'display_data';\n",
              "        await google.colab.output.renderOutput(dataTable, element);\n",
              "        const docLink = document.createElement('div');\n",
              "        docLink.innerHTML = docLinkHtml;\n",
              "        element.appendChild(docLink);\n",
              "      }\n",
              "    </script>\n",
              "  </div>\n",
              "\n",
              "\n",
              "<div id=\"df-a1c51511-2354-4be3-ae08-4443f21006a8\">\n",
              "  <button class=\"colab-df-quickchart\" onclick=\"quickchart('df-a1c51511-2354-4be3-ae08-4443f21006a8')\"\n",
              "            title=\"Suggest charts\"\n",
              "            style=\"display:none;\">\n",
              "\n",
              "<svg xmlns=\"http://www.w3.org/2000/svg\" height=\"24px\"viewBox=\"0 0 24 24\"\n",
              "     width=\"24px\">\n",
              "    <g>\n",
              "        <path d=\"M19 3H5c-1.1 0-2 .9-2 2v14c0 1.1.9 2 2 2h14c1.1 0 2-.9 2-2V5c0-1.1-.9-2-2-2zM9 17H7v-7h2v7zm4 0h-2V7h2v10zm4 0h-2v-4h2v4z\"/>\n",
              "    </g>\n",
              "</svg>\n",
              "  </button>\n",
              "\n",
              "<style>\n",
              "  .colab-df-quickchart {\n",
              "      --bg-color: #E8F0FE;\n",
              "      --fill-color: #1967D2;\n",
              "      --hover-bg-color: #E2EBFA;\n",
              "      --hover-fill-color: #174EA6;\n",
              "      --disabled-fill-color: #AAA;\n",
              "      --disabled-bg-color: #DDD;\n",
              "  }\n",
              "\n",
              "  [theme=dark] .colab-df-quickchart {\n",
              "      --bg-color: #3B4455;\n",
              "      --fill-color: #D2E3FC;\n",
              "      --hover-bg-color: #434B5C;\n",
              "      --hover-fill-color: #FFFFFF;\n",
              "      --disabled-bg-color: #3B4455;\n",
              "      --disabled-fill-color: #666;\n",
              "  }\n",
              "\n",
              "  .colab-df-quickchart {\n",
              "    background-color: var(--bg-color);\n",
              "    border: none;\n",
              "    border-radius: 50%;\n",
              "    cursor: pointer;\n",
              "    display: none;\n",
              "    fill: var(--fill-color);\n",
              "    height: 32px;\n",
              "    padding: 0;\n",
              "    width: 32px;\n",
              "  }\n",
              "\n",
              "  .colab-df-quickchart:hover {\n",
              "    background-color: var(--hover-bg-color);\n",
              "    box-shadow: 0 1px 2px rgba(60, 64, 67, 0.3), 0 1px 3px 1px rgba(60, 64, 67, 0.15);\n",
              "    fill: var(--button-hover-fill-color);\n",
              "  }\n",
              "\n",
              "  .colab-df-quickchart-complete:disabled,\n",
              "  .colab-df-quickchart-complete:disabled:hover {\n",
              "    background-color: var(--disabled-bg-color);\n",
              "    fill: var(--disabled-fill-color);\n",
              "    box-shadow: none;\n",
              "  }\n",
              "\n",
              "  .colab-df-spinner {\n",
              "    border: 2px solid var(--fill-color);\n",
              "    border-color: transparent;\n",
              "    border-bottom-color: var(--fill-color);\n",
              "    animation:\n",
              "      spin 1s steps(1) infinite;\n",
              "  }\n",
              "\n",
              "  @keyframes spin {\n",
              "    0% {\n",
              "      border-color: transparent;\n",
              "      border-bottom-color: var(--fill-color);\n",
              "      border-left-color: var(--fill-color);\n",
              "    }\n",
              "    20% {\n",
              "      border-color: transparent;\n",
              "      border-left-color: var(--fill-color);\n",
              "      border-top-color: var(--fill-color);\n",
              "    }\n",
              "    30% {\n",
              "      border-color: transparent;\n",
              "      border-left-color: var(--fill-color);\n",
              "      border-top-color: var(--fill-color);\n",
              "      border-right-color: var(--fill-color);\n",
              "    }\n",
              "    40% {\n",
              "      border-color: transparent;\n",
              "      border-right-color: var(--fill-color);\n",
              "      border-top-color: var(--fill-color);\n",
              "    }\n",
              "    60% {\n",
              "      border-color: transparent;\n",
              "      border-right-color: var(--fill-color);\n",
              "    }\n",
              "    80% {\n",
              "      border-color: transparent;\n",
              "      border-right-color: var(--fill-color);\n",
              "      border-bottom-color: var(--fill-color);\n",
              "    }\n",
              "    90% {\n",
              "      border-color: transparent;\n",
              "      border-bottom-color: var(--fill-color);\n",
              "    }\n",
              "  }\n",
              "</style>\n",
              "\n",
              "  <script>\n",
              "    async function quickchart(key) {\n",
              "      const quickchartButtonEl =\n",
              "        document.querySelector('#' + key + ' button');\n",
              "      quickchartButtonEl.disabled = true;  // To prevent multiple clicks.\n",
              "      quickchartButtonEl.classList.add('colab-df-spinner');\n",
              "      try {\n",
              "        const charts = await google.colab.kernel.invokeFunction(\n",
              "            'suggestCharts', [key], {});\n",
              "      } catch (error) {\n",
              "        console.error('Error during call to suggestCharts:', error);\n",
              "      }\n",
              "      quickchartButtonEl.classList.remove('colab-df-spinner');\n",
              "      quickchartButtonEl.classList.add('colab-df-quickchart-complete');\n",
              "    }\n",
              "    (() => {\n",
              "      let quickchartButtonEl =\n",
              "        document.querySelector('#df-a1c51511-2354-4be3-ae08-4443f21006a8 button');\n",
              "      quickchartButtonEl.style.display =\n",
              "        google.colab.kernel.accessAllowed ? 'block' : 'none';\n",
              "    })();\n",
              "  </script>\n",
              "</div>\n",
              "\n",
              "    </div>\n",
              "  </div>\n"
            ],
            "text/plain": [
              "        Scenario  Mean  Std\n",
              "0         Random  71.0  5.6\n",
              "1    Pre-train 1  62.5  5.2\n",
              "2   Pre-train 10  56.2  2.1\n",
              "3   Pre-train 20  56.8  2.6\n",
              "4  Pre-train 100  57.0  2.1"
            ]
          },
          "execution_count": 126,
          "metadata": {},
          "output_type": "execute_result"
        }
      ],
      "source": [
        "import pandas as pd\n",
        "\n",
        "history_all = pd.read_csv(RESULT1D_DIR + \"/history_all.csv\")\n",
        "analysis1d.make_epoch_table(history_all)"
      ]
    },
    {
      "cell_type": "markdown",
      "metadata": {
        "id": "gX6bCcZNuxmz"
      },
      "source": [
        "### Figure 1: Average Validation Macro F1 Comparison\n",
        "\n",
        "We plot the average validation macro F1 scores by epoch for each of the five scenarios using `plot_f1_by_epoch()` ([source](https://github.com/myles-i/DLH_TransferLearning/blob/master/report/analysis1d.py#L39))."
      ]
    },
    {
      "cell_type": "code",
      "execution_count": 127,
      "metadata": {
        "colab": {
          "base_uri": "https://localhost:8080/",
          "height": 455
        },
        "id": "kAFOCZymytgL",
        "outputId": "bc160b74-8e96-4674-8427-08f65ec82b65"
      },
      "outputs": [
        {
          "data": {
            "image/png": "[encoded data removed]",
            "text/plain": [
              "<Figure size 640x480 with 1 Axes>"
            ]
          },
          "metadata": {},
          "output_type": "display_data"
        }
      ],
      "source": [
        "analysis1d.plot_f1_by_epoch(history_all)"
      ]
    },
    {
      "cell_type": "markdown",
      "metadata": {
        "id": "uDXH2ZTou2VN"
      },
      "source": [
        "### Figure 2: Average Validation Macro F1 between Random and Pre-trained Scenario\n",
        "\n",
        "Similar to Figure 1, but with only random and pre-trained 100% scenarios and we also include shaded regions for each line. The shaded region represents the area between the maximum and minimum macro F1 score for that epoch among the 10 trials for a scenario. The `plot_f1_by_epoch_with_range` function is used to generate Figure 2 ([source](https://github.com/myles-i/DLH_TransferLearning/blob/master/report/analysis1d.py#L84))."
      ]
    },
    {
      "cell_type": "code",
      "execution_count": 128,
      "metadata": {
        "colab": {
          "base_uri": "https://localhost:8080/",
          "height": 455
        },
        "id": "9z4IpyZ7u2VO",
        "outputId": "d78a9a3e-e18f-4dc8-9534-46c92d2da326"
      },
      "outputs": [
        {
          "data": {
            "image/png": "[encoded data removed]",
            "text/plain": [
              "<Figure size 640x480 with 1 Axes>"
            ]
          },
          "metadata": {},
          "output_type": "display_data"
        }
      ],
      "source": [
        "analysis1d.plot_f1_by_epoch_with_range(history_all)"
      ]
    },
    {
      "cell_type": "markdown",
      "metadata": {
        "id": "TbF9J1rE1ytR"
      },
      "source": [
        "### Table 2: Average Test Macro F1 Comparison\n",
        "\n",
        "Recall that the fine-tuning entrypoint performs inference on the test set using the model with the highest validation macro F1 score.\n",
        "\n",
        "We use `make_f1_table()` ([source](https://github.com/myles-i/DLH_TransferLearning/blob/master/report/analysis1d.py#L127)) to generate a table that is similar in format to Table 1 of the paper.\n",
        "\n",
        "For each scenario, we report the average macro F1 score (and the standard deviation) on the test set. We also report the average F1 score for each class in the _PhysioNet 2017_ dataset:\n",
        "\n",
        "- Normal (F1n)\n",
        "- AF (F1a)\n",
        "- Other (F1o)\n",
        "- Noisy (F1p)"
      ]
    },
    {
      "cell_type": "code",
      "execution_count": 129,
      "metadata": {
        "colab": {
          "base_uri": "https://localhost:8080/",
          "height": 206
        },
        "id": "Nob5zEKX3DI1",
        "outputId": "ffe23b7a-e06f-45dd-a10f-c93f340169fd"
      },
      "outputs": [
        {
          "data": {
            "application/vnd.google.colaboratory.intrinsic+json": {
              "summary": "{\n  \"name\": \"analysis1d\",\n  \"rows\": 5,\n  \"fields\": [\n    {\n      \"column\": \"Type\",\n      \"properties\": {\n        \"dtype\": \"string\",\n        \"num_unique_values\": 5,\n        \"samples\": [\n          \"Pre-train 1\",\n          \"Pre-train 100\",\n          \"Pre-train 10\"\n        ],\n        \"semantic_type\": \"\",\n        \"description\": \"\"\n      }\n    },\n    {\n      \"column\": \"F1\",\n      \"properties\": {\n        \"dtype\": \"string\",\n        \"num_unique_values\": 5,\n        \"samples\": [\n          \".754 (\\u00b1 .011)\",\n          \".773 (\\u00b1 .012)\",\n          \".765 (\\u00b1 .012)\"\n        ],\n        \"semantic_type\": \"\",\n        \"description\": \"\"\n      }\n    },\n    {\n      \"column\": \"F1n\",\n      \"properties\": {\n        \"dtype\": \"string\",\n        \"num_unique_values\": 5,\n        \"samples\": [\n          \".899 (\\u00b1 .010)\",\n          \".904 (\\u00b1 .007)\",\n          \".904 (\\u00b1 .005)\"\n        ],\n        \"semantic_type\": \"\",\n        \"description\": \"\"\n      }\n    },\n    {\n      \"column\": \"F1a\",\n      \"properties\": {\n        \"dtype\": \"string\",\n        \"num_unique_values\": 5,\n        \"samples\": [\n          \".728 (\\u00b1 .034)\",\n          \".751 (\\u00b1 .038)\",\n          \".745 (\\u00b1 .017)\"\n        ],\n        \"semantic_type\": \"\",\n        \"description\": \"\"\n      }\n    },\n    {\n      \"column\": \"F1o\",\n      \"properties\": {\n        \"dtype\": \"string\",\n        \"num_unique_values\": 5,\n        \"samples\": [\n          \".729 (\\u00b1 .013)\",\n          \".750 (\\u00b1 .014)\",\n          \".735 (\\u00b1 .013)\"\n        ],\n        \"semantic_type\": \"\",\n        \"description\": \"\"\n      }\n    },\n    {\n      \"column\": \"F1p\",\n      \"properties\": {\n        \"dtype\": \"string\",\n        \"num_unique_values\": 5,\n        \"samples\": [\n          \".661 (\\u00b1 .024)\",\n          \".688 (\\u00b1 .026)\",\n          \".675 (\\u00b1 .030)\"\n        ],\n        \"semantic_type\": \"\",\n        \"description\": \"\"\n      }\n    }\n  ]\n}",
              "type": "dataframe"
            },
            "text/html": [
              "\n",
              "  <div id=\"df-7723c9f5-ec6f-4faa-aa61-0fa5f7d2c1f4\" class=\"colab-df-container\">\n",
              "    <div>\n",
              "<style scoped>\n",
              "    .dataframe tbody tr th:only-of-type {\n",
              "        vertical-align: middle;\n",
              "    }\n",
              "\n",
              "    .dataframe tbody tr th {\n",
              "        vertical-align: top;\n",
              "    }\n",
              "\n",
              "    .dataframe thead th {\n",
              "        text-align: right;\n",
              "    }\n",
              "</style>\n",
              "<table border=\"1\" class=\"dataframe\">\n",
              "  <thead>\n",
              "    <tr style=\"text-align: right;\">\n",
              "      <th></th>\n",
              "      <th>Type</th>\n",
              "      <th>F1</th>\n",
              "      <th>F1n</th>\n",
              "      <th>F1a</th>\n",
              "      <th>F1o</th>\n",
              "      <th>F1p</th>\n",
              "    </tr>\n",
              "  </thead>\n",
              "  <tbody>\n",
              "    <tr>\n",
              "      <th>0</th>\n",
              "      <td>Random</td>\n",
              "      <td>.702 (± .030)</td>\n",
              "      <td>.881 (± .011)</td>\n",
              "      <td>.647 (± .048)</td>\n",
              "      <td>.686 (± .030)</td>\n",
              "      <td>.595 (± .063)</td>\n",
              "    </tr>\n",
              "    <tr>\n",
              "      <th>1</th>\n",
              "      <td>Pre-train 1</td>\n",
              "      <td>.754 (± .011)</td>\n",
              "      <td>.899 (± .010)</td>\n",
              "      <td>.728 (± .034)</td>\n",
              "      <td>.729 (± .013)</td>\n",
              "      <td>.661 (± .024)</td>\n",
              "    </tr>\n",
              "    <tr>\n",
              "      <th>2</th>\n",
              "      <td>Pre-train 10</td>\n",
              "      <td>.765 (± .012)</td>\n",
              "      <td>.904 (± .005)</td>\n",
              "      <td>.745 (± .017)</td>\n",
              "      <td>.735 (± .013)</td>\n",
              "      <td>.675 (± .030)</td>\n",
              "    </tr>\n",
              "    <tr>\n",
              "      <th>3</th>\n",
              "      <td>Pre-train 20</td>\n",
              "      <td>.765 (± .014)</td>\n",
              "      <td>.901 (± .004)</td>\n",
              "      <td>.760 (± .026)</td>\n",
              "      <td>.741 (± .012)</td>\n",
              "      <td>.658 (± .032)</td>\n",
              "    </tr>\n",
              "    <tr>\n",
              "      <th>4</th>\n",
              "      <td>Pre-train 100</td>\n",
              "      <td>.773 (± .012)</td>\n",
              "      <td>.904 (± .007)</td>\n",
              "      <td>.751 (± .038)</td>\n",
              "      <td>.750 (± .014)</td>\n",
              "      <td>.688 (± .026)</td>\n",
              "    </tr>\n",
              "  </tbody>\n",
              "</table>\n",
              "</div>\n",
              "    <div class=\"colab-df-buttons\">\n",
              "\n",
              "  <div class=\"colab-df-container\">\n",
              "    <button class=\"colab-df-convert\" onclick=\"convertToInteractive('df-7723c9f5-ec6f-4faa-aa61-0fa5f7d2c1f4')\"\n",
              "            title=\"Convert this dataframe to an interactive table.\"\n",
              "            style=\"display:none;\">\n",
              "\n",
              "  <svg xmlns=\"http://www.w3.org/2000/svg\" height=\"24px\" viewBox=\"0 -960 960 960\">\n",
              "    <path d=\"M120-120v-720h720v720H120Zm60-500h600v-160H180v160Zm220 220h160v-160H400v160Zm0 220h160v-160H400v160ZM180-400h160v-160H180v160Zm440 0h160v-160H620v160ZM180-180h160v-160H180v160Zm440 0h160v-160H620v160Z\"/>\n",
              "  </svg>\n",
              "    </button>\n",
              "\n",
              "  <style>\n",
              "    .colab-df-container {\n",
              "      display:flex;\n",
              "      gap: 12px;\n",
              "    }\n",
              "\n",
              "    .colab-df-convert {\n",
              "      background-color: #E8F0FE;\n",
              "      border: none;\n",
              "      border-radius: 50%;\n",
              "      cursor: pointer;\n",
              "      display: none;\n",
              "      fill: #1967D2;\n",
              "      height: 32px;\n",
              "      padding: 0 0 0 0;\n",
              "      width: 32px;\n",
              "    }\n",
              "\n",
              "    .colab-df-convert:hover {\n",
              "      background-color: #E2EBFA;\n",
              "      box-shadow: 0px 1px 2px rgba(60, 64, 67, 0.3), 0px 1px 3px 1px rgba(60, 64, 67, 0.15);\n",
              "      fill: #174EA6;\n",
              "    }\n",
              "\n",
              "    .colab-df-buttons div {\n",
              "      margin-bottom: 4px;\n",
              "    }\n",
              "\n",
              "    [theme=dark] .colab-df-convert {\n",
              "      background-color: #3B4455;\n",
              "      fill: #D2E3FC;\n",
              "    }\n",
              "\n",
              "    [theme=dark] .colab-df-convert:hover {\n",
              "      background-color: #434B5C;\n",
              "      box-shadow: 0px 1px 3px 1px rgba(0, 0, 0, 0.15);\n",
              "      filter: drop-shadow(0px 1px 2px rgba(0, 0, 0, 0.3));\n",
              "      fill: #FFFFFF;\n",
              "    }\n",
              "  </style>\n",
              "\n",
              "    <script>\n",
              "      const buttonEl =\n",
              "        document.querySelector('#df-7723c9f5-ec6f-4faa-aa61-0fa5f7d2c1f4 button.colab-df-convert');\n",
              "      buttonEl.style.display =\n",
              "        google.colab.kernel.accessAllowed ? 'block' : 'none';\n",
              "\n",
              "      async function convertToInteractive(key) {\n",
              "        const element = document.querySelector('#df-7723c9f5-ec6f-4faa-aa61-0fa5f7d2c1f4');\n",
              "        const dataTable =\n",
              "          await google.colab.kernel.invokeFunction('convertToInteractive',\n",
              "                                                    [key], {});\n",
              "        if (!dataTable) return;\n",
              "\n",
              "        const docLinkHtml = 'Like what you see? Visit the ' +\n",
              "          '<a target=\"_blank\" href=https://colab.research.google.com/notebooks/data_table.ipynb>data table notebook</a>'\n",
              "          + ' to learn more about interactive tables.';\n",
              "        element.innerHTML = '';\n",
              "        dataTable['output_type'] = 'display_data';\n",
              "        await google.colab.output.renderOutput(dataTable, element);\n",
              "        const docLink = document.createElement('div');\n",
              "        docLink.innerHTML = docLinkHtml;\n",
              "        element.appendChild(docLink);\n",
              "      }\n",
              "    </script>\n",
              "  </div>\n",
              "\n",
              "\n",
              "<div id=\"df-7f329ebb-754d-4ebb-8dfc-d4c3903dea6b\">\n",
              "  <button class=\"colab-df-quickchart\" onclick=\"quickchart('df-7f329ebb-754d-4ebb-8dfc-d4c3903dea6b')\"\n",
              "            title=\"Suggest charts\"\n",
              "            style=\"display:none;\">\n",
              "\n",
              "<svg xmlns=\"http://www.w3.org/2000/svg\" height=\"24px\"viewBox=\"0 0 24 24\"\n",
              "     width=\"24px\">\n",
              "    <g>\n",
              "        <path d=\"M19 3H5c-1.1 0-2 .9-2 2v14c0 1.1.9 2 2 2h14c1.1 0 2-.9 2-2V5c0-1.1-.9-2-2-2zM9 17H7v-7h2v7zm4 0h-2V7h2v10zm4 0h-2v-4h2v4z\"/>\n",
              "    </g>\n",
              "</svg>\n",
              "  </button>\n",
              "\n",
              "<style>\n",
              "  .colab-df-quickchart {\n",
              "      --bg-color: #E8F0FE;\n",
              "      --fill-color: #1967D2;\n",
              "      --hover-bg-color: #E2EBFA;\n",
              "      --hover-fill-color: #174EA6;\n",
              "      --disabled-fill-color: #AAA;\n",
              "      --disabled-bg-color: #DDD;\n",
              "  }\n",
              "\n",
              "  [theme=dark] .colab-df-quickchart {\n",
              "      --bg-color: #3B4455;\n",
              "      --fill-color: #D2E3FC;\n",
              "      --hover-bg-color: #434B5C;\n",
              "      --hover-fill-color: #FFFFFF;\n",
              "      --disabled-bg-color: #3B4455;\n",
              "      --disabled-fill-color: #666;\n",
              "  }\n",
              "\n",
              "  .colab-df-quickchart {\n",
              "    background-color: var(--bg-color);\n",
              "    border: none;\n",
              "    border-radius: 50%;\n",
              "    cursor: pointer;\n",
              "    display: none;\n",
              "    fill: var(--fill-color);\n",
              "    height: 32px;\n",
              "    padding: 0;\n",
              "    width: 32px;\n",
              "  }\n",
              "\n",
              "  .colab-df-quickchart:hover {\n",
              "    background-color: var(--hover-bg-color);\n",
              "    box-shadow: 0 1px 2px rgba(60, 64, 67, 0.3), 0 1px 3px 1px rgba(60, 64, 67, 0.15);\n",
              "    fill: var(--button-hover-fill-color);\n",
              "  }\n",
              "\n",
              "  .colab-df-quickchart-complete:disabled,\n",
              "  .colab-df-quickchart-complete:disabled:hover {\n",
              "    background-color: var(--disabled-bg-color);\n",
              "    fill: var(--disabled-fill-color);\n",
              "    box-shadow: none;\n",
              "  }\n",
              "\n",
              "  .colab-df-spinner {\n",
              "    border: 2px solid var(--fill-color);\n",
              "    border-color: transparent;\n",
              "    border-bottom-color: var(--fill-color);\n",
              "    animation:\n",
              "      spin 1s steps(1) infinite;\n",
              "  }\n",
              "\n",
              "  @keyframes spin {\n",
              "    0% {\n",
              "      border-color: transparent;\n",
              "      border-bottom-color: var(--fill-color);\n",
              "      border-left-color: var(--fill-color);\n",
              "    }\n",
              "    20% {\n",
              "      border-color: transparent;\n",
              "      border-left-color: var(--fill-color);\n",
              "      border-top-color: var(--fill-color);\n",
              "    }\n",
              "    30% {\n",
              "      border-color: transparent;\n",
              "      border-left-color: var(--fill-color);\n",
              "      border-top-color: var(--fill-color);\n",
              "      border-right-color: var(--fill-color);\n",
              "    }\n",
              "    40% {\n",
              "      border-color: transparent;\n",
              "      border-right-color: var(--fill-color);\n",
              "      border-top-color: var(--fill-color);\n",
              "    }\n",
              "    60% {\n",
              "      border-color: transparent;\n",
              "      border-right-color: var(--fill-color);\n",
              "    }\n",
              "    80% {\n",
              "      border-color: transparent;\n",
              "      border-right-color: var(--fill-color);\n",
              "      border-bottom-color: var(--fill-color);\n",
              "    }\n",
              "    90% {\n",
              "      border-color: transparent;\n",
              "      border-bottom-color: var(--fill-color);\n",
              "    }\n",
              "  }\n",
              "</style>\n",
              "\n",
              "  <script>\n",
              "    async function quickchart(key) {\n",
              "      const quickchartButtonEl =\n",
              "        document.querySelector('#' + key + ' button');\n",
              "      quickchartButtonEl.disabled = true;  // To prevent multiple clicks.\n",
              "      quickchartButtonEl.classList.add('colab-df-spinner');\n",
              "      try {\n",
              "        const charts = await google.colab.kernel.invokeFunction(\n",
              "            'suggestCharts', [key], {});\n",
              "      } catch (error) {\n",
              "        console.error('Error during call to suggestCharts:', error);\n",
              "      }\n",
              "      quickchartButtonEl.classList.remove('colab-df-spinner');\n",
              "      quickchartButtonEl.classList.add('colab-df-quickchart-complete');\n",
              "    }\n",
              "    (() => {\n",
              "      let quickchartButtonEl =\n",
              "        document.querySelector('#df-7f329ebb-754d-4ebb-8dfc-d4c3903dea6b button');\n",
              "      quickchartButtonEl.style.display =\n",
              "        google.colab.kernel.accessAllowed ? 'block' : 'none';\n",
              "    })();\n",
              "  </script>\n",
              "</div>\n",
              "\n",
              "    </div>\n",
              "  </div>\n"
            ],
            "text/plain": [
              "            Type             F1            F1n            F1a            F1o  \\\n",
              "0         Random  .702 (± .030)  .881 (± .011)  .647 (± .048)  .686 (± .030)   \n",
              "1    Pre-train 1  .754 (± .011)  .899 (± .010)  .728 (± .034)  .729 (± .013)   \n",
              "2   Pre-train 10  .765 (± .012)  .904 (± .005)  .745 (± .017)  .735 (± .013)   \n",
              "3   Pre-train 20  .765 (± .014)  .901 (± .004)  .760 (± .026)  .741 (± .012)   \n",
              "4  Pre-train 100  .773 (± .012)  .904 (± .007)  .751 (± .038)  .750 (± .014)   \n",
              "\n",
              "             F1p  \n",
              "0  .595 (± .063)  \n",
              "1  .661 (± .024)  \n",
              "2  .675 (± .030)  \n",
              "3  .658 (± .032)  \n",
              "4  .688 (± .026)  "
            ]
          },
          "execution_count": 129,
          "metadata": {},
          "output_type": "execute_result"
        }
      ],
      "source": [
        "from transplant.utils import load_pkl\n",
        "\n",
        "predictions_all = load_pkl(RESULT1D_DIR + \"/predictions_all.pkl\")\n",
        "analysis1d.make_f1_table(predictions_all)"
      ]
    },
    {
      "cell_type": "markdown",
      "metadata": {
        "id": "72P9hHES3-XD"
      },
      "source": [
        "## Analysis"
      ]
    },
    {
      "cell_type": "markdown",
      "metadata": {
        "id": "YNLmcFuBIshQ"
      },
      "source": [
        "### Epoch Analysis\n",
        "\n",
        "Table 1 shows the average and standard deviation of the number of epochs taken by the fine-tuning process to converge by means of early stopping. Recall that the average statistic is taken over 10 trials for each scenario.\n",
        "\n",
        "Table 1 shows that:\n",
        "- The model pre-trained with 1% of the data took about 10% fewer epochs to reach convergence during fine-tuning compared to the randomly initialized model.\n",
        "- The models pre-trained with 10%/20%/100% of the data took about 20% fewer epochs to reach convergence during fine-tuning compared to the randomly initialized model.\n",
        "- The models pre-trained with 10%/20%/100% of the data had about the same average epochs to convergence, with the 10% model being marginally faster than the 20% and 100% model.\n",
        "- Since all four pre-trained models converge faster, they all triggered the early stopping sooner than did the randomly initialized model.\n",
        "\n",
        "#### Comparing with Paper Results\n",
        "\n",
        "There is not a table in the paper that is directly comparable to Table 1. However, we can perform an indirect comparison by looking at Figure 3(a) of the paper (see the \"Appendix\" for convenience). Specifically, from Figure 3(a) we see that pre-training takes between 15% to 20% fewer epochs to converge compared to random initialization. This is quite similar to the 10~20% reduction in epoch count for all four pre-trained models in Table 1.\n",
        "\n",
        "#### Comparing with Hypothesis\n",
        "\n",
        "We compare our result to **Hypothesis 2**. Note that Table 1 does not address Hypothesis 2 directly as the result does not concern performance on the target task. However, if we consider epoch count to be a substitute, we might expect the model pre-trained with more data to take fewer epochs to fine-tune compared to the model pre-trained with less data.\n",
        "\n",
        "Table 1 does not support this modified hypothesis. It shows that 10%/20%/100% pre-trained models are very similar in fine-tuning epoch count, and in fact the 10% model needs slightly fewer epochs than the 20% and 100% models.\n",
        "\n",
        "One explanation for this behavior may be that once the model is pre-trained with a \"sufficient\" amount of the data, any additional data in pre-training will not reduce the number of epochs to converge in fine-tuning. Since the pre-training and fine-tuning task are similar but not identical, pre-training with too much data may cause the model to overfit the pre-training task and marginally increase the number of epochs to converge in fine-tuning task.\n",
        "\n"
      ]
    },
    {
      "cell_type": "markdown",
      "metadata": {
        "id": "sIUJTesy3-XD"
      },
      "source": [
        "### Validation Macro F1 Analysis\n",
        "\n",
        "Figure 1 compares the average macro F1 scores of each scenario on the validation set per epoch. Inspecting Figure 1 shows that pre-trained models:\n",
        "\n",
        "* achieve a high validation macro F1 within just several epochs, whereas the randomly initialized model takes longer to converge and reaches a lower validation macro F1 plateau.\n",
        "* consistently show better validation performance than the randomly initialized model over the course of fine-tuning.\n",
        "* produce more stable macro F1 scores as more data is used for pre-training.\n",
        "\n",
        "Figure 2 is similar to Figure 1 but it only shows two lines corresponding to the random and pre-training on 100% data models. Figure 2 also shows shaded regions for each line that are demarcated by the maximum and minimum macro F1 score per epoch among the 10 trials for each scenario. Thus, inspecting Figure 2 will yield similar observations as mentioned above for Figure 1.\n",
        "\n",
        "An additional observation we may make about Figure 2 is that it is clear from the shading that the higher stability of the pre-trained model is due to less variance in the macro F1 score over the 10 trials.\n",
        "\n",
        "#### Comparing with Paper Results\n",
        "We compare both Figures 1 and 2 to Figure 3(a) in the paper (see the \"Appendix\" for convenience).\n",
        "\n",
        "##### Figure 1\n",
        "\n",
        "The main difference is that Figure 1 has five lines, one for each scenario whereas Figure 3(a) has just two as the paper only considers two scenarios: random initialization and pre-trained.\n",
        "\n",
        "In terms of the shape of the lines, we see that the lines for all three scenarios in Figure 1 have a very similar shape to the lines in Figure 3(a) in the paper. We also see a similar separation between the 'plateaus' of the pre-trained models and the randomly initialized model in Figure 1. Also the plateaus in Figure 1 appear to hover around similar macro F1 scores as in Figure 3(a).\n",
        "\n",
        "The main discrepancy between Figure 1 and Figure 3(a) is the number of epochs. In Figure 1, all scenarios completed fine-tuning within about 80 epochs. However in Figure 3(a), that figure is around 140 epochs.\n",
        "\n",
        "The reason for the discrepancy lies in the metric used for early stopping of fine-tuning. Recall that the fine-tuning process is set up to terminate early if the metric does not 'improve' for 50 epochs. In our work, we used the code as provided, which uses the validation loss as the metric. However, the paper authors use training accuracy as the metric.\n",
        "\n",
        "In a separate trial experiment (not included in this report), we changed the metric to training accuracy and saw fine-tuning take more than 100 epochs to converge, which explained the cause for the discrepancy in epoch count between the two figures. However we did not re-run our experiments to use the correct metric for the following reasons:\n",
        "\n",
        "- The increase in epochs directly correlates with training time (from 30 minutes to 60 minutes) and compute costs.\n",
        "- We were constrained on time and compute resources, having spent much of both on running the full set of experiments using the validation loss metric.\n",
        "- Even with the 'wrong' metric, the fine-tuning results in Figure 1 and Table 2 are very similar to Figure 3(a) and Table 1 in the paper, respectively.\n",
        "\n",
        "These reasons suggest that the choice of metric used for early stopping does not appear to make a huge difference in terms of the performance of the fine-tuned model.\n",
        "\n",
        "##### Figure 2\n",
        "\n",
        "Much of what has been said for Figure 1 also applies to Figure 2 when comparing Figure 2 to Figure 3(a) in the paper. The difference is that Figure 2 is our attempt to exactly reproduce Figure 3(a). So we may directly compare the two figures.\n",
        "\n",
        "The two figures are very similar to each other in that they both show:\n",
        "\n",
        "- visible gap between the lines of the pre-trained versus random model.\n",
        "- pre-trained model fine-tuning converges significantly faster compared to the random model.\n",
        "\n",
        "The differences between the two figure can likely be attributed to different initial conditions including:\n",
        "\n",
        "- seed used to split the fine-tuning dataset into train and validation for a trial, for each scenario.\n",
        "- seed used to split the raw fine-tuning dataset into train and test datasets\n",
        "\n",
        "\n",
        "#### Comparing with Hypothesis\n",
        "\n",
        "We compare Figure 1 to both **Hypotheses 1 and 2**, and Figure 2 to **Hypothesis 1**.\n",
        "\n",
        "**Hypothesis 1**: Both Figures 1 and 2 appear to support Hypothesis 1 in that there is a clear increase in the performance of pre-trained models compared to a model that is not pre-trained on the validation dataset.\n",
        "\n",
        "**Hypothesis 2**: Figure 1 does not appear to strongly support Hypothesis 2 for the validation dataset. We see that the blue (10%) and orange (20%) lines are very similar to each other; the orange line is not a clear winner compared to the blue line. And even for the green line (100%), while it has higher performance before 40 epochs have passed, its performance becomes very similar to that of the 10% and 20% models, even if it is more stable.\n",
        "\n",
        "This may suggest that increasing the amount of data used for pre-training yields diminishing returns.\n"
      ]
    },
    {
      "cell_type": "markdown",
      "metadata": {
        "id": "N_qEZOGaAsKI"
      },
      "source": [
        "### Test F1 Analysis\n",
        "\n",
        "Note that Table 2 should be compared to the None and Beat Classification, Frame 4096 rows of Table 1 in the paper (see \"Appendix\"), as that is the scope of our replication work.\n",
        "\n",
        "Table 2 shows that all pre-trained models outperform random initialized model in both:\n",
        "\n",
        "- Average macro F1 score (F1 column).\n",
        "- Average per-class F1 score, all classes (`F1n`, `F1a`, `F1o`, and `F1p` columns).\n",
        "\n",
        "We observe that pre-training on 1% of the data yields large increases in average F1 scores, compared to the random model.\n",
        "\n",
        "We also see that both 10% and 20% scenarios had the same average macro F1 scores. There was no consistent winner at the average per-class F1 scores. However, the 100% scenario had the best average F1 scores across the board.\n",
        "\n",
        "#### Comparing with Paper Results\n",
        "\n",
        "Our results in Table 2 are consistent with those in Table 1 of the paper.\n",
        "\n",
        "- The 100% pre-trained model shows 10% higher average macro F1 score than that of random initialization.\n",
        "- This is higher than the 6.57% figure reported in the paper.\n",
        "    - This increase is due to the lower test performance of our random model compared to the paper's. The variation may be due to the model sensitivity to the initial conditions such as the splitting of the train and test datasets.\n",
        "\n",
        "#### Comparing with Hypothesis\n",
        "\n",
        "We compare the results to **Hypotheses 1 and 2**.\n",
        "\n",
        "**Hypothesis 1** Table 2 indeed validates Hypothesis 1 in that pre-training on any amount of the pre-training dataset does improve the performance of the fine-tuned model on the target dataset, when compared to a not pre-trained model.\n",
        "\n",
        "**Hypothesis 2** Table 2 validates Hypothesis 2 in that pre-training on larger subsets of the dataset generally produces better test performance, compared to pre-training on a smaller subset.\n",
        "\n",
        "- The 100% model had the global best test performance compared to any of the other pre-trained models.\n",
        "- Both 10% and 20% models outperformed the 1% model.\n",
        "- However, the 20% model did not outperform the 10% model. The two models were the most similar to each other among the pre-trained models in test performance."
      ]
    },
    {
      "cell_type": "markdown",
      "metadata": {
        "id": "cxA8ecxzthX5"
      },
      "source": [
        "# Ablation Study (Hypothesis 3) - Experiment Beyond Paper's Results\n",
        "Given the extent of work for the ablation study, we dedicate a separate top-level section to it, instead of locating it within the \"Results\" section.\n",
        "\n",
        "## Background\n",
        "\n",
        "The original paper is entirely based on 1-D CNNs and the raw ECG signal. To extend the paper's results, we aim to pre-process the raw signals using Fourier transforms to represent the data as a spectrogram -- a frequency versus time representation of ECG signals.\n",
        "\n",
        "Using this representation of the input, we will train a 2-D CNN model (i.e. 2-D ResNet-18v2) and compare the performance of pre-trained and randomly initialized models. Additionally, we will compare the 2-D model performance to the 1-D models originally used by the authors.\n",
        "\n",
        "This extension is motivated by a study on ECG Arrhythmia classification that demonstrates the effectiveness of CNNs trained on spectrograms <cite data-cite=\"Huang:2019\">[5]</cite>. By converting ECG data to spectrogram features and then using spectrograms to pre-train a 2-D ResNet, we intend to illustrate the adaptability of the transfer learning framework in the original paper across diverse model architectures."
      ]
    },
    {
      "cell_type": "markdown",
      "metadata": {
        "id": "SxStRoZ9IshR"
      },
      "source": [
        "## Spectrogram Preprocessing\n",
        "For the spectrogram, the following parameters were chosen:\n",
        "\n",
        "- Window size: 256 (~1 second)\n",
        "- Stride: 32 (~0.13 seconds)\n",
        "- Window type: hanning -> this is like a pre-defined convolution that is used to smooth the FFTs for each spectrogram slice\n",
        "- Normalization: Remove mean from each sample\n",
        "- Scale: linear (not db)"
      ]
    },
    {
      "cell_type": "markdown",
      "metadata": {
        "id": "IxN53_FbL-9j"
      },
      "source": [
        "### Spectrogram Preprocessing Code\n",
        "The spectrogram pre-processing code and the data loaders for the pre-training can be found [here](https://github.com/myles-i/DLH_TransferLearning/blob/master/transplant/datasets/icentia11k_spectrogram.py).\n",
        "\n",
        "Below, we show the raw ECG signal next to the spectrogram of the same signal using our pre-processing function, and then use the spectrogram pre-processor on the same ECG signal presented in the earlier \"Data\" section."
      ]
    },
    {
      "cell_type": "code",
      "execution_count": 130,
      "metadata": {
        "colab": {
          "base_uri": "https://localhost:8080/",
          "height": 1000
        },
        "id": "cORhGYpy-3DF",
        "outputId": "5239039e-4fa7-4127-a578-2e4ceba60fed"
      },
      "outputs": [
        {
          "name": "stdout",
          "output_type": "stream",
          "text": [
            "Beat label: normal\n"
          ]
        },
        {
          "data": {
            "image/png": "[encoded data removed]",
            "text/plain": [
              "<Figure size 640x480 with 1 Axes>"
            ]
          },
          "metadata": {},
          "output_type": "display_data"
        },
        {
          "data": {
            "image/png": "[encoded data removed]",
            "text/plain": [
              "<Figure size 800x600 with 2 Axes>"
            ]
          },
          "metadata": {},
          "output_type": "display_data"
        }
      ],
      "source": [
        "from pretraining import datasets\n",
        "from transplant.datasets.icentia11k_spectrogram import spectrogram_preprocessor\n",
        "# use raw data we grabbed earlier\n",
        "\n",
        "# First let's plot the raw signal for comparison\n",
        "print(f\"Beat label: {datasets.icentia11k.ds_beat_names[data[1]]}\")\n",
        "_ = plt.plot(np.arange(len(data[0])) / 250, data[0])\n",
        "_ = plt.xlabel(\"second\")\n",
        "_ = plt.ylabel(\"ECG signal\")\n",
        "\n",
        "# Now let's calculate and plot the spectrogram of this raw signal\n",
        "x = spectrogram_preprocessor(\n",
        "    np.squeeze(data[0]),\n",
        "    window_size=256,\n",
        "    stride=32,\n",
        "    n_freqs=128,\n",
        "    fs=250.0,\n",
        "    ref=1,\n",
        ")\n",
        "fig, ax = plt.subplots(1, 1, figsize=(8, 6))\n",
        "im1 = ax.imshow(x, cmap=\"viridis\", aspect=\"auto\")\n",
        "fig.colorbar(im1, label=\"Magnitude $|S_x(t, f)|$\")\n",
        "ax.set_title(f\"Sample spectrogram of shape {x.shape}\")\n",
        "ax.set_xlabel(\"spectrogram slice #\")\n",
        "ax.set_ylabel(\"Frequency Index\")\n",
        "ax.invert_yaxis()\n",
        "plt.show()"
      ]
    },
    {
      "cell_type": "markdown",
      "metadata": {
        "id": "s_7HIzCq-OVs"
      },
      "source": [
        "### Ablation Model: 2-D ResNet-18v2\n",
        "The model chosen for the ablation study using spectrograms is similar to the original model used, but is a 2-D ResNet-18v2. It is presented here:\n",
        "\n",
        "[Link](https://github.com/songrise/CNN_Keras/blob/main/src/ResNet-18.py) to base code for the model that we used in this project, with the updated version in our repo [here](https://github.com/myles-i/DLH_TransferLearning/blob/master/transplant/modules/resnet2d.py)\n",
        "\n",
        "This ResNet architecture is based on the original design by He, et al <cite data-cite=\"he2016identity\">[10]</cite>.\n",
        "\n",
        "* Model architecture\n",
        "  * 18 layers\n",
        "  * Input layer consists of convolution layer with 64 filters, kernel size=7x7 and stride=2. The output of the convolution layer passes through batch norm, ReLu and max-pooling layer sequentially.\n",
        "  * The middle 16 layers consists of 8 residual blocks. A residual block consists of the following two components and outputs the sum of the two components' outputs.\n",
        "    1. Two convolution layers, each followed by batch norm and ReLu\n",
        "    2. A shortcut that passes the input through a convolution layer followed by batch norm.\n",
        "  * Output layer is a classifier consisting of a densely-connected layer followed by softmax or sigmoid function.\n",
        "  * Configurations of the residual blocks\n",
        "    * 1st and 2nd: 64 filters, kernel size=3x3, strides=2 and 1, respectively.\n",
        "    * 3rd and 4th: 128 filters, kernel size=3x3, strides=2 and 1, respectively.\n",
        "    * 5th and 6th: 256 filters, kernel size=3x3, strides=2 and 1, respectively.\n",
        "    * 7th and 8th: 512 filters, kernel size=3x3, strides=2 and 1, respectively.\n",
        "\n",
        "* Pre-training objectives\n",
        "  * The same as the original author's 1-D pre-training objectives.\n",
        "\n",
        "* Fine-tuning objectives\n",
        "  * The same as the original author's 1-D pre-training objectives (F1 score)\n",
        "\n",
        "Pre-trained model weights we trained with patients 0-2047 of the _Icentia11k_ dataset (~20%) can be found downloaded from Google Drive [here](https://drive.google.com/file/d/1-2rY0cxoLG1xK-L7RNKNwX0fDDtpT5oo/view?usp=sharing).\n",
        "\n",
        "\n",
        "Pre-trained model weights we trained with patients 0-9680 of the _Icentia11k_ dataset (~88%) can be found downloaded from Google Drive [here](https://drive.google.com/file/d/13Lv9ZLW2s9-ABLBIMRiK6NULWoQJ6_7j/view?usp=drive_link).\n",
        "\n",
        "This model is built and displayed below for reference:\n",
        "  "
      ]
    },
    {
      "cell_type": "code",
      "execution_count": 131,
      "metadata": {
        "colab": {
          "base_uri": "https://localhost:8080/"
        },
        "id": "vly2sx16FH9d",
        "outputId": "d973ae4b-5cbc-4851-a561-4bd594bb20e1"
      },
      "outputs": [
        {
          "name": "stdout",
          "output_type": "stream",
          "text": [
            "Model: \"res_net18_2d_1\"\n",
            "_________________________________________________________________\n",
            " Layer (type)                Output Shape              Param #   \n",
            "=================================================================\n",
            " conv2d_20 (Conv2D)          multiple                  3200      \n",
            "                                                                 \n",
            " batch_normalization_24 (Ba  multiple                  256       \n",
            " tchNormalization)                                               \n",
            "                                                                 \n",
            " max_pooling2d_1 (MaxPoolin  multiple                  0         \n",
            " g2D)                                                            \n",
            "                                                                 \n",
            " resnet_block_8 (ResnetBloc  multiple                  74368     \n",
            " k)                                                              \n",
            "|¯¯¯¯¯¯¯¯¯¯¯¯¯¯¯¯¯¯¯¯¯¯¯¯¯¯¯¯¯¯¯¯¯¯¯¯¯¯¯¯¯¯¯¯¯¯¯¯¯¯¯¯¯¯¯¯¯¯¯¯¯¯¯|\n",
            "| conv2d_21 (Conv2D)         multiple                  36928    |\n",
            "|                                                               |\n",
            "| batch_normalization_25 (B  multiple                  256      |\n",
            "| atchNormalization)                                            |\n",
            "|                                                               |\n",
            "| conv2d_22 (Conv2D)         multiple                  36928    |\n",
            "|                                                               |\n",
            "| batch_normalization_26 (B  multiple                  256      |\n",
            "| atchNormalization)                                            |\n",
            "|                                                               |\n",
            "| add_8 (Add)                multiple                  0        |\n",
            "¯¯¯¯¯¯¯¯¯¯¯¯¯¯¯¯¯¯¯¯¯¯¯¯¯¯¯¯¯¯¯¯¯¯¯¯¯¯¯¯¯¯¯¯¯¯¯¯¯¯¯¯¯¯¯¯¯¯¯¯¯¯¯¯¯\n",
            " resnet_block_9 (ResnetBloc  multiple                  74368     \n",
            " k)                                                              \n",
            "|¯¯¯¯¯¯¯¯¯¯¯¯¯¯¯¯¯¯¯¯¯¯¯¯¯¯¯¯¯¯¯¯¯¯¯¯¯¯¯¯¯¯¯¯¯¯¯¯¯¯¯¯¯¯¯¯¯¯¯¯¯¯¯|\n",
            "| conv2d_23 (Conv2D)         multiple                  36928    |\n",
            "|                                                               |\n",
            "| batch_normalization_27 (B  multiple                  256      |\n",
            "| atchNormalization)                                            |\n",
            "|                                                               |\n",
            "| conv2d_24 (Conv2D)         multiple                  36928    |\n",
            "|                                                               |\n",
            "| batch_normalization_28 (B  multiple                  256      |\n",
            "| atchNormalization)                                            |\n",
            "|                                                               |\n",
            "| add_9 (Add)                multiple                  0        |\n",
            "¯¯¯¯¯¯¯¯¯¯¯¯¯¯¯¯¯¯¯¯¯¯¯¯¯¯¯¯¯¯¯¯¯¯¯¯¯¯¯¯¯¯¯¯¯¯¯¯¯¯¯¯¯¯¯¯¯¯¯¯¯¯¯¯¯\n",
            " resnet_block_10 (ResnetBlo  multiple                  231296    \n",
            " ck)                                                             \n",
            "|¯¯¯¯¯¯¯¯¯¯¯¯¯¯¯¯¯¯¯¯¯¯¯¯¯¯¯¯¯¯¯¯¯¯¯¯¯¯¯¯¯¯¯¯¯¯¯¯¯¯¯¯¯¯¯¯¯¯¯¯¯¯¯|\n",
            "| conv2d_25 (Conv2D)         multiple                  73856    |\n",
            "|                                                               |\n",
            "| batch_normalization_29 (B  multiple                  512      |\n",
            "| atchNormalization)                                            |\n",
            "|                                                               |\n",
            "| conv2d_26 (Conv2D)         multiple                  147584   |\n",
            "|                                                               |\n",
            "| batch_normalization_30 (B  multiple                  512      |\n",
            "| atchNormalization)                                            |\n",
            "|                                                               |\n",
            "| add_10 (Add)               multiple                  0        |\n",
            "|                                                               |\n",
            "| conv2d_27 (Conv2D)         multiple                  8320     |\n",
            "|                                                               |\n",
            "| batch_normalization_31 (B  multiple                  512      |\n",
            "| atchNormalization)                                            |\n",
            "¯¯¯¯¯¯¯¯¯¯¯¯¯¯¯¯¯¯¯¯¯¯¯¯¯¯¯¯¯¯¯¯¯¯¯¯¯¯¯¯¯¯¯¯¯¯¯¯¯¯¯¯¯¯¯¯¯¯¯¯¯¯¯¯¯\n",
            " resnet_block_11 (ResnetBlo  multiple                  296192    \n",
            " ck)                                                             \n",
            "|¯¯¯¯¯¯¯¯¯¯¯¯¯¯¯¯¯¯¯¯¯¯¯¯¯¯¯¯¯¯¯¯¯¯¯¯¯¯¯¯¯¯¯¯¯¯¯¯¯¯¯¯¯¯¯¯¯¯¯¯¯¯¯|\n",
            "| conv2d_28 (Conv2D)         multiple                  147584   |\n",
            "|                                                               |\n",
            "| batch_normalization_32 (B  multiple                  512      |\n",
            "| atchNormalization)                                            |\n",
            "|                                                               |\n",
            "| conv2d_29 (Conv2D)         multiple                  147584   |\n",
            "|                                                               |\n",
            "| batch_normalization_33 (B  multiple                  512      |\n",
            "| atchNormalization)                                            |\n",
            "|                                                               |\n",
            "| add_11 (Add)               multiple                  0        |\n",
            "¯¯¯¯¯¯¯¯¯¯¯¯¯¯¯¯¯¯¯¯¯¯¯¯¯¯¯¯¯¯¯¯¯¯¯¯¯¯¯¯¯¯¯¯¯¯¯¯¯¯¯¯¯¯¯¯¯¯¯¯¯¯¯¯¯\n",
            " resnet_block_12 (ResnetBlo  multiple                  921344    \n",
            " ck)                                                             \n",
            "|¯¯¯¯¯¯¯¯¯¯¯¯¯¯¯¯¯¯¯¯¯¯¯¯¯¯¯¯¯¯¯¯¯¯¯¯¯¯¯¯¯¯¯¯¯¯¯¯¯¯¯¯¯¯¯¯¯¯¯¯¯¯¯|\n",
            "| conv2d_30 (Conv2D)         multiple                  295168   |\n",
            "|                                                               |\n",
            "| batch_normalization_34 (B  multiple                  1024     |\n",
            "| atchNormalization)                                            |\n",
            "|                                                               |\n",
            "| conv2d_31 (Conv2D)         multiple                  590080   |\n",
            "|                                                               |\n",
            "| batch_normalization_35 (B  multiple                  1024     |\n",
            "| atchNormalization)                                            |\n",
            "|                                                               |\n",
            "| add_12 (Add)               multiple                  0        |\n",
            "|                                                               |\n",
            "| conv2d_32 (Conv2D)         multiple                  33024    |\n",
            "|                                                               |\n",
            "| batch_normalization_36 (B  multiple                  1024     |\n",
            "| atchNormalization)                                            |\n",
            "¯¯¯¯¯¯¯¯¯¯¯¯¯¯¯¯¯¯¯¯¯¯¯¯¯¯¯¯¯¯¯¯¯¯¯¯¯¯¯¯¯¯¯¯¯¯¯¯¯¯¯¯¯¯¯¯¯¯¯¯¯¯¯¯¯\n",
            " resnet_block_13 (ResnetBlo  multiple                  1182208   \n",
            " ck)                                                             \n",
            "|¯¯¯¯¯¯¯¯¯¯¯¯¯¯¯¯¯¯¯¯¯¯¯¯¯¯¯¯¯¯¯¯¯¯¯¯¯¯¯¯¯¯¯¯¯¯¯¯¯¯¯¯¯¯¯¯¯¯¯¯¯¯¯|\n",
            "| conv2d_33 (Conv2D)         multiple                  590080   |\n",
            "|                                                               |\n",
            "| batch_normalization_37 (B  multiple                  1024     |\n",
            "| atchNormalization)                                            |\n",
            "|                                                               |\n",
            "| conv2d_34 (Conv2D)         multiple                  590080   |\n",
            "|                                                               |\n",
            "| batch_normalization_38 (B  multiple                  1024     |\n",
            "| atchNormalization)                                            |\n",
            "|                                                               |\n",
            "| add_13 (Add)               multiple                  0        |\n",
            "¯¯¯¯¯¯¯¯¯¯¯¯¯¯¯¯¯¯¯¯¯¯¯¯¯¯¯¯¯¯¯¯¯¯¯¯¯¯¯¯¯¯¯¯¯¯¯¯¯¯¯¯¯¯¯¯¯¯¯¯¯¯¯¯¯\n",
            " resnet_block_14 (ResnetBlo  multiple                  3677696   \n",
            " ck)                                                             \n",
            "|¯¯¯¯¯¯¯¯¯¯¯¯¯¯¯¯¯¯¯¯¯¯¯¯¯¯¯¯¯¯¯¯¯¯¯¯¯¯¯¯¯¯¯¯¯¯¯¯¯¯¯¯¯¯¯¯¯¯¯¯¯¯¯|\n",
            "| conv2d_35 (Conv2D)         multiple                  1180160  |\n",
            "|                                                               |\n",
            "| batch_normalization_39 (B  multiple                  2048     |\n",
            "| atchNormalization)                                            |\n",
            "|                                                               |\n",
            "| conv2d_36 (Conv2D)         multiple                  2359808  |\n",
            "|                                                               |\n",
            "| batch_normalization_40 (B  multiple                  2048     |\n",
            "| atchNormalization)                                            |\n",
            "|                                                               |\n",
            "| add_14 (Add)               multiple                  0        |\n",
            "|                                                               |\n",
            "| conv2d_37 (Conv2D)         multiple                  131584   |\n",
            "|                                                               |\n",
            "| batch_normalization_41 (B  multiple                  2048     |\n",
            "| atchNormalization)                                            |\n",
            "¯¯¯¯¯¯¯¯¯¯¯¯¯¯¯¯¯¯¯¯¯¯¯¯¯¯¯¯¯¯¯¯¯¯¯¯¯¯¯¯¯¯¯¯¯¯¯¯¯¯¯¯¯¯¯¯¯¯¯¯¯¯¯¯¯\n",
            " resnet_block_15 (ResnetBlo  multiple                  4723712   \n",
            " ck)                                                             \n",
            "|¯¯¯¯¯¯¯¯¯¯¯¯¯¯¯¯¯¯¯¯¯¯¯¯¯¯¯¯¯¯¯¯¯¯¯¯¯¯¯¯¯¯¯¯¯¯¯¯¯¯¯¯¯¯¯¯¯¯¯¯¯¯¯|\n",
            "| conv2d_38 (Conv2D)         multiple                  2359808  |\n",
            "|                                                               |\n",
            "| batch_normalization_42 (B  multiple                  2048     |\n",
            "| atchNormalization)                                            |\n",
            "|                                                               |\n",
            "| conv2d_39 (Conv2D)         multiple                  2359808  |\n",
            "|                                                               |\n",
            "| batch_normalization_43 (B  multiple                  2048     |\n",
            "| atchNormalization)                                            |\n",
            "|                                                               |\n",
            "| add_15 (Add)               multiple                  0        |\n",
            "¯¯¯¯¯¯¯¯¯¯¯¯¯¯¯¯¯¯¯¯¯¯¯¯¯¯¯¯¯¯¯¯¯¯¯¯¯¯¯¯¯¯¯¯¯¯¯¯¯¯¯¯¯¯¯¯¯¯¯¯¯¯¯¯¯\n",
            " global_average_pooling2d_1  multiple                  0         \n",
            "  (GlobalAveragePooling2D)                                       \n",
            "                                                                 \n",
            " flatten_1 (Flatten)         multiple                  0         \n",
            "                                                                 \n",
            " dense_3 (Dense)             multiple                  2565      \n",
            "                                                                 \n",
            "=================================================================\n",
            "Total params: 11187205 (42.68 MB)\n",
            "Trainable params: 11177605 (42.64 MB)\n",
            "Non-trainable params: 9600 (37.50 KB)\n",
            "_________________________________________________________________\n"
          ]
        }
      ],
      "source": [
        "from transplant.modules.resnet2d import ResNet18_2D\n",
        "import transplant.datasets.icentia11k as icentia11k\n",
        "\n",
        "num_classes = len(icentia11k.ds_beat_names)\n",
        "model = ResNet18_2D(num_classes=num_classes)\n",
        "model.build(input_shape=(None, 64, 64, 1))\n",
        "model.compile(\n",
        "    optimizer=tf.keras.optimizers.Adam(beta_1=0.9, beta_2=0.98, epsilon=1e-9),\n",
        "    loss=tf.keras.losses.SparseCategoricalCrossentropy(from_logits=True),\n",
        "    metrics=[tf.keras.metrics.SparseCategoricalAccuracy(name=\"acc\")],\n",
        ")\n",
        "model.summary(expand_nested=True)"
      ]
    },
    {
      "cell_type": "markdown",
      "metadata": {
        "id": "Vc-7nub7Nvme"
      },
      "source": [
        "## Ablation Training"
      ]
    },
    {
      "cell_type": "markdown",
      "metadata": {
        "id": "DgqgfmNPIshS"
      },
      "source": [
        "### Hyperparameters\n",
        "To simplify the training and make comparisons easier, the same hyperparameters for pre-training and fine-tuning were used during the ablation study. These common parameters included the batch size and learning rates, sample rates, and frame size. The only different hyperparameters were those chosen for the pre-processing step. These are already listed in the preprocessing section.\n",
        "\n",
        "### Computational Requirements\n",
        "The computational requirements of the ablation study were higher for two reasons:\n",
        "\n",
        "* The addition of the spectrogram preprocessing.\n",
        "* A significantly larger model (11.2 million versus 4.5 million parameters).\n",
        "\n",
        "For this reason, the NVIDIA L4 GPU with 22.4 GB RAM was chosen for for both pre-training and fine-tuning.\n",
        "\n",
        "#### Pre-training\n",
        "Due to the increased computational requirements, the pre-training for the ablation took nearly twice per patient as using the 1-D ResNet-18v2. Trainining with 88% percent of the patients in the icentia11k framework took 24 hours, which exceeded the google collab process runtime limit and prevented us from using 100% of the data.\n",
        "\n",
        "* Average runtime per 1,000 patients: 2 hours, 29 minutes\n",
        "* Total number of trials: 1\n",
        "* GPU hours used: 24hrs\n",
        "    - Frame size 4096\n",
        "    - 9068 patients x 4096 samples per data = **8 million samples** (about 88% of the _Icentia11k_ dataset)\n",
        "* Number of training epochs: 1\n",
        "\n",
        "#### Fine-tuning\n",
        "For fine-tuning, all of the data was pre-processed just once to reduce repeated computations during fine-tune training. The notebook to generate this data can be found [here](https://github.com/myles-i/DLH_TransferLearning/blob/master/jupyter_notebooks/finetuning_spectrogram_preprocess.ipynb).\n",
        "\n",
        "This reduced the extra computational burden of the ablation framework.\n",
        "\n",
        "* Average runtime for each epoch: 15 seconds\n",
        "* Total number of trials: 50\n",
        "    - 10 trials for each of the three scenarios: random, 1%, 10% and 20%, 88%\n",
        "* GPU hours used: About 14.2 hours total.\n",
        "    - Random: 2.8 hours\n",
        "    - 1%: 2.7hrs\n",
        "    - 10%: 3.1 hours\n",
        "    - 20%: 2.9 hours\n",
        "    - 88%: 2.7 hours\n",
        "* Number of training epochs: Maximum 200 per trial, but in practice, saw early stopping by far fewer epochs\n",
        "    - Training for a single trial would typically complete within 20 minutes"
      ]
    },
    {
      "cell_type": "markdown",
      "metadata": {
        "id": "mcVgI-rOZ35d"
      },
      "source": [
        "### Training Code - Command Line Interface\n",
        "The spectrogram pre-processing and the 2-D ResNet-18v2 are integrated into the original authors' codebase in our fork of the repo. As such, the same commands that were presented earlier can be used, with small modifications.\n",
        "\n",
        "#### Pre-training\n",
        "The only modification is the `--arch` (architecture) argument, which should be set to `--arch \"resnet18_2d\"`.\n",
        "\n",
        "#### Fine-tuning\n",
        "For fine-tuning, the same `--arch` modification is needed. Otherwise, the only difference is pointing the trainer to the correct pre-processed spectrogram data files.\n",
        "\n",
        "As an example, the pre-training command is executed below using the same sample data as was used for the corresponding command in the 1-D ResNet-18v2 section:"
      ]
    },
    {
      "cell_type": "code",
      "execution_count": 132,
      "metadata": {
        "id": "TilqXBeWPkOR"
      },
      "outputs": [],
      "source": [
        "PRETRAIN2D_JOB_DIR = \"/tmp/pretrain2d/\""
      ]
    },
    {
      "cell_type": "code",
      "execution_count": 133,
      "metadata": {
        "colab": {
          "base_uri": "https://localhost:8080/"
        },
        "id": "tJxAVlQbbXDi",
        "outputId": "d111e50f-8a25-4b14-80db-dc7fee7d38c1"
      },
      "outputs": [
        {
          "name": "stdout",
          "output_type": "stream",
          "text": [
            "2024-05-06 15:31:16.983791: E external/local_xla/xla/stream_executor/cuda/cuda_dnn.cc:9261] Unable to register cuDNN factory: Attempting to register factory for plugin cuDNN when one has already been registered\n",
            "2024-05-06 15:31:16.983841: E external/local_xla/xla/stream_executor/cuda/cuda_fft.cc:607] Unable to register cuFFT factory: Attempting to register factory for plugin cuFFT when one has already been registered\n",
            "2024-05-06 15:31:16.985181: E external/local_xla/xla/stream_executor/cuda/cuda_blas.cc:1515] Unable to register cuBLAS factory: Attempting to register factory for plugin cuBLAS when one has already been registered\n",
            "2024-05-06 15:31:18.020545: W tensorflow/compiler/tf2tensorrt/utils/py_utils.cc:38] TF-TRT Warning: Could not find TensorRT\n",
            "Creating working directory in /tmp/pretrain2d\n",
            "Setting random state 2024\n",
            "Building train data generators\n",
            "# Patient IDs:  1\n",
            "WARNING:tensorflow:From /tmp/repo/transplant/datasets/icentia11k_spectrogram.py:71: calling DatasetV2.from_generator (from tensorflow.python.data.ops.dataset_ops) with output_types is deprecated and will be removed in a future version.\n",
            "Instructions for updating:\n",
            "Use output_signature instead\n",
            "WARNING:tensorflow:From /tmp/repo/transplant/datasets/icentia11k_spectrogram.py:71: calling DatasetV2.from_generator (from tensorflow.python.data.ops.dataset_ops) with output_shapes is deprecated and will be removed in a future version.\n",
            "Instructions for updating:\n",
            "Use output_signature instead\n",
            "2024-05-06 15:31:19.579036: W tensorflow/core/common_runtime/gpu/gpu_bfc_allocator.cc:47] Overriding orig_value setting because the TF_FORCE_GPU_ALLOW_GROWTH environment variable is set. Original config value was 0.\n",
            "Building model ...\n",
            "WARNING:tensorflow:AutoGraph could not transform <bound method ResnetBlock.call of <transplant.modules.resnet2d.ResnetBlock object at 0x7bc2fd2ad060>> and will run it as-is.\n",
            "Cause: mangled names are not yet supported\n",
            "To silence this warning, decorate the function with @tf.autograph.experimental.do_not_convert\n",
            "# model parameters: 11,187,205\n",
            "Epoch 1/2\n",
            "WARNING: All log messages before absl::InitializeLog() is called are written to STDERR\n",
            "I0000 00:00:1715009496.367567   60192 device_compiler.h:186] Compiled cluster using XLA!  This line is logged at most once for the lifetime of the process.\n",
            "\n",
            "Epoch 1: saving model to /tmp/pretrain2d/epoch_01/model.weights\n",
            "8/8 - 26s - loss: 0.6729 - acc: 0.7998 - 26s/epoch - 3s/step\n",
            "Epoch 2/2\n",
            "\n",
            "Epoch 2: saving model to /tmp/pretrain2d/epoch_02/model.weights\n",
            "8/8 - 3s - loss: 0.1160 - acc: 0.9751 - 3s/epoch - 362ms/step\n",
            "\u001b[0mException ignored in: <function AtomicFunction.__del__ at 0x7bc329527880>\n",
            "Traceback (most recent call last):\n",
            "  File \"/usr/local/lib/python3.10/dist-packages/tensorflow/python/eager/polymorphic_function/atomic_function.py\", line 291, in __del__\n",
            "TypeError: 'NoneType' object is not subscriptable\n",
            "CPU times: user 255 ms, sys: 30.9 ms, total: 286 ms\n",
            "Wall time: 36.5 s\n"
          ]
        }
      ],
      "source": [
        "%%time\n",
        "!python -m pretraining.trainer \\\n",
        "--job-dir {PRETRAIN2D_JOB_DIR} \\\n",
        "--task \"beat\" \\\n",
        "--train {DEMO_DATA_DIR} \\\n",
        "--arch \"resnet18_2d\" \\\n",
        "--epochs 2 \\\n",
        "--patient-ids 0 \\\n",
        "--steps-per-epoch 8 \\\n",
        "--samples-per-patient 4096 \\\n",
        "--batch-size 256 \\\n",
        "--frame-size 1024 \\\n",
        "--unzipped True \\\n",
        "--seed 2024"
      ]
    },
    {
      "cell_type": "markdown",
      "metadata": {
        "id": "78HXiHn44rm0"
      },
      "source": [
        "## Ablation Results"
      ]
    },
    {
      "cell_type": "markdown",
      "metadata": {
        "id": "CzBs708q7u5w"
      },
      "source": [
        "The procedure for generating the 2-D results is exactly the same as that for the 1-D results, just only with a different network structure. Thus the code used to generate the 1-D figures and tables above can be reused here."
      ]
    },
    {
      "cell_type": "code",
      "execution_count": 134,
      "metadata": {
        "id": "aGLCDzhAPsvR"
      },
      "outputs": [],
      "source": [
        "RESULT2D_DIR = \"/tmp/results2d/\""
      ]
    },
    {
      "cell_type": "code",
      "execution_count": 135,
      "metadata": {
        "colab": {
          "base_uri": "https://localhost:8080/"
        },
        "id": "ajWpqlVm5VXn",
        "outputId": "4ede1ca7-1ce2-45e9-aace-e010fbc31afc"
      },
      "outputs": [
        {
          "name": "stdout",
          "output_type": "stream",
          "text": [
            "CPU times: user 86.7 ms, sys: 32.2 ms, total: 119 ms\n",
            "Wall time: 11.6 s\n"
          ]
        }
      ],
      "source": [
        "%%time\n",
        "%%capture\n",
        "!mkdir -p {RESULT2D_DIR}\n",
        "!gdown 1GwhDdlvUVmJfQfY3slyfiR-ytcuDRQ8X -O {RESULT2D_DIR} --folder"
      ]
    },
    {
      "cell_type": "markdown",
      "metadata": {
        "id": "4_hCOJYNPsvS"
      },
      "source": [
        "### Figures and Tables\n",
        "\n",
        "Similar to the above \"Results\" section, we implement the analysis code in a separate file and import the analysis functions into this notebook. The code can be found on Github [here](https://github.com/myles-i/DLH_TransferLearning/blob/master/report/analysis2d.py).\n",
        "\n",
        "The code is in the `analysis2d` module, which we import below."
      ]
    },
    {
      "cell_type": "code",
      "execution_count": 136,
      "metadata": {
        "id": "hBZetBPzu2VQ"
      },
      "outputs": [],
      "source": [
        "from report import analysis2d"
      ]
    },
    {
      "cell_type": "markdown",
      "metadata": {
        "id": "RvvB9KbO98Bw"
      },
      "source": [
        "Table 3: Epochs required to complete fine-tuning - comparison\n",
        "\n",
        "Same setup as Table 1, but for the 2-D results."
      ]
    },
    {
      "cell_type": "code",
      "execution_count": 137,
      "metadata": {
        "colab": {
          "base_uri": "https://localhost:8080/",
          "height": 206
        },
        "id": "eiNr-HrP6yX4",
        "outputId": "7d8af073-a456-4b93-bf52-8ed3591e442a"
      },
      "outputs": [
        {
          "data": {
            "application/vnd.google.colaboratory.intrinsic+json": {
              "summary": "{\n  \"name\": \"analysis2d\",\n  \"rows\": 5,\n  \"fields\": [\n    {\n      \"column\": \"Scenario\",\n      \"properties\": {\n        \"dtype\": \"string\",\n        \"num_unique_values\": 5,\n        \"samples\": [\n          \"Pre-train 1\",\n          \"Pre-train 88\",\n          \"Pre-train 10\"\n        ],\n        \"semantic_type\": \"\",\n        \"description\": \"\"\n      }\n    },\n    {\n      \"column\": \"Mean\",\n      \"properties\": {\n        \"dtype\": \"number\",\n        \"std\": 2.7409852243308417,\n        \"min\": 54.5,\n        \"max\": 60.9,\n        \"num_unique_values\": 5,\n        \"samples\": [\n          54.5,\n          56.2,\n          60.4\n        ],\n        \"semantic_type\": \"\",\n        \"description\": \"\"\n      }\n    },\n    {\n      \"column\": \"Std\",\n      \"properties\": {\n        \"dtype\": \"number\",\n        \"std\": 0.9576011695899291,\n        \"min\": 1.7,\n        \"max\": 4.4,\n        \"num_unique_values\": 4,\n        \"samples\": [\n          4.4,\n          1.7,\n          3.2\n        ],\n        \"semantic_type\": \"\",\n        \"description\": \"\"\n      }\n    }\n  ]\n}",
              "type": "dataframe"
            },
            "text/html": [
              "\n",
              "  <div id=\"df-e07122db-fc4c-405a-a1c0-2b0737c5f1b1\" class=\"colab-df-container\">\n",
              "    <div>\n",
              "<style scoped>\n",
              "    .dataframe tbody tr th:only-of-type {\n",
              "        vertical-align: middle;\n",
              "    }\n",
              "\n",
              "    .dataframe tbody tr th {\n",
              "        vertical-align: top;\n",
              "    }\n",
              "\n",
              "    .dataframe thead th {\n",
              "        text-align: right;\n",
              "    }\n",
              "</style>\n",
              "<table border=\"1\" class=\"dataframe\">\n",
              "  <thead>\n",
              "    <tr style=\"text-align: right;\">\n",
              "      <th></th>\n",
              "      <th>Scenario</th>\n",
              "      <th>Mean</th>\n",
              "      <th>Std</th>\n",
              "    </tr>\n",
              "  </thead>\n",
              "  <tbody>\n",
              "    <tr>\n",
              "      <th>0</th>\n",
              "      <td>Random</td>\n",
              "      <td>60.9</td>\n",
              "      <td>3.2</td>\n",
              "    </tr>\n",
              "    <tr>\n",
              "      <th>1</th>\n",
              "      <td>Pre-train 1</td>\n",
              "      <td>54.5</td>\n",
              "      <td>3.2</td>\n",
              "    </tr>\n",
              "    <tr>\n",
              "      <th>2</th>\n",
              "      <td>Pre-train 10</td>\n",
              "      <td>60.4</td>\n",
              "      <td>4.4</td>\n",
              "    </tr>\n",
              "    <tr>\n",
              "      <th>3</th>\n",
              "      <td>Pre-train 20</td>\n",
              "      <td>58.7</td>\n",
              "      <td>3.1</td>\n",
              "    </tr>\n",
              "    <tr>\n",
              "      <th>4</th>\n",
              "      <td>Pre-train 88</td>\n",
              "      <td>56.2</td>\n",
              "      <td>1.7</td>\n",
              "    </tr>\n",
              "  </tbody>\n",
              "</table>\n",
              "</div>\n",
              "    <div class=\"colab-df-buttons\">\n",
              "\n",
              "  <div class=\"colab-df-container\">\n",
              "    <button class=\"colab-df-convert\" onclick=\"convertToInteractive('df-e07122db-fc4c-405a-a1c0-2b0737c5f1b1')\"\n",
              "            title=\"Convert this dataframe to an interactive table.\"\n",
              "            style=\"display:none;\">\n",
              "\n",
              "  <svg xmlns=\"http://www.w3.org/2000/svg\" height=\"24px\" viewBox=\"0 -960 960 960\">\n",
              "    <path d=\"M120-120v-720h720v720H120Zm60-500h600v-160H180v160Zm220 220h160v-160H400v160Zm0 220h160v-160H400v160ZM180-400h160v-160H180v160Zm440 0h160v-160H620v160ZM180-180h160v-160H180v160Zm440 0h160v-160H620v160Z\"/>\n",
              "  </svg>\n",
              "    </button>\n",
              "\n",
              "  <style>\n",
              "    .colab-df-container {\n",
              "      display:flex;\n",
              "      gap: 12px;\n",
              "    }\n",
              "\n",
              "    .colab-df-convert {\n",
              "      background-color: #E8F0FE;\n",
              "      border: none;\n",
              "      border-radius: 50%;\n",
              "      cursor: pointer;\n",
              "      display: none;\n",
              "      fill: #1967D2;\n",
              "      height: 32px;\n",
              "      padding: 0 0 0 0;\n",
              "      width: 32px;\n",
              "    }\n",
              "\n",
              "    .colab-df-convert:hover {\n",
              "      background-color: #E2EBFA;\n",
              "      box-shadow: 0px 1px 2px rgba(60, 64, 67, 0.3), 0px 1px 3px 1px rgba(60, 64, 67, 0.15);\n",
              "      fill: #174EA6;\n",
              "    }\n",
              "\n",
              "    .colab-df-buttons div {\n",
              "      margin-bottom: 4px;\n",
              "    }\n",
              "\n",
              "    [theme=dark] .colab-df-convert {\n",
              "      background-color: #3B4455;\n",
              "      fill: #D2E3FC;\n",
              "    }\n",
              "\n",
              "    [theme=dark] .colab-df-convert:hover {\n",
              "      background-color: #434B5C;\n",
              "      box-shadow: 0px 1px 3px 1px rgba(0, 0, 0, 0.15);\n",
              "      filter: drop-shadow(0px 1px 2px rgba(0, 0, 0, 0.3));\n",
              "      fill: #FFFFFF;\n",
              "    }\n",
              "  </style>\n",
              "\n",
              "    <script>\n",
              "      const buttonEl =\n",
              "        document.querySelector('#df-e07122db-fc4c-405a-a1c0-2b0737c5f1b1 button.colab-df-convert');\n",
              "      buttonEl.style.display =\n",
              "        google.colab.kernel.accessAllowed ? 'block' : 'none';\n",
              "\n",
              "      async function convertToInteractive(key) {\n",
              "        const element = document.querySelector('#df-e07122db-fc4c-405a-a1c0-2b0737c5f1b1');\n",
              "        const dataTable =\n",
              "          await google.colab.kernel.invokeFunction('convertToInteractive',\n",
              "                                                    [key], {});\n",
              "        if (!dataTable) return;\n",
              "\n",
              "        const docLinkHtml = 'Like what you see? Visit the ' +\n",
              "          '<a target=\"_blank\" href=https://colab.research.google.com/notebooks/data_table.ipynb>data table notebook</a>'\n",
              "          + ' to learn more about interactive tables.';\n",
              "        element.innerHTML = '';\n",
              "        dataTable['output_type'] = 'display_data';\n",
              "        await google.colab.output.renderOutput(dataTable, element);\n",
              "        const docLink = document.createElement('div');\n",
              "        docLink.innerHTML = docLinkHtml;\n",
              "        element.appendChild(docLink);\n",
              "      }\n",
              "    </script>\n",
              "  </div>\n",
              "\n",
              "\n",
              "<div id=\"df-d08a19c0-72b0-46c0-a193-655bfd68d6c9\">\n",
              "  <button class=\"colab-df-quickchart\" onclick=\"quickchart('df-d08a19c0-72b0-46c0-a193-655bfd68d6c9')\"\n",
              "            title=\"Suggest charts\"\n",
              "            style=\"display:none;\">\n",
              "\n",
              "<svg xmlns=\"http://www.w3.org/2000/svg\" height=\"24px\"viewBox=\"0 0 24 24\"\n",
              "     width=\"24px\">\n",
              "    <g>\n",
              "        <path d=\"M19 3H5c-1.1 0-2 .9-2 2v14c0 1.1.9 2 2 2h14c1.1 0 2-.9 2-2V5c0-1.1-.9-2-2-2zM9 17H7v-7h2v7zm4 0h-2V7h2v10zm4 0h-2v-4h2v4z\"/>\n",
              "    </g>\n",
              "</svg>\n",
              "  </button>\n",
              "\n",
              "<style>\n",
              "  .colab-df-quickchart {\n",
              "      --bg-color: #E8F0FE;\n",
              "      --fill-color: #1967D2;\n",
              "      --hover-bg-color: #E2EBFA;\n",
              "      --hover-fill-color: #174EA6;\n",
              "      --disabled-fill-color: #AAA;\n",
              "      --disabled-bg-color: #DDD;\n",
              "  }\n",
              "\n",
              "  [theme=dark] .colab-df-quickchart {\n",
              "      --bg-color: #3B4455;\n",
              "      --fill-color: #D2E3FC;\n",
              "      --hover-bg-color: #434B5C;\n",
              "      --hover-fill-color: #FFFFFF;\n",
              "      --disabled-bg-color: #3B4455;\n",
              "      --disabled-fill-color: #666;\n",
              "  }\n",
              "\n",
              "  .colab-df-quickchart {\n",
              "    background-color: var(--bg-color);\n",
              "    border: none;\n",
              "    border-radius: 50%;\n",
              "    cursor: pointer;\n",
              "    display: none;\n",
              "    fill: var(--fill-color);\n",
              "    height: 32px;\n",
              "    padding: 0;\n",
              "    width: 32px;\n",
              "  }\n",
              "\n",
              "  .colab-df-quickchart:hover {\n",
              "    background-color: var(--hover-bg-color);\n",
              "    box-shadow: 0 1px 2px rgba(60, 64, 67, 0.3), 0 1px 3px 1px rgba(60, 64, 67, 0.15);\n",
              "    fill: var(--button-hover-fill-color);\n",
              "  }\n",
              "\n",
              "  .colab-df-quickchart-complete:disabled,\n",
              "  .colab-df-quickchart-complete:disabled:hover {\n",
              "    background-color: var(--disabled-bg-color);\n",
              "    fill: var(--disabled-fill-color);\n",
              "    box-shadow: none;\n",
              "  }\n",
              "\n",
              "  .colab-df-spinner {\n",
              "    border: 2px solid var(--fill-color);\n",
              "    border-color: transparent;\n",
              "    border-bottom-color: var(--fill-color);\n",
              "    animation:\n",
              "      spin 1s steps(1) infinite;\n",
              "  }\n",
              "\n",
              "  @keyframes spin {\n",
              "    0% {\n",
              "      border-color: transparent;\n",
              "      border-bottom-color: var(--fill-color);\n",
              "      border-left-color: var(--fill-color);\n",
              "    }\n",
              "    20% {\n",
              "      border-color: transparent;\n",
              "      border-left-color: var(--fill-color);\n",
              "      border-top-color: var(--fill-color);\n",
              "    }\n",
              "    30% {\n",
              "      border-color: transparent;\n",
              "      border-left-color: var(--fill-color);\n",
              "      border-top-color: var(--fill-color);\n",
              "      border-right-color: var(--fill-color);\n",
              "    }\n",
              "    40% {\n",
              "      border-color: transparent;\n",
              "      border-right-color: var(--fill-color);\n",
              "      border-top-color: var(--fill-color);\n",
              "    }\n",
              "    60% {\n",
              "      border-color: transparent;\n",
              "      border-right-color: var(--fill-color);\n",
              "    }\n",
              "    80% {\n",
              "      border-color: transparent;\n",
              "      border-right-color: var(--fill-color);\n",
              "      border-bottom-color: var(--fill-color);\n",
              "    }\n",
              "    90% {\n",
              "      border-color: transparent;\n",
              "      border-bottom-color: var(--fill-color);\n",
              "    }\n",
              "  }\n",
              "</style>\n",
              "\n",
              "  <script>\n",
              "    async function quickchart(key) {\n",
              "      const quickchartButtonEl =\n",
              "        document.querySelector('#' + key + ' button');\n",
              "      quickchartButtonEl.disabled = true;  // To prevent multiple clicks.\n",
              "      quickchartButtonEl.classList.add('colab-df-spinner');\n",
              "      try {\n",
              "        const charts = await google.colab.kernel.invokeFunction(\n",
              "            'suggestCharts', [key], {});\n",
              "      } catch (error) {\n",
              "        console.error('Error during call to suggestCharts:', error);\n",
              "      }\n",
              "      quickchartButtonEl.classList.remove('colab-df-spinner');\n",
              "      quickchartButtonEl.classList.add('colab-df-quickchart-complete');\n",
              "    }\n",
              "    (() => {\n",
              "      let quickchartButtonEl =\n",
              "        document.querySelector('#df-d08a19c0-72b0-46c0-a193-655bfd68d6c9 button');\n",
              "      quickchartButtonEl.style.display =\n",
              "        google.colab.kernel.accessAllowed ? 'block' : 'none';\n",
              "    })();\n",
              "  </script>\n",
              "</div>\n",
              "\n",
              "    </div>\n",
              "  </div>\n"
            ],
            "text/plain": [
              "       Scenario  Mean  Std\n",
              "0        Random  60.9  3.2\n",
              "1   Pre-train 1  54.5  3.2\n",
              "2  Pre-train 10  60.4  4.4\n",
              "3  Pre-train 20  58.7  3.1\n",
              "4  Pre-train 88  56.2  1.7"
            ]
          },
          "execution_count": 137,
          "metadata": {},
          "output_type": "execute_result"
        }
      ],
      "source": [
        "history_all_2d = pd.read_csv(\n",
        "    RESULT2D_DIR + \"results2d_all/history_all.csv\"\n",
        ")\n",
        "analysis2d.make_epoch_table(history_all_2d)"
      ]
    },
    {
      "cell_type": "markdown",
      "metadata": {
        "id": "r_iEr6Wh-_ip"
      },
      "source": [
        "#### Figure 4: Average Validation Macro F1 by epoch across all fine-tunings"
      ]
    },
    {
      "cell_type": "code",
      "execution_count": 138,
      "metadata": {
        "colab": {
          "base_uri": "https://localhost:8080/",
          "height": 455
        },
        "id": "oY6jbHcm_S5g",
        "outputId": "c7b5a630-d363-45c5-b7a8-a853f75679aa"
      },
      "outputs": [
        {
          "data": {
            "image/png": "[encoded data removed]",
            "text/plain": [
              "<Figure size 640x480 with 1 Axes>"
            ]
          },
          "metadata": {},
          "output_type": "display_data"
        }
      ],
      "source": [
        "analysis2d.plot_f1_by_epoch(history_all_2d)"
      ]
    },
    {
      "cell_type": "markdown",
      "metadata": {
        "id": "Hfg0KwfQ-L7s"
      },
      "source": [
        "#### Figure 5: Average Validation Macro F1 by epoch with min/max shading - random initialization vs 88% pretraining"
      ]
    },
    {
      "cell_type": "code",
      "execution_count": 139,
      "metadata": {
        "colab": {
          "base_uri": "https://localhost:8080/",
          "height": 455
        },
        "id": "0pF-jpzu7U9A",
        "outputId": "cbb5dbed-eb6f-4057-f64e-8f479cd7c51f"
      },
      "outputs": [
        {
          "data": {
            "image/png": "[encoded data removed]",
            "text/plain": [
              "<Figure size 640x480 with 1 Axes>"
            ]
          },
          "metadata": {},
          "output_type": "display_data"
        }
      ],
      "source": [
        "analysis2d.plot_f1_by_epoch_with_range(history_all_2d)"
      ]
    },
    {
      "cell_type": "markdown",
      "metadata": {
        "id": "mmKZT6i8-Y_G"
      },
      "source": [
        "#### Table 4: Average Test Macro F1 Comparison\n",
        "\n",
        "Same setup as Table 2, but for the 2-D results."
      ]
    },
    {
      "cell_type": "code",
      "execution_count": 140,
      "metadata": {
        "colab": {
          "base_uri": "https://localhost:8080/",
          "height": 206
        },
        "id": "bsyhv8577bE6",
        "outputId": "052abee3-3085-4ee0-c6a7-b07496e2b2b6"
      },
      "outputs": [
        {
          "data": {
            "application/vnd.google.colaboratory.intrinsic+json": {
              "summary": "{\n  \"name\": \"analysis2d\",\n  \"rows\": 5,\n  \"fields\": [\n    {\n      \"column\": \"Type\",\n      \"properties\": {\n        \"dtype\": \"string\",\n        \"num_unique_values\": 5,\n        \"samples\": [\n          \"Pre-train 1\",\n          \"Pre-train 88\",\n          \"Pre-train 10\"\n        ],\n        \"semantic_type\": \"\",\n        \"description\": \"\"\n      }\n    },\n    {\n      \"column\": \"F1\",\n      \"properties\": {\n        \"dtype\": \"string\",\n        \"num_unique_values\": 5,\n        \"samples\": [\n          \".754 (\\u00b1 .013)\",\n          \".765 (\\u00b1 .012)\",\n          \".762 (\\u00b1 .017)\"\n        ],\n        \"semantic_type\": \"\",\n        \"description\": \"\"\n      }\n    },\n    {\n      \"column\": \"F1n\",\n      \"properties\": {\n        \"dtype\": \"string\",\n        \"num_unique_values\": 5,\n        \"samples\": [\n          \".898 (\\u00b1 .007)\",\n          \".900 (\\u00b1 .005)\",\n          \".898 (\\u00b1 .005)\"\n        ],\n        \"semantic_type\": \"\",\n        \"description\": \"\"\n      }\n    },\n    {\n      \"column\": \"F1a\",\n      \"properties\": {\n        \"dtype\": \"string\",\n        \"num_unique_values\": 5,\n        \"samples\": [\n          \".737 (\\u00b1 .022)\",\n          \".774 (\\u00b1 .029)\",\n          \".751 (\\u00b1 .027)\"\n        ],\n        \"semantic_type\": \"\",\n        \"description\": \"\"\n      }\n    },\n    {\n      \"column\": \"F1o\",\n      \"properties\": {\n        \"dtype\": \"string\",\n        \"num_unique_values\": 5,\n        \"samples\": [\n          \".735 (\\u00b1 .016)\",\n          \".752 (\\u00b1 .010)\",\n          \".736 (\\u00b1 .015)\"\n        ],\n        \"semantic_type\": \"\",\n        \"description\": \"\"\n      }\n    },\n    {\n      \"column\": \"F1p\",\n      \"properties\": {\n        \"dtype\": \"string\",\n        \"num_unique_values\": 5,\n        \"samples\": [\n          \".644 (\\u00b1 .044)\",\n          \".632 (\\u00b1 .024)\",\n          \".662 (\\u00b1 .034)\"\n        ],\n        \"semantic_type\": \"\",\n        \"description\": \"\"\n      }\n    }\n  ]\n}",
              "type": "dataframe"
            },
            "text/html": [
              "\n",
              "  <div id=\"df-ae21e50d-7252-479d-87b6-b80ac4d02305\" class=\"colab-df-container\">\n",
              "    <div>\n",
              "<style scoped>\n",
              "    .dataframe tbody tr th:only-of-type {\n",
              "        vertical-align: middle;\n",
              "    }\n",
              "\n",
              "    .dataframe tbody tr th {\n",
              "        vertical-align: top;\n",
              "    }\n",
              "\n",
              "    .dataframe thead th {\n",
              "        text-align: right;\n",
              "    }\n",
              "</style>\n",
              "<table border=\"1\" class=\"dataframe\">\n",
              "  <thead>\n",
              "    <tr style=\"text-align: right;\">\n",
              "      <th></th>\n",
              "      <th>Type</th>\n",
              "      <th>F1</th>\n",
              "      <th>F1n</th>\n",
              "      <th>F1a</th>\n",
              "      <th>F1o</th>\n",
              "      <th>F1p</th>\n",
              "    </tr>\n",
              "  </thead>\n",
              "  <tbody>\n",
              "    <tr>\n",
              "      <th>0</th>\n",
              "      <td>Random</td>\n",
              "      <td>.715 (± .017)</td>\n",
              "      <td>.887 (± .005)</td>\n",
              "      <td>.681 (± .045)</td>\n",
              "      <td>.694 (± .028)</td>\n",
              "      <td>.600 (± .054)</td>\n",
              "    </tr>\n",
              "    <tr>\n",
              "      <th>1</th>\n",
              "      <td>Pre-train 1</td>\n",
              "      <td>.754 (± .013)</td>\n",
              "      <td>.898 (± .007)</td>\n",
              "      <td>.737 (± .022)</td>\n",
              "      <td>.735 (± .016)</td>\n",
              "      <td>.644 (± .044)</td>\n",
              "    </tr>\n",
              "    <tr>\n",
              "      <th>2</th>\n",
              "      <td>Pre-train 10</td>\n",
              "      <td>.762 (± .017)</td>\n",
              "      <td>.898 (± .005)</td>\n",
              "      <td>.751 (± .027)</td>\n",
              "      <td>.736 (± .015)</td>\n",
              "      <td>.662 (± .034)</td>\n",
              "    </tr>\n",
              "    <tr>\n",
              "      <th>3</th>\n",
              "      <td>Pre-train 20</td>\n",
              "      <td>.769 (± .014)</td>\n",
              "      <td>.903 (± .005)</td>\n",
              "      <td>.759 (± .015)</td>\n",
              "      <td>.751 (± .011)</td>\n",
              "      <td>.665 (± .041)</td>\n",
              "    </tr>\n",
              "    <tr>\n",
              "      <th>4</th>\n",
              "      <td>Pre-train 88</td>\n",
              "      <td>.765 (± .012)</td>\n",
              "      <td>.900 (± .005)</td>\n",
              "      <td>.774 (± .029)</td>\n",
              "      <td>.752 (± .010)</td>\n",
              "      <td>.632 (± .024)</td>\n",
              "    </tr>\n",
              "  </tbody>\n",
              "</table>\n",
              "</div>\n",
              "    <div class=\"colab-df-buttons\">\n",
              "\n",
              "  <div class=\"colab-df-container\">\n",
              "    <button class=\"colab-df-convert\" onclick=\"convertToInteractive('df-ae21e50d-7252-479d-87b6-b80ac4d02305')\"\n",
              "            title=\"Convert this dataframe to an interactive table.\"\n",
              "            style=\"display:none;\">\n",
              "\n",
              "  <svg xmlns=\"http://www.w3.org/2000/svg\" height=\"24px\" viewBox=\"0 -960 960 960\">\n",
              "    <path d=\"M120-120v-720h720v720H120Zm60-500h600v-160H180v160Zm220 220h160v-160H400v160Zm0 220h160v-160H400v160ZM180-400h160v-160H180v160Zm440 0h160v-160H620v160ZM180-180h160v-160H180v160Zm440 0h160v-160H620v160Z\"/>\n",
              "  </svg>\n",
              "    </button>\n",
              "\n",
              "  <style>\n",
              "    .colab-df-container {\n",
              "      display:flex;\n",
              "      gap: 12px;\n",
              "    }\n",
              "\n",
              "    .colab-df-convert {\n",
              "      background-color: #E8F0FE;\n",
              "      border: none;\n",
              "      border-radius: 50%;\n",
              "      cursor: pointer;\n",
              "      display: none;\n",
              "      fill: #1967D2;\n",
              "      height: 32px;\n",
              "      padding: 0 0 0 0;\n",
              "      width: 32px;\n",
              "    }\n",
              "\n",
              "    .colab-df-convert:hover {\n",
              "      background-color: #E2EBFA;\n",
              "      box-shadow: 0px 1px 2px rgba(60, 64, 67, 0.3), 0px 1px 3px 1px rgba(60, 64, 67, 0.15);\n",
              "      fill: #174EA6;\n",
              "    }\n",
              "\n",
              "    .colab-df-buttons div {\n",
              "      margin-bottom: 4px;\n",
              "    }\n",
              "\n",
              "    [theme=dark] .colab-df-convert {\n",
              "      background-color: #3B4455;\n",
              "      fill: #D2E3FC;\n",
              "    }\n",
              "\n",
              "    [theme=dark] .colab-df-convert:hover {\n",
              "      background-color: #434B5C;\n",
              "      box-shadow: 0px 1px 3px 1px rgba(0, 0, 0, 0.15);\n",
              "      filter: drop-shadow(0px 1px 2px rgba(0, 0, 0, 0.3));\n",
              "      fill: #FFFFFF;\n",
              "    }\n",
              "  </style>\n",
              "\n",
              "    <script>\n",
              "      const buttonEl =\n",
              "        document.querySelector('#df-ae21e50d-7252-479d-87b6-b80ac4d02305 button.colab-df-convert');\n",
              "      buttonEl.style.display =\n",
              "        google.colab.kernel.accessAllowed ? 'block' : 'none';\n",
              "\n",
              "      async function convertToInteractive(key) {\n",
              "        const element = document.querySelector('#df-ae21e50d-7252-479d-87b6-b80ac4d02305');\n",
              "        const dataTable =\n",
              "          await google.colab.kernel.invokeFunction('convertToInteractive',\n",
              "                                                    [key], {});\n",
              "        if (!dataTable) return;\n",
              "\n",
              "        const docLinkHtml = 'Like what you see? Visit the ' +\n",
              "          '<a target=\"_blank\" href=https://colab.research.google.com/notebooks/data_table.ipynb>data table notebook</a>'\n",
              "          + ' to learn more about interactive tables.';\n",
              "        element.innerHTML = '';\n",
              "        dataTable['output_type'] = 'display_data';\n",
              "        await google.colab.output.renderOutput(dataTable, element);\n",
              "        const docLink = document.createElement('div');\n",
              "        docLink.innerHTML = docLinkHtml;\n",
              "        element.appendChild(docLink);\n",
              "      }\n",
              "    </script>\n",
              "  </div>\n",
              "\n",
              "\n",
              "<div id=\"df-1a0a624c-7914-4fd9-ba85-09e319fd34cd\">\n",
              "  <button class=\"colab-df-quickchart\" onclick=\"quickchart('df-1a0a624c-7914-4fd9-ba85-09e319fd34cd')\"\n",
              "            title=\"Suggest charts\"\n",
              "            style=\"display:none;\">\n",
              "\n",
              "<svg xmlns=\"http://www.w3.org/2000/svg\" height=\"24px\"viewBox=\"0 0 24 24\"\n",
              "     width=\"24px\">\n",
              "    <g>\n",
              "        <path d=\"M19 3H5c-1.1 0-2 .9-2 2v14c0 1.1.9 2 2 2h14c1.1 0 2-.9 2-2V5c0-1.1-.9-2-2-2zM9 17H7v-7h2v7zm4 0h-2V7h2v10zm4 0h-2v-4h2v4z\"/>\n",
              "    </g>\n",
              "</svg>\n",
              "  </button>\n",
              "\n",
              "<style>\n",
              "  .colab-df-quickchart {\n",
              "      --bg-color: #E8F0FE;\n",
              "      --fill-color: #1967D2;\n",
              "      --hover-bg-color: #E2EBFA;\n",
              "      --hover-fill-color: #174EA6;\n",
              "      --disabled-fill-color: #AAA;\n",
              "      --disabled-bg-color: #DDD;\n",
              "  }\n",
              "\n",
              "  [theme=dark] .colab-df-quickchart {\n",
              "      --bg-color: #3B4455;\n",
              "      --fill-color: #D2E3FC;\n",
              "      --hover-bg-color: #434B5C;\n",
              "      --hover-fill-color: #FFFFFF;\n",
              "      --disabled-bg-color: #3B4455;\n",
              "      --disabled-fill-color: #666;\n",
              "  }\n",
              "\n",
              "  .colab-df-quickchart {\n",
              "    background-color: var(--bg-color);\n",
              "    border: none;\n",
              "    border-radius: 50%;\n",
              "    cursor: pointer;\n",
              "    display: none;\n",
              "    fill: var(--fill-color);\n",
              "    height: 32px;\n",
              "    padding: 0;\n",
              "    width: 32px;\n",
              "  }\n",
              "\n",
              "  .colab-df-quickchart:hover {\n",
              "    background-color: var(--hover-bg-color);\n",
              "    box-shadow: 0 1px 2px rgba(60, 64, 67, 0.3), 0 1px 3px 1px rgba(60, 64, 67, 0.15);\n",
              "    fill: var(--button-hover-fill-color);\n",
              "  }\n",
              "\n",
              "  .colab-df-quickchart-complete:disabled,\n",
              "  .colab-df-quickchart-complete:disabled:hover {\n",
              "    background-color: var(--disabled-bg-color);\n",
              "    fill: var(--disabled-fill-color);\n",
              "    box-shadow: none;\n",
              "  }\n",
              "\n",
              "  .colab-df-spinner {\n",
              "    border: 2px solid var(--fill-color);\n",
              "    border-color: transparent;\n",
              "    border-bottom-color: var(--fill-color);\n",
              "    animation:\n",
              "      spin 1s steps(1) infinite;\n",
              "  }\n",
              "\n",
              "  @keyframes spin {\n",
              "    0% {\n",
              "      border-color: transparent;\n",
              "      border-bottom-color: var(--fill-color);\n",
              "      border-left-color: var(--fill-color);\n",
              "    }\n",
              "    20% {\n",
              "      border-color: transparent;\n",
              "      border-left-color: var(--fill-color);\n",
              "      border-top-color: var(--fill-color);\n",
              "    }\n",
              "    30% {\n",
              "      border-color: transparent;\n",
              "      border-left-color: var(--fill-color);\n",
              "      border-top-color: var(--fill-color);\n",
              "      border-right-color: var(--fill-color);\n",
              "    }\n",
              "    40% {\n",
              "      border-color: transparent;\n",
              "      border-right-color: var(--fill-color);\n",
              "      border-top-color: var(--fill-color);\n",
              "    }\n",
              "    60% {\n",
              "      border-color: transparent;\n",
              "      border-right-color: var(--fill-color);\n",
              "    }\n",
              "    80% {\n",
              "      border-color: transparent;\n",
              "      border-right-color: var(--fill-color);\n",
              "      border-bottom-color: var(--fill-color);\n",
              "    }\n",
              "    90% {\n",
              "      border-color: transparent;\n",
              "      border-bottom-color: var(--fill-color);\n",
              "    }\n",
              "  }\n",
              "</style>\n",
              "\n",
              "  <script>\n",
              "    async function quickchart(key) {\n",
              "      const quickchartButtonEl =\n",
              "        document.querySelector('#' + key + ' button');\n",
              "      quickchartButtonEl.disabled = true;  // To prevent multiple clicks.\n",
              "      quickchartButtonEl.classList.add('colab-df-spinner');\n",
              "      try {\n",
              "        const charts = await google.colab.kernel.invokeFunction(\n",
              "            'suggestCharts', [key], {});\n",
              "      } catch (error) {\n",
              "        console.error('Error during call to suggestCharts:', error);\n",
              "      }\n",
              "      quickchartButtonEl.classList.remove('colab-df-spinner');\n",
              "      quickchartButtonEl.classList.add('colab-df-quickchart-complete');\n",
              "    }\n",
              "    (() => {\n",
              "      let quickchartButtonEl =\n",
              "        document.querySelector('#df-1a0a624c-7914-4fd9-ba85-09e319fd34cd button');\n",
              "      quickchartButtonEl.style.display =\n",
              "        google.colab.kernel.accessAllowed ? 'block' : 'none';\n",
              "    })();\n",
              "  </script>\n",
              "</div>\n",
              "\n",
              "    </div>\n",
              "  </div>\n"
            ],
            "text/plain": [
              "           Type             F1            F1n            F1a            F1o  \\\n",
              "0        Random  .715 (± .017)  .887 (± .005)  .681 (± .045)  .694 (± .028)   \n",
              "1   Pre-train 1  .754 (± .013)  .898 (± .007)  .737 (± .022)  .735 (± .016)   \n",
              "2  Pre-train 10  .762 (± .017)  .898 (± .005)  .751 (± .027)  .736 (± .015)   \n",
              "3  Pre-train 20  .769 (± .014)  .903 (± .005)  .759 (± .015)  .751 (± .011)   \n",
              "4  Pre-train 88  .765 (± .012)  .900 (± .005)  .774 (± .029)  .752 (± .010)   \n",
              "\n",
              "             F1p  \n",
              "0  .600 (± .054)  \n",
              "1  .644 (± .044)  \n",
              "2  .662 (± .034)  \n",
              "3  .665 (± .041)  \n",
              "4  .632 (± .024)  "
            ]
          },
          "execution_count": 140,
          "metadata": {},
          "output_type": "execute_result"
        }
      ],
      "source": [
        "from transplant.utils import load_pkl\n",
        "\n",
        "predictions_all_2d = load_pkl(\n",
        "    RESULT2D_DIR + \"/results2d_all/predictions_all.pkl\"\n",
        ")\n",
        "analysis2d.make_f1_table(predictions_all_2d)"
      ]
    },
    {
      "cell_type": "markdown",
      "metadata": {
        "id": "5AnwberByV2J"
      },
      "source": [
        "#### Figure 5: Comparison 1-D versus 2-D Model Test Performance\n",
        "\n",
        "We compare 1-D and 2-D model test macro F1 scores as a function of the percentage of data used to pre-train the models. Figure 4 will be covered in the \"Discussion\" section near the end of this report."
      ]
    },
    {
      "cell_type": "code",
      "execution_count": 141,
      "metadata": {
        "colab": {
          "base_uri": "https://localhost:8080/",
          "height": 455
        },
        "id": "51uB3I2VyV2J",
        "outputId": "7a4a694e-e5dd-4282-fc45-49c3d1113ab2"
      },
      "outputs": [
        {
          "data": {
            "image/png": "[encoded data removed]",
            "text/plain": [
              "<Figure size 640x480 with 1 Axes>"
            ]
          },
          "metadata": {},
          "output_type": "display_data"
        }
      ],
      "source": [
        "analysis2d.plot_f1_by_pretrain_percentage(predictions_all, predictions_all_2d)"
      ]
    },
    {
      "cell_type": "markdown",
      "metadata": {
        "id": "NNCwo9FT_Lns"
      },
      "source": [
        "## Ablation Discussion\n",
        "\n",
        "Table 4 shows that pre-training with the 2-D ResNet-18v2, spectrogram-based model shows significant improvement to the fine-tuned model's F1 score. This shows that the framework in the original paper is robust to different input and model types.\n",
        "\n",
        "However, Table 3 shows that pre-training the model did not reduce the number of epochs needed in the fine-tuning step. This differs from the 1-D results in the original paper.\n",
        "\n",
        "Figure 5 visually shows how the fine-tuned model's macro F1 score changed as we used different percentages of the _Icentia11k_ dataset in the pre-training step. For both the 1-D results and 2-D results, most of the improvement is achieved using only 1% of the _Icentia11k_ dataset. For both models, macro F1 scores appear mostly flat after 10% or 20% of the pre-training data, with only minor changes to the F1 scores out to 100/88% of the pre-training data, respectively.\n",
        "\n",
        "\n",
        "In general, performance is generally comparable for the two models, which shows that the pre-training principle is broadly applicable. However, the lack of performance improvement does not justify the increased computational cost and model size of the spectrogram / 2-D ResNet-18v2 approach."
      ]
    },
    {
      "cell_type": "markdown",
      "metadata": {
        "id": "Q3ReegLuyV2J"
      },
      "source": [
        "\n",
        "## Ablation Future Work\n",
        "\n",
        "Due to time limitations, there were many aspects of the spectrogram pre-processing that could be explored further.\n",
        "\n",
        "* There were many spectrogram hyperparameters that were not adequately explored. It is possible that significantly better performance could be achieved with a higher or lower resolution spectrogram. The hyperparameters not explored were:\n",
        "    * Stride\n",
        "    * Window size\n",
        "    * Window type\n",
        "* It is noticeable that many higher frequency bins in the pre-training spectrogram contain low energy. This could be consistent across the board and introduce useless or noisy information.\n",
        "* Downsampling the fine-tuning dataset from 360 Hz to 250 Hz to match the pre-training data may introduce aliasing that might affect the performance of the spectrogram model. These results are not present in the pre-training model and might affect the ability to transfer learned features.\n"
      ]
    },
    {
      "cell_type": "markdown",
      "metadata": {
        "id": "c-OhJ5hcxNsr"
      },
      "source": [
        "# Discussion"
      ]
    },
    {
      "cell_type": "markdown",
      "metadata": {
        "id": "o-GdartFncVX"
      },
      "source": [
        "## Implications of the Experimental Results\n",
        "\n",
        "In general, we were able to reproduce the results in the original paper. Pre-training the 1-D ResNet-18v2 showed significant improvement in model performance as shown by the average F1 scores in Table 2. The pre-training also increased the speed of fine-tuning by reducing the number of epochs to convergence as shown in Table 1.\n",
        "\n",
        "We also replicated the increased performance from pre-training in our ablation study which used pre-processing to generate spectrogram inputs to a 2-D ResNet-18v2 model. This shows the extensibility of the approach taken in the original paper. This increased performance can be seen in Table 4 and Figure 5.\n",
        "\n",
        "We were not able to replicate decreased training time by pre-training the 2-D ResNet-18v2, as evidenced by Table 3. This, however, is a less important result than increased test performance.\n",
        "\n",
        "Figure 4 compares the performance results of the 1-D ResNet-18v2 (original paper), and 2-D ResNet (our ablation) . This shows that both models similarly benefit from pre-training. In both cases, the majority of the benefit from pre-training is realized from using just 1% of the pre-training data, with more modest improvements seen by using more data. However, if the goal is optimal performance, more training data does seem to produce better results.\n",
        "\n",
        "In general, the comparable results of using the paper authors' 1-D ResNet-18v2 and our ablation study's 2-D ResNet-18v2 with spectrogram preprocessing does not justify the increased computational requirements and model size."
      ]
    },
    {
      "cell_type": "markdown",
      "metadata": {
        "id": "rGfNGfeJncVX"
      },
      "source": [
        "## What Was Easy\n",
        "\n",
        "### Code Quality\n",
        "\n",
        "We have been very fortunate that not only was the source code publicly available, it was also well written and organized. This allowed us to more effectively spend our limited time on the core pieces of the code base, namely the pre-training and fine-tuning entrypoints, data pre-processing code, and model definitions.\n",
        "\n",
        "We should say that the command line API was thoughtfully setup which made the execution of pre-training and fine-tuning trials relatively easy and gave us capacity to focus our attention to the results and learn more deeply about the deep learning mechanisms instead of getting bogged down in debugging work.\n",
        "\n",
        "### Data Accessibility and Quantization\n",
        "\n",
        "Both the pre-training and fine-tuning datasets were truly publicly available online. Also, the pre-training data came in quantized form. This played a subtly important role in that it allowed us to easily obtain subsets of the pre-train data despite the fact that the uncompressed version is too large to store with the resources at our disposal."
      ]
    },
    {
      "cell_type": "markdown",
      "metadata": {
        "id": "OG-nvYmHxPAi"
      },
      "source": [
        "## What Was Difficult\n",
        "\n",
        "Much of the time spent on this project may be considered standard work for deep learning projects, but each piece took significant amount of time, and had its own learning curve. In order to be able to reproduce the results and address Hypotheses 1 and 2, we had to work through:\n",
        "\n",
        "- **Setting up development environment**: Google Colab + Google Drive + `git`.\n",
        "- **Downloading large datasets**: The large pre-training dataset (> 200 GB) doesn't fit on our local hard drives, so this required interacting with _Academic Torrents_ and writing a script to download the data overnight directly to Google Drive.\n",
        "- **Python dependencies**: Setting up a working environment, eliminating deprecated functions\n",
        "- **Understanding the codebase**: Despite being relatively well documented, understanding the pieces of a foreign codebase takes time. For example, the pre-training code's definition of an epoch (a set number of samples) is different from the typical definition.\n",
        "- **Understanding compute requirements**: Figuring out which GPUs make sense from a cost and time perspective. Planning and distributing all the training amongst the group.\n",
        "- **Discrepancy between paper and code**: It is true that we should not blindly trust that the code is correct (\"trust but verify\"). But much close work was needed to reconcile what we were seeing in the code versus what the authors were reporting in the paper. Also, due to the lack of explanation for the code discrepancy, we spent much thought on whether the deviations we observed in our experimental results could be attributable to the discrepancies in the code as opposed to some other confounding factors.\n",
        "\n",
        "As an extension to the original paper's work, our ablation work of adding spectrogram pre-processing and integrating a new model (2-D ResNet-18v2) had its own set of unique challenges:\n",
        "\n",
        "- **Understanding spectrograms**: The Fourier transform is a fundamental mathematical tool used in a wide range of applications. In order to use these expert features as an input for our model, we had to have a reasonable understanding of the meaning of these outputs and how they might affect the model. For example, only after it was too late did we realize that downsampling from 360 Hz to 250 Hz might introduce aliasing that would be be visible in the spectrogram. Controlling for this might have been beneficial.\n",
        "- **Limited time to tweak hyperparameters**: Due to the time constraints, many educated guesses at hyperparameters like window size, stride, and normalization techniques were made.\n",
        "- **Integrating 2-D ResNet-18v2**: This model was not previously supported by the codebase, so integrating it to function within the existing API required carefully separating the convolutional layer and classification layer to match the approach taken by the paper. Significant training time was duplicated by making small mistakes in how to transfer the model weights correctly.\n",
        "- **Exceeding Google Colab Pro runtime limit**: The increased training time from preprocessing and increased model size meant our training time exceeded the 24 hours runtime limit Google Colab Pro imposes. This meant we were only able to train using 88% of the pre-training data for the ablation study.\n"
      ]
    },
    {
      "cell_type": "markdown",
      "metadata": {
        "id": "MjV-H51PncVX"
      },
      "source": [
        "## Recommendations For Reproducibility\n",
        "\n",
        "It would be a very good idea for such paper code to provide a **completely** specified environment configuration. The [original](https://github.com/kweimann/ecg-transfer-learning/blob/master/requirements.txt) `requirements.txt` provided did not specify all packages used, the exact versions used, nor performed complete pinning of dependencies.\n",
        "\n",
        "For example, the `samplerate` dependency in the original requirements was deprecated when we started the project. We had to remove it and [implement the code from scratch](https://github.com/myles-i/DLH_TransferLearning/commit/38190172af5092d1ac72e8b705b0bc58b169bd3b).\n",
        "\n",
        "Second, it would be good for the authors to ensure that their public code contents match what they report in their paper. Or if it is not possible, clearly document the discrepancy for the benefit of reproduction work. Here are some notable examples:\n",
        "\n",
        "- The paper claims to pre-process the fine-tuning dataset to produce 60 second samples. However we found that the code documentation recommended the user to generate ~65 second samples.\n",
        "    - This discrepancy did not materially affect our experimental results. However, it should be understood that such a discrepancy may affect reproduction work of another project more severely.\n",
        "- The paper claims to use training accuracy as the early stopping metric for fine-tuning training. Specifically, terminate fine-tuning early if the training accuracy does not improve over 50 epochs. But an inspection of the fine-tuning entrypoint code revealed that the code was using validation loss as the metric for early stopping.\n",
        "    - This discrepancy did materially affect our work in that our fine-tuning trials took fewer epochs to converge than reported by the authors.\n",
        "\n",
        "In sum, it is still a very good thing that the authors released their paper source code to the public because it enables reproduction work to be more efficient and enables independent verification of the correctness of the original work."
      ]
    },
    {
      "cell_type": "markdown",
      "metadata": {
        "id": "CrIC_LGfi2X4"
      },
      "source": [
        "# Public GitHub Repo\n",
        "The repo with our code is available on [Github](https://github.com/myles-i/DLH_TransferLearning/tree/master). Specifically, the reports are located [here](https://github.com/myles-i/DLH_TransferLearning/tree/master/report).\n",
        "\n",
        "Github full url: https://github.com/myles-i/DLH_TransferLearning/tree/master\n",
        "\n",
        "\n",
        "## READMEs\n",
        "A top level README.md for our code and results can be found at the root of the directory [here](https://github.com/myles-i/DLH_TransferLearning/blob/master/README.md). In addition, we have README.md files in subdirectories including:\n",
        "\n",
        "- The [report folder](https://github.com/myles-i/DLH_TransferLearning/blob/master/report/README.md) (our work)\n",
        "- The [pre-training directory](https://github.com/myles-i/DLH_TransferLearning/blob/master/pretraining/README.md) (from paper's repo)\n",
        "- The [fine-tuning directory ](https://github.com/myles-i/DLH_TransferLearning/blob/master/finetuning/README.md) (from paper's repo)"
      ]
    },
    {
      "cell_type": "markdown",
      "metadata": {
        "id": "FkKndRicyV2K"
      },
      "source": [
        "# Appendix\n",
        "\n",
        "We include figures and tables from the original paper here for the reader's convenience."
      ]
    },
    {
      "cell_type": "markdown",
      "metadata": {
        "id": "gtXGA7DZyV2K"
      },
      "source": [
        "## Table 1\n",
        "<img src='https://raw.githubusercontent.com/myles-i/DLH_TransferLearning/master/report/images/paper_table_1.png' width=500px>\n",
        "\n"
      ]
    },
    {
      "cell_type": "markdown",
      "metadata": {
        "id": "5BNOEXh-yV2L"
      },
      "source": [
        "## Figure 3(a)\n",
        "\n",
        "<img src='https://raw.githubusercontent.com/myles-i/DLH_TransferLearning/master/report/images/paper_fig_3a.png' width=500px>"
      ]
    },
    {
      "cell_type": "markdown",
      "metadata": {
        "id": "gWZq2-uh1ytR",
        "tags": [
          "hidden"
        ]
      },
      "source": [
        "# References\n",
        "\n",
        "1. Weimann, K., Conrad, T.O.F. Transfer learning for ECG classification. Sci Rep 11, 5251 (2021). https://doi.org/10.1038/s41598-021-84374-8\n",
        "2. Kachuee, M., Fazeli, S., & Sarrafzadeh, M. ECG heartbeat classification: a deep transferable representation. in _2018 IEEE International Conference on Healthcare Informatics (ICHI)._ https://doi.org/10.1109/ichi.2018.00092 (2018).\n",
        "3. Rahhal, M. A. _et al._ Deep learning approach for active classification of electrocardiogram signals. _Inf. Sci._ **345**, 340–354. https://doi.org/10.1016/j.ins.2016.01.082 (2016).\n",
        "4. Rajan, D., Beymer, D., & Narayan, G. Generalization Studies of Neural Network Models for Cardiac Disease Detection Using Limited Channel ECG (2019). arXiv:1901.03295\n",
        "5. J. Huang, B. Chen, B. Yao and W. He, “`ECG Arrhythmia Classification Using STFT-Based Spectrogram and Convolutional\n",
        " Neural Network`,” in IEEE Access, vol. 7\n",
        "6. Shawn Tan, Satya Ortiz-Gagné, Nicolas Beaudoin-Gagnon, Pierre Fecteau, Aaron Courville, Yoshua Bengio, and Joseph Paul Cohen. Icentia11k single lead continuous raw electrocardiogram dataset (version 1.0). https://doi.org/10.13026/kk0v-r952, April 2022.\n",
        "7. Tan, S. _et al._ Icentia11K: An Unsupervised Representation Learning Dataset for Arrhythmia Subtype Discovery (2019). arXiv:arXiv:1910.09570\n",
        "8. Goldberger, A.L. _et al._ PhysioBank, PhysioToolkit,and PhysioNet: components of a new research resource for complex physiologic signals. _Circulation_ **101**, e215–e220. https://doi.org/10.1161/01.CIR.101.23.e215 (2000).\n",
        "9. Clifford, G.D. _et al._ AF Classification from a short single lead ECG recording: the PhysioNet/computing in cardiology challenge 2017. _Comput. Cardiol._ (2017).\n",
        "10. He, K., Zhang, X., Ren, S., & Sun, J. Identity Mappings in Deep Residual Networks (2016). arXiv:1603.05027."
      ]
    }
  ],
  "metadata": {
    "accelerator": "GPU",
    "colab": {
      "gpuType": "T4",
      "machine_shape": "hm",
      "provenance": []
    },
    "kernelspec": {
      "display_name": "Python 3",
      "name": "python3"
    },
    "language_info": {
      "name": "python"
    }
  },
  "nbformat": 4,
  "nbformat_minor": 0
}
