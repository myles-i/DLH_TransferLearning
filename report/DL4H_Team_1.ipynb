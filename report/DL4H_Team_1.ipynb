{
  "cells": [
    {
      "cell_type": "markdown",
      "metadata": {
        "id": "ypFTXiFx6OIM"
      },
      "source": [
        "# Basic Info\n",
        "\n",
        "## Team 1\n",
        "\n",
        "- Ted Hsu ([thhsu4@illinois.edu](mailto:thhsu4@illinois.edu))\n",
        "- Myles Iribarne ([mylesai2@illinois.edu](mailto:mylesai2@illinois.edu))\n",
        "- Daniel Xu ([dhxu2@illinois.edu](mailto:dhxu2@illinois.edu))\n",
        "\n",
        "## Paper\n",
        "\n",
        "Our paper is _Transfer learning for ECG classification_ by Weimann and Conrad <cite data-cite=\"Weimann:2021wz\">[1]</cite>. The project code is available on [Github](https://github.com/kweimann/ecg-transfer-learning/tree/master).\n",
        "\n",
        "## TODO Video\n",
        "\n",
        "TODO Include a public link to your project video (Youtube/OneDrive/GDrive etc) at the top of the notebook.\n"
      ]
    },
    {
      "cell_type": "markdown",
      "metadata": {
        "id": "nJuXcjPJenPN"
      },
      "source": [
        "# Abstract\n",
        "\n",
        "This project replicates and extends a study on Atrial Fibrillation (AF) classification using ECG recordings <cite data-cite=\"Weimann:2021wz\">[1]</cite>. This study transferred pre-training learnings from distinct tasks in the _Icentia11k_ dataset to enhance performance of the fine-tuned model trained on the _PhysioNet/CinC Challenge 2017_ dataset. Our results successfully replicated the original study's findings, notably demonstrating that only 10% of the pre-training dataset was required to match the performance of the fine-tuned model, significantly reducing data needs for pre-training.\n",
        "\n",
        "We also explored an extension to the original method by integrating spectrogram features into a 2-D ResNet architecture, a shift from the original's 1-D convolutional approach. Our findings revealed that the 1-D ResNet's pre-training advantages did not extend to the 2-D model. The performance of the spectrogram-based models was generally worse, and pre-training did not improve the fine-tuning time or performance compared to a randomly initialized model. These results underscore the critical impact of feature selection and model architecture on learning outcomes in healthcare deep learning applications."
      ]
    },
    {
      "cell_type": "markdown",
      "metadata": {
        "id": "MQ0sNuMePBXx"
      },
      "source": [
        "# Introduction\n",
        "## Background of the problem\n",
        "\n",
        "- **What type of problem**:\n",
        "\n",
        "  The problem is to classify Atrial Fibrillation (AF) on electrocardiogram (ECG) recordings.\n",
        "- **What is the importance/meaning of solving the problem**:\n",
        "\n",
        "  - A solution to the problem is a tool that will assist physicians in analyzing large amounts of patient ECG data in an automated and time efficient manner.\n",
        "  - Early detection of AF events may lead to better patient outcomes.\n",
        "  \n",
        "- **What is the difficulty of the problem**:\n",
        "\n",
        "  - Devices for recording patient ECG data are able to output a _huge_ amount of raw data. This is challenging and expensive to annotate for effective Deep Learning training.\n",
        "  - Large class imbalance due to cardiovascular events of interests being rare.\n",
        "  - Low ECG signal quality due to sampling frequency, single ECG lead probe.\n",
        "\n",
        "- **The state of the art methods**:\n",
        "\n",
        "  - Transfer learning using 1-D residual networks <cite data-cite=\"Kachuee:2018\">[2]</cite>\n",
        "  - Representation learning using encoder-decoder architectures\n",
        "    - Stacked De-noising AEs <cite data-cite=\"Rahhal:2016\">[3]</cite>\n",
        "    - Seq2Seq model <cite data-cite=\"Rajan:2019\">[4]</cite>\n",
        "\n",
        "## Paper Explanation\n",
        "- **What did the paper propose**:\n",
        "\n",
        "  - Use Transfer learning to build better ECG classifiers.\n",
        "  - Pre-train 1-D CNNs on the largest publicly available ECG dataset (_Icentia11k_) on several pre-training tasks:\n",
        "    - Beat Classification\n",
        "    - Rhythm Classification\n",
        "    - Heart Rate Classification\n",
        "    - Future Prediction\n",
        "  - Fine-tune the pre-trained 1-D CNNs on a _different_ task and a _different_ dataset (_PhysioNet/CinC Challenge 2017_): classify AF events.\n",
        "\n",
        "- **What is/are the innovations of the method**:\n",
        "\n",
        "  - Demonstration of successful large-scale pre-training of 1-D CNNs on the largest publicly available ECG dataset to date.\n",
        "  - Demonstration of contrastive pre-training (unsupervised representation learning) improving 1-D CNN performance on target task.\n",
        "  - Novel usage of heart rate classification task for pre-training. Note that in this task, the labels can be automatically generated without manual intervention.\n",
        "\n",
        "- **How well the proposed method work (in its own metrics)**:\n",
        "\n",
        "  - The paper provides AF classifier performance comparison among five different pre-training tasks configurations (Random initialization, Beat classification, Rhythm classification, Heart Rate classification, and Future Prediction).\n",
        "  \n",
        "    **Macro F1 score of the AF classifier on the PhysioNet 2017 test set is the performance metric.**\n",
        "  - The average macro F1 score of random initialization pre-training task is 0.731 over 10 trials. Average macro F1 scores reported by all proposed four pre-training tasks configurations range from 0.758 to 0.779 over 10 trials.\n",
        "\n",
        "- **What is the contribution to the research regime (referring the Background above, how important the paper is to the problem)**:\n",
        "\n",
        "  - Pre-training the 1-D CNN model improves the performance on the target task (i.e. AF classification), effectively reducing the number of labeled data required to achieve the same performance as 1-D CNNs that are not pre-trained.\n",
        "  - Unsupervised pre-training (i.e. future prediction) on ECG data is a viable method for improving the performance on the target task and will become more relevant, since labeling ECG data is expensive."
      ]
    },
    {
      "cell_type": "markdown",
      "metadata": {
        "id": "uygL9tTPSVHB"
      },
      "source": [
        "# Scope of Reproducibility\n",
        "\n",
        "## Hypothesis 1\n",
        "Pre-training 1-D CNN models with an extremely large dataset of relatively inexpensively labeled data can improve performance of classification based on a smaller set of labeled data with a different classification objective (i.e. AF).\n",
        "\n",
        "## Hypothesis 2\n",
        "The paper does not explore how significant the effects of the pre-training data size are on the final results. We expect the size of the pre-training dataset affects the performance of the target task (i.e. AF classification).\n",
        "\n",
        "\n",
        "## Verification\n",
        "We will verify the hypotheses by attempting to reproduce results for a specific model and the following hyperparameter combination with 1%, 10%, 20%, and 100% of the pre-training data used in the paper:\n",
        "\n",
        "- Model: 1-D ResNet-18v2\n",
        "- Pre-training Objective: Beat Classification\n",
        "- Frame Size: 4096 samples\n",
        "- Sample Rate: 250 Hz\n",
        "- Fine-tuning objective: Atrial Fibrillation\n",
        "\n",
        "Note that the data is at patient level, so the percentages will be applied to the total number of patients.\n",
        "\n",
        "The results will be compared with the performance of a randomly initialized ResNet-18v2.\n",
        "\n",
        "## Implementation\n",
        "\n",
        "The paper authors have provided their code online on Github. In our repo, we have forked their code and made small adjustments for convenience in our reproduction work. The code cells below will import modules from the paper authors' code. In this way, we are able to focus primarily on executing the experiments and analyzing the outcomes.\n"
      ]
    },
    {
      "cell_type": "markdown",
      "metadata": {
        "id": "Kp9UI34KwoXF"
      },
      "source": [
        "# Methodology"
      ]
    },
    {
      "cell_type": "markdown",
      "metadata": {
        "id": "xWAHJ_1CdtaA"
      },
      "source": [
        "## Environment\n",
        "\n",
        "First, we assume that this notebook is run in **Google Colab** with **Python 3.10**. It is highly recommended to have Colab Pro and select **V100** GPU or better. All results were generated using a V100 GPU with 16GB RAM, except for the ablation results. The ablation results were generated using L4 GPU with 22.5GB RAM.\n",
        "\n",
        "Below we prepare the environment with which the code in this notebook can run.\n",
        "\n",
        "First, we clone our project repo which is a fork of the original repo. Our repo also contains our modifications and our own original code."
      ]
    },
    {
      "cell_type": "code",
      "execution_count": null,
      "metadata": {
        "id": "A8NXW2DxIsg5"
      },
      "outputs": [],
      "source": [
        "REPO = \"/tmp/repo\""
      ]
    },
    {
      "cell_type": "code",
      "execution_count": null,
      "metadata": {
        "id": "Dy4eNoPBq4bB"
      },
      "outputs": [],
      "source": [
        "%%capture\n",
        "!git clone https://github.com/myles-i/DLH_TransferLearning.git {REPO}\n",
        "%cd {REPO}"
      ]
    },
    {
      "cell_type": "markdown",
      "metadata": {
        "id": "s_aEIGI34Kq6"
      },
      "source": [
        "Second, we install all of the dependencies specified in `requirements.txt`. This [link](https://github.com/myles-i/DLH_TransferLearning/blob/master/requirements.txt) lists the dependencies used."
      ]
    },
    {
      "cell_type": "code",
      "execution_count": null,
      "metadata": {
        "colab": {
          "base_uri": "https://localhost:8080/"
        },
        "id": "GSHj-DAhsFKX",
        "outputId": "48a10715-eb52-4c38-8c8e-99cfc30f984a"
      },
      "outputs": [
        {
          "name": "stdout",
          "output_type": "stream",
          "text": [
            "CPU times: user 42.1 ms, sys: 4.12 ms, total: 46.2 ms\n",
            "Wall time: 6.32 s\n"
          ]
        }
      ],
      "source": [
        "%%time\n",
        "%%capture\n",
        "!pip install -r requirements.txt"
      ]
    },
    {
      "cell_type": "markdown",
      "metadata": {
        "id": "HK-bSyNxIsg8"
      },
      "source": [
        "Next, we prepare the directories for holding the data files we will use in later code cells of this notebook."
      ]
    },
    {
      "cell_type": "code",
      "execution_count": null,
      "metadata": {
        "id": "75vXN5TtIsg8"
      },
      "outputs": [],
      "source": [
        "JOB_DIR = \"/tmp/jobs\"\n",
        "DATA_DIR = \"/tmp/data\"\n",
        "DEMO_DATA_DIR = DATA_DIR + \"/final_demo\""
      ]
    },
    {
      "cell_type": "code",
      "execution_count": null,
      "metadata": {
        "id": "44V3e9TZ8QLw"
      },
      "outputs": [],
      "source": [
        "%%capture\n",
        "# Prepare local directories\n",
        "!mdkir -p {JOB_DIR}\n",
        "!mkdir -p {DATA_DIR}\n",
        "!mkdir -p {DEMO_DATA_DIR}"
      ]
    },
    {
      "cell_type": "markdown",
      "metadata": {
        "id": "EPpw2FDwCcJq"
      },
      "source": [
        "##  Data"
      ]
    },
    {
      "cell_type": "markdown",
      "metadata": {
        "id": "2NbPHUTMbkD3"
      },
      "source": [
        "### Pre-training Dataset\n",
        "The training data is the \"Icentia11k Single Lead Continuous Raw Electrocardiogram Dataset,\" which is freely available online <cite data-cite=\"Icentiadata\">[6]</cite><cite data-cite=\"Tan:2019icentia11k\">[7]</cite><cite data-cite=\"PhysioNet:2000\">[8]</cite>.\n",
        "\n"
      ]
    },
    {
      "cell_type": "markdown",
      "metadata": {
        "id": "OHMH-J8BPsud"
      },
      "source": [
        "#### Data Download Instructions\n",
        "\n",
        "Source of the data:\n",
        "\n",
        "- The data comes in two formats, and links to each format are provided below:\n",
        "  - [Raw](https://physionet.org/content/icentia11k-continuous-ecg/1.0/)\n",
        "  - [Compressed](https://academictorrents.com/details/af04abfe9a3c96b30e5dd029eb185e19a7055272)\n",
        "\n",
        "Download steps:\n",
        "\n",
        "- We utilize the _compressed_ data files rather than the raw files.\n",
        "- The process is demonstrated in this [notebook](https://github.com/myles-i/DLH_TransferLearning/blob/master/jupyter_notebooks/Download_Icentia11k_Data.ipynb) which we wrote and used to download the data. It uses the `libtorrent` library to download the compressed data.\n",
        "- The compressed data files are saved to an appropriately named sub-directory within the shared Google Drive directory stored in the `DATA_DIR` variable.\n"
      ]
    },
    {
      "cell_type": "markdown",
      "metadata": {
        "id": "EpbsRg5FPsud"
      },
      "source": [
        "#### Description\n",
        "\n",
        "Statistics:\n",
        "\n",
        "- 11,000 patients.\n",
        "- Each patient has up to two weeks of ECG recordings with 250 Hz sampling rate.\n",
        "- Each ECG recording is accompanied with beat and rhythm labels marked by the ECG signal collection device and specialists, respectively.\n",
        "- Both beat and rhythm labels are assigned to positions in the signal at irregular intervals.\n",
        "- The original paper uses 95% of the patients for pre-training and the remaining 5% for validation."
      ]
    },
    {
      "cell_type": "markdown",
      "metadata": {
        "id": "NpokhyCvIsg9"
      },
      "source": [
        "#### TODO Pre-processing Code and Command\n",
        "\n",
        "A brief summary of the steps in pre-processing of the pre-train dataset:\n",
        "\n",
        "- blah\n",
        "- blah\n"
      ]
    },
    {
      "cell_type": "markdown",
      "metadata": {
        "id": "04TPeBpfnKM5"
      },
      "source": [
        "#### Exploration\n",
        "\n",
        "The beat label in the _Icentia11k_ dataset has 5 different values, as shown in the below code cell. The beat classification task is to classify beat type given a segment or a frame of an ECG signal. The paper experimented with frame sizes ranging from 2 to 60 seconds."
      ]
    },
    {
      "cell_type": "code",
      "execution_count": null,
      "metadata": {
        "colab": {
          "base_uri": "https://localhost:8080/"
        },
        "id": "NTlXJqcPATdM",
        "outputId": "b220395a-bda6-4b91-d838-5c04c3ad347b"
      },
      "outputs": [
        {
          "name": "stdout",
          "output_type": "stream",
          "text": [
            "Beat labels: {0: 'undefined', 1: 'normal', 2: 'pac', 3: 'aberrated', 4: 'pvc'}\n"
          ]
        }
      ],
      "source": [
        "from pretraining import datasets\n",
        "\n",
        "print(f\"Beat labels: {datasets.icentia11k.ds_beat_names}\")"
      ]
    },
    {
      "cell_type": "markdown",
      "metadata": {
        "id": "p77xKHR2D5RH"
      },
      "source": [
        "For beat classification pre-training, each training data sample is generated by extracting a segment of continuous ECG signal that is associated with a beat label. Below is example code to generate a training data sample from Patient#0 with an ECG signal frame size of 4096:"
      ]
    },
    {
      "cell_type": "code",
      "execution_count": null,
      "metadata": {
        "colab": {
          "base_uri": "https://localhost:8080/"
        },
        "id": "bx8Rw4kvh3_q",
        "outputId": "c6ec4a14-99ac-40b7-acb3-c3d2e2428def"
      },
      "outputs": [
        {
          "name": "stdout",
          "output_type": "stream",
          "text": [
            "CPU times: user 57.8 ms, sys: 10.3 ms, total: 68.1 ms\n",
            "Wall time: 8.94 s\n"
          ]
        }
      ],
      "source": [
        "# First download Patient#0 ECG signal and labels\n",
        "%%time\n",
        "%%capture\n",
        "# Patient#0 ECG signal\n",
        "!gdown 1hzq0iSICypZTIrJcyPfAR5mPrKS1Vev_ \\\n",
        "  -O {DEMO_DATA_DIR + '/00000_batched.npy'}\n",
        "# Patient#0 label\n",
        "!gdown 1vjBhJ_0w-bTn7jhnRPS3Bf3CsLpi7RuN \\\n",
        "  -O {DEMO_DATA_DIR + '/00000_batched_lbls.npz'}"
      ]
    },
    {
      "cell_type": "code",
      "execution_count": null,
      "metadata": {
        "id": "m_EiXVabnEHX"
      },
      "outputs": [],
      "source": [
        "gen = datasets.beat_generator(\n",
        "    DEMO_DATA_DIR,\n",
        "    patient_ids=[0],  # Patient#0\n",
        "    frame_size=4096,  # a frame with 4096 continuous ECG signal\n",
        "    normalize=True,\n",
        "    unzipped=True,\n",
        "    samples_per_patient=1,\n",
        ")\n",
        "data = next(gen)"
      ]
    },
    {
      "cell_type": "markdown",
      "metadata": {
        "id": "juLweXRyBrc8"
      },
      "source": [
        "Each data sample is a tuple of ECG signal and beat label. With a frame size of 4096 and 250 Hz sampling rate, the length of this sample is around 16 seconds."
      ]
    },
    {
      "cell_type": "code",
      "execution_count": null,
      "metadata": {
        "colab": {
          "base_uri": "https://localhost:8080/",
          "height": 466
        },
        "id": "lSiwFSY3BiyP",
        "outputId": "92ae6797-87fb-40f0-94be-a36bc50e9401"
      },
      "outputs": [
        {
          "name": "stdout",
          "output_type": "stream",
          "text": [
            "Beat label of the data sample: normal\n"
          ]
        },
        {
          "data": {
            "image/png": "[encoded data removed]",
            "text/plain": [
              "<Figure size 640x480 with 1 Axes>"
            ]
          },
          "metadata": {},
          "output_type": "display_data"
        }
      ],
      "source": [
        "from matplotlib import pyplot as plt\n",
        "import numpy as np\n",
        "\n",
        "print(\n",
        "    f\"Beat label of the data sample:\"\n",
        "    f\" {datasets.icentia11k.ds_beat_names[data[1]]}\"\n",
        ")\n",
        "_ = plt.plot(np.arange(len(data[0])) / 250, data[0])\n",
        "_ = plt.xlabel(\"second\")\n",
        "_ = plt.ylabel(\"ECG signal\")"
      ]
    },
    {
      "cell_type": "markdown",
      "metadata": {
        "id": "UPN95z3AFROy"
      },
      "source": [
        "The `beat_generator` is used to create a `tensorflow` `Dataset` object. The following code creates a `Dataset` that contains 2048 training data samples from Patient#0, each training data sample with frame size 2048."
      ]
    },
    {
      "cell_type": "code",
      "execution_count": null,
      "metadata": {
        "colab": {
          "base_uri": "https://localhost:8080/"
        },
        "id": "Wu-L3Kk07k3K",
        "outputId": "e0ae8faf-2059-4b3e-ef0d-867b20e3464c"
      },
      "outputs": [
        {
          "name": "stderr",
          "output_type": "stream",
          "text": [
            "WARNING:tensorflow:From /tmp/repo/pretraining/datasets.py:33: calling DatasetV2.from_generator (from tensorflow.python.data.ops.dataset_ops) with output_types is deprecated and will be removed in a future version.\n",
            "Instructions for updating:\n",
            "Use output_signature instead\n",
            "WARNING:tensorflow:From /tmp/repo/pretraining/datasets.py:33: calling DatasetV2.from_generator (from tensorflow.python.data.ops.dataset_ops) with output_shapes is deprecated and will be removed in a future version.\n",
            "Instructions for updating:\n",
            "Use output_signature instead\n"
          ]
        },
        {
          "data": {
            "text/plain": [
              "(TensorSpec(shape=(2048, 1), dtype=tf.float32, name=None),\n",
              " TensorSpec(shape=(), dtype=tf.int32, name=None))"
            ]
          },
          "execution_count": 10,
          "metadata": {},
          "output_type": "execute_result"
        }
      ],
      "source": [
        "dataset = datasets.beat_dataset(\n",
        "    db_dir=DEMO_DATA_DIR,\n",
        "    patient_ids=[0],\n",
        "    frame_size=2048,\n",
        "    unzipped=True,\n",
        "    samples_per_patient=2048,\n",
        ")\n",
        "dataset.element_spec"
      ]
    },
    {
      "cell_type": "markdown",
      "metadata": {
        "id": "el2LBwvc-QDF"
      },
      "source": [
        "### Fine-tuning Dataset\n",
        "The fine-tuning dataset is the \"AF Classification from a Short Single Lead ECG Recording: The PhysioNet/Computing in Cardiology Challenge 2017\" and freely available online for download <cite data-cite=\"PhysioNet:2000\">[8]</cite><cite data-cite=\"Clifford:2017we\">[9]</cite>.\n",
        "\n"
      ]
    },
    {
      "cell_type": "markdown",
      "metadata": {
        "id": "oBlIZGXePsuh"
      },
      "source": [
        "#### Data Download Instructions\n",
        "\n",
        "Source of the data\n",
        "\n",
        "  - [Raw](https://physionet.org/content/challenge-2017/1.0.0/).\n",
        "\n",
        "Download instructions:\n",
        "\n",
        "- Simply do a direct download of the data from the PhysioNet website.\n",
        "- The `train2017.zip` file needs to be saved somewhere for subsequent pre-processing."
      ]
    },
    {
      "cell_type": "markdown",
      "metadata": {
        "id": "zXkaKL14Psui"
      },
      "source": [
        "#### Description\n",
        "\n",
        "Statistics\n",
        "\n",
        "- 8528 short ECG recordings.\n",
        "- Each ECG recording duration is 9 to 60 seconds with 300 Hz sampling rate.\n",
        "- Each ECG recording is labeled with one of the following classes: AF, Normal, Other or Noise (too noisy to classify)."
      ]
    },
    {
      "cell_type": "markdown",
      "metadata": {
        "id": "iUtibbUU8rW6"
      },
      "source": [
        "#### Pre-processing Code and Command\n",
        "\n",
        "A brief summary of the steps in pre-processing of the fine-tuning dataset:\n",
        "\n",
        "- Resampling to 250 Hz to match the sample rate of the pre-training dataset.\n",
        "- Padding records to 65 seconds.\n",
        "- Standardizing the data using mean and standard deviation computed on the entire dataset.\n",
        "\n",
        "The `get_challenge17_data` function ([source](https://github.com/myles-i/DLH_TransferLearning/blob/master/finetuning/datasets.py#L9)) in the authors' code both extracts and pre-processes the _PhysioNet 2017_ dataset. We split the data extraction and pre-processing steps and saved the extracted data. This lets us have the flexibility of pre-processing without data extraction in every run. The below cell demonstrates an example of data pre-processing."
      ]
    },
    {
      "cell_type": "code",
      "execution_count": null,
      "metadata": {
        "colab": {
          "base_uri": "https://localhost:8080/"
        },
        "id": "3qoHsGKer-QD",
        "outputId": "d2f34d68-8a35-4b56-8270-a75883e754fd"
      },
      "outputs": [
        {
          "name": "stdout",
          "output_type": "stream",
          "text": [
            "CPU times: user 25.3 ms, sys: 8.23 ms, total: 33.5 ms\n",
            "Wall time: 3.22 s\n"
          ]
        }
      ],
      "source": [
        "%%time\n",
        "%%capture\n",
        "# Downloads the raw PhysioNet record and label pickles, the output of\n",
        "# extraction.\n",
        "!gdown 1lI7lTZltRj_zQtYM1UcidZnSAQilPJSg -O {DEMO_DATA_DIR} --folder"
      ]
    },
    {
      "cell_type": "markdown",
      "metadata": {
        "id": "WTJIyl-vncVH"
      },
      "source": [
        "Note that downloading the extracted data took less than 10 seconds. We experienced 45 minutes for the data extraction, thus splitting the original `get_challenge17_data` function made our fine-tuning data preparation much more efficient."
      ]
    },
    {
      "cell_type": "code",
      "execution_count": null,
      "metadata": {
        "id": "iJAsRdJYvKkb"
      },
      "outputs": [],
      "source": [
        "import functools\n",
        "\n",
        "import numpy as np\n",
        "\n",
        "from finetuning import datasets\n",
        "from transplant.datasets import physionet\n",
        "\n",
        "\n",
        "def extract_challenge17_data(db_dir, verbose=False):\n",
        "    # This is the author's extraction code\n",
        "    records, labels = physionet.read_challenge17_data(db_dir, verbose=verbose)\n",
        "    return records, labels\n",
        "\n",
        "\n",
        "def process_extracted_challenge17_data(\n",
        "    records, labels, fs=None, pad=None, normalize=False, verbose=False\n",
        "):\n",
        "    \"\"\"\n",
        "    This is our code that performs pre-processing only.\n",
        "\n",
        "    Args:\n",
        "        records: See extract_challenge17_data.\n",
        "        labels: See extract_challenge17_data.\n",
        "        fs (int): Sampling rate.\n",
        "        pad (int): Length that each record should be padded to (or truncated)\n",
        "            pad / fs will give the approximate length in seconds.\n",
        "        normalize (bool): Whether to standardize the records using mean and s.d.\n",
        "            computed over the entire dataset. Note that the mean and s.d. have\n",
        "            already been provided by the authors.\n",
        "    \"\"\"\n",
        "    if normalize:\n",
        "        normalize = functools.partial(\n",
        "            physionet.normalize_challenge17, inplace=True\n",
        "        )\n",
        "    # This is the author's preprocessing code\n",
        "    data_set = datasets._prepare_data(\n",
        "        records,\n",
        "        labels,\n",
        "        normalize_fn=normalize,\n",
        "        fs=fs,\n",
        "        pad=pad,\n",
        "        verbose=verbose,\n",
        "    )\n",
        "    return data_set"
      ]
    },
    {
      "cell_type": "code",
      "execution_count": null,
      "metadata": {
        "colab": {
          "base_uri": "https://localhost:8080/"
        },
        "id": "2gYQVm6et4IO",
        "outputId": "5a67e8ca-0585-47ba-8223-5a4635625d57"
      },
      "outputs": [
        {
          "name": "stderr",
          "output_type": "stream",
          "text": [
            "Resampling records: 100%|██████████| 8528/8528 [00:03<00:00, 2198.82it/s]\n"
          ]
        },
        {
          "name": "stdout",
          "output_type": "stream",
          "text": [
            "CPU times: user 6.8 s, sys: 1.35 s, total: 8.15 s\n",
            "Wall time: 8.11 s\n"
          ]
        }
      ],
      "source": [
        "%%time\n",
        "from transplant.utils import load_pkl\n",
        "\n",
        "records = load_pkl(f\"{DEMO_DATA_DIR}/records.pkl\")[\"data\"]\n",
        "labels = load_pkl(f\"{DEMO_DATA_DIR}/labels.pkl\")[\"data\"]\n",
        "physionet_data = process_extracted_challenge17_data(\n",
        "    records,\n",
        "    labels,\n",
        "    fs=250,\n",
        "    pad=16384,\n",
        "    normalize=True,\n",
        "    verbose=True,\n",
        ")"
      ]
    },
    {
      "cell_type": "markdown",
      "metadata": {
        "id": "GYtqI3SFytFQ"
      },
      "source": [
        "#### Exploration\n",
        "\n",
        "Please note that the exploration is done on the data after pre-processing.\n",
        "\n",
        "Labels are in the form one-hot encoded arrays. The labels `A`, `N`, `O` and `~` represent AF, Normal, Other and Noise, respectively.\n",
        "\n",
        "The distribution of label values is shown below. Note that less than 10% of the data is labeled AF."
      ]
    },
    {
      "cell_type": "code",
      "execution_count": null,
      "metadata": {
        "colab": {
          "base_uri": "https://localhost:8080/"
        },
        "id": "lOy9HElTwuuB",
        "outputId": "4a1cbdce-be45-48ca-8ced-f69ccffc1ce7"
      },
      "outputs": [
        {
          "name": "stdout",
          "output_type": "stream",
          "text": [
            "Shape of the fine-tuning data labels: (8528, 4)\n"
          ]
        },
        {
          "data": {
            "text/plain": [
              "A  N  O  ~\n",
              "0  1  0  0    5050\n",
              "   0  1  0    2456\n",
              "1  0  0  0     738\n",
              "0  0  0  1     284\n",
              "Name: count, dtype: int64"
            ]
          },
          "execution_count": 14,
          "metadata": {},
          "output_type": "execute_result"
        }
      ],
      "source": [
        "print(f\"Shape of the fine-tuning data labels: {labels.shape}\")\n",
        "labels.value_counts()"
      ]
    },
    {
      "cell_type": "markdown",
      "metadata": {
        "id": "i32g3k71343l"
      },
      "source": [
        "The `_prepare_data()` function packs ECG signals (resampled and padded) and labels into a dictionary ready to be consumed by `train_test_split` in `sklearn`. To save data pre-processing time in the fine-tuning procedure, we split the pre-processed data (i.e. the `physionet_data` variable) into train and test sets and saved them in pickle form."
      ]
    },
    {
      "cell_type": "code",
      "execution_count": null,
      "metadata": {
        "colab": {
          "base_uri": "https://localhost:8080/"
        },
        "id": "I9txJh5qvXwI",
        "outputId": "99caee42-9597-4384-f4a5-5391deec1b2f"
      },
      "outputs": [
        {
          "name": "stdout",
          "output_type": "stream",
          "text": [
            "PhysioNet data summary:\n",
            "Number of samples: 8528\n",
            "labels: ['A' 'N' 'O' '~']\n",
            "Dimensions of a sample: (16384, 1)\n",
            "Record id A00001 one-hot encoded label: [0 1 0 0]\n"
          ]
        }
      ],
      "source": [
        "print(f\"PhysioNet data summary:\")\n",
        "print(f'Number of samples: {len(physionet_data[\"x\"])}')\n",
        "print(f\"labels: {physionet_data['classes']}\")\n",
        "print(f'Dimensions of a sample: {physionet_data[\"x\"][0].shape}')"
      ]
    },
    {
      "cell_type": "code",
      "execution_count": null,
      "metadata": {
        "colab": {
          "base_uri": "https://localhost:8080/",
          "height": 484
        },
        "id": "dkG_Bhzr2diK",
        "outputId": "b00e3f36-89b0-473a-8860-ca06a2155937"
      },
      "outputs": [
        {
          "name": "stdout",
          "output_type": "stream",
          "text": [
            "Record id: A00004\n",
            "One-hot encoded label: [1 0 0 0]\n"
          ]
        },
        {
          "data": {
            "image/png": "[encoded data removed]",
            "text/plain": [
              "<Figure size 640x480 with 1 Axes>"
            ]
          },
          "metadata": {},
          "output_type": "display_data"
        }
      ],
      "source": [
        "print(f'Record id: {physionet_data[\"record_ids\"][3]}')\n",
        "print(f'One-hot encoded label: {physionet_data[\"y\"][3]}')\n",
        "_ = plt.plot(\n",
        "    np.arange(physionet_data[\"x\"][3].shape[0]) / 250, physionet_data[\"x\"][3]\n",
        ")\n",
        "_ = plt.xlabel(\"Second\")\n",
        "_ = plt.ylabel(\"ECG Signal\")"
      ]
    },
    {
      "cell_type": "markdown",
      "metadata": {
        "id": "3muyDPFPbozY"
      },
      "source": [
        "## Model\n",
        "In this project, the CNN model of choice is ResNet-18v2. This was used in the original paper <cite data-cite=\"Weimann:2021wz\">[1]</cite>.\n",
        "\n",
        "[Link](https://github.com/kweimann/ecg-transfer-learning/blob/master/transplant/modules/resnet1d.py) to the original paper's model definition. This is also present in our repo [here](https://github.com/myles-i/DLH_TransferLearning/blob/master/transplant/modules/resnet1d.py).\n",
        "\n",
        "The ResNet architecture is based on the original design by He et al <cite data-cite=\"he2016identity\">[10]</cite>.\n",
        "\n",
        "We show how to use the paper authors' code to create a 1-D ResNet-18v2 for beat classification in pre-training and AF classification in fine-tuning.\n",
        "\n",
        "* Model architecture\n",
        "  * 18 layers\n",
        "  * Input layer consists of convolution layer with 64 filters, kernel size=3 and stride=2. The output of the convolution layer passes through batch norm, ReLu and max-pooling layers sequentially.\n",
        "  * Output layer is a classifier consisting of a densely-connected layer followed by softmax function.\n",
        "  * The middle 16 layers consist of 8 residual blocks. A residual block consists of the following two components and outputs the sum of the two components' outputs.\n",
        "    1. Two convolution layers, each followed by batch norm and ReLu.\n",
        "    2. A shortcut that passes the input through a convolution layer followed by batch norm.\n",
        "  * Configurations of the residual blocks\n",
        "    * 1st and 2nd: 64 filters, kernel size=7, strides=2 and 1, respectively\n",
        "    * 3rd and 4th: 128 filters, kernel size=5, strides=2 and 1, respectively\n",
        "    * 5th and 6th: 256 filters, kernel size=5, strides=2 and 1, respectively\n",
        "    * 7th and 8th: 512 filters, kernel size=3, strides=2 and 1, respectively\n",
        "  * Detail of [implementation code here](https://github.com/myles-i/DLH_TransferLearning/blob/master/transplant/modules/resnet1d.py).\n",
        "* Pre-training objectives\n",
        "  * Loss function: [Sparse Categorical Cross Entropy](https://www.tensorflow.org/api_docs/python/tf/keras/losses/SparseCategoricalCrossentropy)\n",
        "    * `from_logits=True`\n",
        "    * All other parameters are set to their default values.\n",
        "  * Optimizer: [Adam](https://www.tensorflow.org/api_docs/python/tf/keras/optimizers/Adam)\n",
        "    * `learning_rate`: 0.001 (default)\n",
        "    * `beta_1`: 0.9\n",
        "    * `beta_2`: 0.98\n",
        "    * All other parameters are set to their default values.\n",
        "  * Metric: [Sparse Categorical Accuracy](https://www.tensorflow.org/api_docs/python/tf/keras/metrics/SparseCategoricalAccuracy)\n",
        "* Fine-tuning objectives\n",
        "  * Loss function: [Categorical Cross Entropy](https://www.tensorflow.org/api_docs/python/tf/keras/losses/CategoricalCrossentropy)\n",
        "    * All parameters are set to their default values.\n",
        "  * Optimizer: [Adam](https://www.tensorflow.org/api_docs/python/tf/keras/optimizers/Adam)\n",
        "    * `learning_rate`: 0.001 (default)\n",
        "    * All other parameters are set to their default values.\n",
        "  * Metrics:\n",
        "    * [Accuracy](https://www.tensorflow.org/api_docs/python/tf/keras/metrics/CategoricalAccuracy)\n",
        "    * Macro F1. See our `my_f1()` function below.\n",
        "\n",
        "\n",
        "Pre-trained model weights we trained with patients 0-2047 of the _Icentia11k_ dataset (~20%) can be downloaded from Google Drive [here](https://drive.google.com/file/d/1-9hQzriOv6y6DUu_ND23lwqGo6zv78yv/view?usp=sharing).\n",
        "\n",
        "Pre-trained model weights we trained with all patients of the _Icentia11k_ dataset (100%) can be downloaded from Google Drive [here](https://drive.google.com/file/d/1OrsygheIv6Eh_HtyWT-rkIeMuVJWgXZJ/view?usp=sharing).\n"
      ]
    },
    {
      "cell_type": "markdown",
      "metadata": {
        "id": "4ifheiBfDhpu"
      },
      "source": [
        "### Pre-training Model\n",
        "Below we construct the pre-training ResNet-18v2 and show its structure.\n"
      ]
    },
    {
      "cell_type": "code",
      "execution_count": null,
      "metadata": {
        "colab": {
          "base_uri": "https://localhost:8080/"
        },
        "id": "7_6BokS53jGA",
        "outputId": "e55b16a0-f7b2-4db7-edfd-d99cc5bbed3e"
      },
      "outputs": [
        {
          "name": "stdout",
          "output_type": "stream",
          "text": [
            "Model: \"sequential_1\"\n",
            "_________________________________________________________________\n",
            " Layer (type)                Output Shape              Param #   \n",
            "=================================================================\n",
            " sequential (Sequential)     (None, 512)               4492480   \n",
            "|¯¯¯¯¯¯¯¯¯¯¯¯¯¯¯¯¯¯¯¯¯¯¯¯¯¯¯¯¯¯¯¯¯¯¯¯¯¯¯¯¯¯¯¯¯¯¯¯¯¯¯¯¯¯¯¯¯¯¯¯¯¯¯|\n",
            "| res_net (ResNet)           (None, 64, 512)           4492480  |\n",
            "||¯¯¯¯¯¯¯¯¯¯¯¯¯¯¯¯¯¯¯¯¯¯¯¯¯¯¯¯¯¯¯¯¯¯¯¯¯¯¯¯¯¯¯¯¯¯¯¯¯¯¯¯¯¯¯¯¯¯¯¯¯||\n",
            "|| conv1d (Conv1D)           multiple                  448     ||\n",
            "||                                                             ||\n",
            "|| batch_normalization (Bat  multiple                  256     ||\n",
            "|| chNormalization)                                            ||\n",
            "||                                                             ||\n",
            "|| re_lu (ReLU)              multiple                  0       ||\n",
            "||                                                             ||\n",
            "|| max_pooling1d (MaxPoolin  multiple                  0       ||\n",
            "|| g1D)                                                        ||\n",
            "||                                                             ||\n",
            "|| residual_block (Residual  multiple                  57856   ||\n",
            "|| Block)                                                      ||\n",
            "||                                                             ||\n",
            "|| residual_block_1 (Residu  multiple                  57856   ||\n",
            "|| alBlock)                                                    ||\n",
            "||                                                             ||\n",
            "|| residual_block_2 (Residu  multiple                  132608  ||\n",
            "|| alBlock)                                                    ||\n",
            "||                                                             ||\n",
            "|| residual_block_3 (Residu  multiple                  164864  ||\n",
            "|| alBlock)                                                    ||\n",
            "||                                                             ||\n",
            "|| residual_block_4 (Residu  multiple                  527360  ||\n",
            "|| alBlock)                                                    ||\n",
            "||                                                             ||\n",
            "|| residual_block_5 (Residu  multiple                  657408  ||\n",
            "|| alBlock)                                                    ||\n",
            "||                                                             ||\n",
            "|| residual_block_6 (Residu  multiple                  1316864 ||\n",
            "|| alBlock)                                                    ||\n",
            "||                                                             ||\n",
            "|| residual_block_7 (Residu  multiple                  1576960 ||\n",
            "|| alBlock)                                                    ||\n",
            "|¯¯¯¯¯¯¯¯¯¯¯¯¯¯¯¯¯¯¯¯¯¯¯¯¯¯¯¯¯¯¯¯¯¯¯¯¯¯¯¯¯¯¯¯¯¯¯¯¯¯¯¯¯¯¯¯¯¯¯¯¯¯¯|\n",
            "| global_average_pooling1d   (None, 512)               0        |\n",
            "| (GlobalAveragePooling1D)                                      |\n",
            "¯¯¯¯¯¯¯¯¯¯¯¯¯¯¯¯¯¯¯¯¯¯¯¯¯¯¯¯¯¯¯¯¯¯¯¯¯¯¯¯¯¯¯¯¯¯¯¯¯¯¯¯¯¯¯¯¯¯¯¯¯¯¯¯¯\n",
            " dense (Dense)               (None, 5)                 2565      \n",
            "                                                                 \n",
            "=================================================================\n",
            "Total params: 4495045 (17.15 MB)\n",
            "Trainable params: 4485445 (17.11 MB)\n",
            "Non-trainable params: 9600 (37.50 KB)\n",
            "_________________________________________________________________\n"
          ]
        }
      ],
      "source": [
        "import tensorflow as tf\n",
        "\n",
        "from transplant.modules.resnet1d import ResNet\n",
        "from transplant.datasets import icentia11k\n",
        "from transplant.modules.utils import build_input_tensor_from_shape\n",
        "\n",
        "\n",
        "resnet = ResNet(\n",
        "    num_outputs=None,\n",
        "    blocks=(2, 2, 2, 2),\n",
        "    kernel_size=(7, 5, 5, 3),\n",
        "    include_top=False,\n",
        ")\n",
        "\n",
        "feature_extractor = tf.keras.Sequential(\n",
        "    [resnet, tf.keras.layers.GlobalAveragePooling1D()]\n",
        ")\n",
        "\n",
        "num_classes = len(icentia11k.ds_beat_names)  # 5\n",
        "\n",
        "model = tf.keras.Sequential(\n",
        "    [feature_extractor, tf.keras.layers.Dense(num_classes)]\n",
        ")\n",
        "\n",
        "model.compile(\n",
        "    optimizer=tf.keras.optimizers.Adam(beta_1=0.9, beta_2=0.98, epsilon=1e-9),\n",
        "    loss=tf.keras.losses.SparseCategoricalCrossentropy(from_logits=True),\n",
        "    metrics=[tf.keras.metrics.SparseCategoricalAccuracy(name=\"acc\")],\n",
        ")\n",
        "\n",
        "# Initialize the weights of the model\n",
        "train_data = dataset.batch(32)\n",
        "input_shape, _ = tf.compat.v1.data.get_output_shapes(train_data)\n",
        "input_dtype, _ = tf.compat.v1.data.get_output_types(train_data)\n",
        "inputs = build_input_tensor_from_shape(\n",
        "    input_shape, dtype=input_dtype, ignore_batch_dim=True\n",
        ")\n",
        "model(inputs)\n",
        "model.summary(expand_nested=True)"
      ]
    },
    {
      "cell_type": "markdown",
      "metadata": {
        "id": "HL9H4FYP4Kq-"
      },
      "source": [
        "### Fine-tuning Model\n",
        "\n",
        "The fine-tuning model in the paper is the pre-training model with its output layer replaced with a fully connected layer that matches the classes of the _PhysioNet 2017_ dataset and has randomly initialized weights. Below is a demonstration to construct fine-tuning CNN model. Note the model's number of parameters is identical to that of the pre-training CNN, and the output layer has four outputs, instead of five."
      ]
    },
    {
      "cell_type": "code",
      "execution_count": null,
      "metadata": {
        "colab": {
          "base_uri": "https://localhost:8080/"
        },
        "id": "NrD53OcmHZ-H",
        "outputId": "c918376e-2992-49b1-ca0e-d7da7ab8d061"
      },
      "outputs": [
        {
          "name": "stdout",
          "output_type": "stream",
          "text": [
            "Model: \"sequential_2\"\n",
            "_________________________________________________________________\n",
            " Layer (type)                Output Shape              Param #   \n",
            "=================================================================\n",
            " res_net_1 (ResNet)          (None, 512, 512)          4492480   \n",
            "|¯¯¯¯¯¯¯¯¯¯¯¯¯¯¯¯¯¯¯¯¯¯¯¯¯¯¯¯¯¯¯¯¯¯¯¯¯¯¯¯¯¯¯¯¯¯¯¯¯¯¯¯¯¯¯¯¯¯¯¯¯¯¯|\n",
            "| conv1d_1 (Conv1D)          multiple                  448      |\n",
            "|                                                               |\n",
            "| batch_normalization_1 (Ba  multiple                  256      |\n",
            "| tchNormalization)                                             |\n",
            "|                                                               |\n",
            "| re_lu_1 (ReLU)             multiple                  0        |\n",
            "|                                                               |\n",
            "| max_pooling1d_1 (MaxPooli  multiple                  0        |\n",
            "| ng1D)                                                         |\n",
            "|                                                               |\n",
            "| residual_block_8 (Residua  multiple                  57856    |\n",
            "| lBlock)                                                       |\n",
            "|                                                               |\n",
            "| residual_block_9 (Residua  multiple                  57856    |\n",
            "| lBlock)                                                       |\n",
            "|                                                               |\n",
            "| residual_block_10 (Residu  multiple                  132608   |\n",
            "| alBlock)                                                      |\n",
            "|                                                               |\n",
            "| residual_block_11 (Residu  multiple                  164864   |\n",
            "| alBlock)                                                      |\n",
            "|                                                               |\n",
            "| residual_block_12 (Residu  multiple                  527360   |\n",
            "| alBlock)                                                      |\n",
            "|                                                               |\n",
            "| residual_block_13 (Residu  multiple                  657408   |\n",
            "| alBlock)                                                      |\n",
            "|                                                               |\n",
            "| residual_block_14 (Residu  multiple                  1316864  |\n",
            "| alBlock)                                                      |\n",
            "|                                                               |\n",
            "| residual_block_15 (Residu  multiple                  1576960  |\n",
            "| alBlock)                                                      |\n",
            "¯¯¯¯¯¯¯¯¯¯¯¯¯¯¯¯¯¯¯¯¯¯¯¯¯¯¯¯¯¯¯¯¯¯¯¯¯¯¯¯¯¯¯¯¯¯¯¯¯¯¯¯¯¯¯¯¯¯¯¯¯¯¯¯¯\n",
            " global_average_pooling1d_1  (None, 512)               0         \n",
            "  (GlobalAveragePooling1D)                                       \n",
            "                                                                 \n",
            " new_dense (Dense)           (None, 4)                 2052      \n",
            "                                                                 \n",
            "=================================================================\n",
            "Total params: 4494532 (17.15 MB)\n",
            "Trainable params: 4484932 (17.11 MB)\n",
            "Non-trainable params: 9600 (37.50 KB)\n",
            "_________________________________________________________________\n"
          ]
        }
      ],
      "source": [
        "resnet2 = ResNet(\n",
        "    num_outputs=None,\n",
        "    blocks=(2, 2, 2, 2),\n",
        "    kernel_size=(7, 5, 5, 3),\n",
        "    include_top=False,\n",
        ")\n",
        "\n",
        "ft_model = tf.keras.Sequential(\n",
        "    [resnet2, tf.keras.layers.GlobalAveragePooling1D()]\n",
        ")\n",
        "\n",
        "# Initialize the weights of the model\n",
        "inputs = tf.keras.layers.Input(\n",
        "    physionet_data[\"x\"].shape[1:], dtype=physionet_data[\"x\"].dtype\n",
        ")\n",
        "ft_model(inputs)\n",
        "\n",
        "# Load pre-training weights, if any\n",
        "pre_trained_weights = None\n",
        "if pre_trained_weights:\n",
        "    ft_model.load_weights(pre_trained_weights)\n",
        "\n",
        "# Replace output layer\n",
        "num_classes = len(physionet_data[\"classes\"])  # 4\n",
        "ft_model.add(\n",
        "    tf.keras.layers.Dense(num_classes, activation=\"softmax\", name=\"new_dense\")\n",
        ")\n",
        "\n",
        "ft_model.compile(\n",
        "    optimizer=tf.keras.optimizers.Adam(),\n",
        "    loss=tf.keras.losses.CategoricalCrossentropy(),\n",
        "    metrics=[tf.keras.metrics.CategoricalAccuracy(name=\"acc\")],\n",
        ")\n",
        "ft_model.summary(expand_nested=True)"
      ]
    },
    {
      "cell_type": "markdown",
      "metadata": {
        "id": "BjSHJ3uxvGv4"
      },
      "source": [
        "## Training"
      ]
    },
    {
      "cell_type": "markdown",
      "metadata": {
        "id": "uFdjDQwKzl7W"
      },
      "source": [
        "### Hyperparameters"
      ]
    },
    {
      "cell_type": "markdown",
      "metadata": {
        "id": "1-4YJcZzzqFz"
      },
      "source": [
        "#### Pre-training\n",
        "\n",
        "* Optimizer: [Adam](https://www.tensorflow.org/api_docs/python/tf/keras/optimizers/Adam)\n",
        "    * `learning_rate`: 0.001 (default)\n",
        "    * `beta_1`: 0.9\n",
        "    * `beta_2`: 0.98\n",
        "    * All other parameters are set to their default values.\n",
        "* Sample frequency: 250 Hz\n",
        "* Frame Size: 4096 (about 16 seconds at 250 Hz)\n",
        "* Batch Size: 512\n",
        "* `samples_per_patient`: 4096\n",
        "* Hidden size: Please refer to the \"Models\" section for details."
      ]
    },
    {
      "cell_type": "markdown",
      "metadata": {
        "id": "CrzYKyrUzt4Q"
      },
      "source": [
        "#### Fine-tuning\n",
        "\n",
        "* Optimizer: [Adam](https://www.tensorflow.org/api_docs/python/tf/keras/optimizers/Adam)\n",
        "    * `learning_rate`: 0.001 (default)\n",
        "    * All other parameters are set to their default values.\n",
        "* Batch size: 128\n",
        "    * This size was chosen to maximize the GPU RAM usage of the V100 GPU on Google Colab.\n",
        "* Sample rate: 250 Hz (resampled from 300 Hz)\n",
        "* Frame size: 16384\n",
        "    * Approximately 65 seconds\n",
        "    * Shorter samples are left-padded with zeroes\n",
        "* Hidden size: Please refer to the \"Models Used By Authors\" section for details."
      ]
    },
    {
      "cell_type": "markdown",
      "metadata": {
        "id": "xE3GC0EJz_n7"
      },
      "source": [
        "### Computational Requirements\n"
      ]
    },
    {
      "cell_type": "markdown",
      "metadata": {
        "id": "ubGljHxc0MwP"
      },
      "source": [
        "#### Pre-training\n",
        "\n",
        "* Type of Hardware: V100 GPU\n",
        "    - Batch size of 512 used to fully utilize the 16 GB of RAM on the V100 GPU.\n",
        "    - However, our training rate has been limited by not by the GPU speed, but the I/O time required to transfer, load, and unzip the data files from google drive distributed file system. For example, training on 32x more data per patient only increased runtime by 2.2x, since most of the time was spent loading the same amount of patient data files.\n",
        "    - We experimented with using A100 GPUs which has more RAM (i.e. larger batch size) and is generally faster. But we were unable to get significant speed improvements to justify the extra hourly cost of the A100 GPU due to distributed I/O latency associated with Google Drive.\n",
        "* Average runtime per 1,000 patients: 1 hours, 15 minutes **TODO update with times from 100% run**\n",
        "* Total number of trials: 1\n",
        "* GPU hours used: 2 hours, 30 minutes. **TODO update with 100% time**\n",
        "    - Frame size 4096\n",
        "    - Training on 2048 patient data (about 20% of the _Icentia11k_ dataset)\n",
        "* Number of training epochs: 1\n",
        "\n",
        "**Note on epochs**: Both the author and our analysis only ever uses a patient's data once during pre-training, thus the 1 epoch. However, the code's definition of an \"epoch\" during pre-training has a different meaning and refers to the processing one set of data equal to `batch_size x steps_per_epoch`. This can have variable amounts of data or patients.\n",
        "\n",
        "Also note that during pre-training, we saved 16 checkpoints to be able to study how fine-tuning on different amounts of pre-training affects the final model's performance after fine-tuning."
      ]
    },
    {
      "cell_type": "markdown",
      "metadata": {
        "id": "tizjzeOoHRJE"
      },
      "source": [
        "#### Fine-tuning\n",
        "\n",
        "* Type of Hardware: V100 GPU\n",
        "    - Batch size of 128 used to fully utilize the 16 GB of RAM on the V100 GPU.\n",
        "    - Unlike in pre-training, we did not experience I/O overhead during training as the processed _PhysioNet 2017_ train and test data (pickles) were able to fit into RAM.\n",
        "* Average runtime for each epoch: Between 21 to 22 seconds.\n",
        "* Total number of trials: 50\n",
        "    - 10 trials for each of the five scenarios: Random, 1%, 10%, 20%, and 100%.\n",
        "* GPU hours used: About 21.2 hours total.\n",
        "    - Random: 5.3 hours\n",
        "    - 1%: 3.9 hours\n",
        "    - 10%: 4.1 hours\n",
        "    - 20%: 4.3 hours\n",
        "    - 100%: 3.6 hours\n",
        "* Number of training epochs: Maximum 200 per trial, but in practice, saw early stopping by 80 epochs.\n",
        "    - Training for a single trial would typically complete within 30 minutes."
      ]
    },
    {
      "cell_type": "markdown",
      "metadata": {
        "id": "7HnrvmtLvCLU"
      },
      "source": [
        "### Training Code Snippet Sample\n",
        "\n",
        "TODO do we need this section? If we keep it, we should also make a parallel Fine-tuning section (added below with a TODO prefix)"
      ]
    },
    {
      "cell_type": "markdown",
      "metadata": {
        "id": "v4GE3mPJOQCU"
      },
      "source": [
        "#### Pre-training\n",
        "For beat classification pre-training, a checkpoint function is created to monitor training loss and save model weights of each epoch. The below cell demonstrates pre-training with a small dataset.\n",
        "\n",
        "* Note that the model weights of each epoch are saved for fine-tuning model initialization.\n",
        "* Also note that in `keras` and the way the authors implemented the pre-training step, 1 epoch is defined by batch size and steps-per-epoch (it does not imply training on the entire dataset once)."
      ]
    },
    {
      "cell_type": "code",
      "execution_count": null,
      "metadata": {
        "colab": {
          "base_uri": "https://localhost:8080/"
        },
        "id": "RG7-Rb4aHVfp",
        "outputId": "b773fab1-d84a-491c-e03b-4c06c66d6ac6"
      },
      "outputs": [
        {
          "name": "stdout",
          "output_type": "stream",
          "text": [
            "Epoch 1/2\n",
            "\n",
            "Epoch 1: saving model to /tmp/jobs/final_demo/epoch_01/model.weights\n",
            "64/64 - 17s - loss: 0.2043 - acc: 0.9619 - 17s/epoch - 269ms/step\n",
            "Epoch 2/2\n",
            "\n",
            "Epoch 2: saving model to /tmp/jobs/final_demo/epoch_02/model.weights\n",
            "64/64 - 4s - loss: 0.0839 - acc: 0.9717 - 4s/epoch - 58ms/step\n"
          ]
        }
      ],
      "source": [
        "FINAL_DEMO_JOB = JOB_DIR + \"/final_demo\"\n",
        "\n",
        "checkpoint = tf.keras.callbacks.ModelCheckpoint(\n",
        "    filepath=str(FINAL_DEMO_JOB + \"/epoch_{epoch:02d}\" + \"/model.weights\"),\n",
        "    monitor=\"loss\",\n",
        "    save_best_only=False,\n",
        "    save_weights_only=True,\n",
        "    mode=\"auto\",\n",
        "    verbose=1,\n",
        ")\n",
        "\n",
        "_ = model.fit(\n",
        "    train_data,\n",
        "    steps_per_epoch=64,\n",
        "    verbose=2,\n",
        "    epochs=2,\n",
        "    validation_data=None,\n",
        "    callbacks=[checkpoint],\n",
        ")"
      ]
    },
    {
      "cell_type": "markdown",
      "metadata": {
        "id": "v8mZXHEiPsvC"
      },
      "source": [
        "#### TODO Fine-tuning\n",
        "\n",
        "TODO do we need this section? If not, then delete entire \"Training Code Snippet Sample\" subsection."
      ]
    },
    {
      "cell_type": "markdown",
      "metadata": {
        "id": "_tGIIcCavUUB"
      },
      "source": [
        "### Training Code - Command Line API\n",
        "\n",
        "The paper authors provide entrypoint scripts to run the entire pre-training and fine-tuning process with parameters of choice. The following is the high level description of how the scripts work."
      ]
    },
    {
      "cell_type": "markdown",
      "metadata": {
        "id": "PjhVgufs6OIR"
      },
      "source": [
        "#### Pre-training\n",
        "\n",
        "The source code from the paper authors can be found [here](https://github.com/myles-i/DLH_TransferLearning/tree/master/pretraining).\n",
        "\n",
        "1. Create train/validate data generator based on patient ID and the number of samples per patient, both specified when calling the entrypoint.\n",
        "2. A model is generated based on the model architecture and pre-training task specified by the user.\n",
        "3. Weights of the model are initialized. They can also be loaded from a weights file. For all pre-training in the project, we don't load weights.\n",
        "4. Checkpoint function is created based on training metric. For pre-training, we use `loss` as training metric.\n",
        "5. The model fits the train data. At the end of each training epoch, the checkpoint function is called for evaluation and save the model weights.\n",
        "\n",
        "The paper uses 95% of the patient's ECG data. On average, the paper sampled 4096 ECG frames per patient, which amounts to 42.8 million (11000x0.95x4096) training samples over the course of pre-training. For pre-training with 20% of the data used in paper, we use ECG data from 2048 patients and sample 4096 ECG frames per patient, resulting to roughly 8.4 million (2048x4096) training samples."
      ]
    },
    {
      "cell_type": "markdown",
      "metadata": {
        "id": "wnsQfTsc26yA"
      },
      "source": [
        "The following sample command calls the pre-training entrypoint to run pre-training with 20% of the data used in the paper (Patients 0 through 2047).\n",
        "\n",
        "* The command is easily adapted to run pre-training with 10% of the data in the paper.\n",
        "\n",
        "```bash\n",
        "!time python -m pretraining.trainer \\\n",
        "--job-dir \"jobs/beat_classification_16epochs_to_20percent\" \\\n",
        "--task \"beat\" \\\n",
        "--train {TRAIN_DATASET} \\\n",
        "--arch \"resnet18\" \\\n",
        "--epochs 16 \\\n",
        "--patient-ids `seq 0 2047 | paste -sd, -` \\\n",
        "--steps-per-epoch 1024 \\\n",
        "--samples-per-patient 4096 \\\n",
        "--batch-size 512 \\\n",
        "--frame-size 4096\n",
        "```\n",
        "\n",
        "Explanation of the less obvious parameters:\n",
        "\n",
        "* `--job-dir`: Output directory, where check points and weights are saved.\n",
        "\n",
        "* `--task`: Pre-training task, `beat` for Beat classification.\n",
        "\n",
        "* `--patient-ids`: Patient id(s) whose ECG data to be used in pre-training.\n",
        "\n",
        "  * Multiple patients can be specified by passing a space separated sequence of ids.\n",
        "\n",
        "* `--frame-size`: Number of ECG samples, with 250 Hz sampling rate, in a ECG frame.\n",
        "\n",
        "To use all data: number of patients x samples_per_patient = epochs x batch_size x steps-per-epoch.\n",
        "\n",
        "For demonstration, we run the script in a much smaller scale below:"
      ]
    },
    {
      "cell_type": "code",
      "execution_count": null,
      "metadata": {
        "id": "aZVzl7k1vdAO"
      },
      "outputs": [],
      "source": [
        "PRETRAIN_JOB_DIR = FINAL_DEMO_JOB + \"/pretraining\""
      ]
    },
    {
      "cell_type": "code",
      "execution_count": null,
      "metadata": {
        "colab": {
          "base_uri": "https://localhost:8080/"
        },
        "id": "YBVu9Fas18M4",
        "outputId": "80f8ac5a-5261-49eb-fb68-700e192edc0d"
      },
      "outputs": [
        {
          "name": "stdout",
          "output_type": "stream",
          "text": [
            "2024-05-04 06:18:45.802734: E external/local_xla/xla/stream_executor/cuda/cuda_dnn.cc:9261] Unable to register cuDNN factory: Attempting to register factory for plugin cuDNN when one has already been registered\n",
            "2024-05-04 06:18:45.802788: E external/local_xla/xla/stream_executor/cuda/cuda_fft.cc:607] Unable to register cuFFT factory: Attempting to register factory for plugin cuFFT when one has already been registered\n",
            "2024-05-04 06:18:45.804016: E external/local_xla/xla/stream_executor/cuda/cuda_blas.cc:1515] Unable to register cuBLAS factory: Attempting to register factory for plugin cuBLAS when one has already been registered\n",
            "2024-05-04 06:18:46.802027: W tensorflow/compiler/tf2tensorrt/utils/py_utils.cc:38] TF-TRT Warning: Could not find TensorRT\n",
            "Creating working directory in /tmp/jobs/final_demo/pretraining\n",
            "Setting random state 2024\n",
            "Building train data generators\n",
            "# Patient IDs:  1\n",
            "WARNING:tensorflow:From /tmp/repo/pretraining/datasets.py:33: calling DatasetV2.from_generator (from tensorflow.python.data.ops.dataset_ops) with output_types is deprecated and will be removed in a future version.\n",
            "Instructions for updating:\n",
            "Use output_signature instead\n",
            "WARNING:tensorflow:From /tmp/repo/pretraining/datasets.py:33: calling DatasetV2.from_generator (from tensorflow.python.data.ops.dataset_ops) with output_shapes is deprecated and will be removed in a future version.\n",
            "Instructions for updating:\n",
            "Use output_signature instead\n",
            "2024-05-04 06:18:48.381041: W tensorflow/core/common_runtime/gpu/gpu_bfc_allocator.cc:47] Overriding orig_value setting because the TF_FORCE_GPU_ALLOW_GROWTH environment variable is set. Original config value was 0.\n",
            "Building model ...\n",
            "# model parameters: 4,495,045\n",
            "Epoch 1/2\n",
            "WARNING: All log messages before absl::InitializeLog() is called are written to STDERR\n",
            "I0000 00:00:1714803542.350721   13171 device_compiler.h:186] Compiled cluster using XLA!  This line is logged at most once for the lifetime of the process.\n",
            "\n",
            "Epoch 1: saving model to /tmp/jobs/final_demo/pretraining/epoch_01/model.weights\n",
            "8/8 - 20s - loss: 1.2604 - acc: 0.7231 - 20s/epoch - 2s/step\n",
            "Epoch 2/2\n",
            "\n",
            "Epoch 2: saving model to /tmp/jobs/final_demo/pretraining/epoch_02/model.weights\n",
            "8/8 - 2s - loss: 0.1780 - acc: 0.9717 - 2s/epoch - 243ms/step\n",
            "Exception ignored in: <function AtomicFunction.__del__ at 0x79d2afe5b880>\n",
            "Traceback (most recent call last):\n",
            "  File \"/usr/local/lib/python3.10/dist-packages/tensorflow/python/eager/polymorphic_function/atomic_function.py\", line 291, in __del__\n",
            "TypeError: 'NoneType' object is not subscriptable\n",
            "CPU times: user 190 ms, sys: 32.5 ms, total: 223 ms\n",
            "Wall time: 28.9 s\n"
          ]
        }
      ],
      "source": [
        "%%time\n",
        "!python -m pretraining.trainer \\\n",
        "--job-dir {PRETRAIN_JOB_DIR} \\\n",
        "--task \"beat\" \\\n",
        "--train {DEMO_DATA_DIR} \\\n",
        "--arch \"resnet18\" \\\n",
        "--epochs 2 \\\n",
        "--patient-ids 0 \\\n",
        "--steps-per-epoch 8 \\\n",
        "--samples-per-patient 4096 \\\n",
        "--batch-size 256 \\\n",
        "--frame-size 1024 \\\n",
        "--unzipped True \\\n",
        "--seed 2024"
      ]
    },
    {
      "cell_type": "markdown",
      "metadata": {
        "id": "pX7Rvzla4KrA"
      },
      "source": [
        "#### Fine-tuning\n",
        "\n",
        "The source code from the paper authors can be found [here](https://github.com/myles-i/DLH_TransferLearning/tree/master/finetuning).\n",
        "\n",
        "1. Train and test data set are already separated from the _PhysioNet 2017_ dataset, with a 80%-20% split, and are passed to the entrypoint. The validation dataset will be further separated from the train dataset based on user input.\n",
        "2. A CNN model is generated based on the model architecture specified by the user. Its output layer is fully connected with softmax activation.\n",
        "3. The weights of the model are initialized. They can also be loaded from a weights file.\n",
        "4. Checkpoint function is created based on validation metric. For fine-tuning, we use `f1` (macro F1) as the metric.\n",
        "5. The model fits the train data. At the end of each training epoch, the checkpoint function is called for evaluation and saves the model weights with best macro F1 score on the validation set. Note that the model also is setup to end training early if the validation loss does not decrease after 50 epochs.\n",
        "6. The model is evaluated on the test set and the predicted probabilities are saved to a csv file.\n",
        "\n",
        "Ultimately, the two most important outputs of a fine-tuning execution are:\n",
        "\n",
        "- History file containing validation macro F1 score at the end of each epoch.\n",
        "- Model predictions on the test set."
      ]
    },
    {
      "cell_type": "markdown",
      "metadata": {
        "id": "Yd-4RslV7b0o"
      },
      "source": [
        "The following sample command calls the fine-tuning entrypoint to run fine-tuning with _random initialization_.\n",
        "\n",
        "```bash\n",
        "python -m finetuning.trainer \\\n",
        "--job-dir {JOB_DIR} \\\n",
        "--train {FINETUNE_TRAIN} \\\n",
        "--test {FINETUNE_TEST} \\\n",
        "--val-size 0.0625 \\\n",
        "--val-metric \"f1\" \\\n",
        "--arch \"resnet18\" \\\n",
        "--batch-size 128 \\\n",
        "--epochs 200 \\\n",
        "--seed 2024 \\\n",
        "--verbose\n",
        "```\n",
        "\n",
        "Explanation of the less obvious parameters:\n",
        "\n",
        "* `--job-dir`: Output directory, where checkpoints and weights are saved.\n",
        "* `--val-size`: This is the percentage of the train set size to set aside for the validation set.\n",
        "  * Note that the _PhysioNet 2017_ data was already split into 80% train, 20% test. The paper uses 5% of the full dataset for validation.\n",
        "  * Math: $6.25\\% * 80\\% = 5\\%$.\n",
        "* `--val-metric`: Metric to evaluate the model at the end of each epoch on the validation dataset.\n",
        "* `--seed`: Random state used to split the train into smaller train and validation."
      ]
    },
    {
      "cell_type": "markdown",
      "metadata": {
        "id": "rjzCCmb0IshJ"
      },
      "source": [
        "Below is a small scale demonstration of fine-tuning with random weight initialization. We first download the fine-tuning train and test datasets."
      ]
    },
    {
      "cell_type": "code",
      "execution_count": null,
      "metadata": {
        "id": "aGcyVrP3IshK"
      },
      "outputs": [],
      "source": [
        "FINETUNE_TRAIN = DEMO_DATA_DIR + \"/physionet_train.pkl\"\n",
        "FINETUNE_TEST = DEMO_DATA_DIR + \"/physionet_test.pkl\""
      ]
    },
    {
      "cell_type": "code",
      "execution_count": null,
      "metadata": {
        "id": "aQwScfMgrTFm"
      },
      "outputs": [],
      "source": [
        "%%capture\n",
        "!gdown 10PVz1nmMaeIgxQ4sqDUeZlzhFVHOth5I -O {FINETUNE_TRAIN}\n",
        "!gdown 10FKjncGOZD6_BBCBbvpBQbWvfCLj88MC -O {FINETUNE_TEST}"
      ]
    },
    {
      "cell_type": "code",
      "execution_count": null,
      "metadata": {
        "id": "d2TJ3mzh6wUB"
      },
      "outputs": [],
      "source": [
        "FINETUNE_JOB_DIR = FINAL_DEMO_JOB + \"/finetuning_random\""
      ]
    },
    {
      "cell_type": "markdown",
      "metadata": {
        "id": "eCjC24kCIshK"
      },
      "source": [
        "Then, we run the fine-tuning entrypoint and run fine-tuning for two epochs."
      ]
    },
    {
      "cell_type": "code",
      "execution_count": null,
      "metadata": {
        "colab": {
          "base_uri": "https://localhost:8080/"
        },
        "id": "sV1EBd7Z6nr_",
        "outputId": "eb495712-cd54-4ea1-823a-8afd24027ac0"
      },
      "outputs": [
        {
          "name": "stdout",
          "output_type": "stream",
          "text": [
            "2024-05-04 06:19:20.898822: E external/local_xla/xla/stream_executor/cuda/cuda_dnn.cc:9261] Unable to register cuDNN factory: Attempting to register factory for plugin cuDNN when one has already been registered\n",
            "2024-05-04 06:19:20.898874: E external/local_xla/xla/stream_executor/cuda/cuda_fft.cc:607] Unable to register cuFFT factory: Attempting to register factory for plugin cuFFT when one has already been registered\n",
            "2024-05-04 06:19:20.900065: E external/local_xla/xla/stream_executor/cuda/cuda_blas.cc:1515] Unable to register cuBLAS factory: Attempting to register factory for plugin cuBLAS when one has already been registered\n",
            "2024-05-04 06:19:21.895161: W tensorflow/compiler/tf2tensorrt/utils/py_utils.cc:38] TF-TRT Warning: Could not find TensorRT\n",
            "Creating working directory in /tmp/jobs/final_demo/finetuning_random\n",
            "Setting random state 2024\n",
            "Loading train data from /tmp/data/final_demo/physionet_train.pkl ...\n",
            "Split data into train 93.73% and validation 6.27%\n",
            "Loading test data from /tmp/data/final_demo/physionet_test.pkl ...\n",
            "Train data shape: (1599, 16384, 1)\n",
            "2024-05-04 06:19:30.201759: W tensorflow/core/common_runtime/gpu/gpu_bfc_allocator.cc:47] Overriding orig_value setting because the TF_FORCE_GPU_ALLOW_GROWTH environment variable is set. Original config value was 0.\n",
            "Building model ...\n",
            "# model parameters: 4,492,480\n",
            "Epoch 1/2\n",
            "WARNING: All log messages before absl::InitializeLog() is called are written to STDERR\n",
            "I0000 00:00:1714803588.598284   14055 device_compiler.h:186] Compiled cluster using XLA!  This line is logged at most once for the lifetime of the process.\n",
            "1/1 [==============================] - 1s 672ms/step\n",
            "\n",
            "Epoch 00001: f1 improved from -inf to 0.17933, saving model to /tmp/jobs/final_demo/finetuning_random/best_model.weights\n",
            "13/13 - 54s - loss: 1.1341 - acc: 0.5341 - val_loss: 5.3359 - val_acc: 0.2430 - f1: 0.1793 - 54s/epoch - 4s/step\n",
            "Epoch 2/2\n",
            "1/1 [==============================] - 0s 116ms/step\n",
            "\n",
            "Epoch 00002: f1 improved from 0.17933 to 0.28740, saving model to /tmp/jobs/final_demo/finetuning_random/best_model.weights\n",
            "13/13 - 18s - loss: 0.9700 - acc: 0.5922 - val_loss: 1.1692 - val_acc: 0.5701 - f1: 0.2874 - 18s/epoch - 1s/step\n",
            "Loading the best weights from file /tmp/jobs/final_demo/finetuning_random/best_model.weights ...\n",
            "Predicting training data ...\n",
            "13/13 [==============================] - 5s 362ms/step\n",
            "Predicting validation data ...\n",
            "1/1 [==============================] - 0s 71ms/step\n",
            "Predicting test data ...\n",
            "54/54 [==============================] - 21s 397ms/step\n",
            "CPU times: user 742 ms, sys: 118 ms, total: 860 ms\n",
            "Wall time: 1min 57s\n"
          ]
        }
      ],
      "source": [
        "%%time\n",
        "!python -m finetuning.trainer \\\n",
        "--job-dir {FINETUNE_JOB_DIR} \\\n",
        "--train {FINETUNE_TRAIN} \\\n",
        "--test {FINETUNE_TEST} \\\n",
        "--val-size 0.0625 \\\n",
        "--val-metric \"f1\" \\\n",
        "--arch \"resnet18\" \\\n",
        "--batch-size 128 \\\n",
        "--epochs 2 \\\n",
        "--seed 2024 \\\n",
        "--verbose"
      ]
    },
    {
      "cell_type": "markdown",
      "metadata": {
        "id": "yNnSDq6w7mDX"
      },
      "source": [
        "The following sample command uses the fine-tuning entrypoint to run fine-tuning with pre-trained weights.\n",
        "\n",
        "```bash\n",
        "python -m finetuning.trainer \\\n",
        "--job-dir {JOB_DIR} \\\n",
        "--train {FINETUNE_TRAIN} \\\n",
        "--test {FINETUNE_TEST} \\\n",
        "--weights-file {WEIGHTS_FILE} \\\n",
        "--val-size 0.0625 \\\n",
        "--val-metric \"f1\" \\\n",
        "--arch \"resnet18\" \\\n",
        "--batch-size 128 \\\n",
        "--epochs 200 \\\n",
        "--seed 2024 \\\n",
        "--verbose\n",
        "```\n",
        "\n",
        "This is largely the same command as the previous example for fine-tuning a randomly initialized network. But with this addition:\n",
        "\n",
        "* `--weights-file {WEIGHTS_FILE}`: Path to pre-trained weights or a checkpoint of the model to be used for model initialization."
      ]
    },
    {
      "cell_type": "markdown",
      "metadata": {
        "id": "ueBiFbvjTdIR"
      },
      "source": [
        "Here is a small demonstration below using weights obtained from pre-training using 20% of the _Icentia11k_ dataset. We first download model weights from our experiments."
      ]
    },
    {
      "cell_type": "code",
      "execution_count": null,
      "metadata": {
        "colab": {
          "base_uri": "https://localhost:8080/"
        },
        "id": "AZqK1Ixi81f9",
        "outputId": "bc6711ae-6096-488b-b93e-de90e5d8e6f7"
      },
      "outputs": [
        {
          "name": "stdout",
          "output_type": "stream",
          "text": [
            "CPU times: user 170 ms, sys: 31.7 ms, total: 202 ms\n",
            "Wall time: 30.1 s\n"
          ]
        }
      ],
      "source": [
        "%%time\n",
        "%%capture\n",
        "!mkdir -p {JOB_DIR + '/finetune_pretrain_20_weights_65sec'}\n",
        "!gdown 1-A0AqZe9sanj-8MZnoX4TUAYWrgcUTlg \\\n",
        "    -O {JOB_DIR + '/finetune_pretrain_20_weights_65sec'} --folder"
      ]
    },
    {
      "cell_type": "code",
      "execution_count": null,
      "metadata": {
        "id": "vb51wGvO8Cac"
      },
      "outputs": [],
      "source": [
        "WEIGHTS_FILE = (\n",
        "    JOB_DIR + \"/finetune_pretrain_20_weights_65sec/best_model.weights\"\n",
        ")\n",
        "FINETUNE_JOB_DIR = FINAL_DEMO_JOB + \"/finetuning_pretrained\""
      ]
    },
    {
      "cell_type": "code",
      "execution_count": null,
      "metadata": {
        "colab": {
          "base_uri": "https://localhost:8080/"
        },
        "id": "wVpmhIw_7tpO",
        "outputId": "4fe55ca3-b9ee-4a84-8a4a-66754fe8b813"
      },
      "outputs": [
        {
          "name": "stdout",
          "output_type": "stream",
          "text": [
            "2024-05-04 06:21:48.034112: E external/local_xla/xla/stream_executor/cuda/cuda_dnn.cc:9261] Unable to register cuDNN factory: Attempting to register factory for plugin cuDNN when one has already been registered\n",
            "2024-05-04 06:21:48.034161: E external/local_xla/xla/stream_executor/cuda/cuda_fft.cc:607] Unable to register cuFFT factory: Attempting to register factory for plugin cuFFT when one has already been registered\n",
            "2024-05-04 06:21:48.035377: E external/local_xla/xla/stream_executor/cuda/cuda_blas.cc:1515] Unable to register cuBLAS factory: Attempting to register factory for plugin cuBLAS when one has already been registered\n",
            "2024-05-04 06:21:48.998893: W tensorflow/compiler/tf2tensorrt/utils/py_utils.cc:38] TF-TRT Warning: Could not find TensorRT\n",
            "Creating working directory in /tmp/jobs/final_demo/finetuning_pretrained\n",
            "Setting random state 2024\n",
            "Loading train data from /tmp/data/final_demo/physionet_train.pkl ...\n",
            "Split data into train 93.73% and validation 6.27%\n",
            "Loading test data from /tmp/data/final_demo/physionet_test.pkl ...\n",
            "Train data shape: (1599, 16384, 1)\n",
            "2024-05-04 06:21:57.295958: W tensorflow/core/common_runtime/gpu/gpu_bfc_allocator.cc:47] Overriding orig_value setting because the TF_FORCE_GPU_ALLOW_GROWTH environment variable is set. Original config value was 0.\n",
            "Building model ...\n",
            "# model parameters: 4,492,480\n",
            "Loading weights from file /tmp/jobs/finetune_pretrain_20_weights_65sec/best_model.weights ...\n",
            "Epoch 1/2\n",
            "WARNING: All log messages before absl::InitializeLog() is called are written to STDERR\n",
            "I0000 00:00:1714803735.878436   15593 device_compiler.h:186] Compiled cluster using XLA!  This line is logged at most once for the lifetime of the process.\n",
            "1/1 [==============================] - 1s 883ms/step\n",
            "\n",
            "Epoch 00001: f1 improved from -inf to 0.54445, saving model to /tmp/jobs/final_demo/finetuning_pretrained/best_model.weights\n",
            "13/13 - 54s - loss: 0.8812 - acc: 0.5885 - val_loss: 0.6666 - val_acc: 0.7477 - f1: 0.5444 - 54s/epoch - 4s/step\n",
            "Epoch 2/2\n",
            "1/1 [==============================] - 0s 121ms/step\n",
            "\n",
            "Epoch 00002: f1 improved from 0.54445 to 0.62773, saving model to /tmp/jobs/final_demo/finetuning_pretrained/best_model.weights\n",
            "13/13 - 18s - loss: 0.4888 - acc: 0.8036 - val_loss: 0.3999 - val_acc: 0.8692 - f1: 0.6277 - 18s/epoch - 1s/step\n",
            "Loading the best weights from file /tmp/jobs/final_demo/finetuning_pretrained/best_model.weights ...\n",
            "Predicting training data ...\n",
            "13/13 [==============================] - 5s 356ms/step\n",
            "Predicting validation data ...\n",
            "1/1 [==============================] - 0s 69ms/step\n",
            "Predicting test data ...\n",
            "54/54 [==============================] - 21s 391ms/step\n",
            "CPU times: user 745 ms, sys: 102 ms, total: 847 ms\n",
            "Wall time: 1min 56s\n"
          ]
        }
      ],
      "source": [
        "%%time\n",
        "!python -m finetuning.trainer \\\n",
        "--job-dir {FINETUNE_JOB_DIR} \\\n",
        "--train {FINETUNE_TRAIN} \\\n",
        "--test {FINETUNE_TEST} \\\n",
        "--weights-file {WEIGHTS_FILE} \\\n",
        "--val-size 0.0625 \\\n",
        "--val-metric \"f1\" \\\n",
        "--arch \"resnet18\" \\\n",
        "--batch-size 128 \\\n",
        "--epochs 2 \\\n",
        "--seed 2024 \\\n",
        "--verbose"
      ]
    },
    {
      "cell_type": "markdown",
      "metadata": {
        "id": "K_62G-BkncVU"
      },
      "source": [
        "## Evaluation"
      ]
    },
    {
      "cell_type": "markdown",
      "metadata": {
        "id": "vo94sGYuncVU"
      },
      "source": [
        "### Pre-training\n",
        "\n",
        "The original paper doesn't discuss the performance of the 1-D ResNet-18v2 on pre-training task and focuses the analysis on the comparison between model with random initialized weights and models with pre-trained weights. In addition, our Hypotheses 1 and 2 are about the impact on the fine-tuning task performance. Therefore, we don't evaluate pre-training task performance in this report."
      ]
    },
    {
      "cell_type": "markdown",
      "metadata": {
        "id": "S-JgPKYuncVU"
      },
      "source": [
        "### Fine-tuning\n",
        "\n",
        "#### Metrics Descriptions\n",
        "\n",
        "In fine-tuning, the paper uses macro F1 score for evaluating the model on the _PhysioNet 2017_ validation and test sets.\n",
        "\n",
        "\n",
        "#### Evaluation Code\n",
        "\n",
        "We define our macro F1 function `my_f1`, shown below and is also on Github [here](https://github.com/myles-i/DLH_TransferLearning/blob/master/report/common.py#L6-L9). It is named like that because the paper authors define their F1 function named `f1` and we wish to avoid namespace collision. Additionally, our macro F1 function supports providing per-class F1 scores, which the _original_ `f1` function does not support.\n",
        "\n",
        "See also the Analysis section for how we are using this metric in our results."
      ]
    },
    {
      "cell_type": "code",
      "execution_count": null,
      "metadata": {
        "id": "2y6VjfJzncVU"
      },
      "outputs": [],
      "source": [
        "from sklearn.metrics import f1_score\n",
        "import numpy as np\n",
        "\n",
        "\n",
        "def my_f1(y_true, y_prob, average=\"macro\"):\n",
        "    # set average=None to get per-class F1 scores.\n",
        "    y_pred = y_prob >= np.max(y_prob, axis=1)[:, None]\n",
        "    return f1_score(y_true, y_pred, average=average)"
      ]
    },
    {
      "cell_type": "markdown",
      "metadata": {
        "id": "t0OApbK6yd5Q"
      },
      "source": [
        "# Results\n",
        "\n",
        "As specified, we used the fine-tuning entrypoint script to fine-tune a 1-D ResNet-18v2 model with the following five scenarios relating to the weights used to initialize the model before commencing fine-tuning:\n",
        "\n",
        "* Random initialization.\n",
        "* Pre-training weights from training with 1% of the data.\n",
        "* Pre-training weights from training with 10% of the data.\n",
        "* Pre-training weights from training with 20% of the data.\n",
        "* Pre-training weights from training with 100% of the data.\n",
        "\n",
        "Then we evaluate each model using macro F1 score on the following two datasets:\n",
        "\n",
        "* Validation set during fine-tuning training.\n",
        "* Test set.\n",
        "\n",
        "Finally, we compare the results of all five models.\n",
        "\n",
        "For this report, for each scenario, we ran fine-tuning 10 times with 10 different seeds. We did this in order to obtain average macro F1 scores, just as was done by the paper authors. Recall that the seed controls the split of the input data into a train set and validation set.\n",
        "\n",
        "The same 10 seeds are used to fine-tune all five scenarios to enable apples-to-apples comparison of the macro F1 scores among the three models. Specifically, we used seeds 10, 20, ..., 100.\n",
        "\n",
        "To facilitate analysis of the results, we have separately collated the output files from each trial (scenario and seed combination) into two files. The details may be found in this [notebook](https://github.com/myles-i/DLH_TransferLearning/blob/master/jupyter_notebooks/collate_1d_finetune_results.ipynb).\n",
        "\n",
        "- All history csv file\n",
        "- All test predictions pickle"
      ]
    },
    {
      "cell_type": "markdown",
      "metadata": {
        "id": "zTHxdQkJIshM"
      },
      "source": [
        "In the below cell, we download the collated fine-tuning result files."
      ]
    },
    {
      "cell_type": "code",
      "execution_count": null,
      "metadata": {
        "id": "UWwUZbUSIshM"
      },
      "outputs": [],
      "source": [
        "RESULT1D_DIR = \"/tmp/results1d\""
      ]
    },
    {
      "cell_type": "code",
      "execution_count": null,
      "metadata": {
        "colab": {
          "base_uri": "https://localhost:8080/"
        },
        "id": "sOHdE78Ovl6n",
        "outputId": "a100585b-1ffb-48cc-d60c-11396478a27b"
      },
      "outputs": [
        {
          "name": "stdout",
          "output_type": "stream",
          "text": [
            "CPU times: user 64.9 ms, sys: 11.9 ms, total: 76.9 ms\n",
            "Wall time: 11.3 s\n"
          ]
        }
      ],
      "source": [
        "%%time\n",
        "%%capture\n",
        "!mkdir -p {RESULT1D_DIR}\n",
        "# TODO already fixed to point to results1d_all, remove after verifying that below 1d analysis code works\n",
        "!gdown 1emWqhhDG4fp-Io8dPPa6CiKGS0EgQUVJ -O {RESULT1D_DIR} --folder"
      ]
    },
    {
      "cell_type": "markdown",
      "metadata": {
        "id": "9H8RxXNI3-W_"
      },
      "source": [
        "## Figures and Tables\n",
        "\n",
        "In this section, we generate the tables and figures to then be referenced in the Analysis section below, as well as in the Discussion. To keep this report short, the analysis code is located in a separate file and imported into this notebook. The code may be inspected on Github [here](https://github.com/myles-i/DLH_TransferLearning/blob/master/report/analysis1d.py).\n",
        "\n",
        "Below we import the code as the `analysis1d` module."
      ]
    },
    {
      "cell_type": "code",
      "execution_count": null,
      "metadata": {},
      "outputs": [],
      "source": [
        "from report import analysis1d"
      ]
    },
    {
      "cell_type": "markdown",
      "metadata": {
        "id": "FCwBWC3Q3-XA"
      },
      "source": [
        "### Table 1: Epoch Comparison\n",
        "\n",
        "We create a table of the average and standard deviation of the number of epochs before training is stopped early due to validation loss not decreasing for 50 epochs for each scenario. The `make_epoch_table` code can be found on Github [here](https://github.com/myles-i/DLH_TransferLearning/blob/master/report/analysis1d.py#L7)."
      ]
    },
    {
      "cell_type": "code",
      "execution_count": null,
      "metadata": {
        "colab": {
          "base_uri": "https://localhost:8080/",
          "height": 143
        },
        "id": "yVva2mKa3-XA",
        "outputId": "c8fbdb98-1cbb-4227-a843-707d00f523cc"
      },
      "outputs": [
        {
          "data": {
            "application/vnd.google.colaboratory.intrinsic+json": {
              "summary": "{\n  \"name\": \"make_epoch_table(history_all)\",\n  \"rows\": 3,\n  \"fields\": [\n    {\n      \"column\": \"Type\",\n      \"properties\": {\n        \"dtype\": \"string\",\n        \"num_unique_values\": 3,\n        \"samples\": [\n          \"Random\",\n          \"Pre-train 10\",\n          \"Pre-train 20\"\n        ],\n        \"semantic_type\": \"\",\n        \"description\": \"\"\n      }\n    },\n    {\n      \"column\": \"Mean\",\n      \"properties\": {\n        \"dtype\": \"number\",\n        \"std\": 8.376952508718988,\n        \"min\": 56.2,\n        \"max\": 71.0,\n        \"num_unique_values\": 3,\n        \"samples\": [\n          71.0,\n          56.2,\n          56.8\n        ],\n        \"semantic_type\": \"\",\n        \"description\": \"\"\n      }\n    },\n    {\n      \"column\": \"Std\",\n      \"properties\": {\n        \"dtype\": \"number\",\n        \"std\": 1.892969448600091,\n        \"min\": 2.1,\n        \"max\": 5.6,\n        \"num_unique_values\": 3,\n        \"samples\": [\n          5.6,\n          2.1,\n          2.6\n        ],\n        \"semantic_type\": \"\",\n        \"description\": \"\"\n      }\n    }\n  ]\n}",
              "type": "dataframe"
            },
            "text/html": [
              "\n",
              "  <div id=\"df-a588f14f-855f-4d4f-9e3d-61acf7334d4c\" class=\"colab-df-container\">\n",
              "    <div>\n",
              "<style scoped>\n",
              "    .dataframe tbody tr th:only-of-type {\n",
              "        vertical-align: middle;\n",
              "    }\n",
              "\n",
              "    .dataframe tbody tr th {\n",
              "        vertical-align: top;\n",
              "    }\n",
              "\n",
              "    .dataframe thead th {\n",
              "        text-align: right;\n",
              "    }\n",
              "</style>\n",
              "<table border=\"1\" class=\"dataframe\">\n",
              "  <thead>\n",
              "    <tr style=\"text-align: right;\">\n",
              "      <th></th>\n",
              "      <th>Type</th>\n",
              "      <th>Mean</th>\n",
              "      <th>Std</th>\n",
              "    </tr>\n",
              "  </thead>\n",
              "  <tbody>\n",
              "    <tr>\n",
              "      <th>0</th>\n",
              "      <td>Random</td>\n",
              "      <td>71.0</td>\n",
              "      <td>5.6</td>\n",
              "    </tr>\n",
              "    <tr>\n",
              "      <th>1</th>\n",
              "      <td>Pre-train 10</td>\n",
              "      <td>56.2</td>\n",
              "      <td>2.1</td>\n",
              "    </tr>\n",
              "    <tr>\n",
              "      <th>2</th>\n",
              "      <td>Pre-train 20</td>\n",
              "      <td>56.8</td>\n",
              "      <td>2.6</td>\n",
              "    </tr>\n",
              "  </tbody>\n",
              "</table>\n",
              "</div>\n",
              "    <div class=\"colab-df-buttons\">\n",
              "\n",
              "  <div class=\"colab-df-container\">\n",
              "    <button class=\"colab-df-convert\" onclick=\"convertToInteractive('df-a588f14f-855f-4d4f-9e3d-61acf7334d4c')\"\n",
              "            title=\"Convert this dataframe to an interactive table.\"\n",
              "            style=\"display:none;\">\n",
              "\n",
              "  <svg xmlns=\"http://www.w3.org/2000/svg\" height=\"24px\" viewBox=\"0 -960 960 960\">\n",
              "    <path d=\"M120-120v-720h720v720H120Zm60-500h600v-160H180v160Zm220 220h160v-160H400v160Zm0 220h160v-160H400v160ZM180-400h160v-160H180v160Zm440 0h160v-160H620v160ZM180-180h160v-160H180v160Zm440 0h160v-160H620v160Z\"/>\n",
              "  </svg>\n",
              "    </button>\n",
              "\n",
              "  <style>\n",
              "    .colab-df-container {\n",
              "      display:flex;\n",
              "      gap: 12px;\n",
              "    }\n",
              "\n",
              "    .colab-df-convert {\n",
              "      background-color: #E8F0FE;\n",
              "      border: none;\n",
              "      border-radius: 50%;\n",
              "      cursor: pointer;\n",
              "      display: none;\n",
              "      fill: #1967D2;\n",
              "      height: 32px;\n",
              "      padding: 0 0 0 0;\n",
              "      width: 32px;\n",
              "    }\n",
              "\n",
              "    .colab-df-convert:hover {\n",
              "      background-color: #E2EBFA;\n",
              "      box-shadow: 0px 1px 2px rgba(60, 64, 67, 0.3), 0px 1px 3px 1px rgba(60, 64, 67, 0.15);\n",
              "      fill: #174EA6;\n",
              "    }\n",
              "\n",
              "    .colab-df-buttons div {\n",
              "      margin-bottom: 4px;\n",
              "    }\n",
              "\n",
              "    [theme=dark] .colab-df-convert {\n",
              "      background-color: #3B4455;\n",
              "      fill: #D2E3FC;\n",
              "    }\n",
              "\n",
              "    [theme=dark] .colab-df-convert:hover {\n",
              "      background-color: #434B5C;\n",
              "      box-shadow: 0px 1px 3px 1px rgba(0, 0, 0, 0.15);\n",
              "      filter: drop-shadow(0px 1px 2px rgba(0, 0, 0, 0.3));\n",
              "      fill: #FFFFFF;\n",
              "    }\n",
              "  </style>\n",
              "\n",
              "    <script>\n",
              "      const buttonEl =\n",
              "        document.querySelector('#df-a588f14f-855f-4d4f-9e3d-61acf7334d4c button.colab-df-convert');\n",
              "      buttonEl.style.display =\n",
              "        google.colab.kernel.accessAllowed ? 'block' : 'none';\n",
              "\n",
              "      async function convertToInteractive(key) {\n",
              "        const element = document.querySelector('#df-a588f14f-855f-4d4f-9e3d-61acf7334d4c');\n",
              "        const dataTable =\n",
              "          await google.colab.kernel.invokeFunction('convertToInteractive',\n",
              "                                                    [key], {});\n",
              "        if (!dataTable) return;\n",
              "\n",
              "        const docLinkHtml = 'Like what you see? Visit the ' +\n",
              "          '<a target=\"_blank\" href=https://colab.research.google.com/notebooks/data_table.ipynb>data table notebook</a>'\n",
              "          + ' to learn more about interactive tables.';\n",
              "        element.innerHTML = '';\n",
              "        dataTable['output_type'] = 'display_data';\n",
              "        await google.colab.output.renderOutput(dataTable, element);\n",
              "        const docLink = document.createElement('div');\n",
              "        docLink.innerHTML = docLinkHtml;\n",
              "        element.appendChild(docLink);\n",
              "      }\n",
              "    </script>\n",
              "  </div>\n",
              "\n",
              "\n",
              "<div id=\"df-153d2e88-3916-414f-8a1f-635ac13837c0\">\n",
              "  <button class=\"colab-df-quickchart\" onclick=\"quickchart('df-153d2e88-3916-414f-8a1f-635ac13837c0')\"\n",
              "            title=\"Suggest charts\"\n",
              "            style=\"display:none;\">\n",
              "\n",
              "<svg xmlns=\"http://www.w3.org/2000/svg\" height=\"24px\"viewBox=\"0 0 24 24\"\n",
              "     width=\"24px\">\n",
              "    <g>\n",
              "        <path d=\"M19 3H5c-1.1 0-2 .9-2 2v14c0 1.1.9 2 2 2h14c1.1 0 2-.9 2-2V5c0-1.1-.9-2-2-2zM9 17H7v-7h2v7zm4 0h-2V7h2v10zm4 0h-2v-4h2v4z\"/>\n",
              "    </g>\n",
              "</svg>\n",
              "  </button>\n",
              "\n",
              "<style>\n",
              "  .colab-df-quickchart {\n",
              "      --bg-color: #E8F0FE;\n",
              "      --fill-color: #1967D2;\n",
              "      --hover-bg-color: #E2EBFA;\n",
              "      --hover-fill-color: #174EA6;\n",
              "      --disabled-fill-color: #AAA;\n",
              "      --disabled-bg-color: #DDD;\n",
              "  }\n",
              "\n",
              "  [theme=dark] .colab-df-quickchart {\n",
              "      --bg-color: #3B4455;\n",
              "      --fill-color: #D2E3FC;\n",
              "      --hover-bg-color: #434B5C;\n",
              "      --hover-fill-color: #FFFFFF;\n",
              "      --disabled-bg-color: #3B4455;\n",
              "      --disabled-fill-color: #666;\n",
              "  }\n",
              "\n",
              "  .colab-df-quickchart {\n",
              "    background-color: var(--bg-color);\n",
              "    border: none;\n",
              "    border-radius: 50%;\n",
              "    cursor: pointer;\n",
              "    display: none;\n",
              "    fill: var(--fill-color);\n",
              "    height: 32px;\n",
              "    padding: 0;\n",
              "    width: 32px;\n",
              "  }\n",
              "\n",
              "  .colab-df-quickchart:hover {\n",
              "    background-color: var(--hover-bg-color);\n",
              "    box-shadow: 0 1px 2px rgba(60, 64, 67, 0.3), 0 1px 3px 1px rgba(60, 64, 67, 0.15);\n",
              "    fill: var(--button-hover-fill-color);\n",
              "  }\n",
              "\n",
              "  .colab-df-quickchart-complete:disabled,\n",
              "  .colab-df-quickchart-complete:disabled:hover {\n",
              "    background-color: var(--disabled-bg-color);\n",
              "    fill: var(--disabled-fill-color);\n",
              "    box-shadow: none;\n",
              "  }\n",
              "\n",
              "  .colab-df-spinner {\n",
              "    border: 2px solid var(--fill-color);\n",
              "    border-color: transparent;\n",
              "    border-bottom-color: var(--fill-color);\n",
              "    animation:\n",
              "      spin 1s steps(1) infinite;\n",
              "  }\n",
              "\n",
              "  @keyframes spin {\n",
              "    0% {\n",
              "      border-color: transparent;\n",
              "      border-bottom-color: var(--fill-color);\n",
              "      border-left-color: var(--fill-color);\n",
              "    }\n",
              "    20% {\n",
              "      border-color: transparent;\n",
              "      border-left-color: var(--fill-color);\n",
              "      border-top-color: var(--fill-color);\n",
              "    }\n",
              "    30% {\n",
              "      border-color: transparent;\n",
              "      border-left-color: var(--fill-color);\n",
              "      border-top-color: var(--fill-color);\n",
              "      border-right-color: var(--fill-color);\n",
              "    }\n",
              "    40% {\n",
              "      border-color: transparent;\n",
              "      border-right-color: var(--fill-color);\n",
              "      border-top-color: var(--fill-color);\n",
              "    }\n",
              "    60% {\n",
              "      border-color: transparent;\n",
              "      border-right-color: var(--fill-color);\n",
              "    }\n",
              "    80% {\n",
              "      border-color: transparent;\n",
              "      border-right-color: var(--fill-color);\n",
              "      border-bottom-color: var(--fill-color);\n",
              "    }\n",
              "    90% {\n",
              "      border-color: transparent;\n",
              "      border-bottom-color: var(--fill-color);\n",
              "    }\n",
              "  }\n",
              "</style>\n",
              "\n",
              "  <script>\n",
              "    async function quickchart(key) {\n",
              "      const quickchartButtonEl =\n",
              "        document.querySelector('#' + key + ' button');\n",
              "      quickchartButtonEl.disabled = true;  // To prevent multiple clicks.\n",
              "      quickchartButtonEl.classList.add('colab-df-spinner');\n",
              "      try {\n",
              "        const charts = await google.colab.kernel.invokeFunction(\n",
              "            'suggestCharts', [key], {});\n",
              "      } catch (error) {\n",
              "        console.error('Error during call to suggestCharts:', error);\n",
              "      }\n",
              "      quickchartButtonEl.classList.remove('colab-df-spinner');\n",
              "      quickchartButtonEl.classList.add('colab-df-quickchart-complete');\n",
              "    }\n",
              "    (() => {\n",
              "      let quickchartButtonEl =\n",
              "        document.querySelector('#df-153d2e88-3916-414f-8a1f-635ac13837c0 button');\n",
              "      quickchartButtonEl.style.display =\n",
              "        google.colab.kernel.accessAllowed ? 'block' : 'none';\n",
              "    })();\n",
              "  </script>\n",
              "</div>\n",
              "\n",
              "    </div>\n",
              "  </div>\n"
            ],
            "text/plain": [
              "           Type  Mean  Std\n",
              "0        Random  71.0  5.6\n",
              "1  Pre-train 10  56.2  2.1\n",
              "2  Pre-train 20  56.8  2.6"
            ]
          },
          "execution_count": 33,
          "metadata": {},
          "output_type": "execute_result"
        }
      ],
      "source": [
        "import pandas as pd\n",
        "history_all = pd.read_csv(RESULT1D_DIR + \"/history_all.csv\")\n",
        "analysis1d.make_epoch_table(history_all)"
      ]
    },
    {
      "cell_type": "markdown",
      "metadata": {
        "id": "gX6bCcZNuxmz"
      },
      "source": [
        "### Figure 1: Average Validation Macro F1 Comparison\n",
        "\n",
        "We plot the average validation macro F1 scores by epoch for each of the five scenarios using `plot_f1_by_epoch()` ([source](https://github.com/myles-i/DLH_TransferLearning/blob/master/report/analysis1d.py#L39))."
      ]
    },
    {
      "cell_type": "code",
      "execution_count": null,
      "metadata": {
        "colab": {
          "base_uri": "https://localhost:8080/",
          "height": 472
        },
        "id": "kAFOCZymytgL",
        "outputId": "1d1902d8-3a26-44f8-a4e6-2c692c8ec5eb"
      },
      "outputs": [
        {
          "data": {
            "image/png": "[encoded data removed]",
            "text/plain": [
              "<Figure size 640x480 with 1 Axes>"
            ]
          },
          "metadata": {},
          "output_type": "display_data"
        }
      ],
      "source": [
        "analysis1d.plot_range_f1_by_epoch(history_all)"
      ]
    },
    {
      "cell_type": "markdown",
      "metadata": {},
      "source": [
        "### Figure 2: Average Validation Macro F1 between Random and Pre-trained Scenario\n",
        "\n",
        "Similar to Figure 1, but with only random and pre-trained 100% scenarios and we also include shaded regions for each line. The shaded region represents the area between the maximum and minimum macro F1 score for that epoch among the 10 trials for a scenario. The `plot_f1_by_epoch_with_range` function is used to generate Figure 2 ([source](https://github.com/myles-i/DLH_TransferLearning/blob/master/report/analysis1d.py#L84))."
      ]
    },
    {
      "cell_type": "code",
      "execution_count": null,
      "metadata": {},
      "outputs": [],
      "source": [
        "analysis1d.plot_f1_by_epoch_with_range(history_all)"
      ]
    },
    {
      "cell_type": "markdown",
      "metadata": {
        "id": "TbF9J1rE1ytR"
      },
      "source": [
        "### Table 2: Average Test Macro F1 Comparison\n",
        "\n",
        "Recall that the fine-tuning entrypoint performs inference on the test set using the model with the highest validation macro F1 score.\n",
        "\n",
        "We use `make_f1_table()` ([source](https://github.com/myles-i/DLH_TransferLearning/blob/master/report/analysis1d.py#L127)) to generate a table that is similar in format to Table 1 of the paper.\n",
        "\n",
        "For each scenario, we report the average macro F1 score (and the standard deviation) on the test set. We also report the average F1 score for each class in the _PhysioNet 2017_ dataset:\n",
        "\n",
        "- Normal (F1n)\n",
        "- AF (F1a)\n",
        "- Other (F1o)\n",
        "- Noisy (F1p)"
      ]
    },
    {
      "cell_type": "code",
      "execution_count": null,
      "metadata": {
        "colab": {
          "base_uri": "https://localhost:8080/",
          "height": 143
        },
        "id": "Nob5zEKX3DI1",
        "outputId": "9a44d662-5970-4cbf-a933-14f9ffdd190b"
      },
      "outputs": [
        {
          "data": {
            "application/vnd.google.colaboratory.intrinsic+json": {
              "summary": "{\n  \"name\": \"make_f1_table(predictions_all)\",\n  \"rows\": 3,\n  \"fields\": [\n    {\n      \"column\": \"Type\",\n      \"properties\": {\n        \"dtype\": \"string\",\n        \"num_unique_values\": 3,\n        \"samples\": [\n          \"Random\",\n          \"Pre-train 10\",\n          \"Pre-train 20\"\n        ],\n        \"semantic_type\": \"\",\n        \"description\": \"\"\n      }\n    },\n    {\n      \"column\": \"F1\",\n      \"properties\": {\n        \"dtype\": \"string\",\n        \"num_unique_values\": 3,\n        \"samples\": [\n          \".702 (\\u00b1 .030)\",\n          \".765 (\\u00b1 .012)\",\n          \".765 (\\u00b1 .014)\"\n        ],\n        \"semantic_type\": \"\",\n        \"description\": \"\"\n      }\n    },\n    {\n      \"column\": \"F1n\",\n      \"properties\": {\n        \"dtype\": \"string\",\n        \"num_unique_values\": 3,\n        \"samples\": [\n          \".881 (\\u00b1 .011)\",\n          \".904 (\\u00b1 .005)\",\n          \".901 (\\u00b1 .004)\"\n        ],\n        \"semantic_type\": \"\",\n        \"description\": \"\"\n      }\n    },\n    {\n      \"column\": \"F1a\",\n      \"properties\": {\n        \"dtype\": \"string\",\n        \"num_unique_values\": 3,\n        \"samples\": [\n          \".647 (\\u00b1 .048)\",\n          \".745 (\\u00b1 .017)\",\n          \".760 (\\u00b1 .026)\"\n        ],\n        \"semantic_type\": \"\",\n        \"description\": \"\"\n      }\n    },\n    {\n      \"column\": \"F1o\",\n      \"properties\": {\n        \"dtype\": \"string\",\n        \"num_unique_values\": 3,\n        \"samples\": [\n          \".686 (\\u00b1 .030)\",\n          \".735 (\\u00b1 .013)\",\n          \".741 (\\u00b1 .012)\"\n        ],\n        \"semantic_type\": \"\",\n        \"description\": \"\"\n      }\n    },\n    {\n      \"column\": \"F1p\",\n      \"properties\": {\n        \"dtype\": \"string\",\n        \"num_unique_values\": 3,\n        \"samples\": [\n          \".595 (\\u00b1 .063)\",\n          \".675 (\\u00b1 .030)\",\n          \".658 (\\u00b1 .032)\"\n        ],\n        \"semantic_type\": \"\",\n        \"description\": \"\"\n      }\n    }\n  ]\n}",
              "type": "dataframe"
            },
            "text/html": [
              "\n",
              "  <div id=\"df-c1e3d2dd-9ad6-45aa-a18b-deedd079ec86\" class=\"colab-df-container\">\n",
              "    <div>\n",
              "<style scoped>\n",
              "    .dataframe tbody tr th:only-of-type {\n",
              "        vertical-align: middle;\n",
              "    }\n",
              "\n",
              "    .dataframe tbody tr th {\n",
              "        vertical-align: top;\n",
              "    }\n",
              "\n",
              "    .dataframe thead th {\n",
              "        text-align: right;\n",
              "    }\n",
              "</style>\n",
              "<table border=\"1\" class=\"dataframe\">\n",
              "  <thead>\n",
              "    <tr style=\"text-align: right;\">\n",
              "      <th></th>\n",
              "      <th>Type</th>\n",
              "      <th>F1</th>\n",
              "      <th>F1n</th>\n",
              "      <th>F1a</th>\n",
              "      <th>F1o</th>\n",
              "      <th>F1p</th>\n",
              "    </tr>\n",
              "  </thead>\n",
              "  <tbody>\n",
              "    <tr>\n",
              "      <th>0</th>\n",
              "      <td>Random</td>\n",
              "      <td>.702 (± .030)</td>\n",
              "      <td>.881 (± .011)</td>\n",
              "      <td>.647 (± .048)</td>\n",
              "      <td>.686 (± .030)</td>\n",
              "      <td>.595 (± .063)</td>\n",
              "    </tr>\n",
              "    <tr>\n",
              "      <th>1</th>\n",
              "      <td>Pre-train 10</td>\n",
              "      <td>.765 (± .012)</td>\n",
              "      <td>.904 (± .005)</td>\n",
              "      <td>.745 (± .017)</td>\n",
              "      <td>.735 (± .013)</td>\n",
              "      <td>.675 (± .030)</td>\n",
              "    </tr>\n",
              "    <tr>\n",
              "      <th>2</th>\n",
              "      <td>Pre-train 20</td>\n",
              "      <td>.765 (± .014)</td>\n",
              "      <td>.901 (± .004)</td>\n",
              "      <td>.760 (± .026)</td>\n",
              "      <td>.741 (± .012)</td>\n",
              "      <td>.658 (± .032)</td>\n",
              "    </tr>\n",
              "  </tbody>\n",
              "</table>\n",
              "</div>\n",
              "    <div class=\"colab-df-buttons\">\n",
              "\n",
              "  <div class=\"colab-df-container\">\n",
              "    <button class=\"colab-df-convert\" onclick=\"convertToInteractive('df-c1e3d2dd-9ad6-45aa-a18b-deedd079ec86')\"\n",
              "            title=\"Convert this dataframe to an interactive table.\"\n",
              "            style=\"display:none;\">\n",
              "\n",
              "  <svg xmlns=\"http://www.w3.org/2000/svg\" height=\"24px\" viewBox=\"0 -960 960 960\">\n",
              "    <path d=\"M120-120v-720h720v720H120Zm60-500h600v-160H180v160Zm220 220h160v-160H400v160Zm0 220h160v-160H400v160ZM180-400h160v-160H180v160Zm440 0h160v-160H620v160ZM180-180h160v-160H180v160Zm440 0h160v-160H620v160Z\"/>\n",
              "  </svg>\n",
              "    </button>\n",
              "\n",
              "  <style>\n",
              "    .colab-df-container {\n",
              "      display:flex;\n",
              "      gap: 12px;\n",
              "    }\n",
              "\n",
              "    .colab-df-convert {\n",
              "      background-color: #E8F0FE;\n",
              "      border: none;\n",
              "      border-radius: 50%;\n",
              "      cursor: pointer;\n",
              "      display: none;\n",
              "      fill: #1967D2;\n",
              "      height: 32px;\n",
              "      padding: 0 0 0 0;\n",
              "      width: 32px;\n",
              "    }\n",
              "\n",
              "    .colab-df-convert:hover {\n",
              "      background-color: #E2EBFA;\n",
              "      box-shadow: 0px 1px 2px rgba(60, 64, 67, 0.3), 0px 1px 3px 1px rgba(60, 64, 67, 0.15);\n",
              "      fill: #174EA6;\n",
              "    }\n",
              "\n",
              "    .colab-df-buttons div {\n",
              "      margin-bottom: 4px;\n",
              "    }\n",
              "\n",
              "    [theme=dark] .colab-df-convert {\n",
              "      background-color: #3B4455;\n",
              "      fill: #D2E3FC;\n",
              "    }\n",
              "\n",
              "    [theme=dark] .colab-df-convert:hover {\n",
              "      background-color: #434B5C;\n",
              "      box-shadow: 0px 1px 3px 1px rgba(0, 0, 0, 0.15);\n",
              "      filter: drop-shadow(0px 1px 2px rgba(0, 0, 0, 0.3));\n",
              "      fill: #FFFFFF;\n",
              "    }\n",
              "  </style>\n",
              "\n",
              "    <script>\n",
              "      const buttonEl =\n",
              "        document.querySelector('#df-c1e3d2dd-9ad6-45aa-a18b-deedd079ec86 button.colab-df-convert');\n",
              "      buttonEl.style.display =\n",
              "        google.colab.kernel.accessAllowed ? 'block' : 'none';\n",
              "\n",
              "      async function convertToInteractive(key) {\n",
              "        const element = document.querySelector('#df-c1e3d2dd-9ad6-45aa-a18b-deedd079ec86');\n",
              "        const dataTable =\n",
              "          await google.colab.kernel.invokeFunction('convertToInteractive',\n",
              "                                                    [key], {});\n",
              "        if (!dataTable) return;\n",
              "\n",
              "        const docLinkHtml = 'Like what you see? Visit the ' +\n",
              "          '<a target=\"_blank\" href=https://colab.research.google.com/notebooks/data_table.ipynb>data table notebook</a>'\n",
              "          + ' to learn more about interactive tables.';\n",
              "        element.innerHTML = '';\n",
              "        dataTable['output_type'] = 'display_data';\n",
              "        await google.colab.output.renderOutput(dataTable, element);\n",
              "        const docLink = document.createElement('div');\n",
              "        docLink.innerHTML = docLinkHtml;\n",
              "        element.appendChild(docLink);\n",
              "      }\n",
              "    </script>\n",
              "  </div>\n",
              "\n",
              "\n",
              "<div id=\"df-5c8738fb-67b2-43b2-9b0e-165564f59af9\">\n",
              "  <button class=\"colab-df-quickchart\" onclick=\"quickchart('df-5c8738fb-67b2-43b2-9b0e-165564f59af9')\"\n",
              "            title=\"Suggest charts\"\n",
              "            style=\"display:none;\">\n",
              "\n",
              "<svg xmlns=\"http://www.w3.org/2000/svg\" height=\"24px\"viewBox=\"0 0 24 24\"\n",
              "     width=\"24px\">\n",
              "    <g>\n",
              "        <path d=\"M19 3H5c-1.1 0-2 .9-2 2v14c0 1.1.9 2 2 2h14c1.1 0 2-.9 2-2V5c0-1.1-.9-2-2-2zM9 17H7v-7h2v7zm4 0h-2V7h2v10zm4 0h-2v-4h2v4z\"/>\n",
              "    </g>\n",
              "</svg>\n",
              "  </button>\n",
              "\n",
              "<style>\n",
              "  .colab-df-quickchart {\n",
              "      --bg-color: #E8F0FE;\n",
              "      --fill-color: #1967D2;\n",
              "      --hover-bg-color: #E2EBFA;\n",
              "      --hover-fill-color: #174EA6;\n",
              "      --disabled-fill-color: #AAA;\n",
              "      --disabled-bg-color: #DDD;\n",
              "  }\n",
              "\n",
              "  [theme=dark] .colab-df-quickchart {\n",
              "      --bg-color: #3B4455;\n",
              "      --fill-color: #D2E3FC;\n",
              "      --hover-bg-color: #434B5C;\n",
              "      --hover-fill-color: #FFFFFF;\n",
              "      --disabled-bg-color: #3B4455;\n",
              "      --disabled-fill-color: #666;\n",
              "  }\n",
              "\n",
              "  .colab-df-quickchart {\n",
              "    background-color: var(--bg-color);\n",
              "    border: none;\n",
              "    border-radius: 50%;\n",
              "    cursor: pointer;\n",
              "    display: none;\n",
              "    fill: var(--fill-color);\n",
              "    height: 32px;\n",
              "    padding: 0;\n",
              "    width: 32px;\n",
              "  }\n",
              "\n",
              "  .colab-df-quickchart:hover {\n",
              "    background-color: var(--hover-bg-color);\n",
              "    box-shadow: 0 1px 2px rgba(60, 64, 67, 0.3), 0 1px 3px 1px rgba(60, 64, 67, 0.15);\n",
              "    fill: var(--button-hover-fill-color);\n",
              "  }\n",
              "\n",
              "  .colab-df-quickchart-complete:disabled,\n",
              "  .colab-df-quickchart-complete:disabled:hover {\n",
              "    background-color: var(--disabled-bg-color);\n",
              "    fill: var(--disabled-fill-color);\n",
              "    box-shadow: none;\n",
              "  }\n",
              "\n",
              "  .colab-df-spinner {\n",
              "    border: 2px solid var(--fill-color);\n",
              "    border-color: transparent;\n",
              "    border-bottom-color: var(--fill-color);\n",
              "    animation:\n",
              "      spin 1s steps(1) infinite;\n",
              "  }\n",
              "\n",
              "  @keyframes spin {\n",
              "    0% {\n",
              "      border-color: transparent;\n",
              "      border-bottom-color: var(--fill-color);\n",
              "      border-left-color: var(--fill-color);\n",
              "    }\n",
              "    20% {\n",
              "      border-color: transparent;\n",
              "      border-left-color: var(--fill-color);\n",
              "      border-top-color: var(--fill-color);\n",
              "    }\n",
              "    30% {\n",
              "      border-color: transparent;\n",
              "      border-left-color: var(--fill-color);\n",
              "      border-top-color: var(--fill-color);\n",
              "      border-right-color: var(--fill-color);\n",
              "    }\n",
              "    40% {\n",
              "      border-color: transparent;\n",
              "      border-right-color: var(--fill-color);\n",
              "      border-top-color: var(--fill-color);\n",
              "    }\n",
              "    60% {\n",
              "      border-color: transparent;\n",
              "      border-right-color: var(--fill-color);\n",
              "    }\n",
              "    80% {\n",
              "      border-color: transparent;\n",
              "      border-right-color: var(--fill-color);\n",
              "      border-bottom-color: var(--fill-color);\n",
              "    }\n",
              "    90% {\n",
              "      border-color: transparent;\n",
              "      border-bottom-color: var(--fill-color);\n",
              "    }\n",
              "  }\n",
              "</style>\n",
              "\n",
              "  <script>\n",
              "    async function quickchart(key) {\n",
              "      const quickchartButtonEl =\n",
              "        document.querySelector('#' + key + ' button');\n",
              "      quickchartButtonEl.disabled = true;  // To prevent multiple clicks.\n",
              "      quickchartButtonEl.classList.add('colab-df-spinner');\n",
              "      try {\n",
              "        const charts = await google.colab.kernel.invokeFunction(\n",
              "            'suggestCharts', [key], {});\n",
              "      } catch (error) {\n",
              "        console.error('Error during call to suggestCharts:', error);\n",
              "      }\n",
              "      quickchartButtonEl.classList.remove('colab-df-spinner');\n",
              "      quickchartButtonEl.classList.add('colab-df-quickchart-complete');\n",
              "    }\n",
              "    (() => {\n",
              "      let quickchartButtonEl =\n",
              "        document.querySelector('#df-5c8738fb-67b2-43b2-9b0e-165564f59af9 button');\n",
              "      quickchartButtonEl.style.display =\n",
              "        google.colab.kernel.accessAllowed ? 'block' : 'none';\n",
              "    })();\n",
              "  </script>\n",
              "</div>\n",
              "\n",
              "    </div>\n",
              "  </div>\n"
            ],
            "text/plain": [
              "           Type             F1            F1n            F1a            F1o  \\\n",
              "0        Random  .702 (± .030)  .881 (± .011)  .647 (± .048)  .686 (± .030)   \n",
              "1  Pre-train 10  .765 (± .012)  .904 (± .005)  .745 (± .017)  .735 (± .013)   \n",
              "2  Pre-train 20  .765 (± .014)  .901 (± .004)  .760 (± .026)  .741 (± .012)   \n",
              "\n",
              "             F1p  \n",
              "0  .595 (± .063)  \n",
              "1  .675 (± .030)  \n",
              "2  .658 (± .032)  "
            ]
          },
          "execution_count": 40,
          "metadata": {},
          "output_type": "execute_result"
        }
      ],
      "source": [
        "from transplant.utils import load_pkl\n",
        "\n",
        "predictions_all = load_pkl(RESULT1D_DIR + \"/predictions_all.pkl\")\n",
        "analysis1d.make_f1_table(predictions_all)"
      ]
    },
    {
      "cell_type": "markdown",
      "metadata": {
        "id": "72P9hHES3-XD"
      },
      "source": [
        "## Analysis"
      ]
    },
    {
      "cell_type": "markdown",
      "metadata": {
        "id": "YNLmcFuBIshQ"
      },
      "source": [
        "### TODO Epoch Analysis\n",
        "\n",
        "TODO fix this to deal with 5 scenarios\n",
        "\n",
        "Table 1 shows the average and standard deviation of the number of epochs taken by the fine-tuning process to converge by means of early stopping. Recall that the average statistic is taken over 10 trials for each scenario.\n",
        "\n",
        "Table 1 shows that:\n",
        "\n",
        "- Both pre-trained models took about 20% fewer epochs to reach convergence during fine-tuning compared to the randomly initialized model.\n",
        "- Both pre-trained models had about the same average epochs to convergence, with 10% model being marginally faster than the 20% model.\n",
        "- Since both pre-trained models converge faster, they both triggered the early stopping sooner than did the randomly initialized model.\n",
        "\n",
        "#### Comparing with Paper Results\n",
        "\n",
        "There is not a table in the paper that is directly comparable to Table 1. However, we can perform an indirect comparison by looking at Figure 3(a) of the paper. Specifically, from Figure 3(a) we see that pre-training takes between 15% to 20% fewer epochs to converge compared to random initialization. This is quite similar to the 20% reduction in epoch count for both pre-trained models in Table 1.\n",
        "\n",
        "#### Comparing with Hypothesis\n",
        "\n",
        "We compare our result to **Hypothesis 2**. Note that Table 1 does not address Hypothesis 2 directly as the result does not concern performance on the target task. However, if we consider epoch count to be a substitute, we might expect the 20% model to take fewer epochs to fine-tune compared to the 10% model.\n",
        "\n",
        "Table 1 does not support this modified hypothesis. It shows that both pre-trained models are very similar in fine-tuning epoch count, and in fact the 10% model needs slightly fewer epochs than the 20% model.\n",
        "\n",
        "One explanation for this behavior may be that a 20% subset of the pre-train data is not significantly larger than 10% subset to make a difference in favor of the 20% model. It may be that a pre-trained model on a larger subset of the pre-train data could take fewer epochs to converge in fine-tuning compared to the 10% model.\n"
      ]
    },
    {
      "cell_type": "markdown",
      "metadata": {
        "id": "sIUJTesy3-XD"
      },
      "source": [
        "### TODO Validation Macro F1 Analysis\n",
        "\n",
        "TODO fix to deal with 5 scenarios\n",
        "\n",
        "Figure 1 compares the average macro F1 scores of each scenario on the validation set per epoch. Inspecting Figure 1 shows that pre-trained models:\n",
        "\n",
        "* achieve a high validation macro F1 within just several epochs, whereas the randomly initialized model takes longer to converge and reaches a lower validation macro F1 plateau.\n",
        "* consistently show better validation performance than the randomly initialized model over the course of fine-tuning.\n",
        "\n",
        "#### Comparing with Paper Results\n",
        "We compare Figure 1 to Figure 3(a) in the paper. The main difference is that Figure 1 has three lines, one for each scenario whereas Figure 3(a) has just two as the paper only considers two scenarios: random initialization and pre-trained.\n",
        "\n",
        "In terms of the shape of the lines, we see that the lines for all three scenarios in Figure 1 have a very similar shape to the lines in Figure 3(a) in the paper. We also see a similar separation between the 'plateaus' of the pre-trained models and the randomly initialized model in Figure 1. Also the plateaus in Figure 1 appear to hover around similar macro F1 scores as in Figure 3(a).\n",
        "\n",
        "The main discrepancy between Figure 1 and Figure 3(a) is the number of epochs. In Figure 1, all scenarios completed fine-tuning within about 80 epochs. However in Figure 3(a), that figure is around 140 epochs.\n",
        "\n",
        "The reason for the discrepancy lies in the metric used for early stopping of fine-tuning. Recall that the fine-tuning process is set up to terminate early if the metric does not 'improve' for 50 epochs. In our work, we used the code as provided, which uses the validation loss as the metric. However, the paper authors use training accuracy as the metric.\n",
        "\n",
        "In a separate trial experiment, we changed the metric to training accuracy and saw fine-tuning take more than 100 epochs to converge, which explained the cause for the discrepancy in epoch count between the two figures. However we did not re-run our experiments to use the correct metric for the following reasons:\n",
        "\n",
        "- The increase in epochs directly correlates with training time (from 30 minutes to 60 minutes).\n",
        "- We were constrained on time and resources, having spent much of both on running the full set of experiments using the validation loss metric.\n",
        "- Even with the 'wrong' metric, the fine-tuning results in Figure 1 and Table 2 are very similar to Figure 3(a) and Table 1 in the paper, respectively.\n",
        "\n",
        "These reasons suggest that the choice of metric used for early stopping does not appear to make a huge difference in terms of the performance of the fine-tuned model.\n",
        "\n",
        "TODO change previous paragraphs if we end up using the new experiments?\n",
        "\n",
        "\n",
        "#### Comparing with Hypothesis\n",
        "\n",
        "We compare our result to both **Hypotheses 1 and 2**.\n",
        "\n",
        "**Hypothesis 1**: Figure 1 appears to support Hypothesis 1 in that there is a clear increase in the performance of pre-trained models compared to a model that is not pre-trained on the validation dataset.\n",
        "\n",
        "**Hypothesis 2**: Figure 1 does not appear to support Hypothesis 2 for the validation dataset. We see that the blue (10%) and orange (20%) lines are very similar to each other; the orange line is not a clear winner compared to the blue line. This may suggest that we need to use a larger subset of the pre-train dataset to see an improvement over the 10% model.\n",
        "\n",
        "---\n",
        "TODO add Figure 3(a) image to here?\n",
        "\n",
        "All claims should be supported by experiment results\n",
        "Discuss with respect to the hypothesis and results from the original paper\n",
        "\n",
        "Table 1 produces a plot similar to Figure 3(a) in the paper. Here you can see visually that the fine-tuning with pre-training converge faster, and perform better compared to the randomly initialized model.\n"
      ]
    },
    {
      "cell_type": "markdown",
      "metadata": {
        "id": "N_qEZOGaAsKI"
      },
      "source": [
        "### TODO Test F1 Analysis\n",
        "\n",
        "TODO fix to deal with 5 scenarios\n",
        "\n",
        "Note that Table 2 should be compared to the None and Beat Classification rows of Table 1 in the paper, as that is the scope of our replication work.\n",
        "\n",
        "Table 2 shows that both pre-trained models outperform random initialized model in both:\n",
        "\n",
        "- Average macro F1 score (F1 column).\n",
        "- Average per-class F1 score, all classes (`F1n`, `F1a`, `F1o`, and `F1p` columns).\n",
        "\n",
        "We also see that the 10% and 20% scenarios had the same average macro F1 scores. There was no consistent winner at the average per-class F1 scores.\n",
        "\n",
        "#### Comparing with Paper Results\n",
        "Our results in Table 2 are consistent with those in Table 1 of the paper.\n",
        "\n",
        "- Both pre-trained models show 6.3% higher average macro F1 score than that of random initialization.\n",
        "- This is comparable to the 6.57% figure reported in the paper.\n",
        "\n",
        "#### Comparing with Hypothesis\n",
        "\n",
        "We compare the results to **Hypotheses 1 and 2**.\n",
        "\n",
        "**Hypothesis 1** Table 2 indeed validates Hypothesis 1 in that pre-training, even on up to 20% of the _Icentia11k_ dataset does improve the performance of a fine-tuned model on the target _PhysioNet 2017_ dataset, when compared to a not pre-trained model.\n",
        "\n",
        "**Hypothesis 2** Table 2 does not show that the 20% model has a consistently better performance on the test dataset compared to the 10% model. This is the same situation as reported in the above analysis of the validation macro F1 results represented by Figure 1.\n",
        "\n",
        "TODO attach image of Table 1 from paper?"
      ]
    },
    {
      "cell_type": "markdown",
      "metadata": {
        "id": "cxA8ecxzthX5"
      },
      "source": [
        "# Ablation Study (Hypothesis 3)\n",
        "Given the extent of work for the ablation study, we dedicate a separate top-level section to it, instead of locating it within the \"Results\" section.\n",
        "\n",
        "## Background\n",
        "\n",
        "The original paper is entirely based on 1-D CNNs and the raw ECG signal. To extend the paper's results, we aim to pre-process the raw signals using Fourier transforms to represent the data as a spectrogram -- a frequency versus time representation of ECG signals.\n",
        "\n",
        "Using this representation of the input, we will train a 2-D CNN model (i.e. 2-D ResNet-18v2) and compare the performance of pre-trained and randomly initialized models. Additionally, we will compare the 2-D model performance to the 1-D models originally used by the authors.\n",
        "\n",
        "This extension is motivated by a study on ECG Arrhythmia classification that demonstrates the effectiveness of CNNs trained on spectrograms <cite data-cite=\"Huang:2019\">[5]</cite>. By converting ECG data to spectrogram features and then using spectrograms to pre-train a 2-D ResNet, we intend to illustrate the adaptability of the transfer learning framework in the original paper across diverse model architectures."
      ]
    },
    {
      "cell_type": "markdown",
      "metadata": {
        "id": "SxStRoZ9IshR"
      },
      "source": [
        "## Spectrogram Preprocessing\n",
        "For the spectrogram, the following parameters were chosen:\n",
        "\n",
        "- Window size: 256 (~1 second)\n",
        "- Stride: 32 (~0.25 seconds)\n",
        "- Window type: hanning -> this is like a pre-defined convolution that is used to smooth the FFTs for each spectrogram slice\n",
        "- Normalization: Remove mean from each sample\n",
        "- Scale: linear (not db)"
      ]
    },
    {
      "cell_type": "markdown",
      "metadata": {
        "id": "IxN53_FbL-9j"
      },
      "source": [
        "### Spectrogram Preprocessing Code\n",
        "The spectrogram pre-processing code and the data loaders for the pre-training can be found [here](https://github.com/myles-i/DLH_TransferLearning/blob/master/transplant/datasets/icentia11k_spectrogram.py).\n",
        "\n",
        "Below, we show the raw ECG signal next to the spectrogram of the same signal using our pre-processing function, and then use the spectrogram pre-processor on the same ECG signal presented in the earlier \"Data\" section."
      ]
    },
    {
      "cell_type": "code",
      "execution_count": null,
      "metadata": {
        "colab": {
          "base_uri": "https://localhost:8080/",
          "height": 1000
        },
        "id": "cORhGYpy-3DF",
        "outputId": "09646a3f-38e1-4086-ab02-b06d88429a56"
      },
      "outputs": [
        {
          "name": "stdout",
          "output_type": "stream",
          "text": [
            "Beat label: normal\n"
          ]
        },
        {
          "data": {
            "image/png": "[encoded data removed]",
            "text/plain": [
              "<Figure size 640x480 with 1 Axes>"
            ]
          },
          "metadata": {},
          "output_type": "display_data"
        },
        {
          "data": {
            "image/png": "[encoded data removed]",
            "text/plain": [
              "<Figure size 800x600 with 2 Axes>"
            ]
          },
          "metadata": {},
          "output_type": "display_data"
        }
      ],
      "source": [
        "from pretraining import datasets\n",
        "from transplant.datasets.icentia11k_spectrogram import spectrogram_preprocessor\n",
        "# use raw data we grabbed earlier\n",
        "\n",
        "# First let's plot the raw signal for comparison\n",
        "print(f\"Beat label: {datasets.icentia11k.ds_beat_names[data[1]]}\")\n",
        "_ = plt.plot(np.arange(len(data[0])) / 250, data[0])\n",
        "_ = plt.xlabel(\"second\")\n",
        "_ = plt.ylabel(\"ECG signal\")\n",
        "\n",
        "# Now let's calculate and plot the spectrogram of this raw signal\n",
        "x = spectrogram_preprocessor(\n",
        "    np.squeeze(data[0]),\n",
        "    window_size=256,\n",
        "    stride=32,\n",
        "    n_freqs=128,\n",
        "    fs=250.0,\n",
        "    ref=1,\n",
        ")\n",
        "fig, ax = plt.subplots(1, 1, figsize=(8, 6))\n",
        "im1 = ax.imshow(x, cmap=\"viridis\", aspect=\"auto\")\n",
        "fig.colorbar(im1, label=\"Magnitude $|S_x(t, f)|$\")\n",
        "ax.set_title(f\"Sample spectrogram of shape {x.shape}\")\n",
        "ax.set_xlabel(\"spectrogram slice #\")\n",
        "ax.set_ylabel(\"Frequency Index\")\n",
        "ax.invert_yaxis()\n",
        "plt.show()"
      ]
    },
    {
      "cell_type": "markdown",
      "metadata": {
        "id": "s_7HIzCq-OVs"
      },
      "source": [
        "### Ablation Model: 2-D ResNet-18v2\n",
        "The model chosen for the ablation study using spectrograms is similar to the original model used, but is a 2-D ResNet-18v2. It is presented here:\n",
        "\n",
        "[Link](https://github.com/songrise/CNN_Keras/blob/main/src/ResNet-18.py) to base code for the model that we used in this project, with the updated version in our repo [here](https://github.com/myles-i/DLH_TransferLearning/blob/master/transplant/modules/resnet2d.py)\n",
        "\n",
        "This ResNet architecture is based on the original design by He, et al <cite data-cite=\"he2016identity\">[10]</cite>.\n",
        "\n",
        "* Model architecture\n",
        "  * 18 layers\n",
        "  * Input layer consists of convolution layer with 64 filters, kernel size=7x7 and stride=2. The output of the convolution layer passes through batch norm, ReLu and max-pooling layer sequentially.\n",
        "  * The middle 16 layers consists of 8 residual blocks. A residual block consists of the following two components and outputs the sum of the two components' outputs.\n",
        "    1. Two convolution layers, each followed by batch norm and ReLu\n",
        "    2. A shortcut that passes the input through a convolution layer followed by batch norm.\n",
        "  * Output layer is a classifier consisting of a densely-connected layer followed by softmax or sigmoid function.\n",
        "  * Configurations of the residual blocks\n",
        "    * 1st and 2nd: 64 filters, kernel size=3x3, strides=2 and 1, respectively.\n",
        "    * 3rd and 4th: 128 filters, kernel size=3x3, strides=2 and 1, respectively.\n",
        "    * 5th and 6th: 256 filters, kernel size=3x3, strides=2 and 1, respectively.\n",
        "    * 7th and 8th: 512 filters, kernel size=3x3, strides=2 and 1, respectively.\n",
        "\n",
        "* Pre-training objectives\n",
        "  * The same as the original author's 1-D pre-training objectives.\n",
        "\n",
        "* Fine-tuning objectives\n",
        "  * The same as the original author's 1-D pre-training objectives (F1 score)\n",
        "\n",
        "Pre-trained model weights we trained with patients 0-2047 of the _Icentia11k_ dataset (~20%) can be found downloaded from Google Drive [here](https://drive.google.com/file/d/13kSnwxfA3n-NTN1q3DuTvRadETkU8iTY/view?usp=sharing).\n",
        "\n",
        "This model is built and displayed below for reference:\n",
        "  "
      ]
    },
    {
      "cell_type": "code",
      "execution_count": null,
      "metadata": {
        "colab": {
          "base_uri": "https://localhost:8080/"
        },
        "id": "vly2sx16FH9d",
        "outputId": "a8675d44-209e-402d-f6f9-56e14b10b5c3"
      },
      "outputs": [
        {
          "name": "stderr",
          "output_type": "stream",
          "text": [
            "WARNING:tensorflow:AutoGraph could not transform <bound method ResnetBlock.call of <transplant.modules.resnet2d.ResnetBlock object at 0x7e3b0c4c3bb0>> and will run it as-is.\n",
            "Cause: mangled names are not yet supported\n",
            "To silence this warning, decorate the function with @tf.autograph.experimental.do_not_convert\n"
          ]
        },
        {
          "name": "stdout",
          "output_type": "stream",
          "text": [
            "WARNING: AutoGraph could not transform <bound method ResnetBlock.call of <transplant.modules.resnet2d.ResnetBlock object at 0x7e3b0c4c3bb0>> and will run it as-is.\n",
            "Cause: mangled names are not yet supported\n",
            "To silence this warning, decorate the function with @tf.autograph.experimental.do_not_convert\n",
            "Model: \"res_net18_2d\"\n",
            "_________________________________________________________________\n",
            " Layer (type)                Output Shape              Param #   \n",
            "=================================================================\n",
            " conv2d (Conv2D)             multiple                  3200      \n",
            "                                                                 \n",
            " batch_normalization_2 (Bat  multiple                  256       \n",
            " chNormalization)                                                \n",
            "                                                                 \n",
            " max_pooling2d (MaxPooling2  multiple                  0         \n",
            " D)                                                              \n",
            "                                                                 \n",
            " resnet_block (ResnetBlock)  multiple                  74368     \n",
            "|¯¯¯¯¯¯¯¯¯¯¯¯¯¯¯¯¯¯¯¯¯¯¯¯¯¯¯¯¯¯¯¯¯¯¯¯¯¯¯¯¯¯¯¯¯¯¯¯¯¯¯¯¯¯¯¯¯¯¯¯¯¯¯|\n",
            "| conv2d_1 (Conv2D)          multiple                  36928    |\n",
            "|                                                               |\n",
            "| batch_normalization_3 (Ba  multiple                  256      |\n",
            "| tchNormalization)                                             |\n",
            "|                                                               |\n",
            "| conv2d_2 (Conv2D)          multiple                  36928    |\n",
            "|                                                               |\n",
            "| batch_normalization_4 (Ba  multiple                  256      |\n",
            "| tchNormalization)                                             |\n",
            "|                                                               |\n",
            "| add (Add)                  multiple                  0        |\n",
            "¯¯¯¯¯¯¯¯¯¯¯¯¯¯¯¯¯¯¯¯¯¯¯¯¯¯¯¯¯¯¯¯¯¯¯¯¯¯¯¯¯¯¯¯¯¯¯¯¯¯¯¯¯¯¯¯¯¯¯¯¯¯¯¯¯\n",
            " resnet_block_1 (ResnetBloc  multiple                  74368     \n",
            " k)                                                              \n",
            "|¯¯¯¯¯¯¯¯¯¯¯¯¯¯¯¯¯¯¯¯¯¯¯¯¯¯¯¯¯¯¯¯¯¯¯¯¯¯¯¯¯¯¯¯¯¯¯¯¯¯¯¯¯¯¯¯¯¯¯¯¯¯¯|\n",
            "| conv2d_3 (Conv2D)          multiple                  36928    |\n",
            "|                                                               |\n",
            "| batch_normalization_5 (Ba  multiple                  256      |\n",
            "| tchNormalization)                                             |\n",
            "|                                                               |\n",
            "| conv2d_4 (Conv2D)          multiple                  36928    |\n",
            "|                                                               |\n",
            "| batch_normalization_6 (Ba  multiple                  256      |\n",
            "| tchNormalization)                                             |\n",
            "|                                                               |\n",
            "| add_1 (Add)                multiple                  0        |\n",
            "¯¯¯¯¯¯¯¯¯¯¯¯¯¯¯¯¯¯¯¯¯¯¯¯¯¯¯¯¯¯¯¯¯¯¯¯¯¯¯¯¯¯¯¯¯¯¯¯¯¯¯¯¯¯¯¯¯¯¯¯¯¯¯¯¯\n",
            " resnet_block_2 (ResnetBloc  multiple                  231296    \n",
            " k)                                                              \n",
            "|¯¯¯¯¯¯¯¯¯¯¯¯¯¯¯¯¯¯¯¯¯¯¯¯¯¯¯¯¯¯¯¯¯¯¯¯¯¯¯¯¯¯¯¯¯¯¯¯¯¯¯¯¯¯¯¯¯¯¯¯¯¯¯|\n",
            "| conv2d_5 (Conv2D)          multiple                  73856    |\n",
            "|                                                               |\n",
            "| batch_normalization_7 (Ba  multiple                  512      |\n",
            "| tchNormalization)                                             |\n",
            "|                                                               |\n",
            "| conv2d_6 (Conv2D)          multiple                  147584   |\n",
            "|                                                               |\n",
            "| batch_normalization_8 (Ba  multiple                  512      |\n",
            "| tchNormalization)                                             |\n",
            "|                                                               |\n",
            "| add_2 (Add)                multiple                  0        |\n",
            "|                                                               |\n",
            "| conv2d_7 (Conv2D)          multiple                  8320     |\n",
            "|                                                               |\n",
            "| batch_normalization_9 (Ba  multiple                  512      |\n",
            "| tchNormalization)                                             |\n",
            "¯¯¯¯¯¯¯¯¯¯¯¯¯¯¯¯¯¯¯¯¯¯¯¯¯¯¯¯¯¯¯¯¯¯¯¯¯¯¯¯¯¯¯¯¯¯¯¯¯¯¯¯¯¯¯¯¯¯¯¯¯¯¯¯¯\n",
            " resnet_block_3 (ResnetBloc  multiple                  296192    \n",
            " k)                                                              \n",
            "|¯¯¯¯¯¯¯¯¯¯¯¯¯¯¯¯¯¯¯¯¯¯¯¯¯¯¯¯¯¯¯¯¯¯¯¯¯¯¯¯¯¯¯¯¯¯¯¯¯¯¯¯¯¯¯¯¯¯¯¯¯¯¯|\n",
            "| conv2d_8 (Conv2D)          multiple                  147584   |\n",
            "|                                                               |\n",
            "| batch_normalization_10 (B  multiple                  512      |\n",
            "| atchNormalization)                                            |\n",
            "|                                                               |\n",
            "| conv2d_9 (Conv2D)          multiple                  147584   |\n",
            "|                                                               |\n",
            "| batch_normalization_11 (B  multiple                  512      |\n",
            "| atchNormalization)                                            |\n",
            "|                                                               |\n",
            "| add_3 (Add)                multiple                  0        |\n",
            "¯¯¯¯¯¯¯¯¯¯¯¯¯¯¯¯¯¯¯¯¯¯¯¯¯¯¯¯¯¯¯¯¯¯¯¯¯¯¯¯¯¯¯¯¯¯¯¯¯¯¯¯¯¯¯¯¯¯¯¯¯¯¯¯¯\n",
            " resnet_block_4 (ResnetBloc  multiple                  921344    \n",
            " k)                                                              \n",
            "|¯¯¯¯¯¯¯¯¯¯¯¯¯¯¯¯¯¯¯¯¯¯¯¯¯¯¯¯¯¯¯¯¯¯¯¯¯¯¯¯¯¯¯¯¯¯¯¯¯¯¯¯¯¯¯¯¯¯¯¯¯¯¯|\n",
            "| conv2d_10 (Conv2D)         multiple                  295168   |\n",
            "|                                                               |\n",
            "| batch_normalization_12 (B  multiple                  1024     |\n",
            "| atchNormalization)                                            |\n",
            "|                                                               |\n",
            "| conv2d_11 (Conv2D)         multiple                  590080   |\n",
            "|                                                               |\n",
            "| batch_normalization_13 (B  multiple                  1024     |\n",
            "| atchNormalization)                                            |\n",
            "|                                                               |\n",
            "| add_4 (Add)                multiple                  0        |\n",
            "|                                                               |\n",
            "| conv2d_12 (Conv2D)         multiple                  33024    |\n",
            "|                                                               |\n",
            "| batch_normalization_14 (B  multiple                  1024     |\n",
            "| atchNormalization)                                            |\n",
            "¯¯¯¯¯¯¯¯¯¯¯¯¯¯¯¯¯¯¯¯¯¯¯¯¯¯¯¯¯¯¯¯¯¯¯¯¯¯¯¯¯¯¯¯¯¯¯¯¯¯¯¯¯¯¯¯¯¯¯¯¯¯¯¯¯\n",
            " resnet_block_5 (ResnetBloc  multiple                  1182208   \n",
            " k)                                                              \n",
            "|¯¯¯¯¯¯¯¯¯¯¯¯¯¯¯¯¯¯¯¯¯¯¯¯¯¯¯¯¯¯¯¯¯¯¯¯¯¯¯¯¯¯¯¯¯¯¯¯¯¯¯¯¯¯¯¯¯¯¯¯¯¯¯|\n",
            "| conv2d_13 (Conv2D)         multiple                  590080   |\n",
            "|                                                               |\n",
            "| batch_normalization_15 (B  multiple                  1024     |\n",
            "| atchNormalization)                                            |\n",
            "|                                                               |\n",
            "| conv2d_14 (Conv2D)         multiple                  590080   |\n",
            "|                                                               |\n",
            "| batch_normalization_16 (B  multiple                  1024     |\n",
            "| atchNormalization)                                            |\n",
            "|                                                               |\n",
            "| add_5 (Add)                multiple                  0        |\n",
            "¯¯¯¯¯¯¯¯¯¯¯¯¯¯¯¯¯¯¯¯¯¯¯¯¯¯¯¯¯¯¯¯¯¯¯¯¯¯¯¯¯¯¯¯¯¯¯¯¯¯¯¯¯¯¯¯¯¯¯¯¯¯¯¯¯\n",
            " resnet_block_6 (ResnetBloc  multiple                  3677696   \n",
            " k)                                                              \n",
            "|¯¯¯¯¯¯¯¯¯¯¯¯¯¯¯¯¯¯¯¯¯¯¯¯¯¯¯¯¯¯¯¯¯¯¯¯¯¯¯¯¯¯¯¯¯¯¯¯¯¯¯¯¯¯¯¯¯¯¯¯¯¯¯|\n",
            "| conv2d_15 (Conv2D)         multiple                  1180160  |\n",
            "|                                                               |\n",
            "| batch_normalization_17 (B  multiple                  2048     |\n",
            "| atchNormalization)                                            |\n",
            "|                                                               |\n",
            "| conv2d_16 (Conv2D)         multiple                  2359808  |\n",
            "|                                                               |\n",
            "| batch_normalization_18 (B  multiple                  2048     |\n",
            "| atchNormalization)                                            |\n",
            "|                                                               |\n",
            "| add_6 (Add)                multiple                  0        |\n",
            "|                                                               |\n",
            "| conv2d_17 (Conv2D)         multiple                  131584   |\n",
            "|                                                               |\n",
            "| batch_normalization_19 (B  multiple                  2048     |\n",
            "| atchNormalization)                                            |\n",
            "¯¯¯¯¯¯¯¯¯¯¯¯¯¯¯¯¯¯¯¯¯¯¯¯¯¯¯¯¯¯¯¯¯¯¯¯¯¯¯¯¯¯¯¯¯¯¯¯¯¯¯¯¯¯¯¯¯¯¯¯¯¯¯¯¯\n",
            " resnet_block_7 (ResnetBloc  multiple                  4723712   \n",
            " k)                                                              \n",
            "|¯¯¯¯¯¯¯¯¯¯¯¯¯¯¯¯¯¯¯¯¯¯¯¯¯¯¯¯¯¯¯¯¯¯¯¯¯¯¯¯¯¯¯¯¯¯¯¯¯¯¯¯¯¯¯¯¯¯¯¯¯¯¯|\n",
            "| conv2d_18 (Conv2D)         multiple                  2359808  |\n",
            "|                                                               |\n",
            "| batch_normalization_20 (B  multiple                  2048     |\n",
            "| atchNormalization)                                            |\n",
            "|                                                               |\n",
            "| conv2d_19 (Conv2D)         multiple                  2359808  |\n",
            "|                                                               |\n",
            "| batch_normalization_21 (B  multiple                  2048     |\n",
            "| atchNormalization)                                            |\n",
            "|                                                               |\n",
            "| add_7 (Add)                multiple                  0        |\n",
            "¯¯¯¯¯¯¯¯¯¯¯¯¯¯¯¯¯¯¯¯¯¯¯¯¯¯¯¯¯¯¯¯¯¯¯¯¯¯¯¯¯¯¯¯¯¯¯¯¯¯¯¯¯¯¯¯¯¯¯¯¯¯¯¯¯\n",
            " global_average_pooling2d (  multiple                  0         \n",
            " GlobalAveragePooling2D)                                         \n",
            "                                                                 \n",
            " flatten (Flatten)           multiple                  0         \n",
            "                                                                 \n",
            " dense_1 (Dense)             multiple                  2565      \n",
            "                                                                 \n",
            "=================================================================\n",
            "Total params: 11187205 (42.68 MB)\n",
            "Trainable params: 11177605 (42.64 MB)\n",
            "Non-trainable params: 9600 (37.50 KB)\n",
            "_________________________________________________________________\n"
          ]
        }
      ],
      "source": [
        "from transplant.modules.resnet2d import ResNet18_2D\n",
        "import transplant.datasets.icentia11k as icentia11k\n",
        "\n",
        "num_classes = len(icentia11k.ds_beat_names)\n",
        "model = ResNet18_2D(num_classes=num_classes)\n",
        "model.build(input_shape=(None, 64, 64, 1))\n",
        "model.compile(\n",
        "    optimizer=tf.keras.optimizers.Adam(beta_1=0.9, beta_2=0.98, epsilon=1e-9),\n",
        "    loss=tf.keras.losses.SparseCategoricalCrossentropy(from_logits=True),\n",
        "    metrics=[tf.keras.metrics.SparseCategoricalAccuracy(name=\"acc\")],\n",
        ")\n",
        "model.summary(expand_nested=True)"
      ]
    },
    {
      "cell_type": "markdown",
      "metadata": {
        "id": "Vc-7nub7Nvme"
      },
      "source": [
        "## Ablation Training"
      ]
    },
    {
      "cell_type": "markdown",
      "metadata": {
        "id": "DgqgfmNPIshS"
      },
      "source": [
        "### Hyperparameters\n",
        "To simplify the training and make comparisons easier, the same hyperparameters for pre-training and fine-tuning were used during the ablation study. These common parameters included the batch size and learning rates, sample rates, and frame size. The only different hyperparameters were those chosen for the pre-processing step. These are already listed in the preprocessing section.\n",
        "\n",
        "TODO consider updating this description if frame_size is different from pre-training if we use the 100% training\n",
        "\n",
        "### Computational Requirements\n",
        "The computational requirements of the ablation study were higher for two reasons:\n",
        "\n",
        "* The addition of the spectrogram preprocessing.\n",
        "* A significantly larger model (11.2 million versus 4.5 million parameters).\n",
        "\n",
        "For this reason, the NVIDIA L4 GPU with 22.4 GB RAM was chosen for for both pre-training and fine-tuning.\n",
        "\n",
        "#### Pre-training\n",
        "Due to the increased computational requirements, the pre-training for the ablation took nearly twice as long as using the 1-D ResNet-18v2.\n",
        "\n",
        "* Average runtime per 1,000 patients: 2 hours, 36 minutes\n",
        "* Total number of trials: 1\n",
        "* GPU hours used: 4 hours, 51 minutes.\n",
        "    - Frame size 4096\n",
        "    - Training on 2048 patient data (about 20% of the _Icentia11k_ dataset)\n",
        "* Number of training epochs: 1\n",
        "\n",
        "#### Fine-tuning\n",
        "For fine-tuning, all of the data was pre-processed just once to reduce repeated computations during fine-tune training. The notebook to generate this data can be found [here](https://github.com/myles-i/DLH_TransferLearning/blob/master/jupyter_notebooks/finetuning_spectrogram_preprocess.ipynb).\n",
        "\n",
        "This reduced the extra computational burden of the ablation framework.\n",
        "\n",
        "* Average runtime for each epoch: 15 seconds\n",
        "* Total number of trials: 30\n",
        "    - 10 trials for each of the three scenarios: random, 10% and 20%.\n",
        "* GPU hours used: About 9 hours total.\n",
        "    - Random: 2.84 hours\n",
        "    - 10%: 3.1 hours\n",
        "    - 20%: 3.0 hours\n",
        "* Number of training epochs: Maximum 200 per trial, but in practice, saw early stopping by far fewer epochs\n",
        "    - Training for a single trial would typically complete within 20 minutes"
      ]
    },
    {
      "cell_type": "markdown",
      "metadata": {
        "id": "mcVgI-rOZ35d"
      },
      "source": [
        "### Training Code - Command Line Interface\n",
        "The spectrogram pre-processing and the 2-D ResNet-18v2 are integrated into the original authors' codebase in our fork of the repo. As such, the same commands that were presented earlier can be used, with small modifications.\n",
        "\n",
        "#### Pre-training\n",
        "The only modification is the `--arch` (architecture) argument, which should be set to `--arch \"resnet18_2d\"`.\n",
        "\n",
        "#### Fine-tuning\n",
        "For fine-tuning, the same `--arch` modification is needed. Otherwise, the only difference is pointing the trainer to the correct pre-processed spectrogram data files.\n",
        "\n",
        "As an example, the pre-training command is executed below using the same sample data as was used for the corresponding command in the 1-D ResNet-18v2 section:"
      ]
    },
    {
      "cell_type": "code",
      "execution_count": null,
      "metadata": {
        "id": "TilqXBeWPkOR"
      },
      "outputs": [],
      "source": [
        "PRETRAIN2D_JOB_DIR = \"/tmp/pretrain2d/\""
      ]
    },
    {
      "cell_type": "code",
      "execution_count": null,
      "metadata": {
        "colab": {
          "base_uri": "https://localhost:8080/"
        },
        "id": "tJxAVlQbbXDi",
        "outputId": "109a7962-c6b2-4840-c4e9-468f80abaf57"
      },
      "outputs": [
        {
          "name": "stdout",
          "output_type": "stream",
          "text": [
            "2024-05-04 06:23:59.678719: E external/local_xla/xla/stream_executor/cuda/cuda_dnn.cc:9261] Unable to register cuDNN factory: Attempting to register factory for plugin cuDNN when one has already been registered\n",
            "2024-05-04 06:23:59.678768: E external/local_xla/xla/stream_executor/cuda/cuda_fft.cc:607] Unable to register cuFFT factory: Attempting to register factory for plugin cuFFT when one has already been registered\n",
            "2024-05-04 06:23:59.680064: E external/local_xla/xla/stream_executor/cuda/cuda_blas.cc:1515] Unable to register cuBLAS factory: Attempting to register factory for plugin cuBLAS when one has already been registered\n",
            "2024-05-04 06:24:00.699097: W tensorflow/compiler/tf2tensorrt/utils/py_utils.cc:38] TF-TRT Warning: Could not find TensorRT\n",
            "Creating working directory in /tmp/pretrain2d\n",
            "Setting random state 2024\n",
            "Building train data generators\n",
            "# Patient IDs:  1\n",
            "WARNING:tensorflow:From /tmp/repo/transplant/datasets/icentia11k_spectrogram.py:71: calling DatasetV2.from_generator (from tensorflow.python.data.ops.dataset_ops) with output_types is deprecated and will be removed in a future version.\n",
            "Instructions for updating:\n",
            "Use output_signature instead\n",
            "WARNING:tensorflow:From /tmp/repo/transplant/datasets/icentia11k_spectrogram.py:71: calling DatasetV2.from_generator (from tensorflow.python.data.ops.dataset_ops) with output_shapes is deprecated and will be removed in a future version.\n",
            "Instructions for updating:\n",
            "Use output_signature instead\n",
            "2024-05-04 06:24:02.305737: W tensorflow/core/common_runtime/gpu/gpu_bfc_allocator.cc:47] Overriding orig_value setting because the TF_FORCE_GPU_ALLOW_GROWTH environment variable is set. Original config value was 0.\n",
            "Building model ...\n",
            "WARNING:tensorflow:AutoGraph could not transform <bound method ResnetBlock.call of <transplant.modules.resnet2d.ResnetBlock object at 0x7e235e4e0e20>> and will run it as-is.\n",
            "Cause: mangled names are not yet supported\n",
            "To silence this warning, decorate the function with @tf.autograph.experimental.do_not_convert\n",
            "# model parameters: 11,187,205\n",
            "Epoch 1/2\n",
            "WARNING: All log messages before absl::InitializeLog() is called are written to STDERR\n",
            "I0000 00:00:1714803858.485695   17022 device_compiler.h:186] Compiled cluster using XLA!  This line is logged at most once for the lifetime of the process.\n",
            "\n",
            "Epoch 1: saving model to /tmp/pretrain2d/epoch_01/model.weights\n",
            "8/8 - 26s - loss: 0.6304 - acc: 0.8213 - 26s/epoch - 3s/step\n",
            "Epoch 2/2\n",
            "\n",
            "Epoch 2: saving model to /tmp/pretrain2d/epoch_02/model.weights\n",
            "8/8 - 3s - loss: 0.1529 - acc: 0.9717 - 3s/epoch - 328ms/step\n",
            "\u001b[0mException ignored in: <function AtomicFunction.__del__ at 0x7e238a7af880>\n",
            "Traceback (most recent call last):\n",
            "  File \"/usr/local/lib/python3.10/dist-packages/tensorflow/python/eager/polymorphic_function/atomic_function.py\", line 291, in __del__\n",
            "TypeError: 'NoneType' object is not subscriptable\n",
            "CPU times: user 240 ms, sys: 30.1 ms, total: 271 ms\n",
            "Wall time: 35.2 s\n"
          ]
        }
      ],
      "source": [
        "%%time\n",
        "!python -m pretraining.trainer \\\n",
        "--job-dir {PRETRAIN2D_JOB_DIR} \\\n",
        "--task \"beat\" \\\n",
        "--train {DEMO_DATA_DIR} \\\n",
        "--arch \"resnet18_2d\" \\\n",
        "--epochs 2 \\\n",
        "--patient-ids 0 \\\n",
        "--steps-per-epoch 8 \\\n",
        "--samples-per-patient 4096 \\\n",
        "--batch-size 256 \\\n",
        "--frame-size 1024 \\\n",
        "--unzipped True \\\n",
        "--seed 2024"
      ]
    },
    {
      "cell_type": "markdown",
      "metadata": {
        "id": "78HXiHn44rm0"
      },
      "source": [
        "## Ablation Results"
      ]
    },
    {
      "cell_type": "markdown",
      "metadata": {
        "id": "CzBs708q7u5w"
      },
      "source": [
        "The procedure for generating the 2-D results is exactly the same as that for the 1-D results, just only with a different network structure. Thus the code used to generate the 1-D figures and tables above can be reused here."
      ]
    },
    {
      "cell_type": "code",
      "execution_count": null,
      "metadata": {
        "id": "aGLCDzhAPsvR"
      },
      "outputs": [],
      "source": [
        "RESULT2D_DIR = \"/tmp/results2d/\""
      ]
    },
    {
      "cell_type": "code",
      "execution_count": null,
      "metadata": {
        "colab": {
          "base_uri": "https://localhost:8080/"
        },
        "id": "ajWpqlVm5VXn",
        "outputId": "2ab27e25-cae0-47a2-b1c8-109b551141bd"
      },
      "outputs": [
        {
          "name": "stdout",
          "output_type": "stream",
          "text": [
            "CPU times: user 65.7 ms, sys: 14.8 ms, total: 80.5 ms\n",
            "Wall time: 11.4 s\n"
          ]
        }
      ],
      "source": [
        "%%time\n",
        "%%capture\n",
        "!mkdir -p {RESULT2D_DIR}\n",
        "# TODO update the hash to point to the results2d_all folder\n",
        "!gdown 1-3cjLjMC2GR_aL6U-U6okufYu3XgPSiA -O {RESULT2D_DIR} --folder"
      ]
    },
    {
      "cell_type": "markdown",
      "metadata": {
        "id": "4_hCOJYNPsvS"
      },
      "source": [
        "### Figures and Tables\n",
        "\n",
        "Similar to the above \"Results\" section, we implement the analysis code in a separate file and import the analysis functions into this notebook. The code can be found on Github [here](https://github.com/myles-i/DLH_TransferLearning/blob/master/report/analysis2d.py).\n",
        "\n",
        "The code is in the `analysis2d` module, which we import below."
      ]
    },
    {
      "cell_type": "code",
      "execution_count": null,
      "metadata": {},
      "outputs": [],
      "source": [
        "from report import analysis2d"
      ]
    },
    {
      "cell_type": "markdown",
      "metadata": {
        "id": "RvvB9KbO98Bw"
      },
      "source": [
        "#### Table 3: Epoch Comparison"
      ]
    },
    {
      "cell_type": "code",
      "execution_count": null,
      "metadata": {
        "colab": {
          "base_uri": "https://localhost:8080/",
          "height": 143
        },
        "id": "eiNr-HrP6yX4",
        "outputId": "cc01e4c1-25db-4fa3-8239-659f7895c0aa"
      },
      "outputs": [
        {
          "data": {
            "application/vnd.google.colaboratory.intrinsic+json": {
              "summary": "{\n  \"name\": \"make_epoch_table(history_all)\",\n  \"rows\": 3,\n  \"fields\": [\n    {\n      \"column\": \"Type\",\n      \"properties\": {\n        \"dtype\": \"string\",\n        \"num_unique_values\": 3,\n        \"samples\": [\n          \"Random\",\n          \"Pre-train 10\",\n          \"Pre-train 20\"\n        ],\n        \"semantic_type\": \"\",\n        \"description\": \"\"\n      }\n    },\n    {\n      \"column\": \"Mean\",\n      \"properties\": {\n        \"dtype\": \"number\",\n        \"std\": 2.651414716712569,\n        \"min\": 59.2,\n        \"max\": 64.5,\n        \"num_unique_values\": 3,\n        \"samples\": [\n          59.2,\n          64.5,\n          62.0\n        ],\n        \"semantic_type\": \"\",\n        \"description\": \"\"\n      }\n    },\n    {\n      \"column\": \"Std\",\n      \"properties\": {\n        \"dtype\": \"number\",\n        \"std\": 0.5686240703077328,\n        \"min\": 3.6,\n        \"max\": 4.7,\n        \"num_unique_values\": 3,\n        \"samples\": [\n          3.9,\n          4.7,\n          3.6\n        ],\n        \"semantic_type\": \"\",\n        \"description\": \"\"\n      }\n    }\n  ]\n}",
              "type": "dataframe"
            },
            "text/html": [
              "\n",
              "  <div id=\"df-51508569-6d1e-4e78-947b-c896a611f5b8\" class=\"colab-df-container\">\n",
              "    <div>\n",
              "<style scoped>\n",
              "    .dataframe tbody tr th:only-of-type {\n",
              "        vertical-align: middle;\n",
              "    }\n",
              "\n",
              "    .dataframe tbody tr th {\n",
              "        vertical-align: top;\n",
              "    }\n",
              "\n",
              "    .dataframe thead th {\n",
              "        text-align: right;\n",
              "    }\n",
              "</style>\n",
              "<table border=\"1\" class=\"dataframe\">\n",
              "  <thead>\n",
              "    <tr style=\"text-align: right;\">\n",
              "      <th></th>\n",
              "      <th>Type</th>\n",
              "      <th>Mean</th>\n",
              "      <th>Std</th>\n",
              "    </tr>\n",
              "  </thead>\n",
              "  <tbody>\n",
              "    <tr>\n",
              "      <th>0</th>\n",
              "      <td>Random</td>\n",
              "      <td>59.2</td>\n",
              "      <td>3.9</td>\n",
              "    </tr>\n",
              "    <tr>\n",
              "      <th>1</th>\n",
              "      <td>Pre-train 10</td>\n",
              "      <td>64.5</td>\n",
              "      <td>4.7</td>\n",
              "    </tr>\n",
              "    <tr>\n",
              "      <th>2</th>\n",
              "      <td>Pre-train 20</td>\n",
              "      <td>62.0</td>\n",
              "      <td>3.6</td>\n",
              "    </tr>\n",
              "  </tbody>\n",
              "</table>\n",
              "</div>\n",
              "    <div class=\"colab-df-buttons\">\n",
              "\n",
              "  <div class=\"colab-df-container\">\n",
              "    <button class=\"colab-df-convert\" onclick=\"convertToInteractive('df-51508569-6d1e-4e78-947b-c896a611f5b8')\"\n",
              "            title=\"Convert this dataframe to an interactive table.\"\n",
              "            style=\"display:none;\">\n",
              "\n",
              "  <svg xmlns=\"http://www.w3.org/2000/svg\" height=\"24px\" viewBox=\"0 -960 960 960\">\n",
              "    <path d=\"M120-120v-720h720v720H120Zm60-500h600v-160H180v160Zm220 220h160v-160H400v160Zm0 220h160v-160H400v160ZM180-400h160v-160H180v160Zm440 0h160v-160H620v160ZM180-180h160v-160H180v160Zm440 0h160v-160H620v160Z\"/>\n",
              "  </svg>\n",
              "    </button>\n",
              "\n",
              "  <style>\n",
              "    .colab-df-container {\n",
              "      display:flex;\n",
              "      gap: 12px;\n",
              "    }\n",
              "\n",
              "    .colab-df-convert {\n",
              "      background-color: #E8F0FE;\n",
              "      border: none;\n",
              "      border-radius: 50%;\n",
              "      cursor: pointer;\n",
              "      display: none;\n",
              "      fill: #1967D2;\n",
              "      height: 32px;\n",
              "      padding: 0 0 0 0;\n",
              "      width: 32px;\n",
              "    }\n",
              "\n",
              "    .colab-df-convert:hover {\n",
              "      background-color: #E2EBFA;\n",
              "      box-shadow: 0px 1px 2px rgba(60, 64, 67, 0.3), 0px 1px 3px 1px rgba(60, 64, 67, 0.15);\n",
              "      fill: #174EA6;\n",
              "    }\n",
              "\n",
              "    .colab-df-buttons div {\n",
              "      margin-bottom: 4px;\n",
              "    }\n",
              "\n",
              "    [theme=dark] .colab-df-convert {\n",
              "      background-color: #3B4455;\n",
              "      fill: #D2E3FC;\n",
              "    }\n",
              "\n",
              "    [theme=dark] .colab-df-convert:hover {\n",
              "      background-color: #434B5C;\n",
              "      box-shadow: 0px 1px 3px 1px rgba(0, 0, 0, 0.15);\n",
              "      filter: drop-shadow(0px 1px 2px rgba(0, 0, 0, 0.3));\n",
              "      fill: #FFFFFF;\n",
              "    }\n",
              "  </style>\n",
              "\n",
              "    <script>\n",
              "      const buttonEl =\n",
              "        document.querySelector('#df-51508569-6d1e-4e78-947b-c896a611f5b8 button.colab-df-convert');\n",
              "      buttonEl.style.display =\n",
              "        google.colab.kernel.accessAllowed ? 'block' : 'none';\n",
              "\n",
              "      async function convertToInteractive(key) {\n",
              "        const element = document.querySelector('#df-51508569-6d1e-4e78-947b-c896a611f5b8');\n",
              "        const dataTable =\n",
              "          await google.colab.kernel.invokeFunction('convertToInteractive',\n",
              "                                                    [key], {});\n",
              "        if (!dataTable) return;\n",
              "\n",
              "        const docLinkHtml = 'Like what you see? Visit the ' +\n",
              "          '<a target=\"_blank\" href=https://colab.research.google.com/notebooks/data_table.ipynb>data table notebook</a>'\n",
              "          + ' to learn more about interactive tables.';\n",
              "        element.innerHTML = '';\n",
              "        dataTable['output_type'] = 'display_data';\n",
              "        await google.colab.output.renderOutput(dataTable, element);\n",
              "        const docLink = document.createElement('div');\n",
              "        docLink.innerHTML = docLinkHtml;\n",
              "        element.appendChild(docLink);\n",
              "      }\n",
              "    </script>\n",
              "  </div>\n",
              "\n",
              "\n",
              "<div id=\"df-c3ebd447-d4be-4b53-bb49-814b9b955c5c\">\n",
              "  <button class=\"colab-df-quickchart\" onclick=\"quickchart('df-c3ebd447-d4be-4b53-bb49-814b9b955c5c')\"\n",
              "            title=\"Suggest charts\"\n",
              "            style=\"display:none;\">\n",
              "\n",
              "<svg xmlns=\"http://www.w3.org/2000/svg\" height=\"24px\"viewBox=\"0 0 24 24\"\n",
              "     width=\"24px\">\n",
              "    <g>\n",
              "        <path d=\"M19 3H5c-1.1 0-2 .9-2 2v14c0 1.1.9 2 2 2h14c1.1 0 2-.9 2-2V5c0-1.1-.9-2-2-2zM9 17H7v-7h2v7zm4 0h-2V7h2v10zm4 0h-2v-4h2v4z\"/>\n",
              "    </g>\n",
              "</svg>\n",
              "  </button>\n",
              "\n",
              "<style>\n",
              "  .colab-df-quickchart {\n",
              "      --bg-color: #E8F0FE;\n",
              "      --fill-color: #1967D2;\n",
              "      --hover-bg-color: #E2EBFA;\n",
              "      --hover-fill-color: #174EA6;\n",
              "      --disabled-fill-color: #AAA;\n",
              "      --disabled-bg-color: #DDD;\n",
              "  }\n",
              "\n",
              "  [theme=dark] .colab-df-quickchart {\n",
              "      --bg-color: #3B4455;\n",
              "      --fill-color: #D2E3FC;\n",
              "      --hover-bg-color: #434B5C;\n",
              "      --hover-fill-color: #FFFFFF;\n",
              "      --disabled-bg-color: #3B4455;\n",
              "      --disabled-fill-color: #666;\n",
              "  }\n",
              "\n",
              "  .colab-df-quickchart {\n",
              "    background-color: var(--bg-color);\n",
              "    border: none;\n",
              "    border-radius: 50%;\n",
              "    cursor: pointer;\n",
              "    display: none;\n",
              "    fill: var(--fill-color);\n",
              "    height: 32px;\n",
              "    padding: 0;\n",
              "    width: 32px;\n",
              "  }\n",
              "\n",
              "  .colab-df-quickchart:hover {\n",
              "    background-color: var(--hover-bg-color);\n",
              "    box-shadow: 0 1px 2px rgba(60, 64, 67, 0.3), 0 1px 3px 1px rgba(60, 64, 67, 0.15);\n",
              "    fill: var(--button-hover-fill-color);\n",
              "  }\n",
              "\n",
              "  .colab-df-quickchart-complete:disabled,\n",
              "  .colab-df-quickchart-complete:disabled:hover {\n",
              "    background-color: var(--disabled-bg-color);\n",
              "    fill: var(--disabled-fill-color);\n",
              "    box-shadow: none;\n",
              "  }\n",
              "\n",
              "  .colab-df-spinner {\n",
              "    border: 2px solid var(--fill-color);\n",
              "    border-color: transparent;\n",
              "    border-bottom-color: var(--fill-color);\n",
              "    animation:\n",
              "      spin 1s steps(1) infinite;\n",
              "  }\n",
              "\n",
              "  @keyframes spin {\n",
              "    0% {\n",
              "      border-color: transparent;\n",
              "      border-bottom-color: var(--fill-color);\n",
              "      border-left-color: var(--fill-color);\n",
              "    }\n",
              "    20% {\n",
              "      border-color: transparent;\n",
              "      border-left-color: var(--fill-color);\n",
              "      border-top-color: var(--fill-color);\n",
              "    }\n",
              "    30% {\n",
              "      border-color: transparent;\n",
              "      border-left-color: var(--fill-color);\n",
              "      border-top-color: var(--fill-color);\n",
              "      border-right-color: var(--fill-color);\n",
              "    }\n",
              "    40% {\n",
              "      border-color: transparent;\n",
              "      border-right-color: var(--fill-color);\n",
              "      border-top-color: var(--fill-color);\n",
              "    }\n",
              "    60% {\n",
              "      border-color: transparent;\n",
              "      border-right-color: var(--fill-color);\n",
              "    }\n",
              "    80% {\n",
              "      border-color: transparent;\n",
              "      border-right-color: var(--fill-color);\n",
              "      border-bottom-color: var(--fill-color);\n",
              "    }\n",
              "    90% {\n",
              "      border-color: transparent;\n",
              "      border-bottom-color: var(--fill-color);\n",
              "    }\n",
              "  }\n",
              "</style>\n",
              "\n",
              "  <script>\n",
              "    async function quickchart(key) {\n",
              "      const quickchartButtonEl =\n",
              "        document.querySelector('#' + key + ' button');\n",
              "      quickchartButtonEl.disabled = true;  // To prevent multiple clicks.\n",
              "      quickchartButtonEl.classList.add('colab-df-spinner');\n",
              "      try {\n",
              "        const charts = await google.colab.kernel.invokeFunction(\n",
              "            'suggestCharts', [key], {});\n",
              "      } catch (error) {\n",
              "        console.error('Error during call to suggestCharts:', error);\n",
              "      }\n",
              "      quickchartButtonEl.classList.remove('colab-df-spinner');\n",
              "      quickchartButtonEl.classList.add('colab-df-quickchart-complete');\n",
              "    }\n",
              "    (() => {\n",
              "      let quickchartButtonEl =\n",
              "        document.querySelector('#df-c3ebd447-d4be-4b53-bb49-814b9b955c5c button');\n",
              "      quickchartButtonEl.style.display =\n",
              "        google.colab.kernel.accessAllowed ? 'block' : 'none';\n",
              "    })();\n",
              "  </script>\n",
              "</div>\n",
              "\n",
              "    </div>\n",
              "  </div>\n"
            ],
            "text/plain": [
              "           Type  Mean  Std\n",
              "0        Random  59.2  3.9\n",
              "1  Pre-train 10  64.5  4.7\n",
              "2  Pre-train 20  62.0  3.6"
            ]
          },
          "execution_count": 46,
          "metadata": {},
          "output_type": "execute_result"
        }
      ],
      "source": [
        "history_all_2d = pd.read_csv(RESULT2D_DIR + \"/experimental_nodb/history_all.csv\")\n",
        "analysis2d.make_epoch_table(history_all_2d)"
      ]
    },
    {
      "cell_type": "markdown",
      "metadata": {
        "id": "Hfg0KwfQ-L7s"
      },
      "source": [
        "#### Figure 3: Average Validation Macro F1 Comparison"
      ]
    },
    {
      "cell_type": "code",
      "execution_count": null,
      "metadata": {
        "colab": {
          "base_uri": "https://localhost:8080/",
          "height": 472
        },
        "id": "0pF-jpzu7U9A",
        "outputId": "aa9f7d3a-1728-4cd0-a7ab-45f4f7fc09fa"
      },
      "outputs": [
        {
          "data": {
            "image/png": "[encoded data removed]",
            "text/plain": [
              "<Figure size 640x480 with 1 Axes>"
            ]
          },
          "metadata": {},
          "output_type": "display_data"
        }
      ],
      "source": [
        "analysis2d.plot_f1_by_epoch_with_range(history_all_2d)"
      ]
    },
    {
      "cell_type": "markdown",
      "metadata": {
        "id": "mmKZT6i8-Y_G"
      },
      "source": [
        "#### Table 4: Average Test Macro F1 Comparison"
      ]
    },
    {
      "cell_type": "code",
      "execution_count": null,
      "metadata": {
        "colab": {
          "base_uri": "https://localhost:8080/",
          "height": 143
        },
        "id": "bsyhv8577bE6",
        "outputId": "efebaa36-7468-4d57-de99-1e5fcacaa65c"
      },
      "outputs": [
        {
          "data": {
            "application/vnd.google.colaboratory.intrinsic+json": {
              "summary": "{\n  \"name\": \"make_f1_table(predictions_all)\",\n  \"rows\": 3,\n  \"fields\": [\n    {\n      \"column\": \"Type\",\n      \"properties\": {\n        \"dtype\": \"string\",\n        \"num_unique_values\": 3,\n        \"samples\": [\n          \"Random\",\n          \"Pre-train 10\",\n          \"Pre-train 20\"\n        ],\n        \"semantic_type\": \"\",\n        \"description\": \"\"\n      }\n    },\n    {\n      \"column\": \"F1\",\n      \"properties\": {\n        \"dtype\": \"string\",\n        \"num_unique_values\": 3,\n        \"samples\": [\n          \".721 (\\u00b1 .010)\",\n          \".729 (\\u00b1 .021)\",\n          \".727 (\\u00b1 .018)\"\n        ],\n        \"semantic_type\": \"\",\n        \"description\": \"\"\n      }\n    },\n    {\n      \"column\": \"F1n\",\n      \"properties\": {\n        \"dtype\": \"string\",\n        \"num_unique_values\": 3,\n        \"samples\": [\n          \".887 (\\u00b1 .012)\",\n          \".890 (\\u00b1 .010)\",\n          \".889 (\\u00b1 .006)\"\n        ],\n        \"semantic_type\": \"\",\n        \"description\": \"\"\n      }\n    },\n    {\n      \"column\": \"F1a\",\n      \"properties\": {\n        \"dtype\": \"string\",\n        \"num_unique_values\": 3,\n        \"samples\": [\n          \".698 (\\u00b1 .025)\",\n          \".692 (\\u00b1 .039)\",\n          \".705 (\\u00b1 .024)\"\n        ],\n        \"semantic_type\": \"\",\n        \"description\": \"\"\n      }\n    },\n    {\n      \"column\": \"F1o\",\n      \"properties\": {\n        \"dtype\": \"string\",\n        \"num_unique_values\": 3,\n        \"samples\": [\n          \".706 (\\u00b1 .014)\",\n          \".700 (\\u00b1 .021)\",\n          \".693 (\\u00b1 .025)\"\n        ],\n        \"semantic_type\": \"\",\n        \"description\": \"\"\n      }\n    },\n    {\n      \"column\": \"F1p\",\n      \"properties\": {\n        \"dtype\": \"string\",\n        \"num_unique_values\": 3,\n        \"samples\": [\n          \".594 (\\u00b1 .042)\",\n          \".635 (\\u00b1 .056)\",\n          \".621 (\\u00b1 .055)\"\n        ],\n        \"semantic_type\": \"\",\n        \"description\": \"\"\n      }\n    }\n  ]\n}",
              "type": "dataframe"
            },
            "text/html": [
              "\n",
              "  <div id=\"df-aabe114e-a360-4eff-865a-966e604b53da\" class=\"colab-df-container\">\n",
              "    <div>\n",
              "<style scoped>\n",
              "    .dataframe tbody tr th:only-of-type {\n",
              "        vertical-align: middle;\n",
              "    }\n",
              "\n",
              "    .dataframe tbody tr th {\n",
              "        vertical-align: top;\n",
              "    }\n",
              "\n",
              "    .dataframe thead th {\n",
              "        text-align: right;\n",
              "    }\n",
              "</style>\n",
              "<table border=\"1\" class=\"dataframe\">\n",
              "  <thead>\n",
              "    <tr style=\"text-align: right;\">\n",
              "      <th></th>\n",
              "      <th>Type</th>\n",
              "      <th>F1</th>\n",
              "      <th>F1n</th>\n",
              "      <th>F1a</th>\n",
              "      <th>F1o</th>\n",
              "      <th>F1p</th>\n",
              "    </tr>\n",
              "  </thead>\n",
              "  <tbody>\n",
              "    <tr>\n",
              "      <th>0</th>\n",
              "      <td>Random</td>\n",
              "      <td>.721 (± .010)</td>\n",
              "      <td>.887 (± .012)</td>\n",
              "      <td>.698 (± .025)</td>\n",
              "      <td>.706 (± .014)</td>\n",
              "      <td>.594 (± .042)</td>\n",
              "    </tr>\n",
              "    <tr>\n",
              "      <th>1</th>\n",
              "      <td>Pre-train 10</td>\n",
              "      <td>.729 (± .021)</td>\n",
              "      <td>.890 (± .010)</td>\n",
              "      <td>.692 (± .039)</td>\n",
              "      <td>.700 (± .021)</td>\n",
              "      <td>.635 (± .056)</td>\n",
              "    </tr>\n",
              "    <tr>\n",
              "      <th>2</th>\n",
              "      <td>Pre-train 20</td>\n",
              "      <td>.727 (± .018)</td>\n",
              "      <td>.889 (± .006)</td>\n",
              "      <td>.705 (± .024)</td>\n",
              "      <td>.693 (± .025)</td>\n",
              "      <td>.621 (± .055)</td>\n",
              "    </tr>\n",
              "  </tbody>\n",
              "</table>\n",
              "</div>\n",
              "    <div class=\"colab-df-buttons\">\n",
              "\n",
              "  <div class=\"colab-df-container\">\n",
              "    <button class=\"colab-df-convert\" onclick=\"convertToInteractive('df-aabe114e-a360-4eff-865a-966e604b53da')\"\n",
              "            title=\"Convert this dataframe to an interactive table.\"\n",
              "            style=\"display:none;\">\n",
              "\n",
              "  <svg xmlns=\"http://www.w3.org/2000/svg\" height=\"24px\" viewBox=\"0 -960 960 960\">\n",
              "    <path d=\"M120-120v-720h720v720H120Zm60-500h600v-160H180v160Zm220 220h160v-160H400v160Zm0 220h160v-160H400v160ZM180-400h160v-160H180v160Zm440 0h160v-160H620v160ZM180-180h160v-160H180v160Zm440 0h160v-160H620v160Z\"/>\n",
              "  </svg>\n",
              "    </button>\n",
              "\n",
              "  <style>\n",
              "    .colab-df-container {\n",
              "      display:flex;\n",
              "      gap: 12px;\n",
              "    }\n",
              "\n",
              "    .colab-df-convert {\n",
              "      background-color: #E8F0FE;\n",
              "      border: none;\n",
              "      border-radius: 50%;\n",
              "      cursor: pointer;\n",
              "      display: none;\n",
              "      fill: #1967D2;\n",
              "      height: 32px;\n",
              "      padding: 0 0 0 0;\n",
              "      width: 32px;\n",
              "    }\n",
              "\n",
              "    .colab-df-convert:hover {\n",
              "      background-color: #E2EBFA;\n",
              "      box-shadow: 0px 1px 2px rgba(60, 64, 67, 0.3), 0px 1px 3px 1px rgba(60, 64, 67, 0.15);\n",
              "      fill: #174EA6;\n",
              "    }\n",
              "\n",
              "    .colab-df-buttons div {\n",
              "      margin-bottom: 4px;\n",
              "    }\n",
              "\n",
              "    [theme=dark] .colab-df-convert {\n",
              "      background-color: #3B4455;\n",
              "      fill: #D2E3FC;\n",
              "    }\n",
              "\n",
              "    [theme=dark] .colab-df-convert:hover {\n",
              "      background-color: #434B5C;\n",
              "      box-shadow: 0px 1px 3px 1px rgba(0, 0, 0, 0.15);\n",
              "      filter: drop-shadow(0px 1px 2px rgba(0, 0, 0, 0.3));\n",
              "      fill: #FFFFFF;\n",
              "    }\n",
              "  </style>\n",
              "\n",
              "    <script>\n",
              "      const buttonEl =\n",
              "        document.querySelector('#df-aabe114e-a360-4eff-865a-966e604b53da button.colab-df-convert');\n",
              "      buttonEl.style.display =\n",
              "        google.colab.kernel.accessAllowed ? 'block' : 'none';\n",
              "\n",
              "      async function convertToInteractive(key) {\n",
              "        const element = document.querySelector('#df-aabe114e-a360-4eff-865a-966e604b53da');\n",
              "        const dataTable =\n",
              "          await google.colab.kernel.invokeFunction('convertToInteractive',\n",
              "                                                    [key], {});\n",
              "        if (!dataTable) return;\n",
              "\n",
              "        const docLinkHtml = 'Like what you see? Visit the ' +\n",
              "          '<a target=\"_blank\" href=https://colab.research.google.com/notebooks/data_table.ipynb>data table notebook</a>'\n",
              "          + ' to learn more about interactive tables.';\n",
              "        element.innerHTML = '';\n",
              "        dataTable['output_type'] = 'display_data';\n",
              "        await google.colab.output.renderOutput(dataTable, element);\n",
              "        const docLink = document.createElement('div');\n",
              "        docLink.innerHTML = docLinkHtml;\n",
              "        element.appendChild(docLink);\n",
              "      }\n",
              "    </script>\n",
              "  </div>\n",
              "\n",
              "\n",
              "<div id=\"df-88b743ef-98f8-46a2-ae89-9ea1cfe1f0e3\">\n",
              "  <button class=\"colab-df-quickchart\" onclick=\"quickchart('df-88b743ef-98f8-46a2-ae89-9ea1cfe1f0e3')\"\n",
              "            title=\"Suggest charts\"\n",
              "            style=\"display:none;\">\n",
              "\n",
              "<svg xmlns=\"http://www.w3.org/2000/svg\" height=\"24px\"viewBox=\"0 0 24 24\"\n",
              "     width=\"24px\">\n",
              "    <g>\n",
              "        <path d=\"M19 3H5c-1.1 0-2 .9-2 2v14c0 1.1.9 2 2 2h14c1.1 0 2-.9 2-2V5c0-1.1-.9-2-2-2zM9 17H7v-7h2v7zm4 0h-2V7h2v10zm4 0h-2v-4h2v4z\"/>\n",
              "    </g>\n",
              "</svg>\n",
              "  </button>\n",
              "\n",
              "<style>\n",
              "  .colab-df-quickchart {\n",
              "      --bg-color: #E8F0FE;\n",
              "      --fill-color: #1967D2;\n",
              "      --hover-bg-color: #E2EBFA;\n",
              "      --hover-fill-color: #174EA6;\n",
              "      --disabled-fill-color: #AAA;\n",
              "      --disabled-bg-color: #DDD;\n",
              "  }\n",
              "\n",
              "  [theme=dark] .colab-df-quickchart {\n",
              "      --bg-color: #3B4455;\n",
              "      --fill-color: #D2E3FC;\n",
              "      --hover-bg-color: #434B5C;\n",
              "      --hover-fill-color: #FFFFFF;\n",
              "      --disabled-bg-color: #3B4455;\n",
              "      --disabled-fill-color: #666;\n",
              "  }\n",
              "\n",
              "  .colab-df-quickchart {\n",
              "    background-color: var(--bg-color);\n",
              "    border: none;\n",
              "    border-radius: 50%;\n",
              "    cursor: pointer;\n",
              "    display: none;\n",
              "    fill: var(--fill-color);\n",
              "    height: 32px;\n",
              "    padding: 0;\n",
              "    width: 32px;\n",
              "  }\n",
              "\n",
              "  .colab-df-quickchart:hover {\n",
              "    background-color: var(--hover-bg-color);\n",
              "    box-shadow: 0 1px 2px rgba(60, 64, 67, 0.3), 0 1px 3px 1px rgba(60, 64, 67, 0.15);\n",
              "    fill: var(--button-hover-fill-color);\n",
              "  }\n",
              "\n",
              "  .colab-df-quickchart-complete:disabled,\n",
              "  .colab-df-quickchart-complete:disabled:hover {\n",
              "    background-color: var(--disabled-bg-color);\n",
              "    fill: var(--disabled-fill-color);\n",
              "    box-shadow: none;\n",
              "  }\n",
              "\n",
              "  .colab-df-spinner {\n",
              "    border: 2px solid var(--fill-color);\n",
              "    border-color: transparent;\n",
              "    border-bottom-color: var(--fill-color);\n",
              "    animation:\n",
              "      spin 1s steps(1) infinite;\n",
              "  }\n",
              "\n",
              "  @keyframes spin {\n",
              "    0% {\n",
              "      border-color: transparent;\n",
              "      border-bottom-color: var(--fill-color);\n",
              "      border-left-color: var(--fill-color);\n",
              "    }\n",
              "    20% {\n",
              "      border-color: transparent;\n",
              "      border-left-color: var(--fill-color);\n",
              "      border-top-color: var(--fill-color);\n",
              "    }\n",
              "    30% {\n",
              "      border-color: transparent;\n",
              "      border-left-color: var(--fill-color);\n",
              "      border-top-color: var(--fill-color);\n",
              "      border-right-color: var(--fill-color);\n",
              "    }\n",
              "    40% {\n",
              "      border-color: transparent;\n",
              "      border-right-color: var(--fill-color);\n",
              "      border-top-color: var(--fill-color);\n",
              "    }\n",
              "    60% {\n",
              "      border-color: transparent;\n",
              "      border-right-color: var(--fill-color);\n",
              "    }\n",
              "    80% {\n",
              "      border-color: transparent;\n",
              "      border-right-color: var(--fill-color);\n",
              "      border-bottom-color: var(--fill-color);\n",
              "    }\n",
              "    90% {\n",
              "      border-color: transparent;\n",
              "      border-bottom-color: var(--fill-color);\n",
              "    }\n",
              "  }\n",
              "</style>\n",
              "\n",
              "  <script>\n",
              "    async function quickchart(key) {\n",
              "      const quickchartButtonEl =\n",
              "        document.querySelector('#' + key + ' button');\n",
              "      quickchartButtonEl.disabled = true;  // To prevent multiple clicks.\n",
              "      quickchartButtonEl.classList.add('colab-df-spinner');\n",
              "      try {\n",
              "        const charts = await google.colab.kernel.invokeFunction(\n",
              "            'suggestCharts', [key], {});\n",
              "      } catch (error) {\n",
              "        console.error('Error during call to suggestCharts:', error);\n",
              "      }\n",
              "      quickchartButtonEl.classList.remove('colab-df-spinner');\n",
              "      quickchartButtonEl.classList.add('colab-df-quickchart-complete');\n",
              "    }\n",
              "    (() => {\n",
              "      let quickchartButtonEl =\n",
              "        document.querySelector('#df-88b743ef-98f8-46a2-ae89-9ea1cfe1f0e3 button');\n",
              "      quickchartButtonEl.style.display =\n",
              "        google.colab.kernel.accessAllowed ? 'block' : 'none';\n",
              "    })();\n",
              "  </script>\n",
              "</div>\n",
              "\n",
              "    </div>\n",
              "  </div>\n"
            ],
            "text/plain": [
              "           Type             F1            F1n            F1a            F1o  \\\n",
              "0        Random  .721 (± .010)  .887 (± .012)  .698 (± .025)  .706 (± .014)   \n",
              "1  Pre-train 10  .729 (± .021)  .890 (± .010)  .692 (± .039)  .700 (± .021)   \n",
              "2  Pre-train 20  .727 (± .018)  .889 (± .006)  .705 (± .024)  .693 (± .025)   \n",
              "\n",
              "             F1p  \n",
              "0  .594 (± .042)  \n",
              "1  .635 (± .056)  \n",
              "2  .621 (± .055)  "
            ]
          },
          "execution_count": 48,
          "metadata": {},
          "output_type": "execute_result"
        }
      ],
      "source": [
        "from transplant.utils import load_pkl\n",
        "\n",
        "predictions_all_2d = load_pkl(\n",
        "    RESULT2D_DIR + \"/experimental_nodb/predictions_all.pkl\"\n",
        ")\n",
        "make_f1_table(predictions_all_2d)"
      ]
    },
    {
      "cell_type": "markdown",
      "metadata": {
        "id": "NNCwo9FT_Lns"
      },
      "source": [
        "### Analysis\n",
        "As shown above, pre-training with 10% or 20% of the _Icentia11k_ dataset doesn't provide significant gain over random initialization in all three comparisons. The following are some factors that can potentially cause this result:\n",
        "\n",
        "* Converting ECG signal (time domain) to spectrogram (time and frequency domain) effectively adds another dimension to the training data. The curse of dimensionality suggests issues that arise when the number of data points is small relative to the intrinsic dimension of the data. Therefore, more pre-training and fine-tuning data may be required to see the performance gain of pre-trained models.\n",
        "* The 2-D ResNet-18v2 is also twice as large as the 1-D ResNet-18v2 used (11 million parameters vs 4.5 million parameters), which could also contribute to overfitting.\n",
        "* It is noticeable that many higher frequency bins in the pre-training spectrogram contain low energy. This could be consistent across the board and introduce useless or noisy information.\n",
        "* Downsampling the fine-tuning dataset from 360 Hz to 250 Hz to match the pre-training data may introduce aliasing that might affect the performance of the spectrogram model. These results are not present in the pre-training model and might affect the ability to transfer learned features.\n",
        "* There were many spectrogram hyperparameters that were not adequately explored due to the limits of project time. It is possible that significantly better performance could be achieved with a higher or lower resolution spectrogram. The hyperparameters not explored were:\n",
        "    * Stride\n",
        "    * Window size\n",
        "    * Window type"
      ]
    },
    {
      "cell_type": "markdown",
      "metadata": {
        "id": "c-OhJ5hcxNsr"
      },
      "source": [
        "# Discussion"
      ]
    },
    {
      "cell_type": "markdown",
      "metadata": {
        "id": "o-GdartFncVX"
      },
      "source": [
        "## TODO Reflection on the Experimental Results\n",
        "\n",
        "Implications of the experimental results, whether the original paper was reproducible, and if it wasn't, what factors made it irreproducible\n",
        "\n",
        "Outline of reflection:\n",
        " - results were generally reproducible -\n",
        " - Our results show that less data is needed for pre-training to achieve comparable results. Even 10% of the author's data is enough to reproduce results. No difference between 10% and 20%\n",
        " - ablation study shows that the ECG signals, a spectrogram does not respond as well to pre-training. The results are also not as good"
      ]
    },
    {
      "cell_type": "markdown",
      "metadata": {
        "id": "rGfNGfeJncVX"
      },
      "source": [
        "## What Was Easy\n",
        "\n",
        "### Code Quality\n",
        "\n",
        "We have been very fortunate that not only was the source code publicly available, it was also well written and organized. This allowed us to more effectively spend our limited time on the core pieces of the code base, namely the pre-training and fine-tuning entrypoints, data pre-processing code, and model definitions.\n",
        "\n",
        "We should say that the command line API was thoughtfully setup which made the execution of pre-training and fine-tuning trials relatively easy and gave us capacity to focus our attention to the results and learn more deeply about the deep learning mechanisms instead of getting bogged down in debugging work.\n",
        "\n",
        "### Data Accessibility and Quantization\n",
        "\n",
        "Both the pre-training and fine-tuning datasets were truly publicly available online. Also, the pre-training data came in quantized form. This played a subtly important role in that it allowed us to easily obtain subsets of the pre-train data despite the fact that the uncompressed version is too large to store with the resources at our disposal."
      ]
    },
    {
      "cell_type": "markdown",
      "metadata": {
        "id": "OG-nvYmHxPAi"
      },
      "source": [
        "## What Was Difficult\n",
        "\n",
        "Much of the time spent on this project may be considered standard work for deep learning projects, but each piece took significant amount of time, and had its own learning curve. In order to be able to reproduce the results and address Hypotheses 1 and 2, we had to work through:\n",
        "\n",
        "- **Setting up development environment**: Google Colab + Google Drive + `git`.\n",
        "- **Downloading large datasets**: The large pre-training dataset (> 200 GB) doesn't fit on our local hard drives, so this required interacting with _Academic Torrents_ and writing a script to download the data overnight directly to Google Drive.\n",
        "- **Python dependencies**: Setting up a working environment, eliminating deprecated functions\n",
        "- **Understanding the codebase**: Despite being relatively well documented, understanding the pieces of a foreign codebase takes time. For example, the pre-training code's definition of an epoch (a set number of samples) is different from the typical definition.\n",
        "- **Understanding compute requirements**: Figuring out which GPUs make sense from a cost and time perspective. Planning and distributing all the training amongst the group.\n",
        "- **Discrepancy between paper and code**: It is true that we should not blindly trust that the code is correct (\"trust but verify\"). But much close work was needed to reconcile what we were seeing in the code versus what the authors were reporting in the paper. Also, due to the lack of explanation for the code discrepancy, we spent much thought on whether the deviations we observed in our experimental results could be attributable to the discrepancies in the code as opposed to some other confounding factors.\n",
        "\n",
        "As an extension to the original paper's work, our ablation work of adding spectrogram preprocessing and integrating a new model (2-D ResNet-18v2) had its own set of unique challenges.\n",
        "\n",
        "- **Understanding spectrograms**: The Fourier transform is a fundamental mathematical tool used in a wide range of applications. In order to use these expert features as an input for our model, we had to have a reasonable understanding of the meaning of these outputs and how they might affect the model. For example, only after it was too late did we realize that downsampling from 360 Hz to 250 Hz might introduce aliasing that would be be visible in the spectrogram. Controlling for this might have been beneficial.\n",
        "- **Limited time to tweak hyperparameters**: Due to the time constraints, many educated guesses at hyperparameters like window size, stride, and normalization techniques were made.\n",
        "- **Integrating 2-D ResNet-18v2**: This model was not previously supported by the codebase, so integrating it to function within the existing API required carefully separating the convolutional layer and classification layer to match the approach taken by the paper.\n"
      ]
    },
    {
      "cell_type": "markdown",
      "metadata": {
        "id": "MjV-H51PncVX"
      },
      "source": [
        "## Recommendations For Reproducibility\n",
        "\n",
        "It would be a very good idea for such paper code to provide a **completely** specified environment configuration. The [original](https://github.com/kweimann/ecg-transfer-learning/blob/master/requirements.txt) `requirements.txt` provided did not specify all packages used, the exact versions used, nor performed complete pinning of dependencies.\n",
        "\n",
        "For example, the `samplerate` dependency in the original requirements was deprecated when we started the project. We had to remove it and [implement the code from scratch](https://github.com/myles-i/DLH_TransferLearning/commit/38190172af5092d1ac72e8b705b0bc58b169bd3b).\n",
        "\n",
        "Second, it would be good for the authors to ensure that their public code contents match what they report in their paper. Or if it is not possible, clearly document the discrepancy for the benefit of reproduction work. Here are some notable examples:\n",
        "\n",
        "- The paper claims to pre-process the fine-tuning dataset to produce 60 second samples. However we found that the code documentation recommended the user to generate ~65 second samples.\n",
        "    - This discrepancy did not materially affect our experimental results. However, it should be understood that such a discrepancy may affect reproduction work of another project more severely.\n",
        "- The paper claims to use training accuracy as the early stopping metric for fine-tuning training. Specifically, terminate fine-tuning early if the training accuracy does not improve over 50 epochs. But an inspection of the fine-tuning entrypoint code revealed that the code was using validation loss as the metric for early stopping.\n",
        "    - This discrepancy did materially affect our work in that our fine-tuning trials took fewer epochs to converge than reported by the authors.\n",
        "\n",
        "In sum, it is still a very good thing that the authors released their paper source code to the public because it enables reproduction work to be more efficient and enables independent verification of the correctness of the original work."
      ]
    },
    {
      "cell_type": "markdown",
      "metadata": {
        "id": "CrIC_LGfi2X4"
      },
      "source": [
        "# Public GitHub Repo\n",
        "The repo with our code is available on [Github](https://github.com/myles-i/DLH_TransferLearning/tree/master). Specifically, the reports are located [here](https://github.com/myles-i/DLH_TransferLearning/tree/master/report)."
      ]
    },
    {
      "cell_type": "markdown",
      "metadata": {
        "id": "gWZq2-uh1ytR",
        "tags": [
          "hidden"
        ]
      },
      "source": [
        "# References\n",
        "\n",
        "1. Weimann, K., Conrad, T.O.F. Transfer learning for ECG classification. Sci Rep 11, 5251 (2021). https://doi.org/10.1038/s41598-021-84374-8\n",
        "2. Kachuee, M., Fazeli, S., & Sarrafzadeh, M. ECG heartbeat classification: a deep transferable representation. in _2018 IEEE International Conference on Healthcare Informatics (ICHI)._ https://doi.org/10.1109/ichi.2018.00092 (2018).\n",
        "3. Rahhal, M. A. _et al._ Deep learning approach for active classification of electrocardiogram signals. _Inf. Sci._ **345**, 340–354. https://doi.org/10.1016/j.ins.2016.01.082 (2016).\n",
        "4. Rajan, D., Beymer, D., & Narayan, G. Generalization Studies of Neural Network Models for Cardiac Disease Detection Using Limited Channel ECG (2019). arXiv:1901.03295\n",
        "5. J. Huang, B. Chen, B. Yao and W. He, “`ECG Arrhythmia Classification Using STFT-Based Spectrogram and Convolutional\n",
        " Neural Network`,” in IEEE Access, vol. 7\n",
        "6. Shawn Tan, Satya Ortiz-Gagné, Nicolas Beaudoin-Gagnon, Pierre Fecteau, Aaron Courville, Yoshua Bengio, and Joseph Paul Cohen. Icentia11k single lead continuous raw electrocardiogram dataset (version 1.0). https://doi.org/10.13026/kk0v-r952, April 2022.\n",
        "7. Tan, S. _et al._ Icentia11K: An Unsupervised Representation Learning Dataset for Arrhythmia Subtype Discovery (2019). arXiv:arXiv:1910.09570\n",
        "8. Goldberger, A.L. _et al._ PhysioBank, PhysioToolkit,and PhysioNet: components of a new research resource for complex physiologic signals. _Circulation_ **101**, e215–e220. https://doi.org/10.1161/01.CIR.101.23.e215 (2000).\n",
        "9. Clifford, G.D. _et al._ AF Classification from a short single lead ECG recording: the PhysioNet/computing in cardiology challenge 2017. _Comput. Cardiol._ (2017).\n",
        "10. He, K., Zhang, X., Ren, S., & Sun, J. Identity Mappings in Deep Residual Networks (2016). arXiv:1603.05027."
      ]
    }
  ],
  "metadata": {
    "accelerator": "GPU",
    "colab": {
      "gpuType": "T4",
      "machine_shape": "hm",
      "provenance": [],
      "toc_visible": true
    },
    "kernelspec": {
      "display_name": "Python 3",
      "name": "python3"
    },
    "language_info": {
      "name": "python"
    }
  },
  "nbformat": 4,
  "nbformat_minor": 0
}
