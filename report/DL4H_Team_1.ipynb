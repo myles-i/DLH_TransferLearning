{
  "cells": [
    {
      "cell_type": "markdown",
      "metadata": {
        "id": "ypFTXiFx6OIM"
      },
      "source": [
        "# Basic Info\n",
        "\n",
        "## Team 1\n",
        "\n",
        "- Ted Hsu ([thhsu4@illinois.edu](mailto:thhsu4@illinois.edu))\n",
        "- Myles Iribarne ([mylesai2@illinois.edu](mailto:mylesai2@illinois.edu))\n",
        "- Daniel Xu ([dhxu2@illinois.edu](mailto:dhxu2@illinois.edu))\n",
        "\n",
        "## Paper\n",
        "\n",
        "Our paper is _Transfer learning for ECG classification_ by Weimann and Conrad <cite data-cite=\"Weimann:2021wz\">[1]</cite>. The project code is available on [Github](https://github.com/kweimann/ecg-transfer-learning/tree/master).\n",
        "\n",
        "## TODO Video\n",
        "\n",
        "TODO Include a public link to your project video (Youtube/OneDrive/GDrive etc) at the top of the notebook.\n"
      ]
    },
    {
      "cell_type": "markdown",
      "metadata": {
        "id": "MQ0sNuMePBXx"
      },
      "source": [
        "# Introduction\n",
        "## Background of the problem\n",
        "\n",
        "- **What type of problem**:\n",
        "\n",
        "  The problem is to classify Atrial Fibrillation (AF) on electrocardiogram (ECG) recordings.\n",
        "- **What is the importance/meaning of solving the problem**:\n",
        "\n",
        "  - A solution to the problem is a tool that will assist physicians in analyzing large amounts of patient ECG data in an automated and time efficient manner.\n",
        "  - Early detection of AF events may lead to better patient outcomes.\n",
        "  \n",
        "- **What is the difficulty of the problem**:\n",
        "\n",
        "  - Devices for recording patient ECG data are able to output a _huge_ amount of raw data. This is challenging and expensive to annotate for effective Deep Learning training.\n",
        "  - Large class imbalance due to cardiovascular events of interests being rare.\n",
        "  - Low ECG signal quality due to sampling frequency, single ECG lead probe.\n",
        "\n",
        "- **The state of the art methods**:\n",
        "\n",
        "  - Transfer learning using 1-D residual networks <cite data-cite=\"Kachuee:2018\">[2]</cite>\n",
        "  - Representation learning using encoder-decoder architectures\n",
        "    - Stacked Denoising AEs <cite data-cite=\"Rahhal:2016\">[3]</cite>\n",
        "    - Seq2Seq model <cite data-cite=\"Rajan:2019\">[4]</cite>\n",
        "\n",
        "## Paper Explanation\n",
        "- **What did the paper propose**:\n",
        "\n",
        "  - Use Transfer learning to build better ECG classifiers.\n",
        "  - Pre-train 1-D CNNs on the largest publicly available ECG dataset (_Icentia11K_) on several pre-training tasks:\n",
        "    - Beat Classification\n",
        "    - Rhythm Classifcation\n",
        "    - Heart Rate Classification\n",
        "    - Future Prediction\n",
        "  - Finetune the pre-trained 1-D CNNs on a _different_ task and a _different_ dataset (_PhysioNet/CinC Challenge 2017_): classify AF events.\n",
        "\n",
        "- **What is/are the innovations of the method**:\n",
        "\n",
        "  - Demonstration of successful large-scale pre-training of 1-D CNNs on the largest publicly available ECG dataset to date.\n",
        "  - Demonstration of contrastive pre-training (unsupervised representation learning) improving 1-D CNN performance on target task.\n",
        "  - Novel usage of heart rate classification task for pre-training. Note that in this task, the labels can be automatically generated without manual intervention.\n",
        "\n",
        "- **How well the proposed method work (in its own metrics)**:\n",
        "\n",
        "  - The paper provides AF classifier performnace comparison among five different pre-training tasks configurations (Random initalization, Beat classification, Rhythm classification, Heart Rate classification, and Future Prediction).\n",
        "  \n",
        "    _Macro F1 score of the AF classifier on the Physionet test set is the performance metric._\n",
        "  - The average macro F1 score of random initalization pre-training task is 0.731 over 10 trials. Average macro F1 scores reported by all proposed four pre-training tasks configurations range from 0.758 to 0.779 over 10 trials.\n",
        "\n",
        "- **What is the contribution to the research regime (referring the Background above, how important the paper is to the problem)**:\n",
        "\n",
        "  - Pre-training the 1-D CNN model improves the performance on the target task (i.e. AF classification), effectively reducing the number of labeled data required to achieve the same performance as 1-D CNNs that are not pre-trained.\n",
        "  - Unsupervised pre-training (i.e. future prediction) on ECG data is a viable method for improving the performance on the target task and will become more relevant, since labeling ECG data is expensive."
      ]
    },
    {
      "cell_type": "markdown",
      "metadata": {
        "id": "uygL9tTPSVHB"
      },
      "source": [
        "# Scope of Reproducibility\n",
        "\n",
        "## Hypothesis 1\n",
        "Pre-training 1-D CNN models with an extremely large dataset of relatively inexpensively labeled data can improve performance of classification based on a smaller set of labeled data with a different classification objective (i.e. AF).\n",
        "\n",
        "## Hypothesis 2\n",
        "The paper does not explore how significant the effects of the pre-training data size are on the final results. We expect the size of the pre-training dataset affects the performance of the target task (i.e. AF classification).\n",
        "\n",
        "\n",
        "## Verification\n",
        "We will verify the hypotheses by attempting to reproduce results for a specific model and the following hyperparameter combination with 10% and 20% (TODO: maybe add 1% and 100%) of the pre-training data used in the paper:\n",
        "\n",
        "- Model: 1-D ResNet-18v2\n",
        "- Pre-training Objective: Beat Classification\n",
        "- Frame Size: 4096 samples\n",
        "- Sample Rate: 250 Hz\n",
        "- Fine-tuning objective: Atrial Fibrillation\n",
        "\n",
        "Note that the data is at patient level, so the 10% and 20% will be applied to the total number of patients.\n",
        "\n",
        "The results will be compared with the performance of a randomly initialized ResNet-18v2.\n",
        "\n",
        "## Implementation\n",
        "\n",
        "The paper authors have provided their code online on Github. In our repo, we have forked their code and made small adjustments for convenience in our reproduction work. The code cells below will import modules from the paper authors' code. In this way, we are able to focus primarily on executing the experiments and analyzing the outcomes.\n"
      ]
    },
    {
      "cell_type": "markdown",
      "metadata": {
        "id": "RZ0ybFOGwxA2"
      },
      "source": [
        "# Ablation (Hypothesis 3)\n",
        "The original paper is entirely based on 1-D CNNs and the raw ECG signal. To extend the paper's results, we aim to pre-process the raw signals using Fourier transforms to represent the data as a spectrogram -- a frequency versus time representation of ECG signals.\n",
        "\n",
        "Using this representation of the input, we will train a 2-D CNN model (i.e. 2-D ResNet-18v2) and compare the performance of pre-trained and randomly initialized models. Additionally, we will compare the 2-D model performance to the 1-D models originally used by the authors.\n",
        "\n",
        "This extension is motivated by a study on ECG Arrhythmia classification that demonstrates the effectiveness of CNNs trained on spectrograms <cite data-cite=\"Huang:2019\">[5]</cite>. By converting ECG data to spectrogram features and then using spectrograms to pre-train a 2-D ResNet, we intend to illustrate the adaptability of the transfer learning framework in the original paper across diverse model architectures."
      ]
    },
    {
      "cell_type": "markdown",
      "metadata": {
        "id": "Kp9UI34KwoXF"
      },
      "source": [
        "# Methodology"
      ]
    },
    {
      "cell_type": "markdown",
      "metadata": {
        "id": "xWAHJ_1CdtaA"
      },
      "source": [
        "## Environment\n",
        "\n",
        "First, we assume that this notebook is run in **Google Colab**. It is highly recommended to have Colab Pro and select **V100** GPU or better. With the exception of the ablation results, all results were generated using a V100 GPU with 16GB memory. The ablation results were generated using L4 with 22.5GB memory.\n",
        "\n",
        "Below we prepare the environment with which the code in this notebook can run. Specifically, we clone the project repo which contains the paper's code and our modifications and install the project dependencies."
      ]
    },
    {
      "cell_type": "code",
      "execution_count": 1,
      "metadata": {
        "id": "Dy4eNoPBq4bB"
      },
      "outputs": [],
      "source": [
        "%%capture\n",
        "REPO = '/tmp/repo'\n",
        "!git clone https://github.com/myles-i/DLH_TransferLearning.git {REPO}\n",
        "%cd {REPO}"
      ]
    },
    {
      "cell_type": "markdown",
      "metadata": {
        "id": "s_aEIGI34Kq6"
      },
      "source": [
        "Below we install all of the python dependencies. This is an addition we have made to the repository for ease of use. There is also an environment.yml file for use with `conda`."
      ]
    },
    {
      "cell_type": "code",
      "execution_count": 2,
      "metadata": {
        "colab": {
          "base_uri": "https://localhost:8080/"
        },
        "id": "GSHj-DAhsFKX",
        "outputId": "a2fff5a2-5b3f-4537-8ab2-166b2a5274ef"
      },
      "outputs": [
        {
          "output_type": "stream",
          "name": "stdout",
          "text": [
            "CPU times: user 97.9 ms, sys: 29.2 ms, total: 127 ms\n",
            "Wall time: 16.5 s\n"
          ]
        }
      ],
      "source": [
        "%%time\n",
        "%%capture\n",
        "!pip install -r requirements.txt"
      ]
    },
    {
      "cell_type": "code",
      "execution_count": 28,
      "metadata": {
        "id": "44V3e9TZ8QLw"
      },
      "outputs": [],
      "source": [
        "%%capture\n",
        "# Prepare local directories\n",
        "JOB_DIR = '/tmp/jobs'\n",
        "DATA_DIR = '/tmp/data'\n",
        "DEMO_DATA_DIR = DATA_DIR + '/final_demo'\n",
        "!mdkir -p {JOB_DIR}\n",
        "!mkdir -p {DATA_DIR}\n",
        "!mkdir -p {DEMO_DATA_DIR}"
      ]
    },
    {
      "cell_type": "markdown",
      "metadata": {
        "id": "EPpw2FDwCcJq"
      },
      "source": [
        "##  Data"
      ]
    },
    {
      "cell_type": "markdown",
      "metadata": {
        "id": "2NbPHUTMbkD3"
      },
      "source": [
        "### Pre-training Dataset\n",
        "The training data is the \"Icentia11k Single Lead Continuous Raw Electrocardiogram Dataset,\" which is freely available online <cite data-cite=\"Icentiadata\">[6]</cite><cite data-cite=\"Tan:2019icentia11k\">[7]</cite><cite data-cite=\"PhysioNet:2000\">[8]</cite>.\n",
        "\n",
        "- Source of the data\n",
        "  \n",
        "  The data comes in two formats, and links to each format are provided below.:\n",
        "  - [Raw](https://physionet.org/content/icentia11k-continuous-ecg/1.0/)\n",
        "  - [Compressed](https://academictorrents.com/details/af04abfe9a3c96b30e5dd029eb185e19a7055272)\n",
        "- Statistics\n",
        "  - 11,000 patients.\n",
        "  - Each patient has up to two weeks of ECG recordings with 250 Hz sampling rate.\n",
        "  - Each ECG recording is accompanied with beat and rhythm labels marked by the ECG signal collection device and specialists, respectively.\n",
        "  - Both beat and rhythm labels are assigned to positions in the signal at irregular intervals.\n",
        "  - The original paper uses 95% of the patients for pre-training and the remaining 5% for validation.\n",
        "- Data download instructions:\n",
        "  - We utilize the _compressed_ data files rather than the raw files.\n",
        "  - The process is demonstrated in [this notebook which we wrote and used to download the data](https://github.com/myles-i/DLH_TransferLearning/blob/master/jupyter_notebooks/Download_Icentia11k_Data.ipynb). It uses the `libtorrent` library to download the compressed data.\n",
        "  - The compressed data files are saved to an appropriately named sub-directory within the shared Google Drive directory stored in the `DATA_DIR` variable.\n",
        "\n",
        "\n",
        "\n"
      ]
    },
    {
      "cell_type": "markdown",
      "metadata": {
        "id": "6QpOgI2YncVE"
      },
      "source": [
        "#### TODO Preparation"
      ]
    },
    {
      "cell_type": "markdown",
      "metadata": {
        "id": "04TPeBpfnKM5"
      },
      "source": [
        "#### Exploration\n",
        "\n",
        "The beat label in the Icentia11k data has 5 different values, as shown in the below code cell. The beat classification task is to classify beat type given a segment or a frame of an ECG signal. The paper experimented with frame sizes ranging from 2 to 60 seconds."
      ]
    },
    {
      "cell_type": "code",
      "execution_count": 29,
      "metadata": {
        "colab": {
          "base_uri": "https://localhost:8080/"
        },
        "id": "NTlXJqcPATdM",
        "outputId": "5d01ea7c-ed5a-4fea-9358-7d6980209be5"
      },
      "outputs": [
        {
          "output_type": "stream",
          "name": "stdout",
          "text": [
            "Beat labels: {0: 'undefined', 1: 'normal', 2: 'pac', 3: 'aberrated', 4: 'pvc'}\n"
          ]
        }
      ],
      "source": [
        "from pretraining import datasets\n",
        "\n",
        "print(f\"Beat labels: {datasets.icentia11k.ds_beat_names}\")"
      ]
    },
    {
      "cell_type": "markdown",
      "metadata": {
        "id": "p77xKHR2D5RH"
      },
      "source": [
        "For beat classification pre-training, each training data sample is generated by extracting a segment of continuous ECG signal that is associated with a beat label. Below is example code to generate a training data sample from Patient#0 with an ECG signal frame size of 4096:"
      ]
    },
    {
      "cell_type": "code",
      "execution_count": 30,
      "metadata": {
        "colab": {
          "base_uri": "https://localhost:8080/"
        },
        "id": "bx8Rw4kvh3_q",
        "outputId": "355e0da9-8100-4b59-82b7-ee58fa2840c4"
      },
      "outputs": [
        {
          "output_type": "stream",
          "name": "stdout",
          "text": [
            "CPU times: user 90 ms, sys: 10.8 ms, total: 101 ms\n",
            "Wall time: 12.9 s\n"
          ]
        }
      ],
      "source": [
        "# First download Patient#0 ECG signal and labels\n",
        "%%time\n",
        "%%capture\n",
        "# Patient#0 ECG signal\n",
        "!gdown 1hzq0iSICypZTIrJcyPfAR5mPrKS1Vev_ \\\n",
        "  -O {DEMO_DATA_DIR + '/00000_batched.npy'}\n",
        "# Patient#0 label\n",
        "!gdown 1vjBhJ_0w-bTn7jhnRPS3Bf3CsLpi7RuN \\\n",
        "  -O {DEMO_DATA_DIR + '/00000_batched_lbls.npz'}"
      ]
    },
    {
      "cell_type": "code",
      "execution_count": 6,
      "metadata": {
        "id": "m_EiXVabnEHX"
      },
      "outputs": [],
      "source": [
        "gen = datasets.beat_generator(\n",
        "    DEMO_DATA_DIR,\n",
        "    patient_ids=[0],  # Patient#0\n",
        "    frame_size=4096,  # a frame with 4096 continuous ECG signal\n",
        "    normalize=True,\n",
        "    unzipped=True,\n",
        "    samples_per_patient=1\n",
        ")\n",
        "data = next(gen)"
      ]
    },
    {
      "cell_type": "markdown",
      "metadata": {
        "id": "juLweXRyBrc8"
      },
      "source": [
        "Each data sample is a tuple of ECG signal and beat label. With a frame size of 4096 and 250 Hz sampling rate, the length of this sample is around 16 seconds."
      ]
    },
    {
      "cell_type": "code",
      "execution_count": 7,
      "metadata": {
        "colab": {
          "base_uri": "https://localhost:8080/",
          "height": 467
        },
        "id": "lSiwFSY3BiyP",
        "outputId": "fba9a60a-5a1f-4242-d009-c4b3d4d29e0c"
      },
      "outputs": [
        {
          "output_type": "stream",
          "name": "stdout",
          "text": [
            "Beat label of the data sample: normal\n"
          ]
        },
        {
          "output_type": "display_data",
          "data": {
            "text/plain": [
              "<Figure size 640x480 with 1 Axes>"
            ],
            "image/png": "[encoded data removed]"
          },
          "metadata": {}
        }
      ],
      "source": [
        "from matplotlib import pyplot as plt\n",
        "import numpy as np\n",
        "\n",
        "print(\n",
        "    f\"Beat label of the data sample:\"\n",
        "    f\" {datasets.icentia11k.ds_beat_names[data[1]]}\"\n",
        ")\n",
        "_ = plt.plot(np.arange(len(data[0]))/250, data[0])\n",
        "_ = plt.xlabel('second')\n",
        "_ = plt.ylabel('ECG signal')"
      ]
    },
    {
      "cell_type": "markdown",
      "metadata": {
        "id": "UPN95z3AFROy"
      },
      "source": [
        "The `beat_generator` is used to create a `tensorflow` `Dataset` object. The following code creates a `Dataset` that contains 2048 training data samples from Patient#0, each training data sample with frame size 2048."
      ]
    },
    {
      "cell_type": "code",
      "execution_count": 18,
      "metadata": {
        "colab": {
          "base_uri": "https://localhost:8080/"
        },
        "id": "Wu-L3Kk07k3K",
        "outputId": "2338a0e5-bf5a-4b4f-f0e4-53edc376d3bb"
      },
      "outputs": [
        {
          "output_type": "execute_result",
          "data": {
            "text/plain": [
              "(TensorSpec(shape=(2048, 1), dtype=tf.float32, name=None),\n",
              " TensorSpec(shape=(), dtype=tf.int32, name=None))"
            ]
          },
          "metadata": {},
          "execution_count": 18
        }
      ],
      "source": [
        "dataset = datasets.beat_dataset(\n",
        "    db_dir=DEMO_DATA_DIR, patient_ids=[0], frame_size=2048,\n",
        "    unzipped=True, samples_per_patient=2048)\n",
        "dataset.element_spec"
      ]
    },
    {
      "cell_type": "markdown",
      "metadata": {
        "id": "el2LBwvc-QDF"
      },
      "source": [
        "### Fine-tuning Dataset\n",
        "The fine-tuning dataset is the \"AF Classification from a Short Single Lead ECG Recording: The PhysioNet/Computing in Cardiology Challenge 2017\" and freely available online for download <cite data-cite=\"PhysioNet:2000\">[8]</cite><cite data-cite=\"Clifford:2017we\">[9]</cite>.\n",
        "\n",
        "- Source of the data\n",
        "  - [Raw](https://physionet.org/content/challenge-2017/1.0.0/).\n",
        "- Statistics\n",
        "  - 8528 short ECG recordings.\n",
        "  - Each ECG recording duration is 9 to 60 seconds with 300 Hz sampling rate.\n",
        "  - Each ECG recording is labeled with one of the following classes: AF, Normal, Other or Noise (too noisy to classify).\n",
        "- Data download instructions:\n",
        "  - The `train2017.zip` file needs to be extracted somewhere.\n",
        "  - The files within need to be extracted and then preprocessed.\n",
        "  - Preprocessing involves:\n",
        "    - Resampling to 250 Hz to match the sample rate of the pre-training dataset.\n",
        "    - Padding records to 65 seconds.\n",
        "    - Standardizing the data using mean and standard deviation computed on the entire dataset."
      ]
    },
    {
      "cell_type": "markdown",
      "metadata": {
        "id": "iUtibbUU8rW6"
      },
      "source": [
        "#### Preprocessing code + command\n",
        "\n",
        "The `get_challenge17_data` function ([source](https://github.com/myles-i/DLH_TransferLearning/blob/master/finetuning/datasets.py#L9)) in the authors' code both extracts and pre-processes the PhysioNet dataset. We split the data extraction and pre-processing steps and saved the extracted data. This lets us have the flexibility of pre-processing without data extraction in every run. The below cell demonstrates an example of data pre-processing."
      ]
    },
    {
      "cell_type": "code",
      "execution_count": 8,
      "metadata": {
        "colab": {
          "base_uri": "https://localhost:8080/"
        },
        "id": "3qoHsGKer-QD",
        "outputId": "48f4b19f-30cd-403c-c7cc-8df964aa19ef"
      },
      "outputs": [
        {
          "output_type": "stream",
          "name": "stdout",
          "text": [
            "CPU times: user 49.6 ms, sys: 8.89 ms, total: 58.5 ms\n",
            "Wall time: 8.63 s\n"
          ]
        }
      ],
      "source": [
        "%%time\n",
        "%%capture\n",
        "# Downloads the raw PhysioNet record and label pickles, the output of\n",
        "# extraction.\n",
        "!gdown 1lI7lTZltRj_zQtYM1UcidZnSAQilPJSg -O {DEMO_DATA_DIR} --folder"
      ]
    },
    {
      "cell_type": "markdown",
      "metadata": {
        "id": "WTJIyl-vncVH"
      },
      "source": [
        "Note that downloading the extracted data took less than 10 seconds. We experienced 45 minutes for the data extraction, thus splitting the original `get_challenge17_data` function made our fine-tuning data preparation much more efficient."
      ]
    },
    {
      "cell_type": "code",
      "execution_count": 9,
      "metadata": {
        "id": "iJAsRdJYvKkb"
      },
      "outputs": [],
      "source": [
        "import functools\n",
        "\n",
        "import numpy as np\n",
        "\n",
        "from finetuning import datasets\n",
        "from transplant.datasets import physionet\n",
        "\n",
        "\n",
        "def extract_challenge17_data(db_dir, verbose=False):\n",
        "    # This is the author's extraction code\n",
        "    records, labels = physionet.read_challenge17_data(db_dir, verbose=verbose)\n",
        "    return records, labels\n",
        "\n",
        "\n",
        "def process_extracted_challenge17_data(\n",
        "    records, labels, fs=None, pad=None, normalize=False, verbose=False):\n",
        "    \"\"\"\n",
        "    This is our code that performs pre-processing only.\n",
        "\n",
        "    Args:\n",
        "        records: See extract_challenge17_data.\n",
        "        labels: See extract_challenge17_data.\n",
        "        fs (int): Sampling rate.\n",
        "        pad (int): Length that each record should be padded to (or truncated)\n",
        "            pad / fs will give the approximate length in seconds.\n",
        "        normalize (bool): Whether to standardize the records using mean and s.d.\n",
        "            computed over the entire dataset. Note that the mean and s.d. have\n",
        "            already been provided by the authors.\n",
        "    \"\"\"\n",
        "    if normalize:\n",
        "        normalize = functools.partial(\n",
        "            physionet.normalize_challenge17, inplace=True)\n",
        "    # This is the author's preprocessing code\n",
        "    data_set = datasets._prepare_data(\n",
        "        records,\n",
        "        labels,\n",
        "        normalize_fn=normalize,\n",
        "        fs=fs,\n",
        "        pad=pad,\n",
        "        verbose=verbose)\n",
        "    return data_set"
      ]
    },
    {
      "cell_type": "code",
      "execution_count": 10,
      "metadata": {
        "colab": {
          "base_uri": "https://localhost:8080/"
        },
        "id": "2gYQVm6et4IO",
        "outputId": "0f1f00a3-a93d-4150-acb4-ed6c0931c070"
      },
      "outputs": [
        {
          "output_type": "stream",
          "name": "stderr",
          "text": [
            "Resampling records: 100%|██████████| 8528/8528 [00:03<00:00, 2152.60it/s]\n"
          ]
        },
        {
          "output_type": "stream",
          "name": "stdout",
          "text": [
            "CPU times: user 7.01 s, sys: 1.31 s, total: 8.33 s\n",
            "Wall time: 8.29 s\n"
          ]
        }
      ],
      "source": [
        "%%time\n",
        "from transplant.utils import load_pkl\n",
        "\n",
        "records = load_pkl(f\"{DEMO_DATA_DIR}/records.pkl\")[\"data\"]\n",
        "labels = load_pkl(f\"{DEMO_DATA_DIR}/labels.pkl\")[\"data\"]\n",
        "physionet_data = process_extracted_challenge17_data(\n",
        "    records,\n",
        "    labels,\n",
        "    fs=250,\n",
        "    pad=16384,\n",
        "    normalize=True,\n",
        "    verbose=True,\n",
        ")"
      ]
    },
    {
      "cell_type": "markdown",
      "metadata": {
        "id": "GYtqI3SFytFQ"
      },
      "source": [
        "#### Exploration\n",
        "\n",
        "Labels are in the form one-hot encoded arrays. The labels `A`, `N`, `O` and `~` represent AF, Normal, Other and Noise, respectively.\n",
        "\n",
        "The distribution of label values is shown below. Note that less than 10% of the data is labeled AF."
      ]
    },
    {
      "cell_type": "code",
      "execution_count": 11,
      "metadata": {
        "colab": {
          "base_uri": "https://localhost:8080/"
        },
        "id": "lOy9HElTwuuB",
        "outputId": "93b2c165-3038-419d-a141-aef8dc16e158"
      },
      "outputs": [
        {
          "output_type": "stream",
          "name": "stdout",
          "text": [
            "Shape of the fine-tuning data labels: (8528, 4)\n"
          ]
        },
        {
          "output_type": "execute_result",
          "data": {
            "text/plain": [
              "A  N  O  ~\n",
              "0  1  0  0    5050\n",
              "   0  1  0    2456\n",
              "1  0  0  0     738\n",
              "0  0  0  1     284\n",
              "Name: count, dtype: int64"
            ]
          },
          "metadata": {},
          "execution_count": 11
        }
      ],
      "source": [
        "print(f'Shape of the fine-tuning data labels: {labels.shape}')\n",
        "labels.value_counts()"
      ]
    },
    {
      "cell_type": "markdown",
      "metadata": {
        "id": "i32g3k71343l"
      },
      "source": [
        "The `_prepare_data()` function packs ECG signals (resampled and padded) and labels into a dictonary ready to be consumed by `train_test_split` in `sklearn`. To save data pre-processing time in the fine-tuning precedure, we split the pre-processed data (i.e. the `physionet_data` variable) into train and test sets and saved them in pickle form."
      ]
    },
    {
      "cell_type": "code",
      "execution_count": 12,
      "metadata": {
        "colab": {
          "base_uri": "https://localhost:8080/"
        },
        "id": "I9txJh5qvXwI",
        "outputId": "1942ca39-7df0-4c9b-a026-96b9e08ce2b4"
      },
      "outputs": [
        {
          "output_type": "stream",
          "name": "stdout",
          "text": [
            "PhysioNet data summary:\n",
            "Number of samples: 8528\n",
            "labels: ['A' 'N' 'O' '~']\n",
            "Dimensions of a sample: (16384, 1)\n",
            "Record id A00001 one-hot encoded label: [0 1 0 0]\n"
          ]
        }
      ],
      "source": [
        "print(f'PhysioNet data summary:')\n",
        "print(f'Number of samples: {len(physionet_data[\"x\"])}')\n",
        "print(f\"labels: {physionet_data['classes']}\")\n",
        "print(f'Dimensions of a sample: {physionet_data[\"x\"][0].shape}')\n",
        "# TODO: are we plotting this record id or can we delete this print statement?\n",
        "print(\n",
        "    f'Record id {physionet_data[\"record_ids\"][0]} one-hot encoded label:'\n",
        "    f' {physionet_data[\"y\"][0]}'\n",
        ")"
      ]
    },
    {
      "cell_type": "code",
      "execution_count": 13,
      "metadata": {
        "colab": {
          "base_uri": "https://localhost:8080/",
          "height": 486
        },
        "id": "dkG_Bhzr2diK",
        "outputId": "b743422f-936d-47b1-8008-c537ef88e203"
      },
      "outputs": [
        {
          "output_type": "stream",
          "name": "stdout",
          "text": [
            "Record id: A00004\n",
            "One-hot encoded label: [1 0 0 0]\n"
          ]
        },
        {
          "output_type": "display_data",
          "data": {
            "text/plain": [
              "<Figure size 640x480 with 1 Axes>"
            ],
            "image/png": "[encoded data removed]"
          },
          "metadata": {}
        }
      ],
      "source": [
        "print(f'Record id: {physionet_data[\"record_ids\"][3]}')\n",
        "print(f'One-hot encoded label: {physionet_data[\"y\"][3]}')\n",
        "_ = plt.plot(np.arange(physionet_data[\"x\"][3].shape[0])/250, physionet_data[\"x\"][3])\n",
        "_ = plt.xlabel('Second')\n",
        "_ = plt.ylabel('ECG Signal')"
      ]
    },
    {
      "cell_type": "markdown",
      "metadata": {
        "id": "3muyDPFPbozY"
      },
      "source": [
        "## Model Description: Model Used By Authors\n",
        "In this project, the CNN model of choice is ResNet-18v2.\n",
        "\n",
        "TODO add \"Citation to original paper\" and \"Link to original paper's repo (if applicable)\n",
        "\n",
        " We used the 1-D ResNet-18v2 implemented in the paper's Github repo to reproduce the paper's result.\n",
        "\n",
        "We show how to use paper author's code to create a 1-D ResNet-18v2 for beat classification in pre-training and AF classification in fine-tuning.\n",
        "\n",
        "* Model architecture\n",
        "  * 18 layers\n",
        "  * Input layer consists of convolution layer with 64 filters, kernel size=3 and stride=2. The output of the convolution layer passes through batch norm, ReLu and maxpooling layers sequentially.\n",
        "  * Output layer is a classifier consisting of a densely-connected layer followed by softmax function.\n",
        "  * The middle 16 layers consist of 8 residual blocks. A residual block consists of the following two components and outputs the sum of the two components' outputs.\n",
        "    1. Two convolution layers, each followed by batch norm and ReLu.\n",
        "    2. A shortcut that passes the input through a convolution layer followed by batch norm.\n",
        "  * Configurations of the residual blocks\n",
        "    * 1st and 2nd: 64 filters, kernel size=7, strides=2 and 1, respectively\n",
        "    * 3rd and 4th: 128 filters, kernel size=5, strides=2 and 1, respectively\n",
        "    * 5th and 6th: 256 filters, kernel size=5, strides=2 and 1, respectively\n",
        "    * 7th and 8th: 512 filters, kernel size=3, strides=2 and 1, respectively\n",
        "  * Detail of [implementation code here](https://github.com/myles-i/DLH_TransferLearning/blob/master/transplant/modules/resnet1d.py).\n",
        "* Pre-training objectives\n",
        "  * Loss function: [Sparse Categorical Cross Entropy](https://www.tensorflow.org/api_docs/python/tf/keras/losses/SparseCategoricalCrossentropy)\n",
        "    * `from_logits=True`\n",
        "    * All other parameters are set to their default values.\n",
        "  * Optimizer: [Adam](https://www.tensorflow.org/api_docs/python/tf/keras/optimizers/Adam)\n",
        "    * `learning_rate`: 0.001 (default)\n",
        "    * `beta_1`: 0.9\n",
        "    * `beta_2`: 0.98\n",
        "    * All other parameters are set to their default values.\n",
        "  * Metric: [Sparse Categorical Accuracy](https://www.tensorflow.org/api_docs/python/tf/keras/metrics/SparseCategoricalAccuracy)\n",
        "* Fine-tuning objectives\n",
        "  * Loss function: [Categorical Cross Entropy](https://www.tensorflow.org/api_docs/python/tf/keras/losses/CategoricalCrossentropy)\n",
        "    * All parameters are set to their default values.\n",
        "  * Optimizer: [Adam](https://www.tensorflow.org/api_docs/python/tf/keras/optimizers/Adam)\n",
        "    * `learning_rate`: 0.001 (default)\n",
        "    * All other parameters are set to their default values.\n",
        "  * Metrics:\n",
        "    * [Accuracy](https://www.tensorflow.org/api_docs/python/tf/keras/metrics/CategoricalAccuracy)\n",
        "    * Macro F1. See our `my_f1()` function below.\n",
        "\n",
        "\n"
      ]
    },
    {
      "cell_type": "markdown",
      "metadata": {
        "id": "4ifheiBfDhpu"
      },
      "source": [
        "### Pre-training 1-D ResNet-18v2\n",
        "Below we construct the pre-training ResNet-18v2 and show its structure.\n",
        "\n",
        "TODO: add actual link to \"Pretrained model\"\n"
      ]
    },
    {
      "cell_type": "code",
      "execution_count": 20,
      "metadata": {
        "colab": {
          "base_uri": "https://localhost:8080/"
        },
        "id": "7_6BokS53jGA",
        "outputId": "ff327a94-cd60-4635-be27-657c78e22adb"
      },
      "outputs": [
        {
          "output_type": "stream",
          "name": "stdout",
          "text": [
            "Model: \"sequential_5\"\n",
            "_________________________________________________________________\n",
            " Layer (type)                Output Shape              Param #   \n",
            "=================================================================\n",
            " sequential_4 (Sequential)   (None, 512)               4492480   \n",
            "|¯¯¯¯¯¯¯¯¯¯¯¯¯¯¯¯¯¯¯¯¯¯¯¯¯¯¯¯¯¯¯¯¯¯¯¯¯¯¯¯¯¯¯¯¯¯¯¯¯¯¯¯¯¯¯¯¯¯¯¯¯¯¯|\n",
            "| res_net_2 (ResNet)         (None, 64, 512)           4492480  |\n",
            "||¯¯¯¯¯¯¯¯¯¯¯¯¯¯¯¯¯¯¯¯¯¯¯¯¯¯¯¯¯¯¯¯¯¯¯¯¯¯¯¯¯¯¯¯¯¯¯¯¯¯¯¯¯¯¯¯¯¯¯¯¯||\n",
            "|| conv1d_2 (Conv1D)         multiple                  448     ||\n",
            "||                                                             ||\n",
            "|| batch_normalization_2 (B  multiple                  256     ||\n",
            "|| atchNormalization)                                          ||\n",
            "||                                                             ||\n",
            "|| re_lu_2 (ReLU)            multiple                  0       ||\n",
            "||                                                             ||\n",
            "|| max_pooling1d_2 (MaxPool  multiple                  0       ||\n",
            "|| ing1D)                                                      ||\n",
            "||                                                             ||\n",
            "|| residual_block_16 (Resid  multiple                  57856   ||\n",
            "|| ualBlock)                                                   ||\n",
            "||                                                             ||\n",
            "|| residual_block_17 (Resid  multiple                  57856   ||\n",
            "|| ualBlock)                                                   ||\n",
            "||                                                             ||\n",
            "|| residual_block_18 (Resid  multiple                  132608  ||\n",
            "|| ualBlock)                                                   ||\n",
            "||                                                             ||\n",
            "|| residual_block_19 (Resid  multiple                  164864  ||\n",
            "|| ualBlock)                                                   ||\n",
            "||                                                             ||\n",
            "|| residual_block_20 (Resid  multiple                  527360  ||\n",
            "|| ualBlock)                                                   ||\n",
            "||                                                             ||\n",
            "|| residual_block_21 (Resid  multiple                  657408  ||\n",
            "|| ualBlock)                                                   ||\n",
            "||                                                             ||\n",
            "|| residual_block_22 (Resid  multiple                  1316864 ||\n",
            "|| ualBlock)                                                   ||\n",
            "||                                                             ||\n",
            "|| residual_block_23 (Resid  multiple                  1576960 ||\n",
            "|| ualBlock)                                                   ||\n",
            "|¯¯¯¯¯¯¯¯¯¯¯¯¯¯¯¯¯¯¯¯¯¯¯¯¯¯¯¯¯¯¯¯¯¯¯¯¯¯¯¯¯¯¯¯¯¯¯¯¯¯¯¯¯¯¯¯¯¯¯¯¯¯¯|\n",
            "| global_average_pooling1d_  (None, 512)               0        |\n",
            "| 2 (GlobalAveragePooling1D                                     |\n",
            "| )                                                             |\n",
            "¯¯¯¯¯¯¯¯¯¯¯¯¯¯¯¯¯¯¯¯¯¯¯¯¯¯¯¯¯¯¯¯¯¯¯¯¯¯¯¯¯¯¯¯¯¯¯¯¯¯¯¯¯¯¯¯¯¯¯¯¯¯¯¯¯\n",
            " dense_2 (Dense)             (None, 5)                 2565      \n",
            "                                                                 \n",
            "=================================================================\n",
            "Total params: 4495045 (17.15 MB)\n",
            "Trainable params: 4485445 (17.11 MB)\n",
            "Non-trainable params: 9600 (37.50 KB)\n",
            "_________________________________________________________________\n"
          ]
        }
      ],
      "source": [
        "import tensorflow as tf\n",
        "\n",
        "from transplant.modules.resnet1d import ResNet\n",
        "from transplant.datasets import icentia11k\n",
        "from transplant.modules.utils import build_input_tensor_from_shape\n",
        "\n",
        "\n",
        "resnet = ResNet(\n",
        "    num_outputs=None,\n",
        "    blocks=(2, 2, 2, 2),\n",
        "    kernel_size=(7, 5, 5, 3),\n",
        "    include_top=False\n",
        ")\n",
        "\n",
        "feature_extractor = tf.keras.Sequential([\n",
        "    resnet,\n",
        "    tf.keras.layers.GlobalAveragePooling1D()\n",
        "])\n",
        "\n",
        "num_classes = len(icentia11k.ds_beat_names)  # 5\n",
        "\n",
        "model = tf.keras.Sequential([\n",
        "    feature_extractor,\n",
        "    tf.keras.layers.Dense(num_classes)\n",
        "])\n",
        "\n",
        "model.compile(\n",
        "    optimizer=tf.keras.optimizers.Adam(beta_1=0.9, beta_2=0.98, epsilon=1e-9),\n",
        "    loss=tf.keras.losses.SparseCategoricalCrossentropy(from_logits=True),\n",
        "    metrics=[tf.keras.metrics.SparseCategoricalAccuracy(name='acc')]\n",
        ")\n",
        "\n",
        "# Initialize the weights of the model\n",
        "train_data = dataset.batch(32)\n",
        "input_shape, _ = tf.compat.v1.data.get_output_shapes(train_data)\n",
        "input_dtype, _ = tf.compat.v1.data.get_output_types(train_data)\n",
        "inputs = build_input_tensor_from_shape(\n",
        "    input_shape,\n",
        "    dtype=input_dtype,\n",
        "    ignore_batch_dim=True\n",
        ")\n",
        "model(inputs)\n",
        "model.summary(expand_nested = True)"
      ]
    },
    {
      "cell_type": "markdown",
      "metadata": {
        "id": "HL9H4FYP4Kq-"
      },
      "source": [
        "### Fine-tuning 1-D ResNet-18v2\n",
        "\n",
        "The fine-tuning CNN model in the paper is the pre-training model with its output layer replaced with a fully connected layer that matches the classes of the PhysioNet 2017 dataset and has randomly initialized weights. Below is a demonstration to construct fine-tuning CNN model. Note the model's number of parameters is identical to that of the pre-training CNN, and the output layer has four outputs, instead of five."
      ]
    },
    {
      "cell_type": "code",
      "execution_count": 21,
      "metadata": {
        "colab": {
          "base_uri": "https://localhost:8080/"
        },
        "id": "NrD53OcmHZ-H",
        "outputId": "a17a8de8-8e81-4f0d-88d2-3b8805d6e876"
      },
      "outputs": [
        {
          "output_type": "stream",
          "name": "stdout",
          "text": [
            "Model: \"sequential_6\"\n",
            "_________________________________________________________________\n",
            " Layer (type)                Output Shape              Param #   \n",
            "=================================================================\n",
            " res_net_3 (ResNet)          (None, 512, 512)          4492480   \n",
            "|¯¯¯¯¯¯¯¯¯¯¯¯¯¯¯¯¯¯¯¯¯¯¯¯¯¯¯¯¯¯¯¯¯¯¯¯¯¯¯¯¯¯¯¯¯¯¯¯¯¯¯¯¯¯¯¯¯¯¯¯¯¯¯|\n",
            "| conv1d_3 (Conv1D)          multiple                  448      |\n",
            "|                                                               |\n",
            "| batch_normalization_3 (Ba  multiple                  256      |\n",
            "| tchNormalization)                                             |\n",
            "|                                                               |\n",
            "| re_lu_3 (ReLU)             multiple                  0        |\n",
            "|                                                               |\n",
            "| max_pooling1d_3 (MaxPooli  multiple                  0        |\n",
            "| ng1D)                                                         |\n",
            "|                                                               |\n",
            "| residual_block_24 (Residu  multiple                  57856    |\n",
            "| alBlock)                                                      |\n",
            "|                                                               |\n",
            "| residual_block_25 (Residu  multiple                  57856    |\n",
            "| alBlock)                                                      |\n",
            "|                                                               |\n",
            "| residual_block_26 (Residu  multiple                  132608   |\n",
            "| alBlock)                                                      |\n",
            "|                                                               |\n",
            "| residual_block_27 (Residu  multiple                  164864   |\n",
            "| alBlock)                                                      |\n",
            "|                                                               |\n",
            "| residual_block_28 (Residu  multiple                  527360   |\n",
            "| alBlock)                                                      |\n",
            "|                                                               |\n",
            "| residual_block_29 (Residu  multiple                  657408   |\n",
            "| alBlock)                                                      |\n",
            "|                                                               |\n",
            "| residual_block_30 (Residu  multiple                  1316864  |\n",
            "| alBlock)                                                      |\n",
            "|                                                               |\n",
            "| residual_block_31 (Residu  multiple                  1576960  |\n",
            "| alBlock)                                                      |\n",
            "¯¯¯¯¯¯¯¯¯¯¯¯¯¯¯¯¯¯¯¯¯¯¯¯¯¯¯¯¯¯¯¯¯¯¯¯¯¯¯¯¯¯¯¯¯¯¯¯¯¯¯¯¯¯¯¯¯¯¯¯¯¯¯¯¯\n",
            " global_average_pooling1d_3  (None, 512)               0         \n",
            "  (GlobalAveragePooling1D)                                       \n",
            "                                                                 \n",
            " new_dense (Dense)           (None, 4)                 2052      \n",
            "                                                                 \n",
            "=================================================================\n",
            "Total params: 4494532 (17.15 MB)\n",
            "Trainable params: 4484932 (17.11 MB)\n",
            "Non-trainable params: 9600 (37.50 KB)\n",
            "_________________________________________________________________\n"
          ]
        }
      ],
      "source": [
        "resnet2 = ResNet(\n",
        "    num_outputs=None,\n",
        "    blocks=(2, 2, 2, 2),\n",
        "    kernel_size=(7, 5, 5, 3),\n",
        "    include_top=False\n",
        ")\n",
        "\n",
        "ft_model = tf.keras.Sequential([\n",
        "    resnet2,\n",
        "    tf.keras.layers.GlobalAveragePooling1D()\n",
        "])\n",
        "\n",
        "# Initialize the weights of the model\n",
        "inputs = tf.keras.layers.Input(\n",
        "    physionet_data['x'].shape[1:], dtype=physionet_data['x'].dtype\n",
        ")\n",
        "ft_model(inputs)\n",
        "\n",
        "# Load pre-training weights, if any\n",
        "pre_trained_weights = None\n",
        "if pre_trained_weights:\n",
        "    ft_model.load_weights(pre_trained_weights)\n",
        "\n",
        "# Replace output layer\n",
        "num_classes = len(physionet_data['classes'])  # 4\n",
        "ft_model.add(\n",
        "    tf.keras.layers.Dense(num_classes, activation='softmax', name='new_dense')\n",
        ")\n",
        "\n",
        "ft_model.compile(\n",
        "    optimizer=tf.keras.optimizers.Adam(),\n",
        "    loss=tf.keras.losses.CategoricalCrossentropy(),\n",
        "    metrics=[tf.keras.metrics.CategoricalAccuracy(name='acc')]\n",
        ")\n",
        "ft_model.summary(expand_nested=True)"
      ]
    },
    {
      "cell_type": "markdown",
      "metadata": {
        "id": "BjSHJ3uxvGv4"
      },
      "source": [
        "## Training"
      ]
    },
    {
      "cell_type": "markdown",
      "metadata": {
        "id": "uFdjDQwKzl7W"
      },
      "source": [
        "### Hyperparameters\n",
        "\n",
        "TODO Report at least 3 types of hyperparameters such as learning rate, batch size, hidden size, dropout.\n",
        "\n",
        "There is already some info in model section, move it to here."
      ]
    },
    {
      "cell_type": "markdown",
      "metadata": {
        "id": "1-4YJcZzzqFz"
      },
      "source": [
        "#### Pre-training\n",
        "\n",
        "* Optimizer: [Adam](https://www.tensorflow.org/api_docs/python/tf/keras/optimizers/Adam)\n",
        "    * `learning_rate`: 0.001 (default)\n",
        "    * `beta_1`: 0.9\n",
        "    * `beta_2`: 0.98\n",
        "    * All other parameters are set to their default values.\n",
        "* sample_frequency: 250Hz\n",
        "* frame_size: 4096 (about 16 seconds at 250Hz)\n",
        "* Batch size: 512\n",
        "* samples_per_patient: 4096\n",
        "* Hidden size: Please refer to the \"Models Used By Authors\" section for details."
      ]
    },
    {
      "cell_type": "markdown",
      "metadata": {
        "id": "CrzYKyrUzt4Q"
      },
      "source": [
        "#### Fine-tuning\n",
        "\n",
        "* Optimizer: [Adam](https://www.tensorflow.org/api_docs/python/tf/keras/optimizers/Adam)\n",
        "    * `learning_rate`: 0.001 (default)\n",
        "    * All other parameters are set to their default values.\n",
        "* Batch size: 128\n",
        "    * This size was chosen to maximize the GPU RAM usage of the V100 GPU on Google Colab.\n",
        "* Sample rate: 250Hz (resampled from 360Hz)\n",
        "* Frame size: 16384 (shorter samples padded with 0s) TODO update this if necessary\n",
        "* Hidden size: Please refer to the \"Models Used By Authors\" section for details."
      ]
    },
    {
      "cell_type": "markdown",
      "metadata": {
        "id": "xE3GC0EJz_n7"
      },
      "source": [
        "### Computational Requirements\n",
        "\n",
        "TODO Report at least 3 types of requirements such as type of hardware, average runtime for each epoch, total number of trials, GPU hrs used, # training epochs\n",
        "Training code\n",
        "\n",
        "---\n",
        "For the full pre-training and fine-tuning processes, we use Google Colab Pro, V100 GPU (16 GB RAM).\n",
        "\n"
      ]
    },
    {
      "cell_type": "markdown",
      "metadata": {
        "id": "ubGljHxc0MwP"
      },
      "source": [
        "#### Pre-training\n",
        "\n",
        "* Type of Hardware: V100 GPU\n",
        "    - Batch size of 512 used to fully utilize the 16 GB of RAM on the V100 GPU.\n",
        "    - However, our training rate has been limited by not by the GPU speed, but the I/O time required to transfer, load, and unzip the data files from google drive distributed file system. For example, training on 32x more data per patient only increased runtime by 2.2x, since most of the time was spent loading the same amount of patient datafiles\n",
        "    - We experimented with using A100 GPUs which has more RAM (i.e. larger batch size) and is generally faster. But we were unable to get significant speed improvements to justify the extra hourly cost of the A100 GPU due to distributed drive I/O latency\n",
        "* Average runtime per 1k patients: 1 hours, 15 minutes **TODO update with times from 100% run**\n",
        "* Total number of trials: 1\n",
        "* GPU hours used: 2 hours, 30 minutes. **TODO update with 100% time**\n",
        "    - Frame size 4096\n",
        "    - Training on 2048 patient data (about 20% of the Icentia11K dataset)\n",
        "* Number of training epochs: 1\n",
        "\n",
        "Note on epochs: Both the author and our analysis only ever uses a patient's data once during pretraining, thus the 1 epoch. However, the code's definition of an \"epoch\" during pretraining has a different meaning and refers to the processing 1 set of data equal to batch_size*steps_per_epoch. This can have variable amounts of data or patients.\n",
        "\n",
        "Also note that during pre-training, we saved 16 checkpoints to be able to study how fine-tuning on different amounts of pre-training affects the final model's performance after fine-tuning.\n",
        "\n"
      ]
    },
    {
      "cell_type": "markdown",
      "metadata": {
        "id": "tizjzeOoHRJE"
      },
      "source": [
        "#### Fine-tuning\n",
        "\n",
        "* Type of Hardware: V100 GPU\n",
        "    - Batch size of 128 used to fully utilize the 16 GB of RAM on the V100 GPU.\n",
        "    - Unlike in pre-training, we did not experience I/O overhead during training as the processed PhysioNet train and test data (pickles) were able to fit into RAM.\n",
        "* Average runtime for each epoch: Between 21 to 22 seconds.\n",
        "* Total number of trials: 30\n",
        "    - 10 trials for each of the three scenarios: random, 10% and 20%.\n",
        "* GPU hours used: About 13.7 hours total.\n",
        "    - Random: 5.3 hours\n",
        "    - 10%: 4.1 hours\n",
        "    - 20%: 4.3 hours\n",
        "* Number of training epochs: Maximum 200 per trial, but in practice, saw early stopping by 80 epochs.\n",
        "    - Training for a single trial would typically complete within 30 minutes."
      ]
    },
    {
      "cell_type": "markdown",
      "metadata": {
        "id": "7HnrvmtLvCLU"
      },
      "source": [
        "### Training Code Snippet Sample"
      ]
    },
    {
      "cell_type": "markdown",
      "metadata": {
        "id": "v4GE3mPJOQCU"
      },
      "source": [
        "###Pre-training\n",
        "For beat classification pre-training, a checkpoint function is created to monitor training loss and save model weights of each epoch. The below cell demonstrates pre-training with a small dataset.\n",
        "\n",
        "* Note that the model weights of each epoch are saved for fine-tuning model initialization.\n",
        "* Also note that in `keras` and the way the authors implemented the pre-training step, 1 epoch is defined by batch size and steps-per-epoch (it does not imply training on the entire dataset once)."
      ]
    },
    {
      "cell_type": "code",
      "execution_count": null,
      "metadata": {
        "colab": {
          "base_uri": "https://localhost:8080/"
        },
        "id": "RG7-Rb4aHVfp",
        "outputId": "5a4ff606-fa0e-4a56-f282-2b741250e20b"
      },
      "outputs": [
        {
          "name": "stdout",
          "output_type": "stream",
          "text": [
            "Epoch 1/2\n",
            "\n",
            "Epoch 1: saving model to /tmp/jobs/draft_demo/epoch_01/model.weights\n",
            "64/64 - 18s - loss: 0.2035 - acc: 0.9438 - 18s/epoch - 287ms/step\n",
            "Epoch 2/2\n",
            "\n",
            "Epoch 2: saving model to /tmp/jobs/draft_demo/epoch_02/model.weights\n",
            "64/64 - 3s - loss: 0.0992 - acc: 0.9741 - 3s/epoch - 54ms/step\n"
          ]
        }
      ],
      "source": [
        "DRAFT_DEMO_JOB = JOB_DIR + '/draft_demo'\n",
        "\n",
        "checkpoint = tf.keras.callbacks.ModelCheckpoint(\n",
        "    filepath=str(DRAFT_DEMO_JOB + '/epoch_{epoch:02d}' + '/model.weights'),\n",
        "    monitor='loss',\n",
        "    save_best_only=False,\n",
        "    save_weights_only=True,\n",
        "    mode='auto',\n",
        "    verbose=1\n",
        ")\n",
        "\n",
        "_ = model.fit(\n",
        "    train_data,\n",
        "    steps_per_epoch=64,\n",
        "    verbose=2,\n",
        "    epochs=2,\n",
        "    validation_data=None,\n",
        "    callbacks=[checkpoint]\n",
        ")"
      ]
    },
    {
      "cell_type": "markdown",
      "metadata": {
        "id": "_tGIIcCavUUB"
      },
      "source": [
        "### Training Code - Command Line API\n",
        "\n",
        "The paper authors provide entrypoint scripts to run the entire pre-training and fine-tuning process with parameters of choice. The following is the high level description of how the scripts work."
      ]
    },
    {
      "cell_type": "markdown",
      "metadata": {
        "id": "PjhVgufs6OIR"
      },
      "source": [
        "#### Pre-training -\n",
        "\n",
        "The source code from the paper authors can be found [here](https://github.com/myles-i/DLH_TransferLearning/tree/master/pretraining).\n",
        "\n",
        "1. Create train/validate data generator based on patient id and the number of samples per patient, both specified when calling the entrypoint.\n",
        "2. A model is generated based on the model architectrue and pre-training task specified by the user.\n",
        "3. Weights of the model are initialized. They can also be loaded from a weights file. For all pre-training in the project, we don't load weights.\n",
        "4. Checkpoint function is created based on training metric. For pre-training, we use `loss` as training metric.\n",
        "5. The model fits the train data. At the end of each training epoch, the checkpoint function is called for evaluation and save the model weights.\n",
        "\n",
        "The paper uses 95% of the patient's ECG data. On average, the paper sample 4096 ECG frames per patient, which amounts to 42.8 million (11000x0.95x4096) training samples over the course of pre-training. For pre-training with 20% of the data used in paper, we use ECG data from 2048 patients and sample 4096 ECG frames per patient, resulting to roughly 8.4 million (2048x4096) training samples."
      ]
    },
    {
      "cell_type": "markdown",
      "metadata": {
        "id": "wnsQfTsc26yA"
      },
      "source": [
        "The following sample command calls the pre-training entrypoint to run pre-training with 20% of the data used in the paper.\n",
        "\n",
        "* The command is easily adapted to run pre-training with 10% of the data in the paper.\n",
        "\n",
        "```bash\n",
        "!time python -m pretraining.trainer \\\n",
        "--job-dir \"jobs/beat_classification_16epochs_to_20percent\" \\\n",
        "--task \"beat\" \\\n",
        "--train {TRAIN_DATASET} \\\n",
        "--arch \"resnet18\" \\\n",
        "--epochs 16 \\\n",
        "--patient-ids `seq 0 2047 | paste -sd, -` \\\n",
        "--steps-per-epoch 1024 \\\n",
        "--samples-per-patient 4096 \\\n",
        "--batch-size 512 \\\n",
        "--frame-size 4096\n",
        "```\n",
        "\n",
        "Explanation of the less obvious parameters:\n",
        "\n",
        "* `--job-dir`: Output directory, where check points and weights are saved.\n",
        "\n",
        "* `--task`: Pre-training task, `beat` for Beat classification.\n",
        "\n",
        "* `--patient-ids`: Patient id(s) whose ECG data to be used in pre-training.\n",
        "\n",
        "  * Multiple patients can be specified by passing a space separated sequence of ids.\n",
        "\n",
        "* `--frame-size`: Number of ECG samples, with 250Hz sampling rate, in a ECG frame.\n",
        "\n",
        "To use all data: number of patients x samples_per_patient = epochs x batch_size x steps-per-epoch.\n",
        "\n",
        "For demonstration, we run the script in a much smaller scale below:"
      ]
    },
    {
      "cell_type": "code",
      "execution_count": null,
      "metadata": {
        "id": "aZVzl7k1vdAO"
      },
      "outputs": [],
      "source": [
        "PRETRAIN_JOB_DIR = DRAFT_DEMO_JOB + '/pretraining'"
      ]
    },
    {
      "cell_type": "code",
      "execution_count": 36,
      "metadata": {
        "colab": {
          "base_uri": "https://localhost:8080/",
          "height": 129
        },
        "id": "YBVu9Fas18M4",
        "outputId": "a14cd3da-a484-42d2-b874-64da372257d4"
      },
      "outputs": [
        {
          "output_type": "error",
          "ename": "NameError",
          "evalue": "name 'PRETRAIN_JOB_DIR' is not defined",
          "traceback": [
            "\u001b[0;31m---------------------------------------------------------------------------\u001b[0m",
            "\u001b[0;31mNameError\u001b[0m                                 Traceback (most recent call last)",
            "\u001b[0;32m<timed exec>\u001b[0m in \u001b[0;36m<module>\u001b[0;34m\u001b[0m\n",
            "\u001b[0;31mNameError\u001b[0m: name 'PRETRAIN_JOB_DIR' is not defined"
          ]
        }
      ],
      "source": [
        "%%time\n",
        "\n",
        "!python -m pretraining.trainer \\\n",
        "--job-dir ${PRETRAIN_JOB_DIR} \\\n",
        "--task \"beat\" \\\n",
        "--train ${DEMO_DATA_DIR} \\\n",
        "--arch \"resnet18\" \\\n",
        "--epochs 2 \\\n",
        "--patient-ids 0 \\\n",
        "--steps-per-epoch 8 \\\n",
        "--samples-per-patient 4096 \\\n",
        "--batch-size 256 \\\n",
        "--frame-size 1024 \\\n",
        "--unzipped True \\\n",
        "--seed 2024"
      ]
    },
    {
      "cell_type": "markdown",
      "metadata": {
        "id": "pX7Rvzla4KrA"
      },
      "source": [
        "\n",
        "#### Fine-tuning\n",
        "\n",
        "The source code from the paper authors can be found [here](https://github.com/myles-i/DLH_TransferLearning/tree/master/finetuning).\n",
        "\n",
        "1. Train and test data set are already separated from the PhysioNet 2017 dataset, with a 80%/20% split, and are passed to the entrypoint. The validation dataset will be further separated from the train dataset based on user input.\n",
        "2. A CNN model is generated based on the model architectrue specified by the user. Its output layer is fully connected with softmax activation.\n",
        "3. Weights of the model are initialized. They can also be loaded from a weights file.\n",
        "4. Checkpoint function is created based on validation metric. For fine-tuning, we use `f1` as the metric.\n",
        "5. The model fits the train data. At the end of each training epoch, the checkpoint function is called for evaluation and saves the model weights with best macro F1 score on the validation set. Note that the model also is setup to end training early if the validation accuracy does not improve after 50 epochs.\n",
        "6. The model is evaluated on the test set and the predicted probabilities are saved to a csv file.\n",
        "\n",
        "Ultimately, the two most important outputs of a fine-tuning execution are:\n",
        "- history file containing validation macro F1 score at the end of each epoch\n",
        "- model predictions on the test set"
      ]
    },
    {
      "cell_type": "markdown",
      "metadata": {
        "id": "Yd-4RslV7b0o"
      },
      "source": [
        "The following sample command calls the fine-tuning entrypoint to run fine-tuning with **random initialization**.\n",
        "\n",
        "```bash\n",
        "python -m finetuning.trainer \\\n",
        "--job-dir {JOB_DIR} \\\n",
        "--train {FINETUNE_TRAIN} \\\n",
        "--test {FINETUNE_TEST} \\\n",
        "--val-size 0.0625 \\\n",
        "--val-metric \"f1\" \\\n",
        "--arch \"resnet18\" \\\n",
        "--batch-size 128 \\\n",
        "--epochs 200 \\\n",
        "--seed 2024 \\\n",
        "--verbose\n",
        "```\n",
        "\n",
        "Explanation of the less obvious parameters:\n",
        "\n",
        "* `--job-dir`: Output directory, where checkpoints and weights are saved.\n",
        "* `--val-size`: This is the percentage of the train set size to set aside for the validation set.\n",
        "  * Note that the PhysioNet data was already split into 80% train, 20% test. The paper uses 5% of the full dataset for validation.\n",
        "  * Math: $6.25\\% * 80\\% = 5\\%$\n",
        "* `--val-metric`: Metric to evaluate the model at the end of each epoch on the validation dataset.\n",
        "* `--seed`: Random state used to split the train into smaller train and validation.\n",
        "\n",
        "Below is a small scale demonstration of fine-tuning with random weight initialization. We first download fine-tuning train and test datasets."
      ]
    },
    {
      "cell_type": "code",
      "execution_count": null,
      "metadata": {
        "id": "aQwScfMgrTFm"
      },
      "outputs": [],
      "source": [
        "%%capture\n",
        "FINETUNE_TRAIN = DEMO_DATA_DIR + '/physionet_train.pkl'\n",
        "FINETUNE_TEST = DEMO_DATA_DIR + '/physionet_test.pkl'\n",
        "!gdown 10PVz1nmMaeIgxQ4sqDUeZlzhFVHOth5I -O {FINETUNE_TRAIN}\n",
        "!gdown 10FKjncGOZD6_BBCBbvpBQbWvfCLj88MC -O {FINETUNE_TEST}"
      ]
    },
    {
      "cell_type": "code",
      "execution_count": null,
      "metadata": {
        "id": "d2TJ3mzh6wUB"
      },
      "outputs": [],
      "source": [
        "FINETUNE_JOB_DIR = DRAFT_DEMO_JOB + '/finetuning_random'"
      ]
    },
    {
      "cell_type": "code",
      "execution_count": null,
      "metadata": {
        "colab": {
          "base_uri": "https://localhost:8080/"
        },
        "id": "sV1EBd7Z6nr_",
        "outputId": "90517324-6bbd-419f-a56e-b6f38640464c"
      },
      "outputs": [
        {
          "name": "stdout",
          "output_type": "stream",
          "text": [
            "2024-04-30 06:13:08.166296: E external/local_xla/xla/stream_executor/cuda/cuda_dnn.cc:9261] Unable to register cuDNN factory: Attempting to register factory for plugin cuDNN when one has already been registered\n",
            "2024-04-30 06:13:08.166343: E external/local_xla/xla/stream_executor/cuda/cuda_fft.cc:607] Unable to register cuFFT factory: Attempting to register factory for plugin cuFFT when one has already been registered\n",
            "2024-04-30 06:13:08.167593: E external/local_xla/xla/stream_executor/cuda/cuda_blas.cc:1515] Unable to register cuBLAS factory: Attempting to register factory for plugin cuBLAS when one has already been registered\n",
            "2024-04-30 06:13:09.160921: W tensorflow/compiler/tf2tensorrt/utils/py_utils.cc:38] TF-TRT Warning: Could not find TensorRT\n",
            "Creating working directory in /tmp/jobs/draft_demo/finetuning_random\n",
            "Setting random state 2024\n",
            "Loading train data from /tmp/data/final_demo/physionet_train.pkl ...\n",
            "Split data into train 93.73% and validation 6.27%\n",
            "Loading test data from /tmp/data/final_demo/physionet_test.pkl ...\n",
            "Train data shape: (1599, 16384, 1)\n",
            "2024-04-30 06:13:17.454933: W tensorflow/core/common_runtime/gpu/gpu_bfc_allocator.cc:47] Overriding orig_value setting because the TF_FORCE_GPU_ALLOW_GROWTH environment variable is set. Original config value was 0.\n",
            "Building model ...\n",
            "# model parameters: 4,492,480\n",
            "Epoch 1/2\n",
            "WARNING: All log messages before absl::InitializeLog() is called are written to STDERR\n",
            "I0000 00:00:1714457615.127744    5221 device_compiler.h:186] Compiled cluster using XLA!  This line is logged at most once for the lifetime of the process.\n",
            "1/1 [==============================] - 1s 674ms/step\n",
            "\n",
            "Epoch 00001: f1 improved from -inf to 0.16203, saving model to /tmp/jobs/draft_demo/finetuning_random/best_model.weights\n",
            "13/13 - 51s - loss: 1.1253 - acc: 0.5597 - val_loss: 3.9594 - val_acc: 0.2897 - f1: 0.1620 - 51s/epoch - 4s/step\n",
            "Epoch 2/2\n",
            "1/1 [==============================] - 0s 117ms/step\n",
            "\n",
            "Epoch 00002: f1 improved from 0.16203 to 0.18529, saving model to /tmp/jobs/draft_demo/finetuning_random/best_model.weights\n",
            "13/13 - 18s - loss: 0.9400 - acc: 0.6016 - val_loss: 1.0858 - val_acc: 0.5888 - f1: 0.1853 - 18s/epoch - 1s/step\n",
            "Loading the best weights from file /tmp/jobs/draft_demo/finetuning_random/best_model.weights ...\n",
            "Predicting training data ...\n",
            "13/13 [==============================] - 5s 346ms/step\n",
            "Predicting validation data ...\n",
            "1/1 [==============================] - 0s 70ms/step\n",
            "Predicting test data ...\n",
            "54/54 [==============================] - 20s 372ms/step\n",
            "CPU times: user 681 ms, sys: 127 ms, total: 807 ms\n",
            "Wall time: 1min 51s\n"
          ]
        }
      ],
      "source": [
        "%%time\n",
        "!python -m finetuning.trainer \\\n",
        "--job-dir {FINETUNE_JOB_DIR} \\\n",
        "--train {FINETUNE_TRAIN} \\\n",
        "--test {FINETUNE_TEST} \\\n",
        "--val-size 0.0625 \\\n",
        "--val-metric \"f1\" \\\n",
        "--arch \"resnet18\" \\\n",
        "--batch-size 128 \\\n",
        "--epochs 2 \\\n",
        "--seed 2024 \\\n",
        "--verbose"
      ]
    },
    {
      "cell_type": "markdown",
      "metadata": {
        "id": "yNnSDq6w7mDX"
      },
      "source": [
        "The following sample command uses the fine-tuning entrypoint to run fine-tuning with pre-training weights.\n",
        "```bash\n",
        "python -m finetuning.trainer \\\n",
        "--job-dir {JOB_DIR} \\\n",
        "--train {FINETUNE_TRAIN} \\\n",
        "--test {FINETUNE_TEST} \\\n",
        "--weights-file {WEIGHTS_FILE} \\\n",
        "--val-size 0.0625 \\\n",
        "--val-metric \"f1\" \\\n",
        "--arch \"resnet18\" \\\n",
        "--batch-size 128 \\\n",
        "--epochs 200 \\\n",
        "--seed 2024 \\\n",
        "--verbose\n",
        "```\n",
        "\n",
        "Largely the same command as the previous for fine-tuning a randomly initialized network. But with this addition.\n",
        "\n",
        "* `--weights-file {WEIGHTS_FILE}`: Path to pre-trained weights or a checkpoint of the model to be used for model initialization."
      ]
    },
    {
      "cell_type": "markdown",
      "metadata": {
        "id": "ueBiFbvjTdIR"
      },
      "source": [
        "Small scale demonstration below using weights obtained from pre-training using 20% of the Icentia11K dataset. We first download model weights from our experiments."
      ]
    },
    {
      "cell_type": "code",
      "execution_count": null,
      "metadata": {
        "colab": {
          "base_uri": "https://localhost:8080/"
        },
        "id": "AZqK1Ixi81f9",
        "outputId": "382cc87f-e15a-4121-9c7e-3b2869803793"
      },
      "outputs": [
        {
          "name": "stdout",
          "output_type": "stream",
          "text": [
            "CPU times: user 177 ms, sys: 31.7 ms, total: 208 ms\n",
            "Wall time: 31.5 s\n"
          ]
        }
      ],
      "source": [
        "%%time\n",
        "%%capture\n",
        "!mkdir -p {JOB_DIR + '/finetune_baseline_65sec'}\n",
        "!gdown 1Tl5CVIDoKFo37Q1FUwCVDqqb84lp-rRk \\\n",
        "    -O {JOB_DIR + '/finetune_baseline_65sec'} --folder\n",
        "\n",
        "!mkdir -p {JOB_DIR + '/finetune_pretrain_20_weights_65sec'}\n",
        "!gdown 1-A0AqZe9sanj-8MZnoX4TUAYWrgcUTlg \\\n",
        "    -O {JOB_DIR + '/finetune_pretrain_20_weights_65sec'} --folder\n",
        "\n",
        "!mkdir -p {JOB_DIR + '/finetune_pretrain_10_weights_65sec'}\n",
        "!gdown 1-363P8B28RZIBwwFVhDvB7suE3nasnji \\\n",
        "    -O {JOB_DIR + '/finetune_pretrain_10_weights_65sec'} --folder"
      ]
    },
    {
      "cell_type": "code",
      "execution_count": null,
      "metadata": {
        "id": "vb51wGvO8Cac"
      },
      "outputs": [],
      "source": [
        "WEIGHTS_FILE = JOB_DIR \\\n",
        "    + '/finetune_pretrain_20_weights_65sec/best_model.weights'\n",
        "FINETUNE_JOB_DIR = DRAFT_DEMO_JOB + '/finetuning_pretrained'"
      ]
    },
    {
      "cell_type": "code",
      "execution_count": null,
      "metadata": {
        "colab": {
          "base_uri": "https://localhost:8080/"
        },
        "id": "wVpmhIw_7tpO",
        "outputId": "2361e789-02f4-4cb6-b928-99d2c70e82f5"
      },
      "outputs": [
        {
          "name": "stdout",
          "output_type": "stream",
          "text": [
            "2024-04-30 06:17:03.309914: E external/local_xla/xla/stream_executor/cuda/cuda_dnn.cc:9261] Unable to register cuDNN factory: Attempting to register factory for plugin cuDNN when one has already been registered\n",
            "2024-04-30 06:17:03.309965: E external/local_xla/xla/stream_executor/cuda/cuda_fft.cc:607] Unable to register cuFFT factory: Attempting to register factory for plugin cuFFT when one has already been registered\n",
            "2024-04-30 06:17:03.311296: E external/local_xla/xla/stream_executor/cuda/cuda_blas.cc:1515] Unable to register cuBLAS factory: Attempting to register factory for plugin cuBLAS when one has already been registered\n",
            "2024-04-30 06:17:04.280797: W tensorflow/compiler/tf2tensorrt/utils/py_utils.cc:38] TF-TRT Warning: Could not find TensorRT\n",
            "Creating working directory in /tmp/jobs/draft_demo/finetuning_pretrained\n",
            "Setting random state 2024\n",
            "Loading train data from /tmp/data/final_demo/physionet_train.pkl ...\n",
            "Split data into train 93.73% and validation 6.27%\n",
            "Loading test data from /tmp/data/final_demo/physionet_test.pkl ...\n",
            "Train data shape: (1599, 16384, 1)\n",
            "2024-04-30 06:17:12.557393: W tensorflow/core/common_runtime/gpu/gpu_bfc_allocator.cc:47] Overriding orig_value setting because the TF_FORCE_GPU_ALLOW_GROWTH environment variable is set. Original config value was 0.\n",
            "Building model ...\n",
            "# model parameters: 4,492,480\n",
            "Loading weights from file /tmp/jobs/finetune_pretrain_20_weights_65sec/best_model.weights ...\n",
            "Epoch 1/2\n",
            "WARNING: All log messages before absl::InitializeLog() is called are written to STDERR\n",
            "I0000 00:00:1714457850.576572    7124 device_compiler.h:186] Compiled cluster using XLA!  This line is logged at most once for the lifetime of the process.\n",
            "1/1 [==============================] - 1s 869ms/step\n",
            "\n",
            "Epoch 00001: f1 improved from -inf to 0.59025, saving model to /tmp/jobs/draft_demo/finetuning_pretrained/best_model.weights\n",
            "13/13 - 51s - loss: 0.8769 - acc: 0.6310 - val_loss: 0.5938 - val_acc: 0.8318 - f1: 0.5902 - 51s/epoch - 4s/step\n",
            "Epoch 2/2\n",
            "1/1 [==============================] - 0s 117ms/step\n",
            "\n",
            "Epoch 00002: f1 improved from 0.59025 to 0.61051, saving model to /tmp/jobs/draft_demo/finetuning_pretrained/best_model.weights\n",
            "13/13 - 18s - loss: 0.5180 - acc: 0.8074 - val_loss: 0.5457 - val_acc: 0.8318 - f1: 0.6105 - 18s/epoch - 1s/step\n",
            "Loading the best weights from file /tmp/jobs/draft_demo/finetuning_pretrained/best_model.weights ...\n",
            "Predicting training data ...\n",
            "13/13 [==============================] - 5s 342ms/step\n",
            "Predicting validation data ...\n",
            "1/1 [==============================] - 0s 72ms/step\n",
            "Predicting test data ...\n",
            "54/54 [==============================] - 20s 371ms/step\n",
            "CPU times: user 695 ms, sys: 115 ms, total: 810 ms\n",
            "Wall time: 1min 51s\n"
          ]
        }
      ],
      "source": [
        "%%time\n",
        "!python -m finetuning.trainer \\\n",
        "--job-dir {FINETUNE_JOB_DIR} \\\n",
        "--train {FINETUNE_TRAIN} \\\n",
        "--test {FINETUNE_TEST} \\\n",
        "--weights-file {WEIGHTS_FILE} \\\n",
        "--val-size 0.0625 \\\n",
        "--val-metric \"f1\" \\\n",
        "--arch \"resnet18\" \\\n",
        "--batch-size 128 \\\n",
        "--epochs 2 \\\n",
        "--seed 2024 \\\n",
        "--verbose"
      ]
    },
    {
      "cell_type": "markdown",
      "metadata": {
        "id": "K_62G-BkncVU"
      },
      "source": [
        "## TODO Evaluation"
      ]
    },
    {
      "cell_type": "markdown",
      "metadata": {
        "id": "vo94sGYuncVU"
      },
      "source": [
        "### TODO Pre-training\n",
        "\n",
        "#### TODO Metrics descriptions\n",
        "\n",
        "\n",
        "#### TODO Evaluation Code"
      ]
    },
    {
      "cell_type": "markdown",
      "metadata": {
        "id": "S-JgPKYuncVU"
      },
      "source": [
        "### Fine-tuning\n",
        "\n",
        "#### Metrics Descriptions\n",
        "\n",
        "In fine-tuning, the paper uses macro F1 score for evaluating the model on the PhysioNet validation and test sets.\n",
        "\n",
        "\n",
        "#### Evaluation Code\n",
        "\n",
        "We define our macro F1 function `my_f1`. It is named like that because the paper authors define their F1 function named `f1` and we wish to avoid namespace collision. Additionally, our macro F1 function supports providing per-class F1 scores, which the **original** `f1` function does not support.\n",
        "See also the analysis section for how we are using this metric in our results."
      ]
    },
    {
      "cell_type": "code",
      "execution_count": null,
      "metadata": {
        "id": "2y6VjfJzncVU"
      },
      "outputs": [],
      "source": [
        "from sklearn.metrics import f1_score\n",
        "import numpy as np\n",
        "\n",
        "def my_f1(y_true, y_prob, average='macro'):\n",
        "    # set average=None to get per-class F1 scores.\n",
        "    y_pred = y_prob >= np.max(y_prob, axis=1)[:, None]\n",
        "    return f1_score(y_true, y_pred, average=average)"
      ]
    },
    {
      "cell_type": "markdown",
      "metadata": {
        "id": "t0OApbK6yd5Q"
      },
      "source": [
        "# Reproducibility Results\n",
        "\n",
        "As specified, we used the fine-tuning entrypoint script to fine-tune a 1-D ResNet-18v2 model with the following three scenarios relating to the weights used to initialize the model before commencing fine-tuning:\n",
        "\n",
        "* Random initialization\n",
        "* Pre-training weights from training with 10% of the data\n",
        "* Pre-training weights from training with 20% of the data\n",
        "\n",
        "Then we evaluate each model using macro F1 score on the following two datasets and compare the results of all three models\n",
        "* Validation set during fine-tuning training.\n",
        "* Test set using the model with the highest validation macro F1 score.\n",
        "\n",
        "For this report, for each scenario, we ran fine-tuning 10 times with 10 different seeds, in order to obtain average macro F1 scores, just as was done by the paper authors. Recall that the seed controls the split of the input data into a train set and validation set.\n",
        "\n",
        "The same 10 seeds are used to fine-tune all three scenarios to enable apples-to-apples comparison of the macro F1 scores among the three models. Specifically, we used seeds 10, 20, ..., 100.\n",
        "\n",
        "To faciliate analysis of the results, we have separately collated the output files from each trial (scenario and seed combination) into two files.\n",
        "- All history csv file\n",
        "- All test predictions pickle\n",
        "\n",
        "In the below cell, we download the collated fine-tuning result files."
      ]
    },
    {
      "cell_type": "code",
      "execution_count": null,
      "metadata": {
        "colab": {
          "base_uri": "https://localhost:8080/"
        },
        "id": "sOHdE78Ovl6n",
        "outputId": "27675657-af61-41de-d893-f2bfc1d97a32"
      },
      "outputs": [
        {
          "name": "stdout",
          "output_type": "stream",
          "text": [
            "CPU times: user 40.5 ms, sys: 2.72 ms, total: 43.2 ms\n",
            "Wall time: 4.93 s\n"
          ]
        }
      ],
      "source": [
        "%%time\n",
        "%%capture\n",
        "RESULT1D_DIR = '/tmp/results1d'\n",
        "!mkdir -p {RESULT1D_DIR}\n",
        "!gdown 1fnPw4dVqAS_2EDxlZQrwcqn_-ccBRNr5 -O {RESULT1D_DIR} --folder"
      ]
    },
    {
      "cell_type": "markdown",
      "metadata": {
        "id": "9H8RxXNI3-W_"
      },
      "source": [
        "## Figures and Tables\n",
        "\n",
        "In this section, we generate the tables and figures to then be referenced in the Analysis section below."
      ]
    },
    {
      "cell_type": "markdown",
      "metadata": {
        "id": "FCwBWC3Q3-XA"
      },
      "source": [
        "### Table 1: Epoch Comparison\n",
        "We create a table of the average number of epochs before training is stopped early due to validation loss not decreasing for 50 epochs for each scenario. This table reproduces the paper's result that pretraining helps the finetuning converge faster than a randomly initialized model"
      ]
    },
    {
      "cell_type": "code",
      "execution_count": null,
      "metadata": {
        "id": "1DiHxsXN3-XA"
      },
      "outputs": [],
      "source": [
        "import pandas as pd\n",
        "import matplotlib.pyplot as plt\n",
        "\n",
        "\n",
        "def make_epoch_table(history_all, decimals=1):\n",
        "    # Prepare table to show average epoch count for each weight-type.\n",
        "    table = (\n",
        "        history_all.groupby(['weight_type', 'seed'])\n",
        "        .max()\n",
        "        .groupby('weight_type')\n",
        "        .agg(\n",
        "            Mean=pd.NamedAgg('epoch', 'mean'),\n",
        "            Std=pd.NamedAgg('epoch', 'std'),\n",
        "        )\n",
        "        .round(decimals)\n",
        "        .reindex(['random', '10', '20'])\n",
        "        .rename(index={\n",
        "            'random': 'Random',\n",
        "            '10': 'Pre-train 10',\n",
        "            '20': 'Pre-train 20'\n",
        "        })\n",
        "        .reset_index()\n",
        "        .rename(columns={\n",
        "            'weight_type': 'Type',\n",
        "        })\n",
        "    )\n",
        "    # Explicitly select columns in desired order.\n",
        "    table = table[['Type', 'Mean', 'Std']]\n",
        "    return table"
      ]
    },
    {
      "cell_type": "code",
      "execution_count": null,
      "metadata": {
        "colab": {
          "base_uri": "https://localhost:8080/",
          "height": 143
        },
        "id": "yVva2mKa3-XA",
        "outputId": "f3cac2bf-7556-4d02-f9ec-13c4ef01a34f"
      },
      "outputs": [
        {
          "data": {
            "application/vnd.google.colaboratory.intrinsic+json": {
              "summary": "{\n  \"name\": \"make_epoch_table(history_all)\",\n  \"rows\": 3,\n  \"fields\": [\n    {\n      \"column\": \"Type\",\n      \"properties\": {\n        \"dtype\": \"string\",\n        \"num_unique_values\": 3,\n        \"samples\": [\n          \"Random\",\n          \"Pre-train 10\",\n          \"Pre-train 20\"\n        ],\n        \"semantic_type\": \"\",\n        \"description\": \"\"\n      }\n    },\n    {\n      \"column\": \"Mean\",\n      \"properties\": {\n        \"dtype\": \"number\",\n        \"std\": 8.376952508718988,\n        \"min\": 56.2,\n        \"max\": 71.0,\n        \"num_unique_values\": 3,\n        \"samples\": [\n          71.0,\n          56.2,\n          56.8\n        ],\n        \"semantic_type\": \"\",\n        \"description\": \"\"\n      }\n    },\n    {\n      \"column\": \"Std\",\n      \"properties\": {\n        \"dtype\": \"number\",\n        \"std\": 1.892969448600091,\n        \"min\": 2.1,\n        \"max\": 5.6,\n        \"num_unique_values\": 3,\n        \"samples\": [\n          5.6,\n          2.1,\n          2.6\n        ],\n        \"semantic_type\": \"\",\n        \"description\": \"\"\n      }\n    }\n  ]\n}",
              "type": "dataframe"
            },
            "text/html": [
              "\n",
              "  <div id=\"df-79160ba1-3986-415a-bbf5-e1c90535a166\" class=\"colab-df-container\">\n",
              "    <div>\n",
              "<style scoped>\n",
              "    .dataframe tbody tr th:only-of-type {\n",
              "        vertical-align: middle;\n",
              "    }\n",
              "\n",
              "    .dataframe tbody tr th {\n",
              "        vertical-align: top;\n",
              "    }\n",
              "\n",
              "    .dataframe thead th {\n",
              "        text-align: right;\n",
              "    }\n",
              "</style>\n",
              "<table border=\"1\" class=\"dataframe\">\n",
              "  <thead>\n",
              "    <tr style=\"text-align: right;\">\n",
              "      <th></th>\n",
              "      <th>Type</th>\n",
              "      <th>Mean</th>\n",
              "      <th>Std</th>\n",
              "    </tr>\n",
              "  </thead>\n",
              "  <tbody>\n",
              "    <tr>\n",
              "      <th>0</th>\n",
              "      <td>Random</td>\n",
              "      <td>71.0</td>\n",
              "      <td>5.6</td>\n",
              "    </tr>\n",
              "    <tr>\n",
              "      <th>1</th>\n",
              "      <td>Pre-train 10</td>\n",
              "      <td>56.2</td>\n",
              "      <td>2.1</td>\n",
              "    </tr>\n",
              "    <tr>\n",
              "      <th>2</th>\n",
              "      <td>Pre-train 20</td>\n",
              "      <td>56.8</td>\n",
              "      <td>2.6</td>\n",
              "    </tr>\n",
              "  </tbody>\n",
              "</table>\n",
              "</div>\n",
              "    <div class=\"colab-df-buttons\">\n",
              "\n",
              "  <div class=\"colab-df-container\">\n",
              "    <button class=\"colab-df-convert\" onclick=\"convertToInteractive('df-79160ba1-3986-415a-bbf5-e1c90535a166')\"\n",
              "            title=\"Convert this dataframe to an interactive table.\"\n",
              "            style=\"display:none;\">\n",
              "\n",
              "  <svg xmlns=\"http://www.w3.org/2000/svg\" height=\"24px\" viewBox=\"0 -960 960 960\">\n",
              "    <path d=\"M120-120v-720h720v720H120Zm60-500h600v-160H180v160Zm220 220h160v-160H400v160Zm0 220h160v-160H400v160ZM180-400h160v-160H180v160Zm440 0h160v-160H620v160ZM180-180h160v-160H180v160Zm440 0h160v-160H620v160Z\"/>\n",
              "  </svg>\n",
              "    </button>\n",
              "\n",
              "  <style>\n",
              "    .colab-df-container {\n",
              "      display:flex;\n",
              "      gap: 12px;\n",
              "    }\n",
              "\n",
              "    .colab-df-convert {\n",
              "      background-color: #E8F0FE;\n",
              "      border: none;\n",
              "      border-radius: 50%;\n",
              "      cursor: pointer;\n",
              "      display: none;\n",
              "      fill: #1967D2;\n",
              "      height: 32px;\n",
              "      padding: 0 0 0 0;\n",
              "      width: 32px;\n",
              "    }\n",
              "\n",
              "    .colab-df-convert:hover {\n",
              "      background-color: #E2EBFA;\n",
              "      box-shadow: 0px 1px 2px rgba(60, 64, 67, 0.3), 0px 1px 3px 1px rgba(60, 64, 67, 0.15);\n",
              "      fill: #174EA6;\n",
              "    }\n",
              "\n",
              "    .colab-df-buttons div {\n",
              "      margin-bottom: 4px;\n",
              "    }\n",
              "\n",
              "    [theme=dark] .colab-df-convert {\n",
              "      background-color: #3B4455;\n",
              "      fill: #D2E3FC;\n",
              "    }\n",
              "\n",
              "    [theme=dark] .colab-df-convert:hover {\n",
              "      background-color: #434B5C;\n",
              "      box-shadow: 0px 1px 3px 1px rgba(0, 0, 0, 0.15);\n",
              "      filter: drop-shadow(0px 1px 2px rgba(0, 0, 0, 0.3));\n",
              "      fill: #FFFFFF;\n",
              "    }\n",
              "  </style>\n",
              "\n",
              "    <script>\n",
              "      const buttonEl =\n",
              "        document.querySelector('#df-79160ba1-3986-415a-bbf5-e1c90535a166 button.colab-df-convert');\n",
              "      buttonEl.style.display =\n",
              "        google.colab.kernel.accessAllowed ? 'block' : 'none';\n",
              "\n",
              "      async function convertToInteractive(key) {\n",
              "        const element = document.querySelector('#df-79160ba1-3986-415a-bbf5-e1c90535a166');\n",
              "        const dataTable =\n",
              "          await google.colab.kernel.invokeFunction('convertToInteractive',\n",
              "                                                    [key], {});\n",
              "        if (!dataTable) return;\n",
              "\n",
              "        const docLinkHtml = 'Like what you see? Visit the ' +\n",
              "          '<a target=\"_blank\" href=https://colab.research.google.com/notebooks/data_table.ipynb>data table notebook</a>'\n",
              "          + ' to learn more about interactive tables.';\n",
              "        element.innerHTML = '';\n",
              "        dataTable['output_type'] = 'display_data';\n",
              "        await google.colab.output.renderOutput(dataTable, element);\n",
              "        const docLink = document.createElement('div');\n",
              "        docLink.innerHTML = docLinkHtml;\n",
              "        element.appendChild(docLink);\n",
              "      }\n",
              "    </script>\n",
              "  </div>\n",
              "\n",
              "\n",
              "<div id=\"df-9b583c24-59df-44ac-86dd-32b664f5ba54\">\n",
              "  <button class=\"colab-df-quickchart\" onclick=\"quickchart('df-9b583c24-59df-44ac-86dd-32b664f5ba54')\"\n",
              "            title=\"Suggest charts\"\n",
              "            style=\"display:none;\">\n",
              "\n",
              "<svg xmlns=\"http://www.w3.org/2000/svg\" height=\"24px\"viewBox=\"0 0 24 24\"\n",
              "     width=\"24px\">\n",
              "    <g>\n",
              "        <path d=\"M19 3H5c-1.1 0-2 .9-2 2v14c0 1.1.9 2 2 2h14c1.1 0 2-.9 2-2V5c0-1.1-.9-2-2-2zM9 17H7v-7h2v7zm4 0h-2V7h2v10zm4 0h-2v-4h2v4z\"/>\n",
              "    </g>\n",
              "</svg>\n",
              "  </button>\n",
              "\n",
              "<style>\n",
              "  .colab-df-quickchart {\n",
              "      --bg-color: #E8F0FE;\n",
              "      --fill-color: #1967D2;\n",
              "      --hover-bg-color: #E2EBFA;\n",
              "      --hover-fill-color: #174EA6;\n",
              "      --disabled-fill-color: #AAA;\n",
              "      --disabled-bg-color: #DDD;\n",
              "  }\n",
              "\n",
              "  [theme=dark] .colab-df-quickchart {\n",
              "      --bg-color: #3B4455;\n",
              "      --fill-color: #D2E3FC;\n",
              "      --hover-bg-color: #434B5C;\n",
              "      --hover-fill-color: #FFFFFF;\n",
              "      --disabled-bg-color: #3B4455;\n",
              "      --disabled-fill-color: #666;\n",
              "  }\n",
              "\n",
              "  .colab-df-quickchart {\n",
              "    background-color: var(--bg-color);\n",
              "    border: none;\n",
              "    border-radius: 50%;\n",
              "    cursor: pointer;\n",
              "    display: none;\n",
              "    fill: var(--fill-color);\n",
              "    height: 32px;\n",
              "    padding: 0;\n",
              "    width: 32px;\n",
              "  }\n",
              "\n",
              "  .colab-df-quickchart:hover {\n",
              "    background-color: var(--hover-bg-color);\n",
              "    box-shadow: 0 1px 2px rgba(60, 64, 67, 0.3), 0 1px 3px 1px rgba(60, 64, 67, 0.15);\n",
              "    fill: var(--button-hover-fill-color);\n",
              "  }\n",
              "\n",
              "  .colab-df-quickchart-complete:disabled,\n",
              "  .colab-df-quickchart-complete:disabled:hover {\n",
              "    background-color: var(--disabled-bg-color);\n",
              "    fill: var(--disabled-fill-color);\n",
              "    box-shadow: none;\n",
              "  }\n",
              "\n",
              "  .colab-df-spinner {\n",
              "    border: 2px solid var(--fill-color);\n",
              "    border-color: transparent;\n",
              "    border-bottom-color: var(--fill-color);\n",
              "    animation:\n",
              "      spin 1s steps(1) infinite;\n",
              "  }\n",
              "\n",
              "  @keyframes spin {\n",
              "    0% {\n",
              "      border-color: transparent;\n",
              "      border-bottom-color: var(--fill-color);\n",
              "      border-left-color: var(--fill-color);\n",
              "    }\n",
              "    20% {\n",
              "      border-color: transparent;\n",
              "      border-left-color: var(--fill-color);\n",
              "      border-top-color: var(--fill-color);\n",
              "    }\n",
              "    30% {\n",
              "      border-color: transparent;\n",
              "      border-left-color: var(--fill-color);\n",
              "      border-top-color: var(--fill-color);\n",
              "      border-right-color: var(--fill-color);\n",
              "    }\n",
              "    40% {\n",
              "      border-color: transparent;\n",
              "      border-right-color: var(--fill-color);\n",
              "      border-top-color: var(--fill-color);\n",
              "    }\n",
              "    60% {\n",
              "      border-color: transparent;\n",
              "      border-right-color: var(--fill-color);\n",
              "    }\n",
              "    80% {\n",
              "      border-color: transparent;\n",
              "      border-right-color: var(--fill-color);\n",
              "      border-bottom-color: var(--fill-color);\n",
              "    }\n",
              "    90% {\n",
              "      border-color: transparent;\n",
              "      border-bottom-color: var(--fill-color);\n",
              "    }\n",
              "  }\n",
              "</style>\n",
              "\n",
              "  <script>\n",
              "    async function quickchart(key) {\n",
              "      const quickchartButtonEl =\n",
              "        document.querySelector('#' + key + ' button');\n",
              "      quickchartButtonEl.disabled = true;  // To prevent multiple clicks.\n",
              "      quickchartButtonEl.classList.add('colab-df-spinner');\n",
              "      try {\n",
              "        const charts = await google.colab.kernel.invokeFunction(\n",
              "            'suggestCharts', [key], {});\n",
              "      } catch (error) {\n",
              "        console.error('Error during call to suggestCharts:', error);\n",
              "      }\n",
              "      quickchartButtonEl.classList.remove('colab-df-spinner');\n",
              "      quickchartButtonEl.classList.add('colab-df-quickchart-complete');\n",
              "    }\n",
              "    (() => {\n",
              "      let quickchartButtonEl =\n",
              "        document.querySelector('#df-9b583c24-59df-44ac-86dd-32b664f5ba54 button');\n",
              "      quickchartButtonEl.style.display =\n",
              "        google.colab.kernel.accessAllowed ? 'block' : 'none';\n",
              "    })();\n",
              "  </script>\n",
              "</div>\n",
              "\n",
              "    </div>\n",
              "  </div>\n"
            ],
            "text/plain": [
              "           Type  Mean  Std\n",
              "0        Random  71.0  5.6\n",
              "1  Pre-train 10  56.2  2.1\n",
              "2  Pre-train 20  56.8  2.6"
            ]
          },
          "execution_count": 6,
          "metadata": {},
          "output_type": "execute_result"
        }
      ],
      "source": [
        "history_all = pd.read_csv(RESULT1D_DIR + '/history_all.csv')\n",
        "make_epoch_table(history_all)"
      ]
    },
    {
      "cell_type": "markdown",
      "metadata": {
        "id": "gX6bCcZNuxmz"
      },
      "source": [
        "### Figure 1: Average Validation Macro F1 Comparison\n",
        "We plot the average validation macro F1 scores by epoch for each of the three scenarios. This produces a plot similar to Figure 3(a) in the paper. Here you can see visually that the finetuning with pretraining converge faster, and perform better compared to the ranodmly initailized model"
      ]
    },
    {
      "cell_type": "code",
      "execution_count": null,
      "metadata": {
        "id": "GFOpwzfxwu3g"
      },
      "outputs": [],
      "source": [
        "def prepare_f1_for_plot(history_all):\n",
        "    data = (\n",
        "        history_all\n",
        "        .groupby(['weight_type', 'epoch'])\n",
        "        .agg(\n",
        "            min=pd.NamedAgg('f1', 'min'),\n",
        "            max=pd.NamedAgg('f1', 'max'),\n",
        "            mean=pd.NamedAgg('f1', 'mean'),\n",
        "        )\n",
        "        # Move epoch from index to column\n",
        "        .reset_index('epoch')\n",
        "    )\n",
        "    return data\n",
        "\n",
        "def plot_range_f1_by_epoch(history_all):\n",
        "    # Similar as plot_mean_f1_by_epoch, but also plotting min and max F1 score\n",
        "    # at each epoch for each scenario.\n",
        "    data = prepare_f1_for_plot(history_all)\n",
        "    fig, ax = plt.subplots()\n",
        "    ax.set_xlabel('Epoch')\n",
        "    ax.set_ylabel('Average Macro F1')\n",
        "    ax.set_title('Average Macro F1 Score on Validation Set')\n",
        "    ax.plot(\n",
        "        'epoch', 'mean', color='tab:red', data=data.loc['random'],\n",
        "        label='Random'\n",
        "    )\n",
        "    ax.plot('epoch', 'mean', data=data.loc['10'], label='Pre-train 10')\n",
        "    ax.plot('epoch', 'mean', data=data.loc['20'], label='Pre-train 20')\n",
        "    ax.legend()\n",
        "\n",
        "    # Add min, max range\n",
        "    ax.fill_between(\n",
        "        'epoch', 'min', 'max', data=data.loc['random'], color='tab:red',\n",
        "        alpha=0.15\n",
        "    )\n",
        "    ax.fill_between('epoch', 'min', 'max', data=data.loc['10'], alpha=0.15)\n",
        "    ax.fill_between('epoch', 'min', 'max', data=data.loc['20'], alpha=0.15)\n",
        "    # Replicate y-axis in Figure 3(a) of the paper.\n",
        "    ax.set_ylim([0.5, 1.0])"
      ]
    },
    {
      "cell_type": "code",
      "execution_count": null,
      "metadata": {
        "colab": {
          "base_uri": "https://localhost:8080/",
          "height": 472
        },
        "id": "kAFOCZymytgL",
        "outputId": "47ff6aad-2985-4cf0-ba59-9377e4d925dd"
      },
      "outputs": [
        {
          "data": {
            "image/png": "[encoded data removed]",
            "text/plain": [
              "<Figure size 640x480 with 1 Axes>"
            ]
          },
          "metadata": {},
          "output_type": "display_data"
        }
      ],
      "source": [
        "plot_range_f1_by_epoch(history_all)"
      ]
    },
    {
      "cell_type": "markdown",
      "metadata": {
        "id": "TbF9J1rE1ytR"
      },
      "source": [
        "### Table 2: Average Test Macro F1 Comparison\n",
        "\n",
        "Recall that the fine-tuning entrypoint performs inference on the test set using the model with the highest validation macro F1 score. The results are saved to a pickled file.\n",
        "\n",
        "Here we generate a table that is similar in format to Table 1 of the paper. Note that our table should be compared to the None and Beat Classification rows, as that is the scope of our replication work.\n",
        "\n",
        "For each scenario, we report the average macro F1 score (and the standard deviation) on the test set. We also report the average F1 score for each class in the PhysioNet dataset:\n",
        "- Normal (F1n)\n",
        "- AF (F1a)\n",
        "- Other (F1o)\n",
        "- Noisy (F1p)"
      ]
    },
    {
      "cell_type": "code",
      "execution_count": null,
      "metadata": {
        "id": "H-WtijFK3-XB"
      },
      "outputs": [],
      "source": [
        "# TODO remove this code block because both functions are already defined above\n",
        "\n",
        "# Adapted from Weimann, et al source code.\n",
        "import gzip\n",
        "import pickle\n",
        "from sklearn.metrics import f1_score\n",
        "import numpy as np\n",
        "\n",
        "\n",
        "def load_pkl(file, compress=True):\n",
        "    \"\"\" Load pickled file. \"\"\"\n",
        "    if compress:\n",
        "        with gzip.open(file, 'rb') as fh:\n",
        "            return pickle.load(fh)\n",
        "\n",
        "def my_f1(y_true, y_prob, average='macro'):\n",
        "    # set average=None to get per-class F1 scores.\n",
        "    y_pred = y_prob >= np.max(y_prob, axis=1)[:, None]\n",
        "    return f1_score(y_true, y_pred, average=average)"
      ]
    },
    {
      "cell_type": "code",
      "execution_count": null,
      "metadata": {
        "id": "TyBlaEmb2WFD"
      },
      "outputs": [],
      "source": [
        "def make_mean_std_column(mean_col, std_col, decimals=3):\n",
        "    \"\"\"\n",
        "    Helper to produce column values formatted like in Table 1 of the paper.\n",
        "    \"\"\"\n",
        "    # Account for decimal, and assume the leading zero is stripped.\n",
        "    return (\n",
        "        mean_col.astype(str)\n",
        "        # 1: decimal point's index, e.g.: '0.xxx'\n",
        "        # 1 + decimals + 1: (decimals + 1) is total string length, counting\n",
        "        # the decimal point itself. The (1 +) is because we started the\n",
        "        # substring at index 1.\n",
        "        .str[1 : 1 + decimals + 1]\n",
        "        .str.pad(decimals + 1, side='right', fillchar='0')\n",
        "        + ' (\\u00b1 '  # plus minus symbol\n",
        "        + std_col.astype(str)\n",
        "        .str[1 : 1 + decimals + 1]\n",
        "        .str.pad(decimals + 1, side='right', fillchar='0')\n",
        "        + ')'\n",
        "    )"
      ]
    },
    {
      "cell_type": "code",
      "execution_count": null,
      "metadata": {
        "id": "7vslqDLi3-XC"
      },
      "outputs": [],
      "source": [
        "\n",
        "def make_macro_f1_table(predictions):\n",
        "    macro = []\n",
        "    for key, value in predictions.items():\n",
        "        weight_type, seed = key.split('_')\n",
        "        identifier = {'weight_type': weight_type, 'seed': seed}\n",
        "        macro_f1 = my_f1(value['y_true'], value['y_prob'], average='macro')\n",
        "        macro_f1 = {'f1': macro_f1}\n",
        "        macro.append(identifier | macro_f1)\n",
        "\n",
        "    macro_scores = pd.DataFrame(macro)\n",
        "    macro_df = macro_scores.groupby(['weight_type'])[['f1']].agg(\n",
        "        mean=pd.NamedAgg('f1', 'mean'),\n",
        "        std=pd.NamedAgg('f1', 'std'),\n",
        "    )\n",
        "    macro_df['macro_f1'] = make_mean_std_column(\n",
        "        macro_df['mean'], macro_df['std']\n",
        "    )\n",
        "    macro_df = macro_df[['macro_f1']]\n",
        "    return macro_df"
      ]
    },
    {
      "cell_type": "code",
      "execution_count": null,
      "metadata": {
        "id": "WKxQyPbr3-XC"
      },
      "outputs": [],
      "source": [
        "\n",
        "def make_per_class_f1_table(predictions):\n",
        "    per_class = []\n",
        "    for key, value in predictions.items():\n",
        "        weight_type, seed = key.split('_')\n",
        "        identifier = {'weight_type': weight_type, 'seed': seed}\n",
        "\n",
        "        class_f1 = my_f1(value['y_true'], value['y_prob'], average=None)\n",
        "        class_f1 = dict(zip(value['classes'], class_f1))\n",
        "        per_class.append(identifier | class_f1)\n",
        "\n",
        "    per_class_scores = pd.DataFrame(per_class)\n",
        "    per_class_macro = (\n",
        "        per_class_scores.groupby(['weight_type'])[['N', 'A', 'O', '~']]\n",
        "        .agg(**{\n",
        "            'N_mean': pd.NamedAgg('N', 'mean'),\n",
        "            'A_mean': pd.NamedAgg('A', 'mean'),\n",
        "            'O_mean': pd.NamedAgg('O', 'mean'),\n",
        "            '~_mean': pd.NamedAgg('~', 'mean'),\n",
        "            'N_std': pd.NamedAgg('N', 'std'),\n",
        "            'A_std': pd.NamedAgg('A', 'std'),\n",
        "            'O_std': pd.NamedAgg('O', 'std'),\n",
        "            '~_std': pd.NamedAgg('~', 'std'),\n",
        "        })\n",
        "    )\n",
        "\n",
        "    per_class_macro['N_f1'] = make_mean_std_column(\n",
        "        per_class_macro['N_mean'], per_class_macro['N_std']\n",
        "    )\n",
        "    per_class_macro['A_f1'] = make_mean_std_column(\n",
        "        per_class_macro['A_mean'], per_class_macro['A_std']\n",
        "    )\n",
        "    per_class_macro['O_f1'] = make_mean_std_column(\n",
        "        per_class_macro['O_mean'], per_class_macro['O_std']\n",
        "    )\n",
        "    per_class_macro['~_f1'] = make_mean_std_column(\n",
        "        per_class_macro['~_mean'], per_class_macro['~_std'],\n",
        "    )\n",
        "    per_class_macro = per_class_macro[['N_f1', 'A_f1', 'O_f1', '~_f1']]\n",
        "    return per_class_macro"
      ]
    },
    {
      "cell_type": "code",
      "execution_count": null,
      "metadata": {
        "id": "0n3xAet33-XC"
      },
      "outputs": [],
      "source": [
        "\n",
        "def make_f1_table(predictions):\n",
        "    macro_f1 = make_macro_f1_table(predictions)\n",
        "    per_class_f1 = make_per_class_f1_table(predictions)\n",
        "    table = (\n",
        "        macro_f1.join(per_class_f1)\n",
        "        .reindex(['random', '10', '20'])\n",
        "        .rename(index={\n",
        "            'random': 'Random',\n",
        "            '10': 'Pre-train 10',\n",
        "            '20': 'Pre-train 20',\n",
        "        })\n",
        "        .reset_index()\n",
        "        # Using same names as Table 1\n",
        "        .rename(columns={\n",
        "            'weight_type': 'Type',\n",
        "            'macro_f1': 'F1',\n",
        "            'N_f1': 'F1n', # Normal\n",
        "            'A_f1': 'F1a', # AF\n",
        "            'O_f1': 'F1o', # Other\n",
        "            '~_f1': 'F1p', # Noisy\n",
        "        })\n",
        "    )\n",
        "    # Explicitly select columns in desired order.\n",
        "    table = table[['Type', 'F1', 'F1n', 'F1a', 'F1o', 'F1p']]\n",
        "    return table"
      ]
    },
    {
      "cell_type": "code",
      "execution_count": null,
      "metadata": {
        "colab": {
          "base_uri": "https://localhost:8080/",
          "height": 143
        },
        "id": "Nob5zEKX3DI1",
        "outputId": "f9ac2d3f-6e9e-473e-f66c-97dcf1fba913"
      },
      "outputs": [
        {
          "data": {
            "application/vnd.google.colaboratory.intrinsic+json": {
              "summary": "{\n  \"name\": \"make_f1_table(predictions_all)\",\n  \"rows\": 3,\n  \"fields\": [\n    {\n      \"column\": \"Type\",\n      \"properties\": {\n        \"dtype\": \"string\",\n        \"num_unique_values\": 3,\n        \"samples\": [\n          \"Random\",\n          \"Pre-train 10\",\n          \"Pre-train 20\"\n        ],\n        \"semantic_type\": \"\",\n        \"description\": \"\"\n      }\n    },\n    {\n      \"column\": \"F1\",\n      \"properties\": {\n        \"dtype\": \"string\",\n        \"num_unique_values\": 3,\n        \"samples\": [\n          \".702 (\\u00b1 .030)\",\n          \".765 (\\u00b1 .012)\",\n          \".765 (\\u00b1 .014)\"\n        ],\n        \"semantic_type\": \"\",\n        \"description\": \"\"\n      }\n    },\n    {\n      \"column\": \"F1n\",\n      \"properties\": {\n        \"dtype\": \"string\",\n        \"num_unique_values\": 3,\n        \"samples\": [\n          \".881 (\\u00b1 .011)\",\n          \".904 (\\u00b1 .005)\",\n          \".901 (\\u00b1 .004)\"\n        ],\n        \"semantic_type\": \"\",\n        \"description\": \"\"\n      }\n    },\n    {\n      \"column\": \"F1a\",\n      \"properties\": {\n        \"dtype\": \"string\",\n        \"num_unique_values\": 3,\n        \"samples\": [\n          \".647 (\\u00b1 .048)\",\n          \".745 (\\u00b1 .017)\",\n          \".760 (\\u00b1 .026)\"\n        ],\n        \"semantic_type\": \"\",\n        \"description\": \"\"\n      }\n    },\n    {\n      \"column\": \"F1o\",\n      \"properties\": {\n        \"dtype\": \"string\",\n        \"num_unique_values\": 3,\n        \"samples\": [\n          \".686 (\\u00b1 .030)\",\n          \".735 (\\u00b1 .013)\",\n          \".741 (\\u00b1 .012)\"\n        ],\n        \"semantic_type\": \"\",\n        \"description\": \"\"\n      }\n    },\n    {\n      \"column\": \"F1p\",\n      \"properties\": {\n        \"dtype\": \"string\",\n        \"num_unique_values\": 3,\n        \"samples\": [\n          \".595 (\\u00b1 .063)\",\n          \".675 (\\u00b1 .030)\",\n          \".658 (\\u00b1 .032)\"\n        ],\n        \"semantic_type\": \"\",\n        \"description\": \"\"\n      }\n    }\n  ]\n}",
              "type": "dataframe"
            },
            "text/html": [
              "\n",
              "  <div id=\"df-799b2c6d-07c1-471f-a9ac-cafcf92b35c0\" class=\"colab-df-container\">\n",
              "    <div>\n",
              "<style scoped>\n",
              "    .dataframe tbody tr th:only-of-type {\n",
              "        vertical-align: middle;\n",
              "    }\n",
              "\n",
              "    .dataframe tbody tr th {\n",
              "        vertical-align: top;\n",
              "    }\n",
              "\n",
              "    .dataframe thead th {\n",
              "        text-align: right;\n",
              "    }\n",
              "</style>\n",
              "<table border=\"1\" class=\"dataframe\">\n",
              "  <thead>\n",
              "    <tr style=\"text-align: right;\">\n",
              "      <th></th>\n",
              "      <th>Type</th>\n",
              "      <th>F1</th>\n",
              "      <th>F1n</th>\n",
              "      <th>F1a</th>\n",
              "      <th>F1o</th>\n",
              "      <th>F1p</th>\n",
              "    </tr>\n",
              "  </thead>\n",
              "  <tbody>\n",
              "    <tr>\n",
              "      <th>0</th>\n",
              "      <td>Random</td>\n",
              "      <td>.702 (± .030)</td>\n",
              "      <td>.881 (± .011)</td>\n",
              "      <td>.647 (± .048)</td>\n",
              "      <td>.686 (± .030)</td>\n",
              "      <td>.595 (± .063)</td>\n",
              "    </tr>\n",
              "    <tr>\n",
              "      <th>1</th>\n",
              "      <td>Pre-train 10</td>\n",
              "      <td>.765 (± .012)</td>\n",
              "      <td>.904 (± .005)</td>\n",
              "      <td>.745 (± .017)</td>\n",
              "      <td>.735 (± .013)</td>\n",
              "      <td>.675 (± .030)</td>\n",
              "    </tr>\n",
              "    <tr>\n",
              "      <th>2</th>\n",
              "      <td>Pre-train 20</td>\n",
              "      <td>.765 (± .014)</td>\n",
              "      <td>.901 (± .004)</td>\n",
              "      <td>.760 (± .026)</td>\n",
              "      <td>.741 (± .012)</td>\n",
              "      <td>.658 (± .032)</td>\n",
              "    </tr>\n",
              "  </tbody>\n",
              "</table>\n",
              "</div>\n",
              "    <div class=\"colab-df-buttons\">\n",
              "\n",
              "  <div class=\"colab-df-container\">\n",
              "    <button class=\"colab-df-convert\" onclick=\"convertToInteractive('df-799b2c6d-07c1-471f-a9ac-cafcf92b35c0')\"\n",
              "            title=\"Convert this dataframe to an interactive table.\"\n",
              "            style=\"display:none;\">\n",
              "\n",
              "  <svg xmlns=\"http://www.w3.org/2000/svg\" height=\"24px\" viewBox=\"0 -960 960 960\">\n",
              "    <path d=\"M120-120v-720h720v720H120Zm60-500h600v-160H180v160Zm220 220h160v-160H400v160Zm0 220h160v-160H400v160ZM180-400h160v-160H180v160Zm440 0h160v-160H620v160ZM180-180h160v-160H180v160Zm440 0h160v-160H620v160Z\"/>\n",
              "  </svg>\n",
              "    </button>\n",
              "\n",
              "  <style>\n",
              "    .colab-df-container {\n",
              "      display:flex;\n",
              "      gap: 12px;\n",
              "    }\n",
              "\n",
              "    .colab-df-convert {\n",
              "      background-color: #E8F0FE;\n",
              "      border: none;\n",
              "      border-radius: 50%;\n",
              "      cursor: pointer;\n",
              "      display: none;\n",
              "      fill: #1967D2;\n",
              "      height: 32px;\n",
              "      padding: 0 0 0 0;\n",
              "      width: 32px;\n",
              "    }\n",
              "\n",
              "    .colab-df-convert:hover {\n",
              "      background-color: #E2EBFA;\n",
              "      box-shadow: 0px 1px 2px rgba(60, 64, 67, 0.3), 0px 1px 3px 1px rgba(60, 64, 67, 0.15);\n",
              "      fill: #174EA6;\n",
              "    }\n",
              "\n",
              "    .colab-df-buttons div {\n",
              "      margin-bottom: 4px;\n",
              "    }\n",
              "\n",
              "    [theme=dark] .colab-df-convert {\n",
              "      background-color: #3B4455;\n",
              "      fill: #D2E3FC;\n",
              "    }\n",
              "\n",
              "    [theme=dark] .colab-df-convert:hover {\n",
              "      background-color: #434B5C;\n",
              "      box-shadow: 0px 1px 3px 1px rgba(0, 0, 0, 0.15);\n",
              "      filter: drop-shadow(0px 1px 2px rgba(0, 0, 0, 0.3));\n",
              "      fill: #FFFFFF;\n",
              "    }\n",
              "  </style>\n",
              "\n",
              "    <script>\n",
              "      const buttonEl =\n",
              "        document.querySelector('#df-799b2c6d-07c1-471f-a9ac-cafcf92b35c0 button.colab-df-convert');\n",
              "      buttonEl.style.display =\n",
              "        google.colab.kernel.accessAllowed ? 'block' : 'none';\n",
              "\n",
              "      async function convertToInteractive(key) {\n",
              "        const element = document.querySelector('#df-799b2c6d-07c1-471f-a9ac-cafcf92b35c0');\n",
              "        const dataTable =\n",
              "          await google.colab.kernel.invokeFunction('convertToInteractive',\n",
              "                                                    [key], {});\n",
              "        if (!dataTable) return;\n",
              "\n",
              "        const docLinkHtml = 'Like what you see? Visit the ' +\n",
              "          '<a target=\"_blank\" href=https://colab.research.google.com/notebooks/data_table.ipynb>data table notebook</a>'\n",
              "          + ' to learn more about interactive tables.';\n",
              "        element.innerHTML = '';\n",
              "        dataTable['output_type'] = 'display_data';\n",
              "        await google.colab.output.renderOutput(dataTable, element);\n",
              "        const docLink = document.createElement('div');\n",
              "        docLink.innerHTML = docLinkHtml;\n",
              "        element.appendChild(docLink);\n",
              "      }\n",
              "    </script>\n",
              "  </div>\n",
              "\n",
              "\n",
              "<div id=\"df-e6498fe8-5e68-40d6-824f-73ae47213a64\">\n",
              "  <button class=\"colab-df-quickchart\" onclick=\"quickchart('df-e6498fe8-5e68-40d6-824f-73ae47213a64')\"\n",
              "            title=\"Suggest charts\"\n",
              "            style=\"display:none;\">\n",
              "\n",
              "<svg xmlns=\"http://www.w3.org/2000/svg\" height=\"24px\"viewBox=\"0 0 24 24\"\n",
              "     width=\"24px\">\n",
              "    <g>\n",
              "        <path d=\"M19 3H5c-1.1 0-2 .9-2 2v14c0 1.1.9 2 2 2h14c1.1 0 2-.9 2-2V5c0-1.1-.9-2-2-2zM9 17H7v-7h2v7zm4 0h-2V7h2v10zm4 0h-2v-4h2v4z\"/>\n",
              "    </g>\n",
              "</svg>\n",
              "  </button>\n",
              "\n",
              "<style>\n",
              "  .colab-df-quickchart {\n",
              "      --bg-color: #E8F0FE;\n",
              "      --fill-color: #1967D2;\n",
              "      --hover-bg-color: #E2EBFA;\n",
              "      --hover-fill-color: #174EA6;\n",
              "      --disabled-fill-color: #AAA;\n",
              "      --disabled-bg-color: #DDD;\n",
              "  }\n",
              "\n",
              "  [theme=dark] .colab-df-quickchart {\n",
              "      --bg-color: #3B4455;\n",
              "      --fill-color: #D2E3FC;\n",
              "      --hover-bg-color: #434B5C;\n",
              "      --hover-fill-color: #FFFFFF;\n",
              "      --disabled-bg-color: #3B4455;\n",
              "      --disabled-fill-color: #666;\n",
              "  }\n",
              "\n",
              "  .colab-df-quickchart {\n",
              "    background-color: var(--bg-color);\n",
              "    border: none;\n",
              "    border-radius: 50%;\n",
              "    cursor: pointer;\n",
              "    display: none;\n",
              "    fill: var(--fill-color);\n",
              "    height: 32px;\n",
              "    padding: 0;\n",
              "    width: 32px;\n",
              "  }\n",
              "\n",
              "  .colab-df-quickchart:hover {\n",
              "    background-color: var(--hover-bg-color);\n",
              "    box-shadow: 0 1px 2px rgba(60, 64, 67, 0.3), 0 1px 3px 1px rgba(60, 64, 67, 0.15);\n",
              "    fill: var(--button-hover-fill-color);\n",
              "  }\n",
              "\n",
              "  .colab-df-quickchart-complete:disabled,\n",
              "  .colab-df-quickchart-complete:disabled:hover {\n",
              "    background-color: var(--disabled-bg-color);\n",
              "    fill: var(--disabled-fill-color);\n",
              "    box-shadow: none;\n",
              "  }\n",
              "\n",
              "  .colab-df-spinner {\n",
              "    border: 2px solid var(--fill-color);\n",
              "    border-color: transparent;\n",
              "    border-bottom-color: var(--fill-color);\n",
              "    animation:\n",
              "      spin 1s steps(1) infinite;\n",
              "  }\n",
              "\n",
              "  @keyframes spin {\n",
              "    0% {\n",
              "      border-color: transparent;\n",
              "      border-bottom-color: var(--fill-color);\n",
              "      border-left-color: var(--fill-color);\n",
              "    }\n",
              "    20% {\n",
              "      border-color: transparent;\n",
              "      border-left-color: var(--fill-color);\n",
              "      border-top-color: var(--fill-color);\n",
              "    }\n",
              "    30% {\n",
              "      border-color: transparent;\n",
              "      border-left-color: var(--fill-color);\n",
              "      border-top-color: var(--fill-color);\n",
              "      border-right-color: var(--fill-color);\n",
              "    }\n",
              "    40% {\n",
              "      border-color: transparent;\n",
              "      border-right-color: var(--fill-color);\n",
              "      border-top-color: var(--fill-color);\n",
              "    }\n",
              "    60% {\n",
              "      border-color: transparent;\n",
              "      border-right-color: var(--fill-color);\n",
              "    }\n",
              "    80% {\n",
              "      border-color: transparent;\n",
              "      border-right-color: var(--fill-color);\n",
              "      border-bottom-color: var(--fill-color);\n",
              "    }\n",
              "    90% {\n",
              "      border-color: transparent;\n",
              "      border-bottom-color: var(--fill-color);\n",
              "    }\n",
              "  }\n",
              "</style>\n",
              "\n",
              "  <script>\n",
              "    async function quickchart(key) {\n",
              "      const quickchartButtonEl =\n",
              "        document.querySelector('#' + key + ' button');\n",
              "      quickchartButtonEl.disabled = true;  // To prevent multiple clicks.\n",
              "      quickchartButtonEl.classList.add('colab-df-spinner');\n",
              "      try {\n",
              "        const charts = await google.colab.kernel.invokeFunction(\n",
              "            'suggestCharts', [key], {});\n",
              "      } catch (error) {\n",
              "        console.error('Error during call to suggestCharts:', error);\n",
              "      }\n",
              "      quickchartButtonEl.classList.remove('colab-df-spinner');\n",
              "      quickchartButtonEl.classList.add('colab-df-quickchart-complete');\n",
              "    }\n",
              "    (() => {\n",
              "      let quickchartButtonEl =\n",
              "        document.querySelector('#df-e6498fe8-5e68-40d6-824f-73ae47213a64 button');\n",
              "      quickchartButtonEl.style.display =\n",
              "        google.colab.kernel.accessAllowed ? 'block' : 'none';\n",
              "    })();\n",
              "  </script>\n",
              "</div>\n",
              "\n",
              "    </div>\n",
              "  </div>\n"
            ],
            "text/plain": [
              "           Type             F1            F1n            F1a            F1o  \\\n",
              "0        Random  .702 (± .030)  .881 (± .011)  .647 (± .048)  .686 (± .030)   \n",
              "1  Pre-train 10  .765 (± .012)  .904 (± .005)  .745 (± .017)  .735 (± .013)   \n",
              "2  Pre-train 20  .765 (± .014)  .901 (± .004)  .760 (± .026)  .741 (± .012)   \n",
              "\n",
              "             F1p  \n",
              "0  .595 (± .063)  \n",
              "1  .675 (± .030)  \n",
              "2  .658 (± .032)  "
            ]
          },
          "execution_count": 14,
          "metadata": {},
          "output_type": "execute_result"
        }
      ],
      "source": [
        "predictions_all = load_pkl(RESULT1D_DIR + '/predictions_all.pkl')\n",
        "make_f1_table(predictions_all)"
      ]
    },
    {
      "cell_type": "markdown",
      "metadata": {
        "id": "72P9hHES3-XD"
      },
      "source": [
        "## Analysis\n",
        "\n",
        "- Table of results (no need to include additional experiments, but main reproducibility result should be included)\n",
        "- All claims should be supported by experiment results\n",
        "- Discuss with respect to the hypothesis and results from the original paper\n",
        "- Experiments beyond the original paper\n",
        "- Each experiment should include results and a discussion\n",
        "\n",
        "\n",
        "**TODO link each hypothesis to corresponding analysis**"
      ]
    },
    {
      "cell_type": "markdown",
      "metadata": {
        "id": "sIUJTesy3-XD"
      },
      "source": [
        "### Validation F1 Analysis\n",
        "The plot above is very similar to Figure 3(a) of the paper and shows\n",
        "*    Pretrained models achieve a high validation F1 within just several epochs, whereas their randomly initialized counterpart take longer to converge.\n",
        "*    Pretrained models consistently show better validation performance than the randomly initialized model over the course of finetuning.\n",
        "\n",
        "Since both pretrained models converge faster, they both triggered the early termination sooner than the randomly initialized model. Following table shows the average epochs in fine-tuning and standard deviations of all three weight types."
      ]
    },
    {
      "cell_type": "markdown",
      "metadata": {
        "id": "N_qEZOGaAsKI"
      },
      "source": [
        "\n",
        "### Test F1 Analysis\n",
        "The table shows that both pre-trained models outperform random weight initialization in predicting every class. Table 1 in the paper leads to the same conclusion. In addition, both pre-trained models show 6.3% higher average macro F1 score than the random initialization . This is comparable to 6.57% reported in the paper."
      ]
    },
    {
      "cell_type": "markdown",
      "metadata": {
        "id": "cxA8ecxzthX5"
      },
      "source": [
        "# Ablation Study (Hypothesis 3) - Spectogram and 2d ResNet\n",
        "Given the extent of work for the ablation study, we dedicate a separate top-level section to it.\n",
        "\n",
        "For the ablation study, we are pre-processing the data to produce a spectrogram for each ECG signal and then passing this result into a 2-D ResNet-18v2. Then, the same pre-training and fine-tuning training from the paper is followed. The goal is to test how extensible the papers ideas are to other models and input types.\n",
        "\n",
        "## Spectrogram Preprocessing -\n",
        "For the spectrogram, the following parameters were chosen:\n",
        "\n",
        "- window_size: 256 (~1 second)\n",
        "- stride: 32 (~0.25 seconds)\n",
        "- window type: hanning -> this is like a pre-defined convolution that isused to smooth the FFTs for each spectrogram slice\n",
        "- normalization: remove mean from each sample\n",
        "- scale: linear (not db)\n",
        "\n"
      ]
    },
    {
      "cell_type": "markdown",
      "source": [
        "### Spectrogram preprocessing code\n",
        "The spectrogram pre-processing code and the data loaders for the pre-training can be found [here](https://github.com/myles-i/DLH_TransferLearning/blob/master/transplant/datasets/icentia11k_spectrogram.py).\n",
        "\n",
        "Below, we show the raw ECG signal next to the spectrogram of the same signal using our pre-processing function, and then use the spectrogram pre-processor on the same ECG signal presented in the earlier \"Data\" section.\n"
      ],
      "metadata": {
        "id": "IxN53_FbL-9j"
      }
    },
    {
      "cell_type": "code",
      "execution_count": 26,
      "metadata": {
        "colab": {
          "base_uri": "https://localhost:8080/",
          "height": 1000
        },
        "id": "cORhGYpy-3DF",
        "outputId": "61360df8-6558-44e7-9cbf-a2420804bbf2"
      },
      "outputs": [
        {
          "output_type": "stream",
          "name": "stdout",
          "text": [
            "beat label: normal\n"
          ]
        },
        {
          "output_type": "display_data",
          "data": {
            "text/plain": [
              "<Figure size 640x480 with 1 Axes>"
            ],
            "image/png": "[encoded data removed]"
          },
          "metadata": {}
        },
        {
          "output_type": "display_data",
          "data": {
            "text/plain": [
              "<Figure size 800x600 with 2 Axes>"
            ],
            "image/png": "[encoded data removed]"
          },
          "metadata": {}
        }
      ],
      "source": [
        "from pretraining import datasets\n",
        "from transplant.datasets.icentia11k_spectrogram import spectrogram_preprocessor\n",
        "# use raw data we grabbed earlier\n",
        "\n",
        "# first lets plot the raw signal for comparison\n",
        "print(f\"beat label: {datasets.icentia11k.ds_beat_names[data[1]]}\")\n",
        "_ = plt.plot(np.arange(len(data[0]))/250, data[0])\n",
        "_ = plt.xlabel('second')\n",
        "_ = plt.ylabel('ECG signal')\n",
        "\n",
        "\n",
        "# now lets calculate and plot the spectrogram of this raw signal\n",
        "x = spectrogram_preprocessor(np.squeeze(data[0]),\n",
        "                                    window_size = 256,\n",
        "                                    stride = 32,\n",
        "                                    n_freqs = 128,\n",
        "                                    fs = 250.,\n",
        "                                    ref = 1)\n",
        "fig, ax = plt.subplots(1, 1, figsize=(8, 6))\n",
        "im1 = ax.imshow(x, cmap='viridis', aspect='auto')\n",
        "fig.colorbar(im1, label=\"Magnitude $|S_x(t, f)|$\")\n",
        "ax.set_title(f\"Sample spectrogram of shape {x.shape}\")\n",
        "ax.set_xlabel(\"spectrogram slice #\")\n",
        "ax.set_ylabel(\"Frequency Index\")\n",
        "ax.invert_yaxis()\n",
        "plt.show()\n"
      ]
    },
    {
      "cell_type": "markdown",
      "metadata": {
        "id": "s_7HIzCq-OVs"
      },
      "source": [
        "\n",
        "### Ablation Model: 2-D ResNet-18v2\n",
        "The model chosen for the ablation study using spectrograms is similar to the original model used, but is a 2-D ResNet-18v2. It is presented here:\n",
        "\n",
        "TODO: Add citation to original paper\n",
        "TODO: Add link to the original paper's repo\n",
        "\n",
        "* Model architecture\n",
        "  * 18 layers\n",
        "  * Input layer consists of convolution layer with 64 filters, kernel size=7x7 and stride=2. The output of the convolution layer passes through batch norm, ReLu and maxpooling layer sequentially.\n",
        "  * The middle 16 layers consists of 8 residual blocks. A residual block consists of the following two components and outputs the sum of the two components' outputs.\n",
        "    1. Two convolution layers, each followed by batch norm and ReLu\n",
        "    2. A shortcut that passes the input through a convolution layer followed by batch norm.\n",
        "  * Output layer is a classifier consisting of a densely-connected layer followed by softmax or sigmoid function.\n",
        "  * Configurations of the residual blocks\n",
        "    * 1st and 2nd: 64 filters, kernel size=3x3, strides=2 and 1, respectively.\n",
        "    * 3rd and 4th: 128 filters, kernel size=3x3, strides=2 and 1, respectively.\n",
        "    * 5th and 6th: 256 filters, kernel size=3x3, strides=2 and 1, respectively.\n",
        "    * 7th and 8th: 512 filters, kernel size=3x3, strides=2 and 1, respectively.\n",
        "\n",
        "* Pre-training objectives\n",
        "  * The same as the original author's 1-D pre-training objectives.\n",
        "\n",
        "* Fine-tuning objectives\n",
        "  * The same as the original author's 1-D pre-training objectives (F1 score)\n",
        "\n",
        "The 2-D ResNet-18v2 [Implementation code can be found here](https://github.com/myles-i/DLH_TransferLearning/blob/master/transplant/modules/resnet2d.py).\n",
        "\n",
        "TODO: add pretrained model weights\n",
        "\n",
        "This model is built and displayed below for reference:\n",
        "  "
      ]
    },
    {
      "cell_type": "code",
      "execution_count": null,
      "metadata": {
        "colab": {
          "base_uri": "https://localhost:8080/"
        },
        "id": "vly2sx16FH9d",
        "outputId": "d7c72478-79de-4a2b-f374-af2621f0b1d3"
      },
      "outputs": [
        {
          "name": "stderr",
          "output_type": "stream",
          "text": [
            "WARNING:tensorflow:AutoGraph could not transform <bound method ResnetBlock.call of <transplant.modules.resnet2d.ResnetBlock object at 0x7bdf812ff190>> and will run it as-is.\n",
            "Cause: mangled names are not yet supported\n",
            "To silence this warning, decorate the function with @tf.autograph.experimental.do_not_convert\n"
          ]
        },
        {
          "name": "stdout",
          "output_type": "stream",
          "text": [
            "WARNING: AutoGraph could not transform <bound method ResnetBlock.call of <transplant.modules.resnet2d.ResnetBlock object at 0x7bdf812ff190>> and will run it as-is.\n",
            "Cause: mangled names are not yet supported\n",
            "To silence this warning, decorate the function with @tf.autograph.experimental.do_not_convert\n",
            "Model: \"res_net18_2d\"\n",
            "_________________________________________________________________\n",
            " Layer (type)                Output Shape              Param #   \n",
            "=================================================================\n",
            " conv2d (Conv2D)             multiple                  3200      \n",
            "                                                                 \n",
            " batch_normalization_2 (Bat  multiple                  256       \n",
            " chNormalization)                                                \n",
            "                                                                 \n",
            " max_pooling2d (MaxPooling2  multiple                  0         \n",
            " D)                                                              \n",
            "                                                                 \n",
            " resnet_block (ResnetBlock)  multiple                  74368     \n",
            "                                                                 \n",
            " resnet_block_1 (ResnetBloc  multiple                  74368     \n",
            " k)                                                              \n",
            "                                                                 \n",
            " resnet_block_2 (ResnetBloc  multiple                  231296    \n",
            " k)                                                              \n",
            "                                                                 \n",
            " resnet_block_3 (ResnetBloc  multiple                  296192    \n",
            " k)                                                              \n",
            "                                                                 \n",
            " resnet_block_4 (ResnetBloc  multiple                  921344    \n",
            " k)                                                              \n",
            "                                                                 \n",
            " resnet_block_5 (ResnetBloc  multiple                  1182208   \n",
            " k)                                                              \n",
            "                                                                 \n",
            " resnet_block_6 (ResnetBloc  multiple                  3677696   \n",
            " k)                                                              \n",
            "                                                                 \n",
            " resnet_block_7 (ResnetBloc  multiple                  4723712   \n",
            " k)                                                              \n",
            "                                                                 \n",
            " global_average_pooling2d (  multiple                  0         \n",
            " GlobalAveragePooling2D)                                         \n",
            "                                                                 \n",
            " flatten (Flatten)           multiple                  0         \n",
            "                                                                 \n",
            " dense_1 (Dense)             multiple                  2565      \n",
            "                                                                 \n",
            "=================================================================\n",
            "Total params: 11187205 (42.68 MB)\n",
            "Trainable params: 11177605 (42.64 MB)\n",
            "Non-trainable params: 9600 (37.50 KB)\n",
            "_________________________________________________________________\n"
          ]
        }
      ],
      "source": [
        "from transplant.modules.resnet2d import ResNet18_2D\n",
        "import transplant.datasets.icentia11k as icentia11k\n",
        "\n",
        "num_classes = len(icentia11k.ds_beat_names)\n",
        "model = ResNet18_2D(num_classes=num_classes)\n",
        "model.build(input_shape=(None, 64, 64, 1))\n",
        "model.compile(\n",
        "    optimizer=tf.keras.optimizers.Adam(beta_1=0.9, beta_2=0.98, epsilon=1e-9),\n",
        "    loss=tf.keras.losses.SparseCategoricalCrossentropy(from_logits=True),\n",
        "    metrics=[tf.keras.metrics.SparseCategoricalAccuracy(name='acc')]\n",
        ")\n",
        "model.summary(expand_nested=True)"
      ]
    },
    {
      "cell_type": "code",
      "execution_count": null,
      "metadata": {
        "id": "ahNT35N3tOCM"
      },
      "outputs": [],
      "source": []
    },
    {
      "cell_type": "markdown",
      "source": [
        "# Ablation Training\n",
        "## Hyperparameters\n",
        "To simplify the training and make comparisons easier, the same hyperparameters for pretraining and finetuning were used during the ablation study. These common paramters included the batch size and learning rates, sample rates, and frame size. The only different hyperparameters were those chosen for the pre-processing step. These are already listed in the preprocessing section.\n",
        "\n",
        "TODO consider updating this description if frame_size is different from pretraining if we use the 100% training\n",
        "\n",
        "## Computational Requirements\n",
        "The computational requirements of the ablation study were higher for two reasons:\n",
        "* the addition of the spectrogram preprocessing\n",
        "* a significanly larger model (11.2 million vs 4.5 million parameters)\n",
        "\n",
        "For this reason, the NVIDIA L4 GPU with 22.4Gb memory was chosen for for both pretraining and finetuning.\n",
        "\n",
        "### Pretraining\n",
        "Due to the increased computational requirements, the pretraining for the ablation took nearly twice as long as using the 1d Resnet\n",
        "* Average runtime per 1k patients: 2 hours, 36 minutes\n",
        "* Total number of trials: 1\n",
        "* GPU hours used: 4 hours, 51 minutes.\n",
        "    - Frame size 4096\n",
        "    - Training on 2048 patient data (about 20% of the Icentia11K dataset)\n",
        "* Number of training epochs: 1\n",
        "\n",
        "### Finetuning\n",
        "For fine-tuning, all of the data was preprocessed just once to reduce repeated computations during fine-tune training. The notebook to generate this data can be found [here](https://github.com/myles-i/DLH_TransferLearning/blob/master/jupyter_notebooks/finetuning_spectrogram_preprocess.ipynb)\n",
        "\n",
        "This reduced the extra computational burden of the ablation framework.\n",
        "* Average runtime for each epoch: 15 seconds\n",
        "* Total number of trials: 30\n",
        "    - 10 trials for each of the three scenarios: random, 10% and 20%.\n",
        "* GPU hours used: About 9 hours total.\n",
        "    - Random: 2.84 hours\n",
        "    - 10%: 3.1 hours\n",
        "    - 20%: 3.0 hours\n",
        "* Number of training epochs: Maximum 200 per trial, but in practice, saw early stopping by far fewer epochs\n",
        "    - Training for a single trial would typically complete within 20 minutes"
      ],
      "metadata": {
        "id": "Vc-7nub7Nvme"
      }
    },
    {
      "cell_type": "markdown",
      "source": [
        "## Training Code - commandline interface\n",
        "The spectrogram preprocessing and Resne2D are integrated into the original author's codebase in our clone of the repo. As such, the same commands that were presented earlier can be used, with small modifications\n",
        "\n",
        "### Pretraining:\n",
        " The only modification is the --arch (architecture) argument, which should be set to:\n",
        "\n",
        "--arch \"resnet18_2d\"\n",
        "\n",
        "### Finetuning:\n",
        "For finetuning, the same \"--arch\" modification is needed. Otherwise, the only difference is pointing the trainer to the correct, preprocessed spectrogram data files\n",
        "\n",
        "As an example, the preprocessing command is executed below using the same sample data as was used for the corresponding command in the 1dResNet section:\n"
      ],
      "metadata": {
        "id": "mcVgI-rOZ35d"
      }
    },
    {
      "cell_type": "code",
      "source": [
        "%%time\n",
        "# TODO fix this command... it is not interpreting the directories correctly\n",
        "!python -m pretraining.trainer \\\n",
        "--job-dir {PRETRAIN_JOB_DIR} \\\n",
        "--task \"beat\" \\\n",
        "--train {DEMO_DATA_DIR} \\\n",
        "--arch \"resnet18_2d\" \\\n",
        "--epochs 2 \\\n",
        "--patient-ids 0 \\\n",
        "--steps-per-epoch 8 \\\n",
        "--samples-per-patient 4096 \\\n",
        "--batch-size 256 \\\n",
        "--frame-size 1024 \\\n",
        "--unzipped True \\\n",
        "--seed 2024"
      ],
      "metadata": {
        "colab": {
          "base_uri": "https://localhost:8080/"
        },
        "id": "tJxAVlQbbXDi",
        "outputId": "ce339cd0-c943-4d68-9410-b8ae20d7b006"
      },
      "execution_count": 37,
      "outputs": [
        {
          "output_type": "stream",
          "name": "stdout",
          "text": [
            "2024-05-03 22:05:31.343790: E external/local_xla/xla/stream_executor/cuda/cuda_dnn.cc:9261] Unable to register cuDNN factory: Attempting to register factory for plugin cuDNN when one has already been registered\n",
            "2024-05-03 22:05:31.343846: E external/local_xla/xla/stream_executor/cuda/cuda_fft.cc:607] Unable to register cuFFT factory: Attempting to register factory for plugin cuFFT when one has already been registered\n",
            "2024-05-03 22:05:31.345143: E external/local_xla/xla/stream_executor/cuda/cuda_blas.cc:1515] Unable to register cuBLAS factory: Attempting to register factory for plugin cuBLAS when one has already been registered\n",
            "2024-05-03 22:05:32.342245: W tensorflow/compiler/tf2tensorrt/utils/py_utils.cc:38] TF-TRT Warning: Could not find TensorRT\n",
            "Creating working directory in {PRETRAIN_JOB_DIR}\n",
            "Setting random state 2024\n",
            "Building train data generators\n",
            "# Patient IDs:  1\n",
            "WARNING:tensorflow:From /tmp/repo/transplant/datasets/icentia11k_spectrogram.py:71: calling DatasetV2.from_generator (from tensorflow.python.data.ops.dataset_ops) with output_types is deprecated and will be removed in a future version.\n",
            "Instructions for updating:\n",
            "Use output_signature instead\n",
            "WARNING:tensorflow:From /tmp/repo/transplant/datasets/icentia11k_spectrogram.py:71: calling DatasetV2.from_generator (from tensorflow.python.data.ops.dataset_ops) with output_shapes is deprecated and will be removed in a future version.\n",
            "Instructions for updating:\n",
            "Use output_signature instead\n",
            "2024-05-03 22:05:33.825068: W tensorflow/core/common_runtime/gpu/gpu_bfc_allocator.cc:47] Overriding orig_value setting because the TF_FORCE_GPU_ALLOW_GROWTH environment variable is set. Original config value was 0.\n",
            "Building model ...\n",
            "WARNING:tensorflow:AutoGraph could not transform <bound method ResnetBlock.call of <transplant.modules.resnet2d.ResnetBlock object at 0x7c702228cd60>> and will run it as-is.\n",
            "Cause: mangled names are not yet supported\n",
            "To silence this warning, decorate the function with @tf.autograph.experimental.do_not_convert\n",
            "# model parameters: 11,187,205\n",
            "Epoch 1/2\n",
            "(1/100) Error loading patient 0: [Errno 2] No such file or directory: '{DEMO_DATA_DIR}/00000_batched.npy'\n",
            "(2/100) Error loading patient 0: [Errno 2] No such file or directory: '{DEMO_DATA_DIR}/00000_batched.npy'\n",
            "(3/100) Error loading patient 0: [Errno 2] No such file or directory: '{DEMO_DATA_DIR}/00000_batched.npy'\n",
            "(4/100) Error loading patient 0: [Errno 2] No such file or directory: '{DEMO_DATA_DIR}/00000_batched.npy'\n",
            "(5/100) Error loading patient 0: [Errno 2] No such file or directory: '{DEMO_DATA_DIR}/00000_batched.npy'\n",
            "(6/100) Error loading patient 0: [Errno 2] No such file or directory: '{DEMO_DATA_DIR}/00000_batched.npy'\n",
            "(7/100) Error loading patient 0: [Errno 2] No such file or directory: '{DEMO_DATA_DIR}/00000_batched.npy'\n",
            "(8/100) Error loading patient 0: [Errno 2] No such file or directory: '{DEMO_DATA_DIR}/00000_batched.npy'\n",
            "(9/100) Error loading patient 0: [Errno 2] No such file or directory: '{DEMO_DATA_DIR}/00000_batched.npy'\n",
            "(10/100) Error loading patient 0: [Errno 2] No such file or directory: '{DEMO_DATA_DIR}/00000_batched.npy'\n",
            "(11/100) Error loading patient 0: [Errno 2] No such file or directory: '{DEMO_DATA_DIR}/00000_batched.npy'\n",
            "(12/100) Error loading patient 0: [Errno 2] No such file or directory: '{DEMO_DATA_DIR}/00000_batched.npy'\n",
            "(13/100) Error loading patient 0: [Errno 2] No such file or directory: '{DEMO_DATA_DIR}/00000_batched.npy'\n",
            "(14/100) Error loading patient 0: [Errno 2] No such file or directory: '{DEMO_DATA_DIR}/00000_batched.npy'\n",
            "(15/100) Error loading patient 0: [Errno 2] No such file or directory: '{DEMO_DATA_DIR}/00000_batched.npy'\n",
            "(16/100) Error loading patient 0: [Errno 2] No such file or directory: '{DEMO_DATA_DIR}/00000_batched.npy'\n",
            "(17/100) Error loading patient 0: [Errno 2] No such file or directory: '{DEMO_DATA_DIR}/00000_batched.npy'\n",
            "(18/100) Error loading patient 0: [Errno 2] No such file or directory: '{DEMO_DATA_DIR}/00000_batched.npy'\n",
            "(19/100) Error loading patient 0: [Errno 2] No such file or directory: '{DEMO_DATA_DIR}/00000_batched.npy'\n",
            "(20/100) Error loading patient 0: [Errno 2] No such file or directory: '{DEMO_DATA_DIR}/00000_batched.npy'\n",
            "(21/100) Error loading patient 0: [Errno 2] No such file or directory: '{DEMO_DATA_DIR}/00000_batched.npy'\n",
            "(22/100) Error loading patient 0: [Errno 2] No such file or directory: '{DEMO_DATA_DIR}/00000_batched.npy'\n",
            "(23/100) Error loading patient 0: [Errno 2] No such file or directory: '{DEMO_DATA_DIR}/00000_batched.npy'\n",
            "(24/100) Error loading patient 0: [Errno 2] No such file or directory: '{DEMO_DATA_DIR}/00000_batched.npy'\n",
            "(25/100) Error loading patient 0: [Errno 2] No such file or directory: '{DEMO_DATA_DIR}/00000_batched.npy'\n",
            "(26/100) Error loading patient 0: [Errno 2] No such file or directory: '{DEMO_DATA_DIR}/00000_batched.npy'\n",
            "(27/100) Error loading patient 0: [Errno 2] No such file or directory: '{DEMO_DATA_DIR}/00000_batched.npy'\n",
            "(28/100) Error loading patient 0: [Errno 2] No such file or directory: '{DEMO_DATA_DIR}/00000_batched.npy'\n",
            "(29/100) Error loading patient 0: [Errno 2] No such file or directory: '{DEMO_DATA_DIR}/00000_batched.npy'\n",
            "(30/100) Error loading patient 0: [Errno 2] No such file or directory: '{DEMO_DATA_DIR}/00000_batched.npy'\n",
            "(31/100) Error loading patient 0: [Errno 2] No such file or directory: '{DEMO_DATA_DIR}/00000_batched.npy'\n",
            "(32/100) Error loading patient 0: [Errno 2] No such file or directory: '{DEMO_DATA_DIR}/00000_batched.npy'\n",
            "(33/100) Error loading patient 0: [Errno 2] No such file or directory: '{DEMO_DATA_DIR}/00000_batched.npy'\n",
            "(34/100) Error loading patient 0: [Errno 2] No such file or directory: '{DEMO_DATA_DIR}/00000_batched.npy'\n",
            "(35/100) Error loading patient 0: [Errno 2] No such file or directory: '{DEMO_DATA_DIR}/00000_batched.npy'\n",
            "(36/100) Error loading patient 0: [Errno 2] No such file or directory: '{DEMO_DATA_DIR}/00000_batched.npy'\n",
            "(37/100) Error loading patient 0: [Errno 2] No such file or directory: '{DEMO_DATA_DIR}/00000_batched.npy'\n",
            "(38/100) Error loading patient 0: [Errno 2] No such file or directory: '{DEMO_DATA_DIR}/00000_batched.npy'\n",
            "(39/100) Error loading patient 0: [Errno 2] No such file or directory: '{DEMO_DATA_DIR}/00000_batched.npy'\n",
            "(40/100) Error loading patient 0: [Errno 2] No such file or directory: '{DEMO_DATA_DIR}/00000_batched.npy'\n",
            "(41/100) Error loading patient 0: [Errno 2] No such file or directory: '{DEMO_DATA_DIR}/00000_batched.npy'\n",
            "(42/100) Error loading patient 0: [Errno 2] No such file or directory: '{DEMO_DATA_DIR}/00000_batched.npy'\n",
            "(43/100) Error loading patient 0: [Errno 2] No such file or directory: '{DEMO_DATA_DIR}/00000_batched.npy'\n",
            "(44/100) Error loading patient 0: [Errno 2] No such file or directory: '{DEMO_DATA_DIR}/00000_batched.npy'\n",
            "(45/100) Error loading patient 0: [Errno 2] No such file or directory: '{DEMO_DATA_DIR}/00000_batched.npy'\n",
            "(46/100) Error loading patient 0: [Errno 2] No such file or directory: '{DEMO_DATA_DIR}/00000_batched.npy'\n",
            "(47/100) Error loading patient 0: [Errno 2] No such file or directory: '{DEMO_DATA_DIR}/00000_batched.npy'\n",
            "(48/100) Error loading patient 0: [Errno 2] No such file or directory: '{DEMO_DATA_DIR}/00000_batched.npy'\n",
            "(49/100) Error loading patient 0: [Errno 2] No such file or directory: '{DEMO_DATA_DIR}/00000_batched.npy'\n",
            "(50/100) Error loading patient 0: [Errno 2] No such file or directory: '{DEMO_DATA_DIR}/00000_batched.npy'\n",
            "(51/100) Error loading patient 0: [Errno 2] No such file or directory: '{DEMO_DATA_DIR}/00000_batched.npy'\n",
            "(52/100) Error loading patient 0: [Errno 2] No such file or directory: '{DEMO_DATA_DIR}/00000_batched.npy'\n",
            "(53/100) Error loading patient 0: [Errno 2] No such file or directory: '{DEMO_DATA_DIR}/00000_batched.npy'\n",
            "(54/100) Error loading patient 0: [Errno 2] No such file or directory: '{DEMO_DATA_DIR}/00000_batched.npy'\n",
            "(55/100) Error loading patient 0: [Errno 2] No such file or directory: '{DEMO_DATA_DIR}/00000_batched.npy'\n",
            "(56/100) Error loading patient 0: [Errno 2] No such file or directory: '{DEMO_DATA_DIR}/00000_batched.npy'\n",
            "(57/100) Error loading patient 0: [Errno 2] No such file or directory: '{DEMO_DATA_DIR}/00000_batched.npy'\n",
            "(58/100) Error loading patient 0: [Errno 2] No such file or directory: '{DEMO_DATA_DIR}/00000_batched.npy'\n",
            "(59/100) Error loading patient 0: [Errno 2] No such file or directory: '{DEMO_DATA_DIR}/00000_batched.npy'\n",
            "(60/100) Error loading patient 0: [Errno 2] No such file or directory: '{DEMO_DATA_DIR}/00000_batched.npy'\n",
            "(61/100) Error loading patient 0: [Errno 2] No such file or directory: '{DEMO_DATA_DIR}/00000_batched.npy'\n",
            "(62/100) Error loading patient 0: [Errno 2] No such file or directory: '{DEMO_DATA_DIR}/00000_batched.npy'\n",
            "(63/100) Error loading patient 0: [Errno 2] No such file or directory: '{DEMO_DATA_DIR}/00000_batched.npy'\n",
            "(64/100) Error loading patient 0: [Errno 2] No such file or directory: '{DEMO_DATA_DIR}/00000_batched.npy'\n",
            "(65/100) Error loading patient 0: [Errno 2] No such file or directory: '{DEMO_DATA_DIR}/00000_batched.npy'\n",
            "(66/100) Error loading patient 0: [Errno 2] No such file or directory: '{DEMO_DATA_DIR}/00000_batched.npy'\n",
            "(67/100) Error loading patient 0: [Errno 2] No such file or directory: '{DEMO_DATA_DIR}/00000_batched.npy'\n",
            "(68/100) Error loading patient 0: [Errno 2] No such file or directory: '{DEMO_DATA_DIR}/00000_batched.npy'\n",
            "(69/100) Error loading patient 0: [Errno 2] No such file or directory: '{DEMO_DATA_DIR}/00000_batched.npy'\n",
            "(70/100) Error loading patient 0: [Errno 2] No such file or directory: '{DEMO_DATA_DIR}/00000_batched.npy'\n",
            "(71/100) Error loading patient 0: [Errno 2] No such file or directory: '{DEMO_DATA_DIR}/00000_batched.npy'\n",
            "(72/100) Error loading patient 0: [Errno 2] No such file or directory: '{DEMO_DATA_DIR}/00000_batched.npy'\n",
            "(73/100) Error loading patient 0: [Errno 2] No such file or directory: '{DEMO_DATA_DIR}/00000_batched.npy'\n",
            "(74/100) Error loading patient 0: [Errno 2] No such file or directory: '{DEMO_DATA_DIR}/00000_batched.npy'\n",
            "(75/100) Error loading patient 0: [Errno 2] No such file or directory: '{DEMO_DATA_DIR}/00000_batched.npy'\n",
            "(76/100) Error loading patient 0: [Errno 2] No such file or directory: '{DEMO_DATA_DIR}/00000_batched.npy'\n",
            "(77/100) Error loading patient 0: [Errno 2] No such file or directory: '{DEMO_DATA_DIR}/00000_batched.npy'\n",
            "(78/100) Error loading patient 0: [Errno 2] No such file or directory: '{DEMO_DATA_DIR}/00000_batched.npy'\n",
            "(79/100) Error loading patient 0: [Errno 2] No such file or directory: '{DEMO_DATA_DIR}/00000_batched.npy'\n",
            "(80/100) Error loading patient 0: [Errno 2] No such file or directory: '{DEMO_DATA_DIR}/00000_batched.npy'\n",
            "(81/100) Error loading patient 0: [Errno 2] No such file or directory: '{DEMO_DATA_DIR}/00000_batched.npy'\n",
            "(82/100) Error loading patient 0: [Errno 2] No such file or directory: '{DEMO_DATA_DIR}/00000_batched.npy'\n",
            "(83/100) Error loading patient 0: [Errno 2] No such file or directory: '{DEMO_DATA_DIR}/00000_batched.npy'\n",
            "(84/100) Error loading patient 0: [Errno 2] No such file or directory: '{DEMO_DATA_DIR}/00000_batched.npy'\n",
            "(85/100) Error loading patient 0: [Errno 2] No such file or directory: '{DEMO_DATA_DIR}/00000_batched.npy'\n",
            "(86/100) Error loading patient 0: [Errno 2] No such file or directory: '{DEMO_DATA_DIR}/00000_batched.npy'\n",
            "(87/100) Error loading patient 0: [Errno 2] No such file or directory: '{DEMO_DATA_DIR}/00000_batched.npy'\n",
            "(88/100) Error loading patient 0: [Errno 2] No such file or directory: '{DEMO_DATA_DIR}/00000_batched.npy'\n",
            "(89/100) Error loading patient 0: [Errno 2] No such file or directory: '{DEMO_DATA_DIR}/00000_batched.npy'\n",
            "(90/100) Error loading patient 0: [Errno 2] No such file or directory: '{DEMO_DATA_DIR}/00000_batched.npy'\n",
            "(91/100) Error loading patient 0: [Errno 2] No such file or directory: '{DEMO_DATA_DIR}/00000_batched.npy'\n",
            "(92/100) Error loading patient 0: [Errno 2] No such file or directory: '{DEMO_DATA_DIR}/00000_batched.npy'\n",
            "(93/100) Error loading patient 0: [Errno 2] No such file or directory: '{DEMO_DATA_DIR}/00000_batched.npy'\n",
            "(94/100) Error loading patient 0: [Errno 2] No such file or directory: '{DEMO_DATA_DIR}/00000_batched.npy'\n",
            "(95/100) Error loading patient 0: [Errno 2] No such file or directory: '{DEMO_DATA_DIR}/00000_batched.npy'\n",
            "(96/100) Error loading patient 0: [Errno 2] No such file or directory: '{DEMO_DATA_DIR}/00000_batched.npy'\n",
            "(97/100) Error loading patient 0: [Errno 2] No such file or directory: '{DEMO_DATA_DIR}/00000_batched.npy'\n",
            "(98/100) Error loading patient 0: [Errno 2] No such file or directory: '{DEMO_DATA_DIR}/00000_batched.npy'\n",
            "(99/100) Error loading patient 0: [Errno 2] No such file or directory: '{DEMO_DATA_DIR}/00000_batched.npy'\n",
            "(100/100) Error loading patient 0: [Errno 2] No such file or directory: '{DEMO_DATA_DIR}/00000_batched.npy'\n",
            "(101/100) Error loading patient 0: [Errno 2] No such file or directory: '{DEMO_DATA_DIR}/00000_batched.npy'\n",
            "2024-05-03 22:05:42.389704: W tensorflow/core/framework/op_kernel.cc:1827] UNKNOWN: FileNotFoundError: [Errno 2] No such file or directory: '{DEMO_DATA_DIR}/00000_batched.npy'\n",
            "Traceback (most recent call last):\n",
            "\n",
            "  File \"/usr/local/lib/python3.10/dist-packages/tensorflow/python/ops/script_ops.py\", line 270, in __call__\n",
            "    ret = func(*args)\n",
            "\n",
            "  File \"/usr/local/lib/python3.10/dist-packages/tensorflow/python/autograph/impl/api.py\", line 643, in wrapper\n",
            "    return func(*args, **kwargs)\n",
            "\n",
            "  File \"/usr/local/lib/python3.10/dist-packages/tensorflow/python/data/ops/from_generator_op.py\", line 198, in generator_py_func\n",
            "    values = next(generator_state.get_iterator(iterator_id))\n",
            "\n",
            "  File \"/tmp/repo/transplant/datasets/icentia11k_spectrogram.py\", line 35, in spectrogram_beat_generator\n",
            "    for _, (signal, labels) in patient_generator:\n",
            "\n",
            "  File \"/tmp/repo/transplant/datasets/icentia11k.py\", line 285, in uniform_patient_generator\n",
            "    raise e\n",
            "\n",
            "  File \"/tmp/repo/transplant/datasets/icentia11k.py\", line 280, in uniform_patient_generator\n",
            "    patient_data = load_patient_data(db_dir, patient_id, include_labels=include_labels, unzipped=unzipped)\n",
            "\n",
            "  File \"/tmp/repo/transplant/datasets/icentia11k.py\", line 372, in load_patient_data\n",
            "    signal = load_signal(db_dir, patient_id, unzipped=unzipped)\n",
            "\n",
            "  File \"/tmp/repo/transplant/datasets/icentia11k.py\", line 392, in load_signal\n",
            "    signal = np.load(os.path.join(db_dir, '{:05d}_batched.npy'.format(patient_id)), mmap_mode=mmap_mode)\n",
            "\n",
            "  File \"/usr/local/lib/python3.10/dist-packages/numpy/lib/npyio.py\", line 427, in load\n",
            "    fid = stack.enter_context(open(os_fspath(file), \"rb\"))\n",
            "\n",
            "FileNotFoundError: [Errno 2] No such file or directory: '{DEMO_DATA_DIR}/00000_batched.npy'\n",
            "\n",
            "\n",
            "Traceback (most recent call last):\n",
            "  File \"/usr/lib/python3.10/runpy.py\", line 196, in _run_module_as_main\n",
            "    return _run_code(code, main_globals, None,\n",
            "  File \"/usr/lib/python3.10/runpy.py\", line 86, in _run_code\n",
            "    exec(code, run_globals)\n",
            "  File \"/tmp/repo/pretraining/trainer.py\", line 260, in <module>\n",
            "    model.fit(train_data, steps_per_epoch=steps_per_epoch, verbose=2, epochs=args.epochs,\n",
            "  File \"/usr/local/lib/python3.10/dist-packages/keras/src/utils/traceback_utils.py\", line 70, in error_handler\n",
            "    raise e.with_traceback(filtered_tb) from None\n",
            "  File \"/usr/local/lib/python3.10/dist-packages/tensorflow/python/eager/execute.py\", line 53, in quick_execute\n",
            "    tensors = pywrap_tfe.TFE_Py_Execute(ctx._handle, device_name, op_name,\n",
            "tensorflow.python.framework.errors_impl.UnknownError: Graph execution error:\n",
            "\n",
            "Detected at node PyFunc defined at (most recent call last):\n",
            "<stack traces unavailable>\n",
            "Detected at node PyFunc defined at (most recent call last):\n",
            "<stack traces unavailable>\n",
            "2 root error(s) found.\n",
            "  (0) UNKNOWN:  FileNotFoundError: [Errno 2] No such file or directory: '{DEMO_DATA_DIR}/00000_batched.npy'\n",
            "Traceback (most recent call last):\n",
            "\n",
            "  File \"/usr/local/lib/python3.10/dist-packages/tensorflow/python/ops/script_ops.py\", line 270, in __call__\n",
            "    ret = func(*args)\n",
            "\n",
            "  File \"/usr/local/lib/python3.10/dist-packages/tensorflow/python/autograph/impl/api.py\", line 643, in wrapper\n",
            "    return func(*args, **kwargs)\n",
            "\n",
            "  File \"/usr/local/lib/python3.10/dist-packages/tensorflow/python/data/ops/from_generator_op.py\", line 198, in generator_py_func\n",
            "    values = next(generator_state.get_iterator(iterator_id))\n",
            "\n",
            "  File \"/tmp/repo/transplant/datasets/icentia11k_spectrogram.py\", line 35, in spectrogram_beat_generator\n",
            "    for _, (signal, labels) in patient_generator:\n",
            "\n",
            "  File \"/tmp/repo/transplant/datasets/icentia11k.py\", line 285, in uniform_patient_generator\n",
            "    raise e\n",
            "\n",
            "  File \"/tmp/repo/transplant/datasets/icentia11k.py\", line 280, in uniform_patient_generator\n",
            "    patient_data = load_patient_data(db_dir, patient_id, include_labels=include_labels, unzipped=unzipped)\n",
            "\n",
            "  File \"/tmp/repo/transplant/datasets/icentia11k.py\", line 372, in load_patient_data\n",
            "    signal = load_signal(db_dir, patient_id, unzipped=unzipped)\n",
            "\n",
            "  File \"/tmp/repo/transplant/datasets/icentia11k.py\", line 392, in load_signal\n",
            "    signal = np.load(os.path.join(db_dir, '{:05d}_batched.npy'.format(patient_id)), mmap_mode=mmap_mode)\n",
            "\n",
            "  File \"/usr/local/lib/python3.10/dist-packages/numpy/lib/npyio.py\", line 427, in load\n",
            "    fid = stack.enter_context(open(os_fspath(file), \"rb\"))\n",
            "\n",
            "FileNotFoundError: [Errno 2] No such file or directory: '{DEMO_DATA_DIR}/00000_batched.npy'\n",
            "\n",
            "\n",
            "\t [[{{node PyFunc}}]]\n",
            "\t [[MultiDeviceIteratorGetNextFromShard]]\n",
            "\t [[RemoteCall]]\n",
            "\t [[IteratorGetNextAsOptional]]\n",
            "\t [[OptionalHasValue/_3]]\n",
            "  (1) UNKNOWN:  FileNotFoundError: [Errno 2] No such file or directory: '{DEMO_DATA_DIR}/00000_batched.npy'\n",
            "Traceback (most recent call last):\n",
            "\n",
            "  File \"/usr/local/lib/python3.10/dist-packages/tensorflow/python/ops/script_ops.py\", line 270, in __call__\n",
            "    ret = func(*args)\n",
            "\n",
            "  File \"/usr/local/lib/python3.10/dist-packages/tensorflow/python/autograph/impl/api.py\", line 643, in wrapper\n",
            "    return func(*args, **kwargs)\n",
            "\n",
            "  File \"/usr/local/lib/python3.10/dist-packages/tensorflow/python/data/ops/from_generator_op.py\", line 198, in generator_py_func\n",
            "    values = next(generator_state.get_iterator(iterator_id))\n",
            "\n",
            "  File \"/tmp/repo/transplant/datasets/icentia11k_spectrogram.py\", line 35, in spectrogram_beat_generator\n",
            "    for _, (signal, labels) in patient_generator:\n",
            "\n",
            "  File \"/tmp/repo/transplant/datasets/icentia11k.py\", line 285, in uniform_patient_generator\n",
            "    raise e\n",
            "\n",
            "  File \"/tmp/repo/transplant/datasets/icentia11k.py\", line 280, in uniform_patient_generator\n",
            "    patient_data = load_patient_data(db_dir, patient_id, include_labels=include_labels, unzipped=unzipped)\n",
            "\n",
            "  File \"/tmp/repo/transplant/datasets/icentia11k.py\", line 372, in load_patient_data\n",
            "    signal = load_signal(db_dir, patient_id, unzipped=unzipped)\n",
            "\n",
            "  File \"/tmp/repo/transplant/datasets/icentia11k.py\", line 392, in load_signal\n",
            "    signal = np.load(os.path.join(db_dir, '{:05d}_batched.npy'.format(patient_id)), mmap_mode=mmap_mode)\n",
            "\n",
            "  File \"/usr/local/lib/python3.10/dist-packages/numpy/lib/npyio.py\", line 427, in load\n",
            "    fid = stack.enter_context(open(os_fspath(file), \"rb\"))\n",
            "\n",
            "FileNotFoundError: [Errno 2] No such file or directory: '{DEMO_DATA_DIR}/00000_batched.npy'\n",
            "\n",
            "\n",
            "\t [[{{node PyFunc}}]]\n",
            "\t [[MultiDeviceIteratorGetNextFromShard]]\n",
            "\t [[RemoteCall]]\n",
            "\t [[IteratorGetNextAsOptional]]\n",
            "0 successful operations.\n",
            "0 derived errors ignored. [Op:__inference_train_function_11954]\n",
            "Exception ignored in: <function AtomicFunction.__del__ at 0x7c704e4fb880>\n",
            "Traceback (most recent call last):\n",
            "  File \"/usr/local/lib/python3.10/dist-packages/tensorflow/python/eager/polymorphic_function/atomic_function.py\", line 291, in __del__\n",
            "TypeError: 'NoneType' object is not subscriptable\n",
            "CPU times: user 89.9 ms, sys: 18.9 ms, total: 109 ms\n",
            "Wall time: 13.2 s\n"
          ]
        }
      ]
    },
    {
      "cell_type": "markdown",
      "metadata": {
        "id": "78HXiHn44rm0"
      },
      "source": [
        "### Results"
      ]
    },
    {
      "cell_type": "markdown",
      "metadata": {
        "id": "CzBs708q7u5w"
      },
      "source": [
        "Similar to reproducing the paper's result with 1-D ResNet-18, We fine-tuned the the 2-D ResNet with following three types of weight initilization:\n",
        "*  Random initialization\n",
        "*  Pre-training weights from training with 10% of the data\n",
        "*  Pre-training weights from training with 20% of the data\n",
        "\n",
        "Then we evaluated the each model's performance with macro F1 score collected in the following two scenarios:\n",
        "*  Validation set during fine-tuning training.\n",
        "*  Test set using the model with the highest validation macro F1 score.\n",
        "\n",
        "The approach to collect macro F1 score for fine-tuning and testing the model for each weight type is identical to that of the paper resutl reproduction. We also saved all resutls to csv and pickle for convenience."
      ]
    },
    {
      "cell_type": "code",
      "execution_count": null,
      "metadata": {
        "colab": {
          "base_uri": "https://localhost:8080/"
        },
        "id": "ajWpqlVm5VXn",
        "outputId": "70238ab2-7eb2-4881-8237-4a9bd7a1e1d6"
      },
      "outputs": [
        {
          "name": "stdout",
          "output_type": "stream",
          "text": [
            "CPU times: user 36.1 ms, sys: 3.08 ms, total: 39.2 ms\n",
            "Wall time: 4.52 s\n"
          ]
        }
      ],
      "source": [
        "%%time\n",
        "%%capture\n",
        "RESULT2D_DIR = '/tmp/results2d/'\n",
        "!mkdir -p {RESULT2D_DIR}\n",
        "!gdown 1-3cjLjMC2GR_aL6U-U6okufYu3XgPSiA -O {RESULT2D_DIR} --folder"
      ]
    },
    {
      "cell_type": "markdown",
      "metadata": {
        "id": "RvvB9KbO98Bw"
      },
      "source": [
        "#### Table 3: Epoch Comparison"
      ]
    },
    {
      "cell_type": "code",
      "execution_count": null,
      "metadata": {
        "colab": {
          "base_uri": "https://localhost:8080/",
          "height": 143
        },
        "id": "eiNr-HrP6yX4",
        "outputId": "56516901-a490-47f7-b47e-37eca52caf0f"
      },
      "outputs": [
        {
          "data": {
            "application/vnd.google.colaboratory.intrinsic+json": {
              "summary": "{\n  \"name\": \"make_epoch_table(history_all)\",\n  \"rows\": 3,\n  \"fields\": [\n    {\n      \"column\": \"Type\",\n      \"properties\": {\n        \"dtype\": \"string\",\n        \"num_unique_values\": 3,\n        \"samples\": [\n          \"Random\",\n          \"Pre-train 10\",\n          \"Pre-train 20\"\n        ],\n        \"semantic_type\": \"\",\n        \"description\": \"\"\n      }\n    },\n    {\n      \"column\": \"Mean\",\n      \"properties\": {\n        \"dtype\": \"number\",\n        \"std\": 2.651414716712569,\n        \"min\": 59.2,\n        \"max\": 64.5,\n        \"num_unique_values\": 3,\n        \"samples\": [\n          59.2,\n          64.5,\n          62.0\n        ],\n        \"semantic_type\": \"\",\n        \"description\": \"\"\n      }\n    },\n    {\n      \"column\": \"Std\",\n      \"properties\": {\n        \"dtype\": \"number\",\n        \"std\": 0.5686240703077328,\n        \"min\": 3.6,\n        \"max\": 4.7,\n        \"num_unique_values\": 3,\n        \"samples\": [\n          3.9,\n          4.7,\n          3.6\n        ],\n        \"semantic_type\": \"\",\n        \"description\": \"\"\n      }\n    }\n  ]\n}",
              "type": "dataframe"
            },
            "text/html": [
              "\n",
              "  <div id=\"df-f41614c0-f259-40ff-a0c8-984316668323\" class=\"colab-df-container\">\n",
              "    <div>\n",
              "<style scoped>\n",
              "    .dataframe tbody tr th:only-of-type {\n",
              "        vertical-align: middle;\n",
              "    }\n",
              "\n",
              "    .dataframe tbody tr th {\n",
              "        vertical-align: top;\n",
              "    }\n",
              "\n",
              "    .dataframe thead th {\n",
              "        text-align: right;\n",
              "    }\n",
              "</style>\n",
              "<table border=\"1\" class=\"dataframe\">\n",
              "  <thead>\n",
              "    <tr style=\"text-align: right;\">\n",
              "      <th></th>\n",
              "      <th>Type</th>\n",
              "      <th>Mean</th>\n",
              "      <th>Std</th>\n",
              "    </tr>\n",
              "  </thead>\n",
              "  <tbody>\n",
              "    <tr>\n",
              "      <th>0</th>\n",
              "      <td>Random</td>\n",
              "      <td>59.2</td>\n",
              "      <td>3.9</td>\n",
              "    </tr>\n",
              "    <tr>\n",
              "      <th>1</th>\n",
              "      <td>Pre-train 10</td>\n",
              "      <td>64.5</td>\n",
              "      <td>4.7</td>\n",
              "    </tr>\n",
              "    <tr>\n",
              "      <th>2</th>\n",
              "      <td>Pre-train 20</td>\n",
              "      <td>62.0</td>\n",
              "      <td>3.6</td>\n",
              "    </tr>\n",
              "  </tbody>\n",
              "</table>\n",
              "</div>\n",
              "    <div class=\"colab-df-buttons\">\n",
              "\n",
              "  <div class=\"colab-df-container\">\n",
              "    <button class=\"colab-df-convert\" onclick=\"convertToInteractive('df-f41614c0-f259-40ff-a0c8-984316668323')\"\n",
              "            title=\"Convert this dataframe to an interactive table.\"\n",
              "            style=\"display:none;\">\n",
              "\n",
              "  <svg xmlns=\"http://www.w3.org/2000/svg\" height=\"24px\" viewBox=\"0 -960 960 960\">\n",
              "    <path d=\"M120-120v-720h720v720H120Zm60-500h600v-160H180v160Zm220 220h160v-160H400v160Zm0 220h160v-160H400v160ZM180-400h160v-160H180v160Zm440 0h160v-160H620v160ZM180-180h160v-160H180v160Zm440 0h160v-160H620v160Z\"/>\n",
              "  </svg>\n",
              "    </button>\n",
              "\n",
              "  <style>\n",
              "    .colab-df-container {\n",
              "      display:flex;\n",
              "      gap: 12px;\n",
              "    }\n",
              "\n",
              "    .colab-df-convert {\n",
              "      background-color: #E8F0FE;\n",
              "      border: none;\n",
              "      border-radius: 50%;\n",
              "      cursor: pointer;\n",
              "      display: none;\n",
              "      fill: #1967D2;\n",
              "      height: 32px;\n",
              "      padding: 0 0 0 0;\n",
              "      width: 32px;\n",
              "    }\n",
              "\n",
              "    .colab-df-convert:hover {\n",
              "      background-color: #E2EBFA;\n",
              "      box-shadow: 0px 1px 2px rgba(60, 64, 67, 0.3), 0px 1px 3px 1px rgba(60, 64, 67, 0.15);\n",
              "      fill: #174EA6;\n",
              "    }\n",
              "\n",
              "    .colab-df-buttons div {\n",
              "      margin-bottom: 4px;\n",
              "    }\n",
              "\n",
              "    [theme=dark] .colab-df-convert {\n",
              "      background-color: #3B4455;\n",
              "      fill: #D2E3FC;\n",
              "    }\n",
              "\n",
              "    [theme=dark] .colab-df-convert:hover {\n",
              "      background-color: #434B5C;\n",
              "      box-shadow: 0px 1px 3px 1px rgba(0, 0, 0, 0.15);\n",
              "      filter: drop-shadow(0px 1px 2px rgba(0, 0, 0, 0.3));\n",
              "      fill: #FFFFFF;\n",
              "    }\n",
              "  </style>\n",
              "\n",
              "    <script>\n",
              "      const buttonEl =\n",
              "        document.querySelector('#df-f41614c0-f259-40ff-a0c8-984316668323 button.colab-df-convert');\n",
              "      buttonEl.style.display =\n",
              "        google.colab.kernel.accessAllowed ? 'block' : 'none';\n",
              "\n",
              "      async function convertToInteractive(key) {\n",
              "        const element = document.querySelector('#df-f41614c0-f259-40ff-a0c8-984316668323');\n",
              "        const dataTable =\n",
              "          await google.colab.kernel.invokeFunction('convertToInteractive',\n",
              "                                                    [key], {});\n",
              "        if (!dataTable) return;\n",
              "\n",
              "        const docLinkHtml = 'Like what you see? Visit the ' +\n",
              "          '<a target=\"_blank\" href=https://colab.research.google.com/notebooks/data_table.ipynb>data table notebook</a>'\n",
              "          + ' to learn more about interactive tables.';\n",
              "        element.innerHTML = '';\n",
              "        dataTable['output_type'] = 'display_data';\n",
              "        await google.colab.output.renderOutput(dataTable, element);\n",
              "        const docLink = document.createElement('div');\n",
              "        docLink.innerHTML = docLinkHtml;\n",
              "        element.appendChild(docLink);\n",
              "      }\n",
              "    </script>\n",
              "  </div>\n",
              "\n",
              "\n",
              "<div id=\"df-a0566434-0a79-443e-838d-de4d11e4ccff\">\n",
              "  <button class=\"colab-df-quickchart\" onclick=\"quickchart('df-a0566434-0a79-443e-838d-de4d11e4ccff')\"\n",
              "            title=\"Suggest charts\"\n",
              "            style=\"display:none;\">\n",
              "\n",
              "<svg xmlns=\"http://www.w3.org/2000/svg\" height=\"24px\"viewBox=\"0 0 24 24\"\n",
              "     width=\"24px\">\n",
              "    <g>\n",
              "        <path d=\"M19 3H5c-1.1 0-2 .9-2 2v14c0 1.1.9 2 2 2h14c1.1 0 2-.9 2-2V5c0-1.1-.9-2-2-2zM9 17H7v-7h2v7zm4 0h-2V7h2v10zm4 0h-2v-4h2v4z\"/>\n",
              "    </g>\n",
              "</svg>\n",
              "  </button>\n",
              "\n",
              "<style>\n",
              "  .colab-df-quickchart {\n",
              "      --bg-color: #E8F0FE;\n",
              "      --fill-color: #1967D2;\n",
              "      --hover-bg-color: #E2EBFA;\n",
              "      --hover-fill-color: #174EA6;\n",
              "      --disabled-fill-color: #AAA;\n",
              "      --disabled-bg-color: #DDD;\n",
              "  }\n",
              "\n",
              "  [theme=dark] .colab-df-quickchart {\n",
              "      --bg-color: #3B4455;\n",
              "      --fill-color: #D2E3FC;\n",
              "      --hover-bg-color: #434B5C;\n",
              "      --hover-fill-color: #FFFFFF;\n",
              "      --disabled-bg-color: #3B4455;\n",
              "      --disabled-fill-color: #666;\n",
              "  }\n",
              "\n",
              "  .colab-df-quickchart {\n",
              "    background-color: var(--bg-color);\n",
              "    border: none;\n",
              "    border-radius: 50%;\n",
              "    cursor: pointer;\n",
              "    display: none;\n",
              "    fill: var(--fill-color);\n",
              "    height: 32px;\n",
              "    padding: 0;\n",
              "    width: 32px;\n",
              "  }\n",
              "\n",
              "  .colab-df-quickchart:hover {\n",
              "    background-color: var(--hover-bg-color);\n",
              "    box-shadow: 0 1px 2px rgba(60, 64, 67, 0.3), 0 1px 3px 1px rgba(60, 64, 67, 0.15);\n",
              "    fill: var(--button-hover-fill-color);\n",
              "  }\n",
              "\n",
              "  .colab-df-quickchart-complete:disabled,\n",
              "  .colab-df-quickchart-complete:disabled:hover {\n",
              "    background-color: var(--disabled-bg-color);\n",
              "    fill: var(--disabled-fill-color);\n",
              "    box-shadow: none;\n",
              "  }\n",
              "\n",
              "  .colab-df-spinner {\n",
              "    border: 2px solid var(--fill-color);\n",
              "    border-color: transparent;\n",
              "    border-bottom-color: var(--fill-color);\n",
              "    animation:\n",
              "      spin 1s steps(1) infinite;\n",
              "  }\n",
              "\n",
              "  @keyframes spin {\n",
              "    0% {\n",
              "      border-color: transparent;\n",
              "      border-bottom-color: var(--fill-color);\n",
              "      border-left-color: var(--fill-color);\n",
              "    }\n",
              "    20% {\n",
              "      border-color: transparent;\n",
              "      border-left-color: var(--fill-color);\n",
              "      border-top-color: var(--fill-color);\n",
              "    }\n",
              "    30% {\n",
              "      border-color: transparent;\n",
              "      border-left-color: var(--fill-color);\n",
              "      border-top-color: var(--fill-color);\n",
              "      border-right-color: var(--fill-color);\n",
              "    }\n",
              "    40% {\n",
              "      border-color: transparent;\n",
              "      border-right-color: var(--fill-color);\n",
              "      border-top-color: var(--fill-color);\n",
              "    }\n",
              "    60% {\n",
              "      border-color: transparent;\n",
              "      border-right-color: var(--fill-color);\n",
              "    }\n",
              "    80% {\n",
              "      border-color: transparent;\n",
              "      border-right-color: var(--fill-color);\n",
              "      border-bottom-color: var(--fill-color);\n",
              "    }\n",
              "    90% {\n",
              "      border-color: transparent;\n",
              "      border-bottom-color: var(--fill-color);\n",
              "    }\n",
              "  }\n",
              "</style>\n",
              "\n",
              "  <script>\n",
              "    async function quickchart(key) {\n",
              "      const quickchartButtonEl =\n",
              "        document.querySelector('#' + key + ' button');\n",
              "      quickchartButtonEl.disabled = true;  // To prevent multiple clicks.\n",
              "      quickchartButtonEl.classList.add('colab-df-spinner');\n",
              "      try {\n",
              "        const charts = await google.colab.kernel.invokeFunction(\n",
              "            'suggestCharts', [key], {});\n",
              "      } catch (error) {\n",
              "        console.error('Error during call to suggestCharts:', error);\n",
              "      }\n",
              "      quickchartButtonEl.classList.remove('colab-df-spinner');\n",
              "      quickchartButtonEl.classList.add('colab-df-quickchart-complete');\n",
              "    }\n",
              "    (() => {\n",
              "      let quickchartButtonEl =\n",
              "        document.querySelector('#df-a0566434-0a79-443e-838d-de4d11e4ccff button');\n",
              "      quickchartButtonEl.style.display =\n",
              "        google.colab.kernel.accessAllowed ? 'block' : 'none';\n",
              "    })();\n",
              "  </script>\n",
              "</div>\n",
              "\n",
              "    </div>\n",
              "  </div>\n"
            ],
            "text/plain": [
              "           Type  Mean  Std\n",
              "0        Random  59.2  3.9\n",
              "1  Pre-train 10  64.5  4.7\n",
              "2  Pre-train 20  62.0  3.6"
            ]
          },
          "execution_count": 18,
          "metadata": {},
          "output_type": "execute_result"
        }
      ],
      "source": [
        "history_all = pd.read_csv(RESULT2D_DIR + '/experimental_nodb/history_all.csv')\n",
        "make_epoch_table(history_all)"
      ]
    },
    {
      "cell_type": "markdown",
      "metadata": {
        "id": "Hfg0KwfQ-L7s"
      },
      "source": [
        "#### Figure 2: Average Validation Macro F1 Comparison"
      ]
    },
    {
      "cell_type": "code",
      "execution_count": null,
      "metadata": {
        "colab": {
          "base_uri": "https://localhost:8080/",
          "height": 472
        },
        "id": "0pF-jpzu7U9A",
        "outputId": "69bf8a1d-f0ba-4be2-c1f6-aae67b07a79d"
      },
      "outputs": [
        {
          "data": {
            "image/png": "[encoded data removed]",
            "text/plain": [
              "<Figure size 640x480 with 1 Axes>"
            ]
          },
          "metadata": {},
          "output_type": "display_data"
        }
      ],
      "source": [
        "plot_range_f1_by_epoch(history_all)"
      ]
    },
    {
      "cell_type": "markdown",
      "metadata": {
        "id": "mmKZT6i8-Y_G"
      },
      "source": [
        "#### Table 4: Average Test Macro F1 Comparison"
      ]
    },
    {
      "cell_type": "code",
      "execution_count": null,
      "metadata": {
        "colab": {
          "base_uri": "https://localhost:8080/",
          "height": 143
        },
        "id": "bsyhv8577bE6",
        "outputId": "7d1dbd78-34c1-46cf-f854-49db98c88edf"
      },
      "outputs": [
        {
          "data": {
            "application/vnd.google.colaboratory.intrinsic+json": {
              "summary": "{\n  \"name\": \"make_f1_table(predictions_all)\",\n  \"rows\": 3,\n  \"fields\": [\n    {\n      \"column\": \"Type\",\n      \"properties\": {\n        \"dtype\": \"string\",\n        \"num_unique_values\": 3,\n        \"samples\": [\n          \"Random\",\n          \"Pre-train 10\",\n          \"Pre-train 20\"\n        ],\n        \"semantic_type\": \"\",\n        \"description\": \"\"\n      }\n    },\n    {\n      \"column\": \"F1\",\n      \"properties\": {\n        \"dtype\": \"string\",\n        \"num_unique_values\": 3,\n        \"samples\": [\n          \".721 (\\u00b1 .010)\",\n          \".729 (\\u00b1 .021)\",\n          \".727 (\\u00b1 .018)\"\n        ],\n        \"semantic_type\": \"\",\n        \"description\": \"\"\n      }\n    },\n    {\n      \"column\": \"F1n\",\n      \"properties\": {\n        \"dtype\": \"string\",\n        \"num_unique_values\": 3,\n        \"samples\": [\n          \".887 (\\u00b1 .012)\",\n          \".890 (\\u00b1 .010)\",\n          \".889 (\\u00b1 .006)\"\n        ],\n        \"semantic_type\": \"\",\n        \"description\": \"\"\n      }\n    },\n    {\n      \"column\": \"F1a\",\n      \"properties\": {\n        \"dtype\": \"string\",\n        \"num_unique_values\": 3,\n        \"samples\": [\n          \".698 (\\u00b1 .025)\",\n          \".692 (\\u00b1 .039)\",\n          \".705 (\\u00b1 .024)\"\n        ],\n        \"semantic_type\": \"\",\n        \"description\": \"\"\n      }\n    },\n    {\n      \"column\": \"F1o\",\n      \"properties\": {\n        \"dtype\": \"string\",\n        \"num_unique_values\": 3,\n        \"samples\": [\n          \".706 (\\u00b1 .014)\",\n          \".700 (\\u00b1 .021)\",\n          \".693 (\\u00b1 .025)\"\n        ],\n        \"semantic_type\": \"\",\n        \"description\": \"\"\n      }\n    },\n    {\n      \"column\": \"F1p\",\n      \"properties\": {\n        \"dtype\": \"string\",\n        \"num_unique_values\": 3,\n        \"samples\": [\n          \".594 (\\u00b1 .042)\",\n          \".635 (\\u00b1 .056)\",\n          \".621 (\\u00b1 .055)\"\n        ],\n        \"semantic_type\": \"\",\n        \"description\": \"\"\n      }\n    }\n  ]\n}",
              "type": "dataframe"
            },
            "text/html": [
              "\n",
              "  <div id=\"df-a38c8829-d12f-4893-ab95-4f122e5ef311\" class=\"colab-df-container\">\n",
              "    <div>\n",
              "<style scoped>\n",
              "    .dataframe tbody tr th:only-of-type {\n",
              "        vertical-align: middle;\n",
              "    }\n",
              "\n",
              "    .dataframe tbody tr th {\n",
              "        vertical-align: top;\n",
              "    }\n",
              "\n",
              "    .dataframe thead th {\n",
              "        text-align: right;\n",
              "    }\n",
              "</style>\n",
              "<table border=\"1\" class=\"dataframe\">\n",
              "  <thead>\n",
              "    <tr style=\"text-align: right;\">\n",
              "      <th></th>\n",
              "      <th>Type</th>\n",
              "      <th>F1</th>\n",
              "      <th>F1n</th>\n",
              "      <th>F1a</th>\n",
              "      <th>F1o</th>\n",
              "      <th>F1p</th>\n",
              "    </tr>\n",
              "  </thead>\n",
              "  <tbody>\n",
              "    <tr>\n",
              "      <th>0</th>\n",
              "      <td>Random</td>\n",
              "      <td>.721 (± .010)</td>\n",
              "      <td>.887 (± .012)</td>\n",
              "      <td>.698 (± .025)</td>\n",
              "      <td>.706 (± .014)</td>\n",
              "      <td>.594 (± .042)</td>\n",
              "    </tr>\n",
              "    <tr>\n",
              "      <th>1</th>\n",
              "      <td>Pre-train 10</td>\n",
              "      <td>.729 (± .021)</td>\n",
              "      <td>.890 (± .010)</td>\n",
              "      <td>.692 (± .039)</td>\n",
              "      <td>.700 (± .021)</td>\n",
              "      <td>.635 (± .056)</td>\n",
              "    </tr>\n",
              "    <tr>\n",
              "      <th>2</th>\n",
              "      <td>Pre-train 20</td>\n",
              "      <td>.727 (± .018)</td>\n",
              "      <td>.889 (± .006)</td>\n",
              "      <td>.705 (± .024)</td>\n",
              "      <td>.693 (± .025)</td>\n",
              "      <td>.621 (± .055)</td>\n",
              "    </tr>\n",
              "  </tbody>\n",
              "</table>\n",
              "</div>\n",
              "    <div class=\"colab-df-buttons\">\n",
              "\n",
              "  <div class=\"colab-df-container\">\n",
              "    <button class=\"colab-df-convert\" onclick=\"convertToInteractive('df-a38c8829-d12f-4893-ab95-4f122e5ef311')\"\n",
              "            title=\"Convert this dataframe to an interactive table.\"\n",
              "            style=\"display:none;\">\n",
              "\n",
              "  <svg xmlns=\"http://www.w3.org/2000/svg\" height=\"24px\" viewBox=\"0 -960 960 960\">\n",
              "    <path d=\"M120-120v-720h720v720H120Zm60-500h600v-160H180v160Zm220 220h160v-160H400v160Zm0 220h160v-160H400v160ZM180-400h160v-160H180v160Zm440 0h160v-160H620v160ZM180-180h160v-160H180v160Zm440 0h160v-160H620v160Z\"/>\n",
              "  </svg>\n",
              "    </button>\n",
              "\n",
              "  <style>\n",
              "    .colab-df-container {\n",
              "      display:flex;\n",
              "      gap: 12px;\n",
              "    }\n",
              "\n",
              "    .colab-df-convert {\n",
              "      background-color: #E8F0FE;\n",
              "      border: none;\n",
              "      border-radius: 50%;\n",
              "      cursor: pointer;\n",
              "      display: none;\n",
              "      fill: #1967D2;\n",
              "      height: 32px;\n",
              "      padding: 0 0 0 0;\n",
              "      width: 32px;\n",
              "    }\n",
              "\n",
              "    .colab-df-convert:hover {\n",
              "      background-color: #E2EBFA;\n",
              "      box-shadow: 0px 1px 2px rgba(60, 64, 67, 0.3), 0px 1px 3px 1px rgba(60, 64, 67, 0.15);\n",
              "      fill: #174EA6;\n",
              "    }\n",
              "\n",
              "    .colab-df-buttons div {\n",
              "      margin-bottom: 4px;\n",
              "    }\n",
              "\n",
              "    [theme=dark] .colab-df-convert {\n",
              "      background-color: #3B4455;\n",
              "      fill: #D2E3FC;\n",
              "    }\n",
              "\n",
              "    [theme=dark] .colab-df-convert:hover {\n",
              "      background-color: #434B5C;\n",
              "      box-shadow: 0px 1px 3px 1px rgba(0, 0, 0, 0.15);\n",
              "      filter: drop-shadow(0px 1px 2px rgba(0, 0, 0, 0.3));\n",
              "      fill: #FFFFFF;\n",
              "    }\n",
              "  </style>\n",
              "\n",
              "    <script>\n",
              "      const buttonEl =\n",
              "        document.querySelector('#df-a38c8829-d12f-4893-ab95-4f122e5ef311 button.colab-df-convert');\n",
              "      buttonEl.style.display =\n",
              "        google.colab.kernel.accessAllowed ? 'block' : 'none';\n",
              "\n",
              "      async function convertToInteractive(key) {\n",
              "        const element = document.querySelector('#df-a38c8829-d12f-4893-ab95-4f122e5ef311');\n",
              "        const dataTable =\n",
              "          await google.colab.kernel.invokeFunction('convertToInteractive',\n",
              "                                                    [key], {});\n",
              "        if (!dataTable) return;\n",
              "\n",
              "        const docLinkHtml = 'Like what you see? Visit the ' +\n",
              "          '<a target=\"_blank\" href=https://colab.research.google.com/notebooks/data_table.ipynb>data table notebook</a>'\n",
              "          + ' to learn more about interactive tables.';\n",
              "        element.innerHTML = '';\n",
              "        dataTable['output_type'] = 'display_data';\n",
              "        await google.colab.output.renderOutput(dataTable, element);\n",
              "        const docLink = document.createElement('div');\n",
              "        docLink.innerHTML = docLinkHtml;\n",
              "        element.appendChild(docLink);\n",
              "      }\n",
              "    </script>\n",
              "  </div>\n",
              "\n",
              "\n",
              "<div id=\"df-c7f02dec-2db3-4492-ac7e-2f4e8ce028f0\">\n",
              "  <button class=\"colab-df-quickchart\" onclick=\"quickchart('df-c7f02dec-2db3-4492-ac7e-2f4e8ce028f0')\"\n",
              "            title=\"Suggest charts\"\n",
              "            style=\"display:none;\">\n",
              "\n",
              "<svg xmlns=\"http://www.w3.org/2000/svg\" height=\"24px\"viewBox=\"0 0 24 24\"\n",
              "     width=\"24px\">\n",
              "    <g>\n",
              "        <path d=\"M19 3H5c-1.1 0-2 .9-2 2v14c0 1.1.9 2 2 2h14c1.1 0 2-.9 2-2V5c0-1.1-.9-2-2-2zM9 17H7v-7h2v7zm4 0h-2V7h2v10zm4 0h-2v-4h2v4z\"/>\n",
              "    </g>\n",
              "</svg>\n",
              "  </button>\n",
              "\n",
              "<style>\n",
              "  .colab-df-quickchart {\n",
              "      --bg-color: #E8F0FE;\n",
              "      --fill-color: #1967D2;\n",
              "      --hover-bg-color: #E2EBFA;\n",
              "      --hover-fill-color: #174EA6;\n",
              "      --disabled-fill-color: #AAA;\n",
              "      --disabled-bg-color: #DDD;\n",
              "  }\n",
              "\n",
              "  [theme=dark] .colab-df-quickchart {\n",
              "      --bg-color: #3B4455;\n",
              "      --fill-color: #D2E3FC;\n",
              "      --hover-bg-color: #434B5C;\n",
              "      --hover-fill-color: #FFFFFF;\n",
              "      --disabled-bg-color: #3B4455;\n",
              "      --disabled-fill-color: #666;\n",
              "  }\n",
              "\n",
              "  .colab-df-quickchart {\n",
              "    background-color: var(--bg-color);\n",
              "    border: none;\n",
              "    border-radius: 50%;\n",
              "    cursor: pointer;\n",
              "    display: none;\n",
              "    fill: var(--fill-color);\n",
              "    height: 32px;\n",
              "    padding: 0;\n",
              "    width: 32px;\n",
              "  }\n",
              "\n",
              "  .colab-df-quickchart:hover {\n",
              "    background-color: var(--hover-bg-color);\n",
              "    box-shadow: 0 1px 2px rgba(60, 64, 67, 0.3), 0 1px 3px 1px rgba(60, 64, 67, 0.15);\n",
              "    fill: var(--button-hover-fill-color);\n",
              "  }\n",
              "\n",
              "  .colab-df-quickchart-complete:disabled,\n",
              "  .colab-df-quickchart-complete:disabled:hover {\n",
              "    background-color: var(--disabled-bg-color);\n",
              "    fill: var(--disabled-fill-color);\n",
              "    box-shadow: none;\n",
              "  }\n",
              "\n",
              "  .colab-df-spinner {\n",
              "    border: 2px solid var(--fill-color);\n",
              "    border-color: transparent;\n",
              "    border-bottom-color: var(--fill-color);\n",
              "    animation:\n",
              "      spin 1s steps(1) infinite;\n",
              "  }\n",
              "\n",
              "  @keyframes spin {\n",
              "    0% {\n",
              "      border-color: transparent;\n",
              "      border-bottom-color: var(--fill-color);\n",
              "      border-left-color: var(--fill-color);\n",
              "    }\n",
              "    20% {\n",
              "      border-color: transparent;\n",
              "      border-left-color: var(--fill-color);\n",
              "      border-top-color: var(--fill-color);\n",
              "    }\n",
              "    30% {\n",
              "      border-color: transparent;\n",
              "      border-left-color: var(--fill-color);\n",
              "      border-top-color: var(--fill-color);\n",
              "      border-right-color: var(--fill-color);\n",
              "    }\n",
              "    40% {\n",
              "      border-color: transparent;\n",
              "      border-right-color: var(--fill-color);\n",
              "      border-top-color: var(--fill-color);\n",
              "    }\n",
              "    60% {\n",
              "      border-color: transparent;\n",
              "      border-right-color: var(--fill-color);\n",
              "    }\n",
              "    80% {\n",
              "      border-color: transparent;\n",
              "      border-right-color: var(--fill-color);\n",
              "      border-bottom-color: var(--fill-color);\n",
              "    }\n",
              "    90% {\n",
              "      border-color: transparent;\n",
              "      border-bottom-color: var(--fill-color);\n",
              "    }\n",
              "  }\n",
              "</style>\n",
              "\n",
              "  <script>\n",
              "    async function quickchart(key) {\n",
              "      const quickchartButtonEl =\n",
              "        document.querySelector('#' + key + ' button');\n",
              "      quickchartButtonEl.disabled = true;  // To prevent multiple clicks.\n",
              "      quickchartButtonEl.classList.add('colab-df-spinner');\n",
              "      try {\n",
              "        const charts = await google.colab.kernel.invokeFunction(\n",
              "            'suggestCharts', [key], {});\n",
              "      } catch (error) {\n",
              "        console.error('Error during call to suggestCharts:', error);\n",
              "      }\n",
              "      quickchartButtonEl.classList.remove('colab-df-spinner');\n",
              "      quickchartButtonEl.classList.add('colab-df-quickchart-complete');\n",
              "    }\n",
              "    (() => {\n",
              "      let quickchartButtonEl =\n",
              "        document.querySelector('#df-c7f02dec-2db3-4492-ac7e-2f4e8ce028f0 button');\n",
              "      quickchartButtonEl.style.display =\n",
              "        google.colab.kernel.accessAllowed ? 'block' : 'none';\n",
              "    })();\n",
              "  </script>\n",
              "</div>\n",
              "\n",
              "    </div>\n",
              "  </div>\n"
            ],
            "text/plain": [
              "           Type             F1            F1n            F1a            F1o  \\\n",
              "0        Random  .721 (± .010)  .887 (± .012)  .698 (± .025)  .706 (± .014)   \n",
              "1  Pre-train 10  .729 (± .021)  .890 (± .010)  .692 (± .039)  .700 (± .021)   \n",
              "2  Pre-train 20  .727 (± .018)  .889 (± .006)  .705 (± .024)  .693 (± .025)   \n",
              "\n",
              "             F1p  \n",
              "0  .594 (± .042)  \n",
              "1  .635 (± .056)  \n",
              "2  .621 (± .055)  "
            ]
          },
          "execution_count": 21,
          "metadata": {},
          "output_type": "execute_result"
        }
      ],
      "source": [
        "predictions_all = load_pkl(RESULT2D_DIR + '/experimental_nodb/predictions_all.pkl')\n",
        "make_f1_table(predictions_all)"
      ]
    },
    {
      "cell_type": "markdown",
      "metadata": {
        "id": "NNCwo9FT_Lns"
      },
      "source": [
        "### Analysis\n",
        "As shown above, pre-training with 10% or 20% of the Icentia11k data doesn't provide significant gain over random initilization in all three comparisons. Following are some factors that can potentially cause this result:\n",
        "\n",
        "*   Converting ECG signal (time domain) to spectrogram (time and frequency domain) effectively add another dimension to the training data. The curse of dimnensionality suggests issues that arise when the number of datapoints is small relative to the intrinsic dimension of the data. Therefore, more pre-training/ fine-tuning data may be required to see the performance gain of pre-trained model.\n",
        "*   The 2dResNet is also twice as large as the 1dResNet used (11 million parameters vs 4.5 million parameters), which could also contribute to overfitting\n",
        "*   It is noticable that many higher frequency bins in the pretraining spectrogram contain low energy. This could be consistent across the board and introduces useless or noisy information.\n",
        "*   There were many spectrogram hyperparameters that were not adequately explored due to the limits of project time. It is possible that significantly better performance could be achieved with a higher or lower resolution spectrogram. The hyperparameters not explored are:\n",
        " * stride\n",
        " * window_size\n",
        " * window type\n",
        "  \n",
        "\n"
      ]
    },
    {
      "cell_type": "markdown",
      "metadata": {
        "id": "c-OhJ5hcxNsr"
      },
      "source": [
        "# TODO Discussion"
      ]
    },
    {
      "cell_type": "code",
      "execution_count": null,
      "metadata": {
        "id": "x3QZ0OIWAYne"
      },
      "outputs": [],
      "source": []
    },
    {
      "cell_type": "markdown",
      "metadata": {
        "id": "o-GdartFncVX"
      },
      "source": [
        "## Reflection on the Experimental Results\n",
        "\n",
        "Implications of the experimental results, whether the original paper was reproducible, and if it wasn't, what factors made it irreproducible\n",
        "\n",
        "Outline of reflection:\n",
        " - results were generally reproducible -\n",
        " - Our results show that less data is neede for pretraining to achieve comparable results. Even 10% of the author's data is enough to reproduce results. No difference between 10% and 20%\n",
        " - ablation study shows that the ECG signals, a spectrogram does not respond as well to pretraining. The results are also not as good"
      ]
    },
    {
      "cell_type": "markdown",
      "metadata": {
        "id": "rGfNGfeJncVX"
      },
      "source": [
        "## TODO What Was Easy\n",
        "\n",
        "TODO\n"
      ]
    },
    {
      "cell_type": "markdown",
      "metadata": {
        "id": "OG-nvYmHxPAi"
      },
      "source": [
        "## TODO What Was Difficult\n",
        "\n",
        "TODO\n",
        "\n"
      ]
    },
    {
      "cell_type": "markdown",
      "metadata": {
        "id": "MjV-H51PncVX"
      },
      "source": [
        "## Recommendations For Reproducibility\n",
        "\n",
        "It would be a very good idea for such paper code to provide a **completely** specified environment configuration. The [original](https://github.com/kweimann/ecg-transfer-learning/blob/master/requirements.txt) `requirements.txt` provided did not specify all packages used, the exact versions used, nor performed complete pinning of dependencies.\n",
        "\n",
        "For example, the `samplerate` dependency in the original requirements was deprecated when we started the project. We had to remove it and [implement the code from scratch](https://github.com/myles-i/DLH_TransferLearning/commit/38190172af5092d1ac72e8b705b0bc58b169bd3b)."
      ]
    },
    {
      "cell_type": "markdown",
      "metadata": {
        "id": "CrIC_LGfi2X4"
      },
      "source": [
        "# Public GitHub Repo\n",
        "The repo with our code is available on [Github](https://github.com/myles-i/DLH_TransferLearning/tree/master). Specifically, the reports are located [here](https://github.com/myles-i/DLH_TransferLearning/tree/master/report)."
      ]
    },
    {
      "cell_type": "markdown",
      "metadata": {
        "id": "gWZq2-uh1ytR",
        "tags": [
          "hidden"
        ]
      },
      "source": [
        "# References\n",
        "\n",
        "1. Weimann, K., Conrad, T.O.F. Transfer learning for ECG classification. Sci Rep 11, 5251 (2021). https://doi.org/10.1038/s41598-021-84374-8\n",
        "2. Kachuee, M., Fazeli, S., & Sarrafzadeh, M. ECG heartbeat classification: a deep transferable representation. in _2018 IEEE International Conference on Healthcare Informatics (ICHI)._ https://doi.org/10.1109/ichi.2018.00092 (2018).\n",
        "3. Rahhal, M. A. _et al._ Deep learning approach for active classification of electrocardiogram signals. _Inf. Sci._ **345**, 340–354. https://doi.org/10.1016/j.ins.2016.01.082 (2016).\n",
        "4. Rajan, D., Beymer, D., & Narayan, G. Generalization Studies of Neural Network Models for Cardiac Disease Detection Using Limited Channel ECG (2019). arXiv:1901.03295\n",
        "5. J. Huang, B. Chen, B. Yao and W. He, “`ECG Arrhythmia Classification Using STFT-Based Spectrogram and Convolutional\n",
        " Neural Network`,” in IEEE Access, vol. 7\n",
        "6. Shawn Tan, Satya Ortiz-Gagné, Nicolas Beaudoin-Gagnon, Pierre Fecteau, Aaron Courville, Yoshua Bengio, and Joseph Paul Cohen. Icentia11k single lead continuous raw electrocardiogram dataset (version 1.0). https://doi.org/10.13026/kk0v-r952, April 2022.\n",
        "7. Tan, S. _et al._ Icentia11K: An Unsupervised Representation Learning Dataset for Arrhythmia Subtype Discovery (2019). arXiv:arXiv:1910.09570\n",
        "8. Goldberger, A.L. _et al._ PhysioBank, PhysioToolkit,and PhysioNet: components of a new research resource for complex physiologic signals. _Circulation_ **101**, e215–e220. https://doi.org/10.1161/01.CIR.101.23.e215 (2000).\n",
        "9. Clifford, G.D. _et al._ AF Classification from a short single lead ECG recording: thePhysioNet/computing in cardiology challenge 2017. _Comput. Cardiol._ (2017)."
      ]
    },
    {
      "cell_type": "code",
      "execution_count": null,
      "metadata": {
        "id": "zLdY6kqa2hFT"
      },
      "outputs": [],
      "source": [
        "# Convert to html (to then be converted to pdf separately)\n",
        "# !jupyter nbconvert --to html ../../content/DL4H_Team_1_draft.ipynb"
      ]
    }
  ],
  "metadata": {
    "accelerator": "GPU",
    "colab": {
      "gpuType": "T4",
      "machine_shape": "hm",
      "provenance": [],
      "toc_visible": true
    },
    "kernelspec": {
      "display_name": "Python 3",
      "name": "python3"
    },
    "language_info": {
      "name": "python"
    }
  },
  "nbformat": 4,
  "nbformat_minor": 0
}