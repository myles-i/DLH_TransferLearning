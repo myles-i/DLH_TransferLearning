{
  "cells": [
    {
      "cell_type": "markdown",
      "metadata": {
        "id": "ypFTXiFx6OIM"
      },
      "source": [
        "# Basic Info\n",
        "\n",
        "## Team 1\n",
        "\n",
        "- Ted Hsu ([thhsu4@illinois.edu](mailto:thhsu4@illinois.edu))\n",
        "- Myles Iribarne ([mylesai2@illinois.edu](mailto:mylesai2@illinois.edu))\n",
        "- Daniel Xu ([dhxu2@illinois.edu](mailto:dhxu2@illinois.edu))\n",
        "\n",
        "## Paper\n",
        "\n",
        "Our paper is _Transfer learning for ECG classification_ by Weimann and Conrad <cite data-cite=\"Weimann:2021wz\">[1]</cite>. The project code is available on [Github](https://github.com/kweimann/ecg-transfer-learning/tree/master).\n",
        "\n",
        "## TODO Video\n",
        "\n",
        "TODO Include a public link to your project video (Youtube/OneDrive/GDrive etc) at the top of the notebook.\n"
      ]
    },
    {
      "cell_type": "markdown",
      "metadata": {
        "id": "MQ0sNuMePBXx"
      },
      "source": [
        "# Introduction\n",
        "## Background of the problem\n",
        "\n",
        "- **What type of problem**:\n",
        "\n",
        "  The problem is to classify Atrial Fibrillation (AF) on electrocardiogram (ECG) recordings.\n",
        "- **What is the importance/meaning of solving the problem**:\n",
        "\n",
        "  - A solution to the problem is a tool that will assist physicians in analyzing large amounts of patient ECG data in an automated and time efficient manner.\n",
        "  - Early detection of AF events may lead to better patient outcomes.\n",
        "  \n",
        "- **What is the difficulty of the problem**:\n",
        "\n",
        "  - Devices for recording patient ECG data are able to output a _huge_ amount of raw data. This is challenging and expensive to annotate for effective Deep Learning training.\n",
        "  - Large class imbalance due to cardiovascular events of interests being rare.\n",
        "  - Low ECG signal quality due to sampling frequency, single ECG lead probe.\n",
        "\n",
        "- **The state of the art methods**:\n",
        "\n",
        "  - Transfer learning using 1-D residual networks <cite data-cite=\"Kachuee:2018\">[2]</cite>\n",
        "  - Representation learning using encoder-decoder architectures\n",
        "    - Stacked Denoising AEs <cite data-cite=\"Rahhal:2016\">[3]</cite>\n",
        "    - Seq2Seq model <cite data-cite=\"Rajan:2019\">[4]</cite>\n",
        "\n",
        "## Paper Explanation\n",
        "- **What did the paper propose**:\n",
        "\n",
        "  - Use Transfer learning to build better ECG classifiers.\n",
        "  - Pre-train 1-D CNNs on the largest publicly available ECG dataset (_Icentia11K_) on several pre-training tasks:\n",
        "    - Beat Classification\n",
        "    - Rhythm Classifcation\n",
        "    - Heart Rate Classification\n",
        "    - Future Prediction\n",
        "  - Finetune the pre-trained 1-D CNNs on a _different_ task and a _different_ dataset (_PhysioNet/CinC Challenge 2017_): classify AF events.\n",
        "\n",
        "- **What is/are the innovations of the method**:\n",
        "\n",
        "  - Demonstration of successful large-scale pre-training of 1-D CNNs on the largest publicly available ECG dataset to date.\n",
        "  - Demonstration of contrastive pre-training (unsupervised representation learning) improving 1-D CNN performance on target task.\n",
        "  - Novel usage of heart rate classification task for pre-training. Note that in this task, the labels can be automatically generated without manual intervention.\n",
        "\n",
        "- **How well the proposed method work (in its own metrics)**:\n",
        "\n",
        "  - The paper provides AF classifier performnace comparison among five different pre-training tasks configurations (Random initalization, Beat classification, Rhythm classification, Heart Rate classification, and Future Prediction).\n",
        "  \n",
        "    _Macro F1 score of the AF classifier on the Physionet test set is the performance metric._\n",
        "  - The average macro F1 score of random initalization pre-training task is 0.731 over 10 trials. Average macro F1 scores reported by all proposed four pre-training tasks configurations range from 0.758 to 0.779 over 10 trials.\n",
        "\n",
        "- **What is the contribution to the research regime (referring the Background above, how important the paper is to the problem)**:\n",
        "\n",
        "  - Pre-training the 1-D CNN model improves the performance on the target task (i.e. AF classification), effectively reducing the number of labeled data required to achieve the same performance as 1-D CNNs that are not pre-trained.\n",
        "  - Unsupervised pre-training (i.e. future prediction) on ECG data is a viable method for improving the performance on the target task and will become more relevant, since labeling ECG data is expensive."
      ]
    },
    {
      "cell_type": "markdown",
      "metadata": {
        "id": "uygL9tTPSVHB"
      },
      "source": [
        "# Scope of Reproducibility\n",
        "\n",
        "## Hypothesis 1\n",
        "Pre-training 1-D CNN models with an extremely large dataset of relatively inexpensively labeled data can improve performance of classification based on a smaller set of labeled data with a different classification objective (i.e. AF).\n",
        "\n",
        "## Hypothesis 2\n",
        "The paper does not explore how significant the effects of the pre-training data size are on the final results. We assume size of the pre-training dataset could affect the performance of the target task (i.e. AF classification).\n",
        "\n",
        "\n",
        "## Verification\n",
        "We will verify the hypotheses by attempting to reproduce results for a specific model and the following hyperparameter combination with 10% and 20% of the pre-training data used in the paper:\n",
        "\n",
        "- Model: 1-D ResNet-18v2\n",
        "- Pre-training Objective: Beat Classification\n",
        "- Frame Size: 4096 samples\n",
        "- Sample Rate: 250 Hz\n",
        "- Fine-tuning objective: Atrial Fibrillation\n",
        "\n",
        "Note that the data is at patient level, so the 10% and 20% will be applied to the total number of patients.\n",
        "\n",
        "The results will be compared with the performance of a randomly initialized ResNet-18v2.\n",
        "\n",
        "## Implementation\n",
        "\n",
        "The paper authors have provided their code online on Github. In our repo, we have forked their code and made small adjustments for convenience in our reproduction work. The code cells below will import modules from the paper authors' code. In this way, we are able to focus primarily on executing the experiments and analyzing the outcomes.\n"
      ]
    },
    {
      "cell_type": "markdown",
      "source": [
        "# Ablation (Hypothesis 3)\n",
        "The original paper is entirely based on 1-D CNNs and the raw ECG signal. To extend the paper's results, we aim to pre-process the raw signals using Fourier transforms to represent the data as a spectogram -- a frequency versus time representation of ECG signals.\n",
        "\n",
        "Using this representation of the input, we will train a 2-D CNN model (i.e. 2-D ResNet-18v2) and compare the performance of pre-trained and randomly initialized models. Additionally, we will compare the 2-D model performance to the 1-D models originally used by the authors.\n",
        "\n",
        "This extension is motivated by a study on ECG Arrhythmia classification that demonstrates the effectiveness of CNNs trained on spectrograms <cite data-cite=\"Huang:2019\">[5]</cite>. By converting ECG data to spectrogram features and then using spectrograms to pre-train a 2-D ResNet, we intend to illustrate the adaptability of the transfer learning framework in the original paper across diverse model architectures."
      ],
      "metadata": {
        "id": "RZ0ybFOGwxA2"
      }
    },
    {
      "cell_type": "markdown",
      "source": [
        "# Methodology"
      ],
      "metadata": {
        "id": "Kp9UI34KwoXF"
      }
    },
    {
      "cell_type": "markdown",
      "metadata": {
        "id": "xWAHJ_1CdtaA"
      },
      "source": [
        "## Environment\n",
        "\n",
        "First, we assume that this notebook is run in **Google Colab**. It is highly recommended to have Colab Pro and select **V100** GPU or better.\n",
        "\n",
        "Below we prepare the environment with which the code in this notebook can run. Specifically, we clone the project repo which contains the paper's code and our modifications and install the project dependencies."
      ]
    },
    {
      "cell_type": "code",
      "execution_count": null,
      "metadata": {
        "id": "Dy4eNoPBq4bB"
      },
      "outputs": [],
      "source": [
        "%%capture\n",
        "REPO = '/tmp/repo'\n",
        "!git clone https://github.com/myles-i/DLH_TransferLearning.git {REPO}\n",
        "%cd {REPO}"
      ]
    },
    {
      "cell_type": "markdown",
      "metadata": {
        "id": "s_aEIGI34Kq6"
      },
      "source": [
        "Below we install all of the python dependencies. This is an addition we have made to the repository for ease of use. There is also a environment.yml file for use with `conda`."
      ]
    },
    {
      "cell_type": "code",
      "execution_count": null,
      "metadata": {
        "colab": {
          "base_uri": "https://localhost:8080/"
        },
        "id": "GSHj-DAhsFKX",
        "outputId": "15f1b88d-2d7f-4f1f-bfaa-1b90b52f6e3a"
      },
      "outputs": [
        {
          "output_type": "stream",
          "name": "stdout",
          "text": [
            "CPU times: user 94.1 ms, sys: 16.7 ms, total: 111 ms\n",
            "Wall time: 15.9 s\n"
          ]
        }
      ],
      "source": [
        "%%time\n",
        "%%capture\n",
        "!pip install -r requirements.txt"
      ]
    },
    {
      "cell_type": "code",
      "execution_count": null,
      "metadata": {
        "id": "44V3e9TZ8QLw"
      },
      "outputs": [],
      "source": [
        "%%capture\n",
        "# Prepare local directories\n",
        "JOB_DIR = '/tmp/jobs'\n",
        "DATA_DIR = '/tmp/data'\n",
        "DEMO_DATA_DIR = DATA_DIR + '/final_demo'\n",
        "mdkir -p {JOB_DIR}\n",
        "mkdir -p {DATA_DIR}\n",
        "mkdir -p {DEMO_DATA_DIR}"
      ]
    },
    {
      "cell_type": "markdown",
      "source": [
        "##  Data"
      ],
      "metadata": {
        "id": "EPpw2FDwCcJq"
      }
    },
    {
      "cell_type": "markdown",
      "metadata": {
        "id": "2NbPHUTMbkD3"
      },
      "source": [
        "### Pre-training Dataset\n",
        "The training data is the \"Icentia11k Single Lead Continuous Raw Electrocardiogram Dataset,\" which is freely available online <cite data-cite=\"Icentiadata\">[6]</cite><cite data-cite=\"Tan:2019icentia11k\">[7]</cite><cite data-cite=\"PhysioNet:2000\">[8]</cite>.\n",
        "\n",
        "- Source of the data\n",
        "  \n",
        "  The data comes in two formats, and links to each format are provided below.:\n",
        "  - [Raw](https://physionet.org/content/icentia11k-continuous-ecg/1.0/)\n",
        "  - [Compressed](https://academictorrents.com/details/af04abfe9a3c96b30e5dd029eb185e19a7055272)\n",
        "- Statistics\n",
        "  - 11,000 patients.\n",
        "  - Each patient has up to two weeks of ECG recordings with 250 Hz sampling rate.\n",
        "  - Each ECG recording is accompanied with beat and rhythm labels marked by the ECG signal collection device and specialists, respectively.\n",
        "  - Both beat and rhythm labels are assigned to positions in the signal at irregular intervals.\n",
        "  - The original paper uses 95% of the patients for pre-training and the remaining 5% for validation.\n",
        "- Data downloading:\n",
        "  - We utilize the _compressed_ data files rather than the raw files.\n",
        "  - The process is demonstrated in [this notebook](https://github.com/myles-i/DLH_TransferLearning/blob/master/jupyter_notebooks/Download_Icentia11k_Data.ipynb). It uses the `libtorrent` library to download the compressed data.\n",
        "  - The compressed data files are saved to an appropriately named sub-directory within the shared Google Drive directory stored in the `DATA_DIR` variable.\n",
        "\n",
        "\n",
        "\n"
      ]
    },
    {
      "cell_type": "markdown",
      "source": [
        "The beat label in the Icentia11k data has 5 different values, as shown in the below code cell. The beat classification task is to classify beat type given a segment or a frame of an ECG signal. The paper experimented with frame sizes ranging from 2 to 60 seconds."
      ],
      "metadata": {
        "id": "04TPeBpfnKM5"
      }
    },
    {
      "cell_type": "code",
      "execution_count": null,
      "metadata": {
        "id": "NTlXJqcPATdM",
        "colab": {
          "base_uri": "https://localhost:8080/"
        },
        "outputId": "8c3fbff3-e7da-4c65-93fe-72f2906b420c"
      },
      "outputs": [
        {
          "output_type": "stream",
          "name": "stdout",
          "text": [
            "beat labels: {0: 'undefined', 1: 'normal', 2: 'pac', 3: 'aberrated', 4: 'pvc'}\n"
          ]
        }
      ],
      "source": [
        "from pretraining import datasets\n",
        "\n",
        "print(f\"Beat labels: {datasets.icentia11k.ds_beat_names}\")"
      ]
    },
    {
      "cell_type": "markdown",
      "metadata": {
        "id": "p77xKHR2D5RH"
      },
      "source": [
        "For beat classification pre-training, each training data sample is generated by extracting a segment of continuous ECG signal that is associated with a beat label. Below is example code to generate a training data sample from Patient#0 with an ECG signal frame size of 4096:"
      ]
    },
    {
      "cell_type": "code",
      "execution_count": null,
      "metadata": {
        "colab": {
          "base_uri": "https://localhost:8080/"
        },
        "id": "bx8Rw4kvh3_q",
        "outputId": "957563d6-f26f-4747-f777-6b1d7166acc2"
      },
      "outputs": [
        {
          "output_type": "stream",
          "name": "stdout",
          "text": [
            "/tmp/data/final_demo\n",
            "Downloading...\n",
            "From (original): https://drive.google.com/uc?id=1hzq0iSICypZTIrJcyPfAR5mPrKS1Vev_\n",
            "From (redirected): https://drive.google.com/uc?id=1hzq0iSICypZTIrJcyPfAR5mPrKS1Vev_&confirm=t&uuid=d783f86e-76fd-4cd4-83ee-a098995a0298\n",
            "To: /tmp/data/final_demo/00000_batched.npy\n",
            "100% 210M/210M [00:01<00:00, 157MB/s]\n",
            "Downloading...\n",
            "From: https://drive.google.com/uc?id=1vjBhJ_0w-bTn7jhnRPS3Bf3CsLpi7RuN\n",
            "To: /tmp/data/final_demo/00000_batched_lbls.npz\n",
            "100% 6.79M/6.79M [00:00<00:00, 138MB/s]\n",
            "/tmp/repo\n"
          ]
        }
      ],
      "source": [
        "# First download Patient#0 ECG signal and labels\n",
        "%%time\n",
        "%%capture\n",
        "# Patient#0 ECG signal\n",
        "!gdown 1hzq0iSICypZTIrJcyPfAR5mPrKS1Vev_ \\\n",
        "  -O {DEMO_DATA_DIR + '/00000_batched.npy'}\n",
        "# Patient#0 label\n",
        "!gdown 1vjBhJ_0w-bTn7jhnRPS3Bf3CsLpi7RuN \\\n",
        "  -O {DEMO_DATA_DIR + '/00000_batched_lbls.npz'}"
      ]
    },
    {
      "cell_type": "code",
      "source": [
        "gen = datasets.beat_generator(\n",
        "    DEMO_DATA_DIR,\n",
        "    patient_ids=[0],  # Patient#0\n",
        "    frame_size=4096,  # a frame with 4096 continuous ECG signal\n",
        "    normalize=True,\n",
        "    unzipped=True,\n",
        "    samples_per_patient=1\n",
        ")\n",
        "data = next(gen)"
      ],
      "metadata": {
        "id": "m_EiXVabnEHX"
      },
      "execution_count": null,
      "outputs": []
    },
    {
      "cell_type": "markdown",
      "metadata": {
        "id": "juLweXRyBrc8"
      },
      "source": [
        "Each data sample is a tuple of ECG signal and beat label. With a frame size of 4096 and 250 Hz sampling rate, the length of this sample is around 16 seconds."
      ]
    },
    {
      "cell_type": "code",
      "execution_count": null,
      "metadata": {
        "colab": {
          "base_uri": "https://localhost:8080/",
          "height": 466
        },
        "id": "lSiwFSY3BiyP",
        "outputId": "07e41ff3-ca2b-4d75-953d-50f58af3109f"
      },
      "outputs": [
        {
          "output_type": "stream",
          "name": "stdout",
          "text": [
            "beat label of the data sample: normal\n"
          ]
        },
        {
          "output_type": "display_data",
          "data": {
            "text/plain": [
              "<Figure size 640x480 with 1 Axes>"
            ],
            "image/png": "[encoded data removed]"
          },
          "metadata": {}
        }
      ],
      "source": [
        "from matplotlib import pyplot as plt\n",
        "import numpy as np\n",
        "\n",
        "print(\n",
        "    f\"Beat label of the data sample:\"\n",
        "    f\" {datasets.icentia11k.ds_beat_names[data[1]]}\"\n",
        ")\n",
        "_ = plt.plot(np.arange(len(data[0]))/250, data[0])\n",
        "_ = plt.xlabel('second')\n",
        "_ = plt.ylabel('ECG signal')"
      ]
    },
    {
      "cell_type": "markdown",
      "metadata": {
        "id": "UPN95z3AFROy"
      },
      "source": [
        "The `beat_generator` is used to create a `tensorflow` `Dataset` object. The following code creates a `Dataset` that contains 2048 training data samples from Patient#0, each training data sample with frame size 2048."
      ]
    },
    {
      "cell_type": "code",
      "execution_count": null,
      "metadata": {
        "colab": {
          "base_uri": "https://localhost:8080/"
        },
        "id": "Wu-L3Kk07k3K",
        "outputId": "00c438f2-5d69-44fa-f68f-86ddf7de5896"
      },
      "outputs": [
        {
          "output_type": "stream",
          "name": "stderr",
          "text": [
            "WARNING:tensorflow:From /tmp/repo/pretraining/datasets.py:33: calling DatasetV2.from_generator (from tensorflow.python.data.ops.dataset_ops) with output_types is deprecated and will be removed in a future version.\n",
            "Instructions for updating:\n",
            "Use output_signature instead\n",
            "WARNING:tensorflow:From /tmp/repo/pretraining/datasets.py:33: calling DatasetV2.from_generator (from tensorflow.python.data.ops.dataset_ops) with output_shapes is deprecated and will be removed in a future version.\n",
            "Instructions for updating:\n",
            "Use output_signature instead\n"
          ]
        },
        {
          "output_type": "execute_result",
          "data": {
            "text/plain": [
              "(TensorSpec(shape=(2048, 1), dtype=tf.float32, name=None),\n",
              " TensorSpec(shape=(), dtype=tf.int32, name=None))"
            ]
          },
          "metadata": {},
          "execution_count": 11
        }
      ],
      "source": [
        "dataset = datasets.beat_dataset(\n",
        "    db_dir=DEMO_DATA_DIR, patient_ids=[0], frame_size=2048,\n",
        "    unzipped=True, samples_per_patient=2048)\n",
        "dataset.element_spec"
      ]
    },
    {
      "cell_type": "markdown",
      "metadata": {
        "id": "el2LBwvc-QDF"
      },
      "source": [
        "### Fine-tuning Dataset\n",
        "The fine-tuning dataset is the \"AF Classification from a Short Single Lead ECG Recording: The PhysioNet/Computing in Cardiology Challenge 2017\" and freely available online for download <cite data-cite=\"PhysioNet:2000\">[8]</cite><cite data-cite=\"Clifford:2017we\">[9]</cite>.\n",
        "\n",
        "- Source of the data\n",
        "  - [Raw](https://physionet.org/content/challenge-2017/1.0.0/).\n",
        "- Statistics\n",
        "  - 8528 short ECG recordings.\n",
        "  - Each ECG recording duration is 9 to 60 seconds with 300 Hz sampling rate.\n",
        "  - Each ECG recording is labeled with one of the following classes: AF, Normal, Other or Noise (too noisy to classify).\n",
        "- Data Downloading\n",
        "  - The `train2017.zip` file needs to be extracted somewhere.\n",
        "  - The files within need to be extracted and then preprocessed.\n",
        "  - Preprocessing involves:\n",
        "    - Resampling to 250 Hz to match the sample rate of the pre-training dataset.\n",
        "    - Padding records to 65 seconds.\n",
        "    - Standardizing the data using mean and standard deviation computed on the entire dataset."
      ]
    },
    {
      "cell_type": "markdown",
      "source": [
        "#### Preparation\n",
        "\n",
        "The `get_challenge17_data` method ([source](https://github.com/myles-i/DLH_TransferLearning/blob/master/finetuning/datasets.py#L9)) in the authors' code both extracts and pre-processes the PhysioNet dataset. We split the data extraction and pre-processing steps and saved the extracted data. This lets us have the flexibility of pre-processing without data extraction in every run. The below cell demonstrates an example of data pre-processing."
      ],
      "metadata": {
        "id": "iUtibbUU8rW6"
      }
    },
    {
      "cell_type": "code",
      "source": [
        "%%time\n",
        "%%capture\n",
        "# Downloads the raw PhysioNet record and label pickles, the output of\n",
        "# extraction.\n",
        "!gdown 1lI7lTZltRj_zQtYM1UcidZnSAQilPJSg -O {DEMO_DATA_DIR} --folder"
      ],
      "metadata": {
        "colab": {
          "base_uri": "https://localhost:8080/"
        },
        "id": "3qoHsGKer-QD",
        "outputId": "d75f7e81-dad6-491f-da5f-1e9f61fc6ef1"
      },
      "execution_count": null,
      "outputs": [
        {
          "output_type": "stream",
          "name": "stdout",
          "text": [
            "CPU times: user 25.5 ms, sys: 7.56 ms, total: 33 ms\n",
            "Wall time: 3.92 s\n"
          ]
        }
      ]
    },
    {
      "cell_type": "code",
      "source": [
        "import functools\n",
        "\n",
        "import numpy as np\n",
        "\n",
        "from finetuning import datasets\n",
        "from transplant.datasets import physionet\n",
        "\n",
        "\n",
        "def extract_challenge17_data(db_dir, verbose=False):\n",
        "    # This is the author's extraction code\n",
        "    records, labels = physionet.read_challenge17_data(db_dir, verbose=verbose)\n",
        "    return records, labels\n",
        "\n",
        "\n",
        "def process_extracted_challenge17_data(\n",
        "    records, labels, fs=None, pad=None, normalize=False, verbose=False):\n",
        "    \"\"\"\n",
        "    This is our code that performs pre-processing only.\n",
        "\n",
        "    Args:\n",
        "        records: See extract_challenge17_data.\n",
        "        labels: See extract_challenge17_data.\n",
        "        fs (int): Sampling rate.\n",
        "        pad (int): Length that each record should be padded to (or truncated)\n",
        "            pad / fs will give the approximate length in seconds.\n",
        "        normalize (bool): Whether to standardize the records using mean and s.d.\n",
        "            computed over the entire dataset. Note that the mean and s.d. have\n",
        "            already been provided by the authors.\n",
        "    \"\"\"\n",
        "    if normalize:\n",
        "        normalize = functools.partial(\n",
        "            physionet.normalize_challenge17, inplace=True)\n",
        "    # This is the author's preprocessing code\n",
        "    data_set = datasets._prepare_data(\n",
        "        records,\n",
        "        labels,\n",
        "        normalize_fn=normalize,\n",
        "        fs=fs,\n",
        "        pad=pad,\n",
        "        verbose=verbose)\n",
        "    return data_set"
      ],
      "metadata": {
        "id": "iJAsRdJYvKkb"
      },
      "execution_count": null,
      "outputs": []
    },
    {
      "cell_type": "code",
      "source": [
        "%%time\n",
        "from transplant.utils import load_pkl\n",
        "\n",
        "records = load_pkl(f\"{DEMO_DATA_DIR}/records.pkl\")[\"data\"]\n",
        "labels = load_pkl(f\"{DEMO_DATA_DIR}/labels.pkl\")[\"data\"]\n",
        "physionet_data = process_extracted_challenge17_data(\n",
        "    records,\n",
        "    labels,\n",
        "    fs=250,\n",
        "    pad=16384,\n",
        "    normalize=True,\n",
        "    verbose=True,\n",
        ")"
      ],
      "metadata": {
        "colab": {
          "base_uri": "https://localhost:8080/"
        },
        "id": "2gYQVm6et4IO",
        "outputId": "647088eb-0250-477e-bcd7-6d0d86f85cf7"
      },
      "execution_count": null,
      "outputs": [
        {
          "output_type": "stream",
          "name": "stderr",
          "text": [
            "Resampling records: 100%|██████████| 8528/8528 [00:03<00:00, 2175.43it/s]\n"
          ]
        },
        {
          "output_type": "stream",
          "name": "stdout",
          "text": [
            "CPU times: user 6.99 s, sys: 1.27 s, total: 8.26 s\n",
            "Wall time: 8.22 s\n"
          ]
        }
      ]
    },
    {
      "cell_type": "markdown",
      "source": [
        "#### Exploration\n",
        "\n",
        "Labels are in the form one-hot encoded arrays. The labels `A`, `N`, `O` and `~` represent AF, Normal, Other and Noise, respectively.\n",
        "\n",
        "The distribution of label values is shown below. Note that less than 10% of the data is labeled AF."
      ],
      "metadata": {
        "id": "GYtqI3SFytFQ"
      }
    },
    {
      "cell_type": "code",
      "source": [
        "print(f'Shape of the fine-tuning data labels: {labels.shape}')\n",
        "labels.value_counts()"
      ],
      "metadata": {
        "colab": {
          "base_uri": "https://localhost:8080/"
        },
        "id": "lOy9HElTwuuB",
        "outputId": "19102763-6c46-418b-b544-27434f07bcd2"
      },
      "execution_count": null,
      "outputs": [
        {
          "output_type": "stream",
          "name": "stdout",
          "text": [
            "(8528, 4)\n"
          ]
        },
        {
          "output_type": "execute_result",
          "data": {
            "text/plain": [
              "A  N  O  ~\n",
              "0  1  0  0    5050\n",
              "   0  1  0    2456\n",
              "1  0  0  0     738\n",
              "0  0  0  1     284\n",
              "Name: count, dtype: int64"
            ]
          },
          "metadata": {},
          "execution_count": 33
        }
      ]
    },
    {
      "cell_type": "markdown",
      "source": [
        "The `_prepare_data()` function packs ECG signals (resampled and padded) and labels into a dictonary ready to be consumed by `train_test_split` in `sklearn`. To save data pre-processing time in the fine-tuning precedure, we split the pre-processed data (i.e. the `physionet_data` variable) into train and test sets and saved them in pickle form."
      ],
      "metadata": {
        "id": "i32g3k71343l"
      }
    },
    {
      "cell_type": "code",
      "source": [
        "print(f'PhysioNet data summary:')\n",
        "print(f'Number of samples: {len(physionet_data[\"x\"])}')\n",
        "print(f\"labels: {physionet_data['classes']}\")\n",
        "print(f'Dimensions of a sample: {physionet_data[\"x\"][0].shape}')\n",
        "# TODO: are we plotting this record id or can we delete this print statement?\n",
        "print(\n",
        "    f'Record id {physionet_data[\"record_ids\"][0]} one-hot encoded label:'\n",
        "    f' {physionet_data[\"y\"][0]}'\n",
        ")"
      ],
      "metadata": {
        "colab": {
          "base_uri": "https://localhost:8080/"
        },
        "id": "I9txJh5qvXwI",
        "outputId": "f71736c9-c09f-4aa7-8b54-837e1ed79e5e"
      },
      "execution_count": null,
      "outputs": [
        {
          "output_type": "stream",
          "name": "stdout",
          "text": [
            "PhysioNet data summary:\n",
            "Number of samples: 8528\n",
            "labels: ['A' 'N' 'O' '~']\n",
            "Dimensions of a sample: (16384, 1)\n",
            "recoed id A00001 one hot encoded label: [0 1 0 0]\n"
          ]
        }
      ]
    },
    {
      "cell_type": "code",
      "source": [
        "print(f'Record id: {physionet_data[\"record_ids\"][3]}')\n",
        "print(f'One-hot encoded label: {physionet_data[\"y\"][3]}')\n",
        "_ = plt.plot(np.arange(physionet_data[\"x\"][3].shape[0])/250, physionet_data[\"x\"][3])\n",
        "_ = plt.xlabel('Second')\n",
        "_ = plt.ylabel('ECG Signal')"
      ],
      "metadata": {
        "colab": {
          "base_uri": "https://localhost:8080/",
          "height": 484
        },
        "id": "dkG_Bhzr2diK",
        "outputId": "7a775a34-9676-4cd1-ccb0-01d72dff7c59"
      },
      "execution_count": null,
      "outputs": [
        {
          "output_type": "stream",
          "name": "stdout",
          "text": [
            "recoed id: A00004\n",
            "one hot encoded label: [1 0 0 0]\n"
          ]
        },
        {
          "output_type": "display_data",
          "data": {
            "text/plain": [
              "<Figure size 640x480 with 1 Axes>"
            ],
            "image/png": "[encoded data removed]"
          },
          "metadata": {}
        }
      ]
    },
    {
      "cell_type": "markdown",
      "metadata": {
        "id": "3muyDPFPbozY"
      },
      "source": [
        "## Model used by authors\n",
        "In this project, the CNN model of choice is ResNet-18v2. We used the 1-D ResNet-18v2 implemented in the paper's Github repo to reproduce the paper's result.\n",
        "\n",
        "We show how to use paper author's code to create a 1-D ResNet-18v2 for beat classification in pre-training and AF classification in fine-tuning.\n",
        "\n",
        "* Model architecture\n",
        "  * 18 layers\n",
        "  * Input layer consists of convolution layer with 64 filters, kernel size=3 and stride=2. The output of the convolution layer passes through batch norm, ReLu and maxpooling layers sequentially.\n",
        "  * Output layer is a classifier consisting of a densely-connected layer followed by softmax function.\n",
        "  * The middle 16 layers consist of 8 residual blocks. A residual block consists of the following two components and outputs the sum of the two components' outputs.\n",
        "    1. Two convolution layers, each followed by batch norm and ReLu.\n",
        "    2. A shortcut that passes the input through a convolution layer followed by batch norm.\n",
        "  * Configurations of the residual blocks\n",
        "    * 1st and 2nd: 64 filters, kernel size=7, strides=2 and 1, respectively\n",
        "    * 3rd and 4th: 128 filters, kernel size=5, strides=2 and 1, respectively\n",
        "    * 5th and 6th: 256 filters, kernel size=5, strides=2 and 1, respectively\n",
        "    * 7th and 8th: 512 filters, kernel size=3, strides=2 and 1, respectively\n",
        "  * Detail [here](https://github.com/myles-i/DLH_TransferLearning/blob/master/transplant/modules/resnet1d.py).\n",
        "* Pre-training objectives\n",
        "  * Loss function: [Sparse Categorical Cross Entropy](https://www.tensorflow.org/api_docs/python/tf/keras/losses/SparseCategoricalCrossentropy)\n",
        "    * `from_logits=True`\n",
        "    * All other parameters are set to their default values.\n",
        "  * Optimizer: [Adam](https://www.tensorflow.org/api_docs/python/tf/keras/optimizers/Adam)\n",
        "    * `learning_rate`: 0.001 (default)\n",
        "    * `beta_1`: 0.9\n",
        "    * `beta_2`: 0.98\n",
        "    * All other parameters are set to their default values.\n",
        "  * Metric: [Sparse Categorical Accuracy](https://www.tensorflow.org/api_docs/python/tf/keras/metrics/SparseCategoricalAccuracy)\n",
        "* Fine-tuning objectives\n",
        "  * Loss function: [Categorical Cross Entropy](https://www.tensorflow.org/api_docs/python/tf/keras/losses/CategoricalCrossentropy)\n",
        "    * All parameters are set to their default values.\n",
        "  * Optimizer: [Adam](https://www.tensorflow.org/api_docs/python/tf/keras/optimizers/Adam)\n",
        "    * `learning_rate`: 0.001 (default)\n",
        "    * All other parameters are set to their default values.\n",
        "  * Metrics:\n",
        "    * [Accuracy](https://www.tensorflow.org/api_docs/python/tf/keras/metrics/CategoricalAccuracy)\n",
        "    * Macro F1. See our `my_f1()` function below.\n",
        "\n",
        "\n"
      ]
    },
    {
      "cell_type": "markdown",
      "source": [
        "### Pre-training 1-D ResNet-18v2\n",
        "Below we construct the pre-training ResNet-18v2 and show its structure."
      ],
      "metadata": {
        "id": "4ifheiBfDhpu"
      }
    },
    {
      "cell_type": "code",
      "execution_count": null,
      "metadata": {
        "colab": {
          "base_uri": "https://localhost:8080/"
        },
        "id": "7_6BokS53jGA",
        "outputId": "136b83b1-d983-4851-8bef-29497c8c0919"
      },
      "outputs": [
        {
          "output_type": "stream",
          "name": "stdout",
          "text": [
            "Model: \"sequential_1\"\n",
            "_________________________________________________________________\n",
            " Layer (type)                Output Shape              Param #   \n",
            "=================================================================\n",
            " sequential (Sequential)     (None, 512)               4492480   \n",
            "                                                                 \n",
            " dense (Dense)               (None, 5)                 2565      \n",
            "                                                                 \n",
            "=================================================================\n",
            "Total params: 4495045 (17.15 MB)\n",
            "Trainable params: 4485445 (17.11 MB)\n",
            "Non-trainable params: 9600 (37.50 KB)\n",
            "_________________________________________________________________\n"
          ]
        }
      ],
      "source": [
        "import tensorflow as tf\n",
        "\n",
        "from transplant.modules.resnet1d import ResNet\n",
        "from transplant.datasets import icentia11k\n",
        "from transplant.modules.utils import build_input_tensor_from_shape\n",
        "\n",
        "\n",
        "resnet = ResNet(\n",
        "    num_outputs=None,\n",
        "    blocks=(2, 2, 2, 2),\n",
        "    kernel_size=(7, 5, 5, 3),\n",
        "    include_top=False\n",
        ")\n",
        "\n",
        "feature_extractor = tf.keras.Sequential([\n",
        "    resnet,\n",
        "    tf.keras.layers.GlobalAveragePooling1D()\n",
        "])\n",
        "\n",
        "num_classes = len(icentia11k.ds_beat_names)  # 5\n",
        "\n",
        "model = tf.keras.Sequential([\n",
        "    feature_extractor,\n",
        "    tf.keras.layers.Dense(num_classes)\n",
        "])\n",
        "\n",
        "model.compile(\n",
        "    optimizer=tf.keras.optimizers.Adam(beta_1=0.9, beta_2=0.98, epsilon=1e-9),\n",
        "    loss=tf.keras.losses.SparseCategoricalCrossentropy(from_logits=True),\n",
        "    metrics=[tf.keras.metrics.SparseCategoricalAccuracy(name='acc')]\n",
        ")\n",
        "\n",
        "# Initialize the weights of the model\n",
        "train_data = dataset.batch(32)\n",
        "input_shape, _ = tf.compat.v1.data.get_output_shapes(train_data)\n",
        "input_dtype, _ = tf.compat.v1.data.get_output_types(train_data)\n",
        "inputs = build_input_tensor_from_shape(\n",
        "    input_shape,\n",
        "    dtype=input_dtype,\n",
        "    ignore_batch_dim=True\n",
        ")\n",
        "model(inputs)\n",
        "model.summary()"
      ]
    },
    {
      "cell_type": "markdown",
      "metadata": {
        "id": "HL9H4FYP4Kq-"
      },
      "source": [
        "### Fine-tuning 1-D ResNet-18v2\n",
        "\n",
        "The fine-tuning CNN model in the paper is the pre-training model with its output layer replaced with a fully connected layer that matches the classes of the PhysioNet 2017 dataset and has randomly initialized weights. Below is a demonstration to construct fine-tuning CNN model. Note the model's number of parameters is identical to that of the pre-training CNN, and the output layer has four outputs, instead of five."
      ]
    },
    {
      "cell_type": "code",
      "source": [
        "resnet2 = ResNet(\n",
        "    num_outputs=None,\n",
        "    blocks=(2, 2, 2, 2),\n",
        "    kernel_size=(7, 5, 5, 3),\n",
        "    include_top=False\n",
        ")\n",
        "\n",
        "ft_model = tf.keras.Sequential([\n",
        "    resnet2,\n",
        "    tf.keras.layers.GlobalAveragePooling1D()\n",
        "])\n",
        "\n",
        "# Initialize the weights of the model\n",
        "inputs = tf.keras.layers.Input(\n",
        "    physionet_data['x'].shape[1:], dtype=physionet_data['x'].dtype\n",
        ")\n",
        "ft_model(inputs)\n",
        "\n",
        "# Load pre-training weights, if any\n",
        "pre_trained_weights = None\n",
        "if pre_trained_weights:\n",
        "    ft_model.load_weights(pre_trained_weights)\n",
        "\n",
        "# Replace output layer\n",
        "num_classes = len(physionet_data['classes'])  # 4\n",
        "ft_model.add(\n",
        "    tf.keras.layers.Dense(num_classes, activation='softmax', name='new_dense')\n",
        ")\n",
        "\n",
        "ft_model.compile(\n",
        "    optimizer=tf.keras.optimizers.Adam(),\n",
        "    loss=tf.keras.losses.CategoricalCrossentropy(),\n",
        "    metrics=[tf.keras.metrics.CategoricalAccuracy(name='acc')]\n",
        ")\n",
        "ft_model.summary()"
      ],
      "metadata": {
        "colab": {
          "base_uri": "https://localhost:8080/"
        },
        "id": "NrD53OcmHZ-H",
        "outputId": "f006d991-dbe0-44b1-87d5-c4b123de90ce"
      },
      "execution_count": null,
      "outputs": [
        {
          "output_type": "stream",
          "name": "stdout",
          "text": [
            "Model: \"sequential_7\"\n",
            "_________________________________________________________________\n",
            " Layer (type)                Output Shape              Param #   \n",
            "=================================================================\n",
            " res_net_5 (ResNet)          (None, 512, 512)          4492480   \n",
            "                                                                 \n",
            " global_average_pooling1d_5  (None, 512)               0         \n",
            "  (GlobalAveragePooling1D)                                       \n",
            "                                                                 \n",
            " new_dense (Dense)           (None, 4)                 2052      \n",
            "                                                                 \n",
            "=================================================================\n",
            "Total params: 4494532 (17.15 MB)\n",
            "Trainable params: 4484932 (17.11 MB)\n",
            "Non-trainable params: 9600 (37.50 KB)\n",
            "_________________________________________________________________\n"
          ]
        }
      ]
    },
    {
      "cell_type": "markdown",
      "source": [
        "## Training"
      ],
      "metadata": {
        "id": "BjSHJ3uxvGv4"
      }
    },
    {
      "cell_type": "markdown",
      "source": [
        "### Hyperparameters\n",
        "\n",
        "TODO Report at least 3 types of hyperparameters such as learning rate, batch size, hidden size, dropout.\n",
        "\n",
        "There is already some info in model section, move it to here."
      ],
      "metadata": {
        "id": "uFdjDQwKzl7W"
      }
    },
    {
      "cell_type": "markdown",
      "source": [
        "#### TODO Pre-training\n",
        "\n",
        "TODO"
      ],
      "metadata": {
        "id": "1-4YJcZzzqFz"
      }
    },
    {
      "cell_type": "markdown",
      "source": [
        "#### TODO Fine-tuning\n",
        "\n",
        "TODO"
      ],
      "metadata": {
        "id": "CrzYKyrUzt4Q"
      }
    },
    {
      "cell_type": "markdown",
      "source": [
        "### Computational Requirements\n",
        "\n",
        "TODO Report at least 3 types of requirements such as type of hardware, average runtime for each epoch, total number of trials, GPU hrs used, # training epochs\n",
        "Training code\n",
        "\n",
        "---\n",
        "For the full pre-training and fine-tuning processes, we use Google Colab Pro, V100 GPU (16 GB RAM).\n",
        "\n"
      ],
      "metadata": {
        "id": "xE3GC0EJz_n7"
      }
    },
    {
      "cell_type": "markdown",
      "source": [
        "#### Pre-training\n",
        "\n",
        "During pre-training, we chose a batch size of 512 to fully utilize the 16 GB of RAM on the V100 GPU. However, our training rate has been limited by not by the GPU speed, but the I/O time required to load/unzip the data files from disk. Experimenting with using A100 GPUs which has more RAM (i.e. larger batch size) and is generally faster, we were unable to get significant speed improvements to justify the extra hourly cost of the A100 GPU.\n",
        "\n",
        "With a frame size of 4096, loading 4096 samples per patient and a batch size of 512, training on 2048 patient data (about 20%) took 2 hours and 30 minutes. During this time, we saved 16 checkpoints to be able to study how fine-tuning on different amounts of pre-training affects the final model's performance after fine-tuning."
      ],
      "metadata": {
        "id": "ubGljHxc0MwP"
      }
    },
    {
      "cell_type": "markdown",
      "metadata": {
        "id": "tizjzeOoHRJE"
      },
      "source": [
        "#### Fine-tuning\n",
        "\n",
        "Unlike pre-training, we did not experience I/O overhead during training as the processed PhysioNet train and test data (pickles) were able to fit into RAM.\n",
        "\n",
        "We ran fine-tuning with 200 epochs but observed early stopping before 80 epochs in both pre-trained network and random network scenarios.\n",
        "\n",
        "We observed that fine-tuning took between 21 to 22 seconds per epoch, on average. Fine-tuning usually completed within 30 minutes on V100 GPUs."
      ]
    },
    {
      "cell_type": "markdown",
      "source": [
        "### [TODO Not needed b/c merge with above Computational Requirements section?] Implementation Details"
      ],
      "metadata": {
        "id": "7HnrvmtLvCLU"
      }
    },
    {
      "cell_type": "markdown",
      "source": [
        "#### [TODO not sure needed, the command line api seems enough to show]Pre-training\n",
        "For beat classification pre-training, a checkpoint function is created to monitor training loss and save model weights of each epoch. The below cell demonstrates pre-training with a small dataset.\n",
        "\n",
        "* Note that the model weights of each epoch are saved for fine-tuning model initialization.\n",
        "* Also note that in `keras` and the way the authors implemented the pre-training step, 1 epoch is defined by batch size and steps-per-epoch (it does not imply training on the entire dataset once)."
      ],
      "metadata": {
        "id": "v4GE3mPJOQCU"
      }
    },
    {
      "cell_type": "code",
      "execution_count": null,
      "metadata": {
        "colab": {
          "base_uri": "https://localhost:8080/"
        },
        "id": "RG7-Rb4aHVfp",
        "outputId": "a7b2f0a5-b163-42e2-f2cc-fc9b721415bb"
      },
      "outputs": [
        {
          "name": "stdout",
          "output_type": "stream",
          "text": [
            "Epoch 1/2\n",
            "\n",
            "Epoch 1: saving model to /tmp/jobs/draft_demo/epoch_01/model.weights\n",
            "64/64 - 16s - loss: 0.2106 - acc: 0.9463 - 16s/epoch - 258ms/step\n",
            "Epoch 2/2\n",
            "\n",
            "Epoch 2: saving model to /tmp/jobs/draft_demo/epoch_02/model.weights\n",
            "64/64 - 2s - loss: 0.0649 - acc: 0.9810 - 2s/epoch - 29ms/step\n"
          ]
        },
        {
          "data": {
            "text/plain": [
              "<keras.src.callbacks.History at 0x7c93136670d0>"
            ]
          },
          "execution_count": 9,
          "metadata": {},
          "output_type": "execute_result"
        }
      ],
      "source": [
        "DRAFT_DEMO_JOB = JOB_DIR + '/draft_demo'\n",
        "\n",
        "checkpoint = tf.keras.callbacks.ModelCheckpoint(\n",
        "    filepath=str(DRAFT_DEMO_JOB + '/epoch_{epoch:02d}' + '/model.weights'),\n",
        "    monitor='loss',\n",
        "    save_best_only=False,\n",
        "    save_weights_only=True,\n",
        "    mode='auto',\n",
        "    verbose=1\n",
        ")\n",
        "\n",
        "_ = model.fit(\n",
        "    train_data,\n",
        "    steps_per_epoch=64,\n",
        "    verbose=2,\n",
        "    epochs=2,\n",
        "    validation_data=None,\n",
        "    callbacks=[checkpoint]\n",
        ")"
      ]
    },
    {
      "cell_type": "markdown",
      "source": [
        "### Command Line API\n",
        "\n",
        "The paper authors provide entrypoint scripts to run the entire pre-training and fine-tuning process with parameters of choice. The following is the high level description of how the scripts work."
      ],
      "metadata": {
        "id": "_tGIIcCavUUB"
      }
    },
    {
      "cell_type": "markdown",
      "metadata": {
        "id": "PjhVgufs6OIR"
      },
      "source": [
        "#### Pre-training\n",
        "\n",
        "The source code from the paper authors can be found [here](https://github.com/myles-i/DLH_TransferLearning/tree/master/pretraining).\n",
        "\n",
        "1. Create train/validate data generator based on patient id and the number of samples per patient, both specified when calling the entrypoint.\n",
        "2. A model is generated based on the model architectrue and pre-training task specified by the user.\n",
        "3. Weights of the model are initialized. They can also be loaded from a weights file. For all pre-training in the project, we don't load weights.\n",
        "4. Checkpoint function is created based on training metric. For pre-training, we use `loss` as training metric.\n",
        "5. The model fits the train data. At the end of each training epoch, the checkpoint function is called for evaluation and save the model weights.\n",
        "\n",
        "The paper uses 95% of the patient's ECG data. On average, the paper sample 4096 ECG frames per patient, which amounts to 42.8 million (11000x0.95x4096) training samples over the course of pre-training. For pre-training with 20% of the data used in paper, we use ECG data from 2048 patients and sample 4096 ECG frames per patient, resulting to roughly 8.4 million (2048x4096) training samples."
      ]
    },
    {
      "cell_type": "markdown",
      "metadata": {
        "id": "wnsQfTsc26yA"
      },
      "source": [
        "The following sample command calls the pre-training entrypoint to run pre-training with 20% of the data used in the paper.\n",
        "\n",
        "* The command is easily adapted to run pre-training with 10% of the data in the paper.\n",
        "\n",
        "```bash\n",
        "!time python -m pretraining.trainer \\\n",
        "--job-dir \"jobs/beat_classification_16epochs_to_20percent\" \\\n",
        "--task \"beat\" \\\n",
        "--train {TRAIN_DATASET} \\\n",
        "--arch \"resnet18\" \\\n",
        "--epochs 16 \\\n",
        "--patient-ids `seq 0 2047 | paste -sd, -` \\\n",
        "--steps-per-epoch 1024 \\\n",
        "--samples-per-patient 4096 \\\n",
        "--batch-size 512 \\\n",
        "--frame-size 4096\n",
        "```\n",
        "\n",
        "Explanation of the less obvious parameters:\n",
        "\n",
        "* `--job-dir`: Output directory, where check points and weights are saved.\n",
        "\n",
        "* `--task`: Pre-training task, `beat` for Beat classification.\n",
        "\n",
        "* `--patient-ids`: Patient id(s) whose ECG data to be used in pre-training.\n",
        "\n",
        "  * Multiple patients can be specified by passing a space separated sequence of ids.\n",
        "\n",
        "* `--frame-size`: Number of ECG samples, with 250Hz sampling rate, in a ECG frame.\n",
        "\n",
        "To use all data: number of patients x samples_per_patient = epochs x batch_size x steps-per-epoch.\n",
        "\n",
        "For demonstration, we run the script in a much smaller scale below:"
      ]
    },
    {
      "cell_type": "code",
      "execution_count": null,
      "metadata": {
        "id": "aZVzl7k1vdAO"
      },
      "outputs": [],
      "source": [
        "PRETRAIN_JOB_DIR = DRAFT_DEMO_JOB + '/pretraining'"
      ]
    },
    {
      "cell_type": "code",
      "execution_count": null,
      "metadata": {
        "colab": {
          "base_uri": "https://localhost:8080/"
        },
        "id": "YBVu9Fas18M4",
        "outputId": "0f4e3ffd-5a8c-40f0-b36b-dbf738d3b1cd"
      },
      "outputs": [
        {
          "name": "stdout",
          "output_type": "stream",
          "text": [
            "2024-04-15 01:24:06.083853: E external/local_xla/xla/stream_executor/cuda/cuda_dnn.cc:9261] Unable to register cuDNN factory: Attempting to register factory for plugin cuDNN when one has already been registered\n",
            "2024-04-15 01:24:06.083900: E external/local_xla/xla/stream_executor/cuda/cuda_fft.cc:607] Unable to register cuFFT factory: Attempting to register factory for plugin cuFFT when one has already been registered\n",
            "2024-04-15 01:24:06.085042: E external/local_xla/xla/stream_executor/cuda/cuda_blas.cc:1515] Unable to register cuBLAS factory: Attempting to register factory for plugin cuBLAS when one has already been registered\n",
            "2024-04-15 01:24:07.100942: W tensorflow/compiler/tf2tensorrt/utils/py_utils.cc:38] TF-TRT Warning: Could not find TensorRT\n",
            "Creating working directory in /tmp/jobs/draft_demo/pretraining\n",
            "Setting random state 2024\n",
            "Building train data generators\n",
            "WARNING:tensorflow:From /tmp/repo/pretraining/datasets.py:33: calling DatasetV2.from_generator (from tensorflow.python.data.ops.dataset_ops) with output_types is deprecated and will be removed in a future version.\n",
            "Instructions for updating:\n",
            "Use output_signature instead\n",
            "WARNING:tensorflow:From /tmp/repo/pretraining/datasets.py:33: calling DatasetV2.from_generator (from tensorflow.python.data.ops.dataset_ops) with output_shapes is deprecated and will be removed in a future version.\n",
            "Instructions for updating:\n",
            "Use output_signature instead\n",
            "2024-04-15 01:24:08.617557: W tensorflow/core/common_runtime/gpu/gpu_bfc_allocator.cc:47] Overriding orig_value setting because the TF_FORCE_GPU_ALLOW_GROWTH environment variable is set. Original config value was 0.\n",
            "Building model ...\n",
            "# model parameters: 4,495,045\n",
            "Epoch 1/2\n",
            "WARNING: All log messages before absl::InitializeLog() is called are written to STDERR\n",
            "I0000 00:00:1713144262.416097    2522 device_compiler.h:186] Compiled cluster using XLA!  This line is logged at most once for the lifetime of the process.\n",
            "\n",
            "Epoch 1: saving model to /tmp/jobs/draft_demo/pretraining/epoch_01/model.weights\n",
            "8/8 - 18s - loss: 0.6265 - acc: 0.7998 - 18s/epoch - 2s/step\n",
            "Epoch 2/2\n",
            "\n",
            "Epoch 2: saving model to /tmp/jobs/draft_demo/pretraining/epoch_02/model.weights\n",
            "8/8 - 1s - loss: 0.1115 - acc: 0.9741 - 1s/epoch - 162ms/step\n",
            "Exception ignored in: <function AtomicFunction.__del__ at 0x78f32b797640>\n",
            "Traceback (most recent call last):\n",
            "  File \"/usr/local/lib/python3.10/dist-packages/tensorflow/python/eager/polymorphic_function/atomic_function.py\", line 291, in __del__\n",
            "TypeError: 'NoneType' object is not subscriptable\n",
            "CPU times: user 174 ms, sys: 29 ms, total: 203 ms\n",
            "Wall time: 27 s\n"
          ]
        }
      ],
      "source": [
        "%%time\n",
        "!python -m pretraining.trainer \\\n",
        "--job-dir {PRETRAIN_JOB_DIR} \\\n",
        "--task \"beat\" \\\n",
        "--train {DEMO_DATA_DIR} \\\n",
        "--arch \"resnet18\" \\\n",
        "--epochs 2 \\\n",
        "--patient-ids 0 \\\n",
        "--steps-per-epoch 8 \\\n",
        "--samples-per-patient 4096 \\\n",
        "--batch-size 256 \\\n",
        "--frame-size 1024 \\\n",
        "--unzipped True \\\n",
        "--seed 2024"
      ]
    },
    {
      "cell_type": "markdown",
      "metadata": {
        "id": "pX7Rvzla4KrA"
      },
      "source": [
        "\n",
        "#### Fine-tuning\n",
        "\n",
        "The source code from the paper authors can be found [here](https://github.com/myles-i/DLH_TransferLearning/tree/master/finetuning).\n",
        "\n",
        "1. Train and test data set are already separated from the PhysioNet 2017 dataset, with a 80%/20% split, and are passed to the entrypoint. The validation dataset will be further separated from the train dataset based on user input.\n",
        "2. A CNN model is generated based on the model architectrue specified by the user. Its output layer is fully connected with softmax activation.\n",
        "3. Weights of the model are initialized. They can also be loaded from a weights file.\n",
        "4. Checkpoint function is created based on validation metric. For fine-tuning, we use `f1` as the metric.\n",
        "5. The model fits the train data. At the end of each training epoch, the checkpoint function is called for evaluation and saves the model weights with best macro F1 score on the validation set. Note that the model also is setup to end training early if the validation accuracy does not improve after 50 epochs.\n",
        "6. The model is evaluated on the test set and the predicted probabilities are saved to a csv file.\n"
      ]
    },
    {
      "cell_type": "markdown",
      "metadata": {
        "id": "Yd-4RslV7b0o"
      },
      "source": [
        "The following sample command calls the fine-tuning entrypoint to run fine-tuning with random initialization.\n",
        "\n",
        "```bash\n",
        "python -m finetuning.trainer \\\n",
        "--job-dir {JOB_DIR} \\\n",
        "--train {FINETUNE_TRAIN} \\\n",
        "--test {FINETUNE_TEST} \\\n",
        "--val-size 0.0625 \\\n",
        "--val-metric \"f1\" \\\n",
        "--arch \"resnet18\" \\\n",
        "--batch-size 128 \\\n",
        "--epochs 200 \\\n",
        "--seed 2024 \\\n",
        "--verbose\n",
        "```\n",
        "\n",
        "Explanation of the less obvious parameters:\n",
        "\n",
        "* `--job-dir`: Output directory, where checkpoints and weights are saved.\n",
        "* `--val-size`: This is the percentage of the train set size to set aside for the validation set.\n",
        "  * Note that the PhysioNet data was already split into 80% train, 20% test. The paper uses 5% of the full dataset for validation.\n",
        "  * Math: $6.25\\% * 80\\% = 5\\%$\n",
        "* `--val-metric`: Metric to evaluate the model at the end of each epoch on the validation dataset.\n",
        "* `--seed`: Random state used to split the train into smaller train and validation.\n",
        "\n",
        "Below is a small scale demonstration of fine-tuning with random weight initialization. We first download fine-tuning train and test datasets."
      ]
    },
    {
      "cell_type": "code",
      "execution_count": null,
      "metadata": {
        "id": "aQwScfMgrTFm"
      },
      "outputs": [],
      "source": [
        "%%capture\n",
        "FINETUNE_TRAIN = DEMO_DATA_DIR + '/physionet_train.pkl'\n",
        "FINETUNE_TEST = DEMO_DATA_DIR + '/physionet_test.pkl'\n",
        "!gdown 10PVz1nmMaeIgxQ4sqDUeZlzhFVHOth5I -O {FINETUNE_TRAIN}\n",
        "!gdown 10FKjncGOZD6_BBCBbvpBQbWvfCLj88MC -O {FINETUNE_TEST}"
      ]
    },
    {
      "cell_type": "code",
      "execution_count": null,
      "metadata": {
        "id": "d2TJ3mzh6wUB"
      },
      "outputs": [],
      "source": [
        "FINETUNE_JOB_DIR = DRAFT_DEMO_JOB + '/finetuning_random'"
      ]
    },
    {
      "cell_type": "code",
      "execution_count": null,
      "metadata": {
        "colab": {
          "base_uri": "https://localhost:8080/"
        },
        "id": "sV1EBd7Z6nr_",
        "outputId": "71d620fd-611e-4da7-aac1-aaf07c177c14"
      },
      "outputs": [
        {
          "name": "stdout",
          "output_type": "stream",
          "text": [
            "2024-04-15 01:24:50.193872: E external/local_xla/xla/stream_executor/cuda/cuda_dnn.cc:9261] Unable to register cuDNN factory: Attempting to register factory for plugin cuDNN when one has already been registered\n",
            "2024-04-15 01:24:50.193919: E external/local_xla/xla/stream_executor/cuda/cuda_fft.cc:607] Unable to register cuFFT factory: Attempting to register factory for plugin cuFFT when one has already been registered\n",
            "2024-04-15 01:24:50.195047: E external/local_xla/xla/stream_executor/cuda/cuda_blas.cc:1515] Unable to register cuBLAS factory: Attempting to register factory for plugin cuBLAS when one has already been registered\n",
            "2024-04-15 01:24:51.167684: W tensorflow/compiler/tf2tensorrt/utils/py_utils.cc:38] TF-TRT Warning: Could not find TensorRT\n",
            "Creating working directory in FINETUNE_JOB_DIR\n",
            "Setting random state 2024\n",
            "Loading train data from /tmp/data/draft_demo/physionet_train.pkl ...\n",
            "Split data into train 93.74% and validation 6.26%\n",
            "Loading test data from /tmp/data/draft_demo/physionet_test.pkl ...\n",
            "Train data shape: (6395, 16384, 1)\n",
            "2024-04-15 01:24:59.889756: W tensorflow/core/common_runtime/gpu/gpu_bfc_allocator.cc:47] Overriding orig_value setting because the TF_FORCE_GPU_ALLOW_GROWTH environment variable is set. Original config value was 0.\n",
            "Building model ...\n",
            "# model parameters: 4,494,532\n",
            "Epoch 1/2\n",
            "WARNING: All log messages before absl::InitializeLog() is called are written to STDERR\n",
            "I0000 00:00:1713144315.763452    3445 device_compiler.h:186] Compiled cluster using XLA!  This line is logged at most once for the lifetime of the process.\n",
            "4/4 [==============================] - 1s 99ms/step\n",
            "\n",
            "Epoch 00001: f1 improved from -inf to 0.37546, saving model to FINETUNE_JOB_DIR/best_model.weights\n",
            "50/50 - 43s - loss: 0.9563 - acc: 0.6073 - val_loss: 0.8352 - val_acc: 0.6511 - f1: 0.3755 - 43s/epoch - 858ms/step\n",
            "Epoch 2/2\n",
            "4/4 [==============================] - 0s 98ms/step\n",
            "\n",
            "Epoch 00002: f1 improved from 0.37546 to 0.43129, saving model to FINETUNE_JOB_DIR/best_model.weights\n",
            "50/50 - 21s - loss: 0.7807 - acc: 0.6711 - val_loss: 0.8438 - val_acc: 0.6300 - f1: 0.4313 - 21s/epoch - 427ms/step\n",
            "Loading the best weights from file FINETUNE_JOB_DIR/best_model.weights ...\n",
            "Predicting training data ...\n",
            "50/50 [==============================] - 5s 99ms/step\n",
            "Predicting validation data ...\n",
            "4/4 [==============================] - 0s 98ms/step\n",
            "Predicting test data ...\n",
            "14/14 [==============================] - 2s 138ms/step\n",
            "CPU times: user 600 ms, sys: 85 ms, total: 685 ms\n",
            "Wall time: 1min 31s\n"
          ]
        }
      ],
      "source": [
        "%%time\n",
        "!python -m finetuning.trainer \\\n",
        "--job-dir {FINETUNE_JOB_DIR} \\\n",
        "--train {FINETUNE_TRAIN} \\\n",
        "--test {FINETUNE_TEST} \\\n",
        "--val-size 0.0625 \\\n",
        "--val-metric \"f1\" \\\n",
        "--arch \"resnet18\" \\\n",
        "--batch-size 128 \\\n",
        "--epochs 2 \\\n",
        "--seed 2024 \\\n",
        "--verbose"
      ]
    },
    {
      "cell_type": "markdown",
      "metadata": {
        "id": "yNnSDq6w7mDX"
      },
      "source": [
        "The following sample command uses the fine-tuning entrypoint to run fine-tuning with pre-training weights.\n",
        "```bash\n",
        "python -m finetuning.trainer \\\n",
        "--job-dir {JOB_DIR} \\\n",
        "--train {FINETUNE_TRAIN} \\\n",
        "--test {FINETUNE_TEST} \\\n",
        "--weights-file {WEIGHTS_FILE} \\\n",
        "--val-size 0.0625 \\\n",
        "--val-metric \"f1\" \\\n",
        "--arch \"resnet18\" \\\n",
        "--batch-size 128 \\\n",
        "--epochs 200 \\\n",
        "--seed 2024 \\\n",
        "--verbose\n",
        "```\n",
        "\n",
        "Largely the same command as the previous for fine-tuning a randomly initialized network. But with this addition.\n",
        "\n",
        "* `--weights-file {WEIGHTS_FILE}`: Path to pre-trained weights or a checkpoint of the model to be used for model initialization."
      ]
    },
    {
      "cell_type": "markdown",
      "metadata": {
        "id": "ueBiFbvjTdIR"
      },
      "source": [
        "Small scale demonstration below using weights obtained from pre-training using 20% of the Icentia11K dataset. We first download model weights from our experiments."
      ]
    },
    {
      "cell_type": "code",
      "execution_count": null,
      "metadata": {
        "colab": {
          "base_uri": "https://localhost:8080/"
        },
        "id": "AZqK1Ixi81f9",
        "outputId": "8ce97577-894d-4f91-a1bb-37b35808836c"
      },
      "outputs": [
        {
          "name": "stdout",
          "output_type": "stream",
          "text": [
            "CPU times: user 232 ms, sys: 44.1 ms, total: 276 ms\n",
            "Wall time: 40.7 s\n"
          ]
        }
      ],
      "source": [
        "%%time\n",
        "%%capture\n",
        "!mkdir -p {JOB_DIR + '/finetune_baseline_65sec'}\n",
        "!gdown 1Tl5CVIDoKFo37Q1FUwCVDqqb84lp-rRk \\\n",
        "    -O {JOB_DIR + '/finetune_baseline_65sec'} --folder\n",
        "\n",
        "!mkdir -p {JOB_DIR + '/finetune_pretrain_20_weights_65sec'}\n",
        "!gdown 1-A0AqZe9sanj-8MZnoX4TUAYWrgcUTlg \\\n",
        "    -O {JOB_DIR + '/finetune_pretrain_20_weights_65sec'} --folder\n",
        "\n",
        "!mkdir -p {JOB_DIR + '/finetune_pretrain_10_weights_65sec'}\n",
        "!gdown 1-363P8B28RZIBwwFVhDvB7suE3nasnji \\\n",
        "    -O {JOB_DIR + '/finetune_pretrain_10_weights_65sec'} --folder"
      ]
    },
    {
      "cell_type": "code",
      "execution_count": null,
      "metadata": {
        "id": "vb51wGvO8Cac"
      },
      "outputs": [],
      "source": [
        "WEIGHTS_FILE = JOB_DIR \\\n",
        "    + '/finetune_pretrain_20_weights_65sec/best_model.weights'\n",
        "FINETUNE_JOB_DIR = DRAFT_DEMO_JOB + '/finetuning_pretrained'"
      ]
    },
    {
      "cell_type": "code",
      "execution_count": null,
      "metadata": {
        "colab": {
          "base_uri": "https://localhost:8080/"
        },
        "id": "wVpmhIw_7tpO",
        "outputId": "d8304ba6-b881-45b4-a2fc-13e647b092b2"
      },
      "outputs": [
        {
          "name": "stdout",
          "output_type": "stream",
          "text": [
            "2024-04-15 01:27:02.647404: E external/local_xla/xla/stream_executor/cuda/cuda_dnn.cc:9261] Unable to register cuDNN factory: Attempting to register factory for plugin cuDNN when one has already been registered\n",
            "2024-04-15 01:27:02.647456: E external/local_xla/xla/stream_executor/cuda/cuda_fft.cc:607] Unable to register cuFFT factory: Attempting to register factory for plugin cuFFT when one has already been registered\n",
            "2024-04-15 01:27:02.648765: E external/local_xla/xla/stream_executor/cuda/cuda_blas.cc:1515] Unable to register cuBLAS factory: Attempting to register factory for plugin cuBLAS when one has already been registered\n",
            "2024-04-15 01:27:03.649451: W tensorflow/compiler/tf2tensorrt/utils/py_utils.cc:38] TF-TRT Warning: Could not find TensorRT\n",
            "Creating working directory in /tmp/jobs/draft_demo/finetuning_pretrained\n",
            "Setting random state 2024\n",
            "Loading train data from /tmp/data/draft_demo/physionet_train.pkl ...\n",
            "Split data into train 93.74% and validation 6.26%\n",
            "Loading test data from /tmp/data/draft_demo/physionet_test.pkl ...\n",
            "Train data shape: (6395, 16384, 1)\n",
            "2024-04-15 01:27:12.548610: W tensorflow/core/common_runtime/gpu/gpu_bfc_allocator.cc:47] Overriding orig_value setting because the TF_FORCE_GPU_ALLOW_GROWTH environment variable is set. Original config value was 0.\n",
            "Building model ...\n",
            "# model parameters: 4,494,532\n",
            "Loading weights from file /tmp/data/finetune_pretrain_20_weights_65sec/best_model.weights ...\n",
            "Epoch 1/2\n",
            "WARNING: All log messages before absl::InitializeLog() is called are written to STDERR\n",
            "I0000 00:00:1713144448.827730    4898 device_compiler.h:186] Compiled cluster using XLA!  This line is logged at most once for the lifetime of the process.\n",
            "4/4 [==============================] - 1s 99ms/step\n",
            "\n",
            "Epoch 00001: f1 improved from -inf to 0.78962, saving model to /tmp/jobs/draft_demo/finetuning_pretrained/best_model.weights\n",
            "50/50 - 43s - loss: 0.2709 - acc: 0.8998 - val_loss: 0.4137 - val_acc: 0.8759 - f1: 0.7896 - 43s/epoch - 863ms/step\n",
            "Epoch 2/2\n",
            "4/4 [==============================] - 0s 98ms/step\n",
            "\n",
            "Epoch 00002: f1 improved from 0.78962 to 0.79956, saving model to /tmp/jobs/draft_demo/finetuning_pretrained/best_model.weights\n",
            "50/50 - 21s - loss: 0.2576 - acc: 0.9066 - val_loss: 0.3839 - val_acc: 0.8759 - f1: 0.7996 - 21s/epoch - 428ms/step\n",
            "Loading the best weights from file /tmp/jobs/draft_demo/finetuning_pretrained/best_model.weights ...\n",
            "Predicting training data ...\n",
            "50/50 [==============================] - 6s 99ms/step\n",
            "Predicting validation data ...\n",
            "4/4 [==============================] - 0s 99ms/step\n",
            "Predicting test data ...\n",
            "14/14 [==============================] - 2s 139ms/step\n",
            "CPU times: user 610 ms, sys: 98.4 ms, total: 708 ms\n",
            "Wall time: 1min 32s\n"
          ]
        }
      ],
      "source": [
        "%%time\n",
        "!python -m finetuning.trainer \\\n",
        "--job-dir {FINETUNE_JOB_DIR} \\\n",
        "--train {FINETUNE_TRAIN} \\\n",
        "--test {FINETUNE_TEST} \\\n",
        "--weights-file {WEIGHTS_FILE} \\\n",
        "--val-size 0.0625 \\\n",
        "--val-metric \"f1\" \\\n",
        "--arch \"resnet18\" \\\n",
        "--batch-size 128 \\\n",
        "--epochs 2 \\\n",
        "--seed 2024 \\\n",
        "--verbose"
      ]
    },
    {
      "cell_type": "markdown",
      "metadata": {
        "id": "cxA8ecxzthX5"
      },
      "source": [
        "# Ablation Study (Hypothesis 3)\n",
        "For the ablation study, we are pre-processing the data to produce a spectogram for each ECG signal and then passing this result into a 2-D ResNet-18v2. Then, the same pre-training and fine-tuning process from the paper is followed. The goal is to test how extensible the papers ideas are to other models. The work-in-progress notebook that includes building the model in `keras`, the data pre-processing function, the `keras` data generators, and running two epochs of pre-training.\n",
        "\n",
        "**Fine-tuning is not yet complete:**\n",
        "\n",
        "Current progress is in this [notebook](https://github.com/myles-i/DLH_TransferLearning/blob/master/jupyter_notebooks/explore_spectogram.ipynb).\n",
        "\n",
        "Below, we explain the preprocessing and model in more detail:\n",
        "\n",
        "### Ablation Preprocessing - spectogram\n",
        "For the spectogram, the following parameters were chosen:\n",
        "\n",
        "- window_size: 256 (~1 second)\n",
        "- stride: 64 (~0.25 seconds)\n",
        "- window type: hanning -> this is like a pre-defined convolution that isused to smooth the FFTs for each spectogram slice\n",
        "\n",
        "After the spectogram for a data sample is computed, only the lower 32 frequency components (from 0-62.5 Hz) are selected to reduce the input size. This was chosen empirically and validated by reproducing the original signal with the filtered spectogram models.\n",
        "\n",
        "The spectogram pre-processing and the data loaders for the pre-training can be found [here](https://github.com/myles-i/DLH_TransferLearning/blob/master/transplant/datasets/icentia11k_spectogram.py).\n",
        "\n",
        "Below, we show the raw ECG signal next to the spectogram of the same signal using our pre-processing function, and then use the spectogram pre-processor on the same ECG signal presented in the earlier \"Data\" section.\n"
      ]
    },
    {
      "cell_type": "code",
      "execution_count": null,
      "metadata": {
        "colab": {
          "base_uri": "https://localhost:8080/",
          "height": 1000
        },
        "id": "cORhGYpy-3DF",
        "outputId": "208853fe-9896-4323-967f-d0dbf4474a17"
      },
      "outputs": [
        {
          "name": "stdout",
          "output_type": "stream",
          "text": [
            "beat label: normal\n"
          ]
        },
        {
          "data": {
            "image/png": "[encoded data removed]",
            "text/plain": [
              "<Figure size 640x480 with 1 Axes>"
            ]
          },
          "metadata": {},
          "output_type": "display_data"
        },
        {
          "data": {
            "image/png": "[encoded data removed]",
            "text/plain": [
              "<Figure size 800x600 with 2 Axes>"
            ]
          },
          "metadata": {},
          "output_type": "display_data"
        }
      ],
      "source": [
        "from transplant.datasets.icentia11k_spectogram import spectogram_preprocessor\n",
        "# use raw data we grabbed earlier\n",
        "\n",
        "# first lets plot the raw signal for comparison\n",
        "print(f\"beat label: {datasets.icentia11k.ds_beat_names[data[1]]}\")\n",
        "_ = plt.plot(np.arange(len(data[0]))/250, data[0])\n",
        "_ = plt.xlabel('second')\n",
        "_ = plt.ylabel('ECG signal')\n",
        "\n",
        "\n",
        "# now lets calculate and plot the spectogra of this raw signal\n",
        "x = spectogram_preprocessor(data[0], frame_size = 4096)\n",
        "\n",
        "fig, ax = plt.subplots(1, 1, figsize=(8, 6))\n",
        "im1 = ax.imshow(np.abs(x[:,:,0]), cmap='viridis', aspect='auto')\n",
        "fig.colorbar(im1, label=\"Magnitude $|S_x(t, f)|$\")\n",
        "ax.set_title(f\"Sample spectogram of shape {x.shape}\")\n",
        "ax.set_xlabel(\"Spectogram slice #\")\n",
        "ax.set_ylabel(\"Frequency Index\")\n",
        "ax.invert_yaxis()\n",
        "plt.show()\n"
      ]
    },
    {
      "cell_type": "markdown",
      "metadata": {
        "id": "s_7HIzCq-OVs"
      },
      "source": [
        "\n",
        "### Ablation Model: 2-D ResNet-18v2\n",
        "The model chosen for the ablation study using spectograms is similar to the original model used, but is a 2-D ResNet-18v2. It is presented here:\n",
        "\n",
        "* Model architecture\n",
        "  * 18 layers\n",
        "  * Input layer consists of convolution layer with 64 filters, kernel size=7x7 and stride=2. The output of the convolution layer passes through batch norm, ReLu and maxpooling layer sequentially.\n",
        "  * The middle 16 layers consists of 8 residual blocks. A residual block consists of the following two components and outputs the sum of the two components' outputs.\n",
        "    1. Two convolution layers, each followed by batch norm and ReLu\n",
        "    2. A shortcut that passes the input through a convolution layer followed by batch norm.\n",
        "  * Output layer is a classifier consisting of a densely-connected layer followed by softmax or sigmoid function.\n",
        "  * Configurations of the residual blocks\n",
        "    * 1st and 2nd: 64 filters, kernel size=3x3, strides=2 and 1, respectively.\n",
        "    * 3rd and 4th: 128 filters, kernel size=3x3, strides=2 and 1, respectively.\n",
        "    * 5th and 6th: 256 filters, kernel size=3x3, strides=2 and 1, respectively.\n",
        "    * 7th and 8th: 512 filters, kernel size=3x3, strides=2 and 1, respectively.\n",
        "\n",
        "* Pre-training objectives\n",
        "  * The same as the original author's 1-D pre-training objectives.\n",
        "\n",
        "* Fine-tuning objectives\n",
        "  * The same as the original author's 1-D pre-training objectives (F1 score)\n",
        "\n",
        "The code for the 2-D ResNet-18v2 can be found [here](https://github.com/myles-i/DLH_TransferLearning/blob/master/transplant/modules/resnet2d.py).\n",
        "\n",
        "This model is built and displayed below for reference:\n",
        "  "
      ]
    },
    {
      "cell_type": "code",
      "execution_count": null,
      "metadata": {
        "colab": {
          "base_uri": "https://localhost:8080/"
        },
        "id": "vly2sx16FH9d",
        "outputId": "b3e0ec7c-1aaa-4da0-d067-2166aea31c62"
      },
      "outputs": [
        {
          "name": "stderr",
          "output_type": "stream",
          "text": [
            "WARNING:tensorflow:AutoGraph could not transform <bound method ResnetBlock.call of <transplant.modules.resnet2d.ResnetBlock object at 0x7c91a1fbacb0>> and will run it as-is.\n",
            "Cause: mangled names are not yet supported\n",
            "To silence this warning, decorate the function with @tf.autograph.experimental.do_not_convert\n"
          ]
        },
        {
          "name": "stdout",
          "output_type": "stream",
          "text": [
            "WARNING: AutoGraph could not transform <bound method ResnetBlock.call of <transplant.modules.resnet2d.ResnetBlock object at 0x7c91a1fbacb0>> and will run it as-is.\n",
            "Cause: mangled names are not yet supported\n",
            "To silence this warning, decorate the function with @tf.autograph.experimental.do_not_convert\n",
            "Model: \"res_net18_2d\"\n",
            "_________________________________________________________________\n",
            " Layer (type)                Output Shape              Param #   \n",
            "=================================================================\n",
            " conv2d (Conv2D)             multiple                  3200      \n",
            "                                                                 \n",
            " batch_normalization_1 (Bat  multiple                  256       \n",
            " chNormalization)                                                \n",
            "                                                                 \n",
            " max_pooling2d (MaxPooling2  multiple                  0         \n",
            " D)                                                              \n",
            "                                                                 \n",
            " resnet_block (ResnetBlock)  multiple                  74368     \n",
            "                                                                 \n",
            " resnet_block_1 (ResnetBloc  multiple                  74368     \n",
            " k)                                                              \n",
            "                                                                 \n",
            " resnet_block_2 (ResnetBloc  multiple                  231296    \n",
            " k)                                                              \n",
            "                                                                 \n",
            " resnet_block_3 (ResnetBloc  multiple                  296192    \n",
            " k)                                                              \n",
            "                                                                 \n",
            " resnet_block_4 (ResnetBloc  multiple                  921344    \n",
            " k)                                                              \n",
            "                                                                 \n",
            " resnet_block_5 (ResnetBloc  multiple                  1182208   \n",
            " k)                                                              \n",
            "                                                                 \n",
            " resnet_block_6 (ResnetBloc  multiple                  3677696   \n",
            " k)                                                              \n",
            "                                                                 \n",
            " resnet_block_7 (ResnetBloc  multiple                  4723712   \n",
            " k)                                                              \n",
            "                                                                 \n",
            " global_average_pooling2d (  multiple                  0         \n",
            " GlobalAveragePooling2D)                                         \n",
            "                                                                 \n",
            " flatten (Flatten)           multiple                  0         \n",
            "                                                                 \n",
            " dense_1 (Dense)             multiple                  2565      \n",
            "                                                                 \n",
            "=================================================================\n",
            "Total params: 11187205 (42.68 MB)\n",
            "Trainable params: 11177605 (42.64 MB)\n",
            "Non-trainable params: 9600 (37.50 KB)\n",
            "_________________________________________________________________\n"
          ]
        }
      ],
      "source": [
        "from transplant.modules.resnet2d import ResNet18_2D\n",
        "import transplant.datasets.icentia11k as icentia11k\n",
        "\n",
        "num_classes = len(icentia11k.ds_beat_names)\n",
        "model = ResNet18_2D(num_classes=num_classes)\n",
        "model.build(input_shape=(None, 64, 64, 1))\n",
        "model.compile(\n",
        "    optimizer=tf.keras.optimizers.Adam(beta_1=0.9, beta_2=0.98, epsilon=1e-9),\n",
        "    loss=tf.keras.losses.SparseCategoricalCrossentropy(from_logits=True),\n",
        "    metrics=[tf.keras.metrics.SparseCategoricalAccuracy(name='acc')]\n",
        ")\n",
        "model.summary()"
      ]
    },
    {
      "cell_type": "markdown",
      "metadata": {
        "id": "40VeOBV16OIR"
      },
      "source": [
        "## Evaluation\n",
        "\n",
        "### Metrics Descriptions\n",
        "\n",
        "In fine-tuning, the paper uses macro F1 score for evaluating the model on the Physionet validation and test sets.\n",
        "\n",
        "We define our macro F1 function `my_f1`. It is named like that because the paper authors define their F1 function named `f1` and we wish to avoid namespace collision. Additionally, our macro F1 function supports providing per-class F1 scores, which the **original** `f1` function does not support."
      ]
    },
    {
      "cell_type": "markdown",
      "metadata": {
        "id": "xITaAZ1j4KrH"
      },
      "source": [
        "\n",
        "### Metrics Implementation code\n",
        "See also analysis section for how we are using this metric in our results\n",
        "\n"
      ]
    },
    {
      "cell_type": "code",
      "execution_count": null,
      "metadata": {
        "id": "HOcCdgMCBJs1"
      },
      "outputs": [],
      "source": [
        "from sklearn.metrics import f1_score\n",
        "import numpy as np\n",
        "\n",
        "def my_f1(y_true, y_prob, average='macro'):\n",
        "    # set average=None to get per-class F1 scores.\n",
        "    y_pred = y_prob >= np.max(y_prob, axis=1)[:, None]\n",
        "    return f1_score(y_true, y_pred, average=average)"
      ]
    },
    {
      "cell_type": "markdown",
      "source": [
        "# Results\n",
        "\n",
        "- Table of results (no need to include additional experiments, but main reproducibility result should be included)\n",
        "- All claims should be supported by experiment results\n",
        "- Discuss with respect to the hypothesis and results from the original paper\n",
        "- Experiments beyond the original paper\n",
        "- Each experiment should include results and a discussion\n",
        "\n",
        "\n",
        "We used the pre-training entrypoint script and saved the model weights with 10% and 20% of the pre-training data used in paper. Then we ran the fine-tuning entrypoint script to perform fine-tuning and evaluate the model performance with random initilization and pre-training weights."
      ],
      "metadata": {
        "id": "t0OApbK6yd5Q"
      }
    },
    {
      "cell_type": "markdown",
      "metadata": {
        "id": "gX6bCcZNuxmz"
      },
      "source": [
        "## Validation Macro F1 Comparison\n",
        "We compare the macro F1 on the PhysioNet validation dataset over epoch between the model with random initialization weights and the model with pre-training weights.\n",
        "\n",
        "This would be compared with Figure 3(a) in the paper.\n",
        "\n",
        "Below we download for each model scenario the:\n",
        "- Saved model weights.\n",
        "- Training history containing validation macro F1 scores.\n",
        "- Model predictions on the test set."
      ]
    },
    {
      "cell_type": "code",
      "execution_count": null,
      "metadata": {
        "colab": {
          "base_uri": "https://localhost:8080/",
          "height": 455
        },
        "id": "LjW9bCkouv8O",
        "outputId": "4a405f82-f9fd-47e9-f572-4d0bdbb8ee87"
      },
      "outputs": [
        {
          "data": {
            "image/png": "[encoded data removed]",
            "text/plain": [
              "<Figure size 640x480 with 1 Axes>"
            ]
          },
          "metadata": {},
          "output_type": "display_data"
        }
      ],
      "source": [
        "import pandas as pd\n",
        "from matplotlib import pyplot as plt\n",
        "\n",
        "# Already downloaded earlier.\n",
        "random_result = pd.read_csv(DATA_DIR + '/finetune_baseline_65sec/history.csv')\n",
        "pretrain_20_result = pd.read_csv(\n",
        "    DATA_DIR + '/finetune_pretrain_20_weights_65sec/history.csv'\n",
        ")\n",
        "pretrain_10_result = pd.read_csv(\n",
        "    DATA_DIR + '/finetune_pretrain_10_weights_65sec/history.csv'\n",
        ")\n",
        "\n",
        "plt.plot(\n",
        "    random_result['epoch'], random_result['f1'],\n",
        "    color='tab:red', label='Random'\n",
        ")\n",
        "plt.plot(\n",
        "    pretrain_20_result['epoch'], pretrain_20_result['f1'],\n",
        "    color='tab:blue', label='Pre-train 20'\n",
        ")\n",
        "plt.plot(\n",
        "    pretrain_10_result['epoch'], pretrain_10_result['f1'],\n",
        "    color='tab:green', label='Pre-train 10'\n",
        ")\n",
        "plt.xlabel('Epoch')\n",
        "plt.ylabel('Validation Macro F1')\n",
        "ax = plt.gca()\n",
        "ax.set_xlim([0, 80])\n",
        "ax.set_ylim([0.5, 1.0])\n",
        "_ = plt.legend(loc='upper right')"
      ]
    },
    {
      "cell_type": "markdown",
      "metadata": {
        "id": "o-7ii-4FA6Og"
      },
      "source": [
        "### Analysis\n",
        "With pre-training weights, the F1 scores stabilize much sooner than random initialization. The model with pre-training weights also outperforms the random initalization model for the most part."
      ]
    },
    {
      "cell_type": "markdown",
      "metadata": {
        "id": "TbF9J1rE1ytR"
      },
      "source": [
        "## Test Macro F1 Comparison\n",
        "\n",
        "\n",
        "### Demonstration of obtaining test predictions\n",
        "The fine-tuning entrypoint performs inference on the test set using the model with the highest validation macro F1 score, and saves the result to a CSV file.\n",
        "\n",
        "It is this CSV file that we will perform macro F1 evaluation."
      ]
    },
    {
      "cell_type": "markdown",
      "metadata": {
        "id": "N_qEZOGaAsKI"
      },
      "source": [
        "### Evaluating test predictions with macro F1"
      ]
    },
    {
      "cell_type": "markdown",
      "metadata": {
        "id": "M97h5WFYBNJT"
      },
      "source": [
        "The CSV file contains model predicted probabilities for each of the four classes and the actual class label. We preview the CSV file for the randomly initialized model."
      ]
    },
    {
      "cell_type": "code",
      "execution_count": null,
      "metadata": {
        "colab": {
          "base_uri": "https://localhost:8080/",
          "height": 206
        },
        "id": "jSr--dmUBWNB",
        "outputId": "07664d7c-475b-4440-ebac-944b36fc23be"
      },
      "outputs": [
        {
          "data": {
            "application/vnd.google.colaboratory.intrinsic+json": {
              "summary": "{\n  \"name\": \"random_preds\",\n  \"rows\": 1706,\n  \"fields\": [\n    {\n      \"column\": \"record_name\",\n      \"properties\": {\n        \"dtype\": \"string\",\n        \"num_unique_values\": 1706,\n        \"samples\": [\n          \"A04034\",\n          \"A03972\",\n          \"A01573\"\n        ],\n        \"semantic_type\": \"\",\n        \"description\": \"\"\n      }\n    },\n    {\n      \"column\": \"true_A\",\n      \"properties\": {\n        \"dtype\": \"number\",\n        \"std\": 0,\n        \"min\": 0,\n        \"max\": 1,\n        \"num_unique_values\": 2,\n        \"samples\": [\n          1,\n          0\n        ],\n        \"semantic_type\": \"\",\n        \"description\": \"\"\n      }\n    },\n    {\n      \"column\": \"true_N\",\n      \"properties\": {\n        \"dtype\": \"number\",\n        \"std\": 0,\n        \"min\": 0,\n        \"max\": 1,\n        \"num_unique_values\": 2,\n        \"samples\": [\n          0,\n          1\n        ],\n        \"semantic_type\": \"\",\n        \"description\": \"\"\n      }\n    },\n    {\n      \"column\": \"true_O\",\n      \"properties\": {\n        \"dtype\": \"number\",\n        \"std\": 0,\n        \"min\": 0,\n        \"max\": 1,\n        \"num_unique_values\": 2,\n        \"samples\": [\n          1,\n          0\n        ],\n        \"semantic_type\": \"\",\n        \"description\": \"\"\n      }\n    },\n    {\n      \"column\": \"true_~\",\n      \"properties\": {\n        \"dtype\": \"number\",\n        \"std\": 0,\n        \"min\": 0,\n        \"max\": 1,\n        \"num_unique_values\": 2,\n        \"samples\": [\n          1,\n          0\n        ],\n        \"semantic_type\": \"\",\n        \"description\": \"\"\n      }\n    },\n    {\n      \"column\": \"prob_A\",\n      \"properties\": {\n        \"dtype\": \"number\",\n        \"std\": 0.26277890091315925,\n        \"min\": 1.00018286e-23,\n        \"max\": 0.999998,\n        \"num_unique_values\": 1706,\n        \"samples\": [\n          7.717791e-12,\n          2.8512474e-07\n        ],\n        \"semantic_type\": \"\",\n        \"description\": \"\"\n      }\n    },\n    {\n      \"column\": \"prob_N\",\n      \"properties\": {\n        \"dtype\": \"number\",\n        \"std\": 0.4328712457498852,\n        \"min\": 0.0,\n        \"max\": 0.99984455,\n        \"num_unique_values\": 1704,\n        \"samples\": [\n          0.9848941,\n          0.63493776\n        ],\n        \"semantic_type\": \"\",\n        \"description\": \"\"\n      }\n    },\n    {\n      \"column\": \"prob_O\",\n      \"properties\": {\n        \"dtype\": \"number\",\n        \"std\": 0.36584918396317617,\n        \"min\": 4.4690975e-07,\n        \"max\": 1.0,\n        \"num_unique_values\": 1672,\n        \"samples\": [\n          0.04584047,\n          0.12902324\n        ],\n        \"semantic_type\": \"\",\n        \"description\": \"\"\n      }\n    },\n    {\n      \"column\": \"prob_~\",\n      \"properties\": {\n        \"dtype\": \"number\",\n        \"std\": 0.1438481682783152,\n        \"min\": 1.3824915999999998e-25,\n        \"max\": 0.9999995,\n        \"num_unique_values\": 1706,\n        \"samples\": [\n          7.9492847e-13,\n          0.00019764702\n        ],\n        \"semantic_type\": \"\",\n        \"description\": \"\"\n      }\n    }\n  ]\n}",
              "type": "dataframe",
              "variable_name": "random_preds"
            },
            "text/html": [
              "\n",
              "  <div id=\"df-7887c63c-00cc-414f-8f4c-7ce64da1d5f1\" class=\"colab-df-container\">\n",
              "    <div>\n",
              "<style scoped>\n",
              "    .dataframe tbody tr th:only-of-type {\n",
              "        vertical-align: middle;\n",
              "    }\n",
              "\n",
              "    .dataframe tbody tr th {\n",
              "        vertical-align: top;\n",
              "    }\n",
              "\n",
              "    .dataframe thead th {\n",
              "        text-align: right;\n",
              "    }\n",
              "</style>\n",
              "<table border=\"1\" class=\"dataframe\">\n",
              "  <thead>\n",
              "    <tr style=\"text-align: right;\">\n",
              "      <th></th>\n",
              "      <th>record_name</th>\n",
              "      <th>true_A</th>\n",
              "      <th>true_N</th>\n",
              "      <th>true_O</th>\n",
              "      <th>true_~</th>\n",
              "      <th>prob_A</th>\n",
              "      <th>prob_N</th>\n",
              "      <th>prob_O</th>\n",
              "      <th>prob_~</th>\n",
              "    </tr>\n",
              "  </thead>\n",
              "  <tbody>\n",
              "    <tr>\n",
              "      <th>0</th>\n",
              "      <td>A04412</td>\n",
              "      <td>0</td>\n",
              "      <td>1</td>\n",
              "      <td>0</td>\n",
              "      <td>0</td>\n",
              "      <td>0.001664</td>\n",
              "      <td>9.807803e-01</td>\n",
              "      <td>0.017493</td>\n",
              "      <td>6.349010e-05</td>\n",
              "    </tr>\n",
              "    <tr>\n",
              "      <th>1</th>\n",
              "      <td>A08158</td>\n",
              "      <td>0</td>\n",
              "      <td>1</td>\n",
              "      <td>0</td>\n",
              "      <td>0</td>\n",
              "      <td>0.000036</td>\n",
              "      <td>9.714703e-01</td>\n",
              "      <td>0.027246</td>\n",
              "      <td>1.248200e-03</td>\n",
              "    </tr>\n",
              "    <tr>\n",
              "      <th>2</th>\n",
              "      <td>A01316</td>\n",
              "      <td>0</td>\n",
              "      <td>0</td>\n",
              "      <td>1</td>\n",
              "      <td>0</td>\n",
              "      <td>0.000209</td>\n",
              "      <td>7.779086e-07</td>\n",
              "      <td>0.999629</td>\n",
              "      <td>1.610828e-04</td>\n",
              "    </tr>\n",
              "    <tr>\n",
              "      <th>3</th>\n",
              "      <td>A08212</td>\n",
              "      <td>0</td>\n",
              "      <td>1</td>\n",
              "      <td>0</td>\n",
              "      <td>0</td>\n",
              "      <td>0.000628</td>\n",
              "      <td>1.616121e-02</td>\n",
              "      <td>0.983211</td>\n",
              "      <td>3.872345e-08</td>\n",
              "    </tr>\n",
              "    <tr>\n",
              "      <th>4</th>\n",
              "      <td>A06581</td>\n",
              "      <td>0</td>\n",
              "      <td>1</td>\n",
              "      <td>0</td>\n",
              "      <td>0</td>\n",
              "      <td>0.051044</td>\n",
              "      <td>8.321059e-01</td>\n",
              "      <td>0.068623</td>\n",
              "      <td>4.822801e-02</td>\n",
              "    </tr>\n",
              "  </tbody>\n",
              "</table>\n",
              "</div>\n",
              "    <div class=\"colab-df-buttons\">\n",
              "\n",
              "  <div class=\"colab-df-container\">\n",
              "    <button class=\"colab-df-convert\" onclick=\"convertToInteractive('df-7887c63c-00cc-414f-8f4c-7ce64da1d5f1')\"\n",
              "            title=\"Convert this dataframe to an interactive table.\"\n",
              "            style=\"display:none;\">\n",
              "\n",
              "  <svg xmlns=\"http://www.w3.org/2000/svg\" height=\"24px\" viewBox=\"0 -960 960 960\">\n",
              "    <path d=\"M120-120v-720h720v720H120Zm60-500h600v-160H180v160Zm220 220h160v-160H400v160Zm0 220h160v-160H400v160ZM180-400h160v-160H180v160Zm440 0h160v-160H620v160ZM180-180h160v-160H180v160Zm440 0h160v-160H620v160Z\"/>\n",
              "  </svg>\n",
              "    </button>\n",
              "\n",
              "  <style>\n",
              "    .colab-df-container {\n",
              "      display:flex;\n",
              "      gap: 12px;\n",
              "    }\n",
              "\n",
              "    .colab-df-convert {\n",
              "      background-color: #E8F0FE;\n",
              "      border: none;\n",
              "      border-radius: 50%;\n",
              "      cursor: pointer;\n",
              "      display: none;\n",
              "      fill: #1967D2;\n",
              "      height: 32px;\n",
              "      padding: 0 0 0 0;\n",
              "      width: 32px;\n",
              "    }\n",
              "\n",
              "    .colab-df-convert:hover {\n",
              "      background-color: #E2EBFA;\n",
              "      box-shadow: 0px 1px 2px rgba(60, 64, 67, 0.3), 0px 1px 3px 1px rgba(60, 64, 67, 0.15);\n",
              "      fill: #174EA6;\n",
              "    }\n",
              "\n",
              "    .colab-df-buttons div {\n",
              "      margin-bottom: 4px;\n",
              "    }\n",
              "\n",
              "    [theme=dark] .colab-df-convert {\n",
              "      background-color: #3B4455;\n",
              "      fill: #D2E3FC;\n",
              "    }\n",
              "\n",
              "    [theme=dark] .colab-df-convert:hover {\n",
              "      background-color: #434B5C;\n",
              "      box-shadow: 0px 1px 3px 1px rgba(0, 0, 0, 0.15);\n",
              "      filter: drop-shadow(0px 1px 2px rgba(0, 0, 0, 0.3));\n",
              "      fill: #FFFFFF;\n",
              "    }\n",
              "  </style>\n",
              "\n",
              "    <script>\n",
              "      const buttonEl =\n",
              "        document.querySelector('#df-7887c63c-00cc-414f-8f4c-7ce64da1d5f1 button.colab-df-convert');\n",
              "      buttonEl.style.display =\n",
              "        google.colab.kernel.accessAllowed ? 'block' : 'none';\n",
              "\n",
              "      async function convertToInteractive(key) {\n",
              "        const element = document.querySelector('#df-7887c63c-00cc-414f-8f4c-7ce64da1d5f1');\n",
              "        const dataTable =\n",
              "          await google.colab.kernel.invokeFunction('convertToInteractive',\n",
              "                                                    [key], {});\n",
              "        if (!dataTable) return;\n",
              "\n",
              "        const docLinkHtml = 'Like what you see? Visit the ' +\n",
              "          '<a target=\"_blank\" href=https://colab.research.google.com/notebooks/data_table.ipynb>data table notebook</a>'\n",
              "          + ' to learn more about interactive tables.';\n",
              "        element.innerHTML = '';\n",
              "        dataTable['output_type'] = 'display_data';\n",
              "        await google.colab.output.renderOutput(dataTable, element);\n",
              "        const docLink = document.createElement('div');\n",
              "        docLink.innerHTML = docLinkHtml;\n",
              "        element.appendChild(docLink);\n",
              "      }\n",
              "    </script>\n",
              "  </div>\n",
              "\n",
              "\n",
              "<div id=\"df-39ad773f-65b1-40a6-9b31-3d86e2a52669\">\n",
              "  <button class=\"colab-df-quickchart\" onclick=\"quickchart('df-39ad773f-65b1-40a6-9b31-3d86e2a52669')\"\n",
              "            title=\"Suggest charts\"\n",
              "            style=\"display:none;\">\n",
              "\n",
              "<svg xmlns=\"http://www.w3.org/2000/svg\" height=\"24px\"viewBox=\"0 0 24 24\"\n",
              "     width=\"24px\">\n",
              "    <g>\n",
              "        <path d=\"M19 3H5c-1.1 0-2 .9-2 2v14c0 1.1.9 2 2 2h14c1.1 0 2-.9 2-2V5c0-1.1-.9-2-2-2zM9 17H7v-7h2v7zm4 0h-2V7h2v10zm4 0h-2v-4h2v4z\"/>\n",
              "    </g>\n",
              "</svg>\n",
              "  </button>\n",
              "\n",
              "<style>\n",
              "  .colab-df-quickchart {\n",
              "      --bg-color: #E8F0FE;\n",
              "      --fill-color: #1967D2;\n",
              "      --hover-bg-color: #E2EBFA;\n",
              "      --hover-fill-color: #174EA6;\n",
              "      --disabled-fill-color: #AAA;\n",
              "      --disabled-bg-color: #DDD;\n",
              "  }\n",
              "\n",
              "  [theme=dark] .colab-df-quickchart {\n",
              "      --bg-color: #3B4455;\n",
              "      --fill-color: #D2E3FC;\n",
              "      --hover-bg-color: #434B5C;\n",
              "      --hover-fill-color: #FFFFFF;\n",
              "      --disabled-bg-color: #3B4455;\n",
              "      --disabled-fill-color: #666;\n",
              "  }\n",
              "\n",
              "  .colab-df-quickchart {\n",
              "    background-color: var(--bg-color);\n",
              "    border: none;\n",
              "    border-radius: 50%;\n",
              "    cursor: pointer;\n",
              "    display: none;\n",
              "    fill: var(--fill-color);\n",
              "    height: 32px;\n",
              "    padding: 0;\n",
              "    width: 32px;\n",
              "  }\n",
              "\n",
              "  .colab-df-quickchart:hover {\n",
              "    background-color: var(--hover-bg-color);\n",
              "    box-shadow: 0 1px 2px rgba(60, 64, 67, 0.3), 0 1px 3px 1px rgba(60, 64, 67, 0.15);\n",
              "    fill: var(--button-hover-fill-color);\n",
              "  }\n",
              "\n",
              "  .colab-df-quickchart-complete:disabled,\n",
              "  .colab-df-quickchart-complete:disabled:hover {\n",
              "    background-color: var(--disabled-bg-color);\n",
              "    fill: var(--disabled-fill-color);\n",
              "    box-shadow: none;\n",
              "  }\n",
              "\n",
              "  .colab-df-spinner {\n",
              "    border: 2px solid var(--fill-color);\n",
              "    border-color: transparent;\n",
              "    border-bottom-color: var(--fill-color);\n",
              "    animation:\n",
              "      spin 1s steps(1) infinite;\n",
              "  }\n",
              "\n",
              "  @keyframes spin {\n",
              "    0% {\n",
              "      border-color: transparent;\n",
              "      border-bottom-color: var(--fill-color);\n",
              "      border-left-color: var(--fill-color);\n",
              "    }\n",
              "    20% {\n",
              "      border-color: transparent;\n",
              "      border-left-color: var(--fill-color);\n",
              "      border-top-color: var(--fill-color);\n",
              "    }\n",
              "    30% {\n",
              "      border-color: transparent;\n",
              "      border-left-color: var(--fill-color);\n",
              "      border-top-color: var(--fill-color);\n",
              "      border-right-color: var(--fill-color);\n",
              "    }\n",
              "    40% {\n",
              "      border-color: transparent;\n",
              "      border-right-color: var(--fill-color);\n",
              "      border-top-color: var(--fill-color);\n",
              "    }\n",
              "    60% {\n",
              "      border-color: transparent;\n",
              "      border-right-color: var(--fill-color);\n",
              "    }\n",
              "    80% {\n",
              "      border-color: transparent;\n",
              "      border-right-color: var(--fill-color);\n",
              "      border-bottom-color: var(--fill-color);\n",
              "    }\n",
              "    90% {\n",
              "      border-color: transparent;\n",
              "      border-bottom-color: var(--fill-color);\n",
              "    }\n",
              "  }\n",
              "</style>\n",
              "\n",
              "  <script>\n",
              "    async function quickchart(key) {\n",
              "      const quickchartButtonEl =\n",
              "        document.querySelector('#' + key + ' button');\n",
              "      quickchartButtonEl.disabled = true;  // To prevent multiple clicks.\n",
              "      quickchartButtonEl.classList.add('colab-df-spinner');\n",
              "      try {\n",
              "        const charts = await google.colab.kernel.invokeFunction(\n",
              "            'suggestCharts', [key], {});\n",
              "      } catch (error) {\n",
              "        console.error('Error during call to suggestCharts:', error);\n",
              "      }\n",
              "      quickchartButtonEl.classList.remove('colab-df-spinner');\n",
              "      quickchartButtonEl.classList.add('colab-df-quickchart-complete');\n",
              "    }\n",
              "    (() => {\n",
              "      let quickchartButtonEl =\n",
              "        document.querySelector('#df-39ad773f-65b1-40a6-9b31-3d86e2a52669 button');\n",
              "      quickchartButtonEl.style.display =\n",
              "        google.colab.kernel.accessAllowed ? 'block' : 'none';\n",
              "    })();\n",
              "  </script>\n",
              "</div>\n",
              "\n",
              "    </div>\n",
              "  </div>\n"
            ],
            "text/plain": [
              "  record_name  true_A  true_N  true_O  true_~    prob_A        prob_N  \\\n",
              "0      A04412       0       1       0       0  0.001664  9.807803e-01   \n",
              "1      A08158       0       1       0       0  0.000036  9.714703e-01   \n",
              "2      A01316       0       0       1       0  0.000209  7.779086e-07   \n",
              "3      A08212       0       1       0       0  0.000628  1.616121e-02   \n",
              "4      A06581       0       1       0       0  0.051044  8.321059e-01   \n",
              "\n",
              "     prob_O        prob_~  \n",
              "0  0.017493  6.349010e-05  \n",
              "1  0.027246  1.248200e-03  \n",
              "2  0.999629  1.610828e-04  \n",
              "3  0.983211  3.872345e-08  \n",
              "4  0.068623  4.822801e-02  "
            ]
          },
          "execution_count": 22,
          "metadata": {},
          "output_type": "execute_result"
        }
      ],
      "source": [
        "random_preds = pd.read_csv(\n",
        "    DATA_DIR + '/finetune_baseline_65sec/test_predictions.csv'\n",
        ")\n",
        "random_preds.head()"
      ]
    },
    {
      "cell_type": "markdown",
      "metadata": {
        "id": "o8U-bsVoDLfF"
      },
      "source": [
        "The paper authors provide a function to read the CSV and transform it into a format amenable to usage with `my_f1`. We make use of the function and show the macro F1 scores for each of the three scenarios."
      ]
    },
    {
      "cell_type": "code",
      "execution_count": null,
      "metadata": {
        "id": "qOvOzRh8Dh2T"
      },
      "outputs": [],
      "source": [
        "from transplant.utils import read_predictions\n",
        "\n",
        "test_df_random = read_predictions(\n",
        "    DATA_DIR + '/finetune_baseline_65sec/test_predictions.csv'\n",
        ")\n",
        "test_df_pretrain_10 = read_predictions(\n",
        "    DATA_DIR + '/finetune_pretrain_10_weights_65sec/test_predictions.csv'\n",
        ")\n",
        "test_df_pretrain_20 = read_predictions(\n",
        "    DATA_DIR + '/finetune_pretrain_20_weights_65sec/test_predictions.csv'\n",
        ")"
      ]
    },
    {
      "cell_type": "code",
      "execution_count": null,
      "metadata": {
        "id": "WmAePLoYD-O2"
      },
      "outputs": [],
      "source": [
        "def get_test_f1(formatted_predictions):\n",
        "    # Convenience function to compute macro F1 score.\n",
        "    y_true = formatted_predictions['y_true']\n",
        "    y_prob = formatted_predictions['y_prob']\n",
        "    return my_f1(y_true, y_prob)"
      ]
    },
    {
      "cell_type": "code",
      "execution_count": null,
      "metadata": {
        "colab": {
          "base_uri": "https://localhost:8080/",
          "height": 143
        },
        "id": "9LgKdFBnEZ9l",
        "outputId": "207d4b6e-3c55-4662-ab28-c636bc64200e"
      },
      "outputs": [
        {
          "data": {
            "application/vnd.google.colaboratory.intrinsic+json": {
              "summary": "{\n  \"name\": \"test_f1_scores\",\n  \"rows\": 3,\n  \"fields\": [\n    {\n      \"column\": \"Scenario\",\n      \"properties\": {\n        \"dtype\": \"string\",\n        \"num_unique_values\": 3,\n        \"samples\": [\n          \"random\",\n          \"pretrain_10\",\n          \"pretrain_20\"\n        ],\n        \"semantic_type\": \"\",\n        \"description\": \"\"\n      }\n    },\n    {\n      \"column\": \"Macro F1\",\n      \"properties\": {\n        \"dtype\": \"number\",\n        \"std\": 0.033307986616548574,\n        \"min\": 0.7149160087201736,\n        \"max\": 0.7812802368021168,\n        \"num_unique_values\": 3,\n        \"samples\": [\n          0.7149160087201736,\n          0.7531088952225929,\n          0.7812802368021168\n        ],\n        \"semantic_type\": \"\",\n        \"description\": \"\"\n      }\n    }\n  ]\n}",
              "type": "dataframe",
              "variable_name": "test_f1_scores"
            },
            "text/html": [
              "\n",
              "  <div id=\"df-0ebca87d-7fb7-4e1c-a459-96976cc2564e\" class=\"colab-df-container\">\n",
              "    <div>\n",
              "<style scoped>\n",
              "    .dataframe tbody tr th:only-of-type {\n",
              "        vertical-align: middle;\n",
              "    }\n",
              "\n",
              "    .dataframe tbody tr th {\n",
              "        vertical-align: top;\n",
              "    }\n",
              "\n",
              "    .dataframe thead th {\n",
              "        text-align: right;\n",
              "    }\n",
              "</style>\n",
              "<table border=\"1\" class=\"dataframe\">\n",
              "  <thead>\n",
              "    <tr style=\"text-align: right;\">\n",
              "      <th></th>\n",
              "      <th>Scenario</th>\n",
              "      <th>Macro F1</th>\n",
              "    </tr>\n",
              "  </thead>\n",
              "  <tbody>\n",
              "    <tr>\n",
              "      <th>0</th>\n",
              "      <td>random</td>\n",
              "      <td>0.714916</td>\n",
              "    </tr>\n",
              "    <tr>\n",
              "      <th>1</th>\n",
              "      <td>pretrain_10</td>\n",
              "      <td>0.753109</td>\n",
              "    </tr>\n",
              "    <tr>\n",
              "      <th>2</th>\n",
              "      <td>pretrain_20</td>\n",
              "      <td>0.781280</td>\n",
              "    </tr>\n",
              "  </tbody>\n",
              "</table>\n",
              "</div>\n",
              "    <div class=\"colab-df-buttons\">\n",
              "\n",
              "  <div class=\"colab-df-container\">\n",
              "    <button class=\"colab-df-convert\" onclick=\"convertToInteractive('df-0ebca87d-7fb7-4e1c-a459-96976cc2564e')\"\n",
              "            title=\"Convert this dataframe to an interactive table.\"\n",
              "            style=\"display:none;\">\n",
              "\n",
              "  <svg xmlns=\"http://www.w3.org/2000/svg\" height=\"24px\" viewBox=\"0 -960 960 960\">\n",
              "    <path d=\"M120-120v-720h720v720H120Zm60-500h600v-160H180v160Zm220 220h160v-160H400v160Zm0 220h160v-160H400v160ZM180-400h160v-160H180v160Zm440 0h160v-160H620v160ZM180-180h160v-160H180v160Zm440 0h160v-160H620v160Z\"/>\n",
              "  </svg>\n",
              "    </button>\n",
              "\n",
              "  <style>\n",
              "    .colab-df-container {\n",
              "      display:flex;\n",
              "      gap: 12px;\n",
              "    }\n",
              "\n",
              "    .colab-df-convert {\n",
              "      background-color: #E8F0FE;\n",
              "      border: none;\n",
              "      border-radius: 50%;\n",
              "      cursor: pointer;\n",
              "      display: none;\n",
              "      fill: #1967D2;\n",
              "      height: 32px;\n",
              "      padding: 0 0 0 0;\n",
              "      width: 32px;\n",
              "    }\n",
              "\n",
              "    .colab-df-convert:hover {\n",
              "      background-color: #E2EBFA;\n",
              "      box-shadow: 0px 1px 2px rgba(60, 64, 67, 0.3), 0px 1px 3px 1px rgba(60, 64, 67, 0.15);\n",
              "      fill: #174EA6;\n",
              "    }\n",
              "\n",
              "    .colab-df-buttons div {\n",
              "      margin-bottom: 4px;\n",
              "    }\n",
              "\n",
              "    [theme=dark] .colab-df-convert {\n",
              "      background-color: #3B4455;\n",
              "      fill: #D2E3FC;\n",
              "    }\n",
              "\n",
              "    [theme=dark] .colab-df-convert:hover {\n",
              "      background-color: #434B5C;\n",
              "      box-shadow: 0px 1px 3px 1px rgba(0, 0, 0, 0.15);\n",
              "      filter: drop-shadow(0px 1px 2px rgba(0, 0, 0, 0.3));\n",
              "      fill: #FFFFFF;\n",
              "    }\n",
              "  </style>\n",
              "\n",
              "    <script>\n",
              "      const buttonEl =\n",
              "        document.querySelector('#df-0ebca87d-7fb7-4e1c-a459-96976cc2564e button.colab-df-convert');\n",
              "      buttonEl.style.display =\n",
              "        google.colab.kernel.accessAllowed ? 'block' : 'none';\n",
              "\n",
              "      async function convertToInteractive(key) {\n",
              "        const element = document.querySelector('#df-0ebca87d-7fb7-4e1c-a459-96976cc2564e');\n",
              "        const dataTable =\n",
              "          await google.colab.kernel.invokeFunction('convertToInteractive',\n",
              "                                                    [key], {});\n",
              "        if (!dataTable) return;\n",
              "\n",
              "        const docLinkHtml = 'Like what you see? Visit the ' +\n",
              "          '<a target=\"_blank\" href=https://colab.research.google.com/notebooks/data_table.ipynb>data table notebook</a>'\n",
              "          + ' to learn more about interactive tables.';\n",
              "        element.innerHTML = '';\n",
              "        dataTable['output_type'] = 'display_data';\n",
              "        await google.colab.output.renderOutput(dataTable, element);\n",
              "        const docLink = document.createElement('div');\n",
              "        docLink.innerHTML = docLinkHtml;\n",
              "        element.appendChild(docLink);\n",
              "      }\n",
              "    </script>\n",
              "  </div>\n",
              "\n",
              "\n",
              "<div id=\"df-fc51647c-d8fc-4752-a04e-cbc67a4a3a3d\">\n",
              "  <button class=\"colab-df-quickchart\" onclick=\"quickchart('df-fc51647c-d8fc-4752-a04e-cbc67a4a3a3d')\"\n",
              "            title=\"Suggest charts\"\n",
              "            style=\"display:none;\">\n",
              "\n",
              "<svg xmlns=\"http://www.w3.org/2000/svg\" height=\"24px\"viewBox=\"0 0 24 24\"\n",
              "     width=\"24px\">\n",
              "    <g>\n",
              "        <path d=\"M19 3H5c-1.1 0-2 .9-2 2v14c0 1.1.9 2 2 2h14c1.1 0 2-.9 2-2V5c0-1.1-.9-2-2-2zM9 17H7v-7h2v7zm4 0h-2V7h2v10zm4 0h-2v-4h2v4z\"/>\n",
              "    </g>\n",
              "</svg>\n",
              "  </button>\n",
              "\n",
              "<style>\n",
              "  .colab-df-quickchart {\n",
              "      --bg-color: #E8F0FE;\n",
              "      --fill-color: #1967D2;\n",
              "      --hover-bg-color: #E2EBFA;\n",
              "      --hover-fill-color: #174EA6;\n",
              "      --disabled-fill-color: #AAA;\n",
              "      --disabled-bg-color: #DDD;\n",
              "  }\n",
              "\n",
              "  [theme=dark] .colab-df-quickchart {\n",
              "      --bg-color: #3B4455;\n",
              "      --fill-color: #D2E3FC;\n",
              "      --hover-bg-color: #434B5C;\n",
              "      --hover-fill-color: #FFFFFF;\n",
              "      --disabled-bg-color: #3B4455;\n",
              "      --disabled-fill-color: #666;\n",
              "  }\n",
              "\n",
              "  .colab-df-quickchart {\n",
              "    background-color: var(--bg-color);\n",
              "    border: none;\n",
              "    border-radius: 50%;\n",
              "    cursor: pointer;\n",
              "    display: none;\n",
              "    fill: var(--fill-color);\n",
              "    height: 32px;\n",
              "    padding: 0;\n",
              "    width: 32px;\n",
              "  }\n",
              "\n",
              "  .colab-df-quickchart:hover {\n",
              "    background-color: var(--hover-bg-color);\n",
              "    box-shadow: 0 1px 2px rgba(60, 64, 67, 0.3), 0 1px 3px 1px rgba(60, 64, 67, 0.15);\n",
              "    fill: var(--button-hover-fill-color);\n",
              "  }\n",
              "\n",
              "  .colab-df-quickchart-complete:disabled,\n",
              "  .colab-df-quickchart-complete:disabled:hover {\n",
              "    background-color: var(--disabled-bg-color);\n",
              "    fill: var(--disabled-fill-color);\n",
              "    box-shadow: none;\n",
              "  }\n",
              "\n",
              "  .colab-df-spinner {\n",
              "    border: 2px solid var(--fill-color);\n",
              "    border-color: transparent;\n",
              "    border-bottom-color: var(--fill-color);\n",
              "    animation:\n",
              "      spin 1s steps(1) infinite;\n",
              "  }\n",
              "\n",
              "  @keyframes spin {\n",
              "    0% {\n",
              "      border-color: transparent;\n",
              "      border-bottom-color: var(--fill-color);\n",
              "      border-left-color: var(--fill-color);\n",
              "    }\n",
              "    20% {\n",
              "      border-color: transparent;\n",
              "      border-left-color: var(--fill-color);\n",
              "      border-top-color: var(--fill-color);\n",
              "    }\n",
              "    30% {\n",
              "      border-color: transparent;\n",
              "      border-left-color: var(--fill-color);\n",
              "      border-top-color: var(--fill-color);\n",
              "      border-right-color: var(--fill-color);\n",
              "    }\n",
              "    40% {\n",
              "      border-color: transparent;\n",
              "      border-right-color: var(--fill-color);\n",
              "      border-top-color: var(--fill-color);\n",
              "    }\n",
              "    60% {\n",
              "      border-color: transparent;\n",
              "      border-right-color: var(--fill-color);\n",
              "    }\n",
              "    80% {\n",
              "      border-color: transparent;\n",
              "      border-right-color: var(--fill-color);\n",
              "      border-bottom-color: var(--fill-color);\n",
              "    }\n",
              "    90% {\n",
              "      border-color: transparent;\n",
              "      border-bottom-color: var(--fill-color);\n",
              "    }\n",
              "  }\n",
              "</style>\n",
              "\n",
              "  <script>\n",
              "    async function quickchart(key) {\n",
              "      const quickchartButtonEl =\n",
              "        document.querySelector('#' + key + ' button');\n",
              "      quickchartButtonEl.disabled = true;  // To prevent multiple clicks.\n",
              "      quickchartButtonEl.classList.add('colab-df-spinner');\n",
              "      try {\n",
              "        const charts = await google.colab.kernel.invokeFunction(\n",
              "            'suggestCharts', [key], {});\n",
              "      } catch (error) {\n",
              "        console.error('Error during call to suggestCharts:', error);\n",
              "      }\n",
              "      quickchartButtonEl.classList.remove('colab-df-spinner');\n",
              "      quickchartButtonEl.classList.add('colab-df-quickchart-complete');\n",
              "    }\n",
              "    (() => {\n",
              "      let quickchartButtonEl =\n",
              "        document.querySelector('#df-fc51647c-d8fc-4752-a04e-cbc67a4a3a3d button');\n",
              "      quickchartButtonEl.style.display =\n",
              "        google.colab.kernel.accessAllowed ? 'block' : 'none';\n",
              "    })();\n",
              "  </script>\n",
              "</div>\n",
              "\n",
              "  <div id=\"id_c020a347-4bb0-4a4e-9557-14d9830fa3fa\">\n",
              "    <style>\n",
              "      .colab-df-generate {\n",
              "        background-color: #E8F0FE;\n",
              "        border: none;\n",
              "        border-radius: 50%;\n",
              "        cursor: pointer;\n",
              "        display: none;\n",
              "        fill: #1967D2;\n",
              "        height: 32px;\n",
              "        padding: 0 0 0 0;\n",
              "        width: 32px;\n",
              "      }\n",
              "\n",
              "      .colab-df-generate:hover {\n",
              "        background-color: #E2EBFA;\n",
              "        box-shadow: 0px 1px 2px rgba(60, 64, 67, 0.3), 0px 1px 3px 1px rgba(60, 64, 67, 0.15);\n",
              "        fill: #174EA6;\n",
              "      }\n",
              "\n",
              "      [theme=dark] .colab-df-generate {\n",
              "        background-color: #3B4455;\n",
              "        fill: #D2E3FC;\n",
              "      }\n",
              "\n",
              "      [theme=dark] .colab-df-generate:hover {\n",
              "        background-color: #434B5C;\n",
              "        box-shadow: 0px 1px 3px 1px rgba(0, 0, 0, 0.15);\n",
              "        filter: drop-shadow(0px 1px 2px rgba(0, 0, 0, 0.3));\n",
              "        fill: #FFFFFF;\n",
              "      }\n",
              "    </style>\n",
              "    <button class=\"colab-df-generate\" onclick=\"generateWithVariable('test_f1_scores')\"\n",
              "            title=\"Generate code using this dataframe.\"\n",
              "            style=\"display:none;\">\n",
              "\n",
              "  <svg xmlns=\"http://www.w3.org/2000/svg\" height=\"24px\"viewBox=\"0 0 24 24\"\n",
              "       width=\"24px\">\n",
              "    <path d=\"M7,19H8.4L18.45,9,17,7.55,7,17.6ZM5,21V16.75L18.45,3.32a2,2,0,0,1,2.83,0l1.4,1.43a1.91,1.91,0,0,1,.58,1.4,1.91,1.91,0,0,1-.58,1.4L9.25,21ZM18.45,9,17,7.55Zm-12,3A5.31,5.31,0,0,0,4.9,8.1,5.31,5.31,0,0,0,1,6.5,5.31,5.31,0,0,0,4.9,4.9,5.31,5.31,0,0,0,6.5,1,5.31,5.31,0,0,0,8.1,4.9,5.31,5.31,0,0,0,12,6.5,5.46,5.46,0,0,0,6.5,12Z\"/>\n",
              "  </svg>\n",
              "    </button>\n",
              "    <script>\n",
              "      (() => {\n",
              "      const buttonEl =\n",
              "        document.querySelector('#id_c020a347-4bb0-4a4e-9557-14d9830fa3fa button.colab-df-generate');\n",
              "      buttonEl.style.display =\n",
              "        google.colab.kernel.accessAllowed ? 'block' : 'none';\n",
              "\n",
              "      buttonEl.onclick = () => {\n",
              "        google.colab.notebook.generateWithVariable('test_f1_scores');\n",
              "      }\n",
              "      })();\n",
              "    </script>\n",
              "  </div>\n",
              "\n",
              "    </div>\n",
              "  </div>\n"
            ],
            "text/plain": [
              "      Scenario  Macro F1\n",
              "0       random  0.714916\n",
              "1  pretrain_10  0.753109\n",
              "2  pretrain_20  0.781280"
            ]
          },
          "execution_count": 25,
          "metadata": {},
          "output_type": "execute_result"
        }
      ],
      "source": [
        "test_f1_scores = pd.DataFrame.from_dict(\n",
        "    {\n",
        "        'random': get_test_f1(test_df_random),\n",
        "        'pretrain_10': get_test_f1(test_df_pretrain_10),\n",
        "        'pretrain_20': get_test_f1(test_df_pretrain_20),\n",
        "    },\n",
        "    orient='index',\n",
        "    columns=['Macro F1'],\n",
        ").reset_index(names='Scenario')\n",
        "\n",
        "test_f1_scores"
      ]
    },
    {
      "cell_type": "markdown",
      "source": [
        "## Ablation Study"
      ],
      "metadata": {
        "id": "nVMvcGTGxeXW"
      }
    },
    {
      "cell_type": "markdown",
      "metadata": {
        "id": "uqf0nloa1ytR"
      },
      "source": [
        "## [TODO remove] Planned work to complete this Project\n",
        "The paper runs fine-tuning 10 times for each weights initialization method and then plots the F1 versus Epoch graph. So far, we have only run fine-tuning once for each of randomly initialized network and pre-trained network. We can run fine-tuning more times and then compare with Figure 3(a) in the paper again.\n",
        "\n",
        "- Specifically, we need to set a different seed for each fine-tuning run, which we will be doing via the entrypoint.\n",
        "- We need to run about 30 experiments in total, one each for the random, 20% pre-train data, and 10% pre-train data scenarios. Fortunately for us, this work is highly parallelizable.\n",
        "\n",
        "We shall also work on the spectrogram ablation:\n",
        "\n",
        "- Get pre-training to work.\n",
        "- Define the setup (loss, optimizer, etc.) for the 2-D ResNet-18v2 for fine-tuning.\n",
        "- Get fine-tuning to work.\n",
        "- Compare random initialization performance to pre-trained performance\n",
        "  - Validation macro F1.\n",
        "  - Test macro F1."
      ]
    },
    {
      "cell_type": "markdown",
      "source": [
        "# TODO Discussion"
      ],
      "metadata": {
        "id": "c-OhJ5hcxNsr"
      }
    },
    {
      "cell_type": "markdown",
      "source": [
        "- Implications of the experimental results, whether the original paper was reproducible, and if it wasn't, what factors made it irreproducible\n",
        "- “What was easy”\n",
        "- “What was difficult”\n",
        "- Recommendations to the original authors or others who work in this area for improving reproducibility\n"
      ],
      "metadata": {
        "id": "OG-nvYmHxPAi"
      }
    },
    {
      "cell_type": "markdown",
      "source": [
        "# Public GitHub Repo\n",
        "The repo with our code is available on [Github](https://github.com/myles-i/DLH_TransferLearning/tree/master). Specifically, the reports are located [here](https://github.com/myles-i/DLH_TransferLearning/tree/master/report)."
      ],
      "metadata": {
        "id": "CrIC_LGfi2X4"
      }
    },
    {
      "cell_type": "markdown",
      "metadata": {
        "id": "gWZq2-uh1ytR",
        "tags": [
          "hidden"
        ]
      },
      "source": [
        "# References\n",
        "\n",
        "1. Weimann, K., Conrad, T.O.F. Transfer learning for ECG classification. Sci Rep 11, 5251 (2021). https://doi.org/10.1038/s41598-021-84374-8\n",
        "2. Kachuee, M., Fazeli, S., & Sarrafzadeh, M. ECG heartbeat classification: a deep transferable representation. in _2018 IEEE International Conference on Healthcare Informatics (ICHI)._ https://doi.org/10.1109/ichi.2018.00092 (2018).\n",
        "3. Rahhal, M. A. _et al._ Deep learning approach for active classification of electrocardiogram signals. _Inf. Sci._ **345**, 340–354. https://doi.org/10.1016/j.ins.2016.01.082 (2016).\n",
        "4. Rajan, D., Beymer, D., & Narayan, G. Generalization Studies of Neural Network Models for Cardiac Disease Detection Using Limited Channel ECG (2019). arXiv:1901.03295\n",
        "5. J. Huang, B. Chen, B. Yao and W. He, “`ECG Arrhythmia Classification Using STFT-Based Spectrogram and Convolutional\n",
        " Neural Network`,” in IEEE Access, vol. 7\n",
        "6. Shawn Tan, Satya Ortiz-Gagné, Nicolas Beaudoin-Gagnon, Pierre Fecteau, Aaron Courville, Yoshua Bengio, and Joseph Paul Cohen. Icentia11k single lead continuous raw electrocardiogram dataset (version 1.0). https://doi.org/10.13026/kk0v-r952, April 2022.\n",
        "7. Tan, S. _et al._ Icentia11K: An Unsupervised Representation Learning Dataset for Arrhythmia Subtype Discovery (2019). arXiv:arXiv:1910.09570\n",
        "8. Goldberger, A.L. _et al._ PhysioBank, PhysioToolkit,and PhysioNet: components of a new research resource for complex physiologic signals. _Circulation_ **101**, e215–e220. https://doi.org/10.1161/01.CIR.101.23.e215 (2000).\n",
        "9. Clifford, G.D. _et al._ AF Classification from a short single lead ECG recording: thePhysioNet/computing in cardiology challenge 2017. _Comput. Cardiol._ (2017)."
      ]
    },
    {
      "cell_type": "code",
      "execution_count": null,
      "metadata": {
        "id": "zLdY6kqa2hFT"
      },
      "outputs": [],
      "source": [
        "# Convert to html (to then be converted to pdf separately)\n",
        "# !jupyter nbconvert --to html ../../content/DL4H_Team_1_draft.ipynb"
      ]
    }
  ],
  "metadata": {
    "accelerator": "GPU",
    "colab": {
      "gpuType": "V100",
      "machine_shape": "hm",
      "provenance": [],
      "toc_visible": true
    },
    "kernelspec": {
      "display_name": "Python 3",
      "name": "python3"
    },
    "language_info": {
      "name": "python"
    }
  },
  "nbformat": 4,
  "nbformat_minor": 0
}