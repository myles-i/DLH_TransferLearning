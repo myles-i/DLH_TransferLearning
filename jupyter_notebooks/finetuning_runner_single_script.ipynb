{
  "cells": [
    {
      "cell_type": "markdown",
      "metadata": {
        "id": "JKyaFxKpwDF9"
      },
      "source": [
        "Instructions to run the `finetune_runner.py` script to generate additional fine-tuning results for each of the 3 weights scenarios:\n",
        "\n",
        "1. `random`\n",
        "2. `10` (10% pre-train weights)\n",
        "3. `20` (20% pre-train weights)\n",
        "\n",
        "Data refers to the percentage of patients in the _Icentia11K_ dataset.\n",
        "\n",
        "## Instructions\n",
        "\n",
        "Prerequisites:\n",
        "\n",
        "- Google Colab Pro\n",
        "- V100 GPU\n",
        "\n",
        "\n",
        "### Select instance\n",
        "\n",
        "Select V100 GPU runtime."
      ]
    },
    {
      "cell_type": "markdown",
      "metadata": {
        "id": "2eDeQUIx2AdP"
      },
      "source": [
        "### Clone Git repo"
      ]
    },
    {
      "cell_type": "code",
      "execution_count": 1,
      "metadata": {
        "id": "FoHTm9Fz2BM9",
        "colab": {
          "base_uri": "https://localhost:8080/"
        },
        "outputId": "b8acbb9f-fe7e-4253-9f08-f98d2d51cd7b"
      },
      "outputs": [
        {
          "output_type": "stream",
          "name": "stdout",
          "text": [
            "/root\n",
            "Cloning into 'DLH_TransferLearning'...\n",
            "remote: Enumerating objects: 578, done.\u001b[K\n",
            "remote: Counting objects: 100% (51/51), done.\u001b[K\n",
            "remote: Compressing objects: 100% (40/40), done.\u001b[K\n",
            "remote: Total 578 (delta 25), reused 27 (delta 11), pack-reused 527\u001b[K\n",
            "Receiving objects: 100% (578/578), 4.33 MiB | 20.81 MiB/s, done.\n",
            "Resolving deltas: 100% (334/334), done.\n",
            "/root/DLH_TransferLearning\n"
          ]
        }
      ],
      "source": [
        "%cd /root\n",
        "! git clone https://github.com/myles-i/DLH_TransferLearning.git\n",
        "%cd DLH_TransferLearning"
      ]
    },
    {
      "cell_type": "markdown",
      "metadata": {
        "id": "SPw1-7Fw38el"
      },
      "source": [
        "### Install dependencies\n",
        "\n"
      ]
    },
    {
      "cell_type": "code",
      "execution_count": 2,
      "metadata": {
        "id": "wLPArTJF4CbC"
      },
      "outputs": [],
      "source": [
        "%%capture\n",
        "! pip install -r requirements.txt"
      ]
    },
    {
      "cell_type": "markdown",
      "metadata": {
        "id": "hvYiiuY919T5"
      },
      "source": [
        "### Mount Google Drive"
      ]
    },
    {
      "cell_type": "code",
      "execution_count": 3,
      "metadata": {
        "id": "_LGFwWzAwAux",
        "colab": {
          "base_uri": "https://localhost:8080/"
        },
        "outputId": "a79f2bc5-f02d-4cb5-a5ab-30b0a9d99f88"
      },
      "outputs": [
        {
          "output_type": "stream",
          "name": "stdout",
          "text": [
            "Mounted at /content/drive\n"
          ]
        }
      ],
      "source": [
        "from google.colab import drive\n",
        "drive.mount('/content/drive')"
      ]
    },
    {
      "cell_type": "markdown",
      "metadata": {
        "id": "913MhsuXxIXx"
      },
      "source": [
        "### Determine path to data and job directories on Drive\n",
        "\n",
        "Example for me:\n",
        "\n",
        "`/content/drive/MyDrive/DLHProject`\n",
        "\n",
        "where `DLHProject` is the name of my shortcut for the shared folder."
      ]
    },
    {
      "cell_type": "code",
      "execution_count": 5,
      "metadata": {
        "id": "dzwyLJsp1Nin"
      },
      "outputs": [],
      "source": [
        "# setup top level directory paths\n",
        "PROJECT_DIR = '/content/drive/MyDrive/DLHProject'\n",
        "DATA_DIR = PROJECT_DIR + '/data'\n",
        "JOB_DIR = PROJECT_DIR + '/jobs'"
      ]
    },
    {
      "cell_type": "code",
      "source": [
        "import subprocess\n",
        "def execute_and_print(command):\n",
        "    # Open a process and connect to the process's output\n",
        "    process = subprocess.Popen(command, stdout=subprocess.PIPE, stderr=subprocess.PIPE, shell=True, text=True)\n",
        "\n",
        "    # Continuous output handling\n",
        "    while True:\n",
        "        output = process.stdout.readline()\n",
        "        if output == '' and process.poll() is not None:\n",
        "            break\n",
        "        if output:\n",
        "            print(output.strip())\n",
        "    rc = process.poll()\n",
        "    return rc"
      ],
      "metadata": {
        "id": "0iS3XlZM1YWo"
      },
      "execution_count": 35,
      "outputs": []
    },
    {
      "cell_type": "code",
      "execution_count": 36,
      "metadata": {
        "id": "6VbDytx2jWLD",
        "colab": {
          "base_uri": "https://localhost:8080/"
        },
        "outputId": "20da76d9-0c8c-4df2-e936-3b72ad6a8b84"
      },
      "outputs": [
        {
          "output_type": "stream",
          "name": "stdout",
          "text": [
            "seq 10 10 100 | xargs -P 1 -I {} python finetune_runner.py \\\n",
            "--arch resnet18_2d \\\n",
            "--weights-type random \\\n",
            "--weights-file  \\\n",
            "--job-base-dir /content/drive/MyDrive/DLHProject/jobs/spectrogram \\\n",
            "--train /content/drive/MyDrive/DLHProject/data/physionet_finetune_spectrogram/physionet_train.pkl \\\n",
            "--test /content/drive/MyDrive/DLHProject/data/physionet_finetune_spectrogram/physionet_test.pkl \\\n",
            "--batch-size 128 \\\n",
            "--epochs 200 \\\n",
            "--seed '{}' \\\n",
            "--dryrun True\n",
            "========================================\n",
            "Finetuning output job dir: /content/drive/MyDrive/DLHProject/jobs/spectrogram/finetune__random_seed10\n",
            "========================================\n",
            "Configured command:\n",
            "python -u -m finetuning.trainer --job-dir /content/drive/MyDrive/DLHProject/jobs/spectrogram/finetune__random_seed10 --train /content/drive/MyDrive/DLHProject/data/physionet_finetune_spectrogram/physionet_train.pkl --test /content/drive/MyDrive/DLHProject/data/physionet_finetune_spectrogram/physionet_test.pkl --val-size 0.0625 --val-metric f1 --arch resnet18_2d --batch-size 128 --epochs 200 --seed 10\n",
            "========================================\n",
            "Dryrun -- Exiting.\n",
            "========================================\n",
            "Finetuning output job dir: /content/drive/MyDrive/DLHProject/jobs/spectrogram/finetune__random_seed20\n",
            "========================================\n",
            "Configured command:\n",
            "python -u -m finetuning.trainer --job-dir /content/drive/MyDrive/DLHProject/jobs/spectrogram/finetune__random_seed20 --train /content/drive/MyDrive/DLHProject/data/physionet_finetune_spectrogram/physionet_train.pkl --test /content/drive/MyDrive/DLHProject/data/physionet_finetune_spectrogram/physionet_test.pkl --val-size 0.0625 --val-metric f1 --arch resnet18_2d --batch-size 128 --epochs 200 --seed 20\n",
            "========================================\n",
            "Dryrun -- Exiting.\n",
            "========================================\n",
            "Finetuning output job dir: /content/drive/MyDrive/DLHProject/jobs/spectrogram/finetune__random_seed30\n",
            "========================================\n",
            "Configured command:\n",
            "python -u -m finetuning.trainer --job-dir /content/drive/MyDrive/DLHProject/jobs/spectrogram/finetune__random_seed30 --train /content/drive/MyDrive/DLHProject/data/physionet_finetune_spectrogram/physionet_train.pkl --test /content/drive/MyDrive/DLHProject/data/physionet_finetune_spectrogram/physionet_test.pkl --val-size 0.0625 --val-metric f1 --arch resnet18_2d --batch-size 128 --epochs 200 --seed 30\n",
            "========================================\n",
            "Dryrun -- Exiting.\n",
            "========================================\n",
            "Finetuning output job dir: /content/drive/MyDrive/DLHProject/jobs/spectrogram/finetune__random_seed40\n",
            "========================================\n",
            "Configured command:\n",
            "python -u -m finetuning.trainer --job-dir /content/drive/MyDrive/DLHProject/jobs/spectrogram/finetune__random_seed40 --train /content/drive/MyDrive/DLHProject/data/physionet_finetune_spectrogram/physionet_train.pkl --test /content/drive/MyDrive/DLHProject/data/physionet_finetune_spectrogram/physionet_test.pkl --val-size 0.0625 --val-metric f1 --arch resnet18_2d --batch-size 128 --epochs 200 --seed 40\n",
            "========================================\n",
            "Dryrun -- Exiting.\n",
            "========================================\n",
            "Finetuning output job dir: /content/drive/MyDrive/DLHProject/jobs/spectrogram/finetune__random_seed50\n",
            "========================================\n",
            "Configured command:\n",
            "python -u -m finetuning.trainer --job-dir /content/drive/MyDrive/DLHProject/jobs/spectrogram/finetune__random_seed50 --train /content/drive/MyDrive/DLHProject/data/physionet_finetune_spectrogram/physionet_train.pkl --test /content/drive/MyDrive/DLHProject/data/physionet_finetune_spectrogram/physionet_test.pkl --val-size 0.0625 --val-metric f1 --arch resnet18_2d --batch-size 128 --epochs 200 --seed 50\n",
            "========================================\n",
            "Dryrun -- Exiting.\n",
            "========================================\n",
            "Finetuning output job dir: /content/drive/MyDrive/DLHProject/jobs/spectrogram/finetune__random_seed60\n",
            "========================================\n",
            "Configured command:\n",
            "python -u -m finetuning.trainer --job-dir /content/drive/MyDrive/DLHProject/jobs/spectrogram/finetune__random_seed60 --train /content/drive/MyDrive/DLHProject/data/physionet_finetune_spectrogram/physionet_train.pkl --test /content/drive/MyDrive/DLHProject/data/physionet_finetune_spectrogram/physionet_test.pkl --val-size 0.0625 --val-metric f1 --arch resnet18_2d --batch-size 128 --epochs 200 --seed 60\n",
            "========================================\n",
            "Dryrun -- Exiting.\n",
            "========================================\n",
            "Finetuning output job dir: /content/drive/MyDrive/DLHProject/jobs/spectrogram/finetune__random_seed70\n",
            "========================================\n",
            "Configured command:\n",
            "python -u -m finetuning.trainer --job-dir /content/drive/MyDrive/DLHProject/jobs/spectrogram/finetune__random_seed70 --train /content/drive/MyDrive/DLHProject/data/physionet_finetune_spectrogram/physionet_train.pkl --test /content/drive/MyDrive/DLHProject/data/physionet_finetune_spectrogram/physionet_test.pkl --val-size 0.0625 --val-metric f1 --arch resnet18_2d --batch-size 128 --epochs 200 --seed 70\n",
            "========================================\n",
            "Dryrun -- Exiting.\n",
            "========================================\n",
            "Finetuning output job dir: /content/drive/MyDrive/DLHProject/jobs/spectrogram/finetune__random_seed80\n",
            "========================================\n",
            "Configured command:\n",
            "python -u -m finetuning.trainer --job-dir /content/drive/MyDrive/DLHProject/jobs/spectrogram/finetune__random_seed80 --train /content/drive/MyDrive/DLHProject/data/physionet_finetune_spectrogram/physionet_train.pkl --test /content/drive/MyDrive/DLHProject/data/physionet_finetune_spectrogram/physionet_test.pkl --val-size 0.0625 --val-metric f1 --arch resnet18_2d --batch-size 128 --epochs 200 --seed 80\n",
            "========================================\n",
            "Dryrun -- Exiting.\n",
            "========================================\n",
            "Finetuning output job dir: /content/drive/MyDrive/DLHProject/jobs/spectrogram/finetune__random_seed90\n",
            "========================================\n",
            "Configured command:\n",
            "python -u -m finetuning.trainer --job-dir /content/drive/MyDrive/DLHProject/jobs/spectrogram/finetune__random_seed90 --train /content/drive/MyDrive/DLHProject/data/physionet_finetune_spectrogram/physionet_train.pkl --test /content/drive/MyDrive/DLHProject/data/physionet_finetune_spectrogram/physionet_test.pkl --val-size 0.0625 --val-metric f1 --arch resnet18_2d --batch-size 128 --epochs 200 --seed 90\n",
            "========================================\n",
            "Dryrun -- Exiting.\n",
            "========================================\n",
            "Finetuning output job dir: /content/drive/MyDrive/DLHProject/jobs/spectrogram/finetune__random_seed100\n",
            "========================================\n",
            "Configured command:\n",
            "python -u -m finetuning.trainer --job-dir /content/drive/MyDrive/DLHProject/jobs/spectrogram/finetune__random_seed100 --train /content/drive/MyDrive/DLHProject/data/physionet_finetune_spectrogram/physionet_train.pkl --test /content/drive/MyDrive/DLHProject/data/physionet_finetune_spectrogram/physionet_test.pkl --val-size 0.0625 --val-metric f1 --arch resnet18_2d --batch-size 128 --epochs 200 --seed 100\n",
            "========================================\n",
            "Dryrun -- Exiting.\n",
            "seq 10 10 100 | xargs -P 1 -I {} python finetune_runner.py \\\n",
            "--arch resnet18_2d \\\n",
            "--weights-type 10 \\\n",
            "--weights-file /content/drive/MyDrive/DLHProject/jobs/spectrogram/pretraining/min_normalization_16epochs_to_20percent/epoch_08/model.weights.index \\\n",
            "--job-base-dir /content/drive/MyDrive/DLHProject/jobs/spectrogram \\\n",
            "--train /content/drive/MyDrive/DLHProject/data/physionet_finetune_spectrogram/physionet_train.pkl \\\n",
            "--test /content/drive/MyDrive/DLHProject/data/physionet_finetune_spectrogram/physionet_test.pkl \\\n",
            "--batch-size 128 \\\n",
            "--epochs 200 \\\n",
            "--seed '{}' \\\n",
            "--dryrun True\n",
            "========================================\n",
            "Finetuning output job dir: /content/drive/MyDrive/DLHProject/jobs/spectrogram/finetune__10_seed10\n",
            "========================================\n",
            "Configured command:\n",
            "python -u -m finetuning.trainer --job-dir /content/drive/MyDrive/DLHProject/jobs/spectrogram/finetune__10_seed10 --train /content/drive/MyDrive/DLHProject/data/physionet_finetune_spectrogram/physionet_train.pkl --test /content/drive/MyDrive/DLHProject/data/physionet_finetune_spectrogram/physionet_test.pkl --val-size 0.0625 --val-metric f1 --arch resnet18_2d --batch-size 128 --epochs 200 --seed 10 --weights-file /content/drive/MyDrive/DLHProject/jobs/spectrogram/pretraining/min_normalization_16epochs_to_20percent/epoch_08/model.weights.index\n",
            "========================================\n",
            "Dryrun -- Exiting.\n",
            "========================================\n",
            "Finetuning output job dir: /content/drive/MyDrive/DLHProject/jobs/spectrogram/finetune__10_seed20\n",
            "========================================\n",
            "Configured command:\n",
            "python -u -m finetuning.trainer --job-dir /content/drive/MyDrive/DLHProject/jobs/spectrogram/finetune__10_seed20 --train /content/drive/MyDrive/DLHProject/data/physionet_finetune_spectrogram/physionet_train.pkl --test /content/drive/MyDrive/DLHProject/data/physionet_finetune_spectrogram/physionet_test.pkl --val-size 0.0625 --val-metric f1 --arch resnet18_2d --batch-size 128 --epochs 200 --seed 20 --weights-file /content/drive/MyDrive/DLHProject/jobs/spectrogram/pretraining/min_normalization_16epochs_to_20percent/epoch_08/model.weights.index\n",
            "========================================\n",
            "Dryrun -- Exiting.\n",
            "========================================\n",
            "Finetuning output job dir: /content/drive/MyDrive/DLHProject/jobs/spectrogram/finetune__10_seed30\n",
            "========================================\n",
            "Configured command:\n",
            "python -u -m finetuning.trainer --job-dir /content/drive/MyDrive/DLHProject/jobs/spectrogram/finetune__10_seed30 --train /content/drive/MyDrive/DLHProject/data/physionet_finetune_spectrogram/physionet_train.pkl --test /content/drive/MyDrive/DLHProject/data/physionet_finetune_spectrogram/physionet_test.pkl --val-size 0.0625 --val-metric f1 --arch resnet18_2d --batch-size 128 --epochs 200 --seed 30 --weights-file /content/drive/MyDrive/DLHProject/jobs/spectrogram/pretraining/min_normalization_16epochs_to_20percent/epoch_08/model.weights.index\n",
            "========================================\n",
            "Dryrun -- Exiting.\n",
            "========================================\n",
            "Finetuning output job dir: /content/drive/MyDrive/DLHProject/jobs/spectrogram/finetune__10_seed40\n",
            "========================================\n",
            "Configured command:\n",
            "python -u -m finetuning.trainer --job-dir /content/drive/MyDrive/DLHProject/jobs/spectrogram/finetune__10_seed40 --train /content/drive/MyDrive/DLHProject/data/physionet_finetune_spectrogram/physionet_train.pkl --test /content/drive/MyDrive/DLHProject/data/physionet_finetune_spectrogram/physionet_test.pkl --val-size 0.0625 --val-metric f1 --arch resnet18_2d --batch-size 128 --epochs 200 --seed 40 --weights-file /content/drive/MyDrive/DLHProject/jobs/spectrogram/pretraining/min_normalization_16epochs_to_20percent/epoch_08/model.weights.index\n",
            "========================================\n",
            "Dryrun -- Exiting.\n",
            "========================================\n",
            "Finetuning output job dir: /content/drive/MyDrive/DLHProject/jobs/spectrogram/finetune__10_seed50\n",
            "========================================\n",
            "Configured command:\n",
            "python -u -m finetuning.trainer --job-dir /content/drive/MyDrive/DLHProject/jobs/spectrogram/finetune__10_seed50 --train /content/drive/MyDrive/DLHProject/data/physionet_finetune_spectrogram/physionet_train.pkl --test /content/drive/MyDrive/DLHProject/data/physionet_finetune_spectrogram/physionet_test.pkl --val-size 0.0625 --val-metric f1 --arch resnet18_2d --batch-size 128 --epochs 200 --seed 50 --weights-file /content/drive/MyDrive/DLHProject/jobs/spectrogram/pretraining/min_normalization_16epochs_to_20percent/epoch_08/model.weights.index\n",
            "========================================\n",
            "Dryrun -- Exiting.\n",
            "========================================\n",
            "Finetuning output job dir: /content/drive/MyDrive/DLHProject/jobs/spectrogram/finetune__10_seed60\n",
            "========================================\n",
            "Configured command:\n",
            "python -u -m finetuning.trainer --job-dir /content/drive/MyDrive/DLHProject/jobs/spectrogram/finetune__10_seed60 --train /content/drive/MyDrive/DLHProject/data/physionet_finetune_spectrogram/physionet_train.pkl --test /content/drive/MyDrive/DLHProject/data/physionet_finetune_spectrogram/physionet_test.pkl --val-size 0.0625 --val-metric f1 --arch resnet18_2d --batch-size 128 --epochs 200 --seed 60 --weights-file /content/drive/MyDrive/DLHProject/jobs/spectrogram/pretraining/min_normalization_16epochs_to_20percent/epoch_08/model.weights.index\n",
            "========================================\n",
            "Dryrun -- Exiting.\n",
            "========================================\n",
            "Finetuning output job dir: /content/drive/MyDrive/DLHProject/jobs/spectrogram/finetune__10_seed70\n",
            "========================================\n",
            "Configured command:\n",
            "python -u -m finetuning.trainer --job-dir /content/drive/MyDrive/DLHProject/jobs/spectrogram/finetune__10_seed70 --train /content/drive/MyDrive/DLHProject/data/physionet_finetune_spectrogram/physionet_train.pkl --test /content/drive/MyDrive/DLHProject/data/physionet_finetune_spectrogram/physionet_test.pkl --val-size 0.0625 --val-metric f1 --arch resnet18_2d --batch-size 128 --epochs 200 --seed 70 --weights-file /content/drive/MyDrive/DLHProject/jobs/spectrogram/pretraining/min_normalization_16epochs_to_20percent/epoch_08/model.weights.index\n",
            "========================================\n",
            "Dryrun -- Exiting.\n",
            "========================================\n",
            "Finetuning output job dir: /content/drive/MyDrive/DLHProject/jobs/spectrogram/finetune__10_seed80\n",
            "========================================\n",
            "Configured command:\n",
            "python -u -m finetuning.trainer --job-dir /content/drive/MyDrive/DLHProject/jobs/spectrogram/finetune__10_seed80 --train /content/drive/MyDrive/DLHProject/data/physionet_finetune_spectrogram/physionet_train.pkl --test /content/drive/MyDrive/DLHProject/data/physionet_finetune_spectrogram/physionet_test.pkl --val-size 0.0625 --val-metric f1 --arch resnet18_2d --batch-size 128 --epochs 200 --seed 80 --weights-file /content/drive/MyDrive/DLHProject/jobs/spectrogram/pretraining/min_normalization_16epochs_to_20percent/epoch_08/model.weights.index\n",
            "========================================\n",
            "Dryrun -- Exiting.\n",
            "========================================\n",
            "Finetuning output job dir: /content/drive/MyDrive/DLHProject/jobs/spectrogram/finetune__10_seed90\n",
            "========================================\n",
            "Configured command:\n",
            "python -u -m finetuning.trainer --job-dir /content/drive/MyDrive/DLHProject/jobs/spectrogram/finetune__10_seed90 --train /content/drive/MyDrive/DLHProject/data/physionet_finetune_spectrogram/physionet_train.pkl --test /content/drive/MyDrive/DLHProject/data/physionet_finetune_spectrogram/physionet_test.pkl --val-size 0.0625 --val-metric f1 --arch resnet18_2d --batch-size 128 --epochs 200 --seed 90 --weights-file /content/drive/MyDrive/DLHProject/jobs/spectrogram/pretraining/min_normalization_16epochs_to_20percent/epoch_08/model.weights.index\n",
            "========================================\n",
            "Dryrun -- Exiting.\n",
            "========================================\n",
            "Finetuning output job dir: /content/drive/MyDrive/DLHProject/jobs/spectrogram/finetune__10_seed100\n",
            "========================================\n",
            "Configured command:\n",
            "python -u -m finetuning.trainer --job-dir /content/drive/MyDrive/DLHProject/jobs/spectrogram/finetune__10_seed100 --train /content/drive/MyDrive/DLHProject/data/physionet_finetune_spectrogram/physionet_train.pkl --test /content/drive/MyDrive/DLHProject/data/physionet_finetune_spectrogram/physionet_test.pkl --val-size 0.0625 --val-metric f1 --arch resnet18_2d --batch-size 128 --epochs 200 --seed 100 --weights-file /content/drive/MyDrive/DLHProject/jobs/spectrogram/pretraining/min_normalization_16epochs_to_20percent/epoch_08/model.weights.index\n",
            "========================================\n",
            "Dryrun -- Exiting.\n",
            "seq 10 10 100 | xargs -P 1 -I {} python finetune_runner.py \\\n",
            "--arch resnet18_2d \\\n",
            "--weights-type 20 \\\n",
            "--weights-file /content/drive/MyDrive/DLHProject/jobs/spectrogram/pretraining/min_normalization_16epochs_to_20percent/epoch_16/model.weights.index \\\n",
            "--job-base-dir /content/drive/MyDrive/DLHProject/jobs/spectrogram \\\n",
            "--train /content/drive/MyDrive/DLHProject/data/physionet_finetune_spectrogram/physionet_train.pkl \\\n",
            "--test /content/drive/MyDrive/DLHProject/data/physionet_finetune_spectrogram/physionet_test.pkl \\\n",
            "--batch-size 128 \\\n",
            "--epochs 200 \\\n",
            "--seed '{}' \\\n",
            "--dryrun True\n",
            "========================================\n",
            "Finetuning output job dir: /content/drive/MyDrive/DLHProject/jobs/spectrogram/finetune__20_seed10\n",
            "========================================\n",
            "Configured command:\n",
            "python -u -m finetuning.trainer --job-dir /content/drive/MyDrive/DLHProject/jobs/spectrogram/finetune__20_seed10 --train /content/drive/MyDrive/DLHProject/data/physionet_finetune_spectrogram/physionet_train.pkl --test /content/drive/MyDrive/DLHProject/data/physionet_finetune_spectrogram/physionet_test.pkl --val-size 0.0625 --val-metric f1 --arch resnet18_2d --batch-size 128 --epochs 200 --seed 10 --weights-file /content/drive/MyDrive/DLHProject/jobs/spectrogram/pretraining/min_normalization_16epochs_to_20percent/epoch_16/model.weights.index\n",
            "========================================\n",
            "Dryrun -- Exiting.\n",
            "========================================\n",
            "Finetuning output job dir: /content/drive/MyDrive/DLHProject/jobs/spectrogram/finetune__20_seed20\n",
            "========================================\n",
            "Configured command:\n",
            "python -u -m finetuning.trainer --job-dir /content/drive/MyDrive/DLHProject/jobs/spectrogram/finetune__20_seed20 --train /content/drive/MyDrive/DLHProject/data/physionet_finetune_spectrogram/physionet_train.pkl --test /content/drive/MyDrive/DLHProject/data/physionet_finetune_spectrogram/physionet_test.pkl --val-size 0.0625 --val-metric f1 --arch resnet18_2d --batch-size 128 --epochs 200 --seed 20 --weights-file /content/drive/MyDrive/DLHProject/jobs/spectrogram/pretraining/min_normalization_16epochs_to_20percent/epoch_16/model.weights.index\n",
            "========================================\n",
            "Dryrun -- Exiting.\n",
            "========================================\n",
            "Finetuning output job dir: /content/drive/MyDrive/DLHProject/jobs/spectrogram/finetune__20_seed30\n",
            "========================================\n",
            "Configured command:\n",
            "python -u -m finetuning.trainer --job-dir /content/drive/MyDrive/DLHProject/jobs/spectrogram/finetune__20_seed30 --train /content/drive/MyDrive/DLHProject/data/physionet_finetune_spectrogram/physionet_train.pkl --test /content/drive/MyDrive/DLHProject/data/physionet_finetune_spectrogram/physionet_test.pkl --val-size 0.0625 --val-metric f1 --arch resnet18_2d --batch-size 128 --epochs 200 --seed 30 --weights-file /content/drive/MyDrive/DLHProject/jobs/spectrogram/pretraining/min_normalization_16epochs_to_20percent/epoch_16/model.weights.index\n",
            "========================================\n",
            "Dryrun -- Exiting.\n",
            "========================================\n",
            "Finetuning output job dir: /content/drive/MyDrive/DLHProject/jobs/spectrogram/finetune__20_seed40\n",
            "========================================\n",
            "Configured command:\n",
            "python -u -m finetuning.trainer --job-dir /content/drive/MyDrive/DLHProject/jobs/spectrogram/finetune__20_seed40 --train /content/drive/MyDrive/DLHProject/data/physionet_finetune_spectrogram/physionet_train.pkl --test /content/drive/MyDrive/DLHProject/data/physionet_finetune_spectrogram/physionet_test.pkl --val-size 0.0625 --val-metric f1 --arch resnet18_2d --batch-size 128 --epochs 200 --seed 40 --weights-file /content/drive/MyDrive/DLHProject/jobs/spectrogram/pretraining/min_normalization_16epochs_to_20percent/epoch_16/model.weights.index\n",
            "========================================\n",
            "Dryrun -- Exiting.\n",
            "========================================\n",
            "Finetuning output job dir: /content/drive/MyDrive/DLHProject/jobs/spectrogram/finetune__20_seed50\n",
            "========================================\n",
            "Configured command:\n",
            "python -u -m finetuning.trainer --job-dir /content/drive/MyDrive/DLHProject/jobs/spectrogram/finetune__20_seed50 --train /content/drive/MyDrive/DLHProject/data/physionet_finetune_spectrogram/physionet_train.pkl --test /content/drive/MyDrive/DLHProject/data/physionet_finetune_spectrogram/physionet_test.pkl --val-size 0.0625 --val-metric f1 --arch resnet18_2d --batch-size 128 --epochs 200 --seed 50 --weights-file /content/drive/MyDrive/DLHProject/jobs/spectrogram/pretraining/min_normalization_16epochs_to_20percent/epoch_16/model.weights.index\n",
            "========================================\n",
            "Dryrun -- Exiting.\n",
            "========================================\n",
            "Finetuning output job dir: /content/drive/MyDrive/DLHProject/jobs/spectrogram/finetune__20_seed60\n",
            "========================================\n",
            "Configured command:\n",
            "python -u -m finetuning.trainer --job-dir /content/drive/MyDrive/DLHProject/jobs/spectrogram/finetune__20_seed60 --train /content/drive/MyDrive/DLHProject/data/physionet_finetune_spectrogram/physionet_train.pkl --test /content/drive/MyDrive/DLHProject/data/physionet_finetune_spectrogram/physionet_test.pkl --val-size 0.0625 --val-metric f1 --arch resnet18_2d --batch-size 128 --epochs 200 --seed 60 --weights-file /content/drive/MyDrive/DLHProject/jobs/spectrogram/pretraining/min_normalization_16epochs_to_20percent/epoch_16/model.weights.index\n",
            "========================================\n",
            "Dryrun -- Exiting.\n",
            "========================================\n",
            "Finetuning output job dir: /content/drive/MyDrive/DLHProject/jobs/spectrogram/finetune__20_seed70\n",
            "========================================\n",
            "Configured command:\n",
            "python -u -m finetuning.trainer --job-dir /content/drive/MyDrive/DLHProject/jobs/spectrogram/finetune__20_seed70 --train /content/drive/MyDrive/DLHProject/data/physionet_finetune_spectrogram/physionet_train.pkl --test /content/drive/MyDrive/DLHProject/data/physionet_finetune_spectrogram/physionet_test.pkl --val-size 0.0625 --val-metric f1 --arch resnet18_2d --batch-size 128 --epochs 200 --seed 70 --weights-file /content/drive/MyDrive/DLHProject/jobs/spectrogram/pretraining/min_normalization_16epochs_to_20percent/epoch_16/model.weights.index\n",
            "========================================\n",
            "Dryrun -- Exiting.\n",
            "========================================\n",
            "Finetuning output job dir: /content/drive/MyDrive/DLHProject/jobs/spectrogram/finetune__20_seed80\n",
            "========================================\n",
            "Configured command:\n",
            "python -u -m finetuning.trainer --job-dir /content/drive/MyDrive/DLHProject/jobs/spectrogram/finetune__20_seed80 --train /content/drive/MyDrive/DLHProject/data/physionet_finetune_spectrogram/physionet_train.pkl --test /content/drive/MyDrive/DLHProject/data/physionet_finetune_spectrogram/physionet_test.pkl --val-size 0.0625 --val-metric f1 --arch resnet18_2d --batch-size 128 --epochs 200 --seed 80 --weights-file /content/drive/MyDrive/DLHProject/jobs/spectrogram/pretraining/min_normalization_16epochs_to_20percent/epoch_16/model.weights.index\n",
            "========================================\n",
            "Dryrun -- Exiting.\n",
            "========================================\n",
            "Finetuning output job dir: /content/drive/MyDrive/DLHProject/jobs/spectrogram/finetune__20_seed90\n",
            "========================================\n",
            "Configured command:\n",
            "python -u -m finetuning.trainer --job-dir /content/drive/MyDrive/DLHProject/jobs/spectrogram/finetune__20_seed90 --train /content/drive/MyDrive/DLHProject/data/physionet_finetune_spectrogram/physionet_train.pkl --test /content/drive/MyDrive/DLHProject/data/physionet_finetune_spectrogram/physionet_test.pkl --val-size 0.0625 --val-metric f1 --arch resnet18_2d --batch-size 128 --epochs 200 --seed 90 --weights-file /content/drive/MyDrive/DLHProject/jobs/spectrogram/pretraining/min_normalization_16epochs_to_20percent/epoch_16/model.weights.index\n",
            "========================================\n",
            "Dryrun -- Exiting.\n",
            "========================================\n",
            "Finetuning output job dir: /content/drive/MyDrive/DLHProject/jobs/spectrogram/finetune__20_seed100\n",
            "========================================\n",
            "Configured command:\n",
            "python -u -m finetuning.trainer --job-dir /content/drive/MyDrive/DLHProject/jobs/spectrogram/finetune__20_seed100 --train /content/drive/MyDrive/DLHProject/data/physionet_finetune_spectrogram/physionet_train.pkl --test /content/drive/MyDrive/DLHProject/data/physionet_finetune_spectrogram/physionet_test.pkl --val-size 0.0625 --val-metric f1 --arch resnet18_2d --batch-size 128 --epochs 200 --seed 100 --weights-file /content/drive/MyDrive/DLHProject/jobs/spectrogram/pretraining/min_normalization_16epochs_to_20percent/epoch_16/model.weights.index\n",
            "========================================\n",
            "Dryrun -- Exiting.\n"
          ]
        }
      ],
      "source": [
        "import os\n",
        "dryrun = False # change this to False once you have verified everything looks good\n",
        "\n",
        "# finetune/pretraining data paths (can vary depending on model used)\n",
        "arch = \"resnet18_2d\"\n",
        "PHYSIONET_TRAIN = DATA_DIR + \"/physionet_finetune_spectrogram/physionet_train.pkl\"\n",
        "PHYSIONET_TEST = DATA_DIR + \"/physionet_finetune_spectrogram/physionet_test.pkl\"\n",
        "PRETRAIN_BASE =JOB_DIR + \"/spectrogram/pretraining/min_normalization_16epochs_to_20percent\"\n",
        "FINETUNE_BASE =JOB_DIR + \"/spectrogram/finetuning/min_normalization_16epochs_to_20percent\"\n",
        "os.makedirs(FINETUNE_BASE, exist_ok=True)\n",
        "\n",
        "# define which combinations of runs to do\n",
        "weight_types = [\"random\",\n",
        "                \"10\",\n",
        "                \"20\"]\n",
        "\n",
        "weight_files = [\"\",\n",
        "                PRETRAIN_BASE + \"/epoch_08/model.weights.index\",\n",
        "                PRETRAIN_BASE + \"/epoch_16/model.weights.index\"]\n",
        "\n",
        "# Loop through each weight type and corresponding weight file\n",
        "for weight_type, weight_file in zip(weight_types, weight_files):\n",
        "    # Assert that the required datasets exist\n",
        "    assert os.path.exists(PHYSIONET_TRAIN), f\"PHYSIONET_TRAIN does not exist: {PHYSIONET_TRAIN}\"\n",
        "    assert os.path.exists(PHYSIONET_TEST), f\"PHYSIONET_TEST does not exist: {PHYSIONET_TEST}\"\n",
        "    if weight_type != \"random\":\n",
        "        assert os.path.exists(weight_file), f\"weight_file does not exist: {weight_file}\"\n",
        "\n",
        "    # Define the command to run\n",
        "    command = (\n",
        "        f\"seq 10 10 100 | xargs -P 1 -I {{}} python finetune_runner.py \\\\\\n\"\n",
        "        f\"--arch {arch} \\\\\\n\"\n",
        "        f\"--weights-type {weight_type} \\\\\\n\"\n",
        "        f\"--weights-file {weight_file} \\\\\\n\"\n",
        "        f\"--job-base-dir /content/drive/MyDrive/DLHProject/jobs/spectrogram \\\\\\n\"\n",
        "        f\"--train {PHYSIONET_TRAIN} \\\\\\n\"\n",
        "        f\"--test {PHYSIONET_TEST} \\\\\\n\"\n",
        "        f\"--batch-size 128 \\\\\\n\"\n",
        "        f\"--epochs 200 \\\\\\n\"\n",
        "        f\"--seed '{{}}' \\\\\\n\"\n",
        "        f\"--dryrun {dryrun}\"\n",
        "    )\n",
        "\n",
        "    # Execute the command and stream the output here\n",
        "    print(command)\n",
        "\n",
        "    # make sure output is printed to screen immediately\n",
        "    execute_and_print(command)\n",
        "\n"
      ]
    },
    {
      "cell_type": "code",
      "source": [],
      "metadata": {
        "id": "KCjMVjoHtBkZ"
      },
      "execution_count": null,
      "outputs": []
    }
  ],
  "metadata": {
    "accelerator": "GPU",
    "colab": {
      "gpuType": "V100",
      "provenance": []
    },
    "kernelspec": {
      "display_name": "Python 3",
      "name": "python3"
    },
    "language_info": {
      "name": "python"
    }
  },
  "nbformat": 4,
  "nbformat_minor": 0
}