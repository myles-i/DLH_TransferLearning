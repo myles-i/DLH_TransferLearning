{
  "nbformat": 4,
  "nbformat_minor": 0,
  "metadata": {
    "colab": {
      "provenance": []
    },
    "kernelspec": {
      "name": "python3",
      "display_name": "Python 3"
    },
    "language_info": {
      "name": "python"
    }
  },
  "cells": [
    {
      "cell_type": "markdown",
      "source": [
        "# Finetuning: analyze F1 changes\n",
        "\n",
        "We tried 2 modifications to finetune trainer.py\n",
        "1. Move csvlogger to last in the callback list\n",
        "2. Save output of model.fit() to npy file"
      ],
      "metadata": {
        "id": "W0Hzk3Xx1yq7"
      }
    },
    {
      "cell_type": "code",
      "execution_count": 1,
      "metadata": {
        "colab": {
          "base_uri": "https://localhost:8080/"
        },
        "id": "pAtaE4bN1vQh",
        "outputId": "c11f06ec-2984-419e-a218-c20e77b1e6ec"
      },
      "outputs": [
        {
          "output_type": "stream",
          "name": "stdout",
          "text": [
            "Mounted at /content/drive\n"
          ]
        }
      ],
      "source": [
        "from google.colab import drive\n",
        "drive.mount('/content/drive')"
      ]
    },
    {
      "cell_type": "code",
      "source": [
        "PROJECT_ROOT = '/content/drive/MyDrive/DLHProject'"
      ],
      "metadata": {
        "id": "w-6Wf-eb2MGr"
      },
      "execution_count": 2,
      "outputs": []
    },
    {
      "cell_type": "markdown",
      "source": [
        "Note that JOB_DIR below was created by `jupyter_notebooks/finetune_train_random_original_with_f1.ipynb`\n",
        "\n",
        "This only runs 10 epochs of finetuning on random initialized data."
      ],
      "metadata": {
        "id": "ceMINgtI8EUy"
      }
    },
    {
      "cell_type": "code",
      "source": [
        "JOB_DIR = PROJECT_ROOT + '/jobs/finetune_random_cnn_original_data_with_f1'\n",
        "! ls -lh $JOB_DIR"
      ],
      "metadata": {
        "colab": {
          "base_uri": "https://localhost:8080/"
        },
        "id": "EoUe2lUd2MZ9",
        "outputId": "725a7b9f-8892-4192-c8d4-539abff95682"
      },
      "execution_count": 4,
      "outputs": [
        {
          "output_type": "stream",
          "name": "stdout",
          "text": [
            "total 52M\n",
            "-rw------- 1 root root  52M Apr 11 06:24 best_model.weights.data-00000-of-00001\n",
            "-rw------- 1 root root  14K Apr 11 06:24 best_model.weights.index\n",
            "-rw------- 1 root root   93 Apr 11 06:24 checkpoint\n",
            "-rw------- 1 root root 1013 Apr 11 06:21 history.csv\n",
            "-rw------- 1 root root 1023 Apr 11 06:25 history.npy\n",
            "-rw------- 1 root root 103K Apr 11 06:25 test_predictions.csv\n",
            "-rw------- 1 root root 386K Apr 11 06:25 train_predictions.csv\n",
            "-rw------- 1 root root  26K Apr 11 06:25 val_predictions.csv\n"
          ]
        }
      ]
    },
    {
      "cell_type": "code",
      "source": [
        "%cd $JOB_DIR"
      ],
      "metadata": {
        "colab": {
          "base_uri": "https://localhost:8080/"
        },
        "id": "M17R0IMK2apQ",
        "outputId": "cb3e02af-a02c-46be-b5ea-9302d4bd5a86"
      },
      "execution_count": 5,
      "outputs": [
        {
          "output_type": "stream",
          "name": "stdout",
          "text": [
            "/content/drive/.shortcut-targets-by-id/1vlUILM7cToH5CoX1x0kWRpe55MbBogS-/Project/jobs/finetune_random_cnn_original_data_with_f1\n"
          ]
        }
      ]
    },
    {
      "cell_type": "code",
      "source": [
        "! head history.csv"
      ],
      "metadata": {
        "colab": {
          "base_uri": "https://localhost:8080/"
        },
        "id": "GE5iWBck2fNd",
        "outputId": "711697a1-45be-401a-85b3-d2ef26719618"
      },
      "execution_count": 6,
      "outputs": [
        {
          "output_type": "stream",
          "name": "stdout",
          "text": [
            "epoch,acc,f1,loss,val_acc,val_loss\r\n",
            "0,0.6012510061264038,0.40085603011134924,0.9432749152183533,0.6088992953300476,0.9500560760498047\r\n",
            "1,0.6783424615859985,0.6145307633171481,0.7665732502937317,0.7213114500045776,0.6366396546363831\r\n",
            "2,0.7133698463439941,0.4177190766723688,0.6997089982032776,0.6487119197845459,0.8629630208015442\r\n",
            "3,0.729163408279419,0.5907259013641992,0.6475918889045715,0.7306791543960571,0.714259684085846\r\n",
            "4,0.7354183197021484,0.6690685741572123,0.6315167546272278,0.7494145035743713,0.6611289978027344\r\n",
            "5,0.7560594081878662,0.601569550897282,0.6043320894241333,0.7377049326896667,0.7461788058280945\r\n",
            "6,0.769351065158844,0.34476060422968285,0.5665845274925232,0.3536299765110016,1.9298352003097534\r\n",
            "7,0.7842063903808594,0.7155440768462392,0.5415884256362915,0.7939109802246094,0.581297755241394\r\n",
            "8,0.7817044854164124,0.6614180719390316,0.5337321162223816,0.7611241340637207,0.6624268889427185\r\n"
          ]
        }
      ]
    },
    {
      "cell_type": "markdown",
      "source": [
        "We see `f1` in the output. The change in (1) is successful. We'll inspect (2) in a short bit.\n",
        "\n",
        "Next, we see what the f1 vs epoch plot looks like."
      ],
      "metadata": {
        "id": "to71roHq2lN6"
      }
    },
    {
      "cell_type": "code",
      "source": [
        "import pandas as pd\n",
        "\n",
        "history = pd.read_csv('history.csv')\n",
        "history.head()"
      ],
      "metadata": {
        "colab": {
          "base_uri": "https://localhost:8080/",
          "height": 206
        },
        "id": "6aBVP8NH2ksV",
        "outputId": "9fc790c2-5d08-4d0c-c453-17c651a3fe1b"
      },
      "execution_count": 7,
      "outputs": [
        {
          "output_type": "execute_result",
          "data": {
            "text/plain": [
              "   epoch       acc        f1      loss   val_acc  val_loss\n",
              "0      0  0.601251  0.400856  0.943275  0.608899  0.950056\n",
              "1      1  0.678342  0.614531  0.766573  0.721311  0.636640\n",
              "2      2  0.713370  0.417719  0.699709  0.648712  0.862963\n",
              "3      3  0.729163  0.590726  0.647592  0.730679  0.714260\n",
              "4      4  0.735418  0.669069  0.631517  0.749415  0.661129"
            ],
            "text/html": [
              "\n",
              "  <div id=\"df-e0ad62ab-02e8-40f9-acc9-6cda25fd8d62\" class=\"colab-df-container\">\n",
              "    <div>\n",
              "<style scoped>\n",
              "    .dataframe tbody tr th:only-of-type {\n",
              "        vertical-align: middle;\n",
              "    }\n",
              "\n",
              "    .dataframe tbody tr th {\n",
              "        vertical-align: top;\n",
              "    }\n",
              "\n",
              "    .dataframe thead th {\n",
              "        text-align: right;\n",
              "    }\n",
              "</style>\n",
              "<table border=\"1\" class=\"dataframe\">\n",
              "  <thead>\n",
              "    <tr style=\"text-align: right;\">\n",
              "      <th></th>\n",
              "      <th>epoch</th>\n",
              "      <th>acc</th>\n",
              "      <th>f1</th>\n",
              "      <th>loss</th>\n",
              "      <th>val_acc</th>\n",
              "      <th>val_loss</th>\n",
              "    </tr>\n",
              "  </thead>\n",
              "  <tbody>\n",
              "    <tr>\n",
              "      <th>0</th>\n",
              "      <td>0</td>\n",
              "      <td>0.601251</td>\n",
              "      <td>0.400856</td>\n",
              "      <td>0.943275</td>\n",
              "      <td>0.608899</td>\n",
              "      <td>0.950056</td>\n",
              "    </tr>\n",
              "    <tr>\n",
              "      <th>1</th>\n",
              "      <td>1</td>\n",
              "      <td>0.678342</td>\n",
              "      <td>0.614531</td>\n",
              "      <td>0.766573</td>\n",
              "      <td>0.721311</td>\n",
              "      <td>0.636640</td>\n",
              "    </tr>\n",
              "    <tr>\n",
              "      <th>2</th>\n",
              "      <td>2</td>\n",
              "      <td>0.713370</td>\n",
              "      <td>0.417719</td>\n",
              "      <td>0.699709</td>\n",
              "      <td>0.648712</td>\n",
              "      <td>0.862963</td>\n",
              "    </tr>\n",
              "    <tr>\n",
              "      <th>3</th>\n",
              "      <td>3</td>\n",
              "      <td>0.729163</td>\n",
              "      <td>0.590726</td>\n",
              "      <td>0.647592</td>\n",
              "      <td>0.730679</td>\n",
              "      <td>0.714260</td>\n",
              "    </tr>\n",
              "    <tr>\n",
              "      <th>4</th>\n",
              "      <td>4</td>\n",
              "      <td>0.735418</td>\n",
              "      <td>0.669069</td>\n",
              "      <td>0.631517</td>\n",
              "      <td>0.749415</td>\n",
              "      <td>0.661129</td>\n",
              "    </tr>\n",
              "  </tbody>\n",
              "</table>\n",
              "</div>\n",
              "    <div class=\"colab-df-buttons\">\n",
              "\n",
              "  <div class=\"colab-df-container\">\n",
              "    <button class=\"colab-df-convert\" onclick=\"convertToInteractive('df-e0ad62ab-02e8-40f9-acc9-6cda25fd8d62')\"\n",
              "            title=\"Convert this dataframe to an interactive table.\"\n",
              "            style=\"display:none;\">\n",
              "\n",
              "  <svg xmlns=\"http://www.w3.org/2000/svg\" height=\"24px\" viewBox=\"0 -960 960 960\">\n",
              "    <path d=\"M120-120v-720h720v720H120Zm60-500h600v-160H180v160Zm220 220h160v-160H400v160Zm0 220h160v-160H400v160ZM180-400h160v-160H180v160Zm440 0h160v-160H620v160ZM180-180h160v-160H180v160Zm440 0h160v-160H620v160Z\"/>\n",
              "  </svg>\n",
              "    </button>\n",
              "\n",
              "  <style>\n",
              "    .colab-df-container {\n",
              "      display:flex;\n",
              "      gap: 12px;\n",
              "    }\n",
              "\n",
              "    .colab-df-convert {\n",
              "      background-color: #E8F0FE;\n",
              "      border: none;\n",
              "      border-radius: 50%;\n",
              "      cursor: pointer;\n",
              "      display: none;\n",
              "      fill: #1967D2;\n",
              "      height: 32px;\n",
              "      padding: 0 0 0 0;\n",
              "      width: 32px;\n",
              "    }\n",
              "\n",
              "    .colab-df-convert:hover {\n",
              "      background-color: #E2EBFA;\n",
              "      box-shadow: 0px 1px 2px rgba(60, 64, 67, 0.3), 0px 1px 3px 1px rgba(60, 64, 67, 0.15);\n",
              "      fill: #174EA6;\n",
              "    }\n",
              "\n",
              "    .colab-df-buttons div {\n",
              "      margin-bottom: 4px;\n",
              "    }\n",
              "\n",
              "    [theme=dark] .colab-df-convert {\n",
              "      background-color: #3B4455;\n",
              "      fill: #D2E3FC;\n",
              "    }\n",
              "\n",
              "    [theme=dark] .colab-df-convert:hover {\n",
              "      background-color: #434B5C;\n",
              "      box-shadow: 0px 1px 3px 1px rgba(0, 0, 0, 0.15);\n",
              "      filter: drop-shadow(0px 1px 2px rgba(0, 0, 0, 0.3));\n",
              "      fill: #FFFFFF;\n",
              "    }\n",
              "  </style>\n",
              "\n",
              "    <script>\n",
              "      const buttonEl =\n",
              "        document.querySelector('#df-e0ad62ab-02e8-40f9-acc9-6cda25fd8d62 button.colab-df-convert');\n",
              "      buttonEl.style.display =\n",
              "        google.colab.kernel.accessAllowed ? 'block' : 'none';\n",
              "\n",
              "      async function convertToInteractive(key) {\n",
              "        const element = document.querySelector('#df-e0ad62ab-02e8-40f9-acc9-6cda25fd8d62');\n",
              "        const dataTable =\n",
              "          await google.colab.kernel.invokeFunction('convertToInteractive',\n",
              "                                                    [key], {});\n",
              "        if (!dataTable) return;\n",
              "\n",
              "        const docLinkHtml = 'Like what you see? Visit the ' +\n",
              "          '<a target=\"_blank\" href=https://colab.research.google.com/notebooks/data_table.ipynb>data table notebook</a>'\n",
              "          + ' to learn more about interactive tables.';\n",
              "        element.innerHTML = '';\n",
              "        dataTable['output_type'] = 'display_data';\n",
              "        await google.colab.output.renderOutput(dataTable, element);\n",
              "        const docLink = document.createElement('div');\n",
              "        docLink.innerHTML = docLinkHtml;\n",
              "        element.appendChild(docLink);\n",
              "      }\n",
              "    </script>\n",
              "  </div>\n",
              "\n",
              "\n",
              "<div id=\"df-627b16f4-be7f-4cb8-a600-83dc47392db6\">\n",
              "  <button class=\"colab-df-quickchart\" onclick=\"quickchart('df-627b16f4-be7f-4cb8-a600-83dc47392db6')\"\n",
              "            title=\"Suggest charts\"\n",
              "            style=\"display:none;\">\n",
              "\n",
              "<svg xmlns=\"http://www.w3.org/2000/svg\" height=\"24px\"viewBox=\"0 0 24 24\"\n",
              "     width=\"24px\">\n",
              "    <g>\n",
              "        <path d=\"M19 3H5c-1.1 0-2 .9-2 2v14c0 1.1.9 2 2 2h14c1.1 0 2-.9 2-2V5c0-1.1-.9-2-2-2zM9 17H7v-7h2v7zm4 0h-2V7h2v10zm4 0h-2v-4h2v4z\"/>\n",
              "    </g>\n",
              "</svg>\n",
              "  </button>\n",
              "\n",
              "<style>\n",
              "  .colab-df-quickchart {\n",
              "      --bg-color: #E8F0FE;\n",
              "      --fill-color: #1967D2;\n",
              "      --hover-bg-color: #E2EBFA;\n",
              "      --hover-fill-color: #174EA6;\n",
              "      --disabled-fill-color: #AAA;\n",
              "      --disabled-bg-color: #DDD;\n",
              "  }\n",
              "\n",
              "  [theme=dark] .colab-df-quickchart {\n",
              "      --bg-color: #3B4455;\n",
              "      --fill-color: #D2E3FC;\n",
              "      --hover-bg-color: #434B5C;\n",
              "      --hover-fill-color: #FFFFFF;\n",
              "      --disabled-bg-color: #3B4455;\n",
              "      --disabled-fill-color: #666;\n",
              "  }\n",
              "\n",
              "  .colab-df-quickchart {\n",
              "    background-color: var(--bg-color);\n",
              "    border: none;\n",
              "    border-radius: 50%;\n",
              "    cursor: pointer;\n",
              "    display: none;\n",
              "    fill: var(--fill-color);\n",
              "    height: 32px;\n",
              "    padding: 0;\n",
              "    width: 32px;\n",
              "  }\n",
              "\n",
              "  .colab-df-quickchart:hover {\n",
              "    background-color: var(--hover-bg-color);\n",
              "    box-shadow: 0 1px 2px rgba(60, 64, 67, 0.3), 0 1px 3px 1px rgba(60, 64, 67, 0.15);\n",
              "    fill: var(--button-hover-fill-color);\n",
              "  }\n",
              "\n",
              "  .colab-df-quickchart-complete:disabled,\n",
              "  .colab-df-quickchart-complete:disabled:hover {\n",
              "    background-color: var(--disabled-bg-color);\n",
              "    fill: var(--disabled-fill-color);\n",
              "    box-shadow: none;\n",
              "  }\n",
              "\n",
              "  .colab-df-spinner {\n",
              "    border: 2px solid var(--fill-color);\n",
              "    border-color: transparent;\n",
              "    border-bottom-color: var(--fill-color);\n",
              "    animation:\n",
              "      spin 1s steps(1) infinite;\n",
              "  }\n",
              "\n",
              "  @keyframes spin {\n",
              "    0% {\n",
              "      border-color: transparent;\n",
              "      border-bottom-color: var(--fill-color);\n",
              "      border-left-color: var(--fill-color);\n",
              "    }\n",
              "    20% {\n",
              "      border-color: transparent;\n",
              "      border-left-color: var(--fill-color);\n",
              "      border-top-color: var(--fill-color);\n",
              "    }\n",
              "    30% {\n",
              "      border-color: transparent;\n",
              "      border-left-color: var(--fill-color);\n",
              "      border-top-color: var(--fill-color);\n",
              "      border-right-color: var(--fill-color);\n",
              "    }\n",
              "    40% {\n",
              "      border-color: transparent;\n",
              "      border-right-color: var(--fill-color);\n",
              "      border-top-color: var(--fill-color);\n",
              "    }\n",
              "    60% {\n",
              "      border-color: transparent;\n",
              "      border-right-color: var(--fill-color);\n",
              "    }\n",
              "    80% {\n",
              "      border-color: transparent;\n",
              "      border-right-color: var(--fill-color);\n",
              "      border-bottom-color: var(--fill-color);\n",
              "    }\n",
              "    90% {\n",
              "      border-color: transparent;\n",
              "      border-bottom-color: var(--fill-color);\n",
              "    }\n",
              "  }\n",
              "</style>\n",
              "\n",
              "  <script>\n",
              "    async function quickchart(key) {\n",
              "      const quickchartButtonEl =\n",
              "        document.querySelector('#' + key + ' button');\n",
              "      quickchartButtonEl.disabled = true;  // To prevent multiple clicks.\n",
              "      quickchartButtonEl.classList.add('colab-df-spinner');\n",
              "      try {\n",
              "        const charts = await google.colab.kernel.invokeFunction(\n",
              "            'suggestCharts', [key], {});\n",
              "      } catch (error) {\n",
              "        console.error('Error during call to suggestCharts:', error);\n",
              "      }\n",
              "      quickchartButtonEl.classList.remove('colab-df-spinner');\n",
              "      quickchartButtonEl.classList.add('colab-df-quickchart-complete');\n",
              "    }\n",
              "    (() => {\n",
              "      let quickchartButtonEl =\n",
              "        document.querySelector('#df-627b16f4-be7f-4cb8-a600-83dc47392db6 button');\n",
              "      quickchartButtonEl.style.display =\n",
              "        google.colab.kernel.accessAllowed ? 'block' : 'none';\n",
              "    })();\n",
              "  </script>\n",
              "</div>\n",
              "\n",
              "    </div>\n",
              "  </div>\n"
            ],
            "application/vnd.google.colaboratory.intrinsic+json": {
              "type": "dataframe",
              "variable_name": "history",
              "summary": "{\n  \"name\": \"history\",\n  \"rows\": 10,\n  \"fields\": [\n    {\n      \"column\": \"epoch\",\n      \"properties\": {\n        \"dtype\": \"number\",\n        \"std\": 3,\n        \"min\": 0,\n        \"max\": 9,\n        \"num_unique_values\": 10,\n        \"samples\": [\n          8,\n          1,\n          5\n        ],\n        \"semantic_type\": \"\",\n        \"description\": \"\"\n      }\n    },\n    {\n      \"column\": \"acc\",\n      \"properties\": {\n        \"dtype\": \"number\",\n        \"std\": 0.05843732364548313,\n        \"min\": 0.6012510061264038,\n        \"max\": 0.7890539765357971,\n        \"num_unique_values\": 10,\n        \"samples\": [\n          0.7817044854164124,\n          0.6783424615859985,\n          0.7560594081878662\n        ],\n        \"semantic_type\": \"\",\n        \"description\": \"\"\n      }\n    },\n    {\n      \"column\": \"f1\",\n      \"properties\": {\n        \"dtype\": \"number\",\n        \"std\": 0.13740540035835713,\n        \"min\": 0.3447606042296828,\n        \"max\": 0.7275352297905606,\n        \"num_unique_values\": 10,\n        \"samples\": [\n          0.6614180719390316,\n          0.6145307633171481,\n          0.601569550897282\n        ],\n        \"semantic_type\": \"\",\n        \"description\": \"\"\n      }\n    },\n    {\n      \"column\": \"loss\",\n      \"properties\": {\n        \"dtype\": \"number\",\n        \"std\": 0.1303698970930644,\n        \"min\": 0.5218560695648193,\n        \"max\": 0.9432749152183532,\n        \"num_unique_values\": 10,\n        \"samples\": [\n          0.5337321162223816,\n          0.7665732502937317,\n          0.6043320894241333\n        ],\n        \"semantic_type\": \"\",\n        \"description\": \"\"\n      }\n    },\n    {\n      \"column\": \"val_acc\",\n      \"properties\": {\n        \"dtype\": \"number\",\n        \"std\": 0.1314733325437155,\n        \"min\": 0.3536299765110016,\n        \"max\": 0.7939109802246094,\n        \"num_unique_values\": 10,\n        \"samples\": [\n          0.7611241340637207,\n          0.7213114500045776,\n          0.7377049326896667\n        ],\n        \"semantic_type\": \"\",\n        \"description\": \"\"\n      }\n    },\n    {\n      \"column\": \"val_loss\",\n      \"properties\": {\n        \"dtype\": \"number\",\n        \"std\": 0.4019447335046161,\n        \"min\": 0.581297755241394,\n        \"max\": 1.9298352003097532,\n        \"num_unique_values\": 10,\n        \"samples\": [\n          0.6624268889427185,\n          0.6366396546363831,\n          0.7461788058280945\n        ],\n        \"semantic_type\": \"\",\n        \"description\": \"\"\n      }\n    }\n  ]\n}"
            }
          },
          "metadata": {},
          "execution_count": 7
        }
      ]
    },
    {
      "source": [
        "# @title epoch vs f1\n",
        "\n",
        "from matplotlib import pyplot as plt\n",
        "import seaborn as sns\n",
        "def _plot_series(series, series_name, series_index=0):\n",
        "  palette = list(sns.palettes.mpl_palette('Dark2'))\n",
        "  xs = series['epoch']\n",
        "  ys = series['f1']\n",
        "\n",
        "  plt.plot(xs, ys, label=series_name, color=palette[series_index % len(palette)])\n",
        "\n",
        "fig, ax = plt.subplots(figsize=(10, 5.2), layout='constrained')\n",
        "df_sorted = history.sort_values('epoch', ascending=True)\n",
        "_plot_series(df_sorted, '')\n",
        "sns.despine(fig=fig, ax=ax)\n",
        "plt.xlabel('epoch')\n",
        "_ = plt.ylabel('f1')"
      ],
      "cell_type": "code",
      "execution_count": 8,
      "outputs": [
        {
          "output_type": "display_data",
          "data": {
            "text/plain": [
              "<Figure size 1000x520 with 1 Axes>"
            ],
            "image/png": "[encoded data removed]"
          },
          "metadata": {}
        }
      ],
      "metadata": {
        "colab": {
          "base_uri": "https://localhost:8080/",
          "height": 548
        },
        "id": "ktFsL0ZC3ajI",
        "outputId": "92d61cb4-710a-41b6-f252-057335bf6492"
      }
    },
    {
      "cell_type": "markdown",
      "source": [
        "Note that the above plot has been generated with the help of AI.\n",
        "\n",
        "Also note that we only ran 10 epochs just to quickly check if the changes we made to the finetuning trainer code had the effect to expose `f1`. The short answer is yes.\n",
        "\n",
        "We should compare this plot to Figure 3(a) in the paper, since our proposed reproduction will be pretrain on the beat classification problem. (Actually we could pick any of the 4 subplots in Figure 3 as this is the random initialization plot we are comparing to, and all 4 subplots appear to show the same f1 curve)\n",
        "\n",
        "I would have to say that the above plot looks on track with Figure 3(a).\n",
        "\n"
      ],
      "metadata": {
        "id": "L56fHWhl3KyQ"
      }
    },
    {
      "cell_type": "markdown",
      "source": [
        "Next, we explore (2) which is the `history.npy` file that is saved after `model.fit()` is complete."
      ],
      "metadata": {
        "id": "j2qZcufS406Y"
      }
    },
    {
      "cell_type": "code",
      "source": [
        "# source: https://stackoverflow.com/a/61328750\n",
        "import numpy as np\n",
        "\n",
        "model_history = np.load('history.npy', allow_pickle=True).item()"
      ],
      "metadata": {
        "id": "doiHNpmH3MyY"
      },
      "execution_count": 14,
      "outputs": []
    },
    {
      "cell_type": "code",
      "source": [
        "model_history.keys()"
      ],
      "metadata": {
        "colab": {
          "base_uri": "https://localhost:8080/"
        },
        "id": "XCkyF7R85cAk",
        "outputId": "9dcd088b-a7c8-4cf8-fd55-0fb4c07315f0"
      },
      "execution_count": 15,
      "outputs": [
        {
          "output_type": "execute_result",
          "data": {
            "text/plain": [
              "dict_keys(['loss', 'acc', 'val_loss', 'val_acc', 'f1'])"
            ]
          },
          "metadata": {},
          "execution_count": 15
        }
      ]
    },
    {
      "cell_type": "code",
      "source": [
        "model_history['f1']"
      ],
      "metadata": {
        "colab": {
          "base_uri": "https://localhost:8080/"
        },
        "id": "Rh5SS3Cb554S",
        "outputId": "68c89eb3-b0fe-47ce-bd38-2afe8cef4691"
      },
      "execution_count": 16,
      "outputs": [
        {
          "output_type": "execute_result",
          "data": {
            "text/plain": [
              "[0.40085603011134924,\n",
              " 0.6145307633171481,\n",
              " 0.4177190766723688,\n",
              " 0.5907259013641992,\n",
              " 0.6690685741572123,\n",
              " 0.601569550897282,\n",
              " 0.34476060422968285,\n",
              " 0.7155440768462392,\n",
              " 0.6614180719390316,\n",
              " 0.7275352297905606]"
            ]
          },
          "metadata": {},
          "execution_count": 16
        }
      ]
    },
    {
      "cell_type": "markdown",
      "source": [
        "We also get `f1` saved here as well!\n",
        "\n",
        "Q: Does this `f1` match the one in `history.csv`?\n",
        "\n",
        "A: Yes, see below assert call"
      ],
      "metadata": {
        "id": "R8OQ9rm_5rX7"
      }
    },
    {
      "cell_type": "code",
      "source": [
        "np.testing.assert_array_almost_equal(history['f1'], model_history['f1'])"
      ],
      "metadata": {
        "id": "kLzR9BwJ5zCv"
      },
      "execution_count": 21,
      "outputs": []
    }
  ]
}