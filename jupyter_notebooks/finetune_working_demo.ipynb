{
  "nbformat": 4,
  "nbformat_minor": 0,
  "metadata": {
    "colab": {
      "provenance": []
    },
    "kernelspec": {
      "name": "python3",
      "display_name": "Python 3"
    },
    "language_info": {
      "name": "python"
    }
  },
  "cells": [
    {
      "cell_type": "markdown",
      "source": [
        "In this notebook, we demonstrate that we can successfully perform preprocessing of the PhysioNet dataset used for fine-tuning.\n",
        "\n",
        "**Limitation**\n",
        "\n",
        "In order to keep the runtime of the notebook tractable, we perform the preprocessing assuming the dataset is already extracted. This is different from the original code which performs extraction and preprocessing.\n",
        "\n",
        "**Context**\n",
        "\n",
        "The preprocessing for the PhysioNet dataset used for finetuning is inefficient.\n",
        "\n",
        "The function the authors use is called `get_challenge17_data` ([source](https://github.com/myles-i/DLH_TransferLearning/blob/master/finetuning/datasets.py#L9)), and it does both extracting the data and performing preprocessing actions on it.\n",
        "\n",
        "The problem is that the extraction portion takes a long time in Colab, approximately one hour on a CPU instance. This is likely due to overhead due to the raw PhysioNet data having lot of small files and the extraction code taking a relatively long time per file.\n",
        "\n",
        "If we only run the whole data reading process one time, this is not an issue. However, we'd like the option to apply different preprocessing options such as padding length, sampling rate, etc.\n",
        "\n",
        "Thus to make future experimentation faster, we make the extraction portion a one-time cost by splitting `get_challenge17_data` into two separate portions. One for extracting the data and saving it somewhere, the other to retrieve the extract data, apply preprocessing on it, and save it elsewhere.\n",
        "\n",
        "Below we set up the environment."
      ],
      "metadata": {
        "id": "ghGUddkXRxrT"
      }
    },
    {
      "cell_type": "code",
      "execution_count": 61,
      "metadata": {
        "id": "8qEy9jXCM0NR"
      },
      "outputs": [],
      "source": [
        "%%capture\n",
        "REPO = '/tmp/repo'\n",
        "! git clone https://github.com/myles-i/DLH_TransferLearning.git $REPO\n",
        "%cd $REPO"
      ]
    },
    {
      "cell_type": "code",
      "source": [
        "%%time\n",
        "%%capture\n",
        "!pip install -r requirements.txt"
      ],
      "metadata": {
        "id": "0rrRgQpbOpdj"
      },
      "execution_count": 5,
      "outputs": []
    },
    {
      "cell_type": "markdown",
      "source": [
        "Now we define the two separate functions below."
      ],
      "metadata": {
        "id": "RDjGmEb3T3qq"
      }
    },
    {
      "cell_type": "code",
      "source": [
        "import functools\n",
        "\n",
        "import numpy as np\n",
        "\n",
        "from finetuning import datasets\n",
        "from transplant.datasets import physionet\n",
        "\n",
        "\n",
        "def extract_challenge17_data(db_dir, verbose=False):\n",
        "    # This is the author's extraction code\n",
        "    records, labels = physionet.read_challenge17_data(db_dir, verbose=verbose)\n",
        "    return records, labels\n",
        "\n",
        "\n",
        "def process_extracted_challenge17_data(\n",
        "    records, labels, fs=None, pad=None, normalize=False, verbose=False):\n",
        "    \"\"\"\n",
        "    Args:\n",
        "        records: See extract_challenge17_data\n",
        "        labels: See extract_challenge17_data\n",
        "        fs (int): Sampling rate\n",
        "        pad (int): Length that each record should be padded to (or truncated)\n",
        "            pad / fs will give the approximate length in seconds.\n",
        "        normalize (bool): Whether to standardize the records using mean and s.d.\n",
        "            computed over the entire dataset. Note that the mean and s.d. have\n",
        "            already been provided by the authors.\n",
        "    \"\"\"\n",
        "    if normalize:\n",
        "        normalize = functools.partial(\n",
        "            physionet.normalize_challenge17, inplace=True)\n",
        "    data_set = datasets._prepare_data(\n",
        "        records,\n",
        "        labels,\n",
        "        normalize_fn=normalize,\n",
        "        fs=fs,\n",
        "        pad=pad,\n",
        "        verbose=verbose)\n",
        "    return data_set"
      ],
      "metadata": {
        "id": "fsML5p7CUTrX"
      },
      "execution_count": 11,
      "outputs": []
    },
    {
      "cell_type": "markdown",
      "source": [
        "As mentioned, we do not perform extraction in this notebook. We describe the general procedure below.\n",
        "\n",
        "First, you must download the PhysioNet data, which is found [here](https://physionet.org/content/challenge-2017/1.0.0/). Specifically, download the `train2017.zip` file and extract it somewhere.\n",
        "\n",
        "```python\n",
        "from transplant.utils import save_pkl\n",
        "physionet_raw = '<location of extracted train2017.zip>'\n",
        "# Recommend to set verbose=True to show progress bar\n",
        "records, labels = extract_challenge17_data(physionet_raw, verbose=True)\n",
        "\n",
        "out_dir = '<location to save the extracted records and labels>'\n",
        "# Note: this saves the result to a dict {'data': records}\n",
        "save_pkl(f\"{out_dir}/records.pkl\", data=records)\n",
        "# Note: this saves the result to a dict {'data': records}\n",
        "save_pkl(f\"{out_dir}/records.pkl\", data=labels)\n",
        "```\n",
        "\n",
        "Having said this, we will skip this part in this notebook and focus on the preprocessing part. We download the extracted data from our Google Drive folder.\n",
        "\n"
      ],
      "metadata": {
        "id": "Ki6ZC_xvYox_"
      }
    },
    {
      "cell_type": "code",
      "source": [
        "%%time\n",
        "%%capture\n",
        "# get the pre-read physionet data\n",
        "PREREAD_ID = '1lI7lTZltRj_zQtYM1UcidZnSAQilPJSg'\n",
        "PREREAD_DIR = '/tmp/data/physionet_preread'\n",
        "! rm -rf $PREREAD_DIR\n",
        "! mkdir -p $PREREAD_DIR\n",
        "! gdown $PREREAD_ID -O $PREREAD_DIR --folder"
      ],
      "metadata": {
        "colab": {
          "base_uri": "https://localhost:8080/"
        },
        "id": "AfbTZ44WP4n6",
        "outputId": "a6fdfc29-1338-417a-b740-b161c3331f1b"
      },
      "execution_count": 60,
      "outputs": [
        {
          "output_type": "stream",
          "name": "stdout",
          "text": [
            "CPU times: user 41.4 ms, sys: 8.42 ms, total: 49.8 ms\n",
            "Wall time: 3.03 s\n"
          ]
        }
      ]
    },
    {
      "cell_type": "code",
      "source": [
        "! ls -lh $PREREAD_DIR"
      ],
      "metadata": {
        "colab": {
          "base_uri": "https://localhost:8080/"
        },
        "id": "4fkviykERd1T",
        "outputId": "46214f7d-7161-4fa4-9d3d-1fc8670f1859"
      },
      "execution_count": 17,
      "outputs": [
        {
          "output_type": "stream",
          "name": "stdout",
          "text": [
            "total 124M\n",
            "-rw-r--r-- 1 root root  24K Apr 14 07:13 labels.pkl\n",
            "-rw-r--r-- 1 root root 124M Apr 14 07:13 records.pkl\n"
          ]
        }
      ]
    },
    {
      "cell_type": "markdown",
      "source": [
        "Next, we shall read these already-extracted files and apply preprocessing."
      ],
      "metadata": {
        "id": "x27SL7fcb2Jh"
      }
    },
    {
      "cell_type": "code",
      "source": [
        "%%time\n",
        "from transplant.utils import load_pkl\n",
        "\n",
        "records = load_pkl(f\"{PREREAD_DIR}/records.pkl\")[\"data\"]\n",
        "labels = load_pkl(f\"{PREREAD_DIR}/labels.pkl\")[\"data\"]\n",
        "physionet_data = process_extracted_challenge17_data(\n",
        "    records,\n",
        "    labels,\n",
        "    fs=250,\n",
        "    pad=16384,\n",
        "    normalize=True,\n",
        "    verbose=True,\n",
        ")"
      ],
      "metadata": {
        "colab": {
          "base_uri": "https://localhost:8080/"
        },
        "id": "KlXn1-Sic1cy",
        "outputId": "05cc8022-e12a-4673-f94f-f79467b03dc9"
      },
      "execution_count": 34,
      "outputs": [
        {
          "output_type": "stream",
          "name": "stderr",
          "text": [
            "Resampling records: 100%|██████████| 8528/8528 [00:04<00:00, 1824.33it/s]\n"
          ]
        },
        {
          "output_type": "stream",
          "name": "stdout",
          "text": [
            "CPU times: user 5.28 s, sys: 1.39 s, total: 6.67 s\n",
            "Wall time: 6.7 s\n"
          ]
        }
      ]
    },
    {
      "cell_type": "markdown",
      "source": [
        "Note that the parameters to preprocessing are taken from the fine-tuning [README](https://github.com/myles-i/DLH_TransferLearning/blob/master/finetuning/README.md). What is happening is:\n",
        "\n",
        "- Resampling the records to 250 Hz to match the Icentia11K dataset sample rate.\n",
        "- Ensuring each record is about 65 seconds long. ($16384 / 250 \\approx 65$)\n",
        "- Standardize the data with the mean and standard deviation over the entire PhysioNet dataset. They are already computed [here](https://github.com/myles-i/DLH_TransferLearning/blob/master/transplant/datasets/physionet.py#L12-L13).\n",
        "\n",
        "Now we explore the data a little bit."
      ],
      "metadata": {
        "id": "TbMdMQKleTgE"
      }
    },
    {
      "cell_type": "code",
      "source": [
        "print(f'PhysioNet data summary:')\n",
        "print(f'Number of samples: {len(physionet_data[\"x\"])}')\n",
        "print(f'Dimensions of a sample: {physionet_data[\"x\"][0].shape}')"
      ],
      "metadata": {
        "colab": {
          "base_uri": "https://localhost:8080/"
        },
        "id": "FQZzU3ijdzfC",
        "outputId": "bf15645e-150a-4f60-b2c0-4f0c6141802c"
      },
      "execution_count": 35,
      "outputs": [
        {
          "output_type": "stream",
          "name": "stdout",
          "text": [
            "PhysioNet data summary:\n",
            "Number of samples: 8528\n",
            "Dimensions of a sample: (16384, 1)\n"
          ]
        }
      ]
    },
    {
      "cell_type": "markdown",
      "source": [
        "Here is what a randomly selected ECG sample looks like."
      ],
      "metadata": {
        "id": "-eXOmkUriKnZ"
      }
    },
    {
      "cell_type": "code",
      "source": [
        "import wfdb\n",
        "wfdb.plot_items(physionet_data['x'][3])"
      ],
      "metadata": {
        "colab": {
          "base_uri": "https://localhost:8080/",
          "height": 453
        },
        "id": "5W0YUqSngv3V",
        "outputId": "cbbbd8b0-35da-46e6-8860-bcae0149c7d2"
      },
      "execution_count": 57,
      "outputs": [
        {
          "output_type": "display_data",
          "data": {
            "text/plain": [
              "<Figure size 640x480 with 1 Axes>"
            ],
            "image/png": "[encoded data removed]"
          },
          "metadata": {}
        }
      ]
    },
    {
      "cell_type": "markdown",
      "source": [
        "Here is what the labels look like for this example:"
      ],
      "metadata": {
        "id": "JWFVNAuEiUHV"
      }
    },
    {
      "cell_type": "code",
      "source": [
        "physionet_data['y'][3]"
      ],
      "metadata": {
        "colab": {
          "base_uri": "https://localhost:8080/"
        },
        "id": "M7ho1k-XiiZN",
        "outputId": "98866fc6-c466-47a1-a3e3-b3c23acb14ef"
      },
      "execution_count": 56,
      "outputs": [
        {
          "output_type": "execute_result",
          "data": {
            "text/plain": [
              "array([1, 0, 0, 0], dtype=uint8)"
            ]
          },
          "metadata": {},
          "execution_count": 56
        }
      ]
    },
    {
      "cell_type": "markdown",
      "source": [
        "This is a one hot encoded array, and the locations correspond to the classes below, where the classes represent AF, Normal, Other, or Noise, respectively."
      ],
      "metadata": {
        "id": "Yd31QsMli9P8"
      }
    },
    {
      "cell_type": "code",
      "source": [
        "physionet_data['classes']"
      ],
      "metadata": {
        "colab": {
          "base_uri": "https://localhost:8080/"
        },
        "id": "sUlWIY9Si1fs",
        "outputId": "0987a3fd-5e34-4b08-924a-db406608c775"
      },
      "execution_count": 53,
      "outputs": [
        {
          "output_type": "execute_result",
          "data": {
            "text/plain": [
              "array(['A', 'N', 'O', '~'], dtype=object)"
            ]
          },
          "metadata": {},
          "execution_count": 53
        }
      ]
    },
    {
      "cell_type": "markdown",
      "source": [
        "Next, we need to split the PhysioNet data into train and test sets. The paper uses 80% and 20% split, respectively. Also, the paper maintains the original class ratio in each set.\n",
        "\n",
        "**Unlike the authors, we set a seed to ensure reproducability in our own work.**\n"
      ],
      "metadata": {
        "id": "IfNDEiOyjqF0"
      }
    },
    {
      "cell_type": "code",
      "source": [
        "from finetuning.utils import train_test_split\n",
        "\n",
        "physionet_train, physionet_test = train_test_split(\n",
        "    physionet_data, test_size=0.2, stratify=physionet_data['y'],\n",
        "    # NEW: pass in random state for reproducibility\n",
        "    random_state=2024,\n",
        ")"
      ],
      "metadata": {
        "id": "pEu5ZnNIj_qv"
      },
      "execution_count": 59,
      "outputs": []
    },
    {
      "cell_type": "markdown",
      "source": [
        "In order to run fine-tuning, the data needs to be saved to disk. We do not do this here because we have already done this beforehand and saved the result to Google Drive.\n",
        "\n",
        "Below is some sample code to do this.\n",
        "\n",
        "```python\n",
        "from transplant.utils import save_pkl\n",
        "\n",
        "out_path = '<location of output directory>'\n",
        "save_pkl(f'{out_path}/physionet_train.pkl', **physionet_train)\n",
        "save_pkl(f'{out_path}/physionet_test.pkl', **physionet_test)\n",
        "```\n"
      ],
      "metadata": {
        "id": "E9s60pgBkkXG"
      }
    },
    {
      "cell_type": "markdown",
      "source": [
        "Now we cleanup."
      ],
      "metadata": {
        "id": "CHtFwFBGrSJr"
      }
    },
    {
      "cell_type": "code",
      "source": [
        "del physionet_train\n",
        "del physionet_test\n",
        "del records\n",
        "del labels"
      ],
      "metadata": {
        "id": "OwsdUl1lrXUI"
      },
      "execution_count": 62,
      "outputs": []
    }
  ]
}