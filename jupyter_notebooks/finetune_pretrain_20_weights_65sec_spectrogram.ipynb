{
  "cells": [
    {
      "cell_type": "markdown",
      "metadata": {
        "id": "v1XRxBLDglRi"
      },
      "source": [
        "# Finetune: weights from pre-training with 20% of pre-training data\n",
        "\n",
        "In this notebook, we perform full finetuning on the PhysioNet dataset using a  ResNet18 with weights from 20% of pre-training data. This will be compared with the baseline result of randomly initialized ResNet18.\n",
        "\n",
        "## Computational Requirements\n",
        "\n",
        "We run this notebook in Google Colab Pro to utilize GPU resources. We perform finetuning using the **V100 GPU**.\n",
        "\n",
        "## Data\n",
        "\n",
        "We have prepared the PhysioNet data in a separate notebook ([Github](https://github.com/myles-i/DLH_TransferLearning/blob/master/jupyter_notebooks/finetuning_explore.ipynb)). That notebook generates _train_ and _test_ datasets.\n",
        "\n",
        "In our case, the datasets are saved to our Google Drive at these paths:\n",
        "\n",
        "1. `/content/drive/MyDrive/Project/data/physionet_finetune/physionet_train.pkl`\n",
        "2. `/content/drive/MyDrive/Project/data/physionet_finetune/physionet_test.pkl`\n",
        "\n",
        "On this data, the preprocessing is as follows:\n",
        "1. Downsample the PhysioNet data to 250 hz\n",
        "2. Pad recordings to ~65 second length\n",
        "3. Normalize the recordings.\n"
      ]
    },
    {
      "cell_type": "markdown",
      "metadata": {
        "id": "Cdto6uVnwRoS"
      },
      "source": [
        "## Preparation\n",
        "\n",
        "### Mount Google Drive"
      ]
    },
    {
      "cell_type": "code",
      "execution_count": 1,
      "metadata": {
        "colab": {
          "base_uri": "https://localhost:8080/"
        },
        "id": "DNqG2WkWgjH3",
        "outputId": "0c220ce5-4504-4ec0-d796-1b69c7898383"
      },
      "outputs": [
        {
          "name": "stdout",
          "output_type": "stream",
          "text": [
            "Drive already mounted at /content/drive; to attempt to forcibly remount, call drive.mount(\"/content/drive\", force_remount=True).\n"
          ]
        }
      ],
      "source": [
        "# You may also manually mount drive by clicking on folder icon in left sidebar\n",
        "from google.colab import drive\n",
        "drive.mount('/content/drive')"
      ]
    },
    {
      "cell_type": "markdown",
      "metadata": {
        "id": "UDppmL8e9XEv"
      },
      "source": [
        "### Clone code repo\n",
        "\n",
        "Assuming this notebook is run on Colab Pro, please clone our repo to the instance.\n",
        "\n",
        "Sample commands to run in Colab Pro Terminal:\n",
        "\n",
        "```bash\n",
        "$ cd /root\n",
        "# enter your username and github PAT\n",
        "$ git clone https://github.com/myles-i/DLH_TransferLearning.git\n",
        "$ cd DLH_TransferLearning\n",
        "```\n",
        "\n",
        "We will assume the code to run is on `master` branch.\n",
        "\n",
        "### Install dependencies\n",
        "\n",
        "We will install the dependencies from the `requirements.txt` file in the cloned repo."
      ]
    },
    {
      "cell_type": "code",
      "execution_count": 2,
      "metadata": {
        "colab": {
          "base_uri": "https://localhost:8080/"
        },
        "id": "YlxdqFc_C1Lm",
        "outputId": "4cb48001-be62-4e9e-f8aa-2704c13b43eb"
      },
      "outputs": [
        {
          "name": "stdout",
          "output_type": "stream",
          "text": [
            "/root\n",
            "fatal: destination path 'DLH_TransferLearning' already exists and is not an empty directory.\n",
            "/root/DLH_TransferLearning\n"
          ]
        }
      ],
      "source": [
        "%cd /root\n",
        "! git clone https://github.com/myles-i/DLH_TransferLearning.git\n",
        "%cd DLH_TransferLearning"
      ]
    },
    {
      "cell_type": "code",
      "execution_count": 5,
      "metadata": {
        "colab": {
          "base_uri": "https://localhost:8080/"
        },
        "id": "-zVHB1B1iDd3",
        "outputId": "edf4692e-5d24-4d92-e0fb-1638c06da072"
      },
      "outputs": [
        {
          "name": "stdout",
          "output_type": "stream",
          "text": [
            "/root/DLH_TransferLearning\n"
          ]
        }
      ],
      "source": [
        "REPO = '/root/DLH_TransferLearning/'\n",
        "%cd $REPO"
      ]
    },
    {
      "cell_type": "code",
      "execution_count": 6,
      "metadata": {
        "id": "hKEvhfLriULt"
      },
      "outputs": [],
      "source": [
        "%%capture\n",
        "! pip install -r requirements.txt"
      ]
    },
    {
      "cell_type": "markdown",
      "metadata": {
        "id": "Fa1PrAkNxk53"
      },
      "source": [
        "## Finetuning\n",
        "\n",
        "Below we set up the paths to the:\n",
        "1. `DATA_DIR`: location where the input files are\n",
        "2. `JOB_DIR`: location where to save the output of the finetuning (model weights, history, etc.)"
      ]
    },
    {
      "cell_type": "code",
      "execution_count": 15,
      "metadata": {
        "id": "M7jO-g3ziDbB"
      },
      "outputs": [],
      "source": [
        "PROJECT_ROOT = '/content/drive/MyDrive/DLHProject'\n",
        "DATA_DIR = PROJECT_ROOT + '/data'\n",
        "JOB_DIR = PROJECT_ROOT + '/jobs'\n",
        "#! mkdir -p $JOB_DIR"
      ]
    },
    {
      "cell_type": "markdown",
      "metadata": {
        "id": "oOPCMQFLilP-"
      },
      "source": [
        "Next, we set up the actual input and output paths relative to the `DATA_DIR` and `JOB_DIR`, respectively."
      ]
    },
    {
      "cell_type": "code",
      "execution_count": 16,
      "metadata": {
        "colab": {
          "base_uri": "https://localhost:8080/"
        },
        "id": "atsAS6BlygqP",
        "outputId": "e0ab4c28-bc6f-467f-d4e2-e12247e12ce7"
      },
      "outputs": [
        {
          "name": "stdout",
          "output_type": "stream",
          "text": [
            "train: /content/drive/MyDrive/DLHProject/data/physionet_finetune_spectrogram_nodb/physionet_train.pkl\n",
            "test: /content/drive/MyDrive/DLHProject/data/physionet_finetune_spectrogram_nodb/physionet_test.pkl\n",
            "job_dir: /content/drive/MyDrive/DLHProject/jobs/finetune_pretrain_20_weights_65sec_spectrogram\n"
          ]
        }
      ],
      "source": [
        "train = DATA_DIR + '/physionet_finetune_spectrogram_nodb/physionet_train.pkl'\n",
        "test = DATA_DIR + '/physionet_finetune_spectrogram_nodb/physionet_test.pkl'\n",
        "job_name = 'finetune_pretrain_20_weights_65sec_spectrogram'\n",
        "job_dir = JOB_DIR + '/' + job_name\n",
        "\n",
        "print(f\"train: {train}\")\n",
        "print(f\"test: {test}\")\n",
        "print(f\"job_dir: {job_dir}\")"
      ]
    },
    {
      "cell_type": "code",
      "execution_count": 17,
      "metadata": {
        "colab": {
          "base_uri": "https://localhost:8080/",
          "height": 52
        },
        "id": "96dJL5rglyVq",
        "outputId": "fa792e75-ce4b-4c89-d47f-1cd9bbe94f4b"
      },
      "outputs": [
        {
          "data": {
            "application/vnd.google.colaboratory.intrinsic+json": {
              "type": "string"
            },
            "text/plain": [
              "'job_dir = JOB_DIR + \\'/finetune_random_cnn_original_data_with_f1\\'\\ntrain = DATA_DIR + \\'/physionet_finetune/physionet_train.pkl\\'\\ntest = DATA_DIR + \\'/physionet_finetune/physionet_test.pkl\\'\\n\\nprint(f\"job_dir: {job_dir}\")\\nprint(f\"train: {train}\")\\nprint(f\"test: {test}\")'"
            ]
          },
          "execution_count": 17,
          "metadata": {},
          "output_type": "execute_result"
        }
      ],
      "source": [
        "\"\"\"job_dir = JOB_DIR + '/finetune_random_cnn_original_data_with_f1'\n",
        "train = DATA_DIR + '/physionet_finetune/physionet_train.pkl'\n",
        "test = DATA_DIR + '/physionet_finetune/physionet_test.pkl'\n",
        "\n",
        "print(f\"job_dir: {job_dir}\")\n",
        "print(f\"train: {train}\")\n",
        "print(f\"test: {test}\")\"\"\""
      ]
    },
    {
      "cell_type": "markdown",
      "metadata": {
        "id": "LJ897PYWDSqe"
      },
      "source": [
        "Since we have pretrained our ResNet18, let's extract its weights from a model checkpoint. We will then load the weights to ResNet18 at the beginning of fine tuning stage."
      ]
    },
    {
      "cell_type": "code",
      "execution_count": 10,
      "metadata": {
        "colab": {
          "base_uri": "https://localhost:8080/"
        },
        "id": "vnqsgAjuExkQ",
        "outputId": "eea2501e-5690-4e7b-c083-104c97273714"
      },
      "outputs": [
        {
          "name": "stdout",
          "output_type": "stream",
          "text": [
            "environment.yml  finetune_runner.py  jupyter_notebooks\tpretraining  README.md\trequirements.txt\n",
            "example.ipynb\t finetuning\t     LICENSE\t\tproposal     report\ttransplant\n"
          ]
        }
      ],
      "source": [
        "! cd $CHECKPOINT_FILE\n",
        "! ls"
      ]
    },
    {
      "cell_type": "code",
      "execution_count": 18,
      "metadata": {
        "colab": {
          "base_uri": "https://localhost:8080/"
        },
        "id": "Lmdsr6NuDRwd",
        "outputId": "cc89f91a-b256-4f05-9855-5177f79f8413"
      },
      "outputs": [
        {
          "name": "stdout",
          "output_type": "stream",
          "text": [
            "The autoreload extension is already loaded. To reload it, use:\n",
            "  %reload_ext autoreload\n"
          ]
        }
      ],
      "source": [
        "# magic module reload\n",
        "%load_ext autoreload\n",
        "%autoreload 2\n",
        "from pretraining.utils import get_pretrained_weights\n",
        "\n",
        "\n",
        "CHECKPOINT_FILE = PROJECT_ROOT + '/jobs/spectrogram/pretraining/16epochs_to_20percent_nodb/epoch_16'\n",
        "WEIGHTS_FILE = JOB_DIR + '/spectrogram/pretraining/prepared_for_finetuning_nodb/pre_trained_20_resnet18_2d.weights'\n",
        "\n",
        "resnet18 = get_pretrained_weights(\n",
        "    checkpoint_file=CHECKPOINT_FILE + '/model.weights',\n",
        "    task='beat',\n",
        "    arch='resnet18_2d')\n",
        "resnet18.save_weights(WEIGHTS_FILE)"
      ]
    },
    {
      "cell_type": "markdown",
      "metadata": {
        "id": "WXvWxLRPyzc3"
      },
      "source": [
        "The paper authors provide us this script that will perform the finetuning. We will run it below and expand on the meaning of the parameter values.\n",
        "- `--weights-file $WEIGHTS_FILE`: Path to pretrained weights or a checkpoint of the model to be used for model initialization.\n",
        "\n",
        "- `--val-size 0.0625`: This is the percentage of the train set size to set aside for the validation set.\n",
        "\n",
        "  Note that the PhysioNet data was already split 80-20 train-test. The paper uses 5 percent of the full dataset for validation. We get this via $0.0625 * 0.8 = 0.05$\n",
        "- `--val-metric \"f1\"`: Use macro F1 score to evaluate performance on validation set and to find the best model at each epoch.\n",
        "- `--arch \"resnet18\"` means we are using ResNet18 CNN.\n",
        "- `--batch-size 128` we found this value through trial and error that maximizes the utilization of the V100 GPU's 16 GB RAM.\n",
        "- `--epochs 200` This is taken from the paper.\n",
        "- `--seed 2024` this is the random seed used in splitting the train set into validation. This is for reproducibility.\n",
        "- `--verbose` this prints out the finetuning progress epoch by epoch.\n"
      ]
    },
    {
      "cell_type": "code",
      "execution_count": 19,
      "metadata": {
        "colab": {
          "base_uri": "https://localhost:8080/"
        },
        "id": "MQSa8mSljD39",
        "outputId": "168a2edd-6a10-4d95-da26-e3823b9ba375"
      },
      "outputs": [
        {
          "name": "stdout",
          "output_type": "stream",
          "text": [
            "2024-05-04 15:16:13.594451: E external/local_xla/xla/stream_executor/cuda/cuda_dnn.cc:9261] Unable to register cuDNN factory: Attempting to register factory for plugin cuDNN when one has already been registered\n",
            "2024-05-04 15:16:13.594501: E external/local_xla/xla/stream_executor/cuda/cuda_fft.cc:607] Unable to register cuFFT factory: Attempting to register factory for plugin cuFFT when one has already been registered\n",
            "2024-05-04 15:16:13.595764: E external/local_xla/xla/stream_executor/cuda/cuda_blas.cc:1515] Unable to register cuBLAS factory: Attempting to register factory for plugin cuBLAS when one has already been registered\n",
            "2024-05-04 15:16:14.528967: W tensorflow/compiler/tf2tensorrt/utils/py_utils.cc:38] TF-TRT Warning: Could not find TensorRT\n",
            "Creating working directory in /content/drive/MyDrive/DLHProject/jobs/finetune_pretrain_20_weights_65sec_spectrogram\n",
            "Setting random state 2024\n",
            "Loading train data from /content/drive/MyDrive/DLHProject/data/physionet_finetune_spectrogram_nodb/physionet_train.pkl ...\n",
            "Split data into train 93.74% and validation 6.26%\n",
            "Loading test data from /content/drive/MyDrive/DLHProject/data/physionet_finetune_spectrogram_nodb/physionet_test.pkl ...\n",
            "Train data shape: (6395, 128, 512, 1)\n",
            "2024-05-04 15:16:59.734348: W tensorflow/core/common_runtime/gpu/gpu_bfc_allocator.cc:47] Overriding orig_value setting because the TF_FORCE_GPU_ALLOW_GROWTH environment variable is set. Original config value was 0.\n",
            "2024-05-04 15:16:59.735882: W external/local_tsl/tsl/framework/cpu_allocator_impl.cc:83] Allocation of 3352821760 exceeds 10% of free system memory.\n",
            "2024-05-04 15:17:02.876878: W external/local_tsl/tsl/framework/cpu_allocator_impl.cc:83] Allocation of 3352821760 exceeds 10% of free system memory.\n",
            "Building model ...\n",
            "WARNING:tensorflow:AutoGraph could not transform <bound method ResnetBlock.call of <transplant.modules.resnet2d.ResnetBlock object at 0x7c66770c0a90>> and will run it as-is.\n",
            "Cause: mangled names are not yet supported\n",
            "To silence this warning, decorate the function with @tf.autograph.experimental.do_not_convert\n",
            "# model parameters: 11,186,692\n",
            "Loading weights from file /content/drive/MyDrive/DLHProject/jobs/jobs/spectrogram/pretraining/prepared_for_finetuning_nodb/pre_trained_20_resnet18_2d.weights ...\n",
            "2024-05-04 15:17:08.933663: W external/local_tsl/tsl/framework/cpu_allocator_impl.cc:83] Allocation of 3352821760 exceeds 10% of free system memory.\n",
            "2024-05-04 15:17:10.893922: W external/local_tsl/tsl/framework/cpu_allocator_impl.cc:83] Allocation of 3352821760 exceeds 10% of free system memory.\n",
            "2024-05-04 15:17:12.863035: W external/local_tsl/tsl/framework/cpu_allocator_impl.cc:83] Allocation of 3352821760 exceeds 10% of free system memory.\n",
            "Epoch 1/200\n",
            "2024-05-04 15:17:22.401187: W external/local_tsl/tsl/framework/bfc_allocator.cc:296] Allocator (GPU_0_bfc) ran out of memory trying to allocate 6.06GiB with freed_by_count=0. The caller indicates that this is not a failure, but this may mean that there could be performance gains if more memory were available.\n",
            "2024-05-04 15:17:22.473772: W external/local_tsl/tsl/framework/bfc_allocator.cc:296] Allocator (GPU_0_bfc) ran out of memory trying to allocate 6.06GiB with freed_by_count=0. The caller indicates that this is not a failure, but this may mean that there could be performance gains if more memory were available.\n",
            "WARNING: All log messages before absl::InitializeLog() is called are written to STDERR\n",
            "I0000 00:00:1714835843.828928   12425 device_compiler.h:186] Compiled cluster using XLA!  This line is logged at most once for the lifetime of the process.\n",
            "2024-05-04 15:17:30.072862: W external/local_tsl/tsl/framework/bfc_allocator.cc:296] Allocator (GPU_0_bfc) ran out of memory trying to allocate 6.31GiB with freed_by_count=0. The caller indicates that this is not a failure, but this may mean that there could be performance gains if more memory were available.\n",
            "2024-05-04 15:17:30.097696: W external/local_tsl/tsl/framework/bfc_allocator.cc:296] Allocator (GPU_0_bfc) ran out of memory trying to allocate 6.31GiB with freed_by_count=0. The caller indicates that this is not a failure, but this may mean that there could be performance gains if more memory were available.\n",
            "2024-05-04 15:17:38.372985: W external/local_tsl/tsl/framework/bfc_allocator.cc:296] Allocator (GPU_0_bfc) ran out of memory trying to allocate 5.90GiB with freed_by_count=0. The caller indicates that this is not a failure, but this may mean that there could be performance gains if more memory were available.\n",
            "2024-05-04 15:17:38.436815: W external/local_tsl/tsl/framework/bfc_allocator.cc:296] Allocator (GPU_0_bfc) ran out of memory trying to allocate 5.90GiB with freed_by_count=0. The caller indicates that this is not a failure, but this may mean that there could be performance gains if more memory were available.\n",
            "2024-05-04 15:17:40.849789: W external/local_tsl/tsl/framework/bfc_allocator.cc:296] Allocator (GPU_0_bfc) ran out of memory trying to allocate 6.22GiB with freed_by_count=0. The caller indicates that this is not a failure, but this may mean that there could be performance gains if more memory were available.\n",
            "2024-05-04 15:17:40.874312: W external/local_tsl/tsl/framework/bfc_allocator.cc:296] Allocator (GPU_0_bfc) ran out of memory trying to allocate 6.22GiB with freed_by_count=0. The caller indicates that this is not a failure, but this may mean that there could be performance gains if more memory were available.\n",
            "2024-05-04 15:17:40.907039: W external/local_tsl/tsl/framework/bfc_allocator.cc:296] Allocator (GPU_0_bfc) ran out of memory trying to allocate 7.88GiB with freed_by_count=0. The caller indicates that this is not a failure, but this may mean that there could be performance gains if more memory were available.\n",
            "2024-05-04 15:17:40.971569: W external/local_tsl/tsl/framework/bfc_allocator.cc:296] Allocator (GPU_0_bfc) ran out of memory trying to allocate 7.88GiB with freed_by_count=0. The caller indicates that this is not a failure, but this may mean that there could be performance gains if more memory were available.\n",
            "4/4 [==============================] - 1s 36ms/step\n",
            "\n",
            "Epoch 00001: f1 improved from -inf to 0.41433, saving model to /content/drive/MyDrive/DLHProject/jobs/finetune_pretrain_20_weights_65sec_spectrogram/best_model.weights\n",
            "50/50 - 30s - loss: 0.6677 - acc: 0.7400 - val_loss: 0.7148 - val_acc: 0.6885 - f1: 0.4143 - 30s/epoch - 608ms/step\n",
            "Epoch 2/200\n",
            "4/4 [==============================] - 1s 36ms/step\n",
            "\n",
            "Epoch 00002: f1 (0.16388) did not improve from 0.41433\n",
            "50/50 - 8s - loss: 0.4322 - acc: 0.8413 - val_loss: 1.8240 - val_acc: 0.2998 - f1: 0.1639 - 8s/epoch - 155ms/step\n",
            "Epoch 3/200\n",
            "4/4 [==============================] - 1s 36ms/step\n",
            "\n",
            "Epoch 00003: f1 (0.19755) did not improve from 0.41433\n",
            "50/50 - 8s - loss: 0.3835 - acc: 0.8558 - val_loss: 1.6412 - val_acc: 0.3279 - f1: 0.1975 - 8s/epoch - 155ms/step\n",
            "Epoch 4/200\n",
            "4/4 [==============================] - 1s 36ms/step\n",
            "\n",
            "Epoch 00004: f1 (0.34095) did not improve from 0.41433\n",
            "50/50 - 8s - loss: 0.3430 - acc: 0.8752 - val_loss: 1.4660 - val_acc: 0.5738 - f1: 0.3410 - 8s/epoch - 155ms/step\n",
            "Epoch 5/200\n",
            "4/4 [==============================] - 1s 35ms/step\n",
            "\n",
            "Epoch 00005: f1 improved from 0.41433 to 0.51622, saving model to /content/drive/MyDrive/DLHProject/jobs/finetune_pretrain_20_weights_65sec_spectrogram/best_model.weights\n",
            "50/50 - 9s - loss: 0.3129 - acc: 0.8841 - val_loss: 0.7026 - val_acc: 0.8080 - f1: 0.5162 - 9s/epoch - 170ms/step\n",
            "Epoch 6/200\n",
            "4/4 [==============================] - 1s 36ms/step\n",
            "\n",
            "Epoch 00006: f1 (0.48991) did not improve from 0.51622\n",
            "50/50 - 8s - loss: 0.2887 - acc: 0.8929 - val_loss: 0.7704 - val_acc: 0.8080 - f1: 0.4899 - 8s/epoch - 156ms/step\n",
            "Epoch 7/200\n",
            "4/4 [==============================] - 1s 36ms/step\n",
            "\n",
            "Epoch 00007: f1 improved from 0.51622 to 0.60454, saving model to /content/drive/MyDrive/DLHProject/jobs/finetune_pretrain_20_weights_65sec_spectrogram/best_model.weights\n",
            "50/50 - 9s - loss: 0.2686 - acc: 0.9015 - val_loss: 0.7214 - val_acc: 0.7822 - f1: 0.6045 - 9s/epoch - 172ms/step\n",
            "Epoch 8/200\n",
            "4/4 [==============================] - 1s 36ms/step\n",
            "\n",
            "Epoch 00008: f1 improved from 0.60454 to 0.70126, saving model to /content/drive/MyDrive/DLHProject/jobs/finetune_pretrain_20_weights_65sec_spectrogram/best_model.weights\n",
            "50/50 - 9s - loss: 0.2481 - acc: 0.9099 - val_loss: 0.4496 - val_acc: 0.8384 - f1: 0.7013 - 9s/epoch - 170ms/step\n",
            "Epoch 9/200\n",
            "4/4 [==============================] - 1s 36ms/step\n",
            "\n",
            "Epoch 00009: f1 (0.62746) did not improve from 0.70126\n",
            "50/50 - 8s - loss: 0.2089 - acc: 0.9249 - val_loss: 0.4887 - val_acc: 0.8267 - f1: 0.6275 - 8s/epoch - 155ms/step\n",
            "Epoch 10/200\n",
            "4/4 [==============================] - 1s 35ms/step\n",
            "\n",
            "Epoch 00010: f1 (0.62536) did not improve from 0.70126\n",
            "50/50 - 8s - loss: 0.1765 - acc: 0.9384 - val_loss: 0.6669 - val_acc: 0.7447 - f1: 0.6254 - 8s/epoch - 155ms/step\n",
            "Epoch 11/200\n",
            "4/4 [==============================] - 1s 36ms/step\n",
            "\n",
            "Epoch 00011: f1 improved from 0.70126 to 0.70682, saving model to /content/drive/MyDrive/DLHProject/jobs/finetune_pretrain_20_weights_65sec_spectrogram/best_model.weights\n",
            "50/50 - 9s - loss: 0.1635 - acc: 0.9403 - val_loss: 0.5249 - val_acc: 0.8384 - f1: 0.7068 - 9s/epoch - 171ms/step\n",
            "Epoch 12/200\n",
            "4/4 [==============================] - 1s 36ms/step\n",
            "\n",
            "Epoch 00012: f1 (0.66565) did not improve from 0.70682\n",
            "50/50 - 8s - loss: 0.1187 - acc: 0.9553 - val_loss: 0.5770 - val_acc: 0.8080 - f1: 0.6657 - 8s/epoch - 156ms/step\n",
            "Epoch 13/200\n",
            "4/4 [==============================] - 1s 36ms/step\n",
            "\n",
            "Epoch 00013: f1 improved from 0.70682 to 0.72435, saving model to /content/drive/MyDrive/DLHProject/jobs/finetune_pretrain_20_weights_65sec_spectrogram/best_model.weights\n",
            "50/50 - 9s - loss: 0.1073 - acc: 0.9629 - val_loss: 0.8878 - val_acc: 0.8197 - f1: 0.7244 - 9s/epoch - 172ms/step\n",
            "Epoch 14/200\n",
            "4/4 [==============================] - 1s 36ms/step\n",
            "\n",
            "Epoch 00014: f1 (0.49585) did not improve from 0.72435\n",
            "50/50 - 8s - loss: 0.0912 - acc: 0.9703 - val_loss: 1.7273 - val_acc: 0.7611 - f1: 0.4959 - 8s/epoch - 155ms/step\n",
            "Epoch 15/200\n",
            "4/4 [==============================] - 1s 36ms/step\n",
            "\n",
            "Epoch 00015: f1 improved from 0.72435 to 0.74008, saving model to /content/drive/MyDrive/DLHProject/jobs/finetune_pretrain_20_weights_65sec_spectrogram/best_model.weights\n",
            "50/50 - 9s - loss: 0.0888 - acc: 0.9695 - val_loss: 1.0499 - val_acc: 0.8290 - f1: 0.7401 - 9s/epoch - 171ms/step\n",
            "Epoch 16/200\n",
            "4/4 [==============================] - 1s 36ms/step\n",
            "\n",
            "Epoch 00016: f1 improved from 0.74008 to 0.75436, saving model to /content/drive/MyDrive/DLHProject/jobs/finetune_pretrain_20_weights_65sec_spectrogram/best_model.weights\n",
            "50/50 - 9s - loss: 0.0582 - acc: 0.9800 - val_loss: 0.6863 - val_acc: 0.8290 - f1: 0.7544 - 9s/epoch - 170ms/step\n",
            "Epoch 17/200\n",
            "4/4 [==============================] - 1s 36ms/step\n",
            "\n",
            "Epoch 00017: f1 (0.74686) did not improve from 0.75436\n",
            "50/50 - 8s - loss: 0.0485 - acc: 0.9844 - val_loss: 0.7401 - val_acc: 0.8384 - f1: 0.7469 - 8s/epoch - 156ms/step\n",
            "Epoch 18/200\n",
            "4/4 [==============================] - 1s 36ms/step\n",
            "\n",
            "Epoch 00018: f1 improved from 0.75436 to 0.76220, saving model to /content/drive/MyDrive/DLHProject/jobs/finetune_pretrain_20_weights_65sec_spectrogram/best_model.weights\n",
            "50/50 - 9s - loss: 0.0342 - acc: 0.9887 - val_loss: 0.9303 - val_acc: 0.8384 - f1: 0.7622 - 9s/epoch - 170ms/step\n",
            "Epoch 19/200\n",
            "4/4 [==============================] - 1s 36ms/step\n",
            "\n",
            "Epoch 00019: f1 (0.72342) did not improve from 0.76220\n",
            "50/50 - 8s - loss: 0.0445 - acc: 0.9859 - val_loss: 0.9245 - val_acc: 0.7892 - f1: 0.7234 - 8s/epoch - 155ms/step\n",
            "Epoch 20/200\n",
            "4/4 [==============================] - 1s 36ms/step\n",
            "\n",
            "Epoch 00020: f1 (0.71044) did not improve from 0.76220\n",
            "50/50 - 8s - loss: 0.0398 - acc: 0.9856 - val_loss: 0.9992 - val_acc: 0.7892 - f1: 0.7104 - 8s/epoch - 155ms/step\n",
            "Epoch 21/200\n",
            "4/4 [==============================] - 1s 36ms/step\n",
            "\n",
            "Epoch 00021: f1 (0.68692) did not improve from 0.76220\n",
            "50/50 - 8s - loss: 0.0336 - acc: 0.9883 - val_loss: 1.3487 - val_acc: 0.7564 - f1: 0.6869 - 8s/epoch - 155ms/step\n",
            "Epoch 22/200\n",
            "4/4 [==============================] - 1s 36ms/step\n",
            "\n",
            "Epoch 00022: f1 (0.45719) did not improve from 0.76220\n",
            "50/50 - 8s - loss: 0.0368 - acc: 0.9884 - val_loss: 2.4613 - val_acc: 0.7869 - f1: 0.4572 - 8s/epoch - 155ms/step\n",
            "Epoch 23/200\n",
            "4/4 [==============================] - 1s 36ms/step\n",
            "\n",
            "Epoch 00023: f1 (0.55877) did not improve from 0.76220\n",
            "50/50 - 8s - loss: 0.0317 - acc: 0.9905 - val_loss: 1.3754 - val_acc: 0.8009 - f1: 0.5588 - 8s/epoch - 155ms/step\n",
            "Epoch 24/200\n",
            "4/4 [==============================] - 1s 35ms/step\n",
            "\n",
            "Epoch 00024: f1 (0.66951) did not improve from 0.76220\n",
            "50/50 - 8s - loss: 0.0329 - acc: 0.9891 - val_loss: 1.9030 - val_acc: 0.7939 - f1: 0.6695 - 8s/epoch - 155ms/step\n",
            "Epoch 25/200\n",
            "4/4 [==============================] - 1s 36ms/step\n",
            "\n",
            "Epoch 00025: f1 (0.74505) did not improve from 0.76220\n",
            "50/50 - 8s - loss: 0.0261 - acc: 0.9917 - val_loss: 1.1842 - val_acc: 0.8361 - f1: 0.7451 - 8s/epoch - 156ms/step\n",
            "Epoch 26/200\n",
            "4/4 [==============================] - 1s 36ms/step\n",
            "\n",
            "Epoch 00026: f1 improved from 0.76220 to 0.77139, saving model to /content/drive/MyDrive/DLHProject/jobs/finetune_pretrain_20_weights_65sec_spectrogram/best_model.weights\n",
            "50/50 - 8s - loss: 0.0171 - acc: 0.9948 - val_loss: 0.9857 - val_acc: 0.8501 - f1: 0.7714 - 8s/epoch - 170ms/step\n",
            "Epoch 27/200\n",
            "4/4 [==============================] - 1s 36ms/step\n",
            "\n",
            "Epoch 00027: f1 (0.75913) did not improve from 0.77139\n",
            "50/50 - 8s - loss: 0.0103 - acc: 0.9970 - val_loss: 0.9906 - val_acc: 0.8361 - f1: 0.7591 - 8s/epoch - 156ms/step\n",
            "Epoch 28/200\n",
            "4/4 [==============================] - 1s 36ms/step\n",
            "\n",
            "Epoch 00028: f1 (0.73454) did not improve from 0.77139\n",
            "50/50 - 8s - loss: 0.0098 - acc: 0.9972 - val_loss: 1.1000 - val_acc: 0.8244 - f1: 0.7345 - 8s/epoch - 155ms/step\n",
            "Epoch 29/200\n",
            "4/4 [==============================] - 1s 36ms/step\n",
            "\n",
            "Epoch 00029: f1 (0.75877) did not improve from 0.77139\n",
            "50/50 - 8s - loss: 0.0064 - acc: 0.9983 - val_loss: 1.2947 - val_acc: 0.8525 - f1: 0.7588 - 8s/epoch - 155ms/step\n",
            "Epoch 30/200\n",
            "4/4 [==============================] - 1s 36ms/step\n",
            "\n",
            "Epoch 00030: f1 (0.75785) did not improve from 0.77139\n",
            "50/50 - 8s - loss: 0.0031 - acc: 0.9995 - val_loss: 1.1723 - val_acc: 0.8501 - f1: 0.7579 - 8s/epoch - 155ms/step\n",
            "Epoch 31/200\n",
            "4/4 [==============================] - 1s 35ms/step\n",
            "\n",
            "Epoch 00031: f1 improved from 0.77139 to 0.78147, saving model to /content/drive/MyDrive/DLHProject/jobs/finetune_pretrain_20_weights_65sec_spectrogram/best_model.weights\n",
            "50/50 - 9s - loss: 0.0012 - acc: 0.9998 - val_loss: 1.1888 - val_acc: 0.8618 - f1: 0.7815 - 9s/epoch - 170ms/step\n",
            "Epoch 32/200\n",
            "4/4 [==============================] - 1s 35ms/step\n",
            "\n",
            "Epoch 00032: f1 improved from 0.78147 to 0.79070, saving model to /content/drive/MyDrive/DLHProject/jobs/finetune_pretrain_20_weights_65sec_spectrogram/best_model.weights\n",
            "50/50 - 9s - loss: 8.9573e-04 - acc: 1.0000 - val_loss: 1.1506 - val_acc: 0.8595 - f1: 0.7907 - 9s/epoch - 170ms/step\n",
            "Epoch 33/200\n",
            "4/4 [==============================] - 1s 36ms/step\n",
            "\n",
            "Epoch 00033: f1 (0.78224) did not improve from 0.79070\n",
            "50/50 - 8s - loss: 4.5373e-04 - acc: 1.0000 - val_loss: 1.2148 - val_acc: 0.8571 - f1: 0.7822 - 8s/epoch - 155ms/step\n",
            "Epoch 34/200\n",
            "4/4 [==============================] - 1s 37ms/step\n",
            "\n",
            "Epoch 00034: f1 (0.78052) did not improve from 0.79070\n",
            "50/50 - 8s - loss: 3.8537e-04 - acc: 1.0000 - val_loss: 1.2347 - val_acc: 0.8595 - f1: 0.7805 - 8s/epoch - 155ms/step\n",
            "Epoch 35/200\n",
            "4/4 [==============================] - 1s 36ms/step\n",
            "\n",
            "Epoch 00035: f1 (0.77279) did not improve from 0.79070\n",
            "50/50 - 8s - loss: 3.2229e-04 - acc: 1.0000 - val_loss: 1.2210 - val_acc: 0.8501 - f1: 0.7728 - 8s/epoch - 155ms/step\n",
            "Epoch 36/200\n",
            "4/4 [==============================] - 1s 36ms/step\n",
            "\n",
            "Epoch 00036: f1 (0.77114) did not improve from 0.79070\n",
            "50/50 - 8s - loss: 2.2218e-04 - acc: 1.0000 - val_loss: 1.2240 - val_acc: 0.8501 - f1: 0.7711 - 8s/epoch - 155ms/step\n",
            "Epoch 37/200\n",
            "4/4 [==============================] - 1s 36ms/step\n",
            "\n",
            "Epoch 00037: f1 (0.78307) did not improve from 0.79070\n",
            "50/50 - 8s - loss: 2.0492e-04 - acc: 1.0000 - val_loss: 1.2276 - val_acc: 0.8525 - f1: 0.7831 - 8s/epoch - 155ms/step\n",
            "Epoch 38/200\n",
            "4/4 [==============================] - 1s 36ms/step\n",
            "\n",
            "Epoch 00038: f1 (0.78440) did not improve from 0.79070\n",
            "50/50 - 8s - loss: 1.9014e-04 - acc: 1.0000 - val_loss: 1.2458 - val_acc: 0.8548 - f1: 0.7844 - 8s/epoch - 156ms/step\n",
            "Epoch 39/200\n",
            "4/4 [==============================] - 1s 36ms/step\n",
            "\n",
            "Epoch 00039: f1 (0.78307) did not improve from 0.79070\n",
            "50/50 - 8s - loss: 1.8825e-04 - acc: 1.0000 - val_loss: 1.2364 - val_acc: 0.8525 - f1: 0.7831 - 8s/epoch - 155ms/step\n",
            "Epoch 40/200\n",
            "4/4 [==============================] - 1s 36ms/step\n",
            "\n",
            "Epoch 00040: f1 (0.78440) did not improve from 0.79070\n",
            "50/50 - 8s - loss: 1.5705e-04 - acc: 1.0000 - val_loss: 1.2506 - val_acc: 0.8548 - f1: 0.7844 - 8s/epoch - 160ms/step\n",
            "Epoch 41/200\n",
            "4/4 [==============================] - 1s 36ms/step\n",
            "\n",
            "Epoch 00041: f1 (0.76277) did not improve from 0.79070\n",
            "50/50 - 8s - loss: 1.8761e-04 - acc: 1.0000 - val_loss: 1.2515 - val_acc: 0.8431 - f1: 0.7628 - 8s/epoch - 155ms/step\n",
            "Epoch 42/200\n",
            "4/4 [==============================] - 1s 36ms/step\n",
            "\n",
            "Epoch 00042: f1 (0.77170) did not improve from 0.79070\n",
            "50/50 - 8s - loss: 1.8995e-04 - acc: 1.0000 - val_loss: 1.2538 - val_acc: 0.8478 - f1: 0.7717 - 8s/epoch - 155ms/step\n",
            "Epoch 43/200\n",
            "4/4 [==============================] - 1s 36ms/step\n",
            "\n",
            "Epoch 00043: f1 (0.77717) did not improve from 0.79070\n",
            "50/50 - 8s - loss: 1.5345e-04 - acc: 1.0000 - val_loss: 1.2644 - val_acc: 0.8501 - f1: 0.7772 - 8s/epoch - 155ms/step\n",
            "Epoch 44/200\n",
            "4/4 [==============================] - 1s 36ms/step\n",
            "\n",
            "Epoch 00044: f1 (0.77583) did not improve from 0.79070\n",
            "50/50 - 8s - loss: 1.3588e-04 - acc: 1.0000 - val_loss: 1.2701 - val_acc: 0.8478 - f1: 0.7758 - 8s/epoch - 155ms/step\n",
            "Epoch 45/200\n",
            "4/4 [==============================] - 1s 36ms/step\n",
            "\n",
            "Epoch 00045: f1 (0.78307) did not improve from 0.79070\n",
            "50/50 - 8s - loss: 1.1528e-04 - acc: 1.0000 - val_loss: 1.2793 - val_acc: 0.8525 - f1: 0.7831 - 8s/epoch - 156ms/step\n",
            "Epoch 46/200\n",
            "4/4 [==============================] - 1s 36ms/step\n",
            "\n",
            "Epoch 00046: f1 (0.78307) did not improve from 0.79070\n",
            "50/50 - 8s - loss: 1.3651e-04 - acc: 1.0000 - val_loss: 1.2557 - val_acc: 0.8525 - f1: 0.7831 - 8s/epoch - 156ms/step\n",
            "Epoch 47/200\n",
            "4/4 [==============================] - 1s 36ms/step\n",
            "\n",
            "Epoch 00047: f1 (0.78574) did not improve from 0.79070\n",
            "50/50 - 8s - loss: 1.2727e-04 - acc: 1.0000 - val_loss: 1.2862 - val_acc: 0.8571 - f1: 0.7857 - 8s/epoch - 155ms/step\n",
            "Epoch 48/200\n",
            "4/4 [==============================] - 1s 35ms/step\n",
            "\n",
            "Epoch 00048: f1 (0.78574) did not improve from 0.79070\n",
            "50/50 - 8s - loss: 1.0150e-04 - acc: 1.0000 - val_loss: 1.3018 - val_acc: 0.8571 - f1: 0.7857 - 8s/epoch - 155ms/step\n",
            "Epoch 49/200\n",
            "4/4 [==============================] - 1s 36ms/step\n",
            "\n",
            "Epoch 00049: f1 (0.77985) did not improve from 0.79070\n",
            "50/50 - 8s - loss: 9.0066e-05 - acc: 1.0000 - val_loss: 1.3045 - val_acc: 0.8548 - f1: 0.7798 - 8s/epoch - 155ms/step\n",
            "Epoch 50/200\n",
            "4/4 [==============================] - 1s 36ms/step\n",
            "\n",
            "Epoch 00050: f1 (0.77381) did not improve from 0.79070\n",
            "50/50 - 8s - loss: 1.1353e-04 - acc: 1.0000 - val_loss: 1.3211 - val_acc: 0.8548 - f1: 0.7738 - 8s/epoch - 156ms/step\n",
            "Epoch 51/200\n",
            "4/4 [==============================] - 1s 36ms/step\n",
            "\n",
            "Epoch 00051: f1 (0.75985) did not improve from 0.79070\n",
            "50/50 - 8s - loss: 1.3236e-04 - acc: 1.0000 - val_loss: 1.4059 - val_acc: 0.8478 - f1: 0.7598 - 8s/epoch - 155ms/step\n",
            "Epoch 52/200\n",
            "4/4 [==============================] - 1s 36ms/step\n",
            "\n",
            "Epoch 00052: f1 (0.77136) did not improve from 0.79070\n",
            "50/50 - 8s - loss: 1.4867e-04 - acc: 1.0000 - val_loss: 1.3567 - val_acc: 0.8454 - f1: 0.7714 - 8s/epoch - 155ms/step\n",
            "Epoch 53/200\n",
            "4/4 [==============================] - 1s 35ms/step\n",
            "\n",
            "Epoch 00053: f1 (0.77758) did not improve from 0.79070\n",
            "50/50 - 8s - loss: 8.6900e-05 - acc: 1.0000 - val_loss: 1.3276 - val_acc: 0.8501 - f1: 0.7776 - 8s/epoch - 155ms/step\n",
            "Epoch 54/200\n",
            "4/4 [==============================] - 1s 36ms/step\n",
            "\n",
            "Epoch 00054: f1 (0.77542) did not improve from 0.79070\n",
            "50/50 - 8s - loss: 7.5848e-05 - acc: 1.0000 - val_loss: 1.3596 - val_acc: 0.8501 - f1: 0.7754 - 8s/epoch - 156ms/step\n",
            "Epoch 55/200\n",
            "4/4 [==============================] - 1s 36ms/step\n",
            "\n",
            "Epoch 00055: f1 (0.78036) did not improve from 0.79070\n",
            "50/50 - 8s - loss: 7.7400e-05 - acc: 1.0000 - val_loss: 1.3628 - val_acc: 0.8501 - f1: 0.7804 - 8s/epoch - 155ms/step\n",
            "Epoch 56/200\n",
            "4/4 [==============================] - 1s 36ms/step\n",
            "\n",
            "Epoch 00056: f1 (0.78438) did not improve from 0.79070\n",
            "50/50 - 8s - loss: 6.8123e-05 - acc: 1.0000 - val_loss: 1.3746 - val_acc: 0.8571 - f1: 0.7844 - 8s/epoch - 155ms/step\n",
            "Epoch 57/200\n",
            "4/4 [==============================] - 1s 36ms/step\n",
            "\n",
            "Epoch 00057: f1 (0.78303) did not improve from 0.79070\n",
            "50/50 - 8s - loss: 5.7017e-05 - acc: 1.0000 - val_loss: 1.3813 - val_acc: 0.8548 - f1: 0.7830 - 8s/epoch - 156ms/step\n",
            "Epoch 58/200\n",
            "4/4 [==============================] - 1s 36ms/step\n",
            "\n",
            "Epoch 00058: f1 (0.77678) did not improve from 0.79070\n",
            "50/50 - 8s - loss: 6.1158e-05 - acc: 1.0000 - val_loss: 1.3843 - val_acc: 0.8501 - f1: 0.7768 - 8s/epoch - 156ms/step\n",
            "Epoch 58: early stopping\n",
            "Loading the best weights from file /content/drive/MyDrive/DLHProject/jobs/finetune_pretrain_20_weights_65sec_spectrogram/best_model.weights ...\n",
            "Predicting training data ...\n",
            "50/50 [==============================] - 2s 36ms/step\n",
            "Predicting validation data ...\n",
            "4/4 [==============================] - 0s 36ms/step\n",
            "Predicting test data ...\n",
            "14/14 [==============================] - 1s 76ms/step\n",
            "CPU times: user 4.04 s, sys: 708 ms, total: 4.75 s\n",
            "Wall time: 11min 11s\n"
          ]
        }
      ],
      "source": [
        "%%time\n",
        "!python -m finetuning.trainer \\\n",
        "--job-dir $job_dir \\\n",
        "--train $train \\\n",
        "--test $test \\\n",
        "--weights-file $WEIGHTS_FILE \\\n",
        "--val-size 0.0625 \\\n",
        "--val-metric \"f1\" \\\n",
        "--arch \"resnet18_2d\" \\\n",
        "--batch-size 128 \\\n",
        "--epochs 200 \\\n",
        "--seed 2024 \\\n",
        "--verbose"
      ]
    },
    {
      "cell_type": "markdown",
      "metadata": {
        "id": "QdSDq1xU1UHz"
      },
      "source": [
        "It took 11m 11s to run 50 epochs, as the paper authors have set up early stopping to end training if the loss on validation set does not decrease for more than 50 epochs.\n",
        "\n"
      ]
    },
    {
      "cell_type": "code",
      "execution_count": 20,
      "metadata": {
        "colab": {
          "base_uri": "https://localhost:8080/"
        },
        "id": "IEeqoHpGRVY-",
        "outputId": "f46d978a-6367-4044-f012-757f58266053"
      },
      "outputs": [
        {
          "name": "stdout",
          "output_type": "stream",
          "text": [
            "environment.yml  finetune_runner.py  jupyter_notebooks\tpretraining  README.md\trequirements.txt\n",
            "example.ipynb\t finetuning\t     LICENSE\t\tproposal     report\ttransplant\n"
          ]
        }
      ],
      "source": [
        "! cd $job_dir\n",
        "! ls"
      ]
    },
    {
      "cell_type": "code",
      "execution_count": 21,
      "metadata": {
        "colab": {
          "base_uri": "https://localhost:8080/",
          "height": 206
        },
        "id": "_LYTdXZ3SCQI",
        "outputId": "31def02e-13e6-4738-dca0-aecf5f26abe9"
      },
      "outputs": [
        {
          "data": {
            "application/vnd.google.colaboratory.intrinsic+json": {
              "summary": "{\n  \"name\": \"history\",\n  \"rows\": 58,\n  \"fields\": [\n    {\n      \"column\": \"epoch\",\n      \"properties\": {\n        \"dtype\": \"number\",\n        \"std\": 16,\n        \"min\": 0,\n        \"max\": 57,\n        \"num_unique_values\": 58,\n        \"samples\": [\n          0,\n          5,\n          34\n        ],\n        \"semantic_type\": \"\",\n        \"description\": \"\"\n      }\n    },\n    {\n      \"column\": \"acc\",\n      \"properties\": {\n        \"dtype\": \"number\",\n        \"std\": 0.05110946621424448,\n        \"min\": 0.7399531006813049,\n        \"max\": 1.0,\n        \"num_unique_values\": 32,\n        \"samples\": [\n          0.9995309114456176,\n          0.9799843430519104,\n          0.9917122721672058\n        ],\n        \"semantic_type\": \"\",\n        \"description\": \"\"\n      }\n    },\n    {\n      \"column\": \"f1\",\n      \"properties\": {\n        \"dtype\": \"number\",\n        \"std\": 0.1436025881690466,\n        \"min\": 0.1638794744417104,\n        \"max\": 0.7907034283218293,\n        \"num_unique_values\": 53,\n        \"samples\": [\n          0.7104368893921971,\n          0.7758334072869396,\n          0.7775793650793651\n        ],\n        \"semantic_type\": \"\",\n        \"description\": \"\"\n      }\n    },\n    {\n      \"column\": \"loss\",\n      \"properties\": {\n        \"dtype\": \"number\",\n        \"std\": 0.13554673921767463,\n        \"min\": 5.701653572032228e-05,\n        \"max\": 0.6676695346832275,\n        \"num_unique_values\": 58,\n        \"samples\": [\n          0.6676695346832275,\n          0.2887165546417236,\n          0.000322293897625\n        ],\n        \"semantic_type\": \"\",\n        \"description\": \"\"\n      }\n    },\n    {\n      \"column\": \"val_acc\",\n      \"properties\": {\n        \"dtype\": \"number\",\n        \"std\": 0.10578148478527649,\n        \"min\": 0.299765795469284,\n        \"max\": 0.8618267178535461,\n        \"num_unique_values\": 28,\n        \"samples\": [\n          0.8196721076965332,\n          0.8430913090705872,\n          0.7447306513786316\n        ],\n        \"semantic_type\": \"\",\n        \"description\": \"\"\n      }\n    },\n    {\n      \"column\": \"val_loss\",\n      \"properties\": {\n        \"dtype\": \"number\",\n        \"std\": 0.3588084740066741,\n        \"min\": 0.4495745897293091,\n        \"max\": 2.461310863494873,\n        \"num_unique_values\": 58,\n        \"samples\": [\n          0.7148431539535522,\n          0.7704324722290039,\n          1.2210123538970947\n        ],\n        \"semantic_type\": \"\",\n        \"description\": \"\"\n      }\n    }\n  ]\n}",
              "type": "dataframe",
              "variable_name": "history"
            },
            "text/html": [
              "\n",
              "  <div id=\"df-ad3bc4ab-9c4e-40f9-8c77-14b23a6041bc\" class=\"colab-df-container\">\n",
              "    <div>\n",
              "<style scoped>\n",
              "    .dataframe tbody tr th:only-of-type {\n",
              "        vertical-align: middle;\n",
              "    }\n",
              "\n",
              "    .dataframe tbody tr th {\n",
              "        vertical-align: top;\n",
              "    }\n",
              "\n",
              "    .dataframe thead th {\n",
              "        text-align: right;\n",
              "    }\n",
              "</style>\n",
              "<table border=\"1\" class=\"dataframe\">\n",
              "  <thead>\n",
              "    <tr style=\"text-align: right;\">\n",
              "      <th></th>\n",
              "      <th>epoch</th>\n",
              "      <th>acc</th>\n",
              "      <th>f1</th>\n",
              "      <th>loss</th>\n",
              "      <th>val_acc</th>\n",
              "      <th>val_loss</th>\n",
              "    </tr>\n",
              "  </thead>\n",
              "  <tbody>\n",
              "    <tr>\n",
              "      <th>0</th>\n",
              "      <td>0</td>\n",
              "      <td>0.739953</td>\n",
              "      <td>0.414326</td>\n",
              "      <td>0.667670</td>\n",
              "      <td>0.688525</td>\n",
              "      <td>0.714843</td>\n",
              "    </tr>\n",
              "    <tr>\n",
              "      <th>1</th>\n",
              "      <td>1</td>\n",
              "      <td>0.841282</td>\n",
              "      <td>0.163879</td>\n",
              "      <td>0.432175</td>\n",
              "      <td>0.299766</td>\n",
              "      <td>1.823976</td>\n",
              "    </tr>\n",
              "    <tr>\n",
              "      <th>2</th>\n",
              "      <td>2</td>\n",
              "      <td>0.855825</td>\n",
              "      <td>0.197550</td>\n",
              "      <td>0.383515</td>\n",
              "      <td>0.327869</td>\n",
              "      <td>1.641245</td>\n",
              "    </tr>\n",
              "    <tr>\n",
              "      <th>3</th>\n",
              "      <td>3</td>\n",
              "      <td>0.875215</td>\n",
              "      <td>0.340952</td>\n",
              "      <td>0.342986</td>\n",
              "      <td>0.573770</td>\n",
              "      <td>1.465950</td>\n",
              "    </tr>\n",
              "    <tr>\n",
              "      <th>4</th>\n",
              "      <td>4</td>\n",
              "      <td>0.884128</td>\n",
              "      <td>0.516218</td>\n",
              "      <td>0.312859</td>\n",
              "      <td>0.807963</td>\n",
              "      <td>0.702650</td>\n",
              "    </tr>\n",
              "  </tbody>\n",
              "</table>\n",
              "</div>\n",
              "    <div class=\"colab-df-buttons\">\n",
              "\n",
              "  <div class=\"colab-df-container\">\n",
              "    <button class=\"colab-df-convert\" onclick=\"convertToInteractive('df-ad3bc4ab-9c4e-40f9-8c77-14b23a6041bc')\"\n",
              "            title=\"Convert this dataframe to an interactive table.\"\n",
              "            style=\"display:none;\">\n",
              "\n",
              "  <svg xmlns=\"http://www.w3.org/2000/svg\" height=\"24px\" viewBox=\"0 -960 960 960\">\n",
              "    <path d=\"M120-120v-720h720v720H120Zm60-500h600v-160H180v160Zm220 220h160v-160H400v160Zm0 220h160v-160H400v160ZM180-400h160v-160H180v160Zm440 0h160v-160H620v160ZM180-180h160v-160H180v160Zm440 0h160v-160H620v160Z\"/>\n",
              "  </svg>\n",
              "    </button>\n",
              "\n",
              "  <style>\n",
              "    .colab-df-container {\n",
              "      display:flex;\n",
              "      gap: 12px;\n",
              "    }\n",
              "\n",
              "    .colab-df-convert {\n",
              "      background-color: #E8F0FE;\n",
              "      border: none;\n",
              "      border-radius: 50%;\n",
              "      cursor: pointer;\n",
              "      display: none;\n",
              "      fill: #1967D2;\n",
              "      height: 32px;\n",
              "      padding: 0 0 0 0;\n",
              "      width: 32px;\n",
              "    }\n",
              "\n",
              "    .colab-df-convert:hover {\n",
              "      background-color: #E2EBFA;\n",
              "      box-shadow: 0px 1px 2px rgba(60, 64, 67, 0.3), 0px 1px 3px 1px rgba(60, 64, 67, 0.15);\n",
              "      fill: #174EA6;\n",
              "    }\n",
              "\n",
              "    .colab-df-buttons div {\n",
              "      margin-bottom: 4px;\n",
              "    }\n",
              "\n",
              "    [theme=dark] .colab-df-convert {\n",
              "      background-color: #3B4455;\n",
              "      fill: #D2E3FC;\n",
              "    }\n",
              "\n",
              "    [theme=dark] .colab-df-convert:hover {\n",
              "      background-color: #434B5C;\n",
              "      box-shadow: 0px 1px 3px 1px rgba(0, 0, 0, 0.15);\n",
              "      filter: drop-shadow(0px 1px 2px rgba(0, 0, 0, 0.3));\n",
              "      fill: #FFFFFF;\n",
              "    }\n",
              "  </style>\n",
              "\n",
              "    <script>\n",
              "      const buttonEl =\n",
              "        document.querySelector('#df-ad3bc4ab-9c4e-40f9-8c77-14b23a6041bc button.colab-df-convert');\n",
              "      buttonEl.style.display =\n",
              "        google.colab.kernel.accessAllowed ? 'block' : 'none';\n",
              "\n",
              "      async function convertToInteractive(key) {\n",
              "        const element = document.querySelector('#df-ad3bc4ab-9c4e-40f9-8c77-14b23a6041bc');\n",
              "        const dataTable =\n",
              "          await google.colab.kernel.invokeFunction('convertToInteractive',\n",
              "                                                    [key], {});\n",
              "        if (!dataTable) return;\n",
              "\n",
              "        const docLinkHtml = 'Like what you see? Visit the ' +\n",
              "          '<a target=\"_blank\" href=https://colab.research.google.com/notebooks/data_table.ipynb>data table notebook</a>'\n",
              "          + ' to learn more about interactive tables.';\n",
              "        element.innerHTML = '';\n",
              "        dataTable['output_type'] = 'display_data';\n",
              "        await google.colab.output.renderOutput(dataTable, element);\n",
              "        const docLink = document.createElement('div');\n",
              "        docLink.innerHTML = docLinkHtml;\n",
              "        element.appendChild(docLink);\n",
              "      }\n",
              "    </script>\n",
              "  </div>\n",
              "\n",
              "\n",
              "<div id=\"df-d8ddd296-0794-431d-8bd1-4ce076fd8c32\">\n",
              "  <button class=\"colab-df-quickchart\" onclick=\"quickchart('df-d8ddd296-0794-431d-8bd1-4ce076fd8c32')\"\n",
              "            title=\"Suggest charts\"\n",
              "            style=\"display:none;\">\n",
              "\n",
              "<svg xmlns=\"http://www.w3.org/2000/svg\" height=\"24px\"viewBox=\"0 0 24 24\"\n",
              "     width=\"24px\">\n",
              "    <g>\n",
              "        <path d=\"M19 3H5c-1.1 0-2 .9-2 2v14c0 1.1.9 2 2 2h14c1.1 0 2-.9 2-2V5c0-1.1-.9-2-2-2zM9 17H7v-7h2v7zm4 0h-2V7h2v10zm4 0h-2v-4h2v4z\"/>\n",
              "    </g>\n",
              "</svg>\n",
              "  </button>\n",
              "\n",
              "<style>\n",
              "  .colab-df-quickchart {\n",
              "      --bg-color: #E8F0FE;\n",
              "      --fill-color: #1967D2;\n",
              "      --hover-bg-color: #E2EBFA;\n",
              "      --hover-fill-color: #174EA6;\n",
              "      --disabled-fill-color: #AAA;\n",
              "      --disabled-bg-color: #DDD;\n",
              "  }\n",
              "\n",
              "  [theme=dark] .colab-df-quickchart {\n",
              "      --bg-color: #3B4455;\n",
              "      --fill-color: #D2E3FC;\n",
              "      --hover-bg-color: #434B5C;\n",
              "      --hover-fill-color: #FFFFFF;\n",
              "      --disabled-bg-color: #3B4455;\n",
              "      --disabled-fill-color: #666;\n",
              "  }\n",
              "\n",
              "  .colab-df-quickchart {\n",
              "    background-color: var(--bg-color);\n",
              "    border: none;\n",
              "    border-radius: 50%;\n",
              "    cursor: pointer;\n",
              "    display: none;\n",
              "    fill: var(--fill-color);\n",
              "    height: 32px;\n",
              "    padding: 0;\n",
              "    width: 32px;\n",
              "  }\n",
              "\n",
              "  .colab-df-quickchart:hover {\n",
              "    background-color: var(--hover-bg-color);\n",
              "    box-shadow: 0 1px 2px rgba(60, 64, 67, 0.3), 0 1px 3px 1px rgba(60, 64, 67, 0.15);\n",
              "    fill: var(--button-hover-fill-color);\n",
              "  }\n",
              "\n",
              "  .colab-df-quickchart-complete:disabled,\n",
              "  .colab-df-quickchart-complete:disabled:hover {\n",
              "    background-color: var(--disabled-bg-color);\n",
              "    fill: var(--disabled-fill-color);\n",
              "    box-shadow: none;\n",
              "  }\n",
              "\n",
              "  .colab-df-spinner {\n",
              "    border: 2px solid var(--fill-color);\n",
              "    border-color: transparent;\n",
              "    border-bottom-color: var(--fill-color);\n",
              "    animation:\n",
              "      spin 1s steps(1) infinite;\n",
              "  }\n",
              "\n",
              "  @keyframes spin {\n",
              "    0% {\n",
              "      border-color: transparent;\n",
              "      border-bottom-color: var(--fill-color);\n",
              "      border-left-color: var(--fill-color);\n",
              "    }\n",
              "    20% {\n",
              "      border-color: transparent;\n",
              "      border-left-color: var(--fill-color);\n",
              "      border-top-color: var(--fill-color);\n",
              "    }\n",
              "    30% {\n",
              "      border-color: transparent;\n",
              "      border-left-color: var(--fill-color);\n",
              "      border-top-color: var(--fill-color);\n",
              "      border-right-color: var(--fill-color);\n",
              "    }\n",
              "    40% {\n",
              "      border-color: transparent;\n",
              "      border-right-color: var(--fill-color);\n",
              "      border-top-color: var(--fill-color);\n",
              "    }\n",
              "    60% {\n",
              "      border-color: transparent;\n",
              "      border-right-color: var(--fill-color);\n",
              "    }\n",
              "    80% {\n",
              "      border-color: transparent;\n",
              "      border-right-color: var(--fill-color);\n",
              "      border-bottom-color: var(--fill-color);\n",
              "    }\n",
              "    90% {\n",
              "      border-color: transparent;\n",
              "      border-bottom-color: var(--fill-color);\n",
              "    }\n",
              "  }\n",
              "</style>\n",
              "\n",
              "  <script>\n",
              "    async function quickchart(key) {\n",
              "      const quickchartButtonEl =\n",
              "        document.querySelector('#' + key + ' button');\n",
              "      quickchartButtonEl.disabled = true;  // To prevent multiple clicks.\n",
              "      quickchartButtonEl.classList.add('colab-df-spinner');\n",
              "      try {\n",
              "        const charts = await google.colab.kernel.invokeFunction(\n",
              "            'suggestCharts', [key], {});\n",
              "      } catch (error) {\n",
              "        console.error('Error during call to suggestCharts:', error);\n",
              "      }\n",
              "      quickchartButtonEl.classList.remove('colab-df-spinner');\n",
              "      quickchartButtonEl.classList.add('colab-df-quickchart-complete');\n",
              "    }\n",
              "    (() => {\n",
              "      let quickchartButtonEl =\n",
              "        document.querySelector('#df-d8ddd296-0794-431d-8bd1-4ce076fd8c32 button');\n",
              "      quickchartButtonEl.style.display =\n",
              "        google.colab.kernel.accessAllowed ? 'block' : 'none';\n",
              "    })();\n",
              "  </script>\n",
              "</div>\n",
              "\n",
              "    </div>\n",
              "  </div>\n"
            ],
            "text/plain": [
              "   epoch       acc        f1      loss   val_acc  val_loss\n",
              "0      0  0.739953  0.414326  0.667670  0.688525  0.714843\n",
              "1      1  0.841282  0.163879  0.432175  0.299766  1.823976\n",
              "2      2  0.855825  0.197550  0.383515  0.327869  1.641245\n",
              "3      3  0.875215  0.340952  0.342986  0.573770  1.465950\n",
              "4      4  0.884128  0.516218  0.312859  0.807963  0.702650"
            ]
          },
          "execution_count": 21,
          "metadata": {},
          "output_type": "execute_result"
        }
      ],
      "source": [
        "import pandas as pd\n",
        "\n",
        "history = pd.read_csv(job_dir + '/history.csv')\n",
        "history.head()"
      ]
    },
    {
      "cell_type": "code",
      "execution_count": 22,
      "metadata": {
        "colab": {
          "base_uri": "https://localhost:8080/",
          "height": 455
        },
        "id": "fqTE6OncScQs",
        "outputId": "b18b7e1f-c84d-4521-e68e-b180be355e40"
      },
      "outputs": [
        {
          "data": {
            "image/png": "[encoded data removed]",
            "text/plain": [
              "<Figure size 640x480 with 1 Axes>"
            ]
          },
          "metadata": {},
          "output_type": "display_data"
        }
      ],
      "source": [
        "from matplotlib import pyplot as plt\n",
        "\n",
        "_ = plt.plot(history['epoch'], history['f1'], color='tab:red')\n",
        "_ = plt.xlabel('Epoch')\n",
        "_ = plt.ylabel('Validation F1')\n",
        "ax = plt.gca()\n",
        "_ = ax.set_xlim([0, 140])\n",
        "_ = ax.set_ylim([0.5, 1.0])"
      ]
    },
    {
      "cell_type": "code",
      "execution_count": null,
      "metadata": {
        "id": "wkSo7dInODmp"
      },
      "outputs": [],
      "source": []
    }
  ],
  "metadata": {
    "accelerator": "GPU",
    "colab": {
      "gpuType": "V100",
      "machine_shape": "hm",
      "provenance": []
    },
    "kernelspec": {
      "display_name": "Python 3",
      "name": "python3"
    },
    "language_info": {
      "name": "python"
    }
  },
  "nbformat": 4,
  "nbformat_minor": 0
}
