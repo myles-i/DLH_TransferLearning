{
  "cells": [
    {
      "cell_type": "markdown",
      "metadata": {
        "id": "JKyaFxKpwDF9"
      },
      "source": [
        "Instructions to run the `finetune_runner.py` script to generate additional fine-tuning results for each of the 3 weights scenarios:\n",
        "\n",
        "1. `random`\n",
        "2. `10` (10% pre-train weights)\n",
        "3. `20` (20% pre-train weights)\n",
        "\n",
        "Data refers to the percentage of patients in the _Icentia11K_ dataset.\n",
        "\n",
        "## Instructions\n",
        "\n",
        "Prerequisites:\n",
        "\n",
        "- Google Colab Pro\n",
        "- V100 GPU\n",
        "\n",
        "\n",
        "### Select instance\n",
        "\n",
        "Select V100 GPU runtime."
      ]
    },
    {
      "cell_type": "markdown",
      "metadata": {
        "id": "2eDeQUIx2AdP"
      },
      "source": [
        "### Clone Git repo"
      ]
    },
    {
      "cell_type": "code",
      "execution_count": 18,
      "metadata": {
        "colab": {
          "base_uri": "https://localhost:8080/"
        },
        "id": "FoHTm9Fz2BM9",
        "outputId": "4aebb931-a38a-423d-ffb4-b196a51af6ee"
      },
      "outputs": [
        {
          "name": "stdout",
          "output_type": "stream",
          "text": [
            "/root\n",
            "/root/DLH_TransferLearning\n"
          ]
        }
      ],
      "source": [
        "%cd /root\n",
        "! git clone https://github.com/myles-i/DLH_TransferLearning.git\n",
        "%cd DLH_TransferLearning"
      ]
    },
    {
      "cell_type": "markdown",
      "metadata": {
        "id": "SPw1-7Fw38el"
      },
      "source": [
        "### Install dependencies\n",
        "\n"
      ]
    },
    {
      "cell_type": "code",
      "execution_count": 24,
      "metadata": {
        "id": "wLPArTJF4CbC"
      },
      "outputs": [],
      "source": [
        "%%capture\n",
        "! pip install -r requirements.txt"
      ]
    },
    {
      "cell_type": "markdown",
      "metadata": {
        "id": "hvYiiuY919T5"
      },
      "source": [
        "### Mount Google Drive"
      ]
    },
    {
      "cell_type": "code",
      "execution_count": 1,
      "metadata": {
        "colab": {
          "base_uri": "https://localhost:8080/"
        },
        "id": "_LGFwWzAwAux",
        "outputId": "339dac40-2894-422c-fc8f-b3586d9f2dc1"
      },
      "outputs": [
        {
          "name": "stdout",
          "output_type": "stream",
          "text": [
            "Mounted at /content/drive\n"
          ]
        }
      ],
      "source": [
        "from google.colab import drive\n",
        "drive.mount('/content/drive')"
      ]
    },
    {
      "cell_type": "markdown",
      "metadata": {
        "id": "913MhsuXxIXx"
      },
      "source": [
        "### Determine path to data and job directories on Drive\n",
        "\n",
        "Example for me:\n",
        "\n",
        "`/content/drive/MyDrive/DLHProject`\n",
        "\n",
        "where `DLHProject` is the name of my shortcut for the shared folder."
      ]
    },
    {
      "cell_type": "code",
      "execution_count": 2,
      "metadata": {
        "id": "1IpLm1B7xkHA"
      },
      "outputs": [],
      "source": [
        "PROJECT_DIR = '/content/drive/MyDrive/DLHProject'\n",
        "DATA_DIR = PROJECT_DIR + '/data'\n",
        "JOB_DIR = PROJECT_DIR + '/jobs'"
      ]
    },
    {
      "cell_type": "markdown",
      "metadata": {
        "id": "2GOIAm5-x9ON"
      },
      "source": [
        "Verify that the `PROJECT_DIR` is correct for you."
      ]
    },
    {
      "cell_type": "code",
      "execution_count": 4,
      "metadata": {
        "colab": {
          "base_uri": "https://localhost:8080/"
        },
        "id": "wLCUHYWYx7I0",
        "outputId": "cdbee395-802a-42c2-9105-95a5ce64b38e"
      },
      "outputs": [
        {
          "name": "stdout",
          "output_type": "stream",
          "text": [
            "icentia11k\t\t    icentia11k_subset_corrupted\t\tphysionet_data.zip\n",
            "icentia11k_corrupted\t    icentia11k_subset_unzipped\t\tphysionet_finetune\n",
            "icentia11k_mini_subset\t    icentia11k_subset.zip\t\tphysionet_preread\n",
            "icentia11k_mini_subset.zip  physionet\t\t\t\tsession_checkpoint.dat\n",
            "icentia11k_subset\t    physionet_250hz_15000pad_norm_True\ttemp.torrent\n"
          ]
        }
      ],
      "source": [
        "!ls $DATA_DIR"
      ]
    },
    {
      "cell_type": "code",
      "execution_count": 5,
      "metadata": {
        "colab": {
          "base_uri": "https://localhost:8080/"
        },
        "id": "jAvH753pyDjh",
        "outputId": "48742659-c157-4869-de7a-1ff1427b218b"
      },
      "outputs": [
        {
          "name": "stdout",
          "output_type": "stream",
          "text": [
            "beat_classification\t\t    finetune_pretrain_20_weights_65sec\n",
            "draft_demo\t\t\t    finetune_random_cnn_original_data\n",
            "finetune_baseline_65sec\t\t    finetune_random_cnn_original_data_with_f1\n",
            "finetune_pretrain_10_weights_65sec\n"
          ]
        }
      ],
      "source": [
        "!ls $JOB_DIR"
      ]
    },
    {
      "cell_type": "markdown",
      "metadata": {
        "id": "YaYonXk3yOsN"
      },
      "source": [
        "Set up the paths to the input PhysioNet fine-tuning dataset (65 second).\n",
        "\n",
        "I've also provided the path to the 60 second dataset in case we cover that for our project."
      ]
    },
    {
      "cell_type": "code",
      "execution_count": 10,
      "metadata": {
        "colab": {
          "base_uri": "https://localhost:8080/"
        },
        "id": "dgpD-sw6ybIH",
        "outputId": "45d9d814-70fe-46c7-976a-659a7030a283"
      },
      "outputs": [
        {
          "name": "stdout",
          "output_type": "stream",
          "text": [
            "-rw------- 1 root root 408M Mar 31 10:32 /content/drive/MyDrive/DLHProject/data/physionet_finetune/physionet_train.pkl\n",
            "-rw------- 1 root root 102M Mar 31 10:33 /content/drive/MyDrive/DLHProject/data/physionet_finetune/physionet_test.pkl\n"
          ]
        }
      ],
      "source": [
        "# This is 65 second long sampling\n",
        "INPUT_DATA_DIR_NAME = 'physionet_finetune'\n",
        "# This is 60 second long sampling, if we follow paper strictly.\n",
        "# INPUT_DATA_DIR_NAME = physionet_250hz_15000pad_norm_True\n",
        "PHYSIONET_DATA_DIR = DATA_DIR + '/' + INPUT_DATA_DIR_NAME\n",
        "PHYSIONET_TRAIN = PHYSIONET_DATA_DIR + \"/physionet_train.pkl\"\n",
        "PHYSIONET_TEST = PHYSIONET_DATA_DIR + \"/physionet_test.pkl\"\n",
        "!ls -lh $PHYSIONET_TRAIN\n",
        "!ls -lh $PHYSIONET_TEST"
      ]
    },
    {
      "cell_type": "markdown",
      "metadata": {
        "id": "beHfm5sPzbGa"
      },
      "source": [
        "# Run in Colab cell\n",
        "Sample command for running the fine-tuning trainer.\n",
        "\n",
        "Must be in repo root directory.\n",
        "\n",
        "Run the below cell, copy the output, modify as needed."
      ]
    },
    {
      "cell_type": "code",
      "execution_count": 31,
      "metadata": {
        "colab": {
          "base_uri": "https://localhost:8080/"
        },
        "id": "c7e7Pz2BzxrK",
        "outputId": "90c94818-45ac-4745-9cab-1fe3ecef8d60"
      },
      "outputs": [
        {
          "name": "stdout",
          "output_type": "stream",
          "text": [
            "%%time\n",
            "! python finetune_runner.py \\\n",
            " --weights-type [fill in] \\\n",
            " --job-base-dir /content/drive/MyDrive/DLHProject/jobs \\\n",
            " --train /content/drive/MyDrive/DLHProject/data/physionet_finetune/physionet_train.pkl \\\n",
            " --test /content/drive/MyDrive/DLHProject/data/physionet_finetune/physionet_test.pkl \\\n",
            " --weights-file [do not provide if --weights-type is random] \\\n",
            " --batch-size 128 \\\n",
            " --epochs 200 \\\n",
            " --seed [fill in, see the Experiments document] \\\n",
            " --dryrun\n"
          ]
        }
      ],
      "source": [
        "terminal_command = (\n",
        "    f'%%time\\n! python finetune_runner.py \\\\\\n'\n",
        "    f' --weights-type [fill in] \\\\\\n'\n",
        "    f' --job-base-dir {JOB_DIR} \\\\\\n'\n",
        "    f' --train {PHYSIONET_TRAIN} \\\\\\n'\n",
        "    f' --test {PHYSIONET_TEST} \\\\\\n'\n",
        "    f' --weights-file [do not provide if --weights-type is random] \\\\\\n'\n",
        "    # Optimal for V100 GPU\n",
        "    f' --batch-size 128 \\\\\\n'\n",
        "    f' --epochs 200 \\\\\\n'\n",
        "    f' --seed [fill in, see the Experiments document] \\\\\\n'\n",
        "    f' --dryrun'\n",
        ")\n",
        "print(terminal_command)\n"
      ]
    },
    {
      "cell_type": "markdown",
      "metadata": {
        "id": "kKTayry73XbX"
      },
      "source": [
        "**Strongly recommended** If you run this command with `--dryrun` you can do sanity check that things look ok."
      ]
    },
    {
      "cell_type": "code",
      "execution_count": 26,
      "metadata": {
        "colab": {
          "base_uri": "https://localhost:8080/"
        },
        "id": "DYqUNwLO0-bl",
        "outputId": "e60c654d-aef3-4082-e058-9f96d96c8672"
      },
      "outputs": [
        {
          "name": "stdout",
          "output_type": "stream",
          "text": [
            "========================================\n",
            "Finetuning output job dir: /content/drive/MyDrive/DLHProject/jobs/finetune__random_seed1\n",
            "========================================\n",
            "Configured command:\n",
            "python -u -m finetuning.trainer --job-dir /content/drive/MyDrive/DLHProject/jobs/finetune__random_seed1 --train /content/drive/MyDrive/DLHProject/data/physionet_finetune/physionet_train.pkl --test /content/drive/MyDrive/DLHProject/data/physionet_finetune/physionet_test.pkl --val-size 0.0625 --val-metric f1 --arch resnet18 --batch-size 128 --epochs 200\n",
            "========================================\n",
            "Dryrun -- Exiting.\n",
            "CPU times: user 6.42 ms, sys: 1.08 ms, total: 7.5 ms\n",
            "Wall time: 110 ms\n"
          ]
        }
      ],
      "source": [
        "%%time\n",
        "! python finetune_runner.py \\\n",
        " --weights-type random \\\n",
        " --job-base-dir /content/drive/MyDrive/DLHProject/jobs \\\n",
        " --train /content/drive/MyDrive/DLHProject/data/physionet_finetune/physionet_train.pkl \\\n",
        " --test /content/drive/MyDrive/DLHProject/data/physionet_finetune/physionet_test.pkl \\\n",
        " --batch-size 128 \\\n",
        " --epochs 200 \\\n",
        " --seed 1 \\\n",
        " --dryrun"
      ]
    },
    {
      "cell_type": "markdown",
      "metadata": {},
      "source": [
        "It's possible to loop this command. Make sure the dry run for a single seed\n",
        "works before proceeding. The below command will also perform dry run.\n",
        "\n",
        "Here the `seq` will produce the list of 10 seeds (10, 20, ..., 100) as agreed\n",
        "upon.\n",
        "\n",
        "The `-P 1` should make the xargs work in sequential order; we can't do parallel\n",
        "fine-tuning jobs due to batch size chosen to maximize V100 GPU RAM.\n",
        "\n",
        "The `-I {}` tells xargs to substitute occurrences of `{}` in the stuff coming\n",
        "after `xargs` with items it receives from standard input, specifically the\n",
        "sequence of seeds."
      ]
    },
    {
      "cell_type": "code",
      "execution_count": null,
      "metadata": {
        "vscode": {
          "languageId": "plaintext"
        }
      },
      "outputs": [],
      "source": [
        "! seq 10 10 100 | xargs -P 1 -I {} python finetune_runner.py \\\n",
        " --weights-type random \\\n",
        " --job-base-dir /content/drive/MyDrive/DLHProject/jobs \\\n",
        " --train /content/drive/MyDrive/DLHProject/data/physionet_finetune/physionet_train.pkl \\\n",
        " --test /content/drive/MyDrive/DLHProject/data/physionet_finetune/physionet_test.pkl \\\n",
        " --batch-size 128 \\\n",
        " --epochs 200 \\\n",
        " --seed '{}' \\\n",
        " --dryrun"
      ]
    },
    {
      "cell_type": "markdown",
      "metadata": {
        "id": "I7wBL2FW63VR"
      },
      "source": [
        "If above looks ok, then comment out the `--dryrun` and run it!\n",
        "\n",
        "Note: this will produce a lot of output. The `finetune_runner.py` script will\n",
        "save the total runtime to a file in the job's output directory so no need to\n",
        "worry about searching the output for the wall time.\n",
        "\n",
        "You may also consider adding `%%capture` cell magic at the top of the cell, e.g.\n",
        "\n",
        "```\n",
        "%%capture\n",
        "! seq 10 10 100 | xargs ...\n",
        "```"
      ]
    },
    {
      "cell_type": "code",
      "execution_count": null,
      "metadata": {
        "vscode": {
          "languageId": "plaintext"
        }
      },
      "outputs": [],
      "source": []
    }
  ],
  "metadata": {
    "accelerator": "GPU",
    "colab": {
      "gpuType": "V100",
      "provenance": []
    },
    "kernelspec": {
      "display_name": "Python 3",
      "name": "python3"
    },
    "language_info": {
      "name": "python"
    }
  },
  "nbformat": 4,
  "nbformat_minor": 0
}
